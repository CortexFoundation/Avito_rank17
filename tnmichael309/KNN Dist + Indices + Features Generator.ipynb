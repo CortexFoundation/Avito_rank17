{
 "cells": [
  {
   "cell_type": "code",
   "execution_count": 1,
   "metadata": {},
   "outputs": [],
   "source": [
    "import pandas as pd\n",
    "import numpy as np\n",
    "import gc; gc.enable()\n",
    "import lightgbm as lgb\n",
    "import warnings \n",
    "warnings.filterwarnings('ignore')\n",
    "\n",
    "from GridSearcher import data_loader, model_loader, fit_params, get_oof_predictions"
   ]
  },
  {
   "cell_type": "code",
   "execution_count": 2,
   "metadata": {},
   "outputs": [],
   "source": [
    "DATA_TYPE = 'sparse'\n",
    "DATA_NORMALIZE = True\n",
    "IS_REGRESSION = True\n",
    "SEED = 519"
   ]
  },
  {
   "cell_type": "code",
   "execution_count": 3,
   "metadata": {},
   "outputs": [
    {
     "name": "stdout",
     "output_type": "stream",
     "text": [
      "Arguments: sparse True True\n",
      "target loaded\n"
     ]
    }
   ],
   "source": [
    "dl = data_loader(data_type=DATA_TYPE, is_regression=IS_REGRESSION, is_train=True, is_pure=True)\n",
    "train_X, train_y = dl.load()"
   ]
  },
  {
   "cell_type": "code",
   "execution_count": 4,
   "metadata": {},
   "outputs": [
    {
     "name": "stdout",
     "output_type": "stream",
     "text": [
      "Arguments: sparse True False\n",
      "target loaded\n"
     ]
    }
   ],
   "source": [
    "dl_test = data_loader(data_type=DATA_TYPE, is_regression=IS_REGRESSION, is_train=False, is_pure=True)\n",
    "test_X = dl_test.load()"
   ]
  },
  {
   "cell_type": "code",
   "execution_count": 5,
   "metadata": {},
   "outputs": [
    {
     "data": {
      "text/plain": [
       "((1503424, 38406), (1503424,), (508438, 38406))"
      ]
     },
     "execution_count": 5,
     "metadata": {},
     "output_type": "execute_result"
    }
   ],
   "source": [
    "train_X.shape, train_y.shape, test_X.shape"
   ]
  },
  {
   "cell_type": "code",
   "execution_count": 6,
   "metadata": {},
   "outputs": [
    {
     "data": {
      "text/plain": [
       "array([0.    , 0.    , 0.    , ..., 0.7376, 0.    , 0.7376])"
      ]
     },
     "execution_count": 6,
     "metadata": {},
     "output_type": "execute_result"
    }
   ],
   "source": [
    "train_y"
   ]
  },
  {
   "cell_type": "code",
   "execution_count": 7,
   "metadata": {},
   "outputs": [],
   "source": [
    "del train_X, test_X"
   ]
  },
  {
   "cell_type": "code",
   "execution_count": 8,
   "metadata": {},
   "outputs": [],
   "source": [
    "import pickle\n",
    "with open('reduced_sparse_features.pickle', 'rb') as handle:\n",
    "    all_features = pickle.load(handle)"
   ]
  },
  {
   "cell_type": "code",
   "execution_count": 9,
   "metadata": {},
   "outputs": [],
   "source": [
    "train_X, test_X = all_features[:len(train_y), :], all_features[len(train_y):, :]"
   ]
  },
  {
   "cell_type": "code",
   "execution_count": 10,
   "metadata": {},
   "outputs": [
    {
     "data": {
      "text/plain": [
       "((1503424, 300), (508438, 300))"
      ]
     },
     "execution_count": 10,
     "metadata": {},
     "output_type": "execute_result"
    }
   ],
   "source": [
    "del all_features\n",
    "train_X.shape, test_X.shape"
   ]
  },
  {
   "cell_type": "code",
   "execution_count": 11,
   "metadata": {},
   "outputs": [
    {
     "data": {
      "text/plain": [
       "0"
      ]
     },
     "execution_count": 11,
     "metadata": {},
     "output_type": "execute_result"
    }
   ],
   "source": [
    "gc.collect()"
   ]
  },
  {
   "cell_type": "markdown",
   "metadata": {},
   "source": [
    "## Do k-means to create groups"
   ]
  },
  {
   "cell_type": "code",
   "execution_count": 12,
   "metadata": {},
   "outputs": [],
   "source": [
    "from sklearn.cluster import MiniBatchKMeans"
   ]
  },
  {
   "cell_type": "code",
   "execution_count": 13,
   "metadata": {},
   "outputs": [],
   "source": [
    "group_num = 30"
   ]
  },
  {
   "cell_type": "code",
   "execution_count": 14,
   "metadata": {
    "scrolled": true
   },
   "outputs": [
    {
     "name": "stdout",
     "output_type": "stream",
     "text": [
      "Init 1/3 with method: k-means++\n",
      "Inertia for init 1/3: 1831370.205926\n",
      "Init 2/3 with method: k-means++\n",
      "Inertia for init 2/3: 1827829.293101\n",
      "Init 3/3 with method: k-means++\n",
      "Inertia for init 3/3: 1799955.195155\n",
      "Minibatch iteration 1/1600: mean batch inertia: 5.997702, ewa inertia: 5.997702 \n",
      "Minibatch iteration 2/1600: mean batch inertia: 5.917720, ewa inertia: 5.987062 \n",
      "Minibatch iteration 3/1600: mean batch inertia: 5.869316, ewa inertia: 5.971399 \n",
      "Minibatch iteration 4/1600: mean batch inertia: 5.848887, ewa inertia: 5.955101 \n",
      "Minibatch iteration 5/1600: mean batch inertia: 5.827393, ewa inertia: 5.938112 \n",
      "Minibatch iteration 6/1600: mean batch inertia: 5.814473, ewa inertia: 5.921664 \n",
      "Minibatch iteration 7/1600: mean batch inertia: 5.795214, ewa inertia: 5.904843 \n",
      "Minibatch iteration 8/1600: mean batch inertia: 5.790057, ewa inertia: 5.889573 \n",
      "Minibatch iteration 9/1600: mean batch inertia: 5.788202, ewa inertia: 5.876087 \n",
      "Minibatch iteration 10/1600: mean batch inertia: 5.774070, ewa inertia: 5.862516 \n",
      "Minibatch iteration 11/1600: mean batch inertia: 5.769902, ewa inertia: 5.850196 \n",
      "Minibatch iteration 12/1600: mean batch inertia: 5.775353, ewa inertia: 5.840239 \n",
      "Minibatch iteration 13/1600: mean batch inertia: 5.767837, ewa inertia: 5.830608 \n",
      "Minibatch iteration 14/1600: mean batch inertia: 5.772000, ewa inertia: 5.822811 \n",
      "Minibatch iteration 15/1600: mean batch inertia: 5.763771, ewa inertia: 5.814957 \n",
      "Minibatch iteration 16/1600: mean batch inertia: 5.761663, ewa inertia: 5.807867 \n",
      "Minibatch iteration 17/1600: mean batch inertia: 5.766578, ewa inertia: 5.802375 \n",
      "Minibatch iteration 18/1600: mean batch inertia: 5.754070, ewa inertia: 5.795949 \n",
      "Minibatch iteration 19/1600: mean batch inertia: 5.756697, ewa inertia: 5.790727 \n",
      "Minibatch iteration 20/1600: mean batch inertia: 5.764137, ewa inertia: 5.787190 \n",
      "Minibatch iteration 21/1600: mean batch inertia: 5.753415, ewa inertia: 5.782697 \n",
      "Minibatch iteration 22/1600: mean batch inertia: 5.759573, ewa inertia: 5.779621 \n",
      "Minibatch iteration 23/1600: mean batch inertia: 5.755512, ewa inertia: 5.776413 \n",
      "Minibatch iteration 24/1600: mean batch inertia: 5.758420, ewa inertia: 5.774020 \n",
      "Minibatch iteration 25/1600: mean batch inertia: 5.757742, ewa inertia: 5.771854 \n",
      "Minibatch iteration 26/1600: mean batch inertia: 5.751835, ewa inertia: 5.769191 \n",
      "Minibatch iteration 27/1600: mean batch inertia: 5.749896, ewa inertia: 5.766624 \n",
      "Minibatch iteration 28/1600: mean batch inertia: 5.743238, ewa inertia: 5.763513 \n",
      "Minibatch iteration 29/1600: mean batch inertia: 5.744047, ewa inertia: 5.760924 \n",
      "Minibatch iteration 30/1600: mean batch inertia: 5.743133, ewa inertia: 5.758557 \n",
      "Minibatch iteration 31/1600: mean batch inertia: 5.751765, ewa inertia: 5.757653 \n",
      "Minibatch iteration 32/1600: mean batch inertia: 5.743747, ewa inertia: 5.755803 \n",
      "Minibatch iteration 33/1600: mean batch inertia: 5.737704, ewa inertia: 5.753396 \n",
      "Minibatch iteration 34/1600: mean batch inertia: 5.739887, ewa inertia: 5.751599 \n",
      "Minibatch iteration 35/1600: mean batch inertia: 5.743671, ewa inertia: 5.750544 \n",
      "Minibatch iteration 36/1600: mean batch inertia: 5.745746, ewa inertia: 5.749906 \n",
      "Minibatch iteration 37/1600: mean batch inertia: 5.746693, ewa inertia: 5.749478 \n",
      "Minibatch iteration 38/1600: mean batch inertia: 5.745116, ewa inertia: 5.748898 \n",
      "Minibatch iteration 39/1600: mean batch inertia: 5.746865, ewa inertia: 5.748628 \n",
      "Minibatch iteration 40/1600: mean batch inertia: 5.750425, ewa inertia: 5.748867 \n",
      "Minibatch iteration 41/1600: mean batch inertia: 5.746966, ewa inertia: 5.748614 \n",
      "Minibatch iteration 42/1600: mean batch inertia: 5.744420, ewa inertia: 5.748056 \n",
      "Minibatch iteration 43/1600: mean batch inertia: 5.740292, ewa inertia: 5.747023 \n",
      "Minibatch iteration 44/1600: mean batch inertia: 5.747875, ewa inertia: 5.747136 \n",
      "Minibatch iteration 45/1600: mean batch inertia: 5.750954, ewa inertia: 5.747644 \n",
      "Minibatch iteration 46/1600: mean batch inertia: 5.735443, ewa inertia: 5.746021 \n",
      "Minibatch iteration 47/1600: mean batch inertia: 5.744463, ewa inertia: 5.745814 \n",
      "Minibatch iteration 48/1600: mean batch inertia: 5.753253, ewa inertia: 5.746803 \n",
      "Minibatch iteration 49/1600: mean batch inertia: 5.739028, ewa inertia: 5.745769 \n",
      "Minibatch iteration 50/1600: mean batch inertia: 5.739845, ewa inertia: 5.744981 \n",
      "Minibatch iteration 51/1600: mean batch inertia: 5.733683, ewa inertia: 5.743478 \n",
      "Minibatch iteration 52/1600: mean batch inertia: 5.735646, ewa inertia: 5.742436 \n",
      "Minibatch iteration 53/1600: mean batch inertia: 5.741067, ewa inertia: 5.742254 \n",
      "Minibatch iteration 54/1600: mean batch inertia: 5.752743, ewa inertia: 5.743649 \n",
      "Minibatch iteration 55/1600: mean batch inertia: 5.737217, ewa inertia: 5.742794 \n",
      "Minibatch iteration 56/1600: mean batch inertia: 5.739012, ewa inertia: 5.742291 \n",
      "Minibatch iteration 57/1600: mean batch inertia: 5.745899, ewa inertia: 5.742771 \n",
      "Minibatch iteration 58/1600: mean batch inertia: 5.739973, ewa inertia: 5.742399 \n",
      "Minibatch iteration 59/1600: mean batch inertia: 5.741658, ewa inertia: 5.742300 \n",
      "Minibatch iteration 60/1600: mean batch inertia: 5.749080, ewa inertia: 5.743202 \n",
      "Minibatch iteration 61/1600: mean batch inertia: 5.737067, ewa inertia: 5.742386 \n",
      "Minibatch iteration 62/1600: mean batch inertia: 5.745541, ewa inertia: 5.742806 \n",
      "Minibatch iteration 63/1600: mean batch inertia: 5.739333, ewa inertia: 5.742344 \n",
      "Converged (lack of improvement in inertia) at iteration 63/1600\n",
      "Computing label assignment and total inertia\n"
     ]
    }
   ],
   "source": [
    "km = MiniBatchKMeans(n_clusters=group_num, batch_size=100000, verbose=1000, random_state=877, reassignment_ratio=0.6)\n",
    "train_group = km.fit_predict(train_X)"
   ]
  },
  {
   "cell_type": "code",
   "execution_count": 15,
   "metadata": {
    "scrolled": true
   },
   "outputs": [
    {
     "name": "stdout",
     "output_type": "stream",
     "text": [
      "Computing label assignment and total inertia\n"
     ]
    }
   ],
   "source": [
    "test_group = km.predict(test_X)"
   ]
  },
  {
   "cell_type": "code",
   "execution_count": 16,
   "metadata": {},
   "outputs": [
    {
     "data": {
      "text/plain": [
       "((1503424,), (508438,))"
      ]
     },
     "execution_count": 16,
     "metadata": {},
     "output_type": "execute_result"
    }
   ],
   "source": [
    "train_group.shape, test_group.shape"
   ]
  },
  {
   "cell_type": "markdown",
   "metadata": {},
   "source": [
    "## Within-group KNN in TF"
   ]
  },
  {
   "cell_type": "code",
   "execution_count": 17,
   "metadata": {},
   "outputs": [],
   "source": [
    "import matplotlib.pyplot as plt\n",
    "import numpy as np\n",
    "import tensorflow as tf\n",
    "from tensorflow.python.framework import ops\n",
    "from tqdm import tqdm\n",
    "\n",
    "ops.reset_default_graph()"
   ]
  },
  {
   "cell_type": "code",
   "execution_count": 18,
   "metadata": {},
   "outputs": [
    {
     "name": "stdout",
     "output_type": "stream",
     "text": [
      "[name: \"/device:CPU:0\"\n",
      "device_type: \"CPU\"\n",
      "memory_limit: 268435456\n",
      "locality {\n",
      "}\n",
      "incarnation: 122720747942679054\n",
      ", name: \"/device:GPU:0\"\n",
      "device_type: \"GPU\"\n",
      "memory_limit: 3174131302\n",
      "locality {\n",
      "  bus_id: 1\n",
      "  links {\n",
      "  }\n",
      "}\n",
      "incarnation: 1450885511418735386\n",
      "physical_device_desc: \"device: 0, name: GeForce GTX 1050 Ti, pci bus id: 0000:01:00.0, compute capability: 6.1\"\n",
      "]\n"
     ]
    }
   ],
   "source": [
    "sess = tf.Session(config=tf.ConfigProto(log_device_placement=True))\n",
    "from tensorflow.python.client import device_lib\n",
    "print(device_lib.list_local_devices())"
   ]
  },
  {
   "cell_type": "code",
   "execution_count": 19,
   "metadata": {},
   "outputs": [],
   "source": [
    "k = 50\n",
    "DEBUG = False"
   ]
  },
  {
   "cell_type": "code",
   "execution_count": 20,
   "metadata": {},
   "outputs": [],
   "source": [
    "x_data_train = tf.placeholder(shape=[None, train_X.shape[1]], dtype=tf.float32)\n",
    "x_data_test = tf.placeholder(shape=[None, train_X.shape[1]], dtype=tf.float32)\n",
    "\n",
    "y_target_train = tf.placeholder(shape=[None, 1], dtype=tf.float32)\n",
    "y_target_test = tf.placeholder(shape=[None, 1], dtype=tf.float32)"
   ]
  },
  {
   "cell_type": "code",
   "execution_count": 21,
   "metadata": {},
   "outputs": [],
   "source": [
    "#L1 \n",
    "#distance = tf.reduce_sum(tf.abs(tf.subtract(x_data_train, tf.expand_dims(x_data_test,1))), axis=2)\n",
    "\n",
    "#L2\n",
    "distance = tf.sqrt(tf.reduce_sum(tf.square(tf.subtract(x_data_train, tf.expand_dims(x_data_test,1))), axis=2))"
   ]
  },
  {
   "cell_type": "code",
   "execution_count": 22,
   "metadata": {},
   "outputs": [],
   "source": [
    "top_k_xvals, top_k_indices = tf.nn.top_k(tf.negative(distance), k=k)"
   ]
  },
  {
   "cell_type": "code",
   "execution_count": 23,
   "metadata": {},
   "outputs": [],
   "source": [
    "def get_predictions(tr_x, te_x, batch_size=2, is_removed_first=False):\n",
    "    num_loops = int(np.ceil(te_x.shape[0]/batch_size))\n",
    "\n",
    "    k_xvals, k_indices = [], []\n",
    "    \n",
    "    for i in tqdm(range(num_loops)):\n",
    "        min_index = i*batch_size\n",
    "        max_index = min((i+1)*batch_size, te_x.shape[0])\n",
    "        x_batch = te_x[min_index:max_index, :]\n",
    "    \n",
    "        if DEBUG:\n",
    "            print('Distances')\n",
    "            print(sess.run(distance, \n",
    "                                    feed_dict={\n",
    "                                        x_data_train: tr_x, x_data_test: x_batch\n",
    "                                    }))\n",
    "        \n",
    "        \n",
    "        k_xval, k_indice = sess.run([top_k_xvals, top_k_indices], \n",
    "                                    feed_dict={\n",
    "                                        x_data_train: tr_x, x_data_test: x_batch\n",
    "                                    })\n",
    "        \n",
    "        k_xval = np.array(k_xval)\n",
    "        k_indice = np.array(k_indice)\n",
    "        \n",
    "        if is_removed_first:\n",
    "            k_xvals.extend(k_xval[:,1:]*-1)\n",
    "            k_indices.extend(k_indice[:,1:])\n",
    "        else:\n",
    "            k_xvals.extend(k_xval*-1)\n",
    "            k_indices.extend(k_indice)\n",
    "            \n",
    "        if DEBUG:\n",
    "            print(k_xval, k_indice, k_xvals, k_indices)\n",
    "            \n",
    "        del k_xval, k_indice; gc.collect()\n",
    "        \n",
    "    return k_xvals, k_indices"
   ]
  },
  {
   "cell_type": "markdown",
   "metadata": {},
   "source": [
    "## By cluster"
   ]
  },
  {
   "cell_type": "code",
   "execution_count": 24,
   "metadata": {
    "scrolled": true
   },
   "outputs": [
    {
     "name": "stdout",
     "output_type": "stream",
     "text": [
      "(33007, 300) (12547, 300)\n"
     ]
    },
    {
     "name": "stderr",
     "output_type": "stream",
     "text": [
      "100%|██████████████████████████████████████████████████████████████████████████████| 1032/1032 [02:24<00:00,  7.16it/s]\n",
      "100%|████████████████████████████████████████████████████████████████████████████████| 393/393 [00:54<00:00,  7.17it/s]\n"
     ]
    },
    {
     "name": "stdout",
     "output_type": "stream",
     "text": [
      "(74433, 300) (25166, 300)\n"
     ]
    },
    {
     "name": "stderr",
     "output_type": "stream",
     "text": [
      "100%|██████████████████████████████████████████████████████████████████████████████| 2327/2327 [10:05<00:00,  3.85it/s]\n",
      "100%|████████████████████████████████████████████████████████████████████████████████| 787/787 [03:25<00:00,  3.83it/s]\n"
     ]
    },
    {
     "name": "stdout",
     "output_type": "stream",
     "text": [
      "(49632, 300) (15207, 300)\n"
     ]
    },
    {
     "name": "stderr",
     "output_type": "stream",
     "text": [
      "100%|██████████████████████████████████████████████████████████████████████████████| 1551/1551 [04:48<00:00,  5.38it/s]\n",
      "100%|████████████████████████████████████████████████████████████████████████████████| 476/476 [01:28<00:00,  5.36it/s]\n"
     ]
    },
    {
     "name": "stdout",
     "output_type": "stream",
     "text": [
      "(32292, 300) (12008, 300)\n"
     ]
    },
    {
     "name": "stderr",
     "output_type": "stream",
     "text": [
      "100%|██████████████████████████████████████████████████████████████████████████████| 1010/1010 [02:17<00:00,  7.34it/s]\n",
      "100%|████████████████████████████████████████████████████████████████████████████████| 376/376 [00:51<00:00,  7.30it/s]\n"
     ]
    },
    {
     "name": "stdout",
     "output_type": "stream",
     "text": [
      "(151452, 300) (44930, 300)\n"
     ]
    },
    {
     "name": "stderr",
     "output_type": "stream",
     "text": [
      "100%|██████████████████████████████████████████████████████████████████████████| 75726/75726 [4:04:10<00:00,  5.17it/s]\n",
      "100%|██████████████████████████████████████████████████████████████████████████| 22465/22465 [1:13:25<00:00,  5.10it/s]\n"
     ]
    },
    {
     "name": "stdout",
     "output_type": "stream",
     "text": [
      "(14972, 300) (5120, 300)\n"
     ]
    },
    {
     "name": "stderr",
     "output_type": "stream",
     "text": [
      "100%|████████████████████████████████████████████████████████████████████████████████| 468/468 [00:39<00:00, 11.82it/s]\n",
      "100%|████████████████████████████████████████████████████████████████████████████████| 160/160 [00:13<00:00, 11.81it/s]\n"
     ]
    },
    {
     "name": "stdout",
     "output_type": "stream",
     "text": [
      "(30240, 300) (11867, 300)\n"
     ]
    },
    {
     "name": "stderr",
     "output_type": "stream",
     "text": [
      "100%|████████████████████████████████████████████████████████████████████████████████| 945/945 [02:01<00:00,  7.75it/s]\n",
      "100%|████████████████████████████████████████████████████████████████████████████████| 371/371 [00:48<00:00,  7.71it/s]\n"
     ]
    },
    {
     "name": "stdout",
     "output_type": "stream",
     "text": [
      "(56022, 300) (22819, 300)\n"
     ]
    },
    {
     "name": "stderr",
     "output_type": "stream",
     "text": [
      "100%|██████████████████████████████████████████████████████████████████████████████| 1751/1751 [05:55<00:00,  4.92it/s]\n",
      "100%|████████████████████████████████████████████████████████████████████████████████| 714/714 [02:25<00:00,  4.90it/s]\n"
     ]
    },
    {
     "name": "stdout",
     "output_type": "stream",
     "text": [
      "(73752, 300) (25668, 300)\n"
     ]
    },
    {
     "name": "stderr",
     "output_type": "stream",
     "text": [
      "100%|██████████████████████████████████████████████████████████████████████████████| 2305/2305 [09:47<00:00,  3.92it/s]\n",
      "100%|████████████████████████████████████████████████████████████████████████████████| 803/803 [03:25<00:00,  3.91it/s]\n"
     ]
    },
    {
     "name": "stdout",
     "output_type": "stream",
     "text": [
      "(112835, 300) (43554, 300)\n"
     ]
    },
    {
     "name": "stderr",
     "output_type": "stream",
     "text": [
      "100%|██████████████████████████████████████████████████████████████████████████| 56418/56418 [2:24:33<00:00,  6.50it/s]\n",
      "100%|████████████████████████████████████████████████████████████████████████████| 21777/21777 [56:51<00:00,  6.38it/s]\n"
     ]
    },
    {
     "name": "stdout",
     "output_type": "stream",
     "text": [
      "(28339, 300) (7343, 300)\n"
     ]
    },
    {
     "name": "stderr",
     "output_type": "stream",
     "text": [
      "100%|████████████████████████████████████████████████████████████████████████████████| 886/886 [01:50<00:00,  8.02it/s]\n",
      "100%|████████████████████████████████████████████████████████████████████████████████| 230/230 [00:28<00:00,  8.00it/s]\n"
     ]
    },
    {
     "name": "stdout",
     "output_type": "stream",
     "text": [
      "(51732, 300) (15626, 300)\n"
     ]
    },
    {
     "name": "stderr",
     "output_type": "stream",
     "text": [
      "100%|██████████████████████████████████████████████████████████████████████████████| 1617/1617 [05:11<00:00,  5.19it/s]\n",
      "100%|████████████████████████████████████████████████████████████████████████████████| 489/489 [01:34<00:00,  5.17it/s]\n"
     ]
    },
    {
     "name": "stdout",
     "output_type": "stream",
     "text": [
      "(19579, 300) (7082, 300)\n"
     ]
    },
    {
     "name": "stderr",
     "output_type": "stream",
     "text": [
      "100%|████████████████████████████████████████████████████████████████████████████████| 612/612 [00:59<00:00, 10.24it/s]\n",
      "100%|████████████████████████████████████████████████████████████████████████████████| 222/222 [00:21<00:00, 10.23it/s]\n"
     ]
    },
    {
     "name": "stdout",
     "output_type": "stream",
     "text": [
      "(42700, 300) (15199, 300)\n"
     ]
    },
    {
     "name": "stderr",
     "output_type": "stream",
     "text": [
      "100%|██████████████████████████████████████████████████████████████████████████████| 1335/1335 [03:41<00:00,  6.03it/s]\n",
      "100%|████████████████████████████████████████████████████████████████████████████████| 475/475 [01:19<00:00,  6.00it/s]\n"
     ]
    },
    {
     "name": "stdout",
     "output_type": "stream",
     "text": [
      "(22398, 300) (8237, 300)\n"
     ]
    },
    {
     "name": "stderr",
     "output_type": "stream",
     "text": [
      "100%|████████████████████████████████████████████████████████████████████████████████| 700/700 [01:14<00:00,  9.37it/s]\n",
      "100%|████████████████████████████████████████████████████████████████████████████████| 258/258 [00:27<00:00,  9.34it/s]\n"
     ]
    },
    {
     "name": "stdout",
     "output_type": "stream",
     "text": [
      "(42489, 300) (12591, 300)\n"
     ]
    },
    {
     "name": "stderr",
     "output_type": "stream",
     "text": [
      "100%|██████████████████████████████████████████████████████████████████████████████| 1328/1328 [03:39<00:00,  6.05it/s]\n",
      "100%|████████████████████████████████████████████████████████████████████████████████| 394/394 [01:05<00:00,  6.03it/s]\n"
     ]
    },
    {
     "name": "stdout",
     "output_type": "stream",
     "text": [
      "(59507, 300) (18881, 300)\n"
     ]
    },
    {
     "name": "stderr",
     "output_type": "stream",
     "text": [
      "100%|██████████████████████████████████████████████████████████████████████████████| 1860/1860 [06:40<00:00,  4.64it/s]\n",
      "100%|████████████████████████████████████████████████████████████████████████████████| 591/591 [02:07<00:00,  4.62it/s]\n"
     ]
    },
    {
     "name": "stdout",
     "output_type": "stream",
     "text": [
      "(22555, 300) (8820, 300)\n"
     ]
    },
    {
     "name": "stderr",
     "output_type": "stream",
     "text": [
      "100%|████████████████████████████████████████████████████████████████████████████████| 705/705 [01:15<00:00,  9.36it/s]\n",
      "100%|████████████████████████████████████████████████████████████████████████████████| 276/276 [00:29<00:00,  9.35it/s]\n"
     ]
    },
    {
     "name": "stdout",
     "output_type": "stream",
     "text": [
      "(78313, 300) (25617, 300)\n"
     ]
    },
    {
     "name": "stderr",
     "output_type": "stream",
     "text": [
      "100%|██████████████████████████████████████████████████████████████████████████████| 2448/2448 [10:58<00:00,  3.72it/s]\n",
      "100%|████████████████████████████████████████████████████████████████████████████████| 801/801 [03:36<00:00,  3.70it/s]\n"
     ]
    },
    {
     "name": "stdout",
     "output_type": "stream",
     "text": [
      "(84177, 300) (24823, 300)\n"
     ]
    },
    {
     "name": "stderr",
     "output_type": "stream",
     "text": [
      "100%|██████████████████████████████████████████████████████████████████████████| 42089/42089 [1:28:11<00:00,  7.95it/s]\n",
      "100%|████████████████████████████████████████████████████████████████████████████| 12412/12412 [26:41<00:00,  7.75it/s]\n"
     ]
    },
    {
     "name": "stdout",
     "output_type": "stream",
     "text": [
      "(57214, 300) (16942, 300)\n"
     ]
    },
    {
     "name": "stderr",
     "output_type": "stream",
     "text": [
      "100%|██████████████████████████████████████████████████████████████████████████████| 1788/1788 [06:17<00:00,  4.74it/s]\n",
      "100%|████████████████████████████████████████████████████████████████████████████████| 530/530 [01:52<00:00,  4.73it/s]\n"
     ]
    },
    {
     "name": "stdout",
     "output_type": "stream",
     "text": [
      "(34886, 300) (12140, 300)\n"
     ]
    },
    {
     "name": "stderr",
     "output_type": "stream",
     "text": [
      "100%|██████████████████████████████████████████████████████████████████████████████| 1091/1091 [02:39<00:00,  6.84it/s]\n",
      "100%|████████████████████████████████████████████████████████████████████████████████| 380/380 [00:55<00:00,  6.80it/s]\n"
     ]
    },
    {
     "name": "stdout",
     "output_type": "stream",
     "text": [
      "(49689, 300) (17012, 300)\n"
     ]
    },
    {
     "name": "stderr",
     "output_type": "stream",
     "text": [
      "100%|██████████████████████████████████████████████████████████████████████████████| 1553/1553 [04:53<00:00,  5.28it/s]\n",
      "100%|████████████████████████████████████████████████████████████████████████████████| 532/532 [01:41<00:00,  5.25it/s]\n"
     ]
    },
    {
     "name": "stdout",
     "output_type": "stream",
     "text": [
      "(28090, 300) (9237, 300)\n"
     ]
    },
    {
     "name": "stderr",
     "output_type": "stream",
     "text": [
      "100%|████████████████████████████████████████████████████████████████████████████████| 878/878 [01:48<00:00,  8.06it/s]\n",
      "100%|████████████████████████████████████████████████████████████████████████████████| 289/289 [00:35<00:00,  8.07it/s]\n"
     ]
    },
    {
     "name": "stdout",
     "output_type": "stream",
     "text": [
      "(37561, 300) (15531, 300)\n"
     ]
    },
    {
     "name": "stderr",
     "output_type": "stream",
     "text": [
      "100%|██████████████████████████████████████████████████████████████████████████████| 1174/1174 [02:57<00:00,  6.61it/s]\n",
      "100%|████████████████████████████████████████████████████████████████████████████████| 486/486 [01:13<00:00,  6.58it/s]\n"
     ]
    },
    {
     "name": "stdout",
     "output_type": "stream",
     "text": [
      "(31679, 300) (9117, 300)\n"
     ]
    },
    {
     "name": "stderr",
     "output_type": "stream",
     "text": [
      "100%|████████████████████████████████████████████████████████████████████████████████| 990/990 [02:12<00:00,  7.45it/s]\n",
      "100%|████████████████████████████████████████████████████████████████████████████████| 285/285 [00:38<00:00,  7.43it/s]\n"
     ]
    },
    {
     "name": "stdout",
     "output_type": "stream",
     "text": [
      "(28154, 300) (9929, 300)\n"
     ]
    },
    {
     "name": "stderr",
     "output_type": "stream",
     "text": [
      "100%|████████████████████████████████████████████████████████████████████████████████| 880/880 [01:48<00:00,  8.09it/s]\n",
      "100%|████████████████████████████████████████████████████████████████████████████████| 311/311 [00:38<00:00,  8.07it/s]\n"
     ]
    },
    {
     "name": "stdout",
     "output_type": "stream",
     "text": [
      "(86283, 300) (29728, 300)\n"
     ]
    },
    {
     "name": "stderr",
     "output_type": "stream",
     "text": [
      "100%|██████████████████████████████████████████████████████████████████████████| 43142/43142 [1:32:53<00:00,  7.74it/s]\n",
      "100%|████████████████████████████████████████████████████████████████████████████| 14864/14864 [32:15<00:00,  7.68it/s]\n"
     ]
    },
    {
     "name": "stdout",
     "output_type": "stream",
     "text": [
      "(30952, 300) (12312, 300)\n"
     ]
    },
    {
     "name": "stderr",
     "output_type": "stream",
     "text": [
      "100%|████████████████████████████████████████████████████████████████████████████████| 968/968 [02:07<00:00,  7.60it/s]\n",
      "100%|████████████████████████████████████████████████████████████████████████████████| 385/385 [00:50<00:00,  7.55it/s]\n"
     ]
    },
    {
     "name": "stdout",
     "output_type": "stream",
     "text": [
      "(38490, 300) (13385, 300)\n"
     ]
    },
    {
     "name": "stderr",
     "output_type": "stream",
     "text": [
      "100%|██████████████████████████████████████████████████████████████████████████████| 1203/1203 [03:04<00:00,  6.51it/s]\n",
      "100%|████████████████████████████████████████████████████████████████████████████████| 419/419 [01:04<00:00,  6.49it/s]\n"
     ]
    }
   ],
   "source": [
    "from sklearn.model_selection import KFold\n",
    "\n",
    "for group in range(group_num):\n",
    "    train_filter = train_group == group\n",
    "    test_filter = test_group == group\n",
    "    \n",
    "    tr_X = train_X[train_filter,:]\n",
    "    te_X = test_X[test_filter,:]\n",
    "    print(tr_X.shape, te_X.shape)\n",
    "    \n",
    "    if tr_X.shape[0] > 80000:\n",
    "        batch_size = 2\n",
    "    else:\n",
    "        batch_size = 32\n",
    "        \n",
    "    train_dist, train_ind = get_predictions(tr_X, tr_X, batch_size=batch_size, is_removed_first=True)\n",
    "    test_dist, test_ind = get_predictions(tr_X, te_X, batch_size=batch_size)\n",
    "    \n",
    "    with open('knn_dist_and_ind_group_{}.data'.format(group), 'wb') as handle:\n",
    "        pickle.dump(\n",
    "            {\n",
    "                'train_filter': train_filter,\n",
    "                'test_filter': test_filter,\n",
    "                'train_dist': train_dist, \n",
    "                'train_ind': train_ind,\n",
    "                'test_dist': test_dist,\n",
    "                'test_ind': test_ind\n",
    "            }, handle)\n",
    "      \n",
    "    del train_filter, test_filter, train_dist, train_ind, test_dist, test_ind; gc.collect()"
   ]
  },
  {
   "cell_type": "markdown",
   "metadata": {},
   "source": [
    "## Transform into knn features"
   ]
  },
  {
   "cell_type": "code",
   "execution_count": 1,
   "metadata": {},
   "outputs": [],
   "source": [
    "import pandas as pd\n",
    "import numpy as np\n",
    "from tqdm import tqdm\n",
    "import pickle\n",
    "import gc; gc.enable()"
   ]
  },
  {
   "cell_type": "code",
   "execution_count": 2,
   "metadata": {},
   "outputs": [],
   "source": [
    "train_X = pd.read_csv('train.csv', parse_dates=['activation_date']).sort_values('activation_date').reset_index(drop=True)\n",
    "test_X = pd.read_csv('test.csv', parse_dates=['activation_date'])"
   ]
  },
  {
   "cell_type": "code",
   "execution_count": 3,
   "metadata": {},
   "outputs": [],
   "source": [
    "class knn_feature_wrapper():\n",
    "    def __init__(self):\n",
    "        pass\n",
    "        \n",
    "    def transform(self, X, test_X, # X, test_X are dense, and X should contain all the feature_cols\n",
    "                  group_num=30,\n",
    "                  n_list=[5, 10, 20, 40],\n",
    "                  #feature_inds=[38358, 38359],\n",
    "                  feature_cols=['price', 'item_seq_number', 'deal_probability']):\n",
    "        def get_model():\n",
    "            return model_loader(model_type='knn').load(self.params)\n",
    "        \n",
    "        def get_feature_names(n):\n",
    "            return ['{}_{}_closest_mean'.format(feat, n) for feat in feature_cols]\n",
    "        \n",
    "        train_res = pd.DataFrame()\n",
    "        test_res = pd.DataFrame()\n",
    "        for n in n_list:\n",
    "            train_res['{}_closest_avg_dist'.format(n)] = np.zeros((X.shape[0],))\n",
    "            test_res['{}_closest_avg_dist'.format(n)] = np.zeros((test_X.shape[0],))\n",
    "            for feat in feature_cols:\n",
    "                train_res['{}_{}_closest_mean'.format(feat, n)] = np.zeros((X.shape[0],))\n",
    "                test_res['{}_{}_closest_mean'.format(feat, n)] = np.zeros((test_X.shape[0],))\n",
    "        \n",
    "        for group in range(group_num):\n",
    "            with open('knn_dist_and_ind_group_{}.data'.format(group), 'rb') as handle:\n",
    "                info = pickle.load(handle)\n",
    "                '''\n",
    "                    {\n",
    "                        'train_filter': train_filter,\n",
    "                        'test_filter': test_filter,\n",
    "                        'train_dist': train_dist, \n",
    "                        'train_ind': train_ind,\n",
    "                        'test_dist': test_dist,\n",
    "                        'test_ind': test_ind\n",
    "                    }\n",
    "                '''\n",
    "\n",
    "                tr_ix = np.arange(X.shape[0])[info['train_filter']]\n",
    "                te_ix = np.arange(test_X.shape[0])[info['test_filter']]\n",
    "                tr_X = X.loc[tr_ix, :].reset_index(drop=True)\n",
    "                \n",
    "                for n in n_list:\n",
    "                    print('Processing n=', n)\n",
    "                    \n",
    "                    train_dist, train_ind = np.array(info['train_dist'])[:, :n], np.array(info['train_ind'])[:, :n]\n",
    "                    test_dist, test_ind = np.array(info['test_dist'])[:, :n], np.array(info['test_ind'])[:, :n]\n",
    "                \n",
    "                    train_res.loc[tr_ix, '{}_closest_avg_dist'.format(n)] = train_dist.mean(axis=1)\n",
    "                    train_res.loc[tr_ix, get_feature_names(n)] = \\\n",
    "                        np.array([tr_X.loc[ind, feature_cols].mean(axis=0) for ind in tqdm(train_ind)])\n",
    "                    \n",
    "                    test_res.loc[te_ix, '{}_closest_avg_dist'.format(n)] = test_dist.mean(axis=1)\n",
    "                    test_res.loc[te_ix, get_feature_names(n)] = \\\n",
    "                        np.array([tr_X.loc[ind, feature_cols].mean(axis=0) for ind in tqdm(test_ind)])\n",
    "                    \n",
    "                del tr_ix, te_ix, tr_X, info; gc.collect()\n",
    "        \n",
    "        return train_res, test_res"
   ]
  },
  {
   "cell_type": "code",
   "execution_count": 4,
   "metadata": {
    "scrolled": true
   },
   "outputs": [
    {
     "name": "stdout",
     "output_type": "stream",
     "text": [
      "Processing n= 5\n"
     ]
    },
    {
     "name": "stderr",
     "output_type": "stream",
     "text": [
      "100%|███████████████████████████████████████████████████████████████████████████| 33007/33007 [00:48<00:00, 684.98it/s]\n",
      "100%|███████████████████████████████████████████████████████████████████████████| 12547/12547 [00:17<00:00, 722.06it/s]\n"
     ]
    },
    {
     "name": "stdout",
     "output_type": "stream",
     "text": [
      "Processing n= 10\n"
     ]
    },
    {
     "name": "stderr",
     "output_type": "stream",
     "text": [
      "100%|███████████████████████████████████████████████████████████████████████████| 33007/33007 [00:47<00:00, 689.99it/s]\n",
      "100%|███████████████████████████████████████████████████████████████████████████| 12547/12547 [00:17<00:00, 714.64it/s]\n"
     ]
    },
    {
     "name": "stdout",
     "output_type": "stream",
     "text": [
      "Processing n= 20\n"
     ]
    },
    {
     "name": "stderr",
     "output_type": "stream",
     "text": [
      "100%|███████████████████████████████████████████████████████████████████████████| 33007/33007 [00:46<00:00, 715.93it/s]\n",
      "100%|███████████████████████████████████████████████████████████████████████████| 12547/12547 [00:17<00:00, 716.24it/s]\n"
     ]
    },
    {
     "name": "stdout",
     "output_type": "stream",
     "text": [
      "Processing n= 40\n"
     ]
    },
    {
     "name": "stderr",
     "output_type": "stream",
     "text": [
      "100%|███████████████████████████████████████████████████████████████████████████| 33007/33007 [00:46<00:00, 713.49it/s]\n",
      "100%|███████████████████████████████████████████████████████████████████████████| 12547/12547 [00:17<00:00, 710.65it/s]\n"
     ]
    },
    {
     "name": "stdout",
     "output_type": "stream",
     "text": [
      "Processing n= 5\n"
     ]
    },
    {
     "name": "stderr",
     "output_type": "stream",
     "text": [
      "100%|███████████████████████████████████████████████████████████████████████████| 74433/74433 [02:30<00:00, 494.23it/s]\n",
      "100%|███████████████████████████████████████████████████████████████████████████| 25166/25166 [00:51<00:00, 492.99it/s]\n"
     ]
    },
    {
     "name": "stdout",
     "output_type": "stream",
     "text": [
      "Processing n= 10\n"
     ]
    },
    {
     "name": "stderr",
     "output_type": "stream",
     "text": [
      "100%|███████████████████████████████████████████████████████████████████████████| 74433/74433 [02:30<00:00, 495.53it/s]\n",
      "100%|███████████████████████████████████████████████████████████████████████████| 25166/25166 [00:50<00:00, 498.96it/s]\n"
     ]
    },
    {
     "name": "stdout",
     "output_type": "stream",
     "text": [
      "Processing n= 20\n"
     ]
    },
    {
     "name": "stderr",
     "output_type": "stream",
     "text": [
      "100%|███████████████████████████████████████████████████████████████████████████| 74433/74433 [02:31<00:00, 492.50it/s]\n",
      "100%|███████████████████████████████████████████████████████████████████████████| 25166/25166 [00:51<00:00, 491.06it/s]\n"
     ]
    },
    {
     "name": "stdout",
     "output_type": "stream",
     "text": [
      "Processing n= 40\n"
     ]
    },
    {
     "name": "stderr",
     "output_type": "stream",
     "text": [
      "100%|███████████████████████████████████████████████████████████████████████████| 74433/74433 [02:29<00:00, 496.63it/s]\n",
      "100%|███████████████████████████████████████████████████████████████████████████| 25166/25166 [00:50<00:00, 495.42it/s]\n"
     ]
    },
    {
     "name": "stdout",
     "output_type": "stream",
     "text": [
      "Processing n= 5\n"
     ]
    },
    {
     "name": "stderr",
     "output_type": "stream",
     "text": [
      "100%|███████████████████████████████████████████████████████████████████████████| 49632/49632 [01:12<00:00, 681.76it/s]\n",
      "100%|███████████████████████████████████████████████████████████████████████████| 15207/15207 [00:22<00:00, 682.02it/s]\n"
     ]
    },
    {
     "name": "stdout",
     "output_type": "stream",
     "text": [
      "Processing n= 10\n"
     ]
    },
    {
     "name": "stderr",
     "output_type": "stream",
     "text": [
      "100%|███████████████████████████████████████████████████████████████████████████| 49632/49632 [01:12<00:00, 680.93it/s]\n",
      "100%|███████████████████████████████████████████████████████████████████████████| 15207/15207 [00:22<00:00, 679.93it/s]\n"
     ]
    },
    {
     "name": "stdout",
     "output_type": "stream",
     "text": [
      "Processing n= 20\n"
     ]
    },
    {
     "name": "stderr",
     "output_type": "stream",
     "text": [
      "100%|███████████████████████████████████████████████████████████████████████████| 49632/49632 [01:13<00:00, 677.66it/s]\n",
      "100%|███████████████████████████████████████████████████████████████████████████| 15207/15207 [00:22<00:00, 678.48it/s]\n"
     ]
    },
    {
     "name": "stdout",
     "output_type": "stream",
     "text": [
      "Processing n= 40\n"
     ]
    },
    {
     "name": "stderr",
     "output_type": "stream",
     "text": [
      "100%|███████████████████████████████████████████████████████████████████████████| 49632/49632 [01:13<00:00, 676.17it/s]\n",
      "100%|███████████████████████████████████████████████████████████████████████████| 15207/15207 [00:22<00:00, 673.57it/s]\n"
     ]
    },
    {
     "name": "stdout",
     "output_type": "stream",
     "text": [
      "Processing n= 5\n"
     ]
    },
    {
     "name": "stderr",
     "output_type": "stream",
     "text": [
      "100%|███████████████████████████████████████████████████████████████████████████| 32292/32292 [00:45<00:00, 716.47it/s]\n",
      "100%|███████████████████████████████████████████████████████████████████████████| 12008/12008 [00:16<00:00, 716.66it/s]\n"
     ]
    },
    {
     "name": "stdout",
     "output_type": "stream",
     "text": [
      "Processing n= 10\n"
     ]
    },
    {
     "name": "stderr",
     "output_type": "stream",
     "text": [
      "100%|███████████████████████████████████████████████████████████████████████████| 32292/32292 [00:45<00:00, 716.04it/s]\n",
      "100%|███████████████████████████████████████████████████████████████████████████| 12008/12008 [00:16<00:00, 716.84it/s]\n"
     ]
    },
    {
     "name": "stdout",
     "output_type": "stream",
     "text": [
      "Processing n= 20\n"
     ]
    },
    {
     "name": "stderr",
     "output_type": "stream",
     "text": [
      "100%|███████████████████████████████████████████████████████████████████████████| 32292/32292 [00:45<00:00, 713.24it/s]\n",
      "100%|███████████████████████████████████████████████████████████████████████████| 12008/12008 [00:16<00:00, 714.33it/s]\n"
     ]
    },
    {
     "name": "stdout",
     "output_type": "stream",
     "text": [
      "Processing n= 40\n"
     ]
    },
    {
     "name": "stderr",
     "output_type": "stream",
     "text": [
      "100%|███████████████████████████████████████████████████████████████████████████| 32292/32292 [00:45<00:00, 711.67it/s]\n",
      "100%|███████████████████████████████████████████████████████████████████████████| 12008/12008 [00:16<00:00, 714.78it/s]\n"
     ]
    },
    {
     "name": "stdout",
     "output_type": "stream",
     "text": [
      "Processing n= 5\n"
     ]
    },
    {
     "name": "stderr",
     "output_type": "stream",
     "text": [
      "100%|█████████████████████████████████████████████████████████████████████████| 151452/151452 [07:45<00:00, 325.30it/s]\n",
      "100%|███████████████████████████████████████████████████████████████████████████| 44930/44930 [02:17<00:00, 326.02it/s]\n"
     ]
    },
    {
     "name": "stdout",
     "output_type": "stream",
     "text": [
      "Processing n= 10\n"
     ]
    },
    {
     "name": "stderr",
     "output_type": "stream",
     "text": [
      "100%|█████████████████████████████████████████████████████████████████████████| 151452/151452 [07:46<00:00, 324.99it/s]\n",
      "100%|███████████████████████████████████████████████████████████████████████████| 44930/44930 [02:18<00:00, 325.46it/s]\n"
     ]
    },
    {
     "name": "stdout",
     "output_type": "stream",
     "text": [
      "Processing n= 20\n"
     ]
    },
    {
     "name": "stderr",
     "output_type": "stream",
     "text": [
      "100%|█████████████████████████████████████████████████████████████████████████| 151452/151452 [07:46<00:00, 324.59it/s]\n",
      "100%|███████████████████████████████████████████████████████████████████████████| 44930/44930 [02:18<00:00, 325.20it/s]\n"
     ]
    },
    {
     "name": "stdout",
     "output_type": "stream",
     "text": [
      "Processing n= 40\n"
     ]
    },
    {
     "name": "stderr",
     "output_type": "stream",
     "text": [
      "100%|█████████████████████████████████████████████████████████████████████████| 151452/151452 [07:44<00:00, 325.87it/s]\n",
      "100%|███████████████████████████████████████████████████████████████████████████| 44930/44930 [02:19<00:00, 321.50it/s]\n"
     ]
    },
    {
     "name": "stdout",
     "output_type": "stream",
     "text": [
      "Processing n= 5\n"
     ]
    },
    {
     "name": "stderr",
     "output_type": "stream",
     "text": [
      "100%|███████████████████████████████████████████████████████████████████████████| 14972/14972 [00:19<00:00, 757.72it/s]\n",
      "100%|█████████████████████████████████████████████████████████████████████████████| 5120/5120 [00:06<00:00, 757.13it/s]\n"
     ]
    },
    {
     "name": "stdout",
     "output_type": "stream",
     "text": [
      "Processing n= 10\n"
     ]
    },
    {
     "name": "stderr",
     "output_type": "stream",
     "text": [
      "100%|███████████████████████████████████████████████████████████████████████████| 14972/14972 [00:19<00:00, 755.37it/s]\n",
      "100%|█████████████████████████████████████████████████████████████████████████████| 5120/5120 [00:06<00:00, 759.70it/s]\n"
     ]
    },
    {
     "name": "stdout",
     "output_type": "stream",
     "text": [
      "Processing n= 20\n"
     ]
    },
    {
     "name": "stderr",
     "output_type": "stream",
     "text": [
      "100%|███████████████████████████████████████████████████████████████████████████| 14972/14972 [00:19<00:00, 756.24it/s]\n",
      "100%|█████████████████████████████████████████████████████████████████████████████| 5120/5120 [00:06<00:00, 760.93it/s]\n"
     ]
    },
    {
     "name": "stdout",
     "output_type": "stream",
     "text": [
      "Processing n= 40\n"
     ]
    },
    {
     "name": "stderr",
     "output_type": "stream",
     "text": [
      "100%|███████████████████████████████████████████████████████████████████████████| 14972/14972 [00:19<00:00, 756.35it/s]\n",
      "100%|█████████████████████████████████████████████████████████████████████████████| 5120/5120 [00:06<00:00, 754.88it/s]\n"
     ]
    },
    {
     "name": "stdout",
     "output_type": "stream",
     "text": [
      "Processing n= 5\n"
     ]
    },
    {
     "name": "stderr",
     "output_type": "stream",
     "text": [
      "100%|███████████████████████████████████████████████████████████████████████████| 30240/30240 [00:42<00:00, 718.89it/s]\n",
      "100%|███████████████████████████████████████████████████████████████████████████| 11867/11867 [00:16<00:00, 716.57it/s]\n"
     ]
    },
    {
     "name": "stdout",
     "output_type": "stream",
     "text": [
      "Processing n= 10\n"
     ]
    },
    {
     "name": "stderr",
     "output_type": "stream",
     "text": [
      "100%|███████████████████████████████████████████████████████████████████████████| 30240/30240 [00:42<00:00, 718.57it/s]\n",
      "100%|███████████████████████████████████████████████████████████████████████████| 11867/11867 [00:16<00:00, 719.98it/s]\n"
     ]
    },
    {
     "name": "stdout",
     "output_type": "stream",
     "text": [
      "Processing n= 20\n"
     ]
    },
    {
     "name": "stderr",
     "output_type": "stream",
     "text": [
      "100%|███████████████████████████████████████████████████████████████████████████| 30240/30240 [00:42<00:00, 717.32it/s]\n",
      "100%|███████████████████████████████████████████████████████████████████████████| 11867/11867 [00:16<00:00, 715.89it/s]\n"
     ]
    },
    {
     "name": "stdout",
     "output_type": "stream",
     "text": [
      "Processing n= 40\n"
     ]
    },
    {
     "name": "stderr",
     "output_type": "stream",
     "text": [
      "100%|███████████████████████████████████████████████████████████████████████████| 30240/30240 [00:42<00:00, 715.88it/s]\n",
      "100%|███████████████████████████████████████████████████████████████████████████| 11867/11867 [00:16<00:00, 717.55it/s]\n"
     ]
    },
    {
     "name": "stdout",
     "output_type": "stream",
     "text": [
      "Processing n= 5\n"
     ]
    },
    {
     "name": "stderr",
     "output_type": "stream",
     "text": [
      "100%|███████████████████████████████████████████████████████████████████████████| 56022/56022 [01:24<00:00, 660.37it/s]\n",
      "100%|███████████████████████████████████████████████████████████████████████████| 22819/22819 [00:34<00:00, 660.88it/s]\n"
     ]
    },
    {
     "name": "stdout",
     "output_type": "stream",
     "text": [
      "Processing n= 10\n"
     ]
    },
    {
     "name": "stderr",
     "output_type": "stream",
     "text": [
      "100%|███████████████████████████████████████████████████████████████████████████| 56022/56022 [01:24<00:00, 659.72it/s]\n",
      "100%|███████████████████████████████████████████████████████████████████████████| 22819/22819 [00:34<00:00, 662.31it/s]\n"
     ]
    },
    {
     "name": "stdout",
     "output_type": "stream",
     "text": [
      "Processing n= 20\n"
     ]
    },
    {
     "name": "stderr",
     "output_type": "stream",
     "text": [
      "100%|███████████████████████████████████████████████████████████████████████████| 56022/56022 [01:24<00:00, 659.56it/s]\n",
      "100%|███████████████████████████████████████████████████████████████████████████| 22819/22819 [00:34<00:00, 660.36it/s]\n"
     ]
    },
    {
     "name": "stdout",
     "output_type": "stream",
     "text": [
      "Processing n= 40\n"
     ]
    },
    {
     "name": "stderr",
     "output_type": "stream",
     "text": [
      "100%|███████████████████████████████████████████████████████████████████████████| 56022/56022 [01:25<00:00, 657.14it/s]\n",
      "100%|███████████████████████████████████████████████████████████████████████████| 22819/22819 [00:34<00:00, 657.86it/s]\n"
     ]
    },
    {
     "name": "stdout",
     "output_type": "stream",
     "text": [
      "Processing n= 5\n"
     ]
    },
    {
     "name": "stderr",
     "output_type": "stream",
     "text": [
      "100%|███████████████████████████████████████████████████████████████████████████| 73752/73752 [02:26<00:00, 501.72it/s]\n",
      "100%|███████████████████████████████████████████████████████████████████████████| 25668/25668 [00:51<00:00, 501.80it/s]\n"
     ]
    },
    {
     "name": "stdout",
     "output_type": "stream",
     "text": [
      "Processing n= 10\n"
     ]
    },
    {
     "name": "stderr",
     "output_type": "stream",
     "text": [
      "100%|███████████████████████████████████████████████████████████████████████████| 73752/73752 [02:26<00:00, 501.72it/s]\n",
      "100%|███████████████████████████████████████████████████████████████████████████| 25668/25668 [00:51<00:00, 503.00it/s]\n"
     ]
    },
    {
     "name": "stdout",
     "output_type": "stream",
     "text": [
      "Processing n= 20\n"
     ]
    },
    {
     "name": "stderr",
     "output_type": "stream",
     "text": [
      "100%|███████████████████████████████████████████████████████████████████████████| 73752/73752 [02:27<00:00, 499.71it/s]\n",
      "100%|███████████████████████████████████████████████████████████████████████████| 25668/25668 [00:51<00:00, 500.05it/s]\n"
     ]
    },
    {
     "name": "stdout",
     "output_type": "stream",
     "text": [
      "Processing n= 40\n"
     ]
    },
    {
     "name": "stderr",
     "output_type": "stream",
     "text": [
      "100%|███████████████████████████████████████████████████████████████████████████| 73752/73752 [02:27<00:00, 499.86it/s]\n",
      "100%|███████████████████████████████████████████████████████████████████████████| 25668/25668 [00:51<00:00, 495.59it/s]\n"
     ]
    },
    {
     "name": "stdout",
     "output_type": "stream",
     "text": [
      "Processing n= 5\n"
     ]
    },
    {
     "name": "stderr",
     "output_type": "stream",
     "text": [
      "100%|█████████████████████████████████████████████████████████████████████████| 112835/112835 [04:26<00:00, 423.66it/s]\n",
      "100%|███████████████████████████████████████████████████████████████████████████| 43554/43554 [01:43<00:00, 422.21it/s]\n"
     ]
    },
    {
     "name": "stdout",
     "output_type": "stream",
     "text": [
      "Processing n= 10\n"
     ]
    },
    {
     "name": "stderr",
     "output_type": "stream",
     "text": [
      "100%|█████████████████████████████████████████████████████████████████████████| 112835/112835 [04:27<00:00, 422.60it/s]\n",
      "100%|███████████████████████████████████████████████████████████████████████████| 43554/43554 [01:43<00:00, 420.78it/s]\n"
     ]
    },
    {
     "name": "stdout",
     "output_type": "stream",
     "text": [
      "Processing n= 20\n"
     ]
    },
    {
     "name": "stderr",
     "output_type": "stream",
     "text": [
      "100%|█████████████████████████████████████████████████████████████████████████| 112835/112835 [04:29<00:00, 419.10it/s]\n",
      "100%|███████████████████████████████████████████████████████████████████████████| 43554/43554 [01:44<00:00, 416.25it/s]\n"
     ]
    },
    {
     "name": "stdout",
     "output_type": "stream",
     "text": [
      "Processing n= 40\n"
     ]
    },
    {
     "name": "stderr",
     "output_type": "stream",
     "text": [
      "100%|█████████████████████████████████████████████████████████████████████████| 112835/112835 [04:29<00:00, 418.74it/s]\n",
      "100%|███████████████████████████████████████████████████████████████████████████| 43554/43554 [01:44<00:00, 417.41it/s]\n"
     ]
    },
    {
     "name": "stdout",
     "output_type": "stream",
     "text": [
      "Processing n= 5\n"
     ]
    },
    {
     "name": "stderr",
     "output_type": "stream",
     "text": [
      "100%|███████████████████████████████████████████████████████████████████████████| 28339/28339 [00:39<00:00, 717.70it/s]\n",
      "100%|█████████████████████████████████████████████████████████████████████████████| 7343/7343 [00:10<00:00, 718.69it/s]\n"
     ]
    },
    {
     "name": "stdout",
     "output_type": "stream",
     "text": [
      "Processing n= 10\n"
     ]
    },
    {
     "name": "stderr",
     "output_type": "stream",
     "text": [
      "100%|███████████████████████████████████████████████████████████████████████████| 28339/28339 [00:39<00:00, 718.56it/s]\n",
      "100%|█████████████████████████████████████████████████████████████████████████████| 7343/7343 [00:10<00:00, 719.73it/s]\n"
     ]
    },
    {
     "name": "stdout",
     "output_type": "stream",
     "text": [
      "Processing n= 20\n"
     ]
    },
    {
     "name": "stderr",
     "output_type": "stream",
     "text": [
      "100%|███████████████████████████████████████████████████████████████████████████| 28339/28339 [00:39<00:00, 716.02it/s]\n",
      "100%|█████████████████████████████████████████████████████████████████████████████| 7343/7343 [00:10<00:00, 715.86it/s]\n"
     ]
    },
    {
     "name": "stdout",
     "output_type": "stream",
     "text": [
      "Processing n= 40\n"
     ]
    },
    {
     "name": "stderr",
     "output_type": "stream",
     "text": [
      "100%|███████████████████████████████████████████████████████████████████████████| 28339/28339 [00:39<00:00, 714.70it/s]\n",
      "100%|█████████████████████████████████████████████████████████████████████████████| 7343/7343 [00:10<00:00, 714.78it/s]\n"
     ]
    },
    {
     "name": "stdout",
     "output_type": "stream",
     "text": [
      "Processing n= 5\n"
     ]
    },
    {
     "name": "stderr",
     "output_type": "stream",
     "text": [
      "100%|███████████████████████████████████████████████████████████████████████████| 51732/51732 [01:17<00:00, 663.49it/s]\n",
      "100%|███████████████████████████████████████████████████████████████████████████| 15626/15626 [00:23<00:00, 663.06it/s]\n"
     ]
    },
    {
     "name": "stdout",
     "output_type": "stream",
     "text": [
      "Processing n= 10\n"
     ]
    },
    {
     "name": "stderr",
     "output_type": "stream",
     "text": [
      "100%|███████████████████████████████████████████████████████████████████████████| 51732/51732 [01:18<00:00, 661.88it/s]\n",
      "100%|███████████████████████████████████████████████████████████████████████████| 15626/15626 [00:23<00:00, 653.78it/s]\n"
     ]
    },
    {
     "name": "stdout",
     "output_type": "stream",
     "text": [
      "Processing n= 20\n"
     ]
    },
    {
     "name": "stderr",
     "output_type": "stream",
     "text": [
      "100%|███████████████████████████████████████████████████████████████████████████| 51732/51732 [01:18<00:00, 661.22it/s]\n",
      "100%|███████████████████████████████████████████████████████████████████████████| 15626/15626 [00:23<00:00, 660.27it/s]\n"
     ]
    },
    {
     "name": "stdout",
     "output_type": "stream",
     "text": [
      "Processing n= 40\n"
     ]
    },
    {
     "name": "stderr",
     "output_type": "stream",
     "text": [
      "100%|███████████████████████████████████████████████████████████████████████████| 51732/51732 [01:19<00:00, 652.46it/s]\n",
      "100%|███████████████████████████████████████████████████████████████████████████| 15626/15626 [00:23<00:00, 652.57it/s]\n"
     ]
    },
    {
     "name": "stdout",
     "output_type": "stream",
     "text": [
      "Processing n= 5\n"
     ]
    },
    {
     "name": "stderr",
     "output_type": "stream",
     "text": [
      "100%|███████████████████████████████████████████████████████████████████████████| 19579/19579 [00:26<00:00, 737.56it/s]\n",
      "100%|█████████████████████████████████████████████████████████████████████████████| 7082/7082 [00:09<00:00, 738.97it/s]\n"
     ]
    },
    {
     "name": "stdout",
     "output_type": "stream",
     "text": [
      "Processing n= 10\n"
     ]
    },
    {
     "name": "stderr",
     "output_type": "stream",
     "text": [
      "100%|███████████████████████████████████████████████████████████████████████████| 19579/19579 [00:26<00:00, 736.65it/s]\n",
      "100%|█████████████████████████████████████████████████████████████████████████████| 7082/7082 [00:09<00:00, 741.06it/s]\n"
     ]
    },
    {
     "name": "stdout",
     "output_type": "stream",
     "text": [
      "Processing n= 20\n"
     ]
    },
    {
     "name": "stderr",
     "output_type": "stream",
     "text": [
      "100%|███████████████████████████████████████████████████████████████████████████| 19579/19579 [00:26<00:00, 737.24it/s]\n",
      "100%|█████████████████████████████████████████████████████████████████████████████| 7082/7082 [00:09<00:00, 739.66it/s]\n"
     ]
    },
    {
     "name": "stdout",
     "output_type": "stream",
     "text": [
      "Processing n= 40\n"
     ]
    },
    {
     "name": "stderr",
     "output_type": "stream",
     "text": [
      "100%|███████████████████████████████████████████████████████████████████████████| 19579/19579 [00:26<00:00, 734.59it/s]\n",
      "100%|█████████████████████████████████████████████████████████████████████████████| 7082/7082 [00:09<00:00, 735.77it/s]\n"
     ]
    },
    {
     "name": "stdout",
     "output_type": "stream",
     "text": [
      "Processing n= 5\n"
     ]
    },
    {
     "name": "stderr",
     "output_type": "stream",
     "text": [
      "100%|███████████████████████████████████████████████████████████████████████████| 42700/42700 [01:02<00:00, 680.16it/s]\n",
      "100%|███████████████████████████████████████████████████████████████████████████| 15199/15199 [00:22<00:00, 679.47it/s]\n"
     ]
    },
    {
     "name": "stdout",
     "output_type": "stream",
     "text": [
      "Processing n= 10\n"
     ]
    },
    {
     "name": "stderr",
     "output_type": "stream",
     "text": [
      "100%|███████████████████████████████████████████████████████████████████████████| 42700/42700 [01:02<00:00, 679.13it/s]\n",
      "100%|███████████████████████████████████████████████████████████████████████████| 15199/15199 [00:22<00:00, 681.54it/s]\n"
     ]
    },
    {
     "name": "stdout",
     "output_type": "stream",
     "text": [
      "Processing n= 20\n"
     ]
    },
    {
     "name": "stderr",
     "output_type": "stream",
     "text": [
      "100%|███████████████████████████████████████████████████████████████████████████| 42700/42700 [01:02<00:00, 678.42it/s]\n",
      "100%|███████████████████████████████████████████████████████████████████████████| 15199/15199 [00:22<00:00, 667.92it/s]\n"
     ]
    },
    {
     "name": "stdout",
     "output_type": "stream",
     "text": [
      "Processing n= 40\n"
     ]
    },
    {
     "name": "stderr",
     "output_type": "stream",
     "text": [
      "100%|███████████████████████████████████████████████████████████████████████████| 42700/42700 [01:03<00:00, 677.66it/s]\n",
      "100%|███████████████████████████████████████████████████████████████████████████| 15199/15199 [00:22<00:00, 676.82it/s]\n"
     ]
    },
    {
     "name": "stdout",
     "output_type": "stream",
     "text": [
      "Processing n= 5\n"
     ]
    },
    {
     "name": "stderr",
     "output_type": "stream",
     "text": [
      "100%|███████████████████████████████████████████████████████████████████████████| 22398/22398 [00:30<00:00, 733.31it/s]\n",
      "100%|█████████████████████████████████████████████████████████████████████████████| 8237/8237 [00:11<00:00, 730.86it/s]\n"
     ]
    },
    {
     "name": "stdout",
     "output_type": "stream",
     "text": [
      "Processing n= 10\n"
     ]
    },
    {
     "name": "stderr",
     "output_type": "stream",
     "text": [
      "100%|███████████████████████████████████████████████████████████████████████████| 22398/22398 [00:30<00:00, 729.58it/s]\n",
      "100%|█████████████████████████████████████████████████████████████████████████████| 8237/8237 [00:11<00:00, 730.67it/s]\n"
     ]
    },
    {
     "name": "stdout",
     "output_type": "stream",
     "text": [
      "Processing n= 20\n"
     ]
    },
    {
     "name": "stderr",
     "output_type": "stream",
     "text": [
      "100%|███████████████████████████████████████████████████████████████████████████| 22398/22398 [00:30<00:00, 729.52it/s]\n",
      "100%|█████████████████████████████████████████████████████████████████████████████| 8237/8237 [00:11<00:00, 729.49it/s]\n"
     ]
    },
    {
     "name": "stdout",
     "output_type": "stream",
     "text": [
      "Processing n= 40\n"
     ]
    },
    {
     "name": "stderr",
     "output_type": "stream",
     "text": [
      "100%|███████████████████████████████████████████████████████████████████████████| 22398/22398 [00:30<00:00, 726.51it/s]\n",
      "100%|█████████████████████████████████████████████████████████████████████████████| 8237/8237 [00:11<00:00, 730.91it/s]\n"
     ]
    },
    {
     "name": "stdout",
     "output_type": "stream",
     "text": [
      "Processing n= 5\n"
     ]
    },
    {
     "name": "stderr",
     "output_type": "stream",
     "text": [
      "100%|███████████████████████████████████████████████████████████████████████████| 42489/42489 [01:02<00:00, 681.94it/s]\n",
      "100%|███████████████████████████████████████████████████████████████████████████| 12591/12591 [00:18<00:00, 683.10it/s]\n"
     ]
    },
    {
     "name": "stdout",
     "output_type": "stream",
     "text": [
      "Processing n= 10\n"
     ]
    },
    {
     "name": "stderr",
     "output_type": "stream",
     "text": [
      "100%|███████████████████████████████████████████████████████████████████████████| 42489/42489 [01:02<00:00, 683.76it/s]\n",
      "100%|███████████████████████████████████████████████████████████████████████████| 12591/12591 [00:18<00:00, 684.23it/s]\n"
     ]
    },
    {
     "name": "stdout",
     "output_type": "stream",
     "text": [
      "Processing n= 20\n"
     ]
    },
    {
     "name": "stderr",
     "output_type": "stream",
     "text": [
      "100%|███████████████████████████████████████████████████████████████████████████| 42489/42489 [01:02<00:00, 681.76it/s]\n",
      "100%|███████████████████████████████████████████████████████████████████████████| 12591/12591 [00:18<00:00, 682.41it/s]\n"
     ]
    },
    {
     "name": "stdout",
     "output_type": "stream",
     "text": [
      "Processing n= 40\n"
     ]
    },
    {
     "name": "stderr",
     "output_type": "stream",
     "text": [
      "100%|███████████████████████████████████████████████████████████████████████████| 42489/42489 [01:02<00:00, 680.13it/s]\n",
      "100%|███████████████████████████████████████████████████████████████████████████| 12591/12591 [00:18<00:00, 674.85it/s]\n"
     ]
    },
    {
     "name": "stdout",
     "output_type": "stream",
     "text": [
      "Processing n= 5\n"
     ]
    },
    {
     "name": "stderr",
     "output_type": "stream",
     "text": [
      "100%|███████████████████████████████████████████████████████████████████████████| 59507/59507 [01:32<00:00, 646.04it/s]\n",
      "100%|███████████████████████████████████████████████████████████████████████████| 18881/18881 [00:29<00:00, 647.48it/s]\n"
     ]
    },
    {
     "name": "stdout",
     "output_type": "stream",
     "text": [
      "Processing n= 10\n"
     ]
    },
    {
     "name": "stderr",
     "output_type": "stream",
     "text": [
      "100%|███████████████████████████████████████████████████████████████████████████| 59507/59507 [01:32<00:00, 646.52it/s]\n",
      "100%|███████████████████████████████████████████████████████████████████████████| 18881/18881 [00:29<00:00, 640.10it/s]\n"
     ]
    },
    {
     "name": "stdout",
     "output_type": "stream",
     "text": [
      "Processing n= 20\n"
     ]
    },
    {
     "name": "stderr",
     "output_type": "stream",
     "text": [
      "100%|███████████████████████████████████████████████████████████████████████████| 59507/59507 [01:32<00:00, 644.99it/s]\n",
      "100%|███████████████████████████████████████████████████████████████████████████| 18881/18881 [00:29<00:00, 643.09it/s]\n"
     ]
    },
    {
     "name": "stdout",
     "output_type": "stream",
     "text": [
      "Processing n= 40\n"
     ]
    },
    {
     "name": "stderr",
     "output_type": "stream",
     "text": [
      "100%|███████████████████████████████████████████████████████████████████████████| 59507/59507 [01:32<00:00, 643.85it/s]\n",
      "100%|███████████████████████████████████████████████████████████████████████████| 18881/18881 [00:29<00:00, 642.82it/s]\n"
     ]
    },
    {
     "name": "stdout",
     "output_type": "stream",
     "text": [
      "Processing n= 5\n"
     ]
    },
    {
     "name": "stderr",
     "output_type": "stream",
     "text": [
      "100%|███████████████████████████████████████████████████████████████████████████| 22555/22555 [00:30<00:00, 731.99it/s]\n",
      "100%|█████████████████████████████████████████████████████████████████████████████| 8820/8820 [00:12<00:00, 732.28it/s]\n"
     ]
    },
    {
     "name": "stdout",
     "output_type": "stream",
     "text": [
      "Processing n= 10\n"
     ]
    },
    {
     "name": "stderr",
     "output_type": "stream",
     "text": [
      "100%|███████████████████████████████████████████████████████████████████████████| 22555/22555 [00:30<00:00, 731.45it/s]\n",
      "100%|█████████████████████████████████████████████████████████████████████████████| 8820/8820 [00:12<00:00, 734.39it/s]\n"
     ]
    },
    {
     "name": "stdout",
     "output_type": "stream",
     "text": [
      "Processing n= 20\n"
     ]
    },
    {
     "name": "stderr",
     "output_type": "stream",
     "text": [
      "100%|███████████████████████████████████████████████████████████████████████████| 22555/22555 [00:30<00:00, 732.98it/s]\n",
      "100%|█████████████████████████████████████████████████████████████████████████████| 8820/8820 [00:12<00:00, 733.08it/s]\n"
     ]
    },
    {
     "name": "stdout",
     "output_type": "stream",
     "text": [
      "Processing n= 40\n"
     ]
    },
    {
     "name": "stderr",
     "output_type": "stream",
     "text": [
      "100%|███████████████████████████████████████████████████████████████████████████| 22555/22555 [00:30<00:00, 730.02it/s]\n",
      "100%|█████████████████████████████████████████████████████████████████████████████| 8820/8820 [00:12<00:00, 731.76it/s]\n"
     ]
    },
    {
     "name": "stdout",
     "output_type": "stream",
     "text": [
      "Processing n= 5\n"
     ]
    },
    {
     "name": "stderr",
     "output_type": "stream",
     "text": [
      "100%|███████████████████████████████████████████████████████████████████████████| 78313/78313 [02:40<00:00, 487.70it/s]\n",
      "100%|███████████████████████████████████████████████████████████████████████████| 25617/25617 [00:52<00:00, 488.30it/s]\n"
     ]
    },
    {
     "name": "stdout",
     "output_type": "stream",
     "text": [
      "Processing n= 10\n"
     ]
    },
    {
     "name": "stderr",
     "output_type": "stream",
     "text": [
      "100%|███████████████████████████████████████████████████████████████████████████| 78313/78313 [02:40<00:00, 487.58it/s]\n",
      "100%|███████████████████████████████████████████████████████████████████████████| 25617/25617 [00:52<00:00, 487.80it/s]\n"
     ]
    },
    {
     "name": "stdout",
     "output_type": "stream",
     "text": [
      "Processing n= 20\n"
     ]
    },
    {
     "name": "stderr",
     "output_type": "stream",
     "text": [
      "100%|███████████████████████████████████████████████████████████████████████████| 78313/78313 [02:40<00:00, 488.04it/s]\n",
      "100%|███████████████████████████████████████████████████████████████████████████| 25617/25617 [00:52<00:00, 486.96it/s]\n"
     ]
    },
    {
     "name": "stdout",
     "output_type": "stream",
     "text": [
      "Processing n= 40\n"
     ]
    },
    {
     "name": "stderr",
     "output_type": "stream",
     "text": [
      "100%|███████████████████████████████████████████████████████████████████████████| 78313/78313 [02:40<00:00, 487.21it/s]\n",
      "100%|███████████████████████████████████████████████████████████████████████████| 25617/25617 [00:52<00:00, 486.49it/s]\n"
     ]
    },
    {
     "name": "stdout",
     "output_type": "stream",
     "text": [
      "Processing n= 5\n"
     ]
    },
    {
     "name": "stderr",
     "output_type": "stream",
     "text": [
      "100%|███████████████████████████████████████████████████████████████████████████| 84177/84177 [02:58<00:00, 471.89it/s]\n",
      "100%|███████████████████████████████████████████████████████████████████████████| 24823/24823 [00:53<00:00, 467.53it/s]\n"
     ]
    },
    {
     "name": "stdout",
     "output_type": "stream",
     "text": [
      "Processing n= 10\n"
     ]
    },
    {
     "name": "stderr",
     "output_type": "stream",
     "text": [
      "100%|███████████████████████████████████████████████████████████████████████████| 84177/84177 [03:00<00:00, 465.28it/s]\n",
      "100%|███████████████████████████████████████████████████████████████████████████| 24823/24823 [00:52<00:00, 468.99it/s]\n"
     ]
    },
    {
     "name": "stdout",
     "output_type": "stream",
     "text": [
      "Processing n= 20\n"
     ]
    },
    {
     "name": "stderr",
     "output_type": "stream",
     "text": [
      "100%|███████████████████████████████████████████████████████████████████████████| 84177/84177 [02:58<00:00, 472.59it/s]\n",
      "100%|███████████████████████████████████████████████████████████████████████████| 24823/24823 [00:52<00:00, 469.86it/s]\n"
     ]
    },
    {
     "name": "stdout",
     "output_type": "stream",
     "text": [
      "Processing n= 40\n"
     ]
    },
    {
     "name": "stderr",
     "output_type": "stream",
     "text": [
      "100%|███████████████████████████████████████████████████████████████████████████| 84177/84177 [03:01<00:00, 463.69it/s]\n",
      "100%|███████████████████████████████████████████████████████████████████████████| 24823/24823 [00:53<00:00, 465.65it/s]\n"
     ]
    },
    {
     "name": "stdout",
     "output_type": "stream",
     "text": [
      "Processing n= 5\n"
     ]
    },
    {
     "name": "stderr",
     "output_type": "stream",
     "text": [
      "100%|███████████████████████████████████████████████████████████████████████████| 57214/57214 [01:28<00:00, 643.61it/s]\n",
      "100%|███████████████████████████████████████████████████████████████████████████| 16942/16942 [00:27<00:00, 626.82it/s]\n"
     ]
    },
    {
     "name": "stdout",
     "output_type": "stream",
     "text": [
      "Processing n= 10\n"
     ]
    },
    {
     "name": "stderr",
     "output_type": "stream",
     "text": [
      "100%|███████████████████████████████████████████████████████████████████████████| 57214/57214 [01:27<00:00, 650.29it/s]\n",
      "100%|███████████████████████████████████████████████████████████████████████████| 16942/16942 [00:26<00:00, 646.91it/s]\n"
     ]
    },
    {
     "name": "stdout",
     "output_type": "stream",
     "text": [
      "Processing n= 20\n"
     ]
    },
    {
     "name": "stderr",
     "output_type": "stream",
     "text": [
      "100%|███████████████████████████████████████████████████████████████████████████| 57214/57214 [01:28<00:00, 649.02it/s]\n",
      "100%|███████████████████████████████████████████████████████████████████████████| 16942/16942 [00:26<00:00, 647.23it/s]\n"
     ]
    },
    {
     "name": "stdout",
     "output_type": "stream",
     "text": [
      "Processing n= 40\n"
     ]
    },
    {
     "name": "stderr",
     "output_type": "stream",
     "text": [
      "100%|███████████████████████████████████████████████████████████████████████████| 57214/57214 [01:28<00:00, 649.09it/s]\n",
      "100%|███████████████████████████████████████████████████████████████████████████| 16942/16942 [00:26<00:00, 648.50it/s]\n"
     ]
    },
    {
     "name": "stdout",
     "output_type": "stream",
     "text": [
      "Processing n= 5\n"
     ]
    },
    {
     "name": "stderr",
     "output_type": "stream",
     "text": [
      "100%|███████████████████████████████████████████████████████████████████████████| 34886/34886 [00:49<00:00, 700.44it/s]\n",
      "100%|███████████████████████████████████████████████████████████████████████████| 12140/12140 [00:17<00:00, 703.88it/s]\n"
     ]
    },
    {
     "name": "stdout",
     "output_type": "stream",
     "text": [
      "Processing n= 10\n"
     ]
    },
    {
     "name": "stderr",
     "output_type": "stream",
     "text": [
      "100%|███████████████████████████████████████████████████████████████████████████| 34886/34886 [00:49<00:00, 698.20it/s]\n",
      "100%|███████████████████████████████████████████████████████████████████████████| 12140/12140 [00:17<00:00, 701.18it/s]\n"
     ]
    },
    {
     "name": "stdout",
     "output_type": "stream",
     "text": [
      "Processing n= 20\n"
     ]
    },
    {
     "name": "stderr",
     "output_type": "stream",
     "text": [
      "100%|███████████████████████████████████████████████████████████████████████████| 34886/34886 [00:49<00:00, 698.43it/s]\n",
      "100%|███████████████████████████████████████████████████████████████████████████| 12140/12140 [00:17<00:00, 700.99it/s]\n"
     ]
    },
    {
     "name": "stdout",
     "output_type": "stream",
     "text": [
      "Processing n= 40\n"
     ]
    },
    {
     "name": "stderr",
     "output_type": "stream",
     "text": [
      "100%|███████████████████████████████████████████████████████████████████████████| 34886/34886 [00:49<00:00, 698.06it/s]\n",
      "100%|███████████████████████████████████████████████████████████████████████████| 12140/12140 [00:17<00:00, 698.72it/s]\n"
     ]
    },
    {
     "name": "stdout",
     "output_type": "stream",
     "text": [
      "Processing n= 5\n"
     ]
    },
    {
     "name": "stderr",
     "output_type": "stream",
     "text": [
      "100%|███████████████████████████████████████████████████████████████████████████| 49689/49689 [01:14<00:00, 669.01it/s]\n",
      "100%|███████████████████████████████████████████████████████████████████████████| 17012/17012 [00:25<00:00, 668.80it/s]\n"
     ]
    },
    {
     "name": "stdout",
     "output_type": "stream",
     "text": [
      "Processing n= 10\n"
     ]
    },
    {
     "name": "stderr",
     "output_type": "stream",
     "text": [
      "100%|███████████████████████████████████████████████████████████████████████████| 49689/49689 [01:14<00:00, 669.07it/s]\n",
      "100%|███████████████████████████████████████████████████████████████████████████| 17012/17012 [00:25<00:00, 668.83it/s]\n"
     ]
    },
    {
     "name": "stdout",
     "output_type": "stream",
     "text": [
      "Processing n= 20\n"
     ]
    },
    {
     "name": "stderr",
     "output_type": "stream",
     "text": [
      "100%|███████████████████████████████████████████████████████████████████████████| 49689/49689 [01:14<00:00, 666.81it/s]\n",
      "100%|███████████████████████████████████████████████████████████████████████████| 17012/17012 [00:25<00:00, 668.78it/s]\n"
     ]
    },
    {
     "name": "stdout",
     "output_type": "stream",
     "text": [
      "Processing n= 40\n"
     ]
    },
    {
     "name": "stderr",
     "output_type": "stream",
     "text": [
      "100%|███████████████████████████████████████████████████████████████████████████| 49689/49689 [01:14<00:00, 665.19it/s]\n",
      "100%|███████████████████████████████████████████████████████████████████████████| 17012/17012 [00:25<00:00, 666.43it/s]\n"
     ]
    },
    {
     "name": "stdout",
     "output_type": "stream",
     "text": [
      "Processing n= 5\n"
     ]
    },
    {
     "name": "stderr",
     "output_type": "stream",
     "text": [
      "100%|███████████████████████████████████████████████████████████████████████████| 28090/28090 [00:39<00:00, 718.88it/s]\n",
      "100%|█████████████████████████████████████████████████████████████████████████████| 9237/9237 [00:12<00:00, 717.33it/s]\n"
     ]
    },
    {
     "name": "stdout",
     "output_type": "stream",
     "text": [
      "Processing n= 10\n"
     ]
    },
    {
     "name": "stderr",
     "output_type": "stream",
     "text": [
      "100%|███████████████████████████████████████████████████████████████████████████| 28090/28090 [00:39<00:00, 718.75it/s]\n",
      "100%|█████████████████████████████████████████████████████████████████████████████| 9237/9237 [00:12<00:00, 713.02it/s]\n"
     ]
    },
    {
     "name": "stdout",
     "output_type": "stream",
     "text": [
      "Processing n= 20\n"
     ]
    },
    {
     "name": "stderr",
     "output_type": "stream",
     "text": [
      "100%|███████████████████████████████████████████████████████████████████████████| 28090/28090 [00:39<00:00, 716.98it/s]\n",
      "100%|█████████████████████████████████████████████████████████████████████████████| 9237/9237 [00:12<00:00, 717.99it/s]\n"
     ]
    },
    {
     "name": "stdout",
     "output_type": "stream",
     "text": [
      "Processing n= 40\n"
     ]
    },
    {
     "name": "stderr",
     "output_type": "stream",
     "text": [
      "100%|███████████████████████████████████████████████████████████████████████████| 28090/28090 [00:40<00:00, 700.38it/s]\n",
      "100%|█████████████████████████████████████████████████████████████████████████████| 9237/9237 [00:12<00:00, 713.24it/s]\n"
     ]
    },
    {
     "name": "stdout",
     "output_type": "stream",
     "text": [
      "Processing n= 5\n"
     ]
    },
    {
     "name": "stderr",
     "output_type": "stream",
     "text": [
      "100%|███████████████████████████████████████████████████████████████████████████| 37561/37561 [00:54<00:00, 695.35it/s]\n",
      "100%|███████████████████████████████████████████████████████████████████████████| 15531/15531 [00:22<00:00, 695.68it/s]\n"
     ]
    },
    {
     "name": "stdout",
     "output_type": "stream",
     "text": [
      "Processing n= 10\n"
     ]
    },
    {
     "name": "stderr",
     "output_type": "stream",
     "text": [
      "100%|███████████████████████████████████████████████████████████████████████████| 37561/37561 [00:53<00:00, 696.43it/s]\n",
      "100%|███████████████████████████████████████████████████████████████████████████| 15531/15531 [00:22<00:00, 698.44it/s]\n"
     ]
    },
    {
     "name": "stdout",
     "output_type": "stream",
     "text": [
      "Processing n= 20\n"
     ]
    },
    {
     "name": "stderr",
     "output_type": "stream",
     "text": [
      "100%|███████████████████████████████████████████████████████████████████████████| 37561/37561 [00:54<00:00, 695.02it/s]\n",
      "100%|███████████████████████████████████████████████████████████████████████████| 15531/15531 [00:22<00:00, 695.08it/s]\n"
     ]
    },
    {
     "name": "stdout",
     "output_type": "stream",
     "text": [
      "Processing n= 40\n"
     ]
    },
    {
     "name": "stderr",
     "output_type": "stream",
     "text": [
      "100%|███████████████████████████████████████████████████████████████████████████| 37561/37561 [00:54<00:00, 692.85it/s]\n",
      "100%|███████████████████████████████████████████████████████████████████████████| 15531/15531 [00:22<00:00, 691.66it/s]\n"
     ]
    },
    {
     "name": "stdout",
     "output_type": "stream",
     "text": [
      "Processing n= 5\n"
     ]
    },
    {
     "name": "stderr",
     "output_type": "stream",
     "text": [
      "100%|███████████████████████████████████████████████████████████████████████████| 31679/31679 [00:44<00:00, 708.72it/s]\n",
      "100%|█████████████████████████████████████████████████████████████████████████████| 9117/9117 [00:12<00:00, 708.72it/s]\n"
     ]
    },
    {
     "name": "stdout",
     "output_type": "stream",
     "text": [
      "Processing n= 10\n"
     ]
    },
    {
     "name": "stderr",
     "output_type": "stream",
     "text": [
      "100%|███████████████████████████████████████████████████████████████████████████| 31679/31679 [00:44<00:00, 708.36it/s]\n",
      "100%|█████████████████████████████████████████████████████████████████████████████| 9117/9117 [00:12<00:00, 707.49it/s]\n"
     ]
    },
    {
     "name": "stdout",
     "output_type": "stream",
     "text": [
      "Processing n= 20\n"
     ]
    },
    {
     "name": "stderr",
     "output_type": "stream",
     "text": [
      "100%|███████████████████████████████████████████████████████████████████████████| 31679/31679 [00:44<00:00, 707.28it/s]\n",
      "100%|█████████████████████████████████████████████████████████████████████████████| 9117/9117 [00:12<00:00, 708.39it/s]\n"
     ]
    },
    {
     "name": "stdout",
     "output_type": "stream",
     "text": [
      "Processing n= 40\n"
     ]
    },
    {
     "name": "stderr",
     "output_type": "stream",
     "text": [
      "100%|███████████████████████████████████████████████████████████████████████████| 31679/31679 [00:44<00:00, 704.74it/s]\n",
      "100%|█████████████████████████████████████████████████████████████████████████████| 9117/9117 [00:12<00:00, 708.51it/s]\n"
     ]
    },
    {
     "name": "stdout",
     "output_type": "stream",
     "text": [
      "Processing n= 5\n"
     ]
    },
    {
     "name": "stderr",
     "output_type": "stream",
     "text": [
      "100%|███████████████████████████████████████████████████████████████████████████| 28154/28154 [00:39<00:00, 717.99it/s]\n",
      "100%|█████████████████████████████████████████████████████████████████████████████| 9929/9929 [00:13<00:00, 721.17it/s]\n"
     ]
    },
    {
     "name": "stdout",
     "output_type": "stream",
     "text": [
      "Processing n= 10\n"
     ]
    },
    {
     "name": "stderr",
     "output_type": "stream",
     "text": [
      "100%|███████████████████████████████████████████████████████████████████████████| 28154/28154 [00:39<00:00, 718.56it/s]\n",
      "100%|█████████████████████████████████████████████████████████████████████████████| 9929/9929 [00:13<00:00, 721.21it/s]\n"
     ]
    },
    {
     "name": "stdout",
     "output_type": "stream",
     "text": [
      "Processing n= 20\n"
     ]
    },
    {
     "name": "stderr",
     "output_type": "stream",
     "text": [
      "100%|███████████████████████████████████████████████████████████████████████████| 28154/28154 [00:39<00:00, 716.52it/s]\n",
      "100%|█████████████████████████████████████████████████████████████████████████████| 9929/9929 [00:13<00:00, 720.09it/s]\n"
     ]
    },
    {
     "name": "stdout",
     "output_type": "stream",
     "text": [
      "Processing n= 40\n"
     ]
    },
    {
     "name": "stderr",
     "output_type": "stream",
     "text": [
      "100%|███████████████████████████████████████████████████████████████████████████| 28154/28154 [00:39<00:00, 716.02it/s]\n",
      "100%|█████████████████████████████████████████████████████████████████████████████| 9929/9929 [00:13<00:00, 717.57it/s]\n"
     ]
    },
    {
     "name": "stdout",
     "output_type": "stream",
     "text": [
      "Processing n= 5\n"
     ]
    },
    {
     "name": "stderr",
     "output_type": "stream",
     "text": [
      "100%|███████████████████████████████████████████████████████████████████████████| 86283/86283 [03:04<00:00, 466.50it/s]\n",
      "100%|███████████████████████████████████████████████████████████████████████████| 29728/29728 [01:03<00:00, 466.01it/s]\n"
     ]
    },
    {
     "name": "stdout",
     "output_type": "stream",
     "text": [
      "Processing n= 10\n"
     ]
    },
    {
     "name": "stderr",
     "output_type": "stream",
     "text": [
      "100%|███████████████████████████████████████████████████████████████████████████| 86283/86283 [03:05<00:00, 465.29it/s]\n",
      "100%|███████████████████████████████████████████████████████████████████████████| 29728/29728 [01:03<00:00, 467.15it/s]\n"
     ]
    },
    {
     "name": "stdout",
     "output_type": "stream",
     "text": [
      "Processing n= 20\n"
     ]
    },
    {
     "name": "stderr",
     "output_type": "stream",
     "text": [
      "100%|███████████████████████████████████████████████████████████████████████████| 86283/86283 [03:05<00:00, 466.13it/s]\n",
      "100%|███████████████████████████████████████████████████████████████████████████| 29728/29728 [01:03<00:00, 465.42it/s]\n"
     ]
    },
    {
     "name": "stdout",
     "output_type": "stream",
     "text": [
      "Processing n= 40\n"
     ]
    },
    {
     "name": "stderr",
     "output_type": "stream",
     "text": [
      "100%|███████████████████████████████████████████████████████████████████████████| 86283/86283 [03:05<00:00, 464.10it/s]\n",
      "100%|███████████████████████████████████████████████████████████████████████████| 29728/29728 [01:04<00:00, 462.74it/s]\n"
     ]
    },
    {
     "name": "stdout",
     "output_type": "stream",
     "text": [
      "Processing n= 5\n"
     ]
    },
    {
     "name": "stderr",
     "output_type": "stream",
     "text": [
      "100%|███████████████████████████████████████████████████████████████████████████| 30952/30952 [00:43<00:00, 705.93it/s]\n",
      "100%|███████████████████████████████████████████████████████████████████████████| 12312/12312 [00:17<00:00, 707.41it/s]\n"
     ]
    },
    {
     "name": "stdout",
     "output_type": "stream",
     "text": [
      "Processing n= 10\n"
     ]
    },
    {
     "name": "stderr",
     "output_type": "stream",
     "text": [
      "100%|███████████████████████████████████████████████████████████████████████████| 30952/30952 [00:43<00:00, 705.61it/s]\n",
      "100%|███████████████████████████████████████████████████████████████████████████| 12312/12312 [00:17<00:00, 705.36it/s]\n"
     ]
    },
    {
     "name": "stdout",
     "output_type": "stream",
     "text": [
      "Processing n= 20\n"
     ]
    },
    {
     "name": "stderr",
     "output_type": "stream",
     "text": [
      "100%|███████████████████████████████████████████████████████████████████████████| 30952/30952 [00:43<00:00, 704.24it/s]\n",
      "100%|███████████████████████████████████████████████████████████████████████████| 12312/12312 [00:17<00:00, 706.28it/s]\n"
     ]
    },
    {
     "name": "stdout",
     "output_type": "stream",
     "text": [
      "Processing n= 40\n"
     ]
    },
    {
     "name": "stderr",
     "output_type": "stream",
     "text": [
      "100%|███████████████████████████████████████████████████████████████████████████| 30952/30952 [00:44<00:00, 701.33it/s]\n",
      "100%|███████████████████████████████████████████████████████████████████████████| 12312/12312 [00:17<00:00, 703.36it/s]\n"
     ]
    },
    {
     "name": "stdout",
     "output_type": "stream",
     "text": [
      "Processing n= 5\n"
     ]
    },
    {
     "name": "stderr",
     "output_type": "stream",
     "text": [
      "100%|███████████████████████████████████████████████████████████████████████████| 38490/38490 [00:56<00:00, 685.51it/s]\n",
      "100%|███████████████████████████████████████████████████████████████████████████| 13385/13385 [00:19<00:00, 688.81it/s]\n"
     ]
    },
    {
     "name": "stdout",
     "output_type": "stream",
     "text": [
      "Processing n= 10\n"
     ]
    },
    {
     "name": "stderr",
     "output_type": "stream",
     "text": [
      "100%|███████████████████████████████████████████████████████████████████████████| 38490/38490 [00:56<00:00, 681.71it/s]\n",
      "100%|███████████████████████████████████████████████████████████████████████████| 13385/13385 [00:19<00:00, 680.97it/s]\n"
     ]
    },
    {
     "name": "stdout",
     "output_type": "stream",
     "text": [
      "Processing n= 20\n"
     ]
    },
    {
     "name": "stderr",
     "output_type": "stream",
     "text": [
      "100%|███████████████████████████████████████████████████████████████████████████| 38490/38490 [00:56<00:00, 683.73it/s]\n",
      "100%|███████████████████████████████████████████████████████████████████████████| 13385/13385 [00:19<00:00, 682.18it/s]\n"
     ]
    },
    {
     "name": "stdout",
     "output_type": "stream",
     "text": [
      "Processing n= 40\n"
     ]
    },
    {
     "name": "stderr",
     "output_type": "stream",
     "text": [
      "100%|███████████████████████████████████████████████████████████████████████████| 38490/38490 [00:56<00:00, 683.92it/s]\n",
      "100%|███████████████████████████████████████████████████████████████████████████| 13385/13385 [00:19<00:00, 685.56it/s]\n"
     ]
    }
   ],
   "source": [
    "kfw = knn_feature_wrapper()\n",
    "train_res, test_res = kfw.transform(train_X, test_X)"
   ]
  },
  {
   "cell_type": "code",
   "execution_count": 5,
   "metadata": {},
   "outputs": [
    {
     "data": {
      "text/html": [
       "<div>\n",
       "<style scoped>\n",
       "    .dataframe tbody tr th:only-of-type {\n",
       "        vertical-align: middle;\n",
       "    }\n",
       "\n",
       "    .dataframe tbody tr th {\n",
       "        vertical-align: top;\n",
       "    }\n",
       "\n",
       "    .dataframe thead th {\n",
       "        text-align: right;\n",
       "    }\n",
       "</style>\n",
       "<table border=\"1\" class=\"dataframe\">\n",
       "  <thead>\n",
       "    <tr style=\"text-align: right;\">\n",
       "      <th></th>\n",
       "      <th>5_closest_avg_dist</th>\n",
       "      <th>price_5_closest_mean</th>\n",
       "      <th>item_seq_number_5_closest_mean</th>\n",
       "      <th>deal_probability_5_closest_mean</th>\n",
       "      <th>10_closest_avg_dist</th>\n",
       "      <th>price_10_closest_mean</th>\n",
       "      <th>item_seq_number_10_closest_mean</th>\n",
       "      <th>deal_probability_10_closest_mean</th>\n",
       "      <th>20_closest_avg_dist</th>\n",
       "      <th>price_20_closest_mean</th>\n",
       "      <th>item_seq_number_20_closest_mean</th>\n",
       "      <th>deal_probability_20_closest_mean</th>\n",
       "      <th>40_closest_avg_dist</th>\n",
       "      <th>price_40_closest_mean</th>\n",
       "      <th>item_seq_number_40_closest_mean</th>\n",
       "      <th>deal_probability_40_closest_mean</th>\n",
       "    </tr>\n",
       "  </thead>\n",
       "  <tbody>\n",
       "    <tr>\n",
       "      <th>0</th>\n",
       "      <td>0.996793</td>\n",
       "      <td>1320.0</td>\n",
       "      <td>32.8</td>\n",
       "      <td>0.000000</td>\n",
       "      <td>1.064976</td>\n",
       "      <td>1000.0</td>\n",
       "      <td>42.4</td>\n",
       "      <td>0.000000</td>\n",
       "      <td>1.146944</td>\n",
       "      <td>975.0</td>\n",
       "      <td>59.75</td>\n",
       "      <td>0.000000</td>\n",
       "      <td>1.272664</td>\n",
       "      <td>1014.0</td>\n",
       "      <td>49.625</td>\n",
       "      <td>0.043200</td>\n",
       "    </tr>\n",
       "    <tr>\n",
       "      <th>1</th>\n",
       "      <td>0.854518</td>\n",
       "      <td>230.0</td>\n",
       "      <td>50.2</td>\n",
       "      <td>0.153572</td>\n",
       "      <td>1.051065</td>\n",
       "      <td>280.0</td>\n",
       "      <td>61.4</td>\n",
       "      <td>0.076786</td>\n",
       "      <td>1.243759</td>\n",
       "      <td>250.0</td>\n",
       "      <td>48.55</td>\n",
       "      <td>0.046991</td>\n",
       "      <td>1.429779</td>\n",
       "      <td>285.5</td>\n",
       "      <td>39.525</td>\n",
       "      <td>0.044163</td>\n",
       "    </tr>\n",
       "    <tr>\n",
       "      <th>2</th>\n",
       "      <td>1.122214</td>\n",
       "      <td>7840.0</td>\n",
       "      <td>8.2</td>\n",
       "      <td>0.000000</td>\n",
       "      <td>1.247133</td>\n",
       "      <td>4500.0</td>\n",
       "      <td>9.8</td>\n",
       "      <td>0.031626</td>\n",
       "      <td>1.376999</td>\n",
       "      <td>4125.0</td>\n",
       "      <td>7.20</td>\n",
       "      <td>0.031626</td>\n",
       "      <td>1.571354</td>\n",
       "      <td>4687.5</td>\n",
       "      <td>7.675</td>\n",
       "      <td>0.029212</td>\n",
       "    </tr>\n",
       "  </tbody>\n",
       "</table>\n",
       "</div>"
      ],
      "text/plain": [
       "   5_closest_avg_dist  price_5_closest_mean  item_seq_number_5_closest_mean  \\\n",
       "0            0.996793                1320.0                            32.8   \n",
       "1            0.854518                 230.0                            50.2   \n",
       "2            1.122214                7840.0                             8.2   \n",
       "\n",
       "   deal_probability_5_closest_mean  10_closest_avg_dist  \\\n",
       "0                         0.000000             1.064976   \n",
       "1                         0.153572             1.051065   \n",
       "2                         0.000000             1.247133   \n",
       "\n",
       "   price_10_closest_mean  item_seq_number_10_closest_mean  \\\n",
       "0                 1000.0                             42.4   \n",
       "1                  280.0                             61.4   \n",
       "2                 4500.0                              9.8   \n",
       "\n",
       "   deal_probability_10_closest_mean  20_closest_avg_dist  \\\n",
       "0                          0.000000             1.146944   \n",
       "1                          0.076786             1.243759   \n",
       "2                          0.031626             1.376999   \n",
       "\n",
       "   price_20_closest_mean  item_seq_number_20_closest_mean  \\\n",
       "0                  975.0                            59.75   \n",
       "1                  250.0                            48.55   \n",
       "2                 4125.0                             7.20   \n",
       "\n",
       "   deal_probability_20_closest_mean  40_closest_avg_dist  \\\n",
       "0                          0.000000             1.272664   \n",
       "1                          0.046991             1.429779   \n",
       "2                          0.031626             1.571354   \n",
       "\n",
       "   price_40_closest_mean  item_seq_number_40_closest_mean  \\\n",
       "0                 1014.0                           49.625   \n",
       "1                  285.5                           39.525   \n",
       "2                 4687.5                            7.675   \n",
       "\n",
       "   deal_probability_40_closest_mean  \n",
       "0                          0.043200  \n",
       "1                          0.044163  \n",
       "2                          0.029212  "
      ]
     },
     "execution_count": 5,
     "metadata": {},
     "output_type": "execute_result"
    }
   ],
   "source": [
    "train_res.head(3)"
   ]
  },
  {
   "cell_type": "code",
   "execution_count": 6,
   "metadata": {},
   "outputs": [],
   "source": [
    "with open('knn_train_features.pickle', 'wb') as handle:\n",
    "    pickle.dump(train_res, handle)\n",
    "    \n",
    "with open('knn_test_features.pickle', 'wb') as handle:\n",
    "    pickle.dump(test_res, handle)"
   ]
  },
  {
   "cell_type": "code",
   "execution_count": 7,
   "metadata": {},
   "outputs": [],
   "source": [
    "y = pd.read_csv('regression_target.csv')['deal_probability'].values"
   ]
  },
  {
   "cell_type": "code",
   "execution_count": 9,
   "metadata": {},
   "outputs": [],
   "source": [
    "train_res.loc[:, 'target'] = y"
   ]
  },
  {
   "cell_type": "code",
   "execution_count": 10,
   "metadata": {},
   "outputs": [
    {
     "data": {
      "text/html": [
       "<div>\n",
       "<style scoped>\n",
       "    .dataframe tbody tr th:only-of-type {\n",
       "        vertical-align: middle;\n",
       "    }\n",
       "\n",
       "    .dataframe tbody tr th {\n",
       "        vertical-align: top;\n",
       "    }\n",
       "\n",
       "    .dataframe thead th {\n",
       "        text-align: right;\n",
       "    }\n",
       "</style>\n",
       "<table border=\"1\" class=\"dataframe\">\n",
       "  <thead>\n",
       "    <tr style=\"text-align: right;\">\n",
       "      <th></th>\n",
       "      <th>5_closest_avg_dist</th>\n",
       "      <th>price_5_closest_mean</th>\n",
       "      <th>item_seq_number_5_closest_mean</th>\n",
       "      <th>deal_probability_5_closest_mean</th>\n",
       "      <th>10_closest_avg_dist</th>\n",
       "      <th>price_10_closest_mean</th>\n",
       "      <th>item_seq_number_10_closest_mean</th>\n",
       "      <th>deal_probability_10_closest_mean</th>\n",
       "      <th>20_closest_avg_dist</th>\n",
       "      <th>price_20_closest_mean</th>\n",
       "      <th>item_seq_number_20_closest_mean</th>\n",
       "      <th>deal_probability_20_closest_mean</th>\n",
       "      <th>40_closest_avg_dist</th>\n",
       "      <th>price_40_closest_mean</th>\n",
       "      <th>item_seq_number_40_closest_mean</th>\n",
       "      <th>deal_probability_40_closest_mean</th>\n",
       "      <th>target</th>\n",
       "    </tr>\n",
       "  </thead>\n",
       "  <tbody>\n",
       "    <tr>\n",
       "      <th>5_closest_avg_dist</th>\n",
       "      <td>1.000000</td>\n",
       "      <td>-0.014205</td>\n",
       "      <td>-0.091738</td>\n",
       "      <td>-0.093835</td>\n",
       "      <td>0.984972</td>\n",
       "      <td>-0.003515</td>\n",
       "      <td>-0.093842</td>\n",
       "      <td>-0.109662</td>\n",
       "      <td>0.951325</td>\n",
       "      <td>-0.004601</td>\n",
       "      <td>-0.095569</td>\n",
       "      <td>-0.122972</td>\n",
       "      <td>0.909109</td>\n",
       "      <td>-0.004771</td>\n",
       "      <td>-0.097470</td>\n",
       "      <td>-0.133854</td>\n",
       "      <td>-0.060841</td>\n",
       "    </tr>\n",
       "    <tr>\n",
       "      <th>price_5_closest_mean</th>\n",
       "      <td>-0.014205</td>\n",
       "      <td>1.000000</td>\n",
       "      <td>0.160624</td>\n",
       "      <td>-0.028159</td>\n",
       "      <td>-0.012218</td>\n",
       "      <td>0.082910</td>\n",
       "      <td>0.165432</td>\n",
       "      <td>-0.030406</td>\n",
       "      <td>-0.008660</td>\n",
       "      <td>0.087181</td>\n",
       "      <td>0.167944</td>\n",
       "      <td>-0.031530</td>\n",
       "      <td>-0.005000</td>\n",
       "      <td>0.092743</td>\n",
       "      <td>0.169840</td>\n",
       "      <td>-0.031789</td>\n",
       "      <td>-0.016269</td>\n",
       "    </tr>\n",
       "    <tr>\n",
       "      <th>item_seq_number_5_closest_mean</th>\n",
       "      <td>-0.091738</td>\n",
       "      <td>0.160624</td>\n",
       "      <td>1.000000</td>\n",
       "      <td>-0.064070</td>\n",
       "      <td>-0.094051</td>\n",
       "      <td>0.018640</td>\n",
       "      <td>0.979368</td>\n",
       "      <td>-0.073117</td>\n",
       "      <td>-0.094503</td>\n",
       "      <td>0.026802</td>\n",
       "      <td>0.958159</td>\n",
       "      <td>-0.080375</td>\n",
       "      <td>-0.092301</td>\n",
       "      <td>0.035174</td>\n",
       "      <td>0.936886</td>\n",
       "      <td>-0.085959</td>\n",
       "      <td>-0.039176</td>\n",
       "    </tr>\n",
       "    <tr>\n",
       "      <th>deal_probability_5_closest_mean</th>\n",
       "      <td>-0.093835</td>\n",
       "      <td>-0.028159</td>\n",
       "      <td>-0.064070</td>\n",
       "      <td>1.000000</td>\n",
       "      <td>-0.097554</td>\n",
       "      <td>-0.003458</td>\n",
       "      <td>-0.066003</td>\n",
       "      <td>0.886700</td>\n",
       "      <td>-0.099862</td>\n",
       "      <td>-0.004727</td>\n",
       "      <td>-0.068139</td>\n",
       "      <td>0.818125</td>\n",
       "      <td>-0.100409</td>\n",
       "      <td>-0.006400</td>\n",
       "      <td>-0.070700</td>\n",
       "      <td>0.776596</td>\n",
       "      <td>0.377628</td>\n",
       "    </tr>\n",
       "    <tr>\n",
       "      <th>10_closest_avg_dist</th>\n",
       "      <td>0.984972</td>\n",
       "      <td>-0.012218</td>\n",
       "      <td>-0.094051</td>\n",
       "      <td>-0.097554</td>\n",
       "      <td>1.000000</td>\n",
       "      <td>-0.002598</td>\n",
       "      <td>-0.096300</td>\n",
       "      <td>-0.113350</td>\n",
       "      <td>0.986737</td>\n",
       "      <td>-0.003454</td>\n",
       "      <td>-0.097947</td>\n",
       "      <td>-0.126942</td>\n",
       "      <td>0.955400</td>\n",
       "      <td>-0.003838</td>\n",
       "      <td>-0.099742</td>\n",
       "      <td>-0.138147</td>\n",
       "      <td>-0.063865</td>\n",
       "    </tr>\n",
       "    <tr>\n",
       "      <th>price_10_closest_mean</th>\n",
       "      <td>-0.003515</td>\n",
       "      <td>0.082910</td>\n",
       "      <td>0.018640</td>\n",
       "      <td>-0.003458</td>\n",
       "      <td>-0.002598</td>\n",
       "      <td>1.000000</td>\n",
       "      <td>0.019258</td>\n",
       "      <td>-0.003292</td>\n",
       "      <td>-0.001868</td>\n",
       "      <td>0.709073</td>\n",
       "      <td>0.019564</td>\n",
       "      <td>-0.003589</td>\n",
       "      <td>-0.001346</td>\n",
       "      <td>0.475245</td>\n",
       "      <td>0.019810</td>\n",
       "      <td>-0.003667</td>\n",
       "      <td>-0.002088</td>\n",
       "    </tr>\n",
       "    <tr>\n",
       "      <th>item_seq_number_10_closest_mean</th>\n",
       "      <td>-0.093842</td>\n",
       "      <td>0.165432</td>\n",
       "      <td>0.979368</td>\n",
       "      <td>-0.066003</td>\n",
       "      <td>-0.096300</td>\n",
       "      <td>0.019258</td>\n",
       "      <td>1.000000</td>\n",
       "      <td>-0.075383</td>\n",
       "      <td>-0.096998</td>\n",
       "      <td>0.027741</td>\n",
       "      <td>0.983081</td>\n",
       "      <td>-0.082947</td>\n",
       "      <td>-0.094846</td>\n",
       "      <td>0.036402</td>\n",
       "      <td>0.961447</td>\n",
       "      <td>-0.088673</td>\n",
       "      <td>-0.040340</td>\n",
       "    </tr>\n",
       "    <tr>\n",
       "      <th>deal_probability_10_closest_mean</th>\n",
       "      <td>-0.109662</td>\n",
       "      <td>-0.030406</td>\n",
       "      <td>-0.073117</td>\n",
       "      <td>0.886700</td>\n",
       "      <td>-0.113350</td>\n",
       "      <td>-0.003292</td>\n",
       "      <td>-0.075383</td>\n",
       "      <td>1.000000</td>\n",
       "      <td>-0.115180</td>\n",
       "      <td>-0.004587</td>\n",
       "      <td>-0.077770</td>\n",
       "      <td>0.925186</td>\n",
       "      <td>-0.115424</td>\n",
       "      <td>-0.006457</td>\n",
       "      <td>-0.080726</td>\n",
       "      <td>0.878968</td>\n",
       "      <td>0.411679</td>\n",
       "    </tr>\n",
       "    <tr>\n",
       "      <th>20_closest_avg_dist</th>\n",
       "      <td>0.951325</td>\n",
       "      <td>-0.008660</td>\n",
       "      <td>-0.094503</td>\n",
       "      <td>-0.099862</td>\n",
       "      <td>0.986737</td>\n",
       "      <td>-0.001868</td>\n",
       "      <td>-0.096998</td>\n",
       "      <td>-0.115180</td>\n",
       "      <td>1.000000</td>\n",
       "      <td>-0.002570</td>\n",
       "      <td>-0.098805</td>\n",
       "      <td>-0.128414</td>\n",
       "      <td>0.987456</td>\n",
       "      <td>-0.002957</td>\n",
       "      <td>-0.100496</td>\n",
       "      <td>-0.139762</td>\n",
       "      <td>-0.065458</td>\n",
       "    </tr>\n",
       "    <tr>\n",
       "      <th>price_20_closest_mean</th>\n",
       "      <td>-0.004601</td>\n",
       "      <td>0.087181</td>\n",
       "      <td>0.026802</td>\n",
       "      <td>-0.004727</td>\n",
       "      <td>-0.003454</td>\n",
       "      <td>0.709073</td>\n",
       "      <td>0.027741</td>\n",
       "      <td>-0.004587</td>\n",
       "      <td>-0.002570</td>\n",
       "      <td>1.000000</td>\n",
       "      <td>0.028398</td>\n",
       "      <td>-0.005258</td>\n",
       "      <td>-0.001909</td>\n",
       "      <td>0.670382</td>\n",
       "      <td>0.028801</td>\n",
       "      <td>-0.005464</td>\n",
       "      <td>-0.002996</td>\n",
       "    </tr>\n",
       "    <tr>\n",
       "      <th>item_seq_number_20_closest_mean</th>\n",
       "      <td>-0.095569</td>\n",
       "      <td>0.167944</td>\n",
       "      <td>0.958159</td>\n",
       "      <td>-0.068139</td>\n",
       "      <td>-0.097947</td>\n",
       "      <td>0.019564</td>\n",
       "      <td>0.983081</td>\n",
       "      <td>-0.077770</td>\n",
       "      <td>-0.098805</td>\n",
       "      <td>0.028398</td>\n",
       "      <td>1.000000</td>\n",
       "      <td>-0.085472</td>\n",
       "      <td>-0.096831</td>\n",
       "      <td>0.037517</td>\n",
       "      <td>0.983739</td>\n",
       "      <td>-0.091327</td>\n",
       "      <td>-0.041569</td>\n",
       "    </tr>\n",
       "    <tr>\n",
       "      <th>deal_probability_20_closest_mean</th>\n",
       "      <td>-0.122972</td>\n",
       "      <td>-0.031530</td>\n",
       "      <td>-0.080375</td>\n",
       "      <td>0.818125</td>\n",
       "      <td>-0.126942</td>\n",
       "      <td>-0.003589</td>\n",
       "      <td>-0.082947</td>\n",
       "      <td>0.925186</td>\n",
       "      <td>-0.128414</td>\n",
       "      <td>-0.005258</td>\n",
       "      <td>-0.085472</td>\n",
       "      <td>1.000000</td>\n",
       "      <td>-0.128055</td>\n",
       "      <td>-0.007320</td>\n",
       "      <td>-0.088685</td>\n",
       "      <td>0.953193</td>\n",
       "      <td>0.432332</td>\n",
       "    </tr>\n",
       "    <tr>\n",
       "      <th>40_closest_avg_dist</th>\n",
       "      <td>0.909109</td>\n",
       "      <td>-0.005000</td>\n",
       "      <td>-0.092301</td>\n",
       "      <td>-0.100409</td>\n",
       "      <td>0.955400</td>\n",
       "      <td>-0.001346</td>\n",
       "      <td>-0.094846</td>\n",
       "      <td>-0.115424</td>\n",
       "      <td>0.987456</td>\n",
       "      <td>-0.001909</td>\n",
       "      <td>-0.096831</td>\n",
       "      <td>-0.128055</td>\n",
       "      <td>1.000000</td>\n",
       "      <td>-0.002282</td>\n",
       "      <td>-0.098572</td>\n",
       "      <td>-0.139158</td>\n",
       "      <td>-0.065579</td>\n",
       "    </tr>\n",
       "    <tr>\n",
       "      <th>price_40_closest_mean</th>\n",
       "      <td>-0.004771</td>\n",
       "      <td>0.092743</td>\n",
       "      <td>0.035174</td>\n",
       "      <td>-0.006400</td>\n",
       "      <td>-0.003838</td>\n",
       "      <td>0.475245</td>\n",
       "      <td>0.036402</td>\n",
       "      <td>-0.006457</td>\n",
       "      <td>-0.002957</td>\n",
       "      <td>0.670382</td>\n",
       "      <td>0.037517</td>\n",
       "      <td>-0.007320</td>\n",
       "      <td>-0.002282</td>\n",
       "      <td>1.000000</td>\n",
       "      <td>0.038563</td>\n",
       "      <td>-0.007945</td>\n",
       "      <td>-0.003877</td>\n",
       "    </tr>\n",
       "    <tr>\n",
       "      <th>item_seq_number_40_closest_mean</th>\n",
       "      <td>-0.097470</td>\n",
       "      <td>0.169840</td>\n",
       "      <td>0.936886</td>\n",
       "      <td>-0.070700</td>\n",
       "      <td>-0.099742</td>\n",
       "      <td>0.019810</td>\n",
       "      <td>0.961447</td>\n",
       "      <td>-0.080726</td>\n",
       "      <td>-0.100496</td>\n",
       "      <td>0.028801</td>\n",
       "      <td>0.983739</td>\n",
       "      <td>-0.088685</td>\n",
       "      <td>-0.098572</td>\n",
       "      <td>0.038563</td>\n",
       "      <td>1.000000</td>\n",
       "      <td>-0.094588</td>\n",
       "      <td>-0.043072</td>\n",
       "    </tr>\n",
       "    <tr>\n",
       "      <th>deal_probability_40_closest_mean</th>\n",
       "      <td>-0.133854</td>\n",
       "      <td>-0.031789</td>\n",
       "      <td>-0.085959</td>\n",
       "      <td>0.776596</td>\n",
       "      <td>-0.138147</td>\n",
       "      <td>-0.003667</td>\n",
       "      <td>-0.088673</td>\n",
       "      <td>0.878968</td>\n",
       "      <td>-0.139762</td>\n",
       "      <td>-0.005464</td>\n",
       "      <td>-0.091327</td>\n",
       "      <td>0.953193</td>\n",
       "      <td>-0.139158</td>\n",
       "      <td>-0.007945</td>\n",
       "      <td>-0.094588</td>\n",
       "      <td>1.000000</td>\n",
       "      <td>0.441786</td>\n",
       "    </tr>\n",
       "    <tr>\n",
       "      <th>target</th>\n",
       "      <td>-0.060841</td>\n",
       "      <td>-0.016269</td>\n",
       "      <td>-0.039176</td>\n",
       "      <td>0.377628</td>\n",
       "      <td>-0.063865</td>\n",
       "      <td>-0.002088</td>\n",
       "      <td>-0.040340</td>\n",
       "      <td>0.411679</td>\n",
       "      <td>-0.065458</td>\n",
       "      <td>-0.002996</td>\n",
       "      <td>-0.041569</td>\n",
       "      <td>0.432332</td>\n",
       "      <td>-0.065579</td>\n",
       "      <td>-0.003877</td>\n",
       "      <td>-0.043072</td>\n",
       "      <td>0.441786</td>\n",
       "      <td>1.000000</td>\n",
       "    </tr>\n",
       "  </tbody>\n",
       "</table>\n",
       "</div>"
      ],
      "text/plain": [
       "                                  5_closest_avg_dist  price_5_closest_mean  \\\n",
       "5_closest_avg_dist                          1.000000             -0.014205   \n",
       "price_5_closest_mean                       -0.014205              1.000000   \n",
       "item_seq_number_5_closest_mean             -0.091738              0.160624   \n",
       "deal_probability_5_closest_mean            -0.093835             -0.028159   \n",
       "10_closest_avg_dist                         0.984972             -0.012218   \n",
       "price_10_closest_mean                      -0.003515              0.082910   \n",
       "item_seq_number_10_closest_mean            -0.093842              0.165432   \n",
       "deal_probability_10_closest_mean           -0.109662             -0.030406   \n",
       "20_closest_avg_dist                         0.951325             -0.008660   \n",
       "price_20_closest_mean                      -0.004601              0.087181   \n",
       "item_seq_number_20_closest_mean            -0.095569              0.167944   \n",
       "deal_probability_20_closest_mean           -0.122972             -0.031530   \n",
       "40_closest_avg_dist                         0.909109             -0.005000   \n",
       "price_40_closest_mean                      -0.004771              0.092743   \n",
       "item_seq_number_40_closest_mean            -0.097470              0.169840   \n",
       "deal_probability_40_closest_mean           -0.133854             -0.031789   \n",
       "target                                     -0.060841             -0.016269   \n",
       "\n",
       "                                  item_seq_number_5_closest_mean  \\\n",
       "5_closest_avg_dist                                     -0.091738   \n",
       "price_5_closest_mean                                    0.160624   \n",
       "item_seq_number_5_closest_mean                          1.000000   \n",
       "deal_probability_5_closest_mean                        -0.064070   \n",
       "10_closest_avg_dist                                    -0.094051   \n",
       "price_10_closest_mean                                   0.018640   \n",
       "item_seq_number_10_closest_mean                         0.979368   \n",
       "deal_probability_10_closest_mean                       -0.073117   \n",
       "20_closest_avg_dist                                    -0.094503   \n",
       "price_20_closest_mean                                   0.026802   \n",
       "item_seq_number_20_closest_mean                         0.958159   \n",
       "deal_probability_20_closest_mean                       -0.080375   \n",
       "40_closest_avg_dist                                    -0.092301   \n",
       "price_40_closest_mean                                   0.035174   \n",
       "item_seq_number_40_closest_mean                         0.936886   \n",
       "deal_probability_40_closest_mean                       -0.085959   \n",
       "target                                                 -0.039176   \n",
       "\n",
       "                                  deal_probability_5_closest_mean  \\\n",
       "5_closest_avg_dist                                      -0.093835   \n",
       "price_5_closest_mean                                    -0.028159   \n",
       "item_seq_number_5_closest_mean                          -0.064070   \n",
       "deal_probability_5_closest_mean                          1.000000   \n",
       "10_closest_avg_dist                                     -0.097554   \n",
       "price_10_closest_mean                                   -0.003458   \n",
       "item_seq_number_10_closest_mean                         -0.066003   \n",
       "deal_probability_10_closest_mean                         0.886700   \n",
       "20_closest_avg_dist                                     -0.099862   \n",
       "price_20_closest_mean                                   -0.004727   \n",
       "item_seq_number_20_closest_mean                         -0.068139   \n",
       "deal_probability_20_closest_mean                         0.818125   \n",
       "40_closest_avg_dist                                     -0.100409   \n",
       "price_40_closest_mean                                   -0.006400   \n",
       "item_seq_number_40_closest_mean                         -0.070700   \n",
       "deal_probability_40_closest_mean                         0.776596   \n",
       "target                                                   0.377628   \n",
       "\n",
       "                                  10_closest_avg_dist  price_10_closest_mean  \\\n",
       "5_closest_avg_dist                           0.984972              -0.003515   \n",
       "price_5_closest_mean                        -0.012218               0.082910   \n",
       "item_seq_number_5_closest_mean              -0.094051               0.018640   \n",
       "deal_probability_5_closest_mean             -0.097554              -0.003458   \n",
       "10_closest_avg_dist                          1.000000              -0.002598   \n",
       "price_10_closest_mean                       -0.002598               1.000000   \n",
       "item_seq_number_10_closest_mean             -0.096300               0.019258   \n",
       "deal_probability_10_closest_mean            -0.113350              -0.003292   \n",
       "20_closest_avg_dist                          0.986737              -0.001868   \n",
       "price_20_closest_mean                       -0.003454               0.709073   \n",
       "item_seq_number_20_closest_mean             -0.097947               0.019564   \n",
       "deal_probability_20_closest_mean            -0.126942              -0.003589   \n",
       "40_closest_avg_dist                          0.955400              -0.001346   \n",
       "price_40_closest_mean                       -0.003838               0.475245   \n",
       "item_seq_number_40_closest_mean             -0.099742               0.019810   \n",
       "deal_probability_40_closest_mean            -0.138147              -0.003667   \n",
       "target                                      -0.063865              -0.002088   \n",
       "\n",
       "                                  item_seq_number_10_closest_mean  \\\n",
       "5_closest_avg_dist                                      -0.093842   \n",
       "price_5_closest_mean                                     0.165432   \n",
       "item_seq_number_5_closest_mean                           0.979368   \n",
       "deal_probability_5_closest_mean                         -0.066003   \n",
       "10_closest_avg_dist                                     -0.096300   \n",
       "price_10_closest_mean                                    0.019258   \n",
       "item_seq_number_10_closest_mean                          1.000000   \n",
       "deal_probability_10_closest_mean                        -0.075383   \n",
       "20_closest_avg_dist                                     -0.096998   \n",
       "price_20_closest_mean                                    0.027741   \n",
       "item_seq_number_20_closest_mean                          0.983081   \n",
       "deal_probability_20_closest_mean                        -0.082947   \n",
       "40_closest_avg_dist                                     -0.094846   \n",
       "price_40_closest_mean                                    0.036402   \n",
       "item_seq_number_40_closest_mean                          0.961447   \n",
       "deal_probability_40_closest_mean                        -0.088673   \n",
       "target                                                  -0.040340   \n",
       "\n",
       "                                  deal_probability_10_closest_mean  \\\n",
       "5_closest_avg_dist                                       -0.109662   \n",
       "price_5_closest_mean                                     -0.030406   \n",
       "item_seq_number_5_closest_mean                           -0.073117   \n",
       "deal_probability_5_closest_mean                           0.886700   \n",
       "10_closest_avg_dist                                      -0.113350   \n",
       "price_10_closest_mean                                    -0.003292   \n",
       "item_seq_number_10_closest_mean                          -0.075383   \n",
       "deal_probability_10_closest_mean                          1.000000   \n",
       "20_closest_avg_dist                                      -0.115180   \n",
       "price_20_closest_mean                                    -0.004587   \n",
       "item_seq_number_20_closest_mean                          -0.077770   \n",
       "deal_probability_20_closest_mean                          0.925186   \n",
       "40_closest_avg_dist                                      -0.115424   \n",
       "price_40_closest_mean                                    -0.006457   \n",
       "item_seq_number_40_closest_mean                          -0.080726   \n",
       "deal_probability_40_closest_mean                          0.878968   \n",
       "target                                                    0.411679   \n",
       "\n",
       "                                  20_closest_avg_dist  price_20_closest_mean  \\\n",
       "5_closest_avg_dist                           0.951325              -0.004601   \n",
       "price_5_closest_mean                        -0.008660               0.087181   \n",
       "item_seq_number_5_closest_mean              -0.094503               0.026802   \n",
       "deal_probability_5_closest_mean             -0.099862              -0.004727   \n",
       "10_closest_avg_dist                          0.986737              -0.003454   \n",
       "price_10_closest_mean                       -0.001868               0.709073   \n",
       "item_seq_number_10_closest_mean             -0.096998               0.027741   \n",
       "deal_probability_10_closest_mean            -0.115180              -0.004587   \n",
       "20_closest_avg_dist                          1.000000              -0.002570   \n",
       "price_20_closest_mean                       -0.002570               1.000000   \n",
       "item_seq_number_20_closest_mean             -0.098805               0.028398   \n",
       "deal_probability_20_closest_mean            -0.128414              -0.005258   \n",
       "40_closest_avg_dist                          0.987456              -0.001909   \n",
       "price_40_closest_mean                       -0.002957               0.670382   \n",
       "item_seq_number_40_closest_mean             -0.100496               0.028801   \n",
       "deal_probability_40_closest_mean            -0.139762              -0.005464   \n",
       "target                                      -0.065458              -0.002996   \n",
       "\n",
       "                                  item_seq_number_20_closest_mean  \\\n",
       "5_closest_avg_dist                                      -0.095569   \n",
       "price_5_closest_mean                                     0.167944   \n",
       "item_seq_number_5_closest_mean                           0.958159   \n",
       "deal_probability_5_closest_mean                         -0.068139   \n",
       "10_closest_avg_dist                                     -0.097947   \n",
       "price_10_closest_mean                                    0.019564   \n",
       "item_seq_number_10_closest_mean                          0.983081   \n",
       "deal_probability_10_closest_mean                        -0.077770   \n",
       "20_closest_avg_dist                                     -0.098805   \n",
       "price_20_closest_mean                                    0.028398   \n",
       "item_seq_number_20_closest_mean                          1.000000   \n",
       "deal_probability_20_closest_mean                        -0.085472   \n",
       "40_closest_avg_dist                                     -0.096831   \n",
       "price_40_closest_mean                                    0.037517   \n",
       "item_seq_number_40_closest_mean                          0.983739   \n",
       "deal_probability_40_closest_mean                        -0.091327   \n",
       "target                                                  -0.041569   \n",
       "\n",
       "                                  deal_probability_20_closest_mean  \\\n",
       "5_closest_avg_dist                                       -0.122972   \n",
       "price_5_closest_mean                                     -0.031530   \n",
       "item_seq_number_5_closest_mean                           -0.080375   \n",
       "deal_probability_5_closest_mean                           0.818125   \n",
       "10_closest_avg_dist                                      -0.126942   \n",
       "price_10_closest_mean                                    -0.003589   \n",
       "item_seq_number_10_closest_mean                          -0.082947   \n",
       "deal_probability_10_closest_mean                          0.925186   \n",
       "20_closest_avg_dist                                      -0.128414   \n",
       "price_20_closest_mean                                    -0.005258   \n",
       "item_seq_number_20_closest_mean                          -0.085472   \n",
       "deal_probability_20_closest_mean                          1.000000   \n",
       "40_closest_avg_dist                                      -0.128055   \n",
       "price_40_closest_mean                                    -0.007320   \n",
       "item_seq_number_40_closest_mean                          -0.088685   \n",
       "deal_probability_40_closest_mean                          0.953193   \n",
       "target                                                    0.432332   \n",
       "\n",
       "                                  40_closest_avg_dist  price_40_closest_mean  \\\n",
       "5_closest_avg_dist                           0.909109              -0.004771   \n",
       "price_5_closest_mean                        -0.005000               0.092743   \n",
       "item_seq_number_5_closest_mean              -0.092301               0.035174   \n",
       "deal_probability_5_closest_mean             -0.100409              -0.006400   \n",
       "10_closest_avg_dist                          0.955400              -0.003838   \n",
       "price_10_closest_mean                       -0.001346               0.475245   \n",
       "item_seq_number_10_closest_mean             -0.094846               0.036402   \n",
       "deal_probability_10_closest_mean            -0.115424              -0.006457   \n",
       "20_closest_avg_dist                          0.987456              -0.002957   \n",
       "price_20_closest_mean                       -0.001909               0.670382   \n",
       "item_seq_number_20_closest_mean             -0.096831               0.037517   \n",
       "deal_probability_20_closest_mean            -0.128055              -0.007320   \n",
       "40_closest_avg_dist                          1.000000              -0.002282   \n",
       "price_40_closest_mean                       -0.002282               1.000000   \n",
       "item_seq_number_40_closest_mean             -0.098572               0.038563   \n",
       "deal_probability_40_closest_mean            -0.139158              -0.007945   \n",
       "target                                      -0.065579              -0.003877   \n",
       "\n",
       "                                  item_seq_number_40_closest_mean  \\\n",
       "5_closest_avg_dist                                      -0.097470   \n",
       "price_5_closest_mean                                     0.169840   \n",
       "item_seq_number_5_closest_mean                           0.936886   \n",
       "deal_probability_5_closest_mean                         -0.070700   \n",
       "10_closest_avg_dist                                     -0.099742   \n",
       "price_10_closest_mean                                    0.019810   \n",
       "item_seq_number_10_closest_mean                          0.961447   \n",
       "deal_probability_10_closest_mean                        -0.080726   \n",
       "20_closest_avg_dist                                     -0.100496   \n",
       "price_20_closest_mean                                    0.028801   \n",
       "item_seq_number_20_closest_mean                          0.983739   \n",
       "deal_probability_20_closest_mean                        -0.088685   \n",
       "40_closest_avg_dist                                     -0.098572   \n",
       "price_40_closest_mean                                    0.038563   \n",
       "item_seq_number_40_closest_mean                          1.000000   \n",
       "deal_probability_40_closest_mean                        -0.094588   \n",
       "target                                                  -0.043072   \n",
       "\n",
       "                                  deal_probability_40_closest_mean    target  \n",
       "5_closest_avg_dist                                       -0.133854 -0.060841  \n",
       "price_5_closest_mean                                     -0.031789 -0.016269  \n",
       "item_seq_number_5_closest_mean                           -0.085959 -0.039176  \n",
       "deal_probability_5_closest_mean                           0.776596  0.377628  \n",
       "10_closest_avg_dist                                      -0.138147 -0.063865  \n",
       "price_10_closest_mean                                    -0.003667 -0.002088  \n",
       "item_seq_number_10_closest_mean                          -0.088673 -0.040340  \n",
       "deal_probability_10_closest_mean                          0.878968  0.411679  \n",
       "20_closest_avg_dist                                      -0.139762 -0.065458  \n",
       "price_20_closest_mean                                    -0.005464 -0.002996  \n",
       "item_seq_number_20_closest_mean                          -0.091327 -0.041569  \n",
       "deal_probability_20_closest_mean                          0.953193  0.432332  \n",
       "40_closest_avg_dist                                      -0.139158 -0.065579  \n",
       "price_40_closest_mean                                    -0.007945 -0.003877  \n",
       "item_seq_number_40_closest_mean                          -0.094588 -0.043072  \n",
       "deal_probability_40_closest_mean                          1.000000  0.441786  \n",
       "target                                                    0.441786  1.000000  "
      ]
     },
     "execution_count": 10,
     "metadata": {},
     "output_type": "execute_result"
    }
   ],
   "source": [
    "train_res.corr()"
   ]
  },
  {
   "cell_type": "markdown",
   "metadata": {},
   "source": [
    "## By fold: (Warining: Will runs really long)"
   ]
  },
  {
   "cell_type": "code",
   "execution_count": 28,
   "metadata": {
    "collapsed": true
   },
   "outputs": [
    {
     "name": "stdout",
     "output_type": "stream",
     "text": [
      "Processing fold # = 1\n"
     ]
    },
    {
     "name": "stderr",
     "output_type": "stream",
     "text": [
      "  0%|                                                                           | 79/300685 [00:25<26:58:56,  3.09it/s]"
     ]
    },
    {
     "ename": "KeyboardInterrupt",
     "evalue": "",
     "output_type": "error",
     "traceback": [
      "\u001b[1;31m---------------------------------------------------------------------------\u001b[0m",
      "\u001b[1;31mKeyboardInterrupt\u001b[0m                         Traceback (most recent call last)",
      "\u001b[1;32m<ipython-input-28-8160bdb741e8>\u001b[0m in \u001b[0;36m<module>\u001b[1;34m()\u001b[0m\n\u001b[0;32m     10\u001b[0m     \u001b[0mval_X\u001b[0m \u001b[1;33m=\u001b[0m \u001b[0mtrain_X\u001b[0m\u001b[1;33m[\u001b[0m\u001b[0mval_ix\u001b[0m\u001b[1;33m,\u001b[0m\u001b[1;33m:\u001b[0m\u001b[1;33m]\u001b[0m\u001b[1;33m\u001b[0m\u001b[0m\n\u001b[0;32m     11\u001b[0m \u001b[1;33m\u001b[0m\u001b[0m\n\u001b[1;32m---> 12\u001b[1;33m     \u001b[0mval_dist\u001b[0m\u001b[1;33m,\u001b[0m \u001b[0mval_ind\u001b[0m \u001b[1;33m=\u001b[0m \u001b[0mget_predictions\u001b[0m\u001b[1;33m(\u001b[0m\u001b[0mtr_X\u001b[0m\u001b[1;33m,\u001b[0m \u001b[0mval_X\u001b[0m\u001b[1;33m)\u001b[0m\u001b[1;33m\u001b[0m\u001b[0m\n\u001b[0m\u001b[0;32m     13\u001b[0m     \u001b[0mtest_dist\u001b[0m\u001b[1;33m,\u001b[0m \u001b[0mtest_ind\u001b[0m \u001b[1;33m=\u001b[0m \u001b[0mget_predictions\u001b[0m\u001b[1;33m(\u001b[0m\u001b[0mtr_X\u001b[0m\u001b[1;33m,\u001b[0m \u001b[0mtest_X\u001b[0m\u001b[1;33m)\u001b[0m\u001b[1;33m\u001b[0m\u001b[0m\n\u001b[0;32m     14\u001b[0m \u001b[1;33m\u001b[0m\u001b[0m\n",
      "\u001b[1;32m<ipython-input-27-76863a7566fe>\u001b[0m in \u001b[0;36mget_predictions\u001b[1;34m(tr_x, te_x, is_removed_first)\u001b[0m\n\u001b[0;32m     11\u001b[0m         k_xval, k_indice = sess.run([top_k_xvals, top_k_indices], \n\u001b[0;32m     12\u001b[0m                                     feed_dict={\n\u001b[1;32m---> 13\u001b[1;33m                                         \u001b[0mx_data_train\u001b[0m\u001b[1;33m:\u001b[0m \u001b[0mtr_x\u001b[0m\u001b[1;33m,\u001b[0m \u001b[0mx_data_test\u001b[0m\u001b[1;33m:\u001b[0m \u001b[0mx_batch\u001b[0m\u001b[1;33m\u001b[0m\u001b[0m\n\u001b[0m\u001b[0;32m     14\u001b[0m                                     })\n\u001b[0;32m     15\u001b[0m         \u001b[1;32mif\u001b[0m \u001b[0mis_removed_first\u001b[0m\u001b[1;33m:\u001b[0m\u001b[1;33m\u001b[0m\u001b[0m\n",
      "\u001b[1;32mE:\\Anaconda3\\envs\\tensorflow\\lib\\site-packages\\tensorflow\\python\\client\\session.py\u001b[0m in \u001b[0;36mrun\u001b[1;34m(self, fetches, feed_dict, options, run_metadata)\u001b[0m\n\u001b[0;32m    903\u001b[0m     \u001b[1;32mtry\u001b[0m\u001b[1;33m:\u001b[0m\u001b[1;33m\u001b[0m\u001b[0m\n\u001b[0;32m    904\u001b[0m       result = self._run(None, fetches, feed_dict, options_ptr,\n\u001b[1;32m--> 905\u001b[1;33m                          run_metadata_ptr)\n\u001b[0m\u001b[0;32m    906\u001b[0m       \u001b[1;32mif\u001b[0m \u001b[0mrun_metadata\u001b[0m\u001b[1;33m:\u001b[0m\u001b[1;33m\u001b[0m\u001b[0m\n\u001b[0;32m    907\u001b[0m         \u001b[0mproto_data\u001b[0m \u001b[1;33m=\u001b[0m \u001b[0mtf_session\u001b[0m\u001b[1;33m.\u001b[0m\u001b[0mTF_GetBuffer\u001b[0m\u001b[1;33m(\u001b[0m\u001b[0mrun_metadata_ptr\u001b[0m\u001b[1;33m)\u001b[0m\u001b[1;33m\u001b[0m\u001b[0m\n",
      "\u001b[1;32mE:\\Anaconda3\\envs\\tensorflow\\lib\\site-packages\\tensorflow\\python\\client\\session.py\u001b[0m in \u001b[0;36m_run\u001b[1;34m(self, handle, fetches, feed_dict, options, run_metadata)\u001b[0m\n\u001b[0;32m   1107\u001b[0m             \u001b[0mfeed_handles\u001b[0m\u001b[1;33m[\u001b[0m\u001b[0msubfeed_t\u001b[0m\u001b[1;33m]\u001b[0m \u001b[1;33m=\u001b[0m \u001b[0msubfeed_val\u001b[0m\u001b[1;33m\u001b[0m\u001b[0m\n\u001b[0;32m   1108\u001b[0m           \u001b[1;32melse\u001b[0m\u001b[1;33m:\u001b[0m\u001b[1;33m\u001b[0m\u001b[0m\n\u001b[1;32m-> 1109\u001b[1;33m             \u001b[0mnp_val\u001b[0m \u001b[1;33m=\u001b[0m \u001b[0mnp\u001b[0m\u001b[1;33m.\u001b[0m\u001b[0masarray\u001b[0m\u001b[1;33m(\u001b[0m\u001b[0msubfeed_val\u001b[0m\u001b[1;33m,\u001b[0m \u001b[0mdtype\u001b[0m\u001b[1;33m=\u001b[0m\u001b[0msubfeed_dtype\u001b[0m\u001b[1;33m)\u001b[0m\u001b[1;33m\u001b[0m\u001b[0m\n\u001b[0m\u001b[0;32m   1110\u001b[0m \u001b[1;33m\u001b[0m\u001b[0m\n\u001b[0;32m   1111\u001b[0m           if (not is_tensor_handle_feed and\n",
      "\u001b[1;32mE:\\Anaconda3\\envs\\tensorflow\\lib\\site-packages\\numpy\\core\\numeric.py\u001b[0m in \u001b[0;36masarray\u001b[1;34m(a, dtype, order)\u001b[0m\n\u001b[0;32m    490\u001b[0m \u001b[1;33m\u001b[0m\u001b[0m\n\u001b[0;32m    491\u001b[0m     \"\"\"\n\u001b[1;32m--> 492\u001b[1;33m     \u001b[1;32mreturn\u001b[0m \u001b[0marray\u001b[0m\u001b[1;33m(\u001b[0m\u001b[0ma\u001b[0m\u001b[1;33m,\u001b[0m \u001b[0mdtype\u001b[0m\u001b[1;33m,\u001b[0m \u001b[0mcopy\u001b[0m\u001b[1;33m=\u001b[0m\u001b[1;32mFalse\u001b[0m\u001b[1;33m,\u001b[0m \u001b[0morder\u001b[0m\u001b[1;33m=\u001b[0m\u001b[0morder\u001b[0m\u001b[1;33m)\u001b[0m\u001b[1;33m\u001b[0m\u001b[0m\n\u001b[0m\u001b[0;32m    493\u001b[0m \u001b[1;33m\u001b[0m\u001b[0m\n\u001b[0;32m    494\u001b[0m \u001b[1;33m\u001b[0m\u001b[0m\n",
      "\u001b[1;31mKeyboardInterrupt\u001b[0m: "
     ]
    }
   ],
   "source": [
    "from sklearn.model_selection import KFold\n",
    "kf = KFold(5, shuffle=True, random_state=SEED)\n",
    "\n",
    "fold=1\n",
    "for train_ix, val_ix in kf.split(train_X):\n",
    "    print('Processing fold # =', fold)\n",
    "    \n",
    "    train_ix = np.random.choice(train_ix, len(val_ix), replace=False)\n",
    "    tr_X, tr_y = train_X[train_ix,:], train_y[train_ix]\n",
    "    val_X = train_X[val_ix,:]\n",
    "        \n",
    "    val_dist, val_ind = get_predictions(tr_X, val_X)\n",
    "    test_dist, test_ind = get_predictions(tr_X, test_X)\n",
    "    \n",
    "    with open('knn_dist_and_ind_fold_{}.data'.format(fold), 'wb') as handle:\n",
    "        pickle.dump(\n",
    "            {\n",
    "                'train_ix': train_ix,\n",
    "                'val_dist': val_dist, \n",
    "                'val_ind': val_ind,\n",
    "                'test_dist': test_dist,\n",
    "                'test_ind': test_ind\n",
    "            }, handle)\n",
    "    \n",
    "    del val_dist, val_ind, test_dist, test_ind; gc.collect()\n",
    "    fold += 1"
   ]
  }
 ],
 "metadata": {
  "kernelspec": {
   "display_name": "py3.5 tensorflow",
   "language": "python",
   "name": "tensorflow"
  },
  "language_info": {
   "codemirror_mode": {
    "name": "ipython",
    "version": 3
   },
   "file_extension": ".py",
   "mimetype": "text/x-python",
   "name": "python",
   "nbconvert_exporter": "python",
   "pygments_lexer": "ipython3",
   "version": "3.5.5"
  }
 },
 "nbformat": 4,
 "nbformat_minor": 2
}
