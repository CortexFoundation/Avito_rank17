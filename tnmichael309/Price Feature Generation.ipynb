{
 "cells": [
  {
   "cell_type": "code",
   "execution_count": 1,
   "metadata": {},
   "outputs": [],
   "source": [
    "import pandas as pd\n",
    "import numpy as np"
   ]
  },
  {
   "cell_type": "code",
   "execution_count": 2,
   "metadata": {},
   "outputs": [],
   "source": [
    "train = pd.read_csv('train.csv', parse_dates=['activation_date']).sort_values('activation_date').reset_index(drop=True)\n",
    "test = pd.read_csv('test.csv', parse_dates=['activation_date'])"
   ]
  },
  {
   "cell_type": "code",
   "execution_count": 3,
   "metadata": {},
   "outputs": [],
   "source": [
    "train['price'] = train.price.fillna(-1)\n",
    "test['price'] = test.price.fillna(-1)"
   ]
  },
  {
   "cell_type": "code",
   "execution_count": 4,
   "metadata": {},
   "outputs": [],
   "source": [
    "sorted_prices = sorted(train.price.values)"
   ]
  },
  {
   "cell_type": "code",
   "execution_count": 5,
   "metadata": {},
   "outputs": [
    {
     "name": "stdout",
     "output_type": "stream",
     "text": [
      "price_binned_10  dp std = 0.25536325051866854\n",
      "real categories # = 10\n",
      "price_binned_20  dp std = 0.2538109216102096\n",
      "real categories # = 17\n",
      "price_binned_30  dp std = 0.2534462040140496\n",
      "real categories # = 27\n",
      "price_binned_40  dp std = 0.24722297462536957\n",
      "real categories # = 34\n",
      "price_binned_50  dp std = 0.2487651950565567\n",
      "real categories # = 41\n",
      "price_binned_60  dp std = 0.2522740323114417\n",
      "real categories # = 42\n",
      "price_binned_70  dp std = 0.2492686325771821\n",
      "real categories # = 50\n",
      "price_binned_80  dp std = 0.24613363742369912\n",
      "real categories # = 55\n",
      "price_binned_90  dp std = 0.2484157060273815\n",
      "real categories # = 55\n",
      "price_binned_100  dp std = 0.2467635687313918\n",
      "real categories # = 66\n",
      "price_binned_110  dp std = 0.24534813158000984\n",
      "real categories # = 65\n",
      "price_binned_120  dp std = 0.24600023755026326\n",
      "real categories # = 67\n",
      "price_binned_130  dp std = 0.24606164148227266\n",
      "real categories # = 68\n",
      "price_binned_140  dp std = 0.2439071454638305\n",
      "real categories # = 76\n",
      "price_binned_150  dp std = 0.2414413848213947\n",
      "real categories # = 82\n",
      "price_binned_160  dp std = 0.2434502831404961\n",
      "real categories # = 84\n",
      "price_binned_170  dp std = 0.2439253895918678\n",
      "real categories # = 88\n",
      "price_binned_180  dp std = 0.24443480330411022\n",
      "real categories # = 87\n",
      "price_binned_190  dp std = 0.24239596316206297\n",
      "real categories # = 92\n",
      "price_binned_200  dp std = 0.2411387180619649\n",
      "real categories # = 103\n",
      "price_binned_210  dp std = 0.2408683224741176\n",
      "real categories # = 102\n",
      "price_binned_220  dp std = 0.24025431343352613\n",
      "real categories # = 101\n",
      "price_binned_230  dp std = 0.24002463013391617\n",
      "real categories # = 103\n",
      "price_binned_240  dp std = 0.24078477110165628\n",
      "real categories # = 110\n",
      "price_binned_250  dp std = 0.23664652174892561\n",
      "real categories # = 114\n",
      "price_binned_260  dp std = 0.24039962726213068\n",
      "real categories # = 115\n",
      "price_binned_270  dp std = 0.2384527370213462\n",
      "real categories # = 118\n",
      "price_binned_280  dp std = 0.23721707873473397\n",
      "real categories # = 122\n",
      "price_binned_290  dp std = 0.23905912930755618\n",
      "real categories # = 123\n",
      "price_binned_300  dp std = 0.23694824547649143\n",
      "real categories # = 130\n",
      "0.23664652174892561 250\n"
     ]
    }
   ],
   "source": [
    "best_bin = None\n",
    "best_std = None\n",
    "\n",
    "for bin_size in range(10, 310, 10):\n",
    "    feat_name = 'price_binned_{}'.format(bin_size)\n",
    "    \n",
    "    _, bins = pd.qcut(sorted_prices, bin_size, labels=None, retbins=True, precision=3, duplicates='drop')\n",
    "    train.loc[:, 'price_binned_{}'.format(bin_size)] = \\\n",
    "        pd.cut(train.price, bins=bins, labels=np.arange(len(bins)-1), duplicates='drop', retbins=False)\n",
    "    \n",
    "    avg_std = train.groupby(feat_name)['deal_probability'].std().mean()\n",
    "    print(feat_name, ' dp std =',avg_std)\n",
    "    print('real categories # =', train[feat_name].nunique())\n",
    "    \n",
    "    if best_std is None or avg_std < best_std:\n",
    "        best_std = avg_std\n",
    "        best_bin = bin_size\n",
    "\n",
    "print(best_std, best_bin)"
   ]
  },
  {
   "cell_type": "markdown",
   "metadata": {},
   "source": [
    "> the best bin size param is 819200, which minimize internal group std"
   ]
  },
  {
   "cell_type": "code",
   "execution_count": 6,
   "metadata": {},
   "outputs": [
    {
     "name": "stderr",
     "output_type": "stream",
     "text": [
      "E:\\Anaconda3\\lib\\site-packages\\ipykernel_launcher.py:1: FutureWarning: Sorting because non-concatenation axis is not aligned. A future version\n",
      "of pandas will change to not sort by default.\n",
      "\n",
      "To accept the future behavior, pass 'sort=True'.\n",
      "\n",
      "To retain the current behavior and silence the warning, pass sort=False\n",
      "\n",
      "  \"\"\"Entry point for launching an IPython kernel.\n"
     ]
    }
   ],
   "source": [
    "all_df = pd.concat([train,test]).reset_index(drop=True)"
   ]
  },
  {
   "cell_type": "code",
   "execution_count": 7,
   "metadata": {},
   "outputs": [],
   "source": [
    "sorted_prices = sorted(all_df.price.values)"
   ]
  },
  {
   "cell_type": "code",
   "execution_count": 8,
   "metadata": {},
   "outputs": [],
   "source": [
    "_, bins = pd.qcut(sorted_prices, 250, labels=None, retbins=True, precision=3, duplicates='drop')\n",
    "all_df.loc[:, 'price_binned'] = \\\n",
    "    pd.cut(all_df.price, bins=bins, labels=np.arange(len(bins)-1), duplicates='drop', retbins=False)"
   ]
  },
  {
   "cell_type": "code",
   "execution_count": 9,
   "metadata": {},
   "outputs": [
    {
     "data": {
      "text/plain": [
       "17     117997\n",
       "27      92121\n",
       "12      68110\n",
       "32      57018\n",
       "9       49179\n",
       "37      48719\n",
       "14      44816\n",
       "43      36756\n",
       "6       36608\n",
       "21      32724\n",
       "23      32126\n",
       "50      31712\n",
       "19      31326\n",
       "7       29005\n",
       "40      28688\n",
       "10      28340\n",
       "13      25904\n",
       "47      23856\n",
       "61      20120\n",
       "29      18434\n",
       "45      16698\n",
       "53      14450\n",
       "55      13687\n",
       "57      13179\n",
       "25      12968\n",
       "15      12853\n",
       "49      12464\n",
       "4       12018\n",
       "68      12000\n",
       "30      11026\n",
       "        ...  \n",
       "56       5334\n",
       "22       5312\n",
       "103      5268\n",
       "95       5214\n",
       "3        5180\n",
       "91       5054\n",
       "77       4992\n",
       "79       4940\n",
       "39       4912\n",
       "1        4819\n",
       "97       4721\n",
       "0        4646\n",
       "100      4618\n",
       "106      4519\n",
       "80       4156\n",
       "24       3815\n",
       "36       3622\n",
       "26       2621\n",
       "60       2512\n",
       "65       2487\n",
       "62       2053\n",
       "41       1713\n",
       "11       1011\n",
       "46       1011\n",
       "52        973\n",
       "16        717\n",
       "58        551\n",
       "72        521\n",
       "8         119\n",
       "48         78\n",
       "Name: price_binned, Length: 112, dtype: int64"
      ]
     },
     "execution_count": 9,
     "metadata": {},
     "output_type": "execute_result"
    }
   ],
   "source": [
    "all_df.loc[:train.shape[0]-1, 'price_binned'].value_counts()"
   ]
  },
  {
   "cell_type": "code",
   "execution_count": 10,
   "metadata": {},
   "outputs": [
    {
     "data": {
      "text/plain": [
       "17     36796\n",
       "27     29031\n",
       "12     21345\n",
       "32     17775\n",
       "9      16301\n",
       "37     15573\n",
       "14     14570\n",
       "43     12276\n",
       "6      12147\n",
       "50     11136\n",
       "21     10409\n",
       "19     10017\n",
       "23      9846\n",
       "7       9768\n",
       "40      9518\n",
       "10      9422\n",
       "13      8302\n",
       "47      8198\n",
       "61      6924\n",
       "29      6060\n",
       "45      5698\n",
       "53      4975\n",
       "55      4831\n",
       "57      4649\n",
       "49      4400\n",
       "15      4236\n",
       "25      4183\n",
       "68      4140\n",
       "4       4061\n",
       "59      3974\n",
       "       ...  \n",
       "110     1920\n",
       "56      1916\n",
       "44      1913\n",
       "1       1912\n",
       "95      1888\n",
       "76      1871\n",
       "79      1820\n",
       "22      1795\n",
       "33      1766\n",
       "97      1764\n",
       "100     1712\n",
       "77      1711\n",
       "39      1686\n",
       "106     1639\n",
       "80      1591\n",
       "36      1279\n",
       "24      1275\n",
       "65       965\n",
       "60       932\n",
       "26       891\n",
       "62       813\n",
       "41       647\n",
       "11       357\n",
       "52       339\n",
       "46       332\n",
       "16       265\n",
       "58       209\n",
       "72       183\n",
       "8         46\n",
       "48        25\n",
       "Name: price_binned, Length: 112, dtype: int64"
      ]
     },
     "execution_count": 10,
     "metadata": {},
     "output_type": "execute_result"
    }
   ],
   "source": [
    "all_df.loc[train.shape[0]:, 'price_binned'].value_counts()"
   ]
  },
  {
   "cell_type": "code",
   "execution_count": 11,
   "metadata": {},
   "outputs": [
    {
     "name": "stdout",
     "output_type": "stream",
     "text": [
      "price_binned processed.\n",
      "item_seq_number processed.\n"
     ]
    }
   ],
   "source": [
    "from sklearn.model_selection import KFold\n",
    "fold_num = 10\n",
    "kf = KFold(fold_num, shuffle=True, random_state=61458379)\n",
    "\n",
    "mean_enc_cols = ['price_binned', 'item_seq_number']\n",
    "train.loc[:, 'price_binned'] = all_df.loc[:train.shape[0]-1, 'price_binned']\n",
    "\n",
    "for col in mean_enc_cols:    \n",
    "    \n",
    "    all_df.loc[:, col+'_dp_mean_enc'] = np.zeros((all_df.shape[0],))\n",
    "    all_df.loc[:, col+'_dp_std_enc'] = np.zeros((all_df.shape[0],))\n",
    "    \n",
    "    for train_ix, val_ix in kf.split(train):\n",
    "        tr_X = train.loc[train_ix, :]\n",
    "    \n",
    "        gp = tr_X.groupby(col)['deal_probability']\n",
    "        mapping, mapping_std = gp.mean(), gp.std()\n",
    "        \n",
    "        all_df.loc[val_ix, col+'_dp_mean_enc'] = all_df.loc[val_ix, col].map(mapping)\n",
    "        all_df.loc[val_ix, col+'_dp_std_enc'] = all_df.loc[val_ix, col].map(mapping_std)\n",
    "        \n",
    "        all_df.loc[train.shape[0]:, col+'_dp_mean_enc'] += all_df.loc[train.shape[0]:, col].map(mapping)\n",
    "        all_df.loc[train.shape[0]:, col+'_dp_std_enc'] += all_df.loc[train.shape[0]:, col].map(mapping_std)\n",
    "     \n",
    "    all_df.loc[train.shape[0]:, col+'_dp_mean_enc'] /= fold_num\n",
    "    all_df.loc[train.shape[0]:, col+'_dp_std_enc'] /= fold_num\n",
    "    print(col + ' processed.')\n",
    "    \n",
    "encoded_cols = ['price_binned_dp_mean_enc', 'item_seq_number_dp_mean_enc', \n",
    "                'price_binned_dp_std_enc', 'item_seq_number_dp_std_enc']\n",
    "\n",
    "all_df.loc[:,encoded_cols] = all_df[encoded_cols].fillna(0.)"
   ]
  },
  {
   "cell_type": "code",
   "execution_count": 12,
   "metadata": {},
   "outputs": [],
   "source": [
    "all_df.loc[:train.shape[0]-1, encoded_cols+['price_binned']].to_csv('train_price_binned_item_seq_features.csv', index=False)\n",
    "all_df.loc[train.shape[0]:, encoded_cols+['price_binned']].to_csv('test_price_binned_item_seq_features.csv', index=False)"
   ]
  }
 ],
 "metadata": {
  "kernelspec": {
   "display_name": "Python 3",
   "language": "python",
   "name": "python3"
  },
  "language_info": {
   "codemirror_mode": {
    "name": "ipython",
    "version": 3
   },
   "file_extension": ".py",
   "mimetype": "text/x-python",
   "name": "python",
   "nbconvert_exporter": "python",
   "pygments_lexer": "ipython3",
   "version": "3.6.5"
  }
 },
 "nbformat": 4,
 "nbformat_minor": 2
}
