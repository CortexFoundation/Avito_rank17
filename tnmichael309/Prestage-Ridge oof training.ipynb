{
 "cells": [
  {
   "cell_type": "code",
   "execution_count": 1,
   "metadata": {
    "collapsed": true
   },
   "outputs": [],
   "source": [
    "import pandas as pd\n",
    "import numpy as np\n",
    "import gc; gc.enable()\n",
    "import lightgbm as lgb\n",
    "import matplotlib.pyplot as plt\n",
    "%matplotlib inline\n",
    "import warnings \n",
    "warnings.filterwarnings('ignore')\n",
    "\n",
    "from GridSearcher import data_loader, model_loader, fit_params, get_oof_predictions, clip_rmse"
   ]
  },
  {
   "cell_type": "code",
   "execution_count": 2,
   "metadata": {
    "collapsed": true
   },
   "outputs": [],
   "source": [
    "DATA_TYPE = 'all_dense'\n",
    "IS_REGRESSION = True\n",
    "SEED = 719"
   ]
  },
  {
   "cell_type": "code",
   "execution_count": 3,
   "metadata": {},
   "outputs": [
    {
     "name": "stdout",
     "output_type": "stream",
     "text": [
      "Arguments: all_dense True True\n",
      "target loaded\n"
     ]
    }
   ],
   "source": [
    "dl = data_loader(data_type=DATA_TYPE, is_regression=IS_REGRESSION, is_train=True, is_pure=True)\n",
    "train_X, train_y = dl.load()"
   ]
  },
  {
   "cell_type": "code",
   "execution_count": 4,
   "metadata": {},
   "outputs": [
    {
     "name": "stdout",
     "output_type": "stream",
     "text": [
      "Arguments: all_dense True False\n",
      "target loaded\n"
     ]
    }
   ],
   "source": [
    "dl_test = data_loader(data_type=DATA_TYPE, is_regression=IS_REGRESSION, is_train=False, is_pure=True)\n",
    "test_X = dl_test.load()"
   ]
  },
  {
   "cell_type": "code",
   "execution_count": 5,
   "metadata": {},
   "outputs": [
    {
     "data": {
      "text/plain": [
       "region                                0\n",
       "city                                  0\n",
       "parent_category_name                  0\n",
       "category_name                         0\n",
       "param_1                               0\n",
       "param_2                               0\n",
       "param_3                               0\n",
       "price                                 0\n",
       "item_seq_number                       0\n",
       "user_type                             0\n",
       "image_top_1                           0\n",
       "same_activate_cnt                     0\n",
       "duration_1_mean                       0\n",
       "duration_1_med                        0\n",
       "duration_1_min                        0\n",
       "duration_1_max                        0\n",
       "duration_1_std                        0\n",
       "duration_2_mean                       0\n",
       "duration_2_med                        0\n",
       "duration_2_min                        0\n",
       "duration_2_max                        0\n",
       "duration_2_std                        0\n",
       "duration_3_mean                       0\n",
       "duration_3_med                        0\n",
       "duration_3_max                        0\n",
       "duration_3_std                        0\n",
       "renewed_count_mean                    0\n",
       "renewed_count_med                     0\n",
       "renewed_count_max                     0\n",
       "renewed_count_std                     0\n",
       "                                     ..\n",
       "item_seq_number_cnt                   0\n",
       "region_city                           0\n",
       "parent_category_name_category_name    0\n",
       "parent_category_name_param_1          0\n",
       "parent_category_name_param_2          0\n",
       "parent_category_name_param_3          0\n",
       "category_name_param_1                 0\n",
       "category_name_param_2                 0\n",
       "category_name_param_3                 0\n",
       "parent_category_name_region           0\n",
       "category_name_region                  0\n",
       "user_type_region                      0\n",
       "user_type_city                        0\n",
       "user_type_parent_category_name        0\n",
       "user_type_category_name               0\n",
       "Weekday                               0\n",
       "woy                                   0\n",
       "dom                                   0\n",
       "item_seq_number_binned                0\n",
       "image_top_1_mean_price                0\n",
       "image_top_1_std_price                 0\n",
       "item_seq_number_binned_mean_price     0\n",
       "item_seq_number_binned_std_price      0\n",
       "price_binned                          0\n",
       "price_binned_dp_mean_enc              0\n",
       "price_binned_dp_std_enc               0\n",
       "item_seq_number_binned_dp_mean_enc    0\n",
       "item_seq_number_binned_dp_std_enc     0\n",
       "image_top_1_dp_mean_enc               0\n",
       "image_top_1_dp_std_enc                0\n",
       "Length: 136, dtype: int64"
      ]
     },
     "execution_count": 5,
     "metadata": {},
     "output_type": "execute_result"
    }
   ],
   "source": [
    "train_X.isnull().sum()"
   ]
  },
  {
   "cell_type": "code",
   "execution_count": 6,
   "metadata": {},
   "outputs": [
    {
     "data": {
      "text/plain": [
       "(1503424, 136)"
      ]
     },
     "execution_count": 6,
     "metadata": {},
     "output_type": "execute_result"
    }
   ],
   "source": [
    "train_X.shape"
   ]
  },
  {
   "cell_type": "code",
   "execution_count": 7,
   "metadata": {
    "collapsed": true
   },
   "outputs": [],
   "source": [
    "ml = model_loader(model_type='rg')"
   ]
  },
  {
   "cell_type": "markdown",
   "metadata": {},
   "source": [
    "## Price"
   ]
  },
  {
   "cell_type": "code",
   "execution_count": 23,
   "metadata": {
    "collapsed": true
   },
   "outputs": [],
   "source": [
    "features = ['price']"
   ]
  },
  {
   "cell_type": "code",
   "execution_count": 12,
   "metadata": {
    "collapsed": true
   },
   "outputs": [
    {
     "name": "stdout",
     "output_type": "stream",
     "text": [
      "{'alpha': 0.001} loss:0.259378\n",
      "{'alpha': 0.001} loss:0.261260\n",
      "{'alpha': 0.001} loss:0.257922\n",
      "{'alpha': 0.001} loss:0.260588\n",
      "{'alpha': 0.001} loss:0.258667\n",
      "=================>{'alpha': 0.001} loss:0.259563\n",
      "{'alpha': 0.01} loss:0.259378\n",
      "{'alpha': 0.01} loss:0.261260\n",
      "{'alpha': 0.01} loss:0.257922\n",
      "{'alpha': 0.01} loss:0.260588\n",
      "{'alpha': 0.01} loss:0.258667\n",
      "=================>{'alpha': 0.01} loss:0.259563\n",
      "{'alpha': 0.1} loss:0.259378\n",
      "{'alpha': 0.1} loss:0.261260\n",
      "{'alpha': 0.1} loss:0.257922\n",
      "{'alpha': 0.1} loss:0.260588\n",
      "{'alpha': 0.1} loss:0.258667\n",
      "=================>{'alpha': 0.1} loss:0.259563\n",
      "{'alpha': 0.5} loss:0.259378\n",
      "{'alpha': 0.5} loss:0.261260\n",
      "{'alpha': 0.5} loss:0.257922\n",
      "{'alpha': 0.5} loss:0.260588\n",
      "{'alpha': 0.5} loss:0.258667\n",
      "=================>{'alpha': 0.5} loss:0.259563\n",
      "{'alpha': 1.0} loss:0.259378\n",
      "{'alpha': 1.0} loss:0.261260\n",
      "{'alpha': 1.0} loss:0.257922\n",
      "{'alpha': 1.0} loss:0.260588\n",
      "{'alpha': 1.0} loss:0.258667\n",
      "=================>{'alpha': 1.0} loss:0.259563\n",
      "{'alpha': 2.0} loss:0.259378\n",
      "{'alpha': 2.0} loss:0.261260\n",
      "{'alpha': 2.0} loss:0.257922\n",
      "{'alpha': 2.0} loss:0.260588\n",
      "{'alpha': 2.0} loss:0.258667\n",
      "=================>{'alpha': 2.0} loss:0.259563\n",
      "Best params: {'alpha': 2.0} \tbest loss: 0.259562924888\n"
     ]
    },
    {
     "data": {
      "text/html": [
       "<div>\n",
       "<style scoped>\n",
       "    .dataframe tbody tr th:only-of-type {\n",
       "        vertical-align: middle;\n",
       "    }\n",
       "\n",
       "    .dataframe tbody tr th {\n",
       "        vertical-align: top;\n",
       "    }\n",
       "\n",
       "    .dataframe thead th {\n",
       "        text-align: right;\n",
       "    }\n",
       "</style>\n",
       "<table border=\"1\" class=\"dataframe\">\n",
       "  <thead>\n",
       "    <tr style=\"text-align: right;\">\n",
       "      <th></th>\n",
       "      <th>param</th>\n",
       "      <th>val_loss_mean</th>\n",
       "      <th>val_loss_std</th>\n",
       "    </tr>\n",
       "  </thead>\n",
       "  <tbody>\n",
       "    <tr>\n",
       "      <th>0</th>\n",
       "      <td>{'alpha': 0.001}</td>\n",
       "      <td>0.259563</td>\n",
       "      <td>0.001221</td>\n",
       "    </tr>\n",
       "    <tr>\n",
       "      <th>1</th>\n",
       "      <td>{'alpha': 0.01}</td>\n",
       "      <td>0.259563</td>\n",
       "      <td>0.001221</td>\n",
       "    </tr>\n",
       "    <tr>\n",
       "      <th>2</th>\n",
       "      <td>{'alpha': 0.1}</td>\n",
       "      <td>0.259563</td>\n",
       "      <td>0.001221</td>\n",
       "    </tr>\n",
       "    <tr>\n",
       "      <th>3</th>\n",
       "      <td>{'alpha': 0.5}</td>\n",
       "      <td>0.259563</td>\n",
       "      <td>0.001221</td>\n",
       "    </tr>\n",
       "    <tr>\n",
       "      <th>4</th>\n",
       "      <td>{'alpha': 1.0}</td>\n",
       "      <td>0.259563</td>\n",
       "      <td>0.001221</td>\n",
       "    </tr>\n",
       "    <tr>\n",
       "      <th>5</th>\n",
       "      <td>{'alpha': 2.0}</td>\n",
       "      <td>0.259563</td>\n",
       "      <td>0.001221</td>\n",
       "    </tr>\n",
       "  </tbody>\n",
       "</table>\n",
       "</div>"
      ],
      "text/plain": [
       "              param  val_loss_mean  val_loss_std\n",
       "0  {'alpha': 0.001}       0.259563      0.001221\n",
       "1   {'alpha': 0.01}       0.259563      0.001221\n",
       "2    {'alpha': 0.1}       0.259563      0.001221\n",
       "3    {'alpha': 0.5}       0.259563      0.001221\n",
       "4    {'alpha': 1.0}       0.259563      0.001221\n",
       "5    {'alpha': 2.0}       0.259563      0.001221"
      ]
     },
     "execution_count": 12,
     "metadata": {},
     "output_type": "execute_result"
    }
   ],
   "source": [
    "default_params = {\n",
    "    'alpha': 1.0, \n",
    "    'fit_intercept': True, \n",
    "    'normalize': False, \n",
    "    'copy_X': True, \n",
    "    'max_iter': None, \n",
    "    'tol': 0.001, \n",
    "    'solver':'auto', \n",
    "    'random_state': SEED\n",
    "}\n",
    "\n",
    "try_params = \\\n",
    "[\n",
    "    {\n",
    "        'alpha': [0.001, 0.01, 0.1, 0.5, 1., 2.],\n",
    "    }\n",
    "]\n",
    "\n",
    "fit_params(train_X[features], train_y, ml, default_params, try_params, fit_params=None, seed=SEED)"
   ]
  },
  {
   "cell_type": "code",
   "execution_count": 24,
   "metadata": {
    "collapsed": true
   },
   "outputs": [
    {
     "name": "stdout",
     "output_type": "stream",
     "text": [
      "Fold 1 completed.\n",
      "Fold 2 completed.\n",
      "Fold 3 completed.\n",
      "Fold 4 completed.\n",
      "Fold 5 completed.\n"
     ]
    }
   ],
   "source": [
    "default_params = {\n",
    "    'alpha': 2.0, \n",
    "    'fit_intercept': True, \n",
    "    'normalize': False, \n",
    "    'copy_X': True, \n",
    "    'max_iter': None, \n",
    "    'tol': 0.001, \n",
    "    'solver':'auto', \n",
    "    'random_state': SEED\n",
    "}\n",
    "\n",
    "rg_oof_val_pred, rg_oof_test_pred, models = get_oof_predictions(train_X[features], train_y, test_X[features], ml, \n",
    "                                                                  default_params, seed=SEED, fit_params=None, \n",
    "                                                                  use_eval_set=False)\n",
    "\n",
    "pd.DataFrame(data=rg_oof_val_pred, columns=['price_rg_pred']).to_csv('price_rg_oof_val_pred.csv', index=False)\n",
    "pd.DataFrame(data=rg_oof_test_pred, columns=['price_rg_pred']).to_csv('price_rg_oof_test_pred.csv', index=False)"
   ]
  },
  {
   "cell_type": "markdown",
   "metadata": {},
   "source": [
    "## Item Seq Number"
   ]
  },
  {
   "cell_type": "code",
   "execution_count": 25,
   "metadata": {
    "collapsed": true
   },
   "outputs": [],
   "source": [
    "features = ['item_seq_number']"
   ]
  },
  {
   "cell_type": "code",
   "execution_count": 20,
   "metadata": {
    "collapsed": true
   },
   "outputs": [
    {
     "name": "stdout",
     "output_type": "stream",
     "text": [
      "{'alpha': 0.001} loss:0.257621\n",
      "{'alpha': 0.001} loss:0.259884\n",
      "{'alpha': 0.001} loss:0.256135\n",
      "{'alpha': 0.001} loss:0.258889\n",
      "{'alpha': 0.001} loss:0.257258\n",
      "=================>{'alpha': 0.001} loss:0.257957\n",
      "{'alpha': 0.01} loss:0.257621\n",
      "{'alpha': 0.01} loss:0.259884\n",
      "{'alpha': 0.01} loss:0.256135\n",
      "{'alpha': 0.01} loss:0.258889\n",
      "{'alpha': 0.01} loss:0.257258\n",
      "=================>{'alpha': 0.01} loss:0.257957\n",
      "{'alpha': 0.1} loss:0.257621\n",
      "{'alpha': 0.1} loss:0.259884\n",
      "{'alpha': 0.1} loss:0.256135\n",
      "{'alpha': 0.1} loss:0.258889\n",
      "{'alpha': 0.1} loss:0.257258\n",
      "=================>{'alpha': 0.1} loss:0.257957\n",
      "{'alpha': 0.5} loss:0.257621\n",
      "{'alpha': 0.5} loss:0.259884\n",
      "{'alpha': 0.5} loss:0.256135\n",
      "{'alpha': 0.5} loss:0.258889\n",
      "{'alpha': 0.5} loss:0.257258\n",
      "=================>{'alpha': 0.5} loss:0.257958\n",
      "{'alpha': 1.0} loss:0.257621\n",
      "{'alpha': 1.0} loss:0.259884\n",
      "{'alpha': 1.0} loss:0.256135\n",
      "{'alpha': 1.0} loss:0.258889\n",
      "{'alpha': 1.0} loss:0.257258\n",
      "=================>{'alpha': 1.0} loss:0.257958\n",
      "{'alpha': 2.0} loss:0.257621\n",
      "{'alpha': 2.0} loss:0.259884\n",
      "{'alpha': 2.0} loss:0.256135\n",
      "{'alpha': 2.0} loss:0.258889\n",
      "{'alpha': 2.0} loss:0.257258\n",
      "=================>{'alpha': 2.0} loss:0.257958\n",
      "Best params: {'alpha': 0.001} \tbest loss: 0.25795749788\n"
     ]
    },
    {
     "data": {
      "text/html": [
       "<div>\n",
       "<style scoped>\n",
       "    .dataframe tbody tr th:only-of-type {\n",
       "        vertical-align: middle;\n",
       "    }\n",
       "\n",
       "    .dataframe tbody tr th {\n",
       "        vertical-align: top;\n",
       "    }\n",
       "\n",
       "    .dataframe thead th {\n",
       "        text-align: right;\n",
       "    }\n",
       "</style>\n",
       "<table border=\"1\" class=\"dataframe\">\n",
       "  <thead>\n",
       "    <tr style=\"text-align: right;\">\n",
       "      <th></th>\n",
       "      <th>param</th>\n",
       "      <th>val_loss_mean</th>\n",
       "      <th>val_loss_std</th>\n",
       "    </tr>\n",
       "  </thead>\n",
       "  <tbody>\n",
       "    <tr>\n",
       "      <th>0</th>\n",
       "      <td>{'alpha': 0.001}</td>\n",
       "      <td>0.257957</td>\n",
       "      <td>0.001304</td>\n",
       "    </tr>\n",
       "    <tr>\n",
       "      <th>1</th>\n",
       "      <td>{'alpha': 0.01}</td>\n",
       "      <td>0.257957</td>\n",
       "      <td>0.001304</td>\n",
       "    </tr>\n",
       "    <tr>\n",
       "      <th>2</th>\n",
       "      <td>{'alpha': 0.1}</td>\n",
       "      <td>0.257957</td>\n",
       "      <td>0.001304</td>\n",
       "    </tr>\n",
       "    <tr>\n",
       "      <th>3</th>\n",
       "      <td>{'alpha': 0.5}</td>\n",
       "      <td>0.257958</td>\n",
       "      <td>0.001304</td>\n",
       "    </tr>\n",
       "    <tr>\n",
       "      <th>4</th>\n",
       "      <td>{'alpha': 1.0}</td>\n",
       "      <td>0.257958</td>\n",
       "      <td>0.001304</td>\n",
       "    </tr>\n",
       "    <tr>\n",
       "      <th>5</th>\n",
       "      <td>{'alpha': 2.0}</td>\n",
       "      <td>0.257958</td>\n",
       "      <td>0.001304</td>\n",
       "    </tr>\n",
       "  </tbody>\n",
       "</table>\n",
       "</div>"
      ],
      "text/plain": [
       "              param  val_loss_mean  val_loss_std\n",
       "0  {'alpha': 0.001}       0.257957      0.001304\n",
       "1   {'alpha': 0.01}       0.257957      0.001304\n",
       "2    {'alpha': 0.1}       0.257957      0.001304\n",
       "3    {'alpha': 0.5}       0.257958      0.001304\n",
       "4    {'alpha': 1.0}       0.257958      0.001304\n",
       "5    {'alpha': 2.0}       0.257958      0.001304"
      ]
     },
     "execution_count": 20,
     "metadata": {},
     "output_type": "execute_result"
    }
   ],
   "source": [
    "default_params = {\n",
    "    'alpha': 1.0, \n",
    "    'fit_intercept': True, \n",
    "    'normalize': False, \n",
    "    'copy_X': True, \n",
    "    'max_iter': None, \n",
    "    'tol': 0.001, \n",
    "    'solver':'auto', \n",
    "    'random_state': SEED\n",
    "}\n",
    "\n",
    "try_params = \\\n",
    "[\n",
    "    {\n",
    "        'alpha': [0.001, 0.01, 0.1, 0.5, 1., 2.],\n",
    "    }\n",
    "]\n",
    "\n",
    "fit_params(train_X[features], train_y, ml, default_params, try_params, fit_params=None, seed=SEED)"
   ]
  },
  {
   "cell_type": "code",
   "execution_count": 26,
   "metadata": {
    "collapsed": true
   },
   "outputs": [
    {
     "name": "stdout",
     "output_type": "stream",
     "text": [
      "Fold 1 completed.\n",
      "Fold 2 completed.\n",
      "Fold 3 completed.\n",
      "Fold 4 completed.\n",
      "Fold 5 completed.\n"
     ]
    }
   ],
   "source": [
    "default_params = {\n",
    "    'alpha': 0.001, \n",
    "    'fit_intercept': True, \n",
    "    'normalize': False, \n",
    "    'copy_X': True, \n",
    "    'max_iter': None, \n",
    "    'tol': 0.001, \n",
    "    'solver':'auto', \n",
    "    'random_state': SEED\n",
    "}\n",
    "\n",
    "rg_oof_val_pred, rg_oof_test_pred, models = get_oof_predictions(train_X[features], train_y, test_X[features], ml, \n",
    "                                                                  default_params, seed=SEED, fit_params=None, \n",
    "                                                                  use_eval_set=False)\n",
    "\n",
    "pd.DataFrame(data=rg_oof_val_pred, columns=['seqno_rg_pred']).to_csv('seqno_rg_oof_val_pred.csv', index=False)\n",
    "pd.DataFrame(data=rg_oof_test_pred, columns=['seqno_rg_pred']).to_csv('seqno_rg_oof_test_pred.csv', index=False)"
   ]
  },
  {
   "cell_type": "markdown",
   "metadata": {},
   "source": [
    "## image_top_1"
   ]
  },
  {
   "cell_type": "code",
   "execution_count": 9,
   "metadata": {
    "collapsed": true
   },
   "outputs": [],
   "source": [
    "features = ['image_top_1']"
   ]
  },
  {
   "cell_type": "code",
   "execution_count": 10,
   "metadata": {
    "collapsed": true
   },
   "outputs": [],
   "source": [
    "from sklearn.preprocessing import OneHotEncoder"
   ]
  },
  {
   "cell_type": "code",
   "execution_count": 11,
   "metadata": {},
   "outputs": [
    {
     "data": {
      "text/plain": [
       "OneHotEncoder(categorical_features='all', dtype=<class 'numpy.float64'>,\n",
       "       handle_unknown='error', n_values='auto', sparse=True)"
      ]
     },
     "execution_count": 11,
     "metadata": {},
     "output_type": "execute_result"
    }
   ],
   "source": [
    "ohe = OneHotEncoder()\n",
    "ohe.fit(train_X[features])"
   ]
  },
  {
   "cell_type": "code",
   "execution_count": 12,
   "metadata": {
    "collapsed": true
   },
   "outputs": [],
   "source": [
    "train_img_top1_feature = ohe.transform(train_X[features])\n",
    "test_img_top1_feature = ohe.transform(test_X[features])"
   ]
  },
  {
   "cell_type": "code",
   "execution_count": 14,
   "metadata": {
    "collapsed": true
   },
   "outputs": [
    {
     "name": "stdout",
     "output_type": "stream",
     "text": [
      "{'alpha': 0.001} loss:0.243276\n",
      "{'alpha': 0.001} loss:0.243339\n",
      "{'alpha': 0.001} loss:0.241920\n",
      "{'alpha': 0.001} loss:0.243555\n",
      "{'alpha': 0.001} loss:0.242273\n",
      "=================>{'alpha': 0.001} loss:0.242873\n",
      "{'alpha': 0.01} loss:0.243275\n",
      "{'alpha': 0.01} loss:0.243339\n",
      "{'alpha': 0.01} loss:0.241920\n",
      "{'alpha': 0.01} loss:0.243555\n",
      "{'alpha': 0.01} loss:0.242272\n",
      "=================>{'alpha': 0.01} loss:0.242872\n",
      "{'alpha': 0.1} loss:0.243274\n",
      "{'alpha': 0.1} loss:0.243337\n",
      "{'alpha': 0.1} loss:0.241919\n",
      "{'alpha': 0.1} loss:0.243554\n",
      "{'alpha': 0.1} loss:0.242271\n",
      "=================>{'alpha': 0.1} loss:0.242871\n",
      "{'alpha': 0.5} loss:0.243268\n",
      "{'alpha': 0.5} loss:0.243330\n",
      "{'alpha': 0.5} loss:0.241914\n",
      "{'alpha': 0.5} loss:0.243548\n",
      "{'alpha': 0.5} loss:0.242266\n",
      "=================>{'alpha': 0.5} loss:0.242865\n",
      "{'alpha': 1.0} loss:0.243263\n",
      "{'alpha': 1.0} loss:0.243324\n",
      "{'alpha': 1.0} loss:0.241910\n",
      "{'alpha': 1.0} loss:0.243543\n",
      "{'alpha': 1.0} loss:0.242260\n",
      "=================>{'alpha': 1.0} loss:0.242860\n",
      "{'alpha': 2.0} loss:0.243253\n",
      "{'alpha': 2.0} loss:0.243317\n",
      "{'alpha': 2.0} loss:0.241901\n",
      "{'alpha': 2.0} loss:0.243534\n",
      "{'alpha': 2.0} loss:0.242251\n",
      "=================>{'alpha': 2.0} loss:0.242851\n",
      "Best params: {'alpha': 2.0} \tbest loss: 0.242851208185\n"
     ]
    },
    {
     "data": {
      "text/html": [
       "<div>\n",
       "<style scoped>\n",
       "    .dataframe tbody tr th:only-of-type {\n",
       "        vertical-align: middle;\n",
       "    }\n",
       "\n",
       "    .dataframe tbody tr th {\n",
       "        vertical-align: top;\n",
       "    }\n",
       "\n",
       "    .dataframe thead th {\n",
       "        text-align: right;\n",
       "    }\n",
       "</style>\n",
       "<table border=\"1\" class=\"dataframe\">\n",
       "  <thead>\n",
       "    <tr style=\"text-align: right;\">\n",
       "      <th></th>\n",
       "      <th>param</th>\n",
       "      <th>val_loss_mean</th>\n",
       "      <th>val_loss_std</th>\n",
       "    </tr>\n",
       "  </thead>\n",
       "  <tbody>\n",
       "    <tr>\n",
       "      <th>0</th>\n",
       "      <td>{'alpha': 0.001}</td>\n",
       "      <td>0.242873</td>\n",
       "      <td>0.000650</td>\n",
       "    </tr>\n",
       "    <tr>\n",
       "      <th>1</th>\n",
       "      <td>{'alpha': 0.01}</td>\n",
       "      <td>0.242872</td>\n",
       "      <td>0.000650</td>\n",
       "    </tr>\n",
       "    <tr>\n",
       "      <th>2</th>\n",
       "      <td>{'alpha': 0.1}</td>\n",
       "      <td>0.242871</td>\n",
       "      <td>0.000650</td>\n",
       "    </tr>\n",
       "    <tr>\n",
       "      <th>3</th>\n",
       "      <td>{'alpha': 0.5}</td>\n",
       "      <td>0.242865</td>\n",
       "      <td>0.000649</td>\n",
       "    </tr>\n",
       "    <tr>\n",
       "      <th>4</th>\n",
       "      <td>{'alpha': 1.0}</td>\n",
       "      <td>0.242860</td>\n",
       "      <td>0.000649</td>\n",
       "    </tr>\n",
       "    <tr>\n",
       "      <th>5</th>\n",
       "      <td>{'alpha': 2.0}</td>\n",
       "      <td>0.242851</td>\n",
       "      <td>0.000649</td>\n",
       "    </tr>\n",
       "  </tbody>\n",
       "</table>\n",
       "</div>"
      ],
      "text/plain": [
       "              param  val_loss_mean  val_loss_std\n",
       "0  {'alpha': 0.001}       0.242873      0.000650\n",
       "1   {'alpha': 0.01}       0.242872      0.000650\n",
       "2    {'alpha': 0.1}       0.242871      0.000650\n",
       "3    {'alpha': 0.5}       0.242865      0.000649\n",
       "4    {'alpha': 1.0}       0.242860      0.000649\n",
       "5    {'alpha': 2.0}       0.242851      0.000649"
      ]
     },
     "execution_count": 14,
     "metadata": {},
     "output_type": "execute_result"
    }
   ],
   "source": [
    "default_params = {\n",
    "    'alpha': 1.0, \n",
    "    'fit_intercept': True, \n",
    "    'normalize': False, \n",
    "    'copy_X': True, \n",
    "    'max_iter': None, \n",
    "    'tol': 0.001, \n",
    "    'solver':'auto', \n",
    "    'random_state': SEED\n",
    "}\n",
    "\n",
    "try_params = \\\n",
    "[\n",
    "    {\n",
    "        'alpha': [0.001, 0.01, 0.1, 0.5, 1., 2.],\n",
    "    }\n",
    "]\n",
    "\n",
    "fit_params(train_img_top1_feature, train_y, ml, default_params, try_params, fit_params=None, seed=SEED)"
   ]
  },
  {
   "cell_type": "code",
   "execution_count": 15,
   "metadata": {
    "collapsed": true
   },
   "outputs": [
    {
     "name": "stdout",
     "output_type": "stream",
     "text": [
      "{'alpha': 2.0} loss:0.243253\n",
      "{'alpha': 2.0} loss:0.243317\n",
      "{'alpha': 2.0} loss:0.241901\n",
      "{'alpha': 2.0} loss:0.243534\n",
      "{'alpha': 2.0} loss:0.242251\n",
      "=================>{'alpha': 2.0} loss:0.242851\n",
      "{'alpha': 4.0} loss:0.243239\n",
      "{'alpha': 4.0} loss:0.243310\n",
      "{'alpha': 4.0} loss:0.241889\n",
      "{'alpha': 4.0} loss:0.243520\n",
      "{'alpha': 4.0} loss:0.242237\n",
      "=================>{'alpha': 4.0} loss:0.242839\n",
      "{'alpha': 8.0} loss:0.243223\n",
      "{'alpha': 8.0} loss:0.243309\n",
      "{'alpha': 8.0} loss:0.241875\n",
      "{'alpha': 8.0} loss:0.243505\n",
      "{'alpha': 8.0} loss:0.242221\n",
      "=================>{'alpha': 8.0} loss:0.242827\n",
      "{'alpha': 16} loss:0.243215\n",
      "{'alpha': 16} loss:0.243332\n",
      "{'alpha': 16} loss:0.241869\n",
      "{'alpha': 16} loss:0.243501\n",
      "{'alpha': 16} loss:0.242215\n",
      "=================>{'alpha': 16} loss:0.242826\n",
      "Best params: {'alpha': 16} \tbest loss: 0.242826450963\n"
     ]
    },
    {
     "data": {
      "text/html": [
       "<div>\n",
       "<style scoped>\n",
       "    .dataframe tbody tr th:only-of-type {\n",
       "        vertical-align: middle;\n",
       "    }\n",
       "\n",
       "    .dataframe tbody tr th {\n",
       "        vertical-align: top;\n",
       "    }\n",
       "\n",
       "    .dataframe thead th {\n",
       "        text-align: right;\n",
       "    }\n",
       "</style>\n",
       "<table border=\"1\" class=\"dataframe\">\n",
       "  <thead>\n",
       "    <tr style=\"text-align: right;\">\n",
       "      <th></th>\n",
       "      <th>param</th>\n",
       "      <th>val_loss_mean</th>\n",
       "      <th>val_loss_std</th>\n",
       "    </tr>\n",
       "  </thead>\n",
       "  <tbody>\n",
       "    <tr>\n",
       "      <th>0</th>\n",
       "      <td>{'alpha': 2.0}</td>\n",
       "      <td>0.242851</td>\n",
       "      <td>0.000649</td>\n",
       "    </tr>\n",
       "    <tr>\n",
       "      <th>1</th>\n",
       "      <td>{'alpha': 4.0}</td>\n",
       "      <td>0.242839</td>\n",
       "      <td>0.000650</td>\n",
       "    </tr>\n",
       "    <tr>\n",
       "      <th>2</th>\n",
       "      <td>{'alpha': 8.0}</td>\n",
       "      <td>0.242827</td>\n",
       "      <td>0.000652</td>\n",
       "    </tr>\n",
       "    <tr>\n",
       "      <th>3</th>\n",
       "      <td>{'alpha': 16}</td>\n",
       "      <td>0.242826</td>\n",
       "      <td>0.000656</td>\n",
       "    </tr>\n",
       "  </tbody>\n",
       "</table>\n",
       "</div>"
      ],
      "text/plain": [
       "            param  val_loss_mean  val_loss_std\n",
       "0  {'alpha': 2.0}       0.242851      0.000649\n",
       "1  {'alpha': 4.0}       0.242839      0.000650\n",
       "2  {'alpha': 8.0}       0.242827      0.000652\n",
       "3   {'alpha': 16}       0.242826      0.000656"
      ]
     },
     "execution_count": 15,
     "metadata": {},
     "output_type": "execute_result"
    }
   ],
   "source": [
    "default_params = {\n",
    "    'alpha': 1.0, \n",
    "    'fit_intercept': True, \n",
    "    'normalize': False, \n",
    "    'copy_X': True, \n",
    "    'max_iter': None, \n",
    "    'tol': 0.001, \n",
    "    'solver':'auto', \n",
    "    'random_state': SEED\n",
    "}\n",
    "\n",
    "try_params = \\\n",
    "[\n",
    "    {\n",
    "        'alpha': [2., 4., 8., 16],\n",
    "    }\n",
    "]\n",
    "\n",
    "fit_params(train_img_top1_feature, train_y, ml, default_params, try_params, fit_params=None, seed=SEED)"
   ]
  },
  {
   "cell_type": "code",
   "execution_count": 16,
   "metadata": {
    "collapsed": true
   },
   "outputs": [
    {
     "name": "stdout",
     "output_type": "stream",
     "text": [
      "{'alpha': 24} loss:0.243224\n",
      "{'alpha': 24} loss:0.243370\n",
      "{'alpha': 24} loss:0.241881\n",
      "{'alpha': 24} loss:0.243517\n",
      "{'alpha': 24} loss:0.242229\n",
      "=================>{'alpha': 24} loss:0.242844\n",
      "{'alpha': 32} loss:0.243245\n",
      "{'alpha': 32} loss:0.243417\n",
      "{'alpha': 32} loss:0.241905\n",
      "{'alpha': 32} loss:0.243544\n",
      "{'alpha': 32} loss:0.242255\n",
      "=================>{'alpha': 32} loss:0.242873\n",
      "{'alpha': 64} loss:0.243381\n",
      "{'alpha': 64} loss:0.243638\n",
      "{'alpha': 64} loss:0.242054\n",
      "{'alpha': 64} loss:0.243708\n",
      "{'alpha': 64} loss:0.242412\n",
      "=================>{'alpha': 64} loss:0.243038\n",
      "Best params: {'alpha': 24} \tbest loss: 0.242844450183\n"
     ]
    },
    {
     "data": {
      "text/html": [
       "<div>\n",
       "<style scoped>\n",
       "    .dataframe tbody tr th:only-of-type {\n",
       "        vertical-align: middle;\n",
       "    }\n",
       "\n",
       "    .dataframe tbody tr th {\n",
       "        vertical-align: top;\n",
       "    }\n",
       "\n",
       "    .dataframe thead th {\n",
       "        text-align: right;\n",
       "    }\n",
       "</style>\n",
       "<table border=\"1\" class=\"dataframe\">\n",
       "  <thead>\n",
       "    <tr style=\"text-align: right;\">\n",
       "      <th></th>\n",
       "      <th>param</th>\n",
       "      <th>val_loss_mean</th>\n",
       "      <th>val_loss_std</th>\n",
       "    </tr>\n",
       "  </thead>\n",
       "  <tbody>\n",
       "    <tr>\n",
       "      <th>0</th>\n",
       "      <td>{'alpha': 24}</td>\n",
       "      <td>0.242844</td>\n",
       "      <td>0.000660</td>\n",
       "    </tr>\n",
       "    <tr>\n",
       "      <th>1</th>\n",
       "      <td>{'alpha': 32}</td>\n",
       "      <td>0.242873</td>\n",
       "      <td>0.000664</td>\n",
       "    </tr>\n",
       "    <tr>\n",
       "      <th>2</th>\n",
       "      <td>{'alpha': 64}</td>\n",
       "      <td>0.243038</td>\n",
       "      <td>0.000676</td>\n",
       "    </tr>\n",
       "  </tbody>\n",
       "</table>\n",
       "</div>"
      ],
      "text/plain": [
       "           param  val_loss_mean  val_loss_std\n",
       "0  {'alpha': 24}       0.242844      0.000660\n",
       "1  {'alpha': 32}       0.242873      0.000664\n",
       "2  {'alpha': 64}       0.243038      0.000676"
      ]
     },
     "execution_count": 16,
     "metadata": {},
     "output_type": "execute_result"
    }
   ],
   "source": [
    "default_params = {\n",
    "    'alpha': 1.0, \n",
    "    'fit_intercept': True, \n",
    "    'normalize': False, \n",
    "    'copy_X': True, \n",
    "    'max_iter': None, \n",
    "    'tol': 0.001, \n",
    "    'solver':'auto', \n",
    "    'random_state': SEED\n",
    "}\n",
    "\n",
    "try_params = \\\n",
    "[\n",
    "    {\n",
    "        'alpha': [24, 32, 64],\n",
    "    }\n",
    "]\n",
    "\n",
    "fit_params(train_img_top1_feature, train_y, ml, default_params, try_params, fit_params=None, seed=SEED)"
   ]
  },
  {
   "cell_type": "code",
   "execution_count": 17,
   "metadata": {
    "collapsed": true
   },
   "outputs": [
    {
     "name": "stdout",
     "output_type": "stream",
     "text": [
      "Fold 1 completed.\n",
      "Fold 2 completed.\n",
      "Fold 3 completed.\n",
      "Fold 4 completed.\n",
      "Fold 5 completed.\n"
     ]
    }
   ],
   "source": [
    "default_params = {\n",
    "    'alpha': 16., \n",
    "    'fit_intercept': True, \n",
    "    'normalize': False, \n",
    "    'copy_X': True, \n",
    "    'max_iter': None, \n",
    "    'tol': 0.001, \n",
    "    'solver':'auto', \n",
    "    'random_state': SEED\n",
    "}\n",
    "\n",
    "rg_oof_val_pred, rg_oof_test_pred, models = get_oof_predictions(train_img_top1_feature, train_y, test_img_top1_feature, ml, \n",
    "                                                                  default_params, seed=SEED, fit_params=None, \n",
    "                                                                  use_eval_set=False)\n",
    "\n",
    "pd.DataFrame(data=rg_oof_val_pred, columns=['img1_rg_pred']).to_csv('img1_rg_oof_val_pred.csv', index=False)\n",
    "pd.DataFrame(data=rg_oof_test_pred, columns=['img1_rg_pred']).to_csv('img1_rg_oof_test_pred.csv', index=False)"
   ]
  },
  {
   "cell_type": "markdown",
   "metadata": {},
   "source": [
    "## Price + Item Seq Num"
   ]
  },
  {
   "cell_type": "code",
   "execution_count": 18,
   "metadata": {
    "collapsed": true
   },
   "outputs": [],
   "source": [
    "features = ['price', 'item_seq_number']"
   ]
  },
  {
   "cell_type": "code",
   "execution_count": 19,
   "metadata": {
    "collapsed": true
   },
   "outputs": [
    {
     "name": "stdout",
     "output_type": "stream",
     "text": [
      "{'alpha': 1.0} loss:0.257319\n",
      "{'alpha': 1.0} loss:0.259570\n",
      "{'alpha': 1.0} loss:0.255724\n",
      "{'alpha': 1.0} loss:0.258574\n",
      "{'alpha': 1.0} loss:0.256773\n",
      "=================>{'alpha': 1.0} loss:0.257592\n",
      "{'alpha': 2.0} loss:0.257319\n",
      "{'alpha': 2.0} loss:0.259570\n",
      "{'alpha': 2.0} loss:0.255724\n",
      "{'alpha': 2.0} loss:0.258574\n",
      "{'alpha': 2.0} loss:0.256773\n",
      "=================>{'alpha': 2.0} loss:0.257592\n",
      "{'alpha': 4.0} loss:0.257319\n",
      "{'alpha': 4.0} loss:0.259570\n",
      "{'alpha': 4.0} loss:0.255724\n",
      "{'alpha': 4.0} loss:0.258574\n",
      "{'alpha': 4.0} loss:0.256773\n",
      "=================>{'alpha': 4.0} loss:0.257592\n",
      "{'alpha': 8.0} loss:0.257319\n",
      "{'alpha': 8.0} loss:0.259570\n",
      "{'alpha': 8.0} loss:0.255724\n",
      "{'alpha': 8.0} loss:0.258574\n",
      "{'alpha': 8.0} loss:0.256773\n",
      "=================>{'alpha': 8.0} loss:0.257592\n",
      "Best params: {'alpha': 1.0} \tbest loss: 0.25759233765\n"
     ]
    },
    {
     "data": {
      "text/html": [
       "<div>\n",
       "<style scoped>\n",
       "    .dataframe tbody tr th:only-of-type {\n",
       "        vertical-align: middle;\n",
       "    }\n",
       "\n",
       "    .dataframe tbody tr th {\n",
       "        vertical-align: top;\n",
       "    }\n",
       "\n",
       "    .dataframe thead th {\n",
       "        text-align: right;\n",
       "    }\n",
       "</style>\n",
       "<table border=\"1\" class=\"dataframe\">\n",
       "  <thead>\n",
       "    <tr style=\"text-align: right;\">\n",
       "      <th></th>\n",
       "      <th>param</th>\n",
       "      <th>val_loss_mean</th>\n",
       "      <th>val_loss_std</th>\n",
       "    </tr>\n",
       "  </thead>\n",
       "  <tbody>\n",
       "    <tr>\n",
       "      <th>0</th>\n",
       "      <td>{'alpha': 1.0}</td>\n",
       "      <td>0.257592</td>\n",
       "      <td>0.00135</td>\n",
       "    </tr>\n",
       "    <tr>\n",
       "      <th>1</th>\n",
       "      <td>{'alpha': 2.0}</td>\n",
       "      <td>0.257592</td>\n",
       "      <td>0.00135</td>\n",
       "    </tr>\n",
       "    <tr>\n",
       "      <th>2</th>\n",
       "      <td>{'alpha': 4.0}</td>\n",
       "      <td>0.257592</td>\n",
       "      <td>0.00135</td>\n",
       "    </tr>\n",
       "    <tr>\n",
       "      <th>3</th>\n",
       "      <td>{'alpha': 8.0}</td>\n",
       "      <td>0.257592</td>\n",
       "      <td>0.00135</td>\n",
       "    </tr>\n",
       "  </tbody>\n",
       "</table>\n",
       "</div>"
      ],
      "text/plain": [
       "            param  val_loss_mean  val_loss_std\n",
       "0  {'alpha': 1.0}       0.257592       0.00135\n",
       "1  {'alpha': 2.0}       0.257592       0.00135\n",
       "2  {'alpha': 4.0}       0.257592       0.00135\n",
       "3  {'alpha': 8.0}       0.257592       0.00135"
      ]
     },
     "execution_count": 19,
     "metadata": {},
     "output_type": "execute_result"
    }
   ],
   "source": [
    "default_params = {\n",
    "    'alpha': 1.0, \n",
    "    'fit_intercept': True, \n",
    "    'normalize': False, \n",
    "    'copy_X': True, \n",
    "    'max_iter': None, \n",
    "    'tol': 0.001, \n",
    "    'solver':'auto', \n",
    "    'random_state': SEED\n",
    "}\n",
    "\n",
    "try_params = \\\n",
    "[\n",
    "    {\n",
    "        'alpha': [1., 2., 4., 8.],\n",
    "    }\n",
    "]\n",
    "\n",
    "fit_params(train_X[features], train_y, ml, default_params, try_params, fit_params=None, seed=SEED)"
   ]
  },
  {
   "cell_type": "code",
   "execution_count": 20,
   "metadata": {
    "collapsed": true
   },
   "outputs": [
    {
     "name": "stdout",
     "output_type": "stream",
     "text": [
      "{'alpha': 0.001} loss:0.257319\n",
      "{'alpha': 0.001} loss:0.259570\n",
      "{'alpha': 0.001} loss:0.255724\n",
      "{'alpha': 0.001} loss:0.258574\n",
      "{'alpha': 0.001} loss:0.256773\n",
      "=================>{'alpha': 0.001} loss:0.257592\n",
      "{'alpha': 0.01} loss:0.257319\n",
      "{'alpha': 0.01} loss:0.259570\n",
      "{'alpha': 0.01} loss:0.255724\n",
      "{'alpha': 0.01} loss:0.258574\n",
      "{'alpha': 0.01} loss:0.256773\n",
      "=================>{'alpha': 0.01} loss:0.257592\n",
      "{'alpha': 0.1} loss:0.257319\n",
      "{'alpha': 0.1} loss:0.259570\n",
      "{'alpha': 0.1} loss:0.255724\n",
      "{'alpha': 0.1} loss:0.258574\n",
      "{'alpha': 0.1} loss:0.256773\n",
      "=================>{'alpha': 0.1} loss:0.257592\n",
      "{'alpha': 16.0} loss:0.257319\n",
      "{'alpha': 16.0} loss:0.259570\n",
      "{'alpha': 16.0} loss:0.255724\n",
      "{'alpha': 16.0} loss:0.258574\n",
      "{'alpha': 16.0} loss:0.256773\n",
      "=================>{'alpha': 16.0} loss:0.257592\n",
      "Best params: {'alpha': 0.001} \tbest loss: 0.257592330611\n"
     ]
    },
    {
     "data": {
      "text/html": [
       "<div>\n",
       "<style scoped>\n",
       "    .dataframe tbody tr th:only-of-type {\n",
       "        vertical-align: middle;\n",
       "    }\n",
       "\n",
       "    .dataframe tbody tr th {\n",
       "        vertical-align: top;\n",
       "    }\n",
       "\n",
       "    .dataframe thead th {\n",
       "        text-align: right;\n",
       "    }\n",
       "</style>\n",
       "<table border=\"1\" class=\"dataframe\">\n",
       "  <thead>\n",
       "    <tr style=\"text-align: right;\">\n",
       "      <th></th>\n",
       "      <th>param</th>\n",
       "      <th>val_loss_mean</th>\n",
       "      <th>val_loss_std</th>\n",
       "    </tr>\n",
       "  </thead>\n",
       "  <tbody>\n",
       "    <tr>\n",
       "      <th>0</th>\n",
       "      <td>{'alpha': 0.001}</td>\n",
       "      <td>0.257592</td>\n",
       "      <td>0.00135</td>\n",
       "    </tr>\n",
       "    <tr>\n",
       "      <th>1</th>\n",
       "      <td>{'alpha': 0.01}</td>\n",
       "      <td>0.257592</td>\n",
       "      <td>0.00135</td>\n",
       "    </tr>\n",
       "    <tr>\n",
       "      <th>2</th>\n",
       "      <td>{'alpha': 0.1}</td>\n",
       "      <td>0.257592</td>\n",
       "      <td>0.00135</td>\n",
       "    </tr>\n",
       "    <tr>\n",
       "      <th>3</th>\n",
       "      <td>{'alpha': 16.0}</td>\n",
       "      <td>0.257592</td>\n",
       "      <td>0.00135</td>\n",
       "    </tr>\n",
       "  </tbody>\n",
       "</table>\n",
       "</div>"
      ],
      "text/plain": [
       "              param  val_loss_mean  val_loss_std\n",
       "0  {'alpha': 0.001}       0.257592       0.00135\n",
       "1   {'alpha': 0.01}       0.257592       0.00135\n",
       "2    {'alpha': 0.1}       0.257592       0.00135\n",
       "3   {'alpha': 16.0}       0.257592       0.00135"
      ]
     },
     "execution_count": 20,
     "metadata": {},
     "output_type": "execute_result"
    }
   ],
   "source": [
    "default_params = {\n",
    "    'alpha': 1.0, \n",
    "    'fit_intercept': True, \n",
    "    'normalize': False, \n",
    "    'copy_X': True, \n",
    "    'max_iter': None, \n",
    "    'tol': 0.001, \n",
    "    'solver':'auto', \n",
    "    'random_state': SEED\n",
    "}\n",
    "\n",
    "try_params = \\\n",
    "[\n",
    "    {\n",
    "        'alpha': [.001, .01, .1, 16.],\n",
    "    }\n",
    "]\n",
    "\n",
    "fit_params(train_X[features], train_y, ml, default_params, try_params, fit_params=None, seed=SEED)"
   ]
  },
  {
   "cell_type": "code",
   "execution_count": 23,
   "metadata": {
    "collapsed": true
   },
   "outputs": [
    {
     "name": "stdout",
     "output_type": "stream",
     "text": [
      "Fold 1 completed.\n",
      "Fold 2 completed.\n",
      "Fold 3 completed.\n",
      "Fold 4 completed.\n",
      "Fold 5 completed.\n"
     ]
    }
   ],
   "source": [
    "default_params = {\n",
    "    'alpha': 0.001, \n",
    "    'fit_intercept': True, \n",
    "    'normalize': False, \n",
    "    'copy_X': True, \n",
    "    'max_iter': None, \n",
    "    'tol': 0.001, \n",
    "    'solver':'auto', \n",
    "    'random_state': SEED\n",
    "}\n",
    "\n",
    "rg_oof_val_pred, rg_oof_test_pred, models = get_oof_predictions(train_X[features], train_y, test_X[features], ml, \n",
    "                                                                  default_params, seed=SEED, fit_params=None, \n",
    "                                                                  use_eval_set=False)\n",
    "\n",
    "pd.DataFrame(data=rg_oof_val_pred, columns=['price_seqno_rg_pred']).to_csv('price_seqno_rg_oof_val_pred.csv', index=False)\n",
    "pd.DataFrame(data=rg_oof_test_pred, columns=['price_seqno_rg_pred']).to_csv('price_seqno_rg_oof_test_pred.csv', index=False)"
   ]
  },
  {
   "cell_type": "markdown",
   "metadata": {},
   "source": [
    "## Price + Image top 1"
   ]
  },
  {
   "cell_type": "code",
   "execution_count": 24,
   "metadata": {
    "collapsed": true
   },
   "outputs": [],
   "source": [
    "from scipy.sparse import hstack"
   ]
  },
  {
   "cell_type": "code",
   "execution_count": 26,
   "metadata": {},
   "outputs": [],
   "source": [
    "train_price_img = hstack([train_img_top1_feature, train_X[['price']]]).tocsr()\n",
    "test_price_img = hstack([test_img_top1_feature, test_X[['price']]]).tocsr()"
   ]
  },
  {
   "cell_type": "code",
   "execution_count": 27,
   "metadata": {
    "collapsed": true
   },
   "outputs": [
    {
     "name": "stdout",
     "output_type": "stream",
     "text": [
      "{'alpha': 2.0} loss:0.242893\n",
      "{'alpha': 2.0} loss:0.242955\n",
      "{'alpha': 2.0} loss:0.241417\n",
      "{'alpha': 2.0} loss:0.243132\n",
      "{'alpha': 2.0} loss:0.241714\n",
      "=================>{'alpha': 2.0} loss:0.242422\n",
      "{'alpha': 4.0} loss:0.242879\n",
      "{'alpha': 4.0} loss:0.242948\n",
      "{'alpha': 4.0} loss:0.241404\n",
      "{'alpha': 4.0} loss:0.243118\n",
      "{'alpha': 4.0} loss:0.241700\n",
      "=================>{'alpha': 4.0} loss:0.242410\n",
      "{'alpha': 8.0} loss:0.242862\n",
      "{'alpha': 8.0} loss:0.242947\n",
      "{'alpha': 8.0} loss:0.241389\n",
      "{'alpha': 8.0} loss:0.243102\n",
      "{'alpha': 8.0} loss:0.241683\n",
      "=================>{'alpha': 8.0} loss:0.242397\n",
      "{'alpha': 16} loss:0.242852\n",
      "{'alpha': 16} loss:0.242970\n",
      "{'alpha': 16} loss:0.241382\n",
      "{'alpha': 16} loss:0.243097\n",
      "{'alpha': 16} loss:0.241676\n",
      "=================>{'alpha': 16} loss:0.242395\n",
      "{'alpha': 32.0} loss:0.242879\n",
      "{'alpha': 32.0} loss:0.243053\n",
      "{'alpha': 32.0} loss:0.241415\n",
      "{'alpha': 32.0} loss:0.243138\n",
      "{'alpha': 32.0} loss:0.241712\n",
      "=================>{'alpha': 32.0} loss:0.242439\n",
      "Best params: {'alpha': 16} \tbest loss: 0.242395403889\n"
     ]
    },
    {
     "data": {
      "text/html": [
       "<div>\n",
       "<style scoped>\n",
       "    .dataframe tbody tr th:only-of-type {\n",
       "        vertical-align: middle;\n",
       "    }\n",
       "\n",
       "    .dataframe tbody tr th {\n",
       "        vertical-align: top;\n",
       "    }\n",
       "\n",
       "    .dataframe thead th {\n",
       "        text-align: right;\n",
       "    }\n",
       "</style>\n",
       "<table border=\"1\" class=\"dataframe\">\n",
       "  <thead>\n",
       "    <tr style=\"text-align: right;\">\n",
       "      <th></th>\n",
       "      <th>param</th>\n",
       "      <th>val_loss_mean</th>\n",
       "      <th>val_loss_std</th>\n",
       "    </tr>\n",
       "  </thead>\n",
       "  <tbody>\n",
       "    <tr>\n",
       "      <th>0</th>\n",
       "      <td>{'alpha': 2.0}</td>\n",
       "      <td>0.242422</td>\n",
       "      <td>0.000710</td>\n",
       "    </tr>\n",
       "    <tr>\n",
       "      <th>1</th>\n",
       "      <td>{'alpha': 4.0}</td>\n",
       "      <td>0.242410</td>\n",
       "      <td>0.000711</td>\n",
       "    </tr>\n",
       "    <tr>\n",
       "      <th>2</th>\n",
       "      <td>{'alpha': 8.0}</td>\n",
       "      <td>0.242397</td>\n",
       "      <td>0.000713</td>\n",
       "    </tr>\n",
       "    <tr>\n",
       "      <th>3</th>\n",
       "      <td>{'alpha': 16}</td>\n",
       "      <td>0.242395</td>\n",
       "      <td>0.000718</td>\n",
       "    </tr>\n",
       "    <tr>\n",
       "      <th>4</th>\n",
       "      <td>{'alpha': 32.0}</td>\n",
       "      <td>0.242439</td>\n",
       "      <td>0.000726</td>\n",
       "    </tr>\n",
       "  </tbody>\n",
       "</table>\n",
       "</div>"
      ],
      "text/plain": [
       "             param  val_loss_mean  val_loss_std\n",
       "0   {'alpha': 2.0}       0.242422      0.000710\n",
       "1   {'alpha': 4.0}       0.242410      0.000711\n",
       "2   {'alpha': 8.0}       0.242397      0.000713\n",
       "3    {'alpha': 16}       0.242395      0.000718\n",
       "4  {'alpha': 32.0}       0.242439      0.000726"
      ]
     },
     "execution_count": 27,
     "metadata": {},
     "output_type": "execute_result"
    }
   ],
   "source": [
    "default_params = {\n",
    "    'alpha': 1.0, \n",
    "    'fit_intercept': True, \n",
    "    'normalize': False, \n",
    "    'copy_X': True, \n",
    "    'max_iter': None, \n",
    "    'tol': 0.001, \n",
    "    'solver':'auto', \n",
    "    'random_state': SEED\n",
    "}\n",
    "\n",
    "try_params = \\\n",
    "[\n",
    "    {\n",
    "        'alpha': [2., 4., 8., 16, 32.],\n",
    "    }\n",
    "]\n",
    "\n",
    "fit_params(train_price_img, train_y, ml, default_params, try_params, fit_params=None, seed=SEED)"
   ]
  },
  {
   "cell_type": "code",
   "execution_count": 28,
   "metadata": {},
   "outputs": [
    {
     "name": "stdout",
     "output_type": "stream",
     "text": [
      "Fold 1 completed.\n",
      "Fold 2 completed.\n",
      "Fold 3 completed.\n",
      "Fold 4 completed.\n",
      "Fold 5 completed.\n"
     ]
    }
   ],
   "source": [
    "default_params = {\n",
    "    'alpha': 16., \n",
    "    'fit_intercept': True, \n",
    "    'normalize': False, \n",
    "    'copy_X': True, \n",
    "    'max_iter': None, \n",
    "    'tol': 0.001, \n",
    "    'solver':'auto', \n",
    "    'random_state': SEED\n",
    "}\n",
    "\n",
    "rg_oof_val_pred, rg_oof_test_pred, models = get_oof_predictions(train_price_img, train_y, test_price_img, ml, \n",
    "                                                                  default_params, seed=SEED, fit_params=None, \n",
    "                                                                  use_eval_set=False)\n",
    "\n",
    "pd.DataFrame(data=rg_oof_val_pred, columns=['price_img_rg_pred']).to_csv('price_img_rg_oof_val_pred.csv', index=False)\n",
    "pd.DataFrame(data=rg_oof_test_pred, columns=['price_img_rg_pred']).to_csv('price_img_rg_oof_test_pred.csv', index=False)"
   ]
  },
  {
   "cell_type": "code",
   "execution_count": 29,
   "metadata": {
    "collapsed": true
   },
   "outputs": [],
   "source": [
    "del train_price_img, test_price_img"
   ]
  },
  {
   "cell_type": "markdown",
   "metadata": {},
   "source": [
    "## Item Seq No + Img top 1"
   ]
  },
  {
   "cell_type": "code",
   "execution_count": 30,
   "metadata": {
    "collapsed": true
   },
   "outputs": [],
   "source": [
    "train_seqno_img = hstack([train_img_top1_feature, train_X[['item_seq_number']]]).tocsr()\n",
    "test_seqno_img = hstack([test_img_top1_feature, test_X[['item_seq_number']]]).tocsr()"
   ]
  },
  {
   "cell_type": "code",
   "execution_count": 31,
   "metadata": {
    "collapsed": true
   },
   "outputs": [
    {
     "name": "stdout",
     "output_type": "stream",
     "text": [
      "{'alpha': 2.0} loss:0.241955\n",
      "{'alpha': 2.0} loss:0.242620\n",
      "{'alpha': 2.0} loss:0.240509\n",
      "{'alpha': 2.0} loss:0.242385\n",
      "{'alpha': 2.0} loss:0.241163\n",
      "=================>{'alpha': 2.0} loss:0.241726\n",
      "{'alpha': 4.0} loss:0.241941\n",
      "{'alpha': 4.0} loss:0.242613\n",
      "{'alpha': 4.0} loss:0.240497\n",
      "{'alpha': 4.0} loss:0.242372\n",
      "{'alpha': 4.0} loss:0.241150\n",
      "=================>{'alpha': 4.0} loss:0.241715\n",
      "{'alpha': 8.0} loss:0.241925\n",
      "{'alpha': 8.0} loss:0.242612\n",
      "{'alpha': 8.0} loss:0.240483\n",
      "{'alpha': 8.0} loss:0.242358\n",
      "{'alpha': 8.0} loss:0.241134\n",
      "=================>{'alpha': 8.0} loss:0.241702\n",
      "{'alpha': 16} loss:0.241917\n",
      "{'alpha': 16} loss:0.242634\n",
      "{'alpha': 16} loss:0.240476\n",
      "{'alpha': 16} loss:0.242354\n",
      "{'alpha': 16} loss:0.241127\n",
      "=================>{'alpha': 16} loss:0.241702\n",
      "{'alpha': 32.0} loss:0.241945\n",
      "{'alpha': 32.0} loss:0.242716\n",
      "{'alpha': 32.0} loss:0.240510\n",
      "{'alpha': 32.0} loss:0.242397\n",
      "{'alpha': 32.0} loss:0.241165\n",
      "=================>{'alpha': 32.0} loss:0.241747\n",
      "Best params: {'alpha': 16} \tbest loss: 0.241701738593\n"
     ]
    },
    {
     "data": {
      "text/html": [
       "<div>\n",
       "<style scoped>\n",
       "    .dataframe tbody tr th:only-of-type {\n",
       "        vertical-align: middle;\n",
       "    }\n",
       "\n",
       "    .dataframe tbody tr th {\n",
       "        vertical-align: top;\n",
       "    }\n",
       "\n",
       "    .dataframe thead th {\n",
       "        text-align: right;\n",
       "    }\n",
       "</style>\n",
       "<table border=\"1\" class=\"dataframe\">\n",
       "  <thead>\n",
       "    <tr style=\"text-align: right;\">\n",
       "      <th></th>\n",
       "      <th>param</th>\n",
       "      <th>val_loss_mean</th>\n",
       "      <th>val_loss_std</th>\n",
       "    </tr>\n",
       "  </thead>\n",
       "  <tbody>\n",
       "    <tr>\n",
       "      <th>0</th>\n",
       "      <td>{'alpha': 2.0}</td>\n",
       "      <td>0.241726</td>\n",
       "      <td>0.000785</td>\n",
       "    </tr>\n",
       "    <tr>\n",
       "      <th>1</th>\n",
       "      <td>{'alpha': 4.0}</td>\n",
       "      <td>0.241715</td>\n",
       "      <td>0.000786</td>\n",
       "    </tr>\n",
       "    <tr>\n",
       "      <th>2</th>\n",
       "      <td>{'alpha': 8.0}</td>\n",
       "      <td>0.241702</td>\n",
       "      <td>0.000790</td>\n",
       "    </tr>\n",
       "    <tr>\n",
       "      <th>3</th>\n",
       "      <td>{'alpha': 16}</td>\n",
       "      <td>0.241702</td>\n",
       "      <td>0.000797</td>\n",
       "    </tr>\n",
       "    <tr>\n",
       "      <th>4</th>\n",
       "      <td>{'alpha': 32.0}</td>\n",
       "      <td>0.241747</td>\n",
       "      <td>0.000809</td>\n",
       "    </tr>\n",
       "  </tbody>\n",
       "</table>\n",
       "</div>"
      ],
      "text/plain": [
       "             param  val_loss_mean  val_loss_std\n",
       "0   {'alpha': 2.0}       0.241726      0.000785\n",
       "1   {'alpha': 4.0}       0.241715      0.000786\n",
       "2   {'alpha': 8.0}       0.241702      0.000790\n",
       "3    {'alpha': 16}       0.241702      0.000797\n",
       "4  {'alpha': 32.0}       0.241747      0.000809"
      ]
     },
     "execution_count": 31,
     "metadata": {},
     "output_type": "execute_result"
    }
   ],
   "source": [
    "default_params = {\n",
    "    'alpha': 1.0, \n",
    "    'fit_intercept': True, \n",
    "    'normalize': False, \n",
    "    'copy_X': True, \n",
    "    'max_iter': None, \n",
    "    'tol': 0.001, \n",
    "    'solver':'auto', \n",
    "    'random_state': SEED\n",
    "}\n",
    "\n",
    "try_params = \\\n",
    "[\n",
    "    {\n",
    "        'alpha': [2., 4., 8., 16, 32.],\n",
    "    }\n",
    "]\n",
    "\n",
    "fit_params(train_seqno_img, train_y, ml, default_params, try_params, fit_params=None, seed=SEED)"
   ]
  },
  {
   "cell_type": "code",
   "execution_count": 32,
   "metadata": {},
   "outputs": [
    {
     "name": "stdout",
     "output_type": "stream",
     "text": [
      "Fold 1 completed.\n",
      "Fold 2 completed.\n",
      "Fold 3 completed.\n",
      "Fold 4 completed.\n",
      "Fold 5 completed.\n"
     ]
    }
   ],
   "source": [
    "default_params = {\n",
    "    'alpha': 8., \n",
    "    'fit_intercept': True, \n",
    "    'normalize': False, \n",
    "    'copy_X': True, \n",
    "    'max_iter': None, \n",
    "    'tol': 0.001, \n",
    "    'solver':'auto', \n",
    "    'random_state': SEED\n",
    "}\n",
    "\n",
    "rg_oof_val_pred, rg_oof_test_pred, models = get_oof_predictions(train_seqno_img, train_y, test_seqno_img, ml, \n",
    "                                                                  default_params, seed=SEED, fit_params=None, \n",
    "                                                                  use_eval_set=False)\n",
    "\n",
    "pd.DataFrame(data=rg_oof_val_pred, columns=['seqno_img_rg_pred']).to_csv('seqno_img_rg_oof_val_pred.csv', index=False)\n",
    "pd.DataFrame(data=rg_oof_test_pred, columns=['seqno_img_rg_pred']).to_csv('seqno_img_rg_oof_test_pred.csv', index=False)"
   ]
  },
  {
   "cell_type": "code",
   "execution_count": 33,
   "metadata": {
    "collapsed": true
   },
   "outputs": [],
   "source": [
    "del train_seqno_img, test_seqno_img"
   ]
  },
  {
   "cell_type": "markdown",
   "metadata": {},
   "source": [
    "## All"
   ]
  },
  {
   "cell_type": "code",
   "execution_count": 34,
   "metadata": {
    "collapsed": true
   },
   "outputs": [],
   "source": [
    "train_seqno_price_img = hstack([train_img_top1_feature, train_X[['item_seq_number', 'price']]]).tocsr()\n",
    "test_seqno_price_img = hstack([test_img_top1_feature, test_X[['item_seq_number', 'price']]]).tocsr()"
   ]
  },
  {
   "cell_type": "code",
   "execution_count": 35,
   "metadata": {
    "collapsed": true
   },
   "outputs": [
    {
     "name": "stdout",
     "output_type": "stream",
     "text": [
      "{'alpha': 2.0} loss:0.241657\n",
      "{'alpha': 2.0} loss:0.242289\n",
      "{'alpha': 2.0} loss:0.240105\n",
      "{'alpha': 2.0} loss:0.242041\n",
      "{'alpha': 2.0} loss:0.240692\n",
      "=================>{'alpha': 2.0} loss:0.241357\n",
      "{'alpha': 4.0} loss:0.241644\n",
      "{'alpha': 4.0} loss:0.242282\n",
      "{'alpha': 4.0} loss:0.240093\n",
      "{'alpha': 4.0} loss:0.242028\n",
      "{'alpha': 4.0} loss:0.240678\n",
      "=================>{'alpha': 4.0} loss:0.241345\n",
      "{'alpha': 8.0} loss:0.241627\n",
      "{'alpha': 8.0} loss:0.242281\n",
      "{'alpha': 8.0} loss:0.240079\n",
      "{'alpha': 8.0} loss:0.242013\n",
      "{'alpha': 8.0} loss:0.240662\n",
      "=================>{'alpha': 8.0} loss:0.241332\n",
      "{'alpha': 16} loss:0.241618\n",
      "{'alpha': 16} loss:0.242302\n",
      "{'alpha': 16} loss:0.240072\n",
      "{'alpha': 16} loss:0.242009\n",
      "{'alpha': 16} loss:0.240654\n",
      "=================>{'alpha': 16} loss:0.241331\n",
      "{'alpha': 32.0} loss:0.241644\n",
      "{'alpha': 32.0} loss:0.242383\n",
      "{'alpha': 32.0} loss:0.240103\n",
      "{'alpha': 32.0} loss:0.242049\n",
      "{'alpha': 32.0} loss:0.240689\n",
      "=================>{'alpha': 32.0} loss:0.241374\n",
      "Best params: {'alpha': 16} \tbest loss: 0.24133084795\n"
     ]
    },
    {
     "data": {
      "text/html": [
       "<div>\n",
       "<style scoped>\n",
       "    .dataframe tbody tr th:only-of-type {\n",
       "        vertical-align: middle;\n",
       "    }\n",
       "\n",
       "    .dataframe tbody tr th {\n",
       "        vertical-align: top;\n",
       "    }\n",
       "\n",
       "    .dataframe thead th {\n",
       "        text-align: right;\n",
       "    }\n",
       "</style>\n",
       "<table border=\"1\" class=\"dataframe\">\n",
       "  <thead>\n",
       "    <tr style=\"text-align: right;\">\n",
       "      <th></th>\n",
       "      <th>param</th>\n",
       "      <th>val_loss_mean</th>\n",
       "      <th>val_loss_std</th>\n",
       "    </tr>\n",
       "  </thead>\n",
       "  <tbody>\n",
       "    <tr>\n",
       "      <th>0</th>\n",
       "      <td>{'alpha': 2.0}</td>\n",
       "      <td>0.241357</td>\n",
       "      <td>0.000829</td>\n",
       "    </tr>\n",
       "    <tr>\n",
       "      <th>1</th>\n",
       "      <td>{'alpha': 4.0}</td>\n",
       "      <td>0.241345</td>\n",
       "      <td>0.000830</td>\n",
       "    </tr>\n",
       "    <tr>\n",
       "      <th>2</th>\n",
       "      <td>{'alpha': 8.0}</td>\n",
       "      <td>0.241332</td>\n",
       "      <td>0.000833</td>\n",
       "    </tr>\n",
       "    <tr>\n",
       "      <th>3</th>\n",
       "      <td>{'alpha': 16}</td>\n",
       "      <td>0.241331</td>\n",
       "      <td>0.000840</td>\n",
       "    </tr>\n",
       "    <tr>\n",
       "      <th>4</th>\n",
       "      <td>{'alpha': 32.0}</td>\n",
       "      <td>0.241374</td>\n",
       "      <td>0.000852</td>\n",
       "    </tr>\n",
       "  </tbody>\n",
       "</table>\n",
       "</div>"
      ],
      "text/plain": [
       "             param  val_loss_mean  val_loss_std\n",
       "0   {'alpha': 2.0}       0.241357      0.000829\n",
       "1   {'alpha': 4.0}       0.241345      0.000830\n",
       "2   {'alpha': 8.0}       0.241332      0.000833\n",
       "3    {'alpha': 16}       0.241331      0.000840\n",
       "4  {'alpha': 32.0}       0.241374      0.000852"
      ]
     },
     "execution_count": 35,
     "metadata": {},
     "output_type": "execute_result"
    }
   ],
   "source": [
    "default_params = {\n",
    "    'alpha': 1.0, \n",
    "    'fit_intercept': True, \n",
    "    'normalize': False, \n",
    "    'copy_X': True, \n",
    "    'max_iter': None, \n",
    "    'tol': 0.001, \n",
    "    'solver':'auto', \n",
    "    'random_state': SEED\n",
    "}\n",
    "\n",
    "try_params = \\\n",
    "[\n",
    "    {\n",
    "        'alpha': [2., 4., 8., 16, 32.],\n",
    "    }\n",
    "]\n",
    "\n",
    "fit_params(train_seqno_price_img, train_y, ml, default_params, try_params, fit_params=None, seed=SEED)"
   ]
  },
  {
   "cell_type": "code",
   "execution_count": 36,
   "metadata": {},
   "outputs": [
    {
     "name": "stdout",
     "output_type": "stream",
     "text": [
      "Fold 1 completed.\n",
      "Fold 2 completed.\n",
      "Fold 3 completed.\n",
      "Fold 4 completed.\n",
      "Fold 5 completed.\n"
     ]
    }
   ],
   "source": [
    "default_params = {\n",
    "    'alpha': 8., \n",
    "    'fit_intercept': True, \n",
    "    'normalize': False, \n",
    "    'copy_X': True, \n",
    "    'max_iter': None, \n",
    "    'tol': 0.001, \n",
    "    'solver':'auto', \n",
    "    'random_state': SEED\n",
    "}\n",
    "\n",
    "rg_oof_val_pred, rg_oof_test_pred, models = get_oof_predictions(train_seqno_price_img, train_y, test_seqno_price_img, ml, \n",
    "                                                                  default_params, seed=SEED, fit_params=None, \n",
    "                                                                  use_eval_set=False)\n",
    "\n",
    "pd.DataFrame(data=rg_oof_val_pred, columns=['seqno_price_img_rg_pred']).to_csv('seqno_price_img_rg_oof_val_pred.csv', index=False)\n",
    "pd.DataFrame(data=rg_oof_test_pred, columns=['seqno_price_img_rg_pred']).to_csv('seqno_price_img_rg_oof_test_pred.csv', index=False)"
   ]
  },
  {
   "cell_type": "code",
   "execution_count": 37,
   "metadata": {
    "collapsed": true
   },
   "outputs": [],
   "source": [
    "del train_seqno_price_img, test_seqno_price_img"
   ]
  }
 ],
 "metadata": {
  "kernelspec": {
   "display_name": "Python 3",
   "language": "python",
   "name": "python3"
  },
  "language_info": {
   "codemirror_mode": {
    "name": "ipython",
    "version": 3
   },
   "file_extension": ".py",
   "mimetype": "text/x-python",
   "name": "python",
   "nbconvert_exporter": "python",
   "pygments_lexer": "ipython3",
   "version": "3.6.2"
  }
 },
 "nbformat": 4,
 "nbformat_minor": 2
}
