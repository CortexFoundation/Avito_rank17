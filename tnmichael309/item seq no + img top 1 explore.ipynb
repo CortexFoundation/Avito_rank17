{
 "cells": [
  {
   "cell_type": "code",
   "execution_count": 1,
   "metadata": {},
   "outputs": [],
   "source": [
    "import pandas as pd\n",
    "import numpy as np\n",
    "import matplotlib.pyplot as plt\n",
    "%matplotlib inline"
   ]
  },
  {
   "cell_type": "code",
   "execution_count": 2,
   "metadata": {},
   "outputs": [],
   "source": [
    "train = pd.read_csv('train.csv', usecols=['item_seq_number', 'image_top_1', 'deal_probability'])"
   ]
  },
  {
   "cell_type": "code",
   "execution_count": 3,
   "metadata": {},
   "outputs": [],
   "source": [
    "train.loc[:, 'image_top_1'] = train.image_top_1.fillna(-1)"
   ]
  },
  {
   "cell_type": "code",
   "execution_count": 4,
   "metadata": {},
   "outputs": [
    {
     "data": {
      "text/plain": [
       "(204429, 1)"
      ]
     },
     "execution_count": 4,
     "metadata": {},
     "output_type": "execute_result"
    }
   ],
   "source": [
    "train.item_seq_number.max(), train.item_seq_number.min()"
   ]
  },
  {
   "cell_type": "code",
   "execution_count": 5,
   "metadata": {},
   "outputs": [
    {
     "data": {
      "text/plain": [
       "(3066.0, -1.0)"
      ]
     },
     "execution_count": 5,
     "metadata": {},
     "output_type": "execute_result"
    }
   ],
   "source": [
    "train.image_top_1.max(), train.image_top_1.min()"
   ]
  },
  {
   "cell_type": "code",
   "execution_count": 6,
   "metadata": {},
   "outputs": [
    {
     "data": {
      "text/html": [
       "<div>\n",
       "<style scoped>\n",
       "    .dataframe tbody tr th:only-of-type {\n",
       "        vertical-align: middle;\n",
       "    }\n",
       "\n",
       "    .dataframe tbody tr th {\n",
       "        vertical-align: top;\n",
       "    }\n",
       "\n",
       "    .dataframe thead th {\n",
       "        text-align: right;\n",
       "    }\n",
       "</style>\n",
       "<table border=\"1\" class=\"dataframe\">\n",
       "  <thead>\n",
       "    <tr style=\"text-align: right;\">\n",
       "      <th></th>\n",
       "      <th>y</th>\n",
       "    </tr>\n",
       "  </thead>\n",
       "  <tbody>\n",
       "    <tr>\n",
       "      <th>y</th>\n",
       "      <td>1.000000</td>\n",
       "    </tr>\n",
       "    <tr>\n",
       "      <th>item_seq_number</th>\n",
       "      <td>-0.035744</td>\n",
       "    </tr>\n",
       "    <tr>\n",
       "      <th>item_seq_number_nunqiue_img_top_1</th>\n",
       "      <td>0.120312</td>\n",
       "    </tr>\n",
       "  </tbody>\n",
       "</table>\n",
       "</div>"
      ],
      "text/plain": [
       "                                          y\n",
       "y                                  1.000000\n",
       "item_seq_number                   -0.035744\n",
       "item_seq_number_nunqiue_img_top_1  0.120312"
      ]
     },
     "execution_count": 6,
     "metadata": {},
     "output_type": "execute_result"
    }
   ],
   "source": [
    "temp = train.groupby('item_seq_number')['image_top_1'].nunique()\n",
    "df = pd.DataFrame()\n",
    "df['y'] = train.deal_probability\n",
    "df['item_seq_number'] = train.item_seq_number\n",
    "df['item_seq_number_nunqiue_img_top_1'] = df['item_seq_number'].map(temp)\n",
    "df.corr()[['y']]"
   ]
  },
  {
   "cell_type": "code",
   "execution_count": 7,
   "metadata": {},
   "outputs": [
    {
     "data": {
      "text/html": [
       "<div>\n",
       "<style scoped>\n",
       "    .dataframe tbody tr th:only-of-type {\n",
       "        vertical-align: middle;\n",
       "    }\n",
       "\n",
       "    .dataframe tbody tr th {\n",
       "        vertical-align: top;\n",
       "    }\n",
       "\n",
       "    .dataframe thead th {\n",
       "        text-align: right;\n",
       "    }\n",
       "</style>\n",
       "<table border=\"1\" class=\"dataframe\">\n",
       "  <thead>\n",
       "    <tr style=\"text-align: right;\">\n",
       "      <th></th>\n",
       "      <th>y</th>\n",
       "    </tr>\n",
       "  </thead>\n",
       "  <tbody>\n",
       "    <tr>\n",
       "      <th>y</th>\n",
       "      <td>1.000000</td>\n",
       "    </tr>\n",
       "    <tr>\n",
       "      <th>image_top_1</th>\n",
       "      <td>0.153968</td>\n",
       "    </tr>\n",
       "    <tr>\n",
       "      <th>img_top_1_nunqiue_item_seq_number</th>\n",
       "      <td>0.057862</td>\n",
       "    </tr>\n",
       "    <tr>\n",
       "      <th>img_top_1_max_item_seq_number</th>\n",
       "      <td>0.108130</td>\n",
       "    </tr>\n",
       "    <tr>\n",
       "      <th>img_top_1_min_item_seq_number</th>\n",
       "      <td>-0.005312</td>\n",
       "    </tr>\n",
       "    <tr>\n",
       "      <th>img_top_1_std_item_seq_number</th>\n",
       "      <td>0.062288</td>\n",
       "    </tr>\n",
       "    <tr>\n",
       "      <th>img_top_1_med_item_seq_number</th>\n",
       "      <td>-0.036304</td>\n",
       "    </tr>\n",
       "  </tbody>\n",
       "</table>\n",
       "</div>"
      ],
      "text/plain": [
       "                                          y\n",
       "y                                  1.000000\n",
       "image_top_1                        0.153968\n",
       "img_top_1_nunqiue_item_seq_number  0.057862\n",
       "img_top_1_max_item_seq_number      0.108130\n",
       "img_top_1_min_item_seq_number     -0.005312\n",
       "img_top_1_std_item_seq_number      0.062288\n",
       "img_top_1_med_item_seq_number     -0.036304"
      ]
     },
     "execution_count": 7,
     "metadata": {},
     "output_type": "execute_result"
    }
   ],
   "source": [
    "temp = train.groupby('image_top_1')['item_seq_number']\n",
    "df = pd.DataFrame()\n",
    "df['y'] = train.deal_probability\n",
    "df['image_top_1'] = train.image_top_1\n",
    "df['img_top_1_nunqiue_item_seq_number'] = df['image_top_1'].map(temp.nunique())\n",
    "df['img_top_1_max_item_seq_number'] = df['image_top_1'].map(temp.max())\n",
    "df['img_top_1_min_item_seq_number'] = df['image_top_1'].map(temp.min())\n",
    "df['img_top_1_std_item_seq_number'] = df['image_top_1'].map(temp.std())\n",
    "df['img_top_1_med_item_seq_number'] = df['image_top_1'].map(temp.median())\n",
    "df.corr()[['y']]"
   ]
  },
  {
   "cell_type": "code",
   "execution_count": 8,
   "metadata": {},
   "outputs": [
    {
     "data": {
      "text/plain": [
       "18"
      ]
     },
     "execution_count": 8,
     "metadata": {},
     "output_type": "execute_result"
    }
   ],
   "source": [
    "import gc; gc.enable()\n",
    "del train; gc.collect()"
   ]
  },
  {
   "cell_type": "code",
   "execution_count": 9,
   "metadata": {},
   "outputs": [],
   "source": [
    "train = pd.read_csv('train.csv', usecols=['item_seq_number', 'image_top_1', 'activation_date'], parse_dates=['activation_date']) \\\n",
    "          .sort_values('activation_date') \\\n",
    "          .reset_index(drop=True) \\\n",
    "          .drop('activation_date', axis=1)\n",
    "\n",
    "test = pd.read_csv('test.csv', usecols=['item_seq_number', 'image_top_1'])"
   ]
  },
  {
   "cell_type": "code",
   "execution_count": 10,
   "metadata": {},
   "outputs": [],
   "source": [
    "all_df = pd.concat([train, test]).reset_index(drop=True)"
   ]
  },
  {
   "cell_type": "code",
   "execution_count": 11,
   "metadata": {},
   "outputs": [],
   "source": [
    "all_df['image_top_1'] = all_df['image_top_1'].fillna(-1)"
   ]
  },
  {
   "cell_type": "code",
   "execution_count": 12,
   "metadata": {},
   "outputs": [
    {
     "data": {
      "text/plain": [
       "42"
      ]
     },
     "execution_count": 12,
     "metadata": {},
     "output_type": "execute_result"
    }
   ],
   "source": [
    "temp = all_df.groupby('item_seq_number')['image_top_1'].nunique()\n",
    "all_df['item_seq_number_nunqiue_img_top_1'] = all_df['item_seq_number'].map(temp)\n",
    "del temp; gc.collect()"
   ]
  },
  {
   "cell_type": "code",
   "execution_count": 13,
   "metadata": {},
   "outputs": [
    {
     "data": {
      "text/plain": [
       "42"
      ]
     },
     "execution_count": 13,
     "metadata": {},
     "output_type": "execute_result"
    }
   ],
   "source": [
    "temp = train.groupby('image_top_1')['item_seq_number']\n",
    "all_df['img_top_1_nunqiue_item_seq_number'] = all_df['image_top_1'].map(temp.nunique())\n",
    "all_df['img_top_1_max_item_seq_number'] = all_df['image_top_1'].map(temp.max())\n",
    "all_df['img_top_1_min_item_seq_number'] = all_df['image_top_1'].map(temp.min())\n",
    "all_df['img_top_1_std_item_seq_number'] = all_df['image_top_1'].map(temp.std())\n",
    "all_df['img_top_1_med_item_seq_number'] = all_df['image_top_1'].map(temp.median())\n",
    "del temp; gc.collect()"
   ]
  },
  {
   "cell_type": "code",
   "execution_count": 14,
   "metadata": {},
   "outputs": [],
   "source": [
    "features = ['item_seq_number_nunqiue_img_top_1',\n",
    "            'img_top_1_nunqiue_item_seq_number',\n",
    "            'img_top_1_max_item_seq_number',\n",
    "            'img_top_1_min_item_seq_number',\n",
    "            'img_top_1_std_item_seq_number',\n",
    "            'img_top_1_med_item_seq_number']"
   ]
  },
  {
   "cell_type": "code",
   "execution_count": 15,
   "metadata": {},
   "outputs": [],
   "source": [
    "all_df.loc[:train.shape[0]-1, features].to_csv('train_itsq_img_top1_features.csv', index=False)\n",
    "all_df.loc[train.shape[0]:, features].to_csv('test_itsq_img_top1_features.csv', index=False)"
   ]
  }
 ],
 "metadata": {
  "kernelspec": {
   "display_name": "Python 3",
   "language": "python",
   "name": "python3"
  },
  "language_info": {
   "codemirror_mode": {
    "name": "ipython",
    "version": 3
   },
   "file_extension": ".py",
   "mimetype": "text/x-python",
   "name": "python",
   "nbconvert_exporter": "python",
   "pygments_lexer": "ipython3",
   "version": "3.6.5"
  }
 },
 "nbformat": 4,
 "nbformat_minor": 2
}
