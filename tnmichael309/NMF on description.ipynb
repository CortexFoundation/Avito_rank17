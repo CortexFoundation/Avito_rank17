{
 "cells": [
  {
   "cell_type": "code",
   "execution_count": 1,
   "metadata": {},
   "outputs": [
    {
     "name": "stdout",
     "output_type": "stream",
     "text": [
      "env: JOBLIB_TEMP_FOLDER=temp\n"
     ]
    }
   ],
   "source": [
    "import pandas as pd\n",
    "import numpy as np\n",
    "import gc; gc.enable()\n",
    "import matplotlib.pyplot as plt\n",
    "import seaborn as sns\n",
    "import string\n",
    "from sklearn.model_selection import train_test_split\n",
    "from sklearn.metrics import mean_squared_error\n",
    "from sklearn.preprocessing import LabelEncoder\n",
    "from sklearn.feature_extraction.text import CountVectorizer, TfidfVectorizer\n",
    "import nltk\n",
    "from nltk.corpus import stopwords\n",
    "import scipy\n",
    "import lightgbm as lgb\n",
    "from sklearn.decomposition import NMF\n",
    "from copy import deepcopy as cp\n",
    "\n",
    "%env JOBLIB_TEMP_FOLDER=temp"
   ]
  },
  {
   "cell_type": "code",
   "execution_count": 2,
   "metadata": {
    "collapsed": true
   },
   "outputs": [],
   "source": [
    "usecols = ['activation_date', 'description']"
   ]
  },
  {
   "cell_type": "code",
   "execution_count": 3,
   "metadata": {},
   "outputs": [
    {
     "data": {
      "text/html": [
       "<div>\n",
       "<style scoped>\n",
       "    .dataframe tbody tr th:only-of-type {\n",
       "        vertical-align: middle;\n",
       "    }\n",
       "\n",
       "    .dataframe tbody tr th {\n",
       "        vertical-align: top;\n",
       "    }\n",
       "\n",
       "    .dataframe thead th {\n",
       "        text-align: right;\n",
       "    }\n",
       "</style>\n",
       "<table border=\"1\" class=\"dataframe\">\n",
       "  <thead>\n",
       "    <tr style=\"text-align: right;\">\n",
       "      <th></th>\n",
       "      <th>description</th>\n",
       "      <th>activation_date</th>\n",
       "    </tr>\n",
       "  </thead>\n",
       "  <tbody>\n",
       "    <tr>\n",
       "      <th>0</th>\n",
       "      <td>Зимний комбенизон для малыша</td>\n",
       "      <td>2017-03-15</td>\n",
       "    </tr>\n",
       "    <tr>\n",
       "      <th>1</th>\n",
       "      <td>Твёрдый пластик</td>\n",
       "      <td>2017-03-15</td>\n",
       "    </tr>\n",
       "    <tr>\n",
       "      <th>2</th>\n",
       "      <td>NaN</td>\n",
       "      <td>2017-03-15</td>\n",
       "    </tr>\n",
       "    <tr>\n",
       "      <th>3</th>\n",
       "      <td>Продам, цена указана за все что на фото!/\\nВсе...</td>\n",
       "      <td>2017-03-15</td>\n",
       "    </tr>\n",
       "    <tr>\n",
       "      <th>4</th>\n",
       "      <td>Спортивный костюм. Размер 48 - 50, мало б/у. Н...</td>\n",
       "      <td>2017-03-15</td>\n",
       "    </tr>\n",
       "  </tbody>\n",
       "</table>\n",
       "</div>"
      ],
      "text/plain": [
       "                                         description activation_date\n",
       "0                       Зимний комбенизон для малыша      2017-03-15\n",
       "1                                    Твёрдый пластик      2017-03-15\n",
       "2                                                NaN      2017-03-15\n",
       "3  Продам, цена указана за все что на фото!/\\nВсе...      2017-03-15\n",
       "4  Спортивный костюм. Размер 48 - 50, мало б/у. Н...      2017-03-15"
      ]
     },
     "execution_count": 3,
     "metadata": {},
     "output_type": "execute_result"
    }
   ],
   "source": [
    "train = pd.read_csv('data/train.csv', parse_dates=['activation_date'], usecols=usecols).sort_values(['activation_date']).reset_index(drop=True)\n",
    "test = pd.read_csv('data/test.csv', parse_dates=['activation_date'], usecols=usecols)\n",
    "train.head()"
   ]
  },
  {
   "cell_type": "code",
   "execution_count": 4,
   "metadata": {
    "collapsed": true
   },
   "outputs": [],
   "source": [
    "train_len = len(train)"
   ]
  },
  {
   "cell_type": "code",
   "execution_count": 5,
   "metadata": {
    "collapsed": true
   },
   "outputs": [],
   "source": [
    "for df in [train, test]:\n",
    "    df['description'].fillna('unknowndescription', inplace=True)"
   ]
  },
  {
   "cell_type": "code",
   "execution_count": 6,
   "metadata": {},
   "outputs": [
    {
     "name": "stdout",
     "output_type": "stream",
     "text": [
      "train description clean text done\n",
      "test description clean text done\n"
     ]
    }
   ],
   "source": [
    "from nltk.corpus import stopwords                \n",
    "from nltk.stem.snowball import RussianStemmer\n",
    "stemmer = RussianStemmer(ignore_stopwords=False)\n",
    "def clean_text(txt):\n",
    "    words = str(txt).lower().strip().split(\" \\t\\r.,!?^+-*/@~:;/\\\\\\\"\\'&{}[]()#$%\") #str(txt).split(\" \") #\n",
    "    words = [stemmer.stem(wrd) for wrd in words \\\n",
    "                if wrd not in stopwords.words('russian') and len(wrd) > 1]\n",
    "    txt = u\" \".join(words)\n",
    "    return txt\n",
    "\n",
    "train['description'] = train['description'].apply(clean_text); print('train description clean text done') \n",
    "test['description'] = test['description'].apply(clean_text); print('test description clean text done')  "
   ]
  },
  {
   "cell_type": "code",
   "execution_count": 8,
   "metadata": {},
   "outputs": [
    {
     "data": {
      "text/plain": [
       "25"
      ]
     },
     "execution_count": 8,
     "metadata": {},
     "output_type": "execute_result"
    }
   ],
   "source": [
    "'''\n",
    "count_vectorizer_desc = CountVectorizer(max_df=0.95, min_df=2,\n",
    "                                        max_features=15000,\n",
    "                                        stop_words=stopwords.words('russian'))\n",
    "'''\n",
    "count_vectorizer_desc = TfidfVectorizer(stop_words=stopwords.words('russian'), \n",
    "                max_df=0.95, min_df=2,\n",
    "                smooth_idf=False,\n",
    "                sublinear_tf=True,\n",
    "                max_features=15000)\n",
    "\n",
    "\n",
    "desc_counts = count_vectorizer_desc.fit_transform(train['description'].append(test['description']))\n",
    "\n",
    "train_desc_counts = desc_counts[:train_len]\n",
    "test_desc_counts = desc_counts[train_len:]\n",
    "\n",
    "del train, test; gc.collect()"
   ]
  },
  {
   "cell_type": "code",
   "execution_count": 9,
   "metadata": {
    "collapsed": true
   },
   "outputs": [],
   "source": [
    "from sklearn.model_selection import ParameterGrid"
   ]
  },
  {
   "cell_type": "code",
   "execution_count": 10,
   "metadata": {
    "collapsed": true
   },
   "outputs": [],
   "source": [
    "nmf = NMF(n_components=10, solver='mu', random_state=411)\n",
    "nmf_features = nmf.fit_transform(desc_counts)"
   ]
  },
  {
   "cell_type": "code",
   "execution_count": 11,
   "metadata": {},
   "outputs": [
    {
     "data": {
      "text/plain": [
       "(2011862, 10)"
      ]
     },
     "execution_count": 11,
     "metadata": {},
     "output_type": "execute_result"
    }
   ],
   "source": [
    "nmf_features.shape"
   ]
  },
  {
   "cell_type": "code",
   "execution_count": 12,
   "metadata": {},
   "outputs": [
    {
     "data": {
      "text/plain": [
       "array([[  0.00000000e+00,   3.05850260e-04,   2.36557387e-04,\n",
       "          0.00000000e+00,   0.00000000e+00,   1.50118352e-14,\n",
       "          2.26818574e-04,   0.00000000e+00,   0.00000000e+00,\n",
       "          4.61121312e-04],\n",
       "       [  0.00000000e+00,   7.43872466e-55,   2.22401801e-05,\n",
       "          0.00000000e+00,   3.99799082e-09,   0.00000000e+00,\n",
       "          0.00000000e+00,   0.00000000e+00,   2.56303215e-09,\n",
       "          9.67677640e-04],\n",
       "       [  5.41536183e-02,   0.00000000e+00,   0.00000000e+00,\n",
       "          0.00000000e+00,   0.00000000e+00,   0.00000000e+00,\n",
       "          0.00000000e+00,   0.00000000e+00,   0.00000000e+00,\n",
       "          0.00000000e+00]])"
      ]
     },
     "execution_count": 12,
     "metadata": {},
     "output_type": "execute_result"
    }
   ],
   "source": [
    "nmf_features[:3,:]"
   ]
  },
  {
   "cell_type": "code",
   "execution_count": 13,
   "metadata": {
    "collapsed": true
   },
   "outputs": [],
   "source": [
    "import pickle\n",
    "with open('nmf_features.pickle', 'wb') as handle:\n",
    "    pickle.dump(nmf_features, handle, protocol=pickle.HIGHEST_PROTOCOL)"
   ]
  },
  {
   "cell_type": "code",
   "execution_count": 14,
   "metadata": {
    "collapsed": true
   },
   "outputs": [],
   "source": [
    "def print_top_words(model, feature_names, n_top_words):\n",
    "    for topic_idx, topic in enumerate(model.components_):\n",
    "        message = \"Topic #%d: \" % topic_idx\n",
    "        message += \" \".join([feature_names[i]\n",
    "                             for i in topic.argsort()[:-n_top_words - 1:-1]])\n",
    "        print(message)\n",
    "    print()"
   ]
  },
  {
   "cell_type": "code",
   "execution_count": 15,
   "metadata": {
    "scrolled": true
   },
   "outputs": [
    {
     "name": "stdout",
     "output_type": "stream",
     "text": [
      "Topic #0: unknowndescription ящиком качественными ква кв кб каши кашемировое кашемир каша качеству качеством качество качественных качественным квадратная качественный качественные качественную качественной качественное качественного качественно качественная качествен качестве качества качеств квадрат квадратной\n",
      "Topic #1: продам состоянии платье идеальном куртку мальчика новую срочно хорошем новый цена девочку рабочем девочки костюм коляску телефон туфли комбинезон пальто велосипед очень осень весна новое рост цвет детскую лет года\n",
      "Topic #2: состояние отличное хорошее идеальное хорош отличн очень нового носили новой качество комплект новых кожа пару фото рост мало осень работает натуральная идеальн мальчика куртка цвет продаю полный весна одевали девочки\n",
      "Topic #3: состоян отличное хорошее идеальное отл пальто сапоги кроссовки туфли мальчика платье девочку ботинки весна бу джинсы кожа осень костюм куртку хор куртка девочки нормальное натуральная рабочее хорошом босоножки сапожки хорошим\n",
      "Topic #4: хорошем состоянии очень продаю куртка машина продается велосипед работает коляска автомобиль телефон носили авто диван вещи комплекте мало самовывоз сезон года стол ребенка смотреть кровать вопросы техническом сумка комплект коробка\n",
      "Topic #5: отличном состоянии продаю куртка платье очень рост пару носили мало комбинезон одевали мальчика комплект осень костюм лет автомобиль раза продается см джинсы девочки комплекте пальто пользовались работает сезон машина весна\n",
      "Topic #6: размер новые см 44 42 46 платье кожа 40 38 48 подошел 37 натуральная туфли очень цвет 36 стельке новая 39 новое 50 длина ботинки кроссовки куртка сапоги продаю джинсы\n",
      "Topic #7: нов абсолютно практически платье совершенно туфли кожа сумка куртка юбка джинсы натуральная набор брюки костюм женские кроссовки одевали шапка черные сапоги ботинки 37 кеды кофта велосипед плащ пальто босоножки жилет\n",
      "Topic #8: торг возможен уместен умест вопросы телефону продаю небольшой срочно обмен продается реальному покупателю телефон осмотре машина новая автомобиль авто работает новый ходу разумный капота двигатель участок резина хороший требует коробка\n",
      "Topic #9: цена квартира новый продается см дом руб продаю кв квартиру рядом 10 ремонт окна очень новая дома звоните доме кухня шт участок ул школа 100 комнаты лет магазины наличии города\n",
      "\n"
     ]
    }
   ],
   "source": [
    "n_top_words = 30\n",
    "tf_feature_names = count_vectorizer_desc.get_feature_names()\n",
    "print_top_words(nmf, tf_feature_names, n_top_words)"
   ]
  },
  {
   "cell_type": "markdown",
   "metadata": {},
   "source": [
    "## English version:\n",
    "\n",
    "Topic #0: unknowndescription box quality kv kv kb porridge cashmere cashmere porridge quality quality quality quality qualitative square quality high-quality quality high-quality quality high-quality quality quality quality quality qualities square square\n",
    "\n",
    "Topic #1: selling state perfect jacket boy new urgently good new price girl working girl costume pushchair phone shoes jumpsuit bicycle very autumn spring new growth color baby years of the year\n",
    "\n",
    "Topic #2: condition excellent good perfect good excellent new very worn new quality set new leather couple photo growth little autumn works natural perfect boy jacket color sell full spring dressed girls\n",
    "\n",
    "Topic #3: good excellent ideal coat coat boots sneakers shoes boy dress girl shoes spring bu jeans skin autumn suit jacket chorus jacket girls normal natural working well sandals boots good\n",
    "\n",
    "Topic #4: good condition very sell jacket car sold bicycle running car stroller car phone worn auto sofa things set little self-organizing season year table baby watch bed questions technical bag kit box\n",
    "\n",
    "Topic #5: excellent condition sell jacket very growth couple worn little overalls dressed boy kit autumn suit years car times sold cm jeans girls set coat used running season car spring\n",
    "\n",
    "Topic #6: size new cm 44 42 46 dress leather 40 38 48 approached 37 natural shoes very color 36 insole new 39 new 50 length boots sneakers jacket boots sell jeans\n",
    "\n",
    "Topic #7: new absolutely practical dress absolutely shoes leather bag jacket skirt jeans natural set pants suit female sneakers dressed cap black boots boots 37 sneakers sweater bike cloak coat sandals vest vest\n",
    "\n",
    "Topic #8: bargain possible relevant relevant issues phone sell small urgently exchange is sold to a real buyer phone inspection car new car auto running new way reasonable hood engine plot rubber good requires a box\n",
    "\n",
    "Topic #9: price apartment new for sale cm house rub sell apartment apartment close to 10 repair windows very new house call home kitchen pc plot ul school 100 rooms years shops have a city"
   ]
  }
 ],
 "metadata": {
  "kernelspec": {
   "display_name": "Python 3",
   "language": "python",
   "name": "python3"
  },
  "language_info": {
   "codemirror_mode": {
    "name": "ipython",
    "version": 3
   },
   "file_extension": ".py",
   "mimetype": "text/x-python",
   "name": "python",
   "nbconvert_exporter": "python",
   "pygments_lexer": "ipython3",
   "version": "3.6.2"
  }
 },
 "nbformat": 4,
 "nbformat_minor": 2
}
