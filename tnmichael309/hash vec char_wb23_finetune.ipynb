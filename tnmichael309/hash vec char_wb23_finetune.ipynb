{
 "cells": [
  {
   "cell_type": "code",
   "execution_count": 1,
   "metadata": {
    "collapsed": true
   },
   "outputs": [],
   "source": [
    "import pickle\n",
    "import pandas as pd\n",
    "import numpy as np\n",
    "import gc; gc.enable()\n",
    "from sklearn.decomposition import TruncatedSVD\n",
    "from scipy.sparse import hstack, load_npz"
   ]
  },
  {
   "cell_type": "code",
   "execution_count": 2,
   "metadata": {},
   "outputs": [],
   "source": [
    "'''\n",
    "with open('all_features.pickle', 'rb') as handle:\n",
    "    all_features = pickle.load(handle)\n",
    "'''      \n",
    "all_features = load_npz('all_features_hv_charwb23.npz')"
   ]
  },
  {
   "cell_type": "code",
   "execution_count": 3,
   "metadata": {},
   "outputs": [
    {
     "name": "stdout",
     "output_type": "stream",
     "text": [
      "1503424\n"
     ]
    }
   ],
   "source": [
    "train_y = pd.read_csv(\"regression_target.csv\")\n",
    "train_y = train_y['deal_probability'].values\n",
    "train_len = train_y.shape[0]\n",
    "print(train_len)"
   ]
  },
  {
   "cell_type": "code",
   "execution_count": 4,
   "metadata": {},
   "outputs": [
    {
     "data": {
      "text/plain": [
       "0"
      ]
     },
     "execution_count": 4,
     "metadata": {},
     "output_type": "execute_result"
    }
   ],
   "source": [
    "train_features = all_features[:train_len, :]\n",
    "del all_features; gc.collect()"
   ]
  },
  {
   "cell_type": "code",
   "execution_count": 5,
   "metadata": {
    "collapsed": true
   },
   "outputs": [],
   "source": [
    "from sklearn.linear_model import Ridge\n",
    "from sklearn.model_selection import KFold, GridSearchCV, ParameterGrid, train_test_split\n",
    "from sklearn.metrics import mean_squared_error, make_scorer\n",
    "from copy import deepcopy as cp\n",
    "from wordbatch.models import FM_FTRL"
   ]
  },
  {
   "cell_type": "code",
   "execution_count": 6,
   "metadata": {
    "collapsed": true
   },
   "outputs": [],
   "source": [
    "def clip_rmse(ground_truth, predictions):\n",
    "    predictions = np.clip(predictions, 0., 1.)\n",
    "    return mean_squared_error(ground_truth, predictions)**.5\n",
    "\n",
    "clip_rmse_scorer = make_scorer(clip_rmse, greater_is_better=False)"
   ]
  },
  {
   "cell_type": "code",
   "execution_count": 7,
   "metadata": {
    "collapsed": true
   },
   "outputs": [],
   "source": [
    "def simple_train_val_split_eval(default_params, X, y, params):\n",
    "    train_len = int(X.shape[0]*.7)\n",
    "    \n",
    "    min_score = None\n",
    "    best_param = None\n",
    "    for param in list(ParameterGrid(params)):\n",
    "        use_params = cp(default_params)\n",
    "        use_params.update(param)\n",
    "        print('Fitting params:\\n', use_params)\n",
    "        md = FM_FTRL(**use_params)\n",
    "        md.fit(X[:train_len, :], y[:train_len])\n",
    "        score = clip_rmse(y[train_len:], md.predict(X[train_len:]))\n",
    "        print(param, score)\n",
    "        \n",
    "        if min_score is None or score < min_score:\n",
    "            best_param = param\n",
    "            min_score = score\n",
    "            \n",
    "    print('Best param:', best_param, '\\nscore:', min_score)"
   ]
  },
  {
   "cell_type": "code",
   "execution_count": 8,
   "metadata": {
    "scrolled": true
   },
   "outputs": [
    {
     "name": "stdout",
     "output_type": "stream",
     "text": [
      "Fitting params:\n",
      " {'alpha': 0.01, 'beta': 0.005, 'L1': 0.0001, 'L2': 0.001, 'D': 357887, 'D_fm': 300, 'iters': 40, 'seed': 719, 'threads': 4, 'verbose': 1}\n",
      "Total e: 160367.7203989733\n",
      "Total e: 149513.30132924824\n",
      "Total e: 146352.09932865234\n",
      "Total e: 144108.86090210264\n",
      "Total e: 142308.01020120425\n",
      "Total e: 140686.4994502756\n",
      "Total e: 139295.8849790965\n",
      "Total e: 137985.22276299744\n",
      "Total e: 136823.1545105725\n",
      "Total e: 135675.98044813066\n",
      "Total e: 134611.246783402\n",
      "Total e: 133581.08454985142\n",
      "Total e: 132622.72744485753\n",
      "Total e: 131694.65980167914\n",
      "Total e: 130811.31240909772\n",
      "Total e: 129931.30546383241\n",
      "Total e: 129080.37709352793\n",
      "Total e: 128295.12955093759\n",
      "Total e: 127513.80439120728\n",
      "Total e: 126764.54521081621\n",
      "Total e: 126025.54770431136\n",
      "Total e: 125332.45696620546\n",
      "Total e: 124609.53100690623\n",
      "Total e: 123946.98753996103\n",
      "Total e: 123281.4341262151\n",
      "Total e: 122655.1226073082\n",
      "Total e: 122029.15481062476\n",
      "Total e: 121422.83330097856\n",
      "Total e: 120844.86721528867\n",
      "Total e: 120259.81870092954\n",
      "Total e: 119708.37326707327\n",
      "Total e: 119150.0186794577\n",
      "Total e: 118604.89602868733\n",
      "Total e: 118095.29514571905\n",
      "Total e: 117591.49011050095\n",
      "Total e: 117080.45830464049\n",
      "Total e: 116605.40384476133\n",
      "Total e: 116111.22645572212\n",
      "Total e: 115657.09156232985\n",
      "Total e: 115188.76550035011\n",
      "{'L1': 0.0001, 'L2': 0.001} 0.235509403349\n",
      "Best param: {'L1': 0.0001, 'L2': 0.001} \n",
      "score: 0.235509403349\n"
     ]
    }
   ],
   "source": [
    "fmftrl_default_params = {\n",
    "    'alpha': .01,\n",
    "    'beta': .005,\n",
    "    'L1': 0.0001,\n",
    "    'L2': 0.1,\n",
    "    'D': train_features.shape[1],\n",
    "    'D_fm': 300,\n",
    "    'iters': 40,\n",
    "    'seed': 719,\n",
    "    'threads': 4,\n",
    "    'verbose': 1\n",
    "}\n",
    "\n",
    "try_params = {\n",
    "    'L1': [0.0001],\n",
    "    'L2': [0.001]\n",
    "}\n",
    "simple_train_val_split_eval(fmftrl_default_params, train_features, train_y, try_params)"
   ]
  }
 ],
 "metadata": {
  "kernelspec": {
   "display_name": "Python 3",
   "language": "python",
   "name": "python3"
  },
  "language_info": {
   "codemirror_mode": {
    "name": "ipython",
    "version": 3
   },
   "file_extension": ".py",
   "mimetype": "text/x-python",
   "name": "python",
   "nbconvert_exporter": "python",
   "pygments_lexer": "ipython3",
   "version": "3.6.2"
  }
 },
 "nbformat": 4,
 "nbformat_minor": 2
}
