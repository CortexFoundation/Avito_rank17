{
 "cells": [
  {
   "cell_type": "code",
   "execution_count": 1,
   "metadata": {
    "collapsed": true
   },
   "outputs": [],
   "source": [
    "import pandas as pd\n",
    "import numpy as np\n",
    "import gc\n",
    "import matplotlib.pyplot as plt\n",
    "import seaborn as sns\n",
    "import string\n",
    "from sklearn.model_selection import train_test_split\n",
    "from sklearn.metrics import mean_squared_error\n",
    "from sklearn.preprocessing import LabelEncoder\n",
    "from sklearn.feature_extraction.text import CountVectorizer, TfidfVectorizer\n",
    "import nltk\n",
    "from nltk.corpus import stopwords\n",
    "import scipy\n",
    "import lightgbm as lgb\n",
    "from sklearn.model_selection import train_test_split\n",
    "from sklearn.model_selection import KFold\n",
    "from tqdm import tqdm\n",
    "%matplotlib inline\n",
    "import pickle"
   ]
  },
  {
   "cell_type": "code",
   "execution_count": 2,
   "metadata": {
    "collapsed": true
   },
   "outputs": [],
   "source": [
    "dense_text=True\n",
    "SEED=411 \n",
    "kf = KFold(5, shuffle=True, random_state=SEED)"
   ]
  },
  {
   "cell_type": "code",
   "execution_count": 3,
   "metadata": {},
   "outputs": [
    {
     "data": {
      "text/plain": [
       "((1503424, 114), (508438, 114))"
      ]
     },
     "execution_count": 3,
     "metadata": {},
     "output_type": "execute_result"
    }
   ],
   "source": [
    "train = pickle.load(open('train_selected_features', 'rb'))\n",
    "test = pickle.load(open('test_selected_features', 'rb'))\n",
    "train.shape, test.shape"
   ]
  },
  {
   "cell_type": "code",
   "execution_count": 4,
   "metadata": {},
   "outputs": [
    {
     "data": {
      "text/plain": [
       "((1503424, 150), (508438, 150))"
      ]
     },
     "execution_count": 4,
     "metadata": {},
     "output_type": "execute_result"
    }
   ],
   "source": [
    "if dense_text is False:\n",
    "    train_text = pickle.load(open('train_text_sparse_new', 'rb'))\n",
    "    test_text = pickle.load(open('test_text_sparse_new', 'rb'))\n",
    "else:\n",
    "    train_text = pickle.load(open('train_text_dense_new', 'rb'))\n",
    "    test_text = pickle.load(open('test_text_dense_new', 'rb'))\n",
    "    \n",
    "train_text.shape, test_text.shape"
   ]
  },
  {
   "cell_type": "code",
   "execution_count": 5,
   "metadata": {
    "collapsed": true,
    "scrolled": true
   },
   "outputs": [],
   "source": [
    "if dense_text is False:\n",
    "    x_test = scipy.sparse.hstack([\n",
    "        test_text,\n",
    "        test\n",
    "    ], format='csr')\n",
    "\n",
    "    x_train = scipy.sparse.hstack([\n",
    "        train_text,\n",
    "        train\n",
    "    ], format='csr')\n",
    "else:\n",
    "    x_test = np.hstack([test_text, test])\n",
    "    x_train = np.hstack([train_text, train])"
   ]
  },
  {
   "cell_type": "code",
   "execution_count": 6,
   "metadata": {
    "collapsed": true
   },
   "outputs": [],
   "source": [
    "text_feature_names = ['text_'+str(i) for i in range(train_text.shape[1])]"
   ]
  },
  {
   "cell_type": "code",
   "execution_count": 7,
   "metadata": {},
   "outputs": [
    {
     "name": "stdout",
     "output_type": "stream",
     "text": [
      "Number of features: 264\n"
     ]
    }
   ],
   "source": [
    "feature_names = np.hstack([\n",
    "    text_feature_names,\n",
    "    train.columns.tolist(),\n",
    "])\n",
    "categorical = pickle.load(open('selected_cat_feature_names', 'rb'))\n",
    "print('Number of features:', len(feature_names))"
   ]
  },
  {
   "cell_type": "code",
   "execution_count": 8,
   "metadata": {},
   "outputs": [
    {
     "data": {
      "text/plain": [
       "0"
      ]
     },
     "execution_count": 8,
     "metadata": {},
     "output_type": "execute_result"
    }
   ],
   "source": [
    "del train, test, train_text, test_text; gc.collect()"
   ]
  },
  {
   "cell_type": "code",
   "execution_count": 9,
   "metadata": {
    "collapsed": true
   },
   "outputs": [],
   "source": [
    "target = 'deal_probability'\n",
    "y_train = pd.read_csv('data/train.csv', usecols=['activation_date', 'deal_probability'], parse_dates=['activation_date']) \\\n",
    "            .sort_values('activation_date') \\\n",
    "            .reset_index(drop=True).deal_probability.values"
   ]
  },
  {
   "cell_type": "code",
   "execution_count": 10,
   "metadata": {
    "collapsed": true
   },
   "outputs": [],
   "source": [
    "file_prefix = 'kh_sparse_' if dense_text is False else 'kh_dense_'\n",
    "\n",
    "pickle.dump(x_train, open(file_prefix+'train_features.pickle', 'wb'))    \n",
    "pickle.dump(x_test, open(file_prefix+'test_features.pickle', 'wb')) \n",
    "pickle.dump(y_train, open(file_prefix+'train_answers.pickle', 'wb'))\n",
    "pickle.dump(feature_names, open(file_prefix+'feature_names.pickle', 'wb'))  \n",
    "pickle.dump(categorical, open(file_prefix+'categorical_feature_names', 'wb'))"
   ]
  }
 ],
 "metadata": {
  "kernelspec": {
   "display_name": "Python 3",
   "language": "python",
   "name": "python3"
  },
  "language_info": {
   "codemirror_mode": {
    "name": "ipython",
    "version": 3
   },
   "file_extension": ".py",
   "mimetype": "text/x-python",
   "name": "python",
   "nbconvert_exporter": "python",
   "pygments_lexer": "ipython3",
   "version": "3.6.2"
  }
 },
 "nbformat": 4,
 "nbformat_minor": 2
}
