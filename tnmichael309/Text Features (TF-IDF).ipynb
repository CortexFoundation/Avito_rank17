{
 "cells": [
  {
   "cell_type": "markdown",
   "metadata": {},
   "source": [
    "## Stage 1"
   ]
  },
  {
   "cell_type": "code",
   "execution_count": null,
   "metadata": {
    "collapsed": true
   },
   "outputs": [],
   "source": [
    "import pandas as pd\n",
    "import numpy as np\n",
    "from IPython.display import display\n",
    "from copy import deepcopy as cp\n",
    "import gc; gc.enable()"
   ]
  },
  {
   "cell_type": "code",
   "execution_count": null,
   "metadata": {
    "collapsed": true
   },
   "outputs": [],
   "source": [
    "train_usecols = ['region', 'city', 'parent_category_name', 'category_name', 'title', 'description', 'deal_probability']\n",
    "test_usecols = cp(train_usecols)\n",
    "test_usecols.remove('deal_probability')"
   ]
  },
  {
   "cell_type": "code",
   "execution_count": null,
   "metadata": {
    "collapsed": true
   },
   "outputs": [],
   "source": [
    "train_df = pd.read_csv(\"data/train.csv\", usecols=train_usecols)\n",
    "test_df = pd.read_csv(\"data/test.csv\", usecols=test_usecols)\n",
    "print(\"Train file rows and columns are : \", train_df.shape)\n",
    "print(\"Test file rows and columns are : \", test_df.shape)"
   ]
  },
  {
   "cell_type": "code",
   "execution_count": null,
   "metadata": {
    "collapsed": true
   },
   "outputs": [],
   "source": [
    "test_df['deal_probability'] = np.zeros((test_df.shape[0],))\n",
    "all_df = pd.concat([train_df, test_df], axis=0).reset_index(drop=True)"
   ]
  },
  {
   "cell_type": "code",
   "execution_count": null,
   "metadata": {
    "collapsed": true,
    "scrolled": true
   },
   "outputs": [],
   "source": [
    "display(train_df.head(5))\n",
    "display(test_df.head(5))"
   ]
  },
  {
   "cell_type": "code",
   "execution_count": null,
   "metadata": {
    "collapsed": true
   },
   "outputs": [],
   "source": [
    "def print_contains_info(df, col1, col2):\n",
    "    str1s = df[col1].values\n",
    "    str2s = df[col2].values\n",
    "    \n",
    "    contains_count = 0\n",
    "    for i in range(len(str1s)):\n",
    "        str1 = str(str1s[i])\n",
    "        str2 = str(str2s[i])\n",
    "        str1 = str1.split(\" \")\n",
    "        str2 = str2.split(\" \")\n",
    "        \n",
    "        for s in str1:\n",
    "            if s in str2:\n",
    "                contains_count += 1\n",
    "                break\n",
    "                \n",
    "    print('{} in {} contains counts:\\n'.format(col1, col2), contains_count)"
   ]
  },
  {
   "cell_type": "code",
   "execution_count": null,
   "metadata": {
    "collapsed": true
   },
   "outputs": [],
   "source": [
    "print_contains_info(all_df, 'region', 'title')\n",
    "print_contains_info(all_df, 'city', 'title')\n",
    "print_contains_info(all_df, 'parent_category_name', 'title')\n",
    "print_contains_info(all_df, 'category_name', 'title')\n",
    "print_contains_info(all_df, 'region', 'description')\n",
    "print_contains_info(all_df, 'city', 'description')\n",
    "print_contains_info(all_df, 'parent_category_name', 'description')\n",
    "print_contains_info(all_df, 'category_name', 'description')\n",
    "print_contains_info(all_df, 'title', 'description')"
   ]
  },
  {
   "cell_type": "code",
   "execution_count": null,
   "metadata": {
    "collapsed": true
   },
   "outputs": [],
   "source": [
    "def get_contains_feature(df, col1, col2):\n",
    "    print('processing ', col1, col2)\n",
    "    res_df = pd.DataFrame()\n",
    "    str1s = df[col1].values\n",
    "    str2s = df[col2].values\n",
    "    \n",
    "    is_contains = []\n",
    "    contains_counts = []\n",
    "    for i in range(len(str1s)):\n",
    "        str1 = str(str1s[i])\n",
    "        str2 = str(str2s[i])\n",
    "        str1 = str1.split(\" \")\n",
    "        str2 = str2.split(\" \")\n",
    "        \n",
    "        contains_count = 0\n",
    "        for s in str1:\n",
    "            if s in str2:\n",
    "                contains_count += 1\n",
    "                \n",
    "        is_contains.append(1 if contains_count > 0 else 0)\n",
    "        contains_counts.append(contains_count)\n",
    "        \n",
    "    res_df['{}_in_{}'.format(col1,col2)] = is_contains\n",
    "    res_df['{}_in_{}_counts'.format(col1,col2)] = contains_counts\n",
    "    del is_contains, contains_counts; gc.collect()\n",
    "    return res_df "
   ]
  },
  {
   "cell_type": "code",
   "execution_count": null,
   "metadata": {
    "collapsed": true
   },
   "outputs": [],
   "source": [
    "all_df = pd.concat([all_df, get_contains_feature(all_df, 'region', 'title')],  axis=1)\n",
    "all_df = pd.concat([all_df, get_contains_feature(all_df, 'city', 'title')],  axis=1)\n",
    "all_df = pd.concat([all_df, get_contains_feature(all_df, 'parent_category_name', 'title')],  axis=1)\n",
    "all_df = pd.concat([all_df, get_contains_feature(all_df, 'category_name', 'title')],  axis=1)\n",
    "all_df = pd.concat([all_df, get_contains_feature(all_df, 'region', 'description')],  axis=1)\n",
    "all_df = pd.concat([all_df, get_contains_feature(all_df, 'city', 'description')],  axis=1)\n",
    "all_df = pd.concat([all_df, get_contains_feature(all_df, 'parent_category_name', 'description')],  axis=1)\n",
    "all_df = pd.concat([all_df, get_contains_feature(all_df, 'category_name', 'description')],  axis=1)\n",
    "all_df = pd.concat([all_df, get_contains_feature(all_df, 'title', 'description')],  axis=1)"
   ]
  },
  {
   "cell_type": "code",
   "execution_count": null,
   "metadata": {
    "collapsed": true
   },
   "outputs": [],
   "source": [
    "norm_cols = [c for c in all_df.columns if 'counts' in c]\n",
    "for col in norm_cols:\n",
    "    all_df[col] = (all_df[col] - all_df[col].mean())/all_df[col].std() "
   ]
  },
  {
   "cell_type": "code",
   "execution_count": null,
   "metadata": {
    "collapsed": true
   },
   "outputs": [],
   "source": [
    "text_feature = all_df['region'] + ' ' + all_df['city'] + ' ' + \\\n",
    "                all_df['parent_category_name'] + ' ' + all_df['category_name'] + ' ' + \\\n",
    "                all_df['title'] + ' ' + all_df['description']"
   ]
  },
  {
   "cell_type": "code",
   "execution_count": null,
   "metadata": {
    "collapsed": true
   },
   "outputs": [],
   "source": [
    "all_df = all_df.drop(test_usecols, axis=1)\n",
    "gc.collect()"
   ]
  },
  {
   "cell_type": "code",
   "execution_count": null,
   "metadata": {
    "collapsed": true
   },
   "outputs": [],
   "source": [
    "all_df.to_csv('text_other_features.csv', index=False)"
   ]
  },
  {
   "cell_type": "code",
   "execution_count": null,
   "metadata": {
    "collapsed": true
   },
   "outputs": [],
   "source": [
    "stopwords = ['а', 'е', 'и', 'ж', 'м', 'о', 'на', 'не', 'ни', 'об', 'но', 'он', 'мне', 'мои', 'мож', 'она', 'они', 'оно', 'мной', 'много', 'многочисленное', 'многочисленная', 'многочисленные', 'многочисленный', 'мною', 'мой', 'мог', 'могут', 'можно', 'может', 'можхо', 'мор', 'моя', 'моё', 'мочь', 'над', 'нее', 'оба', 'нам', 'нем', 'нами', 'ними', 'мимо', 'немного', 'одной', 'одного', 'менее', 'однажды', 'однако', 'меня', 'нему', 'меньше', 'ней', 'наверху', 'него', 'ниже', 'мало', 'надо', 'один', 'одиннадцать', 'одиннадцатый', 'назад', 'наиболее', 'недавно', 'миллионов', 'недалеко', 'между', 'низко', 'меля', 'нельзя', 'нибудь', 'непрерывно', 'наконец', 'никогда', 'никуда', 'нас', 'наш', 'нет', 'нею', 'неё', 'них', 'мира', 'наша', 'наше', 'наши', 'ничего', 'начала', 'нередко', 'несколько', 'обычно', 'опять', 'около', 'мы', 'ну', 'нх', 'от', 'отовсюду', 'особенно', 'нужно', 'очень', 'отсюда', 'в', 'во', 'вон', 'вниз', 'внизу', 'вокруг', 'вот', 'восемнадцать', 'восемнадцатый', 'восемь', 'восьмой', 'вверх', 'вам', 'вами', 'важное', 'важная', 'важные', 'важный', 'вдали', 'везде', 'ведь', 'вас', 'ваш', 'ваша', 'ваше', 'ваши', 'впрочем', 'весь', 'вдруг', 'вы', 'все', 'второй', 'всем', 'всеми', 'времени', 'время', 'всему', 'всего', 'всегда', 'всех', 'всею', 'всю', 'вся', 'всё', 'всюду', 'г', 'год', 'говорил', 'говорит', 'года', 'году', 'где', 'да', 'ее', 'за', 'из', 'ли', 'же', 'им', 'до', 'по', 'ими', 'под', 'иногда', 'довольно', 'именно', 'долго', 'позже', 'более', 'должно', 'пожалуйста', 'значит', 'иметь', 'больше', 'пока', 'ему', 'имя', 'пор', 'пора', 'потом', 'потому', 'после', 'почему', 'почти', 'посреди', 'ей', 'два', 'две', 'двенадцать', 'двенадцатый', 'двадцать', 'двадцатый', 'двух', 'его', 'дел', 'или', 'без', 'день', 'занят', 'занята', 'занято', 'заняты', 'действительно', 'давно', 'девятнадцать', 'девятнадцатый', 'девять', 'девятый', 'даже', 'алло', 'жизнь', 'далеко', 'близко', 'здесь', 'дальше', 'для', 'лет', 'зато', 'даром', 'первый', 'перед', 'затем', 'зачем', 'лишь', 'десять', 'десятый', 'ею', 'её', 'их', 'бы', 'еще', 'при', 'был', 'про', 'процентов', 'против', 'просто', 'бывает', 'бывь', 'если', 'люди', 'была', 'были', 'было', 'будем', 'будет', 'будете', 'будешь', 'прекрасно', 'буду', 'будь', 'будто', 'будут', 'ещё', 'пятнадцать', 'пятнадцатый', 'друго', 'другое', 'другой', 'другие', 'другая', 'других', 'есть', 'пять', 'быть', 'лучше', 'пятый', 'к', 'ком', 'конечно', 'кому', 'кого', 'когда', 'которой', 'которого', 'которая', 'которые', 'который', 'которых', 'кем', 'каждое', 'каждая', 'каждые', 'каждый', 'кажется', 'как', 'какой', 'какая', 'кто', 'кроме', 'куда', 'кругом', 'с', 'т', 'у', 'я', 'та', 'те', 'уж', 'со', 'то', 'том', 'снова', 'тому', 'совсем', 'того', 'тогда', 'тоже', 'собой', 'тобой', 'собою', 'тобою', 'сначала', 'только', 'уметь', 'тот', 'тою', 'хорошо', 'хотеть', 'хочешь', 'хоть', 'хотя', 'свое', 'свои', 'твой', 'своей', 'своего', 'своих', 'свою', 'твоя', 'твоё', 'раз', 'уже', 'сам', 'там', 'тем', 'чем', 'сама', 'сами', 'теми', 'само', 'рано', 'самом', 'самому', 'самой', 'самого', 'семнадцать', 'семнадцатый', 'самим', 'самими', 'самих', 'саму', 'семь', 'чему', 'раньше', 'сейчас', 'чего', 'сегодня', 'себе', 'тебе', 'сеаой', 'человек', 'разве', 'теперь', 'себя', 'тебя', 'седьмой', 'спасибо', 'слишком', 'так', 'такое', 'такой', 'такие', 'также', 'такая', 'сих', 'тех', 'чаще', 'четвертый', 'через', 'часто', 'шестой', 'шестнадцать', 'шестнадцатый', 'шесть', 'четыре', 'четырнадцать', 'четырнадцатый', 'сколько', 'сказал', 'сказала', 'сказать', 'ту', 'ты', 'три', 'эта', 'эти', 'что', 'это', 'чтоб', 'этом', 'этому', 'этой', 'этого', 'чтобы', 'этот', 'стал', 'туда', 'этим', 'этими', 'рядом', 'тринадцать', 'тринадцатый', 'этих', 'третий', 'тут', 'эту', 'суть', 'чуть', 'тысяч']"
   ]
  },
  {
   "cell_type": "code",
   "execution_count": null,
   "metadata": {
    "collapsed": true
   },
   "outputs": [],
   "source": [
    "def clean_text(txt):\n",
    "    words = str(txt).split()\n",
    "    words = [wrd for wrd in words if wrd not in stopwords]\n",
    "    words = [wrd for wrd in words if len(wrd) > 1]\n",
    "    txt = \" \".join(words)\n",
    "    return txt"
   ]
  },
  {
   "cell_type": "code",
   "execution_count": null,
   "metadata": {
    "collapsed": true
   },
   "outputs": [],
   "source": [
    "text_feature = text_feature.apply(lambda x: clean_text(x))"
   ]
  },
  {
   "cell_type": "code",
   "execution_count": null,
   "metadata": {
    "collapsed": true
   },
   "outputs": [],
   "source": [
    "gc.collect()"
   ]
  },
  {
   "cell_type": "code",
   "execution_count": null,
   "metadata": {
    "collapsed": true
   },
   "outputs": [],
   "source": [
    "import pickle"
   ]
  },
  {
   "cell_type": "code",
   "execution_count": null,
   "metadata": {
    "collapsed": true
   },
   "outputs": [],
   "source": [
    "with open('text_feature.pickle', 'wb') as handle:\n",
    "    pickle.dump(text_feature, handle, protocol=pickle.HIGHEST_PROTOCOL)"
   ]
  },
  {
   "cell_type": "markdown",
   "metadata": {},
   "source": [
    "## Stage 2"
   ]
  },
  {
   "cell_type": "code",
   "execution_count": null,
   "metadata": {
    "collapsed": true
   },
   "outputs": [],
   "source": [
    "import pickle\n",
    "import gc; gc.enable()\n",
    "with open('text_feature.pickle', 'rb') as handle:\n",
    "    text_feature = pickle.load(handle)"
   ]
  },
  {
   "cell_type": "code",
   "execution_count": null,
   "metadata": {
    "collapsed": true
   },
   "outputs": [],
   "source": [
    "from sklearn.feature_extraction.text import TfidfVectorizer, CountVectorizer"
   ]
  },
  {
   "cell_type": "code",
   "execution_count": null,
   "metadata": {
    "collapsed": true
   },
   "outputs": [],
   "source": [
    "tf_idf_features = TfidfVectorizer(ngram_range=(1,2), analyzer='word', norm='l2').fit_transform(text_feature.values)\n",
    "with open('tf_idf_word_features.pickle', 'wb') as handle:\n",
    "    pickle.dump(tf_idf_features, handle, protocol=pickle.HIGHEST_PROTOCOL)"
   ]
  },
  {
   "cell_type": "code",
   "execution_count": null,
   "metadata": {
    "collapsed": true
   },
   "outputs": [],
   "source": [
    "tf_idf_features = (tf_idf_features > 0).astype(int)\n",
    "with open('tf_idf_bin_word_features.pickle', 'wb') as handle:\n",
    "    pickle.dump(tf_idf_features, handle, protocol=pickle.HIGHEST_PROTOCOL)"
   ]
  },
  {
   "cell_type": "code",
   "execution_count": null,
   "metadata": {
    "collapsed": true
   },
   "outputs": [],
   "source": [
    "del tf_idf_features; gc.collect()"
   ]
  },
  {
   "cell_type": "code",
   "execution_count": null,
   "metadata": {
    "collapsed": true
   },
   "outputs": [],
   "source": [
    "tf_idf_char_features = TfidfVectorizer(ngram_range=(2,2), analyzer='char', norm='l2').fit_transform(text_feature.values)\n",
    "with open('tf_idf_char_features.pickle', 'wb') as handle:\n",
    "    pickle.dump(tf_idf_char_features, handle, protocol=pickle.HIGHEST_PROTOCOL)"
   ]
  },
  {
   "cell_type": "code",
   "execution_count": null,
   "metadata": {
    "collapsed": true
   },
   "outputs": [],
   "source": [
    "tf_idf_char_features = (tf_idf_char_features > 0).astype(int)\n",
    "with open('tf_idf_char_bin_features.pickle', 'wb') as handle:\n",
    "    pickle.dump(tf_idf_char_features, handle, protocol=pickle.HIGHEST_PROTOCOL)"
   ]
  },
  {
   "cell_type": "code",
   "execution_count": null,
   "metadata": {
    "collapsed": true
   },
   "outputs": [],
   "source": [
    "del tf_idf_char_features; gc.collect()"
   ]
  },
  {
   "cell_type": "markdown",
   "metadata": {},
   "source": [
    "## Stage 3: Concat them all"
   ]
  },
  {
   "cell_type": "code",
   "execution_count": null,
   "metadata": {
    "collapsed": true
   },
   "outputs": [],
   "source": [
    "from scipy.sparse import hstack, csr_matrix\n",
    "import pickle\n",
    "import gc; gc.enable()\n",
    "from sklearn.decomposition import TruncatedSVD"
   ]
  },
  {
   "cell_type": "code",
   "execution_count": null,
   "metadata": {
    "collapsed": true
   },
   "outputs": [],
   "source": [
    "import pandas as pd\n",
    "import numpy as np\n",
    "\n",
    "df = pd.read_csv('text_other_features.csv')\n",
    "df.drop('deal_probability', axis=1, inplace=True)\n",
    "df.head(3)"
   ]
  },
  {
   "cell_type": "code",
   "execution_count": null,
   "metadata": {
    "collapsed": true
   },
   "outputs": [],
   "source": [
    "with open('tf_idf_word_features.pickle', 'rb') as handle:\n",
    "    tf_idf_word_features = pickle.load(handle)\n",
    "    \n",
    "with open('tf_idf_bin_word_features.pickle', 'rb') as handle:\n",
    "    tf_idf_word_bin_features = pickle.load(handle)\n",
    "    \n",
    "with open('tf_idf_char_features.pickle', 'rb') as handle:\n",
    "    tf_idf_char_features = pickle.load(handle)"
   ]
  },
  {
   "cell_type": "code",
   "execution_count": null,
   "metadata": {
    "collapsed": true
   },
   "outputs": [],
   "source": [
    "tf_idf_features = hstack([csr_matrix(df.values), tf_idf_word_features, tf_idf_word_bin_features, \n",
    "                            tf_idf_char_features]).tocsr()\n",
    "\n",
    "with open('text_all_features.pickle', 'wb') as handle:\n",
    "    pickle.dump(tf_idf_features, handle, protocol=pickle.HIGHEST_PROTOCOL)"
   ]
  },
  {
   "cell_type": "markdown",
   "metadata": {},
   "source": [
    "## Stage 4: Perform truncated SVD on all text features"
   ]
  },
  {
   "cell_type": "code",
   "execution_count": null,
   "metadata": {
    "collapsed": true
   },
   "outputs": [],
   "source": [
    "import pickle\n",
    "import pandas as pd\n",
    "import numpy as np\n",
    "import gc; gc.enable()\n",
    "from sklearn.decomposition import TruncatedSVD"
   ]
  },
  {
   "cell_type": "code",
   "execution_count": null,
   "metadata": {
    "collapsed": true
   },
   "outputs": [],
   "source": [
    "with open('text_all_features.pickle', 'rb') as handle:\n",
    "    tf_idf_features = pickle.load(handle)\n",
    "\n",
    "tf_idf_features.shape"
   ]
  },
  {
   "cell_type": "code",
   "execution_count": null,
   "metadata": {
    "collapsed": true
   },
   "outputs": [],
   "source": [
    "tf_idf_features = tf_idf_features[:, np.array(np.clip(tf_idf_features.getnnz(axis=0) - 5, 0, 1), dtype=bool)]; gc.collect()\n",
    "tf_idf_features.shape"
   ]
  },
  {
   "cell_type": "code",
   "execution_count": null,
   "metadata": {
    "collapsed": true
   },
   "outputs": [],
   "source": [
    "tf_idf_features = TruncatedSVD(n_components=100, random_state=719, algorithm='arpack').fit_transform(tf_idf_features)\n",
    "print(tf_idf_features.shape)"
   ]
  },
  {
   "cell_type": "code",
   "execution_count": null,
   "metadata": {
    "collapsed": true
   },
   "outputs": [],
   "source": [
    "with open('text_all_features_svd.pickle', 'wb') as handle:\n",
    "    pickle.dump(tf_idf_features, handle, protocol=pickle.HIGHEST_PROTOCOL)"
   ]
  },
  {
   "cell_type": "markdown",
   "metadata": {},
   "source": [
    "## Stage 5: Fit Models"
   ]
  },
  {
   "cell_type": "code",
   "execution_count": 1,
   "metadata": {
    "collapsed": true
   },
   "outputs": [],
   "source": [
    "import pickle\n",
    "import pandas as pd\n",
    "import numpy as np\n",
    "import gc; gc.enable()\n",
    "from sklearn.decomposition import TruncatedSVD"
   ]
  },
  {
   "cell_type": "code",
   "execution_count": 2,
   "metadata": {
    "collapsed": true
   },
   "outputs": [],
   "source": [
    "with open('text_all_features_svd.pickle', 'rb') as handle:\n",
    "    tf_idf_features = pickle.load(handle)"
   ]
  },
  {
   "cell_type": "code",
   "execution_count": 3,
   "metadata": {},
   "outputs": [
    {
     "name": "stdout",
     "output_type": "stream",
     "text": [
      "1503424\n"
     ]
    }
   ],
   "source": [
    "train_df = pd.read_csv(\"data/train.csv\", usecols=['deal_probability'])\n",
    "train_len = train_df.shape[0]\n",
    "train_y = train_df['deal_probability'].values\n",
    "del train_df\n",
    "print(train_len)"
   ]
  },
  {
   "cell_type": "code",
   "execution_count": 4,
   "metadata": {},
   "outputs": [
    {
     "name": "stdout",
     "output_type": "stream",
     "text": [
      "1503424\n"
     ]
    }
   ],
   "source": [
    "print(len(train_y))"
   ]
  },
  {
   "cell_type": "code",
   "execution_count": 5,
   "metadata": {
    "collapsed": true
   },
   "outputs": [],
   "source": [
    "tf_idf_train_features = tf_idf_features[:train_len, :] \n",
    "tf_idf_test_features = tf_idf_features[train_len:, :] "
   ]
  },
  {
   "cell_type": "code",
   "execution_count": 6,
   "metadata": {
    "collapsed": true
   },
   "outputs": [],
   "source": [
    "from sklearn.linear_model import Ridge\n",
    "from sklearn.model_selection import KFold, GridSearchCV, ParameterGrid, train_test_split\n",
    "from sklearn.metrics import mean_squared_error, make_scorer\n",
    "from copy import deepcopy as cp"
   ]
  },
  {
   "cell_type": "code",
   "execution_count": 7,
   "metadata": {
    "collapsed": true
   },
   "outputs": [],
   "source": [
    "def clip_rmse(ground_truth, predictions):\n",
    "    predictions = np.clip(predictions, 0., 1.)\n",
    "    return mean_squared_error(ground_truth, predictions)**.5\n",
    "\n",
    "clip_rmse_scorer = make_scorer(clip_rmse, greater_is_better=False)"
   ]
  },
  {
   "cell_type": "code",
   "execution_count": 8,
   "metadata": {
    "collapsed": true
   },
   "outputs": [],
   "source": [
    "kfold = KFold(n_splits=3, random_state=719)"
   ]
  },
  {
   "cell_type": "markdown",
   "metadata": {},
   "source": [
    "#### FM_FTRL"
   ]
  },
  {
   "cell_type": "code",
   "execution_count": 9,
   "metadata": {
    "collapsed": true
   },
   "outputs": [],
   "source": [
    "from wordbatch.models import FM_FTRL"
   ]
  },
  {
   "cell_type": "code",
   "execution_count": 10,
   "metadata": {
    "collapsed": true
   },
   "outputs": [],
   "source": [
    "def simple_train_test_eval(default_params, X, y, params):\n",
    "    tr_X, val_X, tr_y, val_y = train_test_split(X, y, test_size=0.3, random_state=719)\n",
    "    \n",
    "    min_score = None\n",
    "    best_param = None\n",
    "    \n",
    "    for param in list(ParameterGrid(params)):\n",
    "        use_params = cp(default_params)\n",
    "        use_params.update(param)\n",
    "        print('Fitting params:\\n', use_params)\n",
    "        md = FM_FTRL(**use_params)\n",
    "        md.fit(tr_X, tr_y)\n",
    "        score = clip_rmse(val_y, md.predict(val_X))\n",
    "        print(param, score)\n",
    "        \n",
    "        if min_score is None or score < min_score:\n",
    "            best_param = param\n",
    "            min_score = score\n",
    "            \n",
    "    print('Best param:', best_param, '\\nscore:', min_score)"
   ]
  },
  {
   "cell_type": "code",
   "execution_count": 13,
   "metadata": {
    "scrolled": true
   },
   "outputs": [
    {
     "name": "stdout",
     "output_type": "stream",
     "text": [
      "Fitting params:\n",
      " {'alpha': 0.01, 'beta': 0.005, 'L1': 0.1, 'L2': 0.1, 'D': 100, 'D_fm': 20, 'iters': 5, 'seed': 719, 'threads': 4, 'verbose': 0}\n",
      "{'L1': 0.1, 'L2': 0.1} 0.240243186272\n",
      "Fitting params:\n",
      " {'alpha': 0.01, 'beta': 0.005, 'L1': 0.1, 'L2': 0.01, 'D': 100, 'D_fm': 20, 'iters': 5, 'seed': 719, 'threads': 4, 'verbose': 0}\n",
      "{'L1': 0.1, 'L2': 0.01} 0.240105686946\n",
      "Fitting params:\n",
      " {'alpha': 0.01, 'beta': 0.005, 'L1': 0.1, 'L2': 0.001, 'D': 100, 'D_fm': 20, 'iters': 5, 'seed': 719, 'threads': 4, 'verbose': 0}\n",
      "{'L1': 0.1, 'L2': 0.001} 0.239828209177\n",
      "Fitting params:\n",
      " {'alpha': 0.01, 'beta': 0.005, 'L1': 0.1, 'L2': 0.0001, 'D': 100, 'D_fm': 20, 'iters': 5, 'seed': 719, 'threads': 4, 'verbose': 0}\n",
      "{'L1': 0.1, 'L2': 0.0001} 0.239985170951\n",
      "Fitting params:\n",
      " {'alpha': 0.01, 'beta': 0.005, 'L1': 0.01, 'L2': 0.1, 'D': 100, 'D_fm': 20, 'iters': 5, 'seed': 719, 'threads': 4, 'verbose': 0}\n",
      "{'L1': 0.01, 'L2': 0.1} 0.239949009058\n",
      "Fitting params:\n",
      " {'alpha': 0.01, 'beta': 0.005, 'L1': 0.01, 'L2': 0.01, 'D': 100, 'D_fm': 20, 'iters': 5, 'seed': 719, 'threads': 4, 'verbose': 0}\n",
      "{'L1': 0.01, 'L2': 0.01} 0.240025402206\n",
      "Fitting params:\n",
      " {'alpha': 0.01, 'beta': 0.005, 'L1': 0.01, 'L2': 0.001, 'D': 100, 'D_fm': 20, 'iters': 5, 'seed': 719, 'threads': 4, 'verbose': 0}\n",
      "{'L1': 0.01, 'L2': 0.001} 0.239847796686\n",
      "Fitting params:\n",
      " {'alpha': 0.01, 'beta': 0.005, 'L1': 0.01, 'L2': 0.0001, 'D': 100, 'D_fm': 20, 'iters': 5, 'seed': 719, 'threads': 4, 'verbose': 0}\n",
      "{'L1': 0.01, 'L2': 0.0001} 0.240180559803\n",
      "Fitting params:\n",
      " {'alpha': 0.01, 'beta': 0.005, 'L1': 0.001, 'L2': 0.1, 'D': 100, 'D_fm': 20, 'iters': 5, 'seed': 719, 'threads': 4, 'verbose': 0}\n",
      "{'L1': 0.001, 'L2': 0.1} 0.240074655319\n",
      "Fitting params:\n",
      " {'alpha': 0.01, 'beta': 0.005, 'L1': 0.001, 'L2': 0.01, 'D': 100, 'D_fm': 20, 'iters': 5, 'seed': 719, 'threads': 4, 'verbose': 0}\n",
      "{'L1': 0.001, 'L2': 0.01} 0.240113771525\n",
      "Fitting params:\n",
      " {'alpha': 0.01, 'beta': 0.005, 'L1': 0.001, 'L2': 0.001, 'D': 100, 'D_fm': 20, 'iters': 5, 'seed': 719, 'threads': 4, 'verbose': 0}\n",
      "{'L1': 0.001, 'L2': 0.001} 0.240000065305\n",
      "Fitting params:\n",
      " {'alpha': 0.01, 'beta': 0.005, 'L1': 0.001, 'L2': 0.0001, 'D': 100, 'D_fm': 20, 'iters': 5, 'seed': 719, 'threads': 4, 'verbose': 0}\n",
      "{'L1': 0.001, 'L2': 0.0001} 0.239910768327\n",
      "Fitting params:\n",
      " {'alpha': 0.01, 'beta': 0.005, 'L1': 0.0001, 'L2': 0.1, 'D': 100, 'D_fm': 20, 'iters': 5, 'seed': 719, 'threads': 4, 'verbose': 0}\n",
      "{'L1': 0.0001, 'L2': 0.1} 0.239852617351\n",
      "Fitting params:\n",
      " {'alpha': 0.01, 'beta': 0.005, 'L1': 0.0001, 'L2': 0.01, 'D': 100, 'D_fm': 20, 'iters': 5, 'seed': 719, 'threads': 4, 'verbose': 0}\n",
      "{'L1': 0.0001, 'L2': 0.01} 0.239922858473\n",
      "Fitting params:\n",
      " {'alpha': 0.01, 'beta': 0.005, 'L1': 0.0001, 'L2': 0.001, 'D': 100, 'D_fm': 20, 'iters': 5, 'seed': 719, 'threads': 4, 'verbose': 0}\n",
      "{'L1': 0.0001, 'L2': 0.001} 0.239762057693\n",
      "Fitting params:\n",
      " {'alpha': 0.01, 'beta': 0.005, 'L1': 0.0001, 'L2': 0.0001, 'D': 100, 'D_fm': 20, 'iters': 5, 'seed': 719, 'threads': 4, 'verbose': 0}\n",
      "{'L1': 0.0001, 'L2': 0.0001} 0.239758109829\n",
      "Best param: {'L1': 0.0001, 'L2': 0.0001} \n",
      "score: 0.239758109829\n"
     ]
    }
   ],
   "source": [
    "fmftrl_default_params = {\n",
    "    'alpha': .01,\n",
    "    'beta': .005,\n",
    "    'L1': 0.0001,\n",
    "    'L2': 0.1,\n",
    "    'D': tf_idf_train_features.shape[1],\n",
    "    'D_fm': 20,\n",
    "    'iters': 5,\n",
    "    'seed': 719,\n",
    "    'threads': 4,\n",
    "    'verbose': 0\n",
    "}\n",
    "\n",
    "try_params = {\n",
    "    'L1': [0.1, 0.01, 0.001, 0.0001],\n",
    "    'L2': [0.1, 0.01, 0.001, 0.0001]\n",
    "}\n",
    "simple_train_test_eval(fmftrl_default_params, tf_idf_train_features, train_y, try_params)"
   ]
  },
  {
   "cell_type": "code",
   "execution_count": 14,
   "metadata": {
    "scrolled": false
   },
   "outputs": [
    {
     "name": "stdout",
     "output_type": "stream",
     "text": [
      "Fitting params:\n",
      " {'alpha': 0.1, 'beta': 0.05, 'L1': 0.0001, 'L2': 0.0001, 'D': 100, 'D_fm': 20, 'iters': 5, 'seed': 719, 'threads': 4, 'verbose': 0}\n",
      "{'alpha': 0.1, 'beta': 0.05} 0.240259657599\n",
      "Fitting params:\n",
      " {'alpha': 0.01, 'beta': 0.005, 'L1': 0.0001, 'L2': 0.0001, 'D': 100, 'D_fm': 20, 'iters': 5, 'seed': 719, 'threads': 4, 'verbose': 0}\n",
      "{'alpha': 0.01, 'beta': 0.005} 0.239758109829\n",
      "Fitting params:\n",
      " {'alpha': 0.001, 'beta': 0.0005, 'L1': 0.0001, 'L2': 0.0001, 'D': 100, 'D_fm': 20, 'iters': 5, 'seed': 719, 'threads': 4, 'verbose': 0}\n",
      "{'alpha': 0.001, 'beta': 0.0005} 0.240187278081\n",
      "Fitting params:\n",
      " {'alpha': 0.0001, 'beta': 5e-05, 'L1': 0.0001, 'L2': 0.0001, 'D': 100, 'D_fm': 20, 'iters': 5, 'seed': 719, 'threads': 4, 'verbose': 0}\n",
      "{'alpha': 0.0001, 'beta': 5e-05} 0.240750027105\n",
      "Best param: {'alpha': 0.01, 'beta': 0.005} \n",
      "score: 0.239758109829\n"
     ]
    }
   ],
   "source": [
    "fmftrl_default_params = {\n",
    "    'alpha': .01,\n",
    "    'beta': .005,\n",
    "    'L1': 0.0001,\n",
    "    'L2': 0.0001,\n",
    "    'D': tf_idf_train_features.shape[1],\n",
    "    'D_fm': 20,\n",
    "    'iters': 5,\n",
    "    'seed': 719,\n",
    "    'threads': 4,\n",
    "    'verbose': 0\n",
    "}\n",
    "\n",
    "try_params = [\n",
    "    {\n",
    "        'alpha': [0.1],\n",
    "        'beta': [0.05]\n",
    "    },\n",
    "    {\n",
    "        'alpha': [0.01],\n",
    "        'beta': [0.005]\n",
    "    },\n",
    "    {\n",
    "        'alpha': [0.001],\n",
    "        'beta': [0.0005]\n",
    "    },\n",
    "    {\n",
    "        'alpha': [0.0001],\n",
    "        'beta': [0.00005]\n",
    "    }\n",
    "]\n",
    "simple_train_test_eval(fmftrl_default_params, tf_idf_train_features, train_y, try_params)"
   ]
  },
  {
   "cell_type": "code",
   "execution_count": 15,
   "metadata": {
    "scrolled": true
   },
   "outputs": [
    {
     "name": "stdout",
     "output_type": "stream",
     "text": [
      "Fitting params:\n",
      " {'alpha': 0.01, 'beta': 0.005, 'L1': 0.0001, 'L2': 0.0001, 'D': 100, 'D_fm': 20, 'iters': 5, 'seed': 719, 'threads': 4, 'verbose': 0}\n",
      "{'D_fm': 20, 'iters': 5} 0.239758109829\n",
      "Fitting params:\n",
      " {'alpha': 0.01, 'beta': 0.005, 'L1': 0.0001, 'L2': 0.0001, 'D': 100, 'D_fm': 20, 'iters': 10, 'seed': 719, 'threads': 4, 'verbose': 0}\n",
      "{'D_fm': 20, 'iters': 10} 0.239291765534\n",
      "Fitting params:\n",
      " {'alpha': 0.01, 'beta': 0.005, 'L1': 0.0001, 'L2': 0.0001, 'D': 100, 'D_fm': 20, 'iters': 15, 'seed': 719, 'threads': 4, 'verbose': 0}\n",
      "{'D_fm': 20, 'iters': 15} 0.239057437083\n",
      "Fitting params:\n",
      " {'alpha': 0.01, 'beta': 0.005, 'L1': 0.0001, 'L2': 0.0001, 'D': 100, 'D_fm': 20, 'iters': 20, 'seed': 719, 'threads': 4, 'verbose': 0}\n",
      "{'D_fm': 20, 'iters': 20} 0.238886569832\n",
      "Fitting params:\n",
      " {'alpha': 0.01, 'beta': 0.005, 'L1': 0.0001, 'L2': 0.0001, 'D': 100, 'D_fm': 40, 'iters': 5, 'seed': 719, 'threads': 4, 'verbose': 0}\n",
      "{'D_fm': 40, 'iters': 5} 0.240080806835\n",
      "Fitting params:\n",
      " {'alpha': 0.01, 'beta': 0.005, 'L1': 0.0001, 'L2': 0.0001, 'D': 100, 'D_fm': 40, 'iters': 10, 'seed': 719, 'threads': 4, 'verbose': 0}\n",
      "{'D_fm': 40, 'iters': 10} 0.239393373904\n",
      "Fitting params:\n",
      " {'alpha': 0.01, 'beta': 0.005, 'L1': 0.0001, 'L2': 0.0001, 'D': 100, 'D_fm': 40, 'iters': 15, 'seed': 719, 'threads': 4, 'verbose': 0}\n",
      "{'D_fm': 40, 'iters': 15} 0.239089366879\n",
      "Fitting params:\n",
      " {'alpha': 0.01, 'beta': 0.005, 'L1': 0.0001, 'L2': 0.0001, 'D': 100, 'D_fm': 40, 'iters': 20, 'seed': 719, 'threads': 4, 'verbose': 0}\n",
      "{'D_fm': 40, 'iters': 20} 0.238866925325\n",
      "Fitting params:\n",
      " {'alpha': 0.01, 'beta': 0.005, 'L1': 0.0001, 'L2': 0.0001, 'D': 100, 'D_fm': 60, 'iters': 5, 'seed': 719, 'threads': 4, 'verbose': 0}\n",
      "{'D_fm': 60, 'iters': 5} 0.239749473729\n",
      "Fitting params:\n",
      " {'alpha': 0.01, 'beta': 0.005, 'L1': 0.0001, 'L2': 0.0001, 'D': 100, 'D_fm': 60, 'iters': 10, 'seed': 719, 'threads': 4, 'verbose': 0}\n",
      "{'D_fm': 60, 'iters': 10} 0.239049563394\n",
      "Fitting params:\n",
      " {'alpha': 0.01, 'beta': 0.005, 'L1': 0.0001, 'L2': 0.0001, 'D': 100, 'D_fm': 60, 'iters': 15, 'seed': 719, 'threads': 4, 'verbose': 0}\n",
      "{'D_fm': 60, 'iters': 15} 0.238735021159\n",
      "Fitting params:\n",
      " {'alpha': 0.01, 'beta': 0.005, 'L1': 0.0001, 'L2': 0.0001, 'D': 100, 'D_fm': 60, 'iters': 20, 'seed': 719, 'threads': 4, 'verbose': 0}\n",
      "{'D_fm': 60, 'iters': 20} 0.238518402182\n",
      "Fitting params:\n",
      " {'alpha': 0.01, 'beta': 0.005, 'L1': 0.0001, 'L2': 0.0001, 'D': 100, 'D_fm': 80, 'iters': 5, 'seed': 719, 'threads': 4, 'verbose': 0}\n",
      "{'D_fm': 80, 'iters': 5} 0.239314597252\n",
      "Fitting params:\n",
      " {'alpha': 0.01, 'beta': 0.005, 'L1': 0.0001, 'L2': 0.0001, 'D': 100, 'D_fm': 80, 'iters': 10, 'seed': 719, 'threads': 4, 'verbose': 0}\n",
      "{'D_fm': 80, 'iters': 10} 0.238786197942\n",
      "Fitting params:\n",
      " {'alpha': 0.01, 'beta': 0.005, 'L1': 0.0001, 'L2': 0.0001, 'D': 100, 'D_fm': 80, 'iters': 15, 'seed': 719, 'threads': 4, 'verbose': 0}\n",
      "{'D_fm': 80, 'iters': 15} 0.238555500476\n",
      "Fitting params:\n",
      " {'alpha': 0.01, 'beta': 0.005, 'L1': 0.0001, 'L2': 0.0001, 'D': 100, 'D_fm': 80, 'iters': 20, 'seed': 719, 'threads': 4, 'verbose': 0}\n",
      "{'D_fm': 80, 'iters': 20} 0.238388061758\n",
      "Fitting params:\n",
      " {'alpha': 0.01, 'beta': 0.005, 'L1': 0.0001, 'L2': 0.0001, 'D': 100, 'D_fm': 100, 'iters': 5, 'seed': 719, 'threads': 4, 'verbose': 0}\n",
      "{'D_fm': 100, 'iters': 5} 0.239972612617\n",
      "Fitting params:\n",
      " {'alpha': 0.01, 'beta': 0.005, 'L1': 0.0001, 'L2': 0.0001, 'D': 100, 'D_fm': 100, 'iters': 10, 'seed': 719, 'threads': 4, 'verbose': 0}\n",
      "{'D_fm': 100, 'iters': 10} 0.23888834915\n",
      "Fitting params:\n",
      " {'alpha': 0.01, 'beta': 0.005, 'L1': 0.0001, 'L2': 0.0001, 'D': 100, 'D_fm': 100, 'iters': 15, 'seed': 719, 'threads': 4, 'verbose': 0}\n",
      "{'D_fm': 100, 'iters': 15} 0.238588131197\n",
      "Fitting params:\n",
      " {'alpha': 0.01, 'beta': 0.005, 'L1': 0.0001, 'L2': 0.0001, 'D': 100, 'D_fm': 100, 'iters': 20, 'seed': 719, 'threads': 4, 'verbose': 0}\n",
      "{'D_fm': 100, 'iters': 20} 0.238390838348\n",
      "Best param: {'D_fm': 80, 'iters': 20} \n",
      "score: 0.238388061758\n"
     ]
    }
   ],
   "source": [
    "fmftrl_default_params = {\n",
    "    'alpha': .01,\n",
    "    'beta': .005,\n",
    "    'L1': 0.0001,\n",
    "    'L2': 0.0001,\n",
    "    'D': tf_idf_train_features.shape[1],\n",
    "    'D_fm': 20,\n",
    "    'iters': 5,\n",
    "    'seed': 719,\n",
    "    'threads': 4,\n",
    "    'verbose': 0\n",
    "}\n",
    "\n",
    "try_params = {\n",
    "        'D_fm': [20, 40, 60, 80, 100],\n",
    "        'iters': [5, 10, 15, 20]\n",
    "    }\n",
    "simple_train_test_eval(fmftrl_default_params, tf_idf_train_features, train_y, try_params)"
   ]
  },
  {
   "cell_type": "code",
   "execution_count": null,
   "metadata": {
    "collapsed": true
   },
   "outputs": [],
   "source": [
    "fmftrl_default_params = {\n",
    "    'alpha': .01,\n",
    "    'beta': .005,\n",
    "    'L1': 0.0001,\n",
    "    'L2': 0.0001,\n",
    "    'D': tf_idf_train_features.shape[1],\n",
    "    'D_fm': 20,\n",
    "    'iters': 5,\n",
    "    'seed': 719,\n",
    "    'threads': 4,\n",
    "    'verbose': 0\n",
    "}\n",
    "\n",
    "try_params = {\n",
    "        'D_fm': [60, 80, 100, 120],\n",
    "        'iters': [20, 40, 60]\n",
    "    }\n",
    "simple_train_test_eval(fmftrl_default_params, tf_idf_train_features, train_y, try_params)"
   ]
  },
  {
   "cell_type": "markdown",
   "metadata": {},
   "source": [
    "#### Ridge"
   ]
  },
  {
   "cell_type": "code",
   "execution_count": 9,
   "metadata": {
    "scrolled": true
   },
   "outputs": [
    {
     "name": "stdout",
     "output_type": "stream",
     "text": [
      "Fitting 3 folds for each of 3 candidates, totalling 9 fits\n",
      "[CV] alpha=0.1 .......................................................\n",
      "[CV] ............ alpha=0.1, score=-0.24091356494121902, total=  30.0s\n",
      "[CV] alpha=0.1 .......................................................\n"
     ]
    },
    {
     "name": "stderr",
     "output_type": "stream",
     "text": [
      "[Parallel(n_jobs=1)]: Done   1 out of   1 | elapsed:   30.3s remaining:    0.0s\n"
     ]
    },
    {
     "name": "stdout",
     "output_type": "stream",
     "text": [
      "[CV] ............ alpha=0.1, score=-0.24093005881913193, total=  30.3s\n",
      "[CV] alpha=0.1 .......................................................\n"
     ]
    },
    {
     "name": "stderr",
     "output_type": "stream",
     "text": [
      "[Parallel(n_jobs=1)]: Done   2 out of   2 | elapsed:  1.0min remaining:    0.0s\n"
     ]
    },
    {
     "name": "stdout",
     "output_type": "stream",
     "text": [
      "[CV] ............ alpha=0.1, score=-0.24181288314665775, total=  28.7s\n",
      "[CV] alpha=1.0 .......................................................\n"
     ]
    },
    {
     "name": "stderr",
     "output_type": "stream",
     "text": [
      "[Parallel(n_jobs=1)]: Done   3 out of   3 | elapsed:  1.5min remaining:    0.0s\n"
     ]
    },
    {
     "name": "stdout",
     "output_type": "stream",
     "text": [
      "[CV] ............ alpha=1.0, score=-0.24091357123186008, total=  29.0s\n",
      "[CV] alpha=1.0 .......................................................\n"
     ]
    },
    {
     "name": "stderr",
     "output_type": "stream",
     "text": [
      "[Parallel(n_jobs=1)]: Done   4 out of   4 | elapsed:  2.0min remaining:    0.0s\n"
     ]
    },
    {
     "name": "stdout",
     "output_type": "stream",
     "text": [
      "[CV] ............ alpha=1.0, score=-0.24093006272763165, total=  24.4s\n",
      "[CV] alpha=1.0 .......................................................\n"
     ]
    },
    {
     "name": "stderr",
     "output_type": "stream",
     "text": [
      "[Parallel(n_jobs=1)]: Done   5 out of   5 | elapsed:  2.4min remaining:    0.0s\n"
     ]
    },
    {
     "name": "stdout",
     "output_type": "stream",
     "text": [
      "[CV] ............ alpha=1.0, score=-0.24181288861936515, total=  33.1s\n",
      "[CV] alpha=2.0 .......................................................\n"
     ]
    },
    {
     "name": "stderr",
     "output_type": "stream",
     "text": [
      "[Parallel(n_jobs=1)]: Done   6 out of   6 | elapsed:  3.0min remaining:    0.0s\n"
     ]
    },
    {
     "name": "stdout",
     "output_type": "stream",
     "text": [
      "[CV] ............. alpha=2.0, score=-0.2409135782229551, total=  29.3s\n",
      "[CV] alpha=2.0 .......................................................\n"
     ]
    },
    {
     "name": "stderr",
     "output_type": "stream",
     "text": [
      "[Parallel(n_jobs=1)]: Done   7 out of   7 | elapsed:  3.5min remaining:    0.0s\n"
     ]
    },
    {
     "name": "stdout",
     "output_type": "stream",
     "text": [
      "[CV] ............ alpha=2.0, score=-0.24093006707199455, total=  24.5s\n",
      "[CV] alpha=2.0 .......................................................\n"
     ]
    },
    {
     "name": "stderr",
     "output_type": "stream",
     "text": [
      "[Parallel(n_jobs=1)]: Done   8 out of   8 | elapsed:  3.9min remaining:    0.0s\n"
     ]
    },
    {
     "name": "stdout",
     "output_type": "stream",
     "text": [
      "[CV] ............ alpha=2.0, score=-0.24181289470174847, total=  27.7s\n"
     ]
    },
    {
     "name": "stderr",
     "output_type": "stream",
     "text": [
      "[Parallel(n_jobs=1)]: Done   9 out of   9 | elapsed:  4.3min remaining:    0.0s\n",
      "[Parallel(n_jobs=1)]: Done   9 out of   9 | elapsed:  4.3min finished\n"
     ]
    },
    {
     "name": "stdout",
     "output_type": "stream",
     "text": [
      "{'alpha': 0.1} -0.241218835433\n"
     ]
    }
   ],
   "source": [
    "md = Ridge(random_state=719, solver='sag')\n",
    "\n",
    "params = {\n",
    "    'alpha': [0.1, 1.0, 2.0],\n",
    "}\n",
    "\n",
    "gs = GridSearchCV(md, params, scoring=clip_rmse_scorer, cv=kfold, n_jobs=1, verbose=10)\n",
    "gs.fit(tf_idf_train_features, train_y)\n",
    "print(gs.best_params_, gs.best_score_)"
   ]
  },
  {
   "cell_type": "code",
   "execution_count": 10,
   "metadata": {
    "scrolled": true
   },
   "outputs": [
    {
     "name": "stdout",
     "output_type": "stream",
     "text": [
      "Fitting 3 folds for each of 5 candidates, totalling 15 fits\n",
      "[CV] alpha=0.05 ......................................................\n",
      "[CV] ........... alpha=0.05, score=-0.24091356459176744, total=  29.9s\n",
      "[CV] alpha=0.05 ......................................................\n"
     ]
    },
    {
     "name": "stderr",
     "output_type": "stream",
     "text": [
      "[Parallel(n_jobs=1)]: Done   1 out of   1 | elapsed:   30.4s remaining:    0.0s\n"
     ]
    },
    {
     "name": "stdout",
     "output_type": "stream",
     "text": [
      "[CV] ............ alpha=0.05, score=-0.2409300586020397, total=  25.2s\n",
      "[CV] alpha=0.05 ......................................................\n"
     ]
    },
    {
     "name": "stderr",
     "output_type": "stream",
     "text": [
      "[Parallel(n_jobs=1)]: Done   2 out of   2 | elapsed:   55.9s remaining:    0.0s\n"
     ]
    },
    {
     "name": "stdout",
     "output_type": "stream",
     "text": [
      "[CV] ............ alpha=0.05, score=-0.2418128828426633, total=  27.8s\n",
      "[CV] alpha=0.1 .......................................................\n"
     ]
    },
    {
     "name": "stderr",
     "output_type": "stream",
     "text": [
      "[Parallel(n_jobs=1)]: Done   3 out of   3 | elapsed:  1.4min remaining:    0.0s\n"
     ]
    },
    {
     "name": "stdout",
     "output_type": "stream",
     "text": [
      "[CV] ............ alpha=0.1, score=-0.24091356494121902, total=  35.0s\n",
      "[CV] alpha=0.1 .......................................................\n"
     ]
    },
    {
     "name": "stderr",
     "output_type": "stream",
     "text": [
      "[Parallel(n_jobs=1)]: Done   4 out of   4 | elapsed:  2.0min remaining:    0.0s\n"
     ]
    },
    {
     "name": "stdout",
     "output_type": "stream",
     "text": [
      "[CV] ............ alpha=0.1, score=-0.24093005881913193, total=  24.8s\n",
      "[CV] alpha=0.1 .......................................................\n"
     ]
    },
    {
     "name": "stderr",
     "output_type": "stream",
     "text": [
      "[Parallel(n_jobs=1)]: Done   5 out of   5 | elapsed:  2.4min remaining:    0.0s\n"
     ]
    },
    {
     "name": "stdout",
     "output_type": "stream",
     "text": [
      "[CV] ............ alpha=0.1, score=-0.24181288314665775, total=  27.7s\n",
      "[CV] alpha=0.15 ......................................................\n"
     ]
    },
    {
     "name": "stderr",
     "output_type": "stream",
     "text": [
      "[Parallel(n_jobs=1)]: Done   6 out of   6 | elapsed:  2.9min remaining:    0.0s\n"
     ]
    },
    {
     "name": "stdout",
     "output_type": "stream",
     "text": [
      "[CV] ........... alpha=0.15, score=-0.24091356529063682, total=  29.1s\n",
      "[CV] alpha=0.15 ......................................................\n"
     ]
    },
    {
     "name": "stderr",
     "output_type": "stream",
     "text": [
      "[Parallel(n_jobs=1)]: Done   7 out of   7 | elapsed:  3.4min remaining:    0.0s\n"
     ]
    },
    {
     "name": "stdout",
     "output_type": "stream",
     "text": [
      "[CV] ............ alpha=0.15, score=-0.2409300590362524, total=  29.6s\n",
      "[CV] alpha=0.15 ......................................................\n"
     ]
    },
    {
     "name": "stderr",
     "output_type": "stream",
     "text": [
      "[Parallel(n_jobs=1)]: Done   8 out of   8 | elapsed:  3.9min remaining:    0.0s\n"
     ]
    },
    {
     "name": "stdout",
     "output_type": "stream",
     "text": [
      "[CV] ............. alpha=0.15, score=-0.241812883450657, total=  27.9s\n",
      "[CV] alpha=0.3 .......................................................\n"
     ]
    },
    {
     "name": "stderr",
     "output_type": "stream",
     "text": [
      "[Parallel(n_jobs=1)]: Done   9 out of   9 | elapsed:  4.3min remaining:    0.0s\n"
     ]
    },
    {
     "name": "stdout",
     "output_type": "stream",
     "text": [
      "[CV] ............. alpha=0.3, score=-0.2409135663390319, total=  29.5s\n",
      "[CV] alpha=0.3 .......................................................\n",
      "[CV] ............... alpha=0.3, score=-0.24093005968757, total=  24.8s\n",
      "[CV] alpha=0.3 .......................................................\n",
      "[CV] ............ alpha=0.3, score=-0.24181288436271664, total=  33.3s\n",
      "[CV] alpha=0.5 .......................................................\n",
      "[CV] ............ alpha=0.5, score=-0.24091356773688535, total=  29.5s\n",
      "[CV] alpha=0.5 .......................................................\n",
      "[CV] ............ alpha=0.5, score=-0.24093006055606417, total=  24.6s\n",
      "[CV] alpha=0.5 .......................................................\n",
      "[CV] ............ alpha=0.5, score=-0.24181288557881492, total=  27.7s\n"
     ]
    },
    {
     "name": "stderr",
     "output_type": "stream",
     "text": [
      "[Parallel(n_jobs=1)]: Done  15 out of  15 | elapsed:  7.2min finished\n"
     ]
    },
    {
     "name": "stdout",
     "output_type": "stream",
     "text": [
      "{'alpha': 0.05} -0.241218835142\n"
     ]
    }
   ],
   "source": [
    "md = Ridge(random_state=719, solver='sag')\n",
    "\n",
    "params = {\n",
    "    'alpha': [.05, .1, .15, .3, .5],\n",
    "}\n",
    "\n",
    "gs = GridSearchCV(md, params, scoring=clip_rmse_scorer, cv=kfold, n_jobs=1, verbose=10)\n",
    "gs.fit(tf_idf_train_features, train_y)\n",
    "print(gs.best_params_, gs.best_score_)"
   ]
  },
  {
   "cell_type": "markdown",
   "metadata": {},
   "source": [
    "#### XGB"
   ]
  },
  {
   "cell_type": "code",
   "execution_count": 9,
   "metadata": {
    "collapsed": true
   },
   "outputs": [],
   "source": [
    "import xgboost as xgb"
   ]
  },
  {
   "cell_type": "code",
   "execution_count": 10,
   "metadata": {
    "collapsed": true
   },
   "outputs": [],
   "source": [
    "def simple_train_test_eval(model, X, y, params):\n",
    "    tr_X, val_X, tr_y, val_y = train_test_split(X, y, test_size=0.3, random_state=719)\n",
    "    \n",
    "    min_score = None\n",
    "    best_param = None\n",
    "    \n",
    "    for param in list(ParameterGrid(params)):\n",
    "        md = cp(model)\n",
    "        old_params = md.get_params()\n",
    "        old_params.update(param)\n",
    "        print('Fitting params:\\n', old_params)\n",
    "        md.set_params(**old_params)\n",
    "        md.fit(tr_X, tr_y)\n",
    "        score = clip_rmse(val_y, md.predict(val_X))\n",
    "        print(param, score)\n",
    "        \n",
    "        if min_score is None or score < min_score:\n",
    "            best_param = param\n",
    "            min_score = score\n",
    "            \n",
    "    print('Best param:', best_param, '\\nscore:', min_score)"
   ]
  },
  {
   "cell_type": "code",
   "execution_count": 11,
   "metadata": {
    "collapsed": true
   },
   "outputs": [
    {
     "name": "stdout",
     "output_type": "stream",
     "text": [
      "Fitting params:\n",
      " {'base_score': 0.5, 'booster': 'dart', 'colsample_bylevel': 1, 'colsample_bytree': 0.8, 'gamma': 0, 'learning_rate': 0.1, 'max_delta_step': 0, 'max_depth': 6, 'min_child_weight': 1, 'missing': None, 'n_estimators': 100, 'n_jobs': 4, 'nthread': None, 'objective': 'reg:logistic', 'random_state': 719, 'reg_alpha': 0, 'reg_lambda': 1, 'scale_pos_weight': 1, 'seed': None, 'silent': True, 'subsample': 0.8}\n",
      "{'booster': 'dart'} 0.237842611006\n",
      "Fitting params:\n",
      " {'base_score': 0.5, 'booster': 'gbtree', 'colsample_bylevel': 1, 'colsample_bytree': 0.8, 'gamma': 0, 'learning_rate': 0.1, 'max_delta_step': 0, 'max_depth': 6, 'min_child_weight': 1, 'missing': None, 'n_estimators': 100, 'n_jobs': 4, 'nthread': None, 'objective': 'reg:logistic', 'random_state': 719, 'reg_alpha': 0, 'reg_lambda': 1, 'scale_pos_weight': 1, 'seed': None, 'silent': True, 'subsample': 0.8}\n",
      "{'booster': 'gbtree'} 0.237784995836\n",
      "Best param: {'booster': 'gbtree'} \n",
      "score: 0.237784995836\n"
     ]
    }
   ],
   "source": [
    "md = xgb.XGBRegressor(random_state=719, subsample=.8, colsample_bytree=.8, n_estimators=100, \n",
    "                    max_depth=6, n_jobs=4, min_child_weight=1, gamma=0,\n",
    "                    objective='reg:logistic')\n",
    "\n",
    "params = {\n",
    "    'booster': ['dart', 'gbtree']\n",
    "}\n",
    "\n",
    "simple_train_test_eval(md, tf_idf_train_features, train_y, params)"
   ]
  },
  {
   "cell_type": "code",
   "execution_count": 16,
   "metadata": {
    "collapsed": true
   },
   "outputs": [
    {
     "name": "stdout",
     "output_type": "stream",
     "text": [
      "Fitting params:\n",
      " {'base_score': 0.5, 'booster': 'gbtree', 'colsample_bylevel': 1, 'colsample_bytree': 0.8, 'gamma': 0, 'learning_rate': 0.1, 'max_delta_step': 0, 'max_depth': 6, 'min_child_weight': 1, 'missing': None, 'n_estimators': 40, 'n_jobs': 4, 'nthread': None, 'objective': 'reg:logistic', 'random_state': 719, 'reg_alpha': 0, 'reg_lambda': 1, 'scale_pos_weight': 1, 'seed': None, 'silent': True, 'subsample': 0.8}\n",
      "{'n_estimators': 40} 0.239735984725\n",
      "Fitting params:\n",
      " {'base_score': 0.5, 'booster': 'gbtree', 'colsample_bylevel': 1, 'colsample_bytree': 0.8, 'gamma': 0, 'learning_rate': 0.1, 'max_delta_step': 0, 'max_depth': 6, 'min_child_weight': 1, 'missing': None, 'n_estimators': 60, 'n_jobs': 4, 'nthread': None, 'objective': 'reg:logistic', 'random_state': 719, 'reg_alpha': 0, 'reg_lambda': 1, 'scale_pos_weight': 1, 'seed': None, 'silent': True, 'subsample': 0.8}\n",
      "{'n_estimators': 60} 0.238620725891\n",
      "Fitting params:\n",
      " {'base_score': 0.5, 'booster': 'gbtree', 'colsample_bylevel': 1, 'colsample_bytree': 0.8, 'gamma': 0, 'learning_rate': 0.1, 'max_delta_step': 0, 'max_depth': 6, 'min_child_weight': 1, 'missing': None, 'n_estimators': 80, 'n_jobs': 4, 'nthread': None, 'objective': 'reg:logistic', 'random_state': 719, 'reg_alpha': 0, 'reg_lambda': 1, 'scale_pos_weight': 1, 'seed': None, 'silent': True, 'subsample': 0.8}\n",
      "{'n_estimators': 80} 0.238104428249\n",
      "Fitting params:\n",
      " {'base_score': 0.5, 'booster': 'gbtree', 'colsample_bylevel': 1, 'colsample_bytree': 0.8, 'gamma': 0, 'learning_rate': 0.1, 'max_delta_step': 0, 'max_depth': 6, 'min_child_weight': 1, 'missing': None, 'n_estimators': 100, 'n_jobs': 4, 'nthread': None, 'objective': 'reg:logistic', 'random_state': 719, 'reg_alpha': 0, 'reg_lambda': 1, 'scale_pos_weight': 1, 'seed': None, 'silent': True, 'subsample': 0.8}\n",
      "{'n_estimators': 100} 0.237784995836\n",
      "Fitting params:\n",
      " {'base_score': 0.5, 'booster': 'gbtree', 'colsample_bylevel': 1, 'colsample_bytree': 0.8, 'gamma': 0, 'learning_rate': 0.1, 'max_delta_step': 0, 'max_depth': 6, 'min_child_weight': 1, 'missing': None, 'n_estimators': 120, 'n_jobs': 4, 'nthread': None, 'objective': 'reg:logistic', 'random_state': 719, 'reg_alpha': 0, 'reg_lambda': 1, 'scale_pos_weight': 1, 'seed': None, 'silent': True, 'subsample': 0.8}\n",
      "{'n_estimators': 120} 0.237603242063\n",
      "Best param: {'n_estimators': 120} \n",
      "score: 0.237603242063\n"
     ]
    }
   ],
   "source": [
    "md = xgb.XGBRegressor(random_state=719, subsample=.8, colsample_bytree=.8, n_estimators=100, \n",
    "                    max_depth=6, n_jobs=4, min_child_weight=1, gamma=0, booster='gbtree',\n",
    "                    objective='reg:logistic')\n",
    "\n",
    "params = {\n",
    "    'n_estimators': [40, 60, 80, 100, 120]\n",
    "}\n",
    "\n",
    "simple_train_test_eval(md, tf_idf_train_features, train_y, params)"
   ]
  },
  {
   "cell_type": "code",
   "execution_count": 17,
   "metadata": {
    "collapsed": true
   },
   "outputs": [
    {
     "name": "stdout",
     "output_type": "stream",
     "text": [
      "Fitting params:\n",
      " {'base_score': 0.5, 'booster': 'gbtree', 'colsample_bylevel': 1, 'colsample_bytree': 0.8, 'gamma': 0, 'learning_rate': 0.1, 'max_delta_step': 0, 'max_depth': 4, 'min_child_weight': 1, 'missing': None, 'n_estimators': 120, 'n_jobs': 4, 'nthread': None, 'objective': 'reg:logistic', 'random_state': 719, 'reg_alpha': 0, 'reg_lambda': 1, 'scale_pos_weight': 1, 'seed': None, 'silent': True, 'subsample': 0.8}\n",
      "{'max_depth': 4} 0.238942151296\n",
      "Fitting params:\n",
      " {'base_score': 0.5, 'booster': 'gbtree', 'colsample_bylevel': 1, 'colsample_bytree': 0.8, 'gamma': 0, 'learning_rate': 0.1, 'max_delta_step': 0, 'max_depth': 6, 'min_child_weight': 1, 'missing': None, 'n_estimators': 120, 'n_jobs': 4, 'nthread': None, 'objective': 'reg:logistic', 'random_state': 719, 'reg_alpha': 0, 'reg_lambda': 1, 'scale_pos_weight': 1, 'seed': None, 'silent': True, 'subsample': 0.8}\n",
      "{'max_depth': 6} 0.237603242063\n",
      "Fitting params:\n",
      " {'base_score': 0.5, 'booster': 'gbtree', 'colsample_bylevel': 1, 'colsample_bytree': 0.8, 'gamma': 0, 'learning_rate': 0.1, 'max_delta_step': 0, 'max_depth': 8, 'min_child_weight': 1, 'missing': None, 'n_estimators': 120, 'n_jobs': 4, 'nthread': None, 'objective': 'reg:logistic', 'random_state': 719, 'reg_alpha': 0, 'reg_lambda': 1, 'scale_pos_weight': 1, 'seed': None, 'silent': True, 'subsample': 0.8}\n",
      "{'max_depth': 8} 0.236797663678\n",
      "Fitting params:\n",
      " {'base_score': 0.5, 'booster': 'gbtree', 'colsample_bylevel': 1, 'colsample_bytree': 0.8, 'gamma': 0, 'learning_rate': 0.1, 'max_delta_step': 0, 'max_depth': 10, 'min_child_weight': 1, 'missing': None, 'n_estimators': 120, 'n_jobs': 4, 'nthread': None, 'objective': 'reg:logistic', 'random_state': 719, 'reg_alpha': 0, 'reg_lambda': 1, 'scale_pos_weight': 1, 'seed': None, 'silent': True, 'subsample': 0.8}\n",
      "{'max_depth': 10} 0.236363524498\n",
      "Fitting params:\n",
      " {'base_score': 0.5, 'booster': 'gbtree', 'colsample_bylevel': 1, 'colsample_bytree': 0.8, 'gamma': 0, 'learning_rate': 0.1, 'max_delta_step': 0, 'max_depth': 12, 'min_child_weight': 1, 'missing': None, 'n_estimators': 120, 'n_jobs': 4, 'nthread': None, 'objective': 'reg:logistic', 'random_state': 719, 'reg_alpha': 0, 'reg_lambda': 1, 'scale_pos_weight': 1, 'seed': None, 'silent': True, 'subsample': 0.8}\n",
      "{'max_depth': 12} 0.236501662532\n",
      "Best param: {'max_depth': 10} \n",
      "score: 0.236501662532\n"
     ]
    }
   ],
   "source": [
    "md = xgb.XGBRegressor(random_state=719, subsample=.8, colsample_bytree=.8, n_estimators=120, \n",
    "                    max_depth=6, n_jobs=4, min_child_weight=1, gamma=0, booster='gbtree',\n",
    "                    objective='reg:logistic')\n",
    "\n",
    "params = {\n",
    "    'max_depth': [4, 6, 8, 10, 12]\n",
    "}\n",
    "\n",
    "simple_train_test_eval(md, tf_idf_train_features, train_y, params)"
   ]
  },
  {
   "cell_type": "code",
   "execution_count": 12,
   "metadata": {
    "collapsed": true
   },
   "outputs": [
    {
     "name": "stdout",
     "output_type": "stream",
     "text": [
      "Fitting params:\n",
      " {'base_score': 0.5, 'booster': 'gbtree', 'colsample_bylevel': 1, 'colsample_bytree': 0.8, 'gamma': 0, 'learning_rate': 0.1, 'max_delta_step': 0, 'max_depth': 10, 'min_child_weight': 1, 'missing': None, 'n_estimators': 120, 'n_jobs': 4, 'nthread': None, 'objective': 'reg:logistic', 'random_state': 719, 'reg_alpha': 0, 'reg_lambda': 1, 'scale_pos_weight': 1, 'seed': None, 'silent': True, 'subsample': 0.8}\n",
      "{'gamma': 0, 'min_child_weight': 1} 0.236363524498\n",
      "Fitting params:\n",
      " {'base_score': 0.5, 'booster': 'gbtree', 'colsample_bylevel': 1, 'colsample_bytree': 0.8, 'gamma': 0, 'learning_rate': 0.1, 'max_delta_step': 0, 'max_depth': 10, 'min_child_weight': 2, 'missing': None, 'n_estimators': 120, 'n_jobs': 4, 'nthread': None, 'objective': 'reg:logistic', 'random_state': 719, 'reg_alpha': 0, 'reg_lambda': 1, 'scale_pos_weight': 1, 'seed': None, 'silent': True, 'subsample': 0.8}\n",
      "{'gamma': 0, 'min_child_weight': 2} 0.236358908135\n",
      "Fitting params:\n",
      " {'base_score': 0.5, 'booster': 'gbtree', 'colsample_bylevel': 1, 'colsample_bytree': 0.8, 'gamma': 0, 'learning_rate': 0.1, 'max_delta_step': 0, 'max_depth': 10, 'min_child_weight': 4, 'missing': None, 'n_estimators': 120, 'n_jobs': 4, 'nthread': None, 'objective': 'reg:logistic', 'random_state': 719, 'reg_alpha': 0, 'reg_lambda': 1, 'scale_pos_weight': 1, 'seed': None, 'silent': True, 'subsample': 0.8}\n",
      "{'gamma': 0, 'min_child_weight': 4} 0.236332844199\n",
      "Fitting params:\n",
      " {'base_score': 0.5, 'booster': 'gbtree', 'colsample_bylevel': 1, 'colsample_bytree': 0.8, 'gamma': 0, 'learning_rate': 0.1, 'max_delta_step': 0, 'max_depth': 10, 'min_child_weight': 8, 'missing': None, 'n_estimators': 120, 'n_jobs': 4, 'nthread': None, 'objective': 'reg:logistic', 'random_state': 719, 'reg_alpha': 0, 'reg_lambda': 1, 'scale_pos_weight': 1, 'seed': None, 'silent': True, 'subsample': 0.8}\n",
      "{'gamma': 0, 'min_child_weight': 8} 0.236300544545\n",
      "Fitting params:\n",
      " {'base_score': 0.5, 'booster': 'gbtree', 'colsample_bylevel': 1, 'colsample_bytree': 0.8, 'gamma': 0.1, 'learning_rate': 0.1, 'max_delta_step': 0, 'max_depth': 10, 'min_child_weight': 1, 'missing': None, 'n_estimators': 120, 'n_jobs': 4, 'nthread': None, 'objective': 'reg:logistic', 'random_state': 719, 'reg_alpha': 0, 'reg_lambda': 1, 'scale_pos_weight': 1, 'seed': None, 'silent': True, 'subsample': 0.8}\n",
      "{'gamma': 0.1, 'min_child_weight': 1} 0.23638961976\n",
      "Fitting params:\n",
      " {'base_score': 0.5, 'booster': 'gbtree', 'colsample_bylevel': 1, 'colsample_bytree': 0.8, 'gamma': 0.1, 'learning_rate': 0.1, 'max_delta_step': 0, 'max_depth': 10, 'min_child_weight': 2, 'missing': None, 'n_estimators': 120, 'n_jobs': 4, 'nthread': None, 'objective': 'reg:logistic', 'random_state': 719, 'reg_alpha': 0, 'reg_lambda': 1, 'scale_pos_weight': 1, 'seed': None, 'silent': True, 'subsample': 0.8}\n",
      "{'gamma': 0.1, 'min_child_weight': 2} 0.236398291598\n",
      "Fitting params:\n",
      " {'base_score': 0.5, 'booster': 'gbtree', 'colsample_bylevel': 1, 'colsample_bytree': 0.8, 'gamma': 0.1, 'learning_rate': 0.1, 'max_delta_step': 0, 'max_depth': 10, 'min_child_weight': 4, 'missing': None, 'n_estimators': 120, 'n_jobs': 4, 'nthread': None, 'objective': 'reg:logistic', 'random_state': 719, 'reg_alpha': 0, 'reg_lambda': 1, 'scale_pos_weight': 1, 'seed': None, 'silent': True, 'subsample': 0.8}\n",
      "{'gamma': 0.1, 'min_child_weight': 4} 0.236333808332\n",
      "Fitting params:\n",
      " {'base_score': 0.5, 'booster': 'gbtree', 'colsample_bylevel': 1, 'colsample_bytree': 0.8, 'gamma': 0.1, 'learning_rate': 0.1, 'max_delta_step': 0, 'max_depth': 10, 'min_child_weight': 8, 'missing': None, 'n_estimators': 120, 'n_jobs': 4, 'nthread': None, 'objective': 'reg:logistic', 'random_state': 719, 'reg_alpha': 0, 'reg_lambda': 1, 'scale_pos_weight': 1, 'seed': None, 'silent': True, 'subsample': 0.8}\n",
      "{'gamma': 0.1, 'min_child_weight': 8} 0.236313535279\n",
      "Fitting params:\n",
      " {'base_score': 0.5, 'booster': 'gbtree', 'colsample_bylevel': 1, 'colsample_bytree': 0.8, 'gamma': 0.2, 'learning_rate': 0.1, 'max_delta_step': 0, 'max_depth': 10, 'min_child_weight': 1, 'missing': None, 'n_estimators': 120, 'n_jobs': 4, 'nthread': None, 'objective': 'reg:logistic', 'random_state': 719, 'reg_alpha': 0, 'reg_lambda': 1, 'scale_pos_weight': 1, 'seed': None, 'silent': True, 'subsample': 0.8}\n",
      "{'gamma': 0.2, 'min_child_weight': 1} 0.236434927434\n",
      "Fitting params:\n",
      " {'base_score': 0.5, 'booster': 'gbtree', 'colsample_bylevel': 1, 'colsample_bytree': 0.8, 'gamma': 0.2, 'learning_rate': 0.1, 'max_delta_step': 0, 'max_depth': 10, 'min_child_weight': 2, 'missing': None, 'n_estimators': 120, 'n_jobs': 4, 'nthread': None, 'objective': 'reg:logistic', 'random_state': 719, 'reg_alpha': 0, 'reg_lambda': 1, 'scale_pos_weight': 1, 'seed': None, 'silent': True, 'subsample': 0.8}\n",
      "{'gamma': 0.2, 'min_child_weight': 2} 0.236385278325\n",
      "Fitting params:\n",
      " {'base_score': 0.5, 'booster': 'gbtree', 'colsample_bylevel': 1, 'colsample_bytree': 0.8, 'gamma': 0.2, 'learning_rate': 0.1, 'max_delta_step': 0, 'max_depth': 10, 'min_child_weight': 4, 'missing': None, 'n_estimators': 120, 'n_jobs': 4, 'nthread': None, 'objective': 'reg:logistic', 'random_state': 719, 'reg_alpha': 0, 'reg_lambda': 1, 'scale_pos_weight': 1, 'seed': None, 'silent': True, 'subsample': 0.8}\n",
      "{'gamma': 0.2, 'min_child_weight': 4} 0.236342594123\n",
      "Fitting params:\n",
      " {'base_score': 0.5, 'booster': 'gbtree', 'colsample_bylevel': 1, 'colsample_bytree': 0.8, 'gamma': 0.2, 'learning_rate': 0.1, 'max_delta_step': 0, 'max_depth': 10, 'min_child_weight': 8, 'missing': None, 'n_estimators': 120, 'n_jobs': 4, 'nthread': None, 'objective': 'reg:logistic', 'random_state': 719, 'reg_alpha': 0, 'reg_lambda': 1, 'scale_pos_weight': 1, 'seed': None, 'silent': True, 'subsample': 0.8}\n",
      "{'gamma': 0.2, 'min_child_weight': 8} 0.236289131257\n",
      "Fitting params:\n",
      " {'base_score': 0.5, 'booster': 'gbtree', 'colsample_bylevel': 1, 'colsample_bytree': 0.8, 'gamma': 0.4, 'learning_rate': 0.1, 'max_delta_step': 0, 'max_depth': 10, 'min_child_weight': 1, 'missing': None, 'n_estimators': 120, 'n_jobs': 4, 'nthread': None, 'objective': 'reg:logistic', 'random_state': 719, 'reg_alpha': 0, 'reg_lambda': 1, 'scale_pos_weight': 1, 'seed': None, 'silent': True, 'subsample': 0.8}\n",
      "{'gamma': 0.4, 'min_child_weight': 1} 0.236445454663\n",
      "Fitting params:\n",
      " {'base_score': 0.5, 'booster': 'gbtree', 'colsample_bylevel': 1, 'colsample_bytree': 0.8, 'gamma': 0.4, 'learning_rate': 0.1, 'max_delta_step': 0, 'max_depth': 10, 'min_child_weight': 2, 'missing': None, 'n_estimators': 120, 'n_jobs': 4, 'nthread': None, 'objective': 'reg:logistic', 'random_state': 719, 'reg_alpha': 0, 'reg_lambda': 1, 'scale_pos_weight': 1, 'seed': None, 'silent': True, 'subsample': 0.8}\n",
      "{'gamma': 0.4, 'min_child_weight': 2} 0.236390426142\n",
      "Fitting params:\n",
      " {'base_score': 0.5, 'booster': 'gbtree', 'colsample_bylevel': 1, 'colsample_bytree': 0.8, 'gamma': 0.4, 'learning_rate': 0.1, 'max_delta_step': 0, 'max_depth': 10, 'min_child_weight': 4, 'missing': None, 'n_estimators': 120, 'n_jobs': 4, 'nthread': None, 'objective': 'reg:logistic', 'random_state': 719, 'reg_alpha': 0, 'reg_lambda': 1, 'scale_pos_weight': 1, 'seed': None, 'silent': True, 'subsample': 0.8}\n",
      "{'gamma': 0.4, 'min_child_weight': 4} 0.236372890387\n",
      "Fitting params:\n",
      " {'base_score': 0.5, 'booster': 'gbtree', 'colsample_bylevel': 1, 'colsample_bytree': 0.8, 'gamma': 0.4, 'learning_rate': 0.1, 'max_delta_step': 0, 'max_depth': 10, 'min_child_weight': 8, 'missing': None, 'n_estimators': 120, 'n_jobs': 4, 'nthread': None, 'objective': 'reg:logistic', 'random_state': 719, 'reg_alpha': 0, 'reg_lambda': 1, 'scale_pos_weight': 1, 'seed': None, 'silent': True, 'subsample': 0.8}\n",
      "{'gamma': 0.4, 'min_child_weight': 8} 0.23632845407\n",
      "Best param: {'gamma': 0.2, 'min_child_weight': 8} \n",
      "score: 0.23632845407\n"
     ]
    }
   ],
   "source": [
    "md = xgb.XGBRegressor(random_state=719, subsample=.8, colsample_bytree=.8, n_estimators=120, \n",
    "                    max_depth=10, n_jobs=4, min_child_weight=1, gamma=0, booster='gbtree',\n",
    "                    objective='reg:logistic')\n",
    "\n",
    "params = {\n",
    "    'min_child_weight': [1, 2, 4, 8],\n",
    "    'gamma': [0, 0.1, 0.2, 0.4]\n",
    "}\n",
    "\n",
    "simple_train_test_eval(md, tf_idf_train_features, train_y, params)"
   ]
  },
  {
   "cell_type": "code",
   "execution_count": 13,
   "metadata": {
    "collapsed": true
   },
   "outputs": [
    {
     "name": "stdout",
     "output_type": "stream",
     "text": [
      "Fitting params:\n",
      " {'base_score': 0.5, 'booster': 'gbtree', 'colsample_bylevel': 1, 'colsample_bytree': 1.0, 'gamma': 0.2, 'learning_rate': 0.1, 'max_delta_step': 0, 'max_depth': 10, 'min_child_weight': 8, 'missing': None, 'n_estimators': 120, 'n_jobs': 4, 'nthread': None, 'objective': 'reg:logistic', 'random_state': 719, 'reg_alpha': 0, 'reg_lambda': 1, 'scale_pos_weight': 1, 'seed': None, 'silent': True, 'subsample': 1.0}\n",
      "{'colsample_bytree': 1.0, 'subsample': 1.0} 0.236278803474\n",
      "Fitting params:\n",
      " {'base_score': 0.5, 'booster': 'gbtree', 'colsample_bylevel': 1, 'colsample_bytree': 1.0, 'gamma': 0.2, 'learning_rate': 0.1, 'max_delta_step': 0, 'max_depth': 10, 'min_child_weight': 8, 'missing': None, 'n_estimators': 120, 'n_jobs': 4, 'nthread': None, 'objective': 'reg:logistic', 'random_state': 719, 'reg_alpha': 0, 'reg_lambda': 1, 'scale_pos_weight': 1, 'seed': None, 'silent': True, 'subsample': 0.8}\n",
      "{'colsample_bytree': 1.0, 'subsample': 0.8} 0.236316606787\n",
      "Fitting params:\n",
      " {'base_score': 0.5, 'booster': 'gbtree', 'colsample_bylevel': 1, 'colsample_bytree': 1.0, 'gamma': 0.2, 'learning_rate': 0.1, 'max_delta_step': 0, 'max_depth': 10, 'min_child_weight': 8, 'missing': None, 'n_estimators': 120, 'n_jobs': 4, 'nthread': None, 'objective': 'reg:logistic', 'random_state': 719, 'reg_alpha': 0, 'reg_lambda': 1, 'scale_pos_weight': 1, 'seed': None, 'silent': True, 'subsample': 0.6}\n",
      "{'colsample_bytree': 1.0, 'subsample': 0.6} 0.236470842439\n",
      "Fitting params:\n",
      " {'base_score': 0.5, 'booster': 'gbtree', 'colsample_bylevel': 1, 'colsample_bytree': 1.0, 'gamma': 0.2, 'learning_rate': 0.1, 'max_delta_step': 0, 'max_depth': 10, 'min_child_weight': 8, 'missing': None, 'n_estimators': 120, 'n_jobs': 4, 'nthread': None, 'objective': 'reg:logistic', 'random_state': 719, 'reg_alpha': 0, 'reg_lambda': 1, 'scale_pos_weight': 1, 'seed': None, 'silent': True, 'subsample': 0.4}\n",
      "{'colsample_bytree': 1.0, 'subsample': 0.4} 0.236673826063\n",
      "Fitting params:\n",
      " {'base_score': 0.5, 'booster': 'gbtree', 'colsample_bylevel': 1, 'colsample_bytree': 1.0, 'gamma': 0.2, 'learning_rate': 0.1, 'max_delta_step': 0, 'max_depth': 10, 'min_child_weight': 8, 'missing': None, 'n_estimators': 120, 'n_jobs': 4, 'nthread': None, 'objective': 'reg:logistic', 'random_state': 719, 'reg_alpha': 0, 'reg_lambda': 1, 'scale_pos_weight': 1, 'seed': None, 'silent': True, 'subsample': 0.2}\n",
      "{'colsample_bytree': 1.0, 'subsample': 0.2} 0.237301848945\n",
      "Fitting params:\n",
      " {'base_score': 0.5, 'booster': 'gbtree', 'colsample_bylevel': 1, 'colsample_bytree': 0.8, 'gamma': 0.2, 'learning_rate': 0.1, 'max_delta_step': 0, 'max_depth': 10, 'min_child_weight': 8, 'missing': None, 'n_estimators': 120, 'n_jobs': 4, 'nthread': None, 'objective': 'reg:logistic', 'random_state': 719, 'reg_alpha': 0, 'reg_lambda': 1, 'scale_pos_weight': 1, 'seed': None, 'silent': True, 'subsample': 1.0}\n",
      "{'colsample_bytree': 0.8, 'subsample': 1.0} 0.236276024352\n",
      "Fitting params:\n",
      " {'base_score': 0.5, 'booster': 'gbtree', 'colsample_bylevel': 1, 'colsample_bytree': 0.8, 'gamma': 0.2, 'learning_rate': 0.1, 'max_delta_step': 0, 'max_depth': 10, 'min_child_weight': 8, 'missing': None, 'n_estimators': 120, 'n_jobs': 4, 'nthread': None, 'objective': 'reg:logistic', 'random_state': 719, 'reg_alpha': 0, 'reg_lambda': 1, 'scale_pos_weight': 1, 'seed': None, 'silent': True, 'subsample': 0.8}\n",
      "{'colsample_bytree': 0.8, 'subsample': 0.8} 0.236289131257\n",
      "Fitting params:\n",
      " {'base_score': 0.5, 'booster': 'gbtree', 'colsample_bylevel': 1, 'colsample_bytree': 0.8, 'gamma': 0.2, 'learning_rate': 0.1, 'max_delta_step': 0, 'max_depth': 10, 'min_child_weight': 8, 'missing': None, 'n_estimators': 120, 'n_jobs': 4, 'nthread': None, 'objective': 'reg:logistic', 'random_state': 719, 'reg_alpha': 0, 'reg_lambda': 1, 'scale_pos_weight': 1, 'seed': None, 'silent': True, 'subsample': 0.6}\n",
      "{'colsample_bytree': 0.8, 'subsample': 0.6} 0.236392661974\n",
      "Fitting params:\n",
      " {'base_score': 0.5, 'booster': 'gbtree', 'colsample_bylevel': 1, 'colsample_bytree': 0.8, 'gamma': 0.2, 'learning_rate': 0.1, 'max_delta_step': 0, 'max_depth': 10, 'min_child_weight': 8, 'missing': None, 'n_estimators': 120, 'n_jobs': 4, 'nthread': None, 'objective': 'reg:logistic', 'random_state': 719, 'reg_alpha': 0, 'reg_lambda': 1, 'scale_pos_weight': 1, 'seed': None, 'silent': True, 'subsample': 0.4}\n",
      "{'colsample_bytree': 0.8, 'subsample': 0.4} 0.236715709294\n",
      "Fitting params:\n",
      " {'base_score': 0.5, 'booster': 'gbtree', 'colsample_bylevel': 1, 'colsample_bytree': 0.8, 'gamma': 0.2, 'learning_rate': 0.1, 'max_delta_step': 0, 'max_depth': 10, 'min_child_weight': 8, 'missing': None, 'n_estimators': 120, 'n_jobs': 4, 'nthread': None, 'objective': 'reg:logistic', 'random_state': 719, 'reg_alpha': 0, 'reg_lambda': 1, 'scale_pos_weight': 1, 'seed': None, 'silent': True, 'subsample': 0.2}\n",
      "{'colsample_bytree': 0.8, 'subsample': 0.2} 0.237495876289\n",
      "Fitting params:\n",
      " {'base_score': 0.5, 'booster': 'gbtree', 'colsample_bylevel': 1, 'colsample_bytree': 0.6, 'gamma': 0.2, 'learning_rate': 0.1, 'max_delta_step': 0, 'max_depth': 10, 'min_child_weight': 8, 'missing': None, 'n_estimators': 120, 'n_jobs': 4, 'nthread': None, 'objective': 'reg:logistic', 'random_state': 719, 'reg_alpha': 0, 'reg_lambda': 1, 'scale_pos_weight': 1, 'seed': None, 'silent': True, 'subsample': 1.0}\n",
      "{'colsample_bytree': 0.6, 'subsample': 1.0} 0.236295661756\n",
      "Fitting params:\n",
      " {'base_score': 0.5, 'booster': 'gbtree', 'colsample_bylevel': 1, 'colsample_bytree': 0.6, 'gamma': 0.2, 'learning_rate': 0.1, 'max_delta_step': 0, 'max_depth': 10, 'min_child_weight': 8, 'missing': None, 'n_estimators': 120, 'n_jobs': 4, 'nthread': None, 'objective': 'reg:logistic', 'random_state': 719, 'reg_alpha': 0, 'reg_lambda': 1, 'scale_pos_weight': 1, 'seed': None, 'silent': True, 'subsample': 0.8}\n",
      "{'colsample_bytree': 0.6, 'subsample': 0.8} 0.236277065779\n",
      "Fitting params:\n",
      " {'base_score': 0.5, 'booster': 'gbtree', 'colsample_bylevel': 1, 'colsample_bytree': 0.6, 'gamma': 0.2, 'learning_rate': 0.1, 'max_delta_step': 0, 'max_depth': 10, 'min_child_weight': 8, 'missing': None, 'n_estimators': 120, 'n_jobs': 4, 'nthread': None, 'objective': 'reg:logistic', 'random_state': 719, 'reg_alpha': 0, 'reg_lambda': 1, 'scale_pos_weight': 1, 'seed': None, 'silent': True, 'subsample': 0.6}\n",
      "{'colsample_bytree': 0.6, 'subsample': 0.6} 0.236473207967\n",
      "Fitting params:\n",
      " {'base_score': 0.5, 'booster': 'gbtree', 'colsample_bylevel': 1, 'colsample_bytree': 0.6, 'gamma': 0.2, 'learning_rate': 0.1, 'max_delta_step': 0, 'max_depth': 10, 'min_child_weight': 8, 'missing': None, 'n_estimators': 120, 'n_jobs': 4, 'nthread': None, 'objective': 'reg:logistic', 'random_state': 719, 'reg_alpha': 0, 'reg_lambda': 1, 'scale_pos_weight': 1, 'seed': None, 'silent': True, 'subsample': 0.4}\n",
      "{'colsample_bytree': 0.6, 'subsample': 0.4} 0.236718850136\n",
      "Fitting params:\n",
      " {'base_score': 0.5, 'booster': 'gbtree', 'colsample_bylevel': 1, 'colsample_bytree': 0.6, 'gamma': 0.2, 'learning_rate': 0.1, 'max_delta_step': 0, 'max_depth': 10, 'min_child_weight': 8, 'missing': None, 'n_estimators': 120, 'n_jobs': 4, 'nthread': None, 'objective': 'reg:logistic', 'random_state': 719, 'reg_alpha': 0, 'reg_lambda': 1, 'scale_pos_weight': 1, 'seed': None, 'silent': True, 'subsample': 0.2}\n",
      "{'colsample_bytree': 0.6, 'subsample': 0.2} 0.237325966977\n",
      "Fitting params:\n",
      " {'base_score': 0.5, 'booster': 'gbtree', 'colsample_bylevel': 1, 'colsample_bytree': 0.4, 'gamma': 0.2, 'learning_rate': 0.1, 'max_delta_step': 0, 'max_depth': 10, 'min_child_weight': 8, 'missing': None, 'n_estimators': 120, 'n_jobs': 4, 'nthread': None, 'objective': 'reg:logistic', 'random_state': 719, 'reg_alpha': 0, 'reg_lambda': 1, 'scale_pos_weight': 1, 'seed': None, 'silent': True, 'subsample': 1.0}\n",
      "{'colsample_bytree': 0.4, 'subsample': 1.0} 0.236283455686\n",
      "Fitting params:\n",
      " {'base_score': 0.5, 'booster': 'gbtree', 'colsample_bylevel': 1, 'colsample_bytree': 0.4, 'gamma': 0.2, 'learning_rate': 0.1, 'max_delta_step': 0, 'max_depth': 10, 'min_child_weight': 8, 'missing': None, 'n_estimators': 120, 'n_jobs': 4, 'nthread': None, 'objective': 'reg:logistic', 'random_state': 719, 'reg_alpha': 0, 'reg_lambda': 1, 'scale_pos_weight': 1, 'seed': None, 'silent': True, 'subsample': 0.8}\n",
      "{'colsample_bytree': 0.4, 'subsample': 0.8} 0.236359635665\n",
      "Fitting params:\n",
      " {'base_score': 0.5, 'booster': 'gbtree', 'colsample_bylevel': 1, 'colsample_bytree': 0.4, 'gamma': 0.2, 'learning_rate': 0.1, 'max_delta_step': 0, 'max_depth': 10, 'min_child_weight': 8, 'missing': None, 'n_estimators': 120, 'n_jobs': 4, 'nthread': None, 'objective': 'reg:logistic', 'random_state': 719, 'reg_alpha': 0, 'reg_lambda': 1, 'scale_pos_weight': 1, 'seed': None, 'silent': True, 'subsample': 0.6}\n"
     ]
    },
    {
     "name": "stdout",
     "output_type": "stream",
     "text": [
      "{'colsample_bytree': 0.4, 'subsample': 0.6} 0.236532930435\n",
      "Fitting params:\n",
      " {'base_score': 0.5, 'booster': 'gbtree', 'colsample_bylevel': 1, 'colsample_bytree': 0.4, 'gamma': 0.2, 'learning_rate': 0.1, 'max_delta_step': 0, 'max_depth': 10, 'min_child_weight': 8, 'missing': None, 'n_estimators': 120, 'n_jobs': 4, 'nthread': None, 'objective': 'reg:logistic', 'random_state': 719, 'reg_alpha': 0, 'reg_lambda': 1, 'scale_pos_weight': 1, 'seed': None, 'silent': True, 'subsample': 0.4}\n",
      "{'colsample_bytree': 0.4, 'subsample': 0.4} 0.236823774288\n",
      "Fitting params:\n",
      " {'base_score': 0.5, 'booster': 'gbtree', 'colsample_bylevel': 1, 'colsample_bytree': 0.4, 'gamma': 0.2, 'learning_rate': 0.1, 'max_delta_step': 0, 'max_depth': 10, 'min_child_weight': 8, 'missing': None, 'n_estimators': 120, 'n_jobs': 4, 'nthread': None, 'objective': 'reg:logistic', 'random_state': 719, 'reg_alpha': 0, 'reg_lambda': 1, 'scale_pos_weight': 1, 'seed': None, 'silent': True, 'subsample': 0.2}\n",
      "{'colsample_bytree': 0.4, 'subsample': 0.2} 0.237555907328\n",
      "Fitting params:\n",
      " {'base_score': 0.5, 'booster': 'gbtree', 'colsample_bylevel': 1, 'colsample_bytree': 0.2, 'gamma': 0.2, 'learning_rate': 0.1, 'max_delta_step': 0, 'max_depth': 10, 'min_child_weight': 8, 'missing': None, 'n_estimators': 120, 'n_jobs': 4, 'nthread': None, 'objective': 'reg:logistic', 'random_state': 719, 'reg_alpha': 0, 'reg_lambda': 1, 'scale_pos_weight': 1, 'seed': None, 'silent': True, 'subsample': 1.0}\n",
      "{'colsample_bytree': 0.2, 'subsample': 1.0} 0.236457575343\n",
      "Fitting params:\n",
      " {'base_score': 0.5, 'booster': 'gbtree', 'colsample_bylevel': 1, 'colsample_bytree': 0.2, 'gamma': 0.2, 'learning_rate': 0.1, 'max_delta_step': 0, 'max_depth': 10, 'min_child_weight': 8, 'missing': None, 'n_estimators': 120, 'n_jobs': 4, 'nthread': None, 'objective': 'reg:logistic', 'random_state': 719, 'reg_alpha': 0, 'reg_lambda': 1, 'scale_pos_weight': 1, 'seed': None, 'silent': True, 'subsample': 0.8}\n",
      "{'colsample_bytree': 0.2, 'subsample': 0.8} 0.236673905812\n",
      "Fitting params:\n",
      " {'base_score': 0.5, 'booster': 'gbtree', 'colsample_bylevel': 1, 'colsample_bytree': 0.2, 'gamma': 0.2, 'learning_rate': 0.1, 'max_delta_step': 0, 'max_depth': 10, 'min_child_weight': 8, 'missing': None, 'n_estimators': 120, 'n_jobs': 4, 'nthread': None, 'objective': 'reg:logistic', 'random_state': 719, 'reg_alpha': 0, 'reg_lambda': 1, 'scale_pos_weight': 1, 'seed': None, 'silent': True, 'subsample': 0.6}\n",
      "{'colsample_bytree': 0.2, 'subsample': 0.6} 0.236920731074\n",
      "Fitting params:\n",
      " {'base_score': 0.5, 'booster': 'gbtree', 'colsample_bylevel': 1, 'colsample_bytree': 0.2, 'gamma': 0.2, 'learning_rate': 0.1, 'max_delta_step': 0, 'max_depth': 10, 'min_child_weight': 8, 'missing': None, 'n_estimators': 120, 'n_jobs': 4, 'nthread': None, 'objective': 'reg:logistic', 'random_state': 719, 'reg_alpha': 0, 'reg_lambda': 1, 'scale_pos_weight': 1, 'seed': None, 'silent': True, 'subsample': 0.4}\n",
      "{'colsample_bytree': 0.2, 'subsample': 0.4} 0.237187141863\n",
      "Fitting params:\n",
      " {'base_score': 0.5, 'booster': 'gbtree', 'colsample_bylevel': 1, 'colsample_bytree': 0.2, 'gamma': 0.2, 'learning_rate': 0.1, 'max_delta_step': 0, 'max_depth': 10, 'min_child_weight': 8, 'missing': None, 'n_estimators': 120, 'n_jobs': 4, 'nthread': None, 'objective': 'reg:logistic', 'random_state': 719, 'reg_alpha': 0, 'reg_lambda': 1, 'scale_pos_weight': 1, 'seed': None, 'silent': True, 'subsample': 0.2}\n",
      "{'colsample_bytree': 0.2, 'subsample': 0.2} 0.237736278168\n",
      "Best param: {'colsample_bytree': 0.8, 'subsample': 1.0} \n",
      "score: 0.237736278168\n"
     ]
    }
   ],
   "source": [
    "md = xgb.XGBRegressor(random_state=719, subsample=.8, colsample_bytree=.8, n_estimators=120, \n",
    "                    max_depth=10, n_jobs=4, min_child_weight=8, gamma=0.2, booster='gbtree',\n",
    "                    objective='reg:logistic')\n",
    "\n",
    "params = {\n",
    "    'subsample': [1., .8, .6, .4, .2],\n",
    "    'colsample_bytree': [1., .8, .6, .4, .2]\n",
    "}\n",
    "\n",
    "simple_train_test_eval(md, tf_idf_train_features, train_y, params)"
   ]
  },
  {
   "cell_type": "code",
   "execution_count": 15,
   "metadata": {
    "collapsed": true
   },
   "outputs": [
    {
     "name": "stdout",
     "output_type": "stream",
     "text": [
      "Fitting params:\n",
      " {'base_score': 0.5, 'booster': 'gbtree', 'colsample_bylevel': 1, 'colsample_bytree': 0.95, 'gamma': 0.2, 'learning_rate': 0.1, 'max_delta_step': 0, 'max_depth': 10, 'min_child_weight': 8, 'missing': None, 'n_estimators': 120, 'n_jobs': 4, 'nthread': None, 'objective': 'reg:logistic', 'random_state': 719, 'reg_alpha': 0, 'reg_lambda': 1, 'scale_pos_weight': 1, 'seed': None, 'silent': True, 'subsample': 1.0}\n",
      "{'colsample_bytree': 0.95, 'subsample': 1.0} 0.236227971495\n",
      "Fitting params:\n",
      " {'base_score': 0.5, 'booster': 'gbtree', 'colsample_bylevel': 1, 'colsample_bytree': 0.95, 'gamma': 0.2, 'learning_rate': 0.1, 'max_delta_step': 0, 'max_depth': 10, 'min_child_weight': 8, 'missing': None, 'n_estimators': 120, 'n_jobs': 4, 'nthread': None, 'objective': 'reg:logistic', 'random_state': 719, 'reg_alpha': 0, 'reg_lambda': 1, 'scale_pos_weight': 1, 'seed': None, 'silent': True, 'subsample': 0.95}\n",
      "{'colsample_bytree': 0.95, 'subsample': 0.95} 0.23623979139\n",
      "Fitting params:\n",
      " {'base_score': 0.5, 'booster': 'gbtree', 'colsample_bylevel': 1, 'colsample_bytree': 0.95, 'gamma': 0.2, 'learning_rate': 0.1, 'max_delta_step': 0, 'max_depth': 10, 'min_child_weight': 8, 'missing': None, 'n_estimators': 120, 'n_jobs': 4, 'nthread': None, 'objective': 'reg:logistic', 'random_state': 719, 'reg_alpha': 0, 'reg_lambda': 1, 'scale_pos_weight': 1, 'seed': None, 'silent': True, 'subsample': 0.9}\n",
      "{'colsample_bytree': 0.95, 'subsample': 0.9} 0.236189742606\n",
      "Fitting params:\n",
      " {'base_score': 0.5, 'booster': 'gbtree', 'colsample_bylevel': 1, 'colsample_bytree': 0.95, 'gamma': 0.2, 'learning_rate': 0.1, 'max_delta_step': 0, 'max_depth': 10, 'min_child_weight': 8, 'missing': None, 'n_estimators': 120, 'n_jobs': 4, 'nthread': None, 'objective': 'reg:logistic', 'random_state': 719, 'reg_alpha': 0, 'reg_lambda': 1, 'scale_pos_weight': 1, 'seed': None, 'silent': True, 'subsample': 0.85}\n",
      "{'colsample_bytree': 0.95, 'subsample': 0.85} 0.236298030663\n",
      "Fitting params:\n",
      " {'base_score': 0.5, 'booster': 'gbtree', 'colsample_bylevel': 1, 'colsample_bytree': 0.9, 'gamma': 0.2, 'learning_rate': 0.1, 'max_delta_step': 0, 'max_depth': 10, 'min_child_weight': 8, 'missing': None, 'n_estimators': 120, 'n_jobs': 4, 'nthread': None, 'objective': 'reg:logistic', 'random_state': 719, 'reg_alpha': 0, 'reg_lambda': 1, 'scale_pos_weight': 1, 'seed': None, 'silent': True, 'subsample': 1.0}\n",
      "{'colsample_bytree': 0.9, 'subsample': 1.0} 0.236211670502\n",
      "Fitting params:\n",
      " {'base_score': 0.5, 'booster': 'gbtree', 'colsample_bylevel': 1, 'colsample_bytree': 0.9, 'gamma': 0.2, 'learning_rate': 0.1, 'max_delta_step': 0, 'max_depth': 10, 'min_child_weight': 8, 'missing': None, 'n_estimators': 120, 'n_jobs': 4, 'nthread': None, 'objective': 'reg:logistic', 'random_state': 719, 'reg_alpha': 0, 'reg_lambda': 1, 'scale_pos_weight': 1, 'seed': None, 'silent': True, 'subsample': 0.95}\n",
      "{'colsample_bytree': 0.9, 'subsample': 0.95} 0.236278390089\n",
      "Fitting params:\n",
      " {'base_score': 0.5, 'booster': 'gbtree', 'colsample_bylevel': 1, 'colsample_bytree': 0.9, 'gamma': 0.2, 'learning_rate': 0.1, 'max_delta_step': 0, 'max_depth': 10, 'min_child_weight': 8, 'missing': None, 'n_estimators': 120, 'n_jobs': 4, 'nthread': None, 'objective': 'reg:logistic', 'random_state': 719, 'reg_alpha': 0, 'reg_lambda': 1, 'scale_pos_weight': 1, 'seed': None, 'silent': True, 'subsample': 0.9}\n",
      "{'colsample_bytree': 0.9, 'subsample': 0.9} 0.236194287698\n",
      "Fitting params:\n",
      " {'base_score': 0.5, 'booster': 'gbtree', 'colsample_bylevel': 1, 'colsample_bytree': 0.9, 'gamma': 0.2, 'learning_rate': 0.1, 'max_delta_step': 0, 'max_depth': 10, 'min_child_weight': 8, 'missing': None, 'n_estimators': 120, 'n_jobs': 4, 'nthread': None, 'objective': 'reg:logistic', 'random_state': 719, 'reg_alpha': 0, 'reg_lambda': 1, 'scale_pos_weight': 1, 'seed': None, 'silent': True, 'subsample': 0.85}\n",
      "{'colsample_bytree': 0.9, 'subsample': 0.85} 0.236275031541\n",
      "Fitting params:\n",
      " {'base_score': 0.5, 'booster': 'gbtree', 'colsample_bylevel': 1, 'colsample_bytree': 0.85, 'gamma': 0.2, 'learning_rate': 0.1, 'max_delta_step': 0, 'max_depth': 10, 'min_child_weight': 8, 'missing': None, 'n_estimators': 120, 'n_jobs': 4, 'nthread': None, 'objective': 'reg:logistic', 'random_state': 719, 'reg_alpha': 0, 'reg_lambda': 1, 'scale_pos_weight': 1, 'seed': None, 'silent': True, 'subsample': 1.0}\n",
      "{'colsample_bytree': 0.85, 'subsample': 1.0} 0.236281778365\n",
      "Fitting params:\n",
      " {'base_score': 0.5, 'booster': 'gbtree', 'colsample_bylevel': 1, 'colsample_bytree': 0.85, 'gamma': 0.2, 'learning_rate': 0.1, 'max_delta_step': 0, 'max_depth': 10, 'min_child_weight': 8, 'missing': None, 'n_estimators': 120, 'n_jobs': 4, 'nthread': None, 'objective': 'reg:logistic', 'random_state': 719, 'reg_alpha': 0, 'reg_lambda': 1, 'scale_pos_weight': 1, 'seed': None, 'silent': True, 'subsample': 0.95}\n",
      "{'colsample_bytree': 0.85, 'subsample': 0.95} 0.23617447325\n",
      "Fitting params:\n",
      " {'base_score': 0.5, 'booster': 'gbtree', 'colsample_bylevel': 1, 'colsample_bytree': 0.85, 'gamma': 0.2, 'learning_rate': 0.1, 'max_delta_step': 0, 'max_depth': 10, 'min_child_weight': 8, 'missing': None, 'n_estimators': 120, 'n_jobs': 4, 'nthread': None, 'objective': 'reg:logistic', 'random_state': 719, 'reg_alpha': 0, 'reg_lambda': 1, 'scale_pos_weight': 1, 'seed': None, 'silent': True, 'subsample': 0.9}\n",
      "{'colsample_bytree': 0.85, 'subsample': 0.9} 0.236230316002\n",
      "Fitting params:\n",
      " {'base_score': 0.5, 'booster': 'gbtree', 'colsample_bylevel': 1, 'colsample_bytree': 0.85, 'gamma': 0.2, 'learning_rate': 0.1, 'max_delta_step': 0, 'max_depth': 10, 'min_child_weight': 8, 'missing': None, 'n_estimators': 120, 'n_jobs': 4, 'nthread': None, 'objective': 'reg:logistic', 'random_state': 719, 'reg_alpha': 0, 'reg_lambda': 1, 'scale_pos_weight': 1, 'seed': None, 'silent': True, 'subsample': 0.85}\n",
      "{'colsample_bytree': 0.85, 'subsample': 0.85} 0.236245795769\n",
      "Fitting params:\n",
      " {'base_score': 0.5, 'booster': 'gbtree', 'colsample_bylevel': 1, 'colsample_bytree': 0.8, 'gamma': 0.2, 'learning_rate': 0.1, 'max_delta_step': 0, 'max_depth': 10, 'min_child_weight': 8, 'missing': None, 'n_estimators': 120, 'n_jobs': 4, 'nthread': None, 'objective': 'reg:logistic', 'random_state': 719, 'reg_alpha': 0, 'reg_lambda': 1, 'scale_pos_weight': 1, 'seed': None, 'silent': True, 'subsample': 1.0}\n",
      "{'colsample_bytree': 0.8, 'subsample': 1.0} 0.236276024352\n",
      "Fitting params:\n",
      " {'base_score': 0.5, 'booster': 'gbtree', 'colsample_bylevel': 1, 'colsample_bytree': 0.8, 'gamma': 0.2, 'learning_rate': 0.1, 'max_delta_step': 0, 'max_depth': 10, 'min_child_weight': 8, 'missing': None, 'n_estimators': 120, 'n_jobs': 4, 'nthread': None, 'objective': 'reg:logistic', 'random_state': 719, 'reg_alpha': 0, 'reg_lambda': 1, 'scale_pos_weight': 1, 'seed': None, 'silent': True, 'subsample': 0.95}\n",
      "{'colsample_bytree': 0.8, 'subsample': 0.95} 0.236252190124\n",
      "Fitting params:\n",
      " {'base_score': 0.5, 'booster': 'gbtree', 'colsample_bylevel': 1, 'colsample_bytree': 0.8, 'gamma': 0.2, 'learning_rate': 0.1, 'max_delta_step': 0, 'max_depth': 10, 'min_child_weight': 8, 'missing': None, 'n_estimators': 120, 'n_jobs': 4, 'nthread': None, 'objective': 'reg:logistic', 'random_state': 719, 'reg_alpha': 0, 'reg_lambda': 1, 'scale_pos_weight': 1, 'seed': None, 'silent': True, 'subsample': 0.9}\n",
      "{'colsample_bytree': 0.8, 'subsample': 0.9} 0.236263279041\n",
      "Fitting params:\n",
      " {'base_score': 0.5, 'booster': 'gbtree', 'colsample_bylevel': 1, 'colsample_bytree': 0.8, 'gamma': 0.2, 'learning_rate': 0.1, 'max_delta_step': 0, 'max_depth': 10, 'min_child_weight': 8, 'missing': None, 'n_estimators': 120, 'n_jobs': 4, 'nthread': None, 'objective': 'reg:logistic', 'random_state': 719, 'reg_alpha': 0, 'reg_lambda': 1, 'scale_pos_weight': 1, 'seed': None, 'silent': True, 'subsample': 0.85}\n",
      "{'colsample_bytree': 0.8, 'subsample': 0.85} 0.236201782103\n",
      "Fitting params:\n",
      " {'base_score': 0.5, 'booster': 'gbtree', 'colsample_bylevel': 1, 'colsample_bytree': 0.75, 'gamma': 0.2, 'learning_rate': 0.1, 'max_delta_step': 0, 'max_depth': 10, 'min_child_weight': 8, 'missing': None, 'n_estimators': 120, 'n_jobs': 4, 'nthread': None, 'objective': 'reg:logistic', 'random_state': 719, 'reg_alpha': 0, 'reg_lambda': 1, 'scale_pos_weight': 1, 'seed': None, 'silent': True, 'subsample': 1.0}\n"
     ]
    },
    {
     "name": "stdout",
     "output_type": "stream",
     "text": [
      "{'colsample_bytree': 0.75, 'subsample': 1.0} 0.236244632736\n",
      "Fitting params:\n",
      " {'base_score': 0.5, 'booster': 'gbtree', 'colsample_bylevel': 1, 'colsample_bytree': 0.75, 'gamma': 0.2, 'learning_rate': 0.1, 'max_delta_step': 0, 'max_depth': 10, 'min_child_weight': 8, 'missing': None, 'n_estimators': 120, 'n_jobs': 4, 'nthread': None, 'objective': 'reg:logistic', 'random_state': 719, 'reg_alpha': 0, 'reg_lambda': 1, 'scale_pos_weight': 1, 'seed': None, 'silent': True, 'subsample': 0.95}\n",
      "{'colsample_bytree': 0.75, 'subsample': 0.95} 0.236195506828\n",
      "Fitting params:\n",
      " {'base_score': 0.5, 'booster': 'gbtree', 'colsample_bylevel': 1, 'colsample_bytree': 0.75, 'gamma': 0.2, 'learning_rate': 0.1, 'max_delta_step': 0, 'max_depth': 10, 'min_child_weight': 8, 'missing': None, 'n_estimators': 120, 'n_jobs': 4, 'nthread': None, 'objective': 'reg:logistic', 'random_state': 719, 'reg_alpha': 0, 'reg_lambda': 1, 'scale_pos_weight': 1, 'seed': None, 'silent': True, 'subsample': 0.9}\n",
      "{'colsample_bytree': 0.75, 'subsample': 0.9} 0.236183494043\n",
      "Fitting params:\n",
      " {'base_score': 0.5, 'booster': 'gbtree', 'colsample_bylevel': 1, 'colsample_bytree': 0.75, 'gamma': 0.2, 'learning_rate': 0.1, 'max_delta_step': 0, 'max_depth': 10, 'min_child_weight': 8, 'missing': None, 'n_estimators': 120, 'n_jobs': 4, 'nthread': None, 'objective': 'reg:logistic', 'random_state': 719, 'reg_alpha': 0, 'reg_lambda': 1, 'scale_pos_weight': 1, 'seed': None, 'silent': True, 'subsample': 0.85}\n",
      "{'colsample_bytree': 0.75, 'subsample': 0.85} 0.236252408173\n",
      "Fitting params:\n",
      " {'base_score': 0.5, 'booster': 'gbtree', 'colsample_bylevel': 1, 'colsample_bytree': 0.7, 'gamma': 0.2, 'learning_rate': 0.1, 'max_delta_step': 0, 'max_depth': 10, 'min_child_weight': 8, 'missing': None, 'n_estimators': 120, 'n_jobs': 4, 'nthread': None, 'objective': 'reg:logistic', 'random_state': 719, 'reg_alpha': 0, 'reg_lambda': 1, 'scale_pos_weight': 1, 'seed': None, 'silent': True, 'subsample': 1.0}\n",
      "{'colsample_bytree': 0.7, 'subsample': 1.0} 0.2362457327\n",
      "Fitting params:\n",
      " {'base_score': 0.5, 'booster': 'gbtree', 'colsample_bylevel': 1, 'colsample_bytree': 0.7, 'gamma': 0.2, 'learning_rate': 0.1, 'max_delta_step': 0, 'max_depth': 10, 'min_child_weight': 8, 'missing': None, 'n_estimators': 120, 'n_jobs': 4, 'nthread': None, 'objective': 'reg:logistic', 'random_state': 719, 'reg_alpha': 0, 'reg_lambda': 1, 'scale_pos_weight': 1, 'seed': None, 'silent': True, 'subsample': 0.95}\n",
      "{'colsample_bytree': 0.7, 'subsample': 0.95} 0.23623127789\n",
      "Fitting params:\n",
      " {'base_score': 0.5, 'booster': 'gbtree', 'colsample_bylevel': 1, 'colsample_bytree': 0.7, 'gamma': 0.2, 'learning_rate': 0.1, 'max_delta_step': 0, 'max_depth': 10, 'min_child_weight': 8, 'missing': None, 'n_estimators': 120, 'n_jobs': 4, 'nthread': None, 'objective': 'reg:logistic', 'random_state': 719, 'reg_alpha': 0, 'reg_lambda': 1, 'scale_pos_weight': 1, 'seed': None, 'silent': True, 'subsample': 0.9}\n",
      "{'colsample_bytree': 0.7, 'subsample': 0.9} 0.236260074421\n",
      "Fitting params:\n",
      " {'base_score': 0.5, 'booster': 'gbtree', 'colsample_bylevel': 1, 'colsample_bytree': 0.7, 'gamma': 0.2, 'learning_rate': 0.1, 'max_delta_step': 0, 'max_depth': 10, 'min_child_weight': 8, 'missing': None, 'n_estimators': 120, 'n_jobs': 4, 'nthread': None, 'objective': 'reg:logistic', 'random_state': 719, 'reg_alpha': 0, 'reg_lambda': 1, 'scale_pos_weight': 1, 'seed': None, 'silent': True, 'subsample': 0.85}\n",
      "{'colsample_bytree': 0.7, 'subsample': 0.85} 0.236253172234\n",
      "Fitting params:\n",
      " {'base_score': 0.5, 'booster': 'gbtree', 'colsample_bylevel': 1, 'colsample_bytree': 0.65, 'gamma': 0.2, 'learning_rate': 0.1, 'max_delta_step': 0, 'max_depth': 10, 'min_child_weight': 8, 'missing': None, 'n_estimators': 120, 'n_jobs': 4, 'nthread': None, 'objective': 'reg:logistic', 'random_state': 719, 'reg_alpha': 0, 'reg_lambda': 1, 'scale_pos_weight': 1, 'seed': None, 'silent': True, 'subsample': 1.0}\n",
      "{'colsample_bytree': 0.65, 'subsample': 1.0} 0.236248643717\n",
      "Fitting params:\n",
      " {'base_score': 0.5, 'booster': 'gbtree', 'colsample_bylevel': 1, 'colsample_bytree': 0.65, 'gamma': 0.2, 'learning_rate': 0.1, 'max_delta_step': 0, 'max_depth': 10, 'min_child_weight': 8, 'missing': None, 'n_estimators': 120, 'n_jobs': 4, 'nthread': None, 'objective': 'reg:logistic', 'random_state': 719, 'reg_alpha': 0, 'reg_lambda': 1, 'scale_pos_weight': 1, 'seed': None, 'silent': True, 'subsample': 0.95}\n",
      "{'colsample_bytree': 0.65, 'subsample': 0.95} 0.236280643346\n",
      "Fitting params:\n",
      " {'base_score': 0.5, 'booster': 'gbtree', 'colsample_bylevel': 1, 'colsample_bytree': 0.65, 'gamma': 0.2, 'learning_rate': 0.1, 'max_delta_step': 0, 'max_depth': 10, 'min_child_weight': 8, 'missing': None, 'n_estimators': 120, 'n_jobs': 4, 'nthread': None, 'objective': 'reg:logistic', 'random_state': 719, 'reg_alpha': 0, 'reg_lambda': 1, 'scale_pos_weight': 1, 'seed': None, 'silent': True, 'subsample': 0.9}\n",
      "{'colsample_bytree': 0.65, 'subsample': 0.9} 0.236218979184\n",
      "Fitting params:\n",
      " {'base_score': 0.5, 'booster': 'gbtree', 'colsample_bylevel': 1, 'colsample_bytree': 0.65, 'gamma': 0.2, 'learning_rate': 0.1, 'max_delta_step': 0, 'max_depth': 10, 'min_child_weight': 8, 'missing': None, 'n_estimators': 120, 'n_jobs': 4, 'nthread': None, 'objective': 'reg:logistic', 'random_state': 719, 'reg_alpha': 0, 'reg_lambda': 1, 'scale_pos_weight': 1, 'seed': None, 'silent': True, 'subsample': 0.85}\n",
      "{'colsample_bytree': 0.65, 'subsample': 0.85} 0.236287047916\n",
      "Best param: {'colsample_bytree': 0.85, 'subsample': 0.95} \n",
      "score: 0.23617447325\n"
     ]
    }
   ],
   "source": [
    "md = xgb.XGBRegressor(random_state=719, subsample=.8, colsample_bytree=.8, n_estimators=120, \n",
    "                    max_depth=10, n_jobs=4, min_child_weight=8, gamma=0.2, booster='gbtree',\n",
    "                    objective='reg:logistic')\n",
    "\n",
    "params = {\n",
    "    'subsample': [1., .95, .9, .85],\n",
    "    'colsample_bytree': [.95, .9, .85, .8, .75, .7, .65]\n",
    "}\n",
    "\n",
    "simple_train_test_eval(md, tf_idf_train_features, train_y, params)"
   ]
  },
  {
   "cell_type": "code",
   "execution_count": 16,
   "metadata": {
    "collapsed": true
   },
   "outputs": [
    {
     "name": "stdout",
     "output_type": "stream",
     "text": [
      "Fitting params:\n",
      " {'base_score': 0.5, 'booster': 'gbtree', 'colsample_bylevel': 1, 'colsample_bytree': 0.65, 'gamma': 0.2, 'learning_rate': 0.1, 'max_delta_step': 0, 'max_depth': 10, 'min_child_weight': 8, 'missing': None, 'n_estimators': 120, 'n_jobs': 4, 'nthread': None, 'objective': 'reg:logistic', 'random_state': 719, 'reg_alpha': 1.0, 'reg_lambda': 1.0, 'scale_pos_weight': 1, 'seed': None, 'silent': True, 'subsample': 0.95}\n",
      "{'reg_alpha': 1.0, 'reg_lambda': 1.0} 0.23624219451\n",
      "Fitting params:\n",
      " {'base_score': 0.5, 'booster': 'gbtree', 'colsample_bylevel': 1, 'colsample_bytree': 0.65, 'gamma': 0.2, 'learning_rate': 0.1, 'max_delta_step': 0, 'max_depth': 10, 'min_child_weight': 8, 'missing': None, 'n_estimators': 120, 'n_jobs': 4, 'nthread': None, 'objective': 'reg:logistic', 'random_state': 719, 'reg_alpha': 1.0, 'reg_lambda': 0.8, 'scale_pos_weight': 1, 'seed': None, 'silent': True, 'subsample': 0.95}\n",
      "{'reg_alpha': 1.0, 'reg_lambda': 0.8} 0.236246422688\n",
      "Fitting params:\n",
      " {'base_score': 0.5, 'booster': 'gbtree', 'colsample_bylevel': 1, 'colsample_bytree': 0.65, 'gamma': 0.2, 'learning_rate': 0.1, 'max_delta_step': 0, 'max_depth': 10, 'min_child_weight': 8, 'missing': None, 'n_estimators': 120, 'n_jobs': 4, 'nthread': None, 'objective': 'reg:logistic', 'random_state': 719, 'reg_alpha': 1.0, 'reg_lambda': 0.6, 'scale_pos_weight': 1, 'seed': None, 'silent': True, 'subsample': 0.95}\n",
      "{'reg_alpha': 1.0, 'reg_lambda': 0.6} 0.236218237234\n",
      "Fitting params:\n",
      " {'base_score': 0.5, 'booster': 'gbtree', 'colsample_bylevel': 1, 'colsample_bytree': 0.65, 'gamma': 0.2, 'learning_rate': 0.1, 'max_delta_step': 0, 'max_depth': 10, 'min_child_weight': 8, 'missing': None, 'n_estimators': 120, 'n_jobs': 4, 'nthread': None, 'objective': 'reg:logistic', 'random_state': 719, 'reg_alpha': 1.0, 'reg_lambda': 0.4, 'scale_pos_weight': 1, 'seed': None, 'silent': True, 'subsample': 0.95}\n",
      "{'reg_alpha': 1.0, 'reg_lambda': 0.4} 0.236289378391\n",
      "Fitting params:\n",
      " {'base_score': 0.5, 'booster': 'gbtree', 'colsample_bylevel': 1, 'colsample_bytree': 0.65, 'gamma': 0.2, 'learning_rate': 0.1, 'max_delta_step': 0, 'max_depth': 10, 'min_child_weight': 8, 'missing': None, 'n_estimators': 120, 'n_jobs': 4, 'nthread': None, 'objective': 'reg:logistic', 'random_state': 719, 'reg_alpha': 1.0, 'reg_lambda': 0.2, 'scale_pos_weight': 1, 'seed': None, 'silent': True, 'subsample': 0.95}\n",
      "{'reg_alpha': 1.0, 'reg_lambda': 0.2} 0.236202670077\n",
      "Fitting params:\n",
      " {'base_score': 0.5, 'booster': 'gbtree', 'colsample_bylevel': 1, 'colsample_bytree': 0.65, 'gamma': 0.2, 'learning_rate': 0.1, 'max_delta_step': 0, 'max_depth': 10, 'min_child_weight': 8, 'missing': None, 'n_estimators': 120, 'n_jobs': 4, 'nthread': None, 'objective': 'reg:logistic', 'random_state': 719, 'reg_alpha': 1.0, 'reg_lambda': 0.0, 'scale_pos_weight': 1, 'seed': None, 'silent': True, 'subsample': 0.95}\n",
      "{'reg_alpha': 1.0, 'reg_lambda': 0.0} 0.236230521085\n",
      "Fitting params:\n",
      " {'base_score': 0.5, 'booster': 'gbtree', 'colsample_bylevel': 1, 'colsample_bytree': 0.65, 'gamma': 0.2, 'learning_rate': 0.1, 'max_delta_step': 0, 'max_depth': 10, 'min_child_weight': 8, 'missing': None, 'n_estimators': 120, 'n_jobs': 4, 'nthread': None, 'objective': 'reg:logistic', 'random_state': 719, 'reg_alpha': 0.8, 'reg_lambda': 1.0, 'scale_pos_weight': 1, 'seed': None, 'silent': True, 'subsample': 0.95}\n",
      "{'reg_alpha': 0.8, 'reg_lambda': 1.0} 0.236229706364\n",
      "Fitting params:\n",
      " {'base_score': 0.5, 'booster': 'gbtree', 'colsample_bylevel': 1, 'colsample_bytree': 0.65, 'gamma': 0.2, 'learning_rate': 0.1, 'max_delta_step': 0, 'max_depth': 10, 'min_child_weight': 8, 'missing': None, 'n_estimators': 120, 'n_jobs': 4, 'nthread': None, 'objective': 'reg:logistic', 'random_state': 719, 'reg_alpha': 0.8, 'reg_lambda': 0.8, 'scale_pos_weight': 1, 'seed': None, 'silent': True, 'subsample': 0.95}\n",
      "{'reg_alpha': 0.8, 'reg_lambda': 0.8} 0.236274245784\n",
      "Fitting params:\n",
      " {'base_score': 0.5, 'booster': 'gbtree', 'colsample_bylevel': 1, 'colsample_bytree': 0.65, 'gamma': 0.2, 'learning_rate': 0.1, 'max_delta_step': 0, 'max_depth': 10, 'min_child_weight': 8, 'missing': None, 'n_estimators': 120, 'n_jobs': 4, 'nthread': None, 'objective': 'reg:logistic', 'random_state': 719, 'reg_alpha': 0.8, 'reg_lambda': 0.6, 'scale_pos_weight': 1, 'seed': None, 'silent': True, 'subsample': 0.95}\n",
      "{'reg_alpha': 0.8, 'reg_lambda': 0.6} 0.236239136652\n",
      "Fitting params:\n",
      " {'base_score': 0.5, 'booster': 'gbtree', 'colsample_bylevel': 1, 'colsample_bytree': 0.65, 'gamma': 0.2, 'learning_rate': 0.1, 'max_delta_step': 0, 'max_depth': 10, 'min_child_weight': 8, 'missing': None, 'n_estimators': 120, 'n_jobs': 4, 'nthread': None, 'objective': 'reg:logistic', 'random_state': 719, 'reg_alpha': 0.8, 'reg_lambda': 0.4, 'scale_pos_weight': 1, 'seed': None, 'silent': True, 'subsample': 0.95}\n",
      "{'reg_alpha': 0.8, 'reg_lambda': 0.4} 0.236302016198\n",
      "Fitting params:\n",
      " {'base_score': 0.5, 'booster': 'gbtree', 'colsample_bylevel': 1, 'colsample_bytree': 0.65, 'gamma': 0.2, 'learning_rate': 0.1, 'max_delta_step': 0, 'max_depth': 10, 'min_child_weight': 8, 'missing': None, 'n_estimators': 120, 'n_jobs': 4, 'nthread': None, 'objective': 'reg:logistic', 'random_state': 719, 'reg_alpha': 0.8, 'reg_lambda': 0.2, 'scale_pos_weight': 1, 'seed': None, 'silent': True, 'subsample': 0.95}\n",
      "{'reg_alpha': 0.8, 'reg_lambda': 0.2} 0.236268423494\n",
      "Fitting params:\n",
      " {'base_score': 0.5, 'booster': 'gbtree', 'colsample_bylevel': 1, 'colsample_bytree': 0.65, 'gamma': 0.2, 'learning_rate': 0.1, 'max_delta_step': 0, 'max_depth': 10, 'min_child_weight': 8, 'missing': None, 'n_estimators': 120, 'n_jobs': 4, 'nthread': None, 'objective': 'reg:logistic', 'random_state': 719, 'reg_alpha': 0.8, 'reg_lambda': 0.0, 'scale_pos_weight': 1, 'seed': None, 'silent': True, 'subsample': 0.95}\n",
      "{'reg_alpha': 0.8, 'reg_lambda': 0.0} 0.236292651776\n",
      "Fitting params:\n",
      " {'base_score': 0.5, 'booster': 'gbtree', 'colsample_bylevel': 1, 'colsample_bytree': 0.65, 'gamma': 0.2, 'learning_rate': 0.1, 'max_delta_step': 0, 'max_depth': 10, 'min_child_weight': 8, 'missing': None, 'n_estimators': 120, 'n_jobs': 4, 'nthread': None, 'objective': 'reg:logistic', 'random_state': 719, 'reg_alpha': 0.6, 'reg_lambda': 1.0, 'scale_pos_weight': 1, 'seed': None, 'silent': True, 'subsample': 0.95}\n",
      "{'reg_alpha': 0.6, 'reg_lambda': 1.0} 0.236200425001\n",
      "Fitting params:\n",
      " {'base_score': 0.5, 'booster': 'gbtree', 'colsample_bylevel': 1, 'colsample_bytree': 0.65, 'gamma': 0.2, 'learning_rate': 0.1, 'max_delta_step': 0, 'max_depth': 10, 'min_child_weight': 8, 'missing': None, 'n_estimators': 120, 'n_jobs': 4, 'nthread': None, 'objective': 'reg:logistic', 'random_state': 719, 'reg_alpha': 0.6, 'reg_lambda': 0.8, 'scale_pos_weight': 1, 'seed': None, 'silent': True, 'subsample': 0.95}\n",
      "{'reg_alpha': 0.6, 'reg_lambda': 0.8} 0.236241095034\n",
      "Fitting params:\n",
      " {'base_score': 0.5, 'booster': 'gbtree', 'colsample_bylevel': 1, 'colsample_bytree': 0.65, 'gamma': 0.2, 'learning_rate': 0.1, 'max_delta_step': 0, 'max_depth': 10, 'min_child_weight': 8, 'missing': None, 'n_estimators': 120, 'n_jobs': 4, 'nthread': None, 'objective': 'reg:logistic', 'random_state': 719, 'reg_alpha': 0.6, 'reg_lambda': 0.6, 'scale_pos_weight': 1, 'seed': None, 'silent': True, 'subsample': 0.95}\n",
      "{'reg_alpha': 0.6, 'reg_lambda': 0.6} 0.236263850321\n",
      "Fitting params:\n",
      " {'base_score': 0.5, 'booster': 'gbtree', 'colsample_bylevel': 1, 'colsample_bytree': 0.65, 'gamma': 0.2, 'learning_rate': 0.1, 'max_delta_step': 0, 'max_depth': 10, 'min_child_weight': 8, 'missing': None, 'n_estimators': 120, 'n_jobs': 4, 'nthread': None, 'objective': 'reg:logistic', 'random_state': 719, 'reg_alpha': 0.6, 'reg_lambda': 0.4, 'scale_pos_weight': 1, 'seed': None, 'silent': True, 'subsample': 0.95}\n",
      "{'reg_alpha': 0.6, 'reg_lambda': 0.4} 0.23625411449\n",
      "Fitting params:\n",
      " {'base_score': 0.5, 'booster': 'gbtree', 'colsample_bylevel': 1, 'colsample_bytree': 0.65, 'gamma': 0.2, 'learning_rate': 0.1, 'max_delta_step': 0, 'max_depth': 10, 'min_child_weight': 8, 'missing': None, 'n_estimators': 120, 'n_jobs': 4, 'nthread': None, 'objective': 'reg:logistic', 'random_state': 719, 'reg_alpha': 0.6, 'reg_lambda': 0.2, 'scale_pos_weight': 1, 'seed': None, 'silent': True, 'subsample': 0.95}\n",
      "{'reg_alpha': 0.6, 'reg_lambda': 0.2} 0.236302053009\n",
      "Fitting params:\n",
      " {'base_score': 0.5, 'booster': 'gbtree', 'colsample_bylevel': 1, 'colsample_bytree': 0.65, 'gamma': 0.2, 'learning_rate': 0.1, 'max_delta_step': 0, 'max_depth': 10, 'min_child_weight': 8, 'missing': None, 'n_estimators': 120, 'n_jobs': 4, 'nthread': None, 'objective': 'reg:logistic', 'random_state': 719, 'reg_alpha': 0.6, 'reg_lambda': 0.0, 'scale_pos_weight': 1, 'seed': None, 'silent': True, 'subsample': 0.95}\n"
     ]
    },
    {
     "name": "stdout",
     "output_type": "stream",
     "text": [
      "{'reg_alpha': 0.6, 'reg_lambda': 0.0} 0.236237412838\n",
      "Fitting params:\n",
      " {'base_score': 0.5, 'booster': 'gbtree', 'colsample_bylevel': 1, 'colsample_bytree': 0.65, 'gamma': 0.2, 'learning_rate': 0.1, 'max_delta_step': 0, 'max_depth': 10, 'min_child_weight': 8, 'missing': None, 'n_estimators': 120, 'n_jobs': 4, 'nthread': None, 'objective': 'reg:logistic', 'random_state': 719, 'reg_alpha': 0.4, 'reg_lambda': 1.0, 'scale_pos_weight': 1, 'seed': None, 'silent': True, 'subsample': 0.95}\n",
      "{'reg_alpha': 0.4, 'reg_lambda': 1.0} 0.236226789748\n",
      "Fitting params:\n",
      " {'base_score': 0.5, 'booster': 'gbtree', 'colsample_bylevel': 1, 'colsample_bytree': 0.65, 'gamma': 0.2, 'learning_rate': 0.1, 'max_delta_step': 0, 'max_depth': 10, 'min_child_weight': 8, 'missing': None, 'n_estimators': 120, 'n_jobs': 4, 'nthread': None, 'objective': 'reg:logistic', 'random_state': 719, 'reg_alpha': 0.4, 'reg_lambda': 0.8, 'scale_pos_weight': 1, 'seed': None, 'silent': True, 'subsample': 0.95}\n",
      "{'reg_alpha': 0.4, 'reg_lambda': 0.8} 0.236249763176\n",
      "Fitting params:\n",
      " {'base_score': 0.5, 'booster': 'gbtree', 'colsample_bylevel': 1, 'colsample_bytree': 0.65, 'gamma': 0.2, 'learning_rate': 0.1, 'max_delta_step': 0, 'max_depth': 10, 'min_child_weight': 8, 'missing': None, 'n_estimators': 120, 'n_jobs': 4, 'nthread': None, 'objective': 'reg:logistic', 'random_state': 719, 'reg_alpha': 0.4, 'reg_lambda': 0.6, 'scale_pos_weight': 1, 'seed': None, 'silent': True, 'subsample': 0.95}\n",
      "{'reg_alpha': 0.4, 'reg_lambda': 0.6} 0.236267443823\n",
      "Fitting params:\n",
      " {'base_score': 0.5, 'booster': 'gbtree', 'colsample_bylevel': 1, 'colsample_bytree': 0.65, 'gamma': 0.2, 'learning_rate': 0.1, 'max_delta_step': 0, 'max_depth': 10, 'min_child_weight': 8, 'missing': None, 'n_estimators': 120, 'n_jobs': 4, 'nthread': None, 'objective': 'reg:logistic', 'random_state': 719, 'reg_alpha': 0.4, 'reg_lambda': 0.4, 'scale_pos_weight': 1, 'seed': None, 'silent': True, 'subsample': 0.95}\n",
      "{'reg_alpha': 0.4, 'reg_lambda': 0.4} 0.236238894543\n",
      "Fitting params:\n",
      " {'base_score': 0.5, 'booster': 'gbtree', 'colsample_bylevel': 1, 'colsample_bytree': 0.65, 'gamma': 0.2, 'learning_rate': 0.1, 'max_delta_step': 0, 'max_depth': 10, 'min_child_weight': 8, 'missing': None, 'n_estimators': 120, 'n_jobs': 4, 'nthread': None, 'objective': 'reg:logistic', 'random_state': 719, 'reg_alpha': 0.4, 'reg_lambda': 0.2, 'scale_pos_weight': 1, 'seed': None, 'silent': True, 'subsample': 0.95}\n",
      "{'reg_alpha': 0.4, 'reg_lambda': 0.2} 0.236262705541\n",
      "Fitting params:\n",
      " {'base_score': 0.5, 'booster': 'gbtree', 'colsample_bylevel': 1, 'colsample_bytree': 0.65, 'gamma': 0.2, 'learning_rate': 0.1, 'max_delta_step': 0, 'max_depth': 10, 'min_child_weight': 8, 'missing': None, 'n_estimators': 120, 'n_jobs': 4, 'nthread': None, 'objective': 'reg:logistic', 'random_state': 719, 'reg_alpha': 0.4, 'reg_lambda': 0.0, 'scale_pos_weight': 1, 'seed': None, 'silent': True, 'subsample': 0.95}\n",
      "{'reg_alpha': 0.4, 'reg_lambda': 0.0} 0.23634163828\n",
      "Fitting params:\n",
      " {'base_score': 0.5, 'booster': 'gbtree', 'colsample_bylevel': 1, 'colsample_bytree': 0.65, 'gamma': 0.2, 'learning_rate': 0.1, 'max_delta_step': 0, 'max_depth': 10, 'min_child_weight': 8, 'missing': None, 'n_estimators': 120, 'n_jobs': 4, 'nthread': None, 'objective': 'reg:logistic', 'random_state': 719, 'reg_alpha': 0.2, 'reg_lambda': 1.0, 'scale_pos_weight': 1, 'seed': None, 'silent': True, 'subsample': 0.95}\n",
      "{'reg_alpha': 0.2, 'reg_lambda': 1.0} 0.236301309679\n",
      "Fitting params:\n",
      " {'base_score': 0.5, 'booster': 'gbtree', 'colsample_bylevel': 1, 'colsample_bytree': 0.65, 'gamma': 0.2, 'learning_rate': 0.1, 'max_delta_step': 0, 'max_depth': 10, 'min_child_weight': 8, 'missing': None, 'n_estimators': 120, 'n_jobs': 4, 'nthread': None, 'objective': 'reg:logistic', 'random_state': 719, 'reg_alpha': 0.2, 'reg_lambda': 0.8, 'scale_pos_weight': 1, 'seed': None, 'silent': True, 'subsample': 0.95}\n",
      "{'reg_alpha': 0.2, 'reg_lambda': 0.8} 0.236321349631\n",
      "Fitting params:\n",
      " {'base_score': 0.5, 'booster': 'gbtree', 'colsample_bylevel': 1, 'colsample_bytree': 0.65, 'gamma': 0.2, 'learning_rate': 0.1, 'max_delta_step': 0, 'max_depth': 10, 'min_child_weight': 8, 'missing': None, 'n_estimators': 120, 'n_jobs': 4, 'nthread': None, 'objective': 'reg:logistic', 'random_state': 719, 'reg_alpha': 0.2, 'reg_lambda': 0.6, 'scale_pos_weight': 1, 'seed': None, 'silent': True, 'subsample': 0.95}\n",
      "{'reg_alpha': 0.2, 'reg_lambda': 0.6} 0.236318079135\n",
      "Fitting params:\n",
      " {'base_score': 0.5, 'booster': 'gbtree', 'colsample_bylevel': 1, 'colsample_bytree': 0.65, 'gamma': 0.2, 'learning_rate': 0.1, 'max_delta_step': 0, 'max_depth': 10, 'min_child_weight': 8, 'missing': None, 'n_estimators': 120, 'n_jobs': 4, 'nthread': None, 'objective': 'reg:logistic', 'random_state': 719, 'reg_alpha': 0.2, 'reg_lambda': 0.4, 'scale_pos_weight': 1, 'seed': None, 'silent': True, 'subsample': 0.95}\n",
      "{'reg_alpha': 0.2, 'reg_lambda': 0.4} 0.236280544463\n",
      "Fitting params:\n",
      " {'base_score': 0.5, 'booster': 'gbtree', 'colsample_bylevel': 1, 'colsample_bytree': 0.65, 'gamma': 0.2, 'learning_rate': 0.1, 'max_delta_step': 0, 'max_depth': 10, 'min_child_weight': 8, 'missing': None, 'n_estimators': 120, 'n_jobs': 4, 'nthread': None, 'objective': 'reg:logistic', 'random_state': 719, 'reg_alpha': 0.2, 'reg_lambda': 0.2, 'scale_pos_weight': 1, 'seed': None, 'silent': True, 'subsample': 0.95}\n",
      "{'reg_alpha': 0.2, 'reg_lambda': 0.2} 0.236283433639\n",
      "Fitting params:\n",
      " {'base_score': 0.5, 'booster': 'gbtree', 'colsample_bylevel': 1, 'colsample_bytree': 0.65, 'gamma': 0.2, 'learning_rate': 0.1, 'max_delta_step': 0, 'max_depth': 10, 'min_child_weight': 8, 'missing': None, 'n_estimators': 120, 'n_jobs': 4, 'nthread': None, 'objective': 'reg:logistic', 'random_state': 719, 'reg_alpha': 0.2, 'reg_lambda': 0.0, 'scale_pos_weight': 1, 'seed': None, 'silent': True, 'subsample': 0.95}\n",
      "{'reg_alpha': 0.2, 'reg_lambda': 0.0} 0.236328693926\n",
      "Fitting params:\n",
      " {'base_score': 0.5, 'booster': 'gbtree', 'colsample_bylevel': 1, 'colsample_bytree': 0.65, 'gamma': 0.2, 'learning_rate': 0.1, 'max_delta_step': 0, 'max_depth': 10, 'min_child_weight': 8, 'missing': None, 'n_estimators': 120, 'n_jobs': 4, 'nthread': None, 'objective': 'reg:logistic', 'random_state': 719, 'reg_alpha': 0.0, 'reg_lambda': 1.0, 'scale_pos_weight': 1, 'seed': None, 'silent': True, 'subsample': 0.95}\n",
      "{'reg_alpha': 0.0, 'reg_lambda': 1.0} 0.236280643346\n",
      "Fitting params:\n",
      " {'base_score': 0.5, 'booster': 'gbtree', 'colsample_bylevel': 1, 'colsample_bytree': 0.65, 'gamma': 0.2, 'learning_rate': 0.1, 'max_delta_step': 0, 'max_depth': 10, 'min_child_weight': 8, 'missing': None, 'n_estimators': 120, 'n_jobs': 4, 'nthread': None, 'objective': 'reg:logistic', 'random_state': 719, 'reg_alpha': 0.0, 'reg_lambda': 0.8, 'scale_pos_weight': 1, 'seed': None, 'silent': True, 'subsample': 0.95}\n",
      "{'reg_alpha': 0.0, 'reg_lambda': 0.8} 0.236274789667\n",
      "Fitting params:\n",
      " {'base_score': 0.5, 'booster': 'gbtree', 'colsample_bylevel': 1, 'colsample_bytree': 0.65, 'gamma': 0.2, 'learning_rate': 0.1, 'max_delta_step': 0, 'max_depth': 10, 'min_child_weight': 8, 'missing': None, 'n_estimators': 120, 'n_jobs': 4, 'nthread': None, 'objective': 'reg:logistic', 'random_state': 719, 'reg_alpha': 0.0, 'reg_lambda': 0.6, 'scale_pos_weight': 1, 'seed': None, 'silent': True, 'subsample': 0.95}\n",
      "{'reg_alpha': 0.0, 'reg_lambda': 0.6} 0.236293491975\n",
      "Fitting params:\n",
      " {'base_score': 0.5, 'booster': 'gbtree', 'colsample_bylevel': 1, 'colsample_bytree': 0.65, 'gamma': 0.2, 'learning_rate': 0.1, 'max_delta_step': 0, 'max_depth': 10, 'min_child_weight': 8, 'missing': None, 'n_estimators': 120, 'n_jobs': 4, 'nthread': None, 'objective': 'reg:logistic', 'random_state': 719, 'reg_alpha': 0.0, 'reg_lambda': 0.4, 'scale_pos_weight': 1, 'seed': None, 'silent': True, 'subsample': 0.95}\n",
      "{'reg_alpha': 0.0, 'reg_lambda': 0.4} 0.236252316492\n",
      "Fitting params:\n",
      " {'base_score': 0.5, 'booster': 'gbtree', 'colsample_bylevel': 1, 'colsample_bytree': 0.65, 'gamma': 0.2, 'learning_rate': 0.1, 'max_delta_step': 0, 'max_depth': 10, 'min_child_weight': 8, 'missing': None, 'n_estimators': 120, 'n_jobs': 4, 'nthread': None, 'objective': 'reg:logistic', 'random_state': 719, 'reg_alpha': 0.0, 'reg_lambda': 0.2, 'scale_pos_weight': 1, 'seed': None, 'silent': True, 'subsample': 0.95}\n"
     ]
    },
    {
     "name": "stdout",
     "output_type": "stream",
     "text": [
      "{'reg_alpha': 0.0, 'reg_lambda': 0.2} 0.236334168732\n",
      "Fitting params:\n",
      " {'base_score': 0.5, 'booster': 'gbtree', 'colsample_bylevel': 1, 'colsample_bytree': 0.65, 'gamma': 0.2, 'learning_rate': 0.1, 'max_delta_step': 0, 'max_depth': 10, 'min_child_weight': 8, 'missing': None, 'n_estimators': 120, 'n_jobs': 4, 'nthread': None, 'objective': 'reg:logistic', 'random_state': 719, 'reg_alpha': 0.0, 'reg_lambda': 0.0, 'scale_pos_weight': 1, 'seed': None, 'silent': True, 'subsample': 0.95}\n",
      "{'reg_alpha': 0.0, 'reg_lambda': 0.0} 0.236286693527\n",
      "Best param: {'reg_alpha': 0.6, 'reg_lambda': 1.0} \n",
      "score: 0.236200425001\n"
     ]
    }
   ],
   "source": [
    "md = xgb.XGBRegressor(random_state=719, subsample=.95, colsample_bytree=.65, n_estimators=120, \n",
    "                    max_depth=10, n_jobs=4, min_child_weight=8, gamma=0.2, booster='gbtree',\n",
    "                    objective='reg:logistic')\n",
    "\n",
    "params = {\n",
    "    'reg_alpha': [1., .8, .6, .4, .2, .0],\n",
    "    'reg_lambda': [1., .8, .6, .4, .2, .0]\n",
    "}\n",
    "\n",
    "simple_train_test_eval(md, tf_idf_train_features, train_y, params)"
   ]
  },
  {
   "cell_type": "code",
   "execution_count": 17,
   "metadata": {
    "collapsed": true
   },
   "outputs": [
    {
     "name": "stdout",
     "output_type": "stream",
     "text": [
      "Fitting params:\n",
      " {'base_score': 0.5, 'booster': 'gbtree', 'colsample_bylevel': 1, 'colsample_bytree': 0.65, 'gamma': 0.2, 'learning_rate': 0.1, 'max_delta_step': 0, 'max_depth': 10, 'min_child_weight': 8, 'missing': None, 'n_estimators': 120, 'n_jobs': 4, 'nthread': None, 'objective': 'reg:logistic', 'random_state': 719, 'reg_alpha': 0.75, 'reg_lambda': 1.0, 'scale_pos_weight': 1, 'seed': None, 'silent': True, 'subsample': 0.95}\n",
      "{'reg_alpha': 0.75, 'reg_lambda': 1.0} 0.236255114834\n",
      "Fitting params:\n",
      " {'base_score': 0.5, 'booster': 'gbtree', 'colsample_bylevel': 1, 'colsample_bytree': 0.65, 'gamma': 0.2, 'learning_rate': 0.1, 'max_delta_step': 0, 'max_depth': 10, 'min_child_weight': 8, 'missing': None, 'n_estimators': 120, 'n_jobs': 4, 'nthread': None, 'objective': 'reg:logistic', 'random_state': 719, 'reg_alpha': 0.75, 'reg_lambda': 0.95, 'scale_pos_weight': 1, 'seed': None, 'silent': True, 'subsample': 0.95}\n",
      "{'reg_alpha': 0.75, 'reg_lambda': 0.95} 0.236208395349\n",
      "Fitting params:\n",
      " {'base_score': 0.5, 'booster': 'gbtree', 'colsample_bylevel': 1, 'colsample_bytree': 0.65, 'gamma': 0.2, 'learning_rate': 0.1, 'max_delta_step': 0, 'max_depth': 10, 'min_child_weight': 8, 'missing': None, 'n_estimators': 120, 'n_jobs': 4, 'nthread': None, 'objective': 'reg:logistic', 'random_state': 719, 'reg_alpha': 0.75, 'reg_lambda': 0.9, 'scale_pos_weight': 1, 'seed': None, 'silent': True, 'subsample': 0.95}\n",
      "{'reg_alpha': 0.75, 'reg_lambda': 0.9} 0.236247080938\n",
      "Fitting params:\n",
      " {'base_score': 0.5, 'booster': 'gbtree', 'colsample_bylevel': 1, 'colsample_bytree': 0.65, 'gamma': 0.2, 'learning_rate': 0.1, 'max_delta_step': 0, 'max_depth': 10, 'min_child_weight': 8, 'missing': None, 'n_estimators': 120, 'n_jobs': 4, 'nthread': None, 'objective': 'reg:logistic', 'random_state': 719, 'reg_alpha': 0.75, 'reg_lambda': 0.85, 'scale_pos_weight': 1, 'seed': None, 'silent': True, 'subsample': 0.95}\n",
      "{'reg_alpha': 0.75, 'reg_lambda': 0.85} 0.236322342241\n",
      "Fitting params:\n",
      " {'base_score': 0.5, 'booster': 'gbtree', 'colsample_bylevel': 1, 'colsample_bytree': 0.65, 'gamma': 0.2, 'learning_rate': 0.1, 'max_delta_step': 0, 'max_depth': 10, 'min_child_weight': 8, 'missing': None, 'n_estimators': 120, 'n_jobs': 4, 'nthread': None, 'objective': 'reg:logistic', 'random_state': 719, 'reg_alpha': 0.7, 'reg_lambda': 1.0, 'scale_pos_weight': 1, 'seed': None, 'silent': True, 'subsample': 0.95}\n",
      "{'reg_alpha': 0.7, 'reg_lambda': 1.0} 0.236249823846\n",
      "Fitting params:\n",
      " {'base_score': 0.5, 'booster': 'gbtree', 'colsample_bylevel': 1, 'colsample_bytree': 0.65, 'gamma': 0.2, 'learning_rate': 0.1, 'max_delta_step': 0, 'max_depth': 10, 'min_child_weight': 8, 'missing': None, 'n_estimators': 120, 'n_jobs': 4, 'nthread': None, 'objective': 'reg:logistic', 'random_state': 719, 'reg_alpha': 0.7, 'reg_lambda': 0.95, 'scale_pos_weight': 1, 'seed': None, 'silent': True, 'subsample': 0.95}\n",
      "{'reg_alpha': 0.7, 'reg_lambda': 0.95} 0.236228793813\n",
      "Fitting params:\n",
      " {'base_score': 0.5, 'booster': 'gbtree', 'colsample_bylevel': 1, 'colsample_bytree': 0.65, 'gamma': 0.2, 'learning_rate': 0.1, 'max_delta_step': 0, 'max_depth': 10, 'min_child_weight': 8, 'missing': None, 'n_estimators': 120, 'n_jobs': 4, 'nthread': None, 'objective': 'reg:logistic', 'random_state': 719, 'reg_alpha': 0.7, 'reg_lambda': 0.9, 'scale_pos_weight': 1, 'seed': None, 'silent': True, 'subsample': 0.95}\n",
      "{'reg_alpha': 0.7, 'reg_lambda': 0.9} 0.23627171514\n",
      "Fitting params:\n",
      " {'base_score': 0.5, 'booster': 'gbtree', 'colsample_bylevel': 1, 'colsample_bytree': 0.65, 'gamma': 0.2, 'learning_rate': 0.1, 'max_delta_step': 0, 'max_depth': 10, 'min_child_weight': 8, 'missing': None, 'n_estimators': 120, 'n_jobs': 4, 'nthread': None, 'objective': 'reg:logistic', 'random_state': 719, 'reg_alpha': 0.7, 'reg_lambda': 0.85, 'scale_pos_weight': 1, 'seed': None, 'silent': True, 'subsample': 0.95}\n",
      "{'reg_alpha': 0.7, 'reg_lambda': 0.85} 0.236270501413\n",
      "Fitting params:\n",
      " {'base_score': 0.5, 'booster': 'gbtree', 'colsample_bylevel': 1, 'colsample_bytree': 0.65, 'gamma': 0.2, 'learning_rate': 0.1, 'max_delta_step': 0, 'max_depth': 10, 'min_child_weight': 8, 'missing': None, 'n_estimators': 120, 'n_jobs': 4, 'nthread': None, 'objective': 'reg:logistic', 'random_state': 719, 'reg_alpha': 0.65, 'reg_lambda': 1.0, 'scale_pos_weight': 1, 'seed': None, 'silent': True, 'subsample': 0.95}\n",
      "{'reg_alpha': 0.65, 'reg_lambda': 1.0} 0.236253805624\n",
      "Fitting params:\n",
      " {'base_score': 0.5, 'booster': 'gbtree', 'colsample_bylevel': 1, 'colsample_bytree': 0.65, 'gamma': 0.2, 'learning_rate': 0.1, 'max_delta_step': 0, 'max_depth': 10, 'min_child_weight': 8, 'missing': None, 'n_estimators': 120, 'n_jobs': 4, 'nthread': None, 'objective': 'reg:logistic', 'random_state': 719, 'reg_alpha': 0.65, 'reg_lambda': 0.95, 'scale_pos_weight': 1, 'seed': None, 'silent': True, 'subsample': 0.95}\n",
      "{'reg_alpha': 0.65, 'reg_lambda': 0.95} 0.236285013385\n",
      "Fitting params:\n",
      " {'base_score': 0.5, 'booster': 'gbtree', 'colsample_bylevel': 1, 'colsample_bytree': 0.65, 'gamma': 0.2, 'learning_rate': 0.1, 'max_delta_step': 0, 'max_depth': 10, 'min_child_weight': 8, 'missing': None, 'n_estimators': 120, 'n_jobs': 4, 'nthread': None, 'objective': 'reg:logistic', 'random_state': 719, 'reg_alpha': 0.65, 'reg_lambda': 0.9, 'scale_pos_weight': 1, 'seed': None, 'silent': True, 'subsample': 0.95}\n",
      "{'reg_alpha': 0.65, 'reg_lambda': 0.9} 0.236253034044\n",
      "Fitting params:\n",
      " {'base_score': 0.5, 'booster': 'gbtree', 'colsample_bylevel': 1, 'colsample_bytree': 0.65, 'gamma': 0.2, 'learning_rate': 0.1, 'max_delta_step': 0, 'max_depth': 10, 'min_child_weight': 8, 'missing': None, 'n_estimators': 120, 'n_jobs': 4, 'nthread': None, 'objective': 'reg:logistic', 'random_state': 719, 'reg_alpha': 0.65, 'reg_lambda': 0.85, 'scale_pos_weight': 1, 'seed': None, 'silent': True, 'subsample': 0.95}\n",
      "{'reg_alpha': 0.65, 'reg_lambda': 0.85} 0.236301632854\n",
      "Fitting params:\n",
      " {'base_score': 0.5, 'booster': 'gbtree', 'colsample_bylevel': 1, 'colsample_bytree': 0.65, 'gamma': 0.2, 'learning_rate': 0.1, 'max_delta_step': 0, 'max_depth': 10, 'min_child_weight': 8, 'missing': None, 'n_estimators': 120, 'n_jobs': 4, 'nthread': None, 'objective': 'reg:logistic', 'random_state': 719, 'reg_alpha': 0.6, 'reg_lambda': 1.0, 'scale_pos_weight': 1, 'seed': None, 'silent': True, 'subsample': 0.95}\n",
      "{'reg_alpha': 0.6, 'reg_lambda': 1.0} 0.236200425001\n",
      "Fitting params:\n",
      " {'base_score': 0.5, 'booster': 'gbtree', 'colsample_bylevel': 1, 'colsample_bytree': 0.65, 'gamma': 0.2, 'learning_rate': 0.1, 'max_delta_step': 0, 'max_depth': 10, 'min_child_weight': 8, 'missing': None, 'n_estimators': 120, 'n_jobs': 4, 'nthread': None, 'objective': 'reg:logistic', 'random_state': 719, 'reg_alpha': 0.6, 'reg_lambda': 0.95, 'scale_pos_weight': 1, 'seed': None, 'silent': True, 'subsample': 0.95}\n",
      "{'reg_alpha': 0.6, 'reg_lambda': 0.95} 0.236247502791\n",
      "Fitting params:\n",
      " {'base_score': 0.5, 'booster': 'gbtree', 'colsample_bylevel': 1, 'colsample_bytree': 0.65, 'gamma': 0.2, 'learning_rate': 0.1, 'max_delta_step': 0, 'max_depth': 10, 'min_child_weight': 8, 'missing': None, 'n_estimators': 120, 'n_jobs': 4, 'nthread': None, 'objective': 'reg:logistic', 'random_state': 719, 'reg_alpha': 0.6, 'reg_lambda': 0.9, 'scale_pos_weight': 1, 'seed': None, 'silent': True, 'subsample': 0.95}\n",
      "{'reg_alpha': 0.6, 'reg_lambda': 0.9} 0.236257367356\n",
      "Fitting params:\n",
      " {'base_score': 0.5, 'booster': 'gbtree', 'colsample_bylevel': 1, 'colsample_bytree': 0.65, 'gamma': 0.2, 'learning_rate': 0.1, 'max_delta_step': 0, 'max_depth': 10, 'min_child_weight': 8, 'missing': None, 'n_estimators': 120, 'n_jobs': 4, 'nthread': None, 'objective': 'reg:logistic', 'random_state': 719, 'reg_alpha': 0.6, 'reg_lambda': 0.85, 'scale_pos_weight': 1, 'seed': None, 'silent': True, 'subsample': 0.95}\n",
      "{'reg_alpha': 0.6, 'reg_lambda': 0.85} 0.236265634545\n",
      "Fitting params:\n",
      " {'base_score': 0.5, 'booster': 'gbtree', 'colsample_bylevel': 1, 'colsample_bytree': 0.65, 'gamma': 0.2, 'learning_rate': 0.1, 'max_delta_step': 0, 'max_depth': 10, 'min_child_weight': 8, 'missing': None, 'n_estimators': 120, 'n_jobs': 4, 'nthread': None, 'objective': 'reg:logistic', 'random_state': 719, 'reg_alpha': 0.55, 'reg_lambda': 1.0, 'scale_pos_weight': 1, 'seed': None, 'silent': True, 'subsample': 0.95}\n"
     ]
    },
    {
     "name": "stdout",
     "output_type": "stream",
     "text": [
      "{'reg_alpha': 0.55, 'reg_lambda': 1.0} 0.236290117561\n",
      "Fitting params:\n",
      " {'base_score': 0.5, 'booster': 'gbtree', 'colsample_bylevel': 1, 'colsample_bytree': 0.65, 'gamma': 0.2, 'learning_rate': 0.1, 'max_delta_step': 0, 'max_depth': 10, 'min_child_weight': 8, 'missing': None, 'n_estimators': 120, 'n_jobs': 4, 'nthread': None, 'objective': 'reg:logistic', 'random_state': 719, 'reg_alpha': 0.55, 'reg_lambda': 0.95, 'scale_pos_weight': 1, 'seed': None, 'silent': True, 'subsample': 0.95}\n",
      "{'reg_alpha': 0.55, 'reg_lambda': 0.95} 0.236238058874\n",
      "Fitting params:\n",
      " {'base_score': 0.5, 'booster': 'gbtree', 'colsample_bylevel': 1, 'colsample_bytree': 0.65, 'gamma': 0.2, 'learning_rate': 0.1, 'max_delta_step': 0, 'max_depth': 10, 'min_child_weight': 8, 'missing': None, 'n_estimators': 120, 'n_jobs': 4, 'nthread': None, 'objective': 'reg:logistic', 'random_state': 719, 'reg_alpha': 0.55, 'reg_lambda': 0.9, 'scale_pos_weight': 1, 'seed': None, 'silent': True, 'subsample': 0.95}\n",
      "{'reg_alpha': 0.55, 'reg_lambda': 0.9} 0.236314473001\n",
      "Fitting params:\n",
      " {'base_score': 0.5, 'booster': 'gbtree', 'colsample_bylevel': 1, 'colsample_bytree': 0.65, 'gamma': 0.2, 'learning_rate': 0.1, 'max_delta_step': 0, 'max_depth': 10, 'min_child_weight': 8, 'missing': None, 'n_estimators': 120, 'n_jobs': 4, 'nthread': None, 'objective': 'reg:logistic', 'random_state': 719, 'reg_alpha': 0.55, 'reg_lambda': 0.85, 'scale_pos_weight': 1, 'seed': None, 'silent': True, 'subsample': 0.95}\n",
      "{'reg_alpha': 0.55, 'reg_lambda': 0.85} 0.236251765049\n",
      "Fitting params:\n",
      " {'base_score': 0.5, 'booster': 'gbtree', 'colsample_bylevel': 1, 'colsample_bytree': 0.65, 'gamma': 0.2, 'learning_rate': 0.1, 'max_delta_step': 0, 'max_depth': 10, 'min_child_weight': 8, 'missing': None, 'n_estimators': 120, 'n_jobs': 4, 'nthread': None, 'objective': 'reg:logistic', 'random_state': 719, 'reg_alpha': 0.5, 'reg_lambda': 1.0, 'scale_pos_weight': 1, 'seed': None, 'silent': True, 'subsample': 0.95}\n",
      "{'reg_alpha': 0.5, 'reg_lambda': 1.0} 0.236230594723\n",
      "Fitting params:\n",
      " {'base_score': 0.5, 'booster': 'gbtree', 'colsample_bylevel': 1, 'colsample_bytree': 0.65, 'gamma': 0.2, 'learning_rate': 0.1, 'max_delta_step': 0, 'max_depth': 10, 'min_child_weight': 8, 'missing': None, 'n_estimators': 120, 'n_jobs': 4, 'nthread': None, 'objective': 'reg:logistic', 'random_state': 719, 'reg_alpha': 0.5, 'reg_lambda': 0.95, 'scale_pos_weight': 1, 'seed': None, 'silent': True, 'subsample': 0.95}\n",
      "{'reg_alpha': 0.5, 'reg_lambda': 0.95} 0.23628671411\n",
      "Fitting params:\n",
      " {'base_score': 0.5, 'booster': 'gbtree', 'colsample_bylevel': 1, 'colsample_bytree': 0.65, 'gamma': 0.2, 'learning_rate': 0.1, 'max_delta_step': 0, 'max_depth': 10, 'min_child_weight': 8, 'missing': None, 'n_estimators': 120, 'n_jobs': 4, 'nthread': None, 'objective': 'reg:logistic', 'random_state': 719, 'reg_alpha': 0.5, 'reg_lambda': 0.9, 'scale_pos_weight': 1, 'seed': None, 'silent': True, 'subsample': 0.95}\n",
      "{'reg_alpha': 0.5, 'reg_lambda': 0.9} 0.23629122114\n",
      "Fitting params:\n",
      " {'base_score': 0.5, 'booster': 'gbtree', 'colsample_bylevel': 1, 'colsample_bytree': 0.65, 'gamma': 0.2, 'learning_rate': 0.1, 'max_delta_step': 0, 'max_depth': 10, 'min_child_weight': 8, 'missing': None, 'n_estimators': 120, 'n_jobs': 4, 'nthread': None, 'objective': 'reg:logistic', 'random_state': 719, 'reg_alpha': 0.5, 'reg_lambda': 0.85, 'scale_pos_weight': 1, 'seed': None, 'silent': True, 'subsample': 0.95}\n",
      "{'reg_alpha': 0.5, 'reg_lambda': 0.85} 0.236287248932\n",
      "Fitting params:\n",
      " {'base_score': 0.5, 'booster': 'gbtree', 'colsample_bylevel': 1, 'colsample_bytree': 0.65, 'gamma': 0.2, 'learning_rate': 0.1, 'max_delta_step': 0, 'max_depth': 10, 'min_child_weight': 8, 'missing': None, 'n_estimators': 120, 'n_jobs': 4, 'nthread': None, 'objective': 'reg:logistic', 'random_state': 719, 'reg_alpha': 0.45, 'reg_lambda': 1.0, 'scale_pos_weight': 1, 'seed': None, 'silent': True, 'subsample': 0.95}\n",
      "{'reg_alpha': 0.45, 'reg_lambda': 1.0} 0.236333704568\n",
      "Fitting params:\n",
      " {'base_score': 0.5, 'booster': 'gbtree', 'colsample_bylevel': 1, 'colsample_bytree': 0.65, 'gamma': 0.2, 'learning_rate': 0.1, 'max_delta_step': 0, 'max_depth': 10, 'min_child_weight': 8, 'missing': None, 'n_estimators': 120, 'n_jobs': 4, 'nthread': None, 'objective': 'reg:logistic', 'random_state': 719, 'reg_alpha': 0.45, 'reg_lambda': 0.95, 'scale_pos_weight': 1, 'seed': None, 'silent': True, 'subsample': 0.95}\n",
      "{'reg_alpha': 0.45, 'reg_lambda': 0.95} 0.23626039393\n",
      "Fitting params:\n",
      " {'base_score': 0.5, 'booster': 'gbtree', 'colsample_bylevel': 1, 'colsample_bytree': 0.65, 'gamma': 0.2, 'learning_rate': 0.1, 'max_delta_step': 0, 'max_depth': 10, 'min_child_weight': 8, 'missing': None, 'n_estimators': 120, 'n_jobs': 4, 'nthread': None, 'objective': 'reg:logistic', 'random_state': 719, 'reg_alpha': 0.45, 'reg_lambda': 0.9, 'scale_pos_weight': 1, 'seed': None, 'silent': True, 'subsample': 0.95}\n",
      "{'reg_alpha': 0.45, 'reg_lambda': 0.9} 0.236286648103\n",
      "Fitting params:\n",
      " {'base_score': 0.5, 'booster': 'gbtree', 'colsample_bylevel': 1, 'colsample_bytree': 0.65, 'gamma': 0.2, 'learning_rate': 0.1, 'max_delta_step': 0, 'max_depth': 10, 'min_child_weight': 8, 'missing': None, 'n_estimators': 120, 'n_jobs': 4, 'nthread': None, 'objective': 'reg:logistic', 'random_state': 719, 'reg_alpha': 0.45, 'reg_lambda': 0.85, 'scale_pos_weight': 1, 'seed': None, 'silent': True, 'subsample': 0.95}\n",
      "{'reg_alpha': 0.45, 'reg_lambda': 0.85} 0.236284821176\n",
      "Best param: {'reg_alpha': 0.6, 'reg_lambda': 1.0} \n",
      "score: 0.236200425001\n"
     ]
    }
   ],
   "source": [
    "md = xgb.XGBRegressor(random_state=719, subsample=.95, colsample_bytree=.65, n_estimators=120, \n",
    "                    max_depth=10, n_jobs=4, min_child_weight=8, gamma=0.2, booster='gbtree',\n",
    "                    objective='reg:logistic')\n",
    "\n",
    "params = {\n",
    "    'reg_alpha': [.75, .7, .65, .6, .55, .5, .45],\n",
    "    'reg_lambda': [1., .95, .9, .85]\n",
    "}\n",
    "\n",
    "simple_train_test_eval(md, tf_idf_train_features, train_y, params)"
   ]
  },
  {
   "cell_type": "code",
   "execution_count": 18,
   "metadata": {
    "collapsed": true
   },
   "outputs": [
    {
     "name": "stdout",
     "output_type": "stream",
     "text": [
      "Fitting params:\n",
      " {'base_score': 0.5, 'booster': 'gbtree', 'colsample_bylevel': 1, 'colsample_bytree': 0.65, 'gamma': 0.2, 'learning_rate': 0.1, 'max_delta_step': 0, 'max_depth': 10, 'min_child_weight': 8, 'missing': None, 'n_estimators': 120, 'n_jobs': 4, 'nthread': None, 'objective': 'reg:logistic', 'random_state': 719, 'reg_alpha': 0.6, 'reg_lambda': 1.0, 'scale_pos_weight': 1, 'seed': None, 'silent': True, 'subsample': 0.95}\n",
      "{'learning_rate': 0.1, 'n_estimators': 120} 0.236200425001\n",
      "Fitting params:\n",
      " {'base_score': 0.5, 'booster': 'gbtree', 'colsample_bylevel': 1, 'colsample_bytree': 0.65, 'gamma': 0.2, 'learning_rate': 0.1, 'max_delta_step': 0, 'max_depth': 10, 'min_child_weight': 8, 'missing': None, 'n_estimators': 160, 'n_jobs': 4, 'nthread': None, 'objective': 'reg:logistic', 'random_state': 719, 'reg_alpha': 0.6, 'reg_lambda': 1.0, 'scale_pos_weight': 1, 'seed': None, 'silent': True, 'subsample': 0.95}\n",
      "{'learning_rate': 0.1, 'n_estimators': 160} 0.236083775525\n",
      "Fitting params:\n",
      " {'base_score': 0.5, 'booster': 'gbtree', 'colsample_bylevel': 1, 'colsample_bytree': 0.65, 'gamma': 0.2, 'learning_rate': 0.1, 'max_delta_step': 0, 'max_depth': 10, 'min_child_weight': 8, 'missing': None, 'n_estimators': 200, 'n_jobs': 4, 'nthread': None, 'objective': 'reg:logistic', 'random_state': 719, 'reg_alpha': 0.6, 'reg_lambda': 1.0, 'scale_pos_weight': 1, 'seed': None, 'silent': True, 'subsample': 0.95}\n",
      "{'learning_rate': 0.1, 'n_estimators': 200} 0.236038868329\n",
      "Fitting params:\n",
      " {'base_score': 0.5, 'booster': 'gbtree', 'colsample_bylevel': 1, 'colsample_bytree': 0.65, 'gamma': 0.2, 'learning_rate': 0.1, 'max_delta_step': 0, 'max_depth': 10, 'min_child_weight': 8, 'missing': None, 'n_estimators': 300, 'n_jobs': 4, 'nthread': None, 'objective': 'reg:logistic', 'random_state': 719, 'reg_alpha': 0.6, 'reg_lambda': 1.0, 'scale_pos_weight': 1, 'seed': None, 'silent': True, 'subsample': 0.95}\n",
      "{'learning_rate': 0.1, 'n_estimators': 300} 0.235986903264\n",
      "Fitting params:\n",
      " {'base_score': 0.5, 'booster': 'gbtree', 'colsample_bylevel': 1, 'colsample_bytree': 0.65, 'gamma': 0.2, 'learning_rate': 0.1, 'max_delta_step': 0, 'max_depth': 10, 'min_child_weight': 8, 'missing': None, 'n_estimators': 400, 'n_jobs': 4, 'nthread': None, 'objective': 'reg:logistic', 'random_state': 719, 'reg_alpha': 0.6, 'reg_lambda': 1.0, 'scale_pos_weight': 1, 'seed': None, 'silent': True, 'subsample': 0.95}\n",
      "{'learning_rate': 0.1, 'n_estimators': 400} 0.23605882999\n",
      "Fitting params:\n",
      " {'base_score': 0.5, 'booster': 'gbtree', 'colsample_bylevel': 1, 'colsample_bytree': 0.65, 'gamma': 0.2, 'learning_rate': 0.05, 'max_delta_step': 0, 'max_depth': 10, 'min_child_weight': 8, 'missing': None, 'n_estimators': 120, 'n_jobs': 4, 'nthread': None, 'objective': 'reg:logistic', 'random_state': 719, 'reg_alpha': 0.6, 'reg_lambda': 1.0, 'scale_pos_weight': 1, 'seed': None, 'silent': True, 'subsample': 0.95}\n",
      "{'learning_rate': 0.05, 'n_estimators': 120} 0.2365525799\n",
      "Fitting params:\n",
      " {'base_score': 0.5, 'booster': 'gbtree', 'colsample_bylevel': 1, 'colsample_bytree': 0.65, 'gamma': 0.2, 'learning_rate': 0.05, 'max_delta_step': 0, 'max_depth': 10, 'min_child_weight': 8, 'missing': None, 'n_estimators': 160, 'n_jobs': 4, 'nthread': None, 'objective': 'reg:logistic', 'random_state': 719, 'reg_alpha': 0.6, 'reg_lambda': 1.0, 'scale_pos_weight': 1, 'seed': None, 'silent': True, 'subsample': 0.95}\n",
      "{'learning_rate': 0.05, 'n_estimators': 160} 0.236262607811\n",
      "Fitting params:\n",
      " {'base_score': 0.5, 'booster': 'gbtree', 'colsample_bylevel': 1, 'colsample_bytree': 0.65, 'gamma': 0.2, 'learning_rate': 0.05, 'max_delta_step': 0, 'max_depth': 10, 'min_child_weight': 8, 'missing': None, 'n_estimators': 200, 'n_jobs': 4, 'nthread': None, 'objective': 'reg:logistic', 'random_state': 719, 'reg_alpha': 0.6, 'reg_lambda': 1.0, 'scale_pos_weight': 1, 'seed': None, 'silent': True, 'subsample': 0.95}\n"
     ]
    },
    {
     "ename": "KeyboardInterrupt",
     "evalue": "",
     "output_type": "error",
     "traceback": [
      "\u001b[1;31m---------------------------------------------------------------------------\u001b[0m",
      "\u001b[1;31mKeyboardInterrupt\u001b[0m                         Traceback (most recent call last)",
      "\u001b[1;32m<ipython-input-18-3bc31dd854e2>\u001b[0m in \u001b[0;36m<module>\u001b[1;34m()\u001b[0m\n\u001b[0;32m      8\u001b[0m }\n\u001b[0;32m      9\u001b[0m \u001b[1;33m\u001b[0m\u001b[0m\n\u001b[1;32m---> 10\u001b[1;33m \u001b[0msimple_train_test_eval\u001b[0m\u001b[1;33m(\u001b[0m\u001b[0mmd\u001b[0m\u001b[1;33m,\u001b[0m \u001b[0mtf_idf_train_features\u001b[0m\u001b[1;33m,\u001b[0m \u001b[0mtrain_y\u001b[0m\u001b[1;33m,\u001b[0m \u001b[0mparams\u001b[0m\u001b[1;33m)\u001b[0m\u001b[1;33m\u001b[0m\u001b[0m\n\u001b[0m",
      "\u001b[1;32m<ipython-input-14-145b90e389a5>\u001b[0m in \u001b[0;36msimple_train_test_eval\u001b[1;34m(model, X, y, params)\u001b[0m\n\u001b[0;32m     11\u001b[0m         \u001b[0mprint\u001b[0m\u001b[1;33m(\u001b[0m\u001b[1;34m'Fitting params:\\n'\u001b[0m\u001b[1;33m,\u001b[0m \u001b[0mold_params\u001b[0m\u001b[1;33m)\u001b[0m\u001b[1;33m\u001b[0m\u001b[0m\n\u001b[0;32m     12\u001b[0m         \u001b[0mmd\u001b[0m\u001b[1;33m.\u001b[0m\u001b[0mset_params\u001b[0m\u001b[1;33m(\u001b[0m\u001b[1;33m**\u001b[0m\u001b[0mold_params\u001b[0m\u001b[1;33m)\u001b[0m\u001b[1;33m\u001b[0m\u001b[0m\n\u001b[1;32m---> 13\u001b[1;33m         \u001b[0mmd\u001b[0m\u001b[1;33m.\u001b[0m\u001b[0mfit\u001b[0m\u001b[1;33m(\u001b[0m\u001b[0mtr_X\u001b[0m\u001b[1;33m,\u001b[0m \u001b[0mtr_y\u001b[0m\u001b[1;33m)\u001b[0m\u001b[1;33m\u001b[0m\u001b[0m\n\u001b[0m\u001b[0;32m     14\u001b[0m         \u001b[0mscore\u001b[0m \u001b[1;33m=\u001b[0m \u001b[0mclip_rmse\u001b[0m\u001b[1;33m(\u001b[0m\u001b[0mval_y\u001b[0m\u001b[1;33m,\u001b[0m \u001b[0mmd\u001b[0m\u001b[1;33m.\u001b[0m\u001b[0mpredict\u001b[0m\u001b[1;33m(\u001b[0m\u001b[0mval_X\u001b[0m\u001b[1;33m)\u001b[0m\u001b[1;33m)\u001b[0m\u001b[1;33m\u001b[0m\u001b[0m\n\u001b[0;32m     15\u001b[0m         \u001b[0mprint\u001b[0m\u001b[1;33m(\u001b[0m\u001b[0mparam\u001b[0m\u001b[1;33m,\u001b[0m \u001b[0mscore\u001b[0m\u001b[1;33m)\u001b[0m\u001b[1;33m\u001b[0m\u001b[0m\n",
      "\u001b[1;32m~\\Anaconda3\\lib\\site-packages\\xgboost-0.6-py3.6.egg\\xgboost\\sklearn.py\u001b[0m in \u001b[0;36mfit\u001b[1;34m(self, X, y, sample_weight, eval_set, eval_metric, early_stopping_rounds, verbose, xgb_model)\u001b[0m\n\u001b[0;32m    292\u001b[0m                               \u001b[0mearly_stopping_rounds\u001b[0m\u001b[1;33m=\u001b[0m\u001b[0mearly_stopping_rounds\u001b[0m\u001b[1;33m,\u001b[0m\u001b[1;33m\u001b[0m\u001b[0m\n\u001b[0;32m    293\u001b[0m                               \u001b[0mevals_result\u001b[0m\u001b[1;33m=\u001b[0m\u001b[0mevals_result\u001b[0m\u001b[1;33m,\u001b[0m \u001b[0mobj\u001b[0m\u001b[1;33m=\u001b[0m\u001b[0mobj\u001b[0m\u001b[1;33m,\u001b[0m \u001b[0mfeval\u001b[0m\u001b[1;33m=\u001b[0m\u001b[0mfeval\u001b[0m\u001b[1;33m,\u001b[0m\u001b[1;33m\u001b[0m\u001b[0m\n\u001b[1;32m--> 294\u001b[1;33m                               verbose_eval=verbose, xgb_model=xgb_model)\n\u001b[0m\u001b[0;32m    295\u001b[0m \u001b[1;33m\u001b[0m\u001b[0m\n\u001b[0;32m    296\u001b[0m         \u001b[1;32mif\u001b[0m \u001b[0mevals_result\u001b[0m\u001b[1;33m:\u001b[0m\u001b[1;33m\u001b[0m\u001b[0m\n",
      "\u001b[1;32m~\\Anaconda3\\lib\\site-packages\\xgboost-0.6-py3.6.egg\\xgboost\\training.py\u001b[0m in \u001b[0;36mtrain\u001b[1;34m(params, dtrain, num_boost_round, evals, obj, feval, maximize, early_stopping_rounds, evals_result, verbose_eval, xgb_model, callbacks, learning_rates)\u001b[0m\n\u001b[0;32m    202\u001b[0m                            \u001b[0mevals\u001b[0m\u001b[1;33m=\u001b[0m\u001b[0mevals\u001b[0m\u001b[1;33m,\u001b[0m\u001b[1;33m\u001b[0m\u001b[0m\n\u001b[0;32m    203\u001b[0m                            \u001b[0mobj\u001b[0m\u001b[1;33m=\u001b[0m\u001b[0mobj\u001b[0m\u001b[1;33m,\u001b[0m \u001b[0mfeval\u001b[0m\u001b[1;33m=\u001b[0m\u001b[0mfeval\u001b[0m\u001b[1;33m,\u001b[0m\u001b[1;33m\u001b[0m\u001b[0m\n\u001b[1;32m--> 204\u001b[1;33m                            xgb_model=xgb_model, callbacks=callbacks)\n\u001b[0m\u001b[0;32m    205\u001b[0m \u001b[1;33m\u001b[0m\u001b[0m\n\u001b[0;32m    206\u001b[0m \u001b[1;33m\u001b[0m\u001b[0m\n",
      "\u001b[1;32m~\\Anaconda3\\lib\\site-packages\\xgboost-0.6-py3.6.egg\\xgboost\\training.py\u001b[0m in \u001b[0;36m_train_internal\u001b[1;34m(params, dtrain, num_boost_round, evals, obj, feval, xgb_model, callbacks)\u001b[0m\n\u001b[0;32m     72\u001b[0m         \u001b[1;31m# Skip the first update if it is a recovery step.\u001b[0m\u001b[1;33m\u001b[0m\u001b[1;33m\u001b[0m\u001b[0m\n\u001b[0;32m     73\u001b[0m         \u001b[1;32mif\u001b[0m \u001b[0mversion\u001b[0m \u001b[1;33m%\u001b[0m \u001b[1;36m2\u001b[0m \u001b[1;33m==\u001b[0m \u001b[1;36m0\u001b[0m\u001b[1;33m:\u001b[0m\u001b[1;33m\u001b[0m\u001b[0m\n\u001b[1;32m---> 74\u001b[1;33m             \u001b[0mbst\u001b[0m\u001b[1;33m.\u001b[0m\u001b[0mupdate\u001b[0m\u001b[1;33m(\u001b[0m\u001b[0mdtrain\u001b[0m\u001b[1;33m,\u001b[0m \u001b[0mi\u001b[0m\u001b[1;33m,\u001b[0m \u001b[0mobj\u001b[0m\u001b[1;33m)\u001b[0m\u001b[1;33m\u001b[0m\u001b[0m\n\u001b[0m\u001b[0;32m     75\u001b[0m             \u001b[0mbst\u001b[0m\u001b[1;33m.\u001b[0m\u001b[0msave_rabit_checkpoint\u001b[0m\u001b[1;33m(\u001b[0m\u001b[1;33m)\u001b[0m\u001b[1;33m\u001b[0m\u001b[0m\n\u001b[0;32m     76\u001b[0m             \u001b[0mversion\u001b[0m \u001b[1;33m+=\u001b[0m \u001b[1;36m1\u001b[0m\u001b[1;33m\u001b[0m\u001b[0m\n",
      "\u001b[1;32m~\\Anaconda3\\lib\\site-packages\\xgboost-0.6-py3.6.egg\\xgboost\\core.py\u001b[0m in \u001b[0;36mupdate\u001b[1;34m(self, dtrain, iteration, fobj)\u001b[0m\n\u001b[0;32m    894\u001b[0m         \u001b[1;32mif\u001b[0m \u001b[0mfobj\u001b[0m \u001b[1;32mis\u001b[0m \u001b[1;32mNone\u001b[0m\u001b[1;33m:\u001b[0m\u001b[1;33m\u001b[0m\u001b[0m\n\u001b[0;32m    895\u001b[0m             _check_call(_LIB.XGBoosterUpdateOneIter(self.handle, ctypes.c_int(iteration),\n\u001b[1;32m--> 896\u001b[1;33m                                                     dtrain.handle))\n\u001b[0m\u001b[0;32m    897\u001b[0m         \u001b[1;32melse\u001b[0m\u001b[1;33m:\u001b[0m\u001b[1;33m\u001b[0m\u001b[0m\n\u001b[0;32m    898\u001b[0m             \u001b[0mpred\u001b[0m \u001b[1;33m=\u001b[0m \u001b[0mself\u001b[0m\u001b[1;33m.\u001b[0m\u001b[0mpredict\u001b[0m\u001b[1;33m(\u001b[0m\u001b[0mdtrain\u001b[0m\u001b[1;33m)\u001b[0m\u001b[1;33m\u001b[0m\u001b[0m\n",
      "\u001b[1;31mKeyboardInterrupt\u001b[0m: "
     ]
    }
   ],
   "source": [
    "md = xgb.XGBRegressor(random_state=719, subsample=.95, colsample_bytree=.65, n_estimators=120, \n",
    "                    max_depth=10, n_jobs=4, min_child_weight=8, gamma=0.2, booster='gbtree',\n",
    "                    objective='reg:logistic', reg_alpha=.6, reg_lambda=1.)\n",
    "\n",
    "params = {\n",
    "    'n_estimators': [120, 160, 200, 300, 400],\n",
    "    'learning_rate': [0.1, .05, .001]\n",
    "}\n",
    "\n",
    "simple_train_test_eval(md, tf_idf_train_features, train_y, params)"
   ]
  },
  {
   "cell_type": "code",
   "execution_count": 11,
   "metadata": {
    "collapsed": true
   },
   "outputs": [
    {
     "name": "stdout",
     "output_type": "stream",
     "text": [
      "Fitting params:\n",
      " {'base_score': 0.5, 'booster': 'gbtree', 'colsample_bylevel': 1, 'colsample_bytree': 0.65, 'gamma': 0.2, 'learning_rate': 0.05, 'max_delta_step': 0, 'max_depth': 10, 'min_child_weight': 8, 'missing': None, 'n_estimators': 300, 'n_jobs': 4, 'nthread': None, 'objective': 'reg:logistic', 'random_state': 719, 'reg_alpha': 0.6, 'reg_lambda': 1.0, 'scale_pos_weight': 1, 'seed': None, 'silent': True, 'subsample': 0.95}\n",
      "{'learning_rate': 0.05, 'n_estimators': 300} 0.235845330163\n",
      "Fitting params:\n",
      " {'base_score': 0.5, 'booster': 'gbtree', 'colsample_bylevel': 1, 'colsample_bytree': 0.65, 'gamma': 0.2, 'learning_rate': 0.05, 'max_delta_step': 0, 'max_depth': 10, 'min_child_weight': 8, 'missing': None, 'n_estimators': 400, 'n_jobs': 4, 'nthread': None, 'objective': 'reg:logistic', 'random_state': 719, 'reg_alpha': 0.6, 'reg_lambda': 1.0, 'scale_pos_weight': 1, 'seed': None, 'silent': True, 'subsample': 0.95}\n",
      "{'learning_rate': 0.05, 'n_estimators': 400} 0.235708395236\n",
      "Fitting params:\n",
      " {'base_score': 0.5, 'booster': 'gbtree', 'colsample_bylevel': 1, 'colsample_bytree': 0.65, 'gamma': 0.2, 'learning_rate': 0.001, 'max_delta_step': 0, 'max_depth': 10, 'min_child_weight': 8, 'missing': None, 'n_estimators': 300, 'n_jobs': 4, 'nthread': None, 'objective': 'reg:logistic', 'random_state': 719, 'reg_alpha': 0.6, 'reg_lambda': 1.0, 'scale_pos_weight': 1, 'seed': None, 'silent': True, 'subsample': 0.95}\n",
      "{'learning_rate': 0.001, 'n_estimators': 300} 0.367370177866\n",
      "Fitting params:\n",
      " {'base_score': 0.5, 'booster': 'gbtree', 'colsample_bylevel': 1, 'colsample_bytree': 0.65, 'gamma': 0.2, 'learning_rate': 0.001, 'max_delta_step': 0, 'max_depth': 10, 'min_child_weight': 8, 'missing': None, 'n_estimators': 400, 'n_jobs': 4, 'nthread': None, 'objective': 'reg:logistic', 'random_state': 719, 'reg_alpha': 0.6, 'reg_lambda': 1.0, 'scale_pos_weight': 1, 'seed': None, 'silent': True, 'subsample': 0.95}\n",
      "{'learning_rate': 0.001, 'n_estimators': 400} 0.347862927114\n",
      "Best param: {'learning_rate': 0.05, 'n_estimators': 400} \n",
      "score: 0.235708395236\n"
     ]
    }
   ],
   "source": [
    "md = xgb.XGBRegressor(random_state=719, subsample=.95, colsample_bytree=.65, n_estimators=120, \n",
    "                    max_depth=10, n_jobs=4, min_child_weight=8, gamma=0.2, booster='gbtree',\n",
    "                    objective='reg:logistic', reg_alpha=.6, reg_lambda=1.)\n",
    "\n",
    "params = [\n",
    "    {\n",
    "        'n_estimators': [300, 400],\n",
    "        'learning_rate': [.05]\n",
    "    },\n",
    "    {\n",
    "        'n_estimators': [300, 400],\n",
    "        'learning_rate': [.001]\n",
    "    }\n",
    "]\n",
    "\n",
    "simple_train_test_eval(md, tf_idf_train_features, train_y, params)"
   ]
  },
  {
   "cell_type": "markdown",
   "metadata": {},
   "source": [
    "## Stage 6  Gen OOF Predictions and Top 10 TFIDF Features"
   ]
  },
  {
   "cell_type": "code",
   "execution_count": 7,
   "metadata": {
    "collapsed": true
   },
   "outputs": [],
   "source": [
    "from sklearn.linear_model import Ridge\n",
    "import xgboost as xgb\n",
    "from sklearn.model_selection import KFold, GridSearchCV, ParameterGrid, train_test_split\n",
    "from sklearn.metrics import mean_squared_error, make_scorer\n",
    "from copy import deepcopy as cp\n",
    "import pickle\n",
    "import gc; gc.enable()\n",
    "from sklearn.decomposition import TruncatedSVD\n",
    "import pandas as pd\n",
    "import numpy as np"
   ]
  },
  {
   "cell_type": "code",
   "execution_count": 3,
   "metadata": {
    "collapsed": true
   },
   "outputs": [],
   "source": [
    "kf = KFold(random_state=719, n_splits=5)"
   ]
  },
  {
   "cell_type": "code",
   "execution_count": 5,
   "metadata": {
    "collapsed": true
   },
   "outputs": [],
   "source": [
    "def gen_oof_predictions(model, X, y, test_X):\n",
    "    oof_pred = np.zeros((X.shape[0],))\n",
    "    oof_test_pred = np.zeros((test_X.shape[0],))\n",
    "    \n",
    "    counter = 1\n",
    "    for train_index, val_index in kf.split(X):\n",
    "        md = cp(model)\n",
    "        md.fit(X[train_index], y[train_index])\n",
    "        oof_pred[val_index] = md.predict(X[val_index])\n",
    "        oof_test_pred += md.predict(test_X)\n",
    "        counter += 1\n",
    "        \n",
    "    oof_test_pred /= counter\n",
    "    return {\n",
    "        'oof_pred': oof_pred,\n",
    "        'oof_test_pred': oof_test_pred\n",
    "    }"
   ]
  },
  {
   "cell_type": "code",
   "execution_count": 8,
   "metadata": {},
   "outputs": [
    {
     "name": "stdout",
     "output_type": "stream",
     "text": [
      "1503424\n"
     ]
    }
   ],
   "source": [
    "with open('text_all_features_svd.pickle', 'rb') as handle:\n",
    "    tf_idf_features = pickle.load(handle)\n",
    "\n",
    "train_df = pd.read_csv(\"data/train.csv\", usecols=['deal_probability'])\n",
    "train_len = train_df.shape[0]\n",
    "train_y = train_df['deal_probability'].values\n",
    "del train_df\n",
    "print(train_len)\n",
    "\n",
    "tf_idf_train_features = tf_idf_features[:train_len,:]\n",
    "tf_idf_test_features = tf_idf_features[train_len:,:]"
   ]
  },
  {
   "cell_type": "code",
   "execution_count": 10,
   "metadata": {
    "collapsed": true
   },
   "outputs": [],
   "source": [
    "model_list = [('ridge', Ridge(alpha=.05)),\n",
    "              ('xgb', xgb.XGBRegressor(random_state=719, subsample=.95, colsample_bytree=.65, \n",
    "                                       learning_rate=0.05, n_estimators=120, \n",
    "                                       max_depth=10, n_jobs=4, min_child_weight=8, gamma=0.2, booster='gbtree',\n",
    "                                       objective='reg:logistic', reg_alpha=.6, reg_lambda=1.))]\n",
    "\n",
    "oof_df = pd.DataFrame()\n",
    "oof_test_df = pd.DataFrame()\n",
    "for model_name, model in model_list:\n",
    "    res = gen_oof_predictions(model, tf_idf_train_features, train_y, tf_idf_test_features)\n",
    "    oof_df[model_name + '_oof_pred'] = res['oof_pred']\n",
    "    oof_test_df[model_name + '_oof_pred'] = res['oof_test_pred']\n",
    "    \n",
    "oof_df.to_csv('text_oof_pred.csv', index=False)\n",
    "oof_test_df.to_csv('text_oof_pred_test.csv', index=False)"
   ]
  },
  {
   "cell_type": "code",
   "execution_count": 11,
   "metadata": {},
   "outputs": [
    {
     "ename": "TypeError",
     "evalue": "__init__() got an unexpected keyword argument 'column'",
     "output_type": "error",
     "traceback": [
      "\u001b[1;31m---------------------------------------------------------------------------\u001b[0m",
      "\u001b[1;31mTypeError\u001b[0m                                 Traceback (most recent call last)",
      "\u001b[1;32m<ipython-input-11-48bf708824be>\u001b[0m in \u001b[0;36m<module>\u001b[1;34m()\u001b[0m\n\u001b[0;32m      7\u001b[0m \u001b[0mtf_idf_features\u001b[0m \u001b[1;33m=\u001b[0m \u001b[0mTruncatedSVD\u001b[0m\u001b[1;33m(\u001b[0m\u001b[0mn_components\u001b[0m\u001b[1;33m=\u001b[0m\u001b[0mtop_N\u001b[0m\u001b[1;33m,\u001b[0m \u001b[0mrandom_state\u001b[0m\u001b[1;33m=\u001b[0m\u001b[1;36m719\u001b[0m\u001b[1;33m,\u001b[0m \u001b[0malgorithm\u001b[0m\u001b[1;33m=\u001b[0m\u001b[1;34m'arpack'\u001b[0m\u001b[1;33m)\u001b[0m\u001b[1;33m.\u001b[0m\u001b[0mfit_transform\u001b[0m\u001b[1;33m(\u001b[0m\u001b[0mtf_idf_features\u001b[0m\u001b[1;33m)\u001b[0m\u001b[1;33m\u001b[0m\u001b[0m\n\u001b[0;32m      8\u001b[0m \u001b[0mfeature_cols\u001b[0m \u001b[1;33m=\u001b[0m \u001b[1;33m[\u001b[0m\u001b[1;34m'f_'\u001b[0m\u001b[1;33m+\u001b[0m\u001b[0mstr\u001b[0m\u001b[1;33m(\u001b[0m\u001b[0mi\u001b[0m\u001b[1;33m+\u001b[0m\u001b[1;36m1\u001b[0m\u001b[1;33m)\u001b[0m \u001b[1;32mfor\u001b[0m \u001b[0mi\u001b[0m \u001b[1;32min\u001b[0m \u001b[0mrange\u001b[0m\u001b[1;33m(\u001b[0m\u001b[0mtop_N\u001b[0m\u001b[1;33m)\u001b[0m\u001b[1;33m]\u001b[0m\u001b[1;33m\u001b[0m\u001b[0m\n\u001b[1;32m----> 9\u001b[1;33m \u001b[0mpd\u001b[0m\u001b[1;33m.\u001b[0m\u001b[0mDataFrame\u001b[0m\u001b[1;33m(\u001b[0m\u001b[0mdata\u001b[0m\u001b[1;33m=\u001b[0m\u001b[0mtf_idf_features\u001b[0m\u001b[1;33m[\u001b[0m\u001b[1;33m:\u001b[0m\u001b[0mtrain_len\u001b[0m\u001b[1;33m,\u001b[0m\u001b[1;33m:\u001b[0m\u001b[1;33m]\u001b[0m\u001b[1;33m,\u001b[0m \u001b[0mcolumn\u001b[0m\u001b[1;33m=\u001b[0m\u001b[0mfeature_cols\u001b[0m\u001b[1;33m)\u001b[0m\u001b[1;33m.\u001b[0m\u001b[0mto_csv\u001b[0m\u001b[1;33m(\u001b[0m\u001b[1;34m'tf_idf_top_{}_train.csv'\u001b[0m\u001b[1;33m.\u001b[0m\u001b[0mformat\u001b[0m\u001b[1;33m(\u001b[0m\u001b[0mtop_N\u001b[0m\u001b[1;33m)\u001b[0m\u001b[1;33m,\u001b[0m \u001b[0mindex\u001b[0m\u001b[1;33m=\u001b[0m\u001b[1;32mFalse\u001b[0m\u001b[1;33m)\u001b[0m\u001b[1;33m\u001b[0m\u001b[0m\n\u001b[0m\u001b[0;32m     10\u001b[0m \u001b[0mpd\u001b[0m\u001b[1;33m.\u001b[0m\u001b[0mDataFrame\u001b[0m\u001b[1;33m(\u001b[0m\u001b[0mdata\u001b[0m\u001b[1;33m=\u001b[0m\u001b[0mtf_idf_features\u001b[0m\u001b[1;33m[\u001b[0m\u001b[0mtrain_len\u001b[0m\u001b[1;33m:\u001b[0m\u001b[1;33m,\u001b[0m\u001b[1;33m:\u001b[0m\u001b[1;33m]\u001b[0m\u001b[1;33m,\u001b[0m \u001b[0mcolumn\u001b[0m\u001b[1;33m=\u001b[0m\u001b[0mfeature_cols\u001b[0m\u001b[1;33m)\u001b[0m\u001b[1;33m.\u001b[0m\u001b[0mto_csv\u001b[0m\u001b[1;33m(\u001b[0m\u001b[1;34m'tf_idf_top_{}_test.csv'\u001b[0m\u001b[1;33m.\u001b[0m\u001b[0mformat\u001b[0m\u001b[1;33m(\u001b[0m\u001b[0mtop_N\u001b[0m\u001b[1;33m)\u001b[0m\u001b[1;33m,\u001b[0m \u001b[0mindex\u001b[0m\u001b[1;33m=\u001b[0m\u001b[1;32mFalse\u001b[0m\u001b[1;33m)\u001b[0m\u001b[1;33m\u001b[0m\u001b[0m\n",
      "\u001b[1;31mTypeError\u001b[0m: __init__() got an unexpected keyword argument 'column'"
     ]
    }
   ],
   "source": [
    "with open('text_all_features.pickle', 'rb') as handle:\n",
    "    tf_idf_features = pickle.load(handle)\n",
    "    \n",
    "tf_idf_features = tf_idf_features[:, np.array(np.clip(tf_idf_features.getnnz(axis=0) - 5, 0, 1), dtype=bool)]; gc.collect()\n",
    "\n",
    "top_N=10\n",
    "tf_idf_features = TruncatedSVD(n_components=top_N, random_state=719, algorithm='arpack').fit_transform(tf_idf_features)\n"
   ]
  },
  {
   "cell_type": "code",
   "execution_count": 12,
   "metadata": {
    "collapsed": true
   },
   "outputs": [],
   "source": [
    "feature_cols = ['f_'+str(i+1) for i in range(top_N)]\n",
    "pd.DataFrame(data=tf_idf_features[:train_len,:], columns=feature_cols).to_csv('tf_idf_top_{}_train.csv'.format(top_N), index=False)\n",
    "pd.DataFrame(data=tf_idf_features[train_len:,:], columns=feature_cols).to_csv('tf_idf_top_{}_test.csv'.format(top_N), index=False)"
   ]
  }
 ],
 "metadata": {
  "kernelspec": {
   "display_name": "Python 3",
   "language": "python",
   "name": "python3"
  },
  "language_info": {
   "codemirror_mode": {
    "name": "ipython",
    "version": 3
   },
   "file_extension": ".py",
   "mimetype": "text/x-python",
   "name": "python",
   "nbconvert_exporter": "python",
   "pygments_lexer": "ipython3",
   "version": "3.6.2"
  }
 },
 "nbformat": 4,
 "nbformat_minor": 2
}
