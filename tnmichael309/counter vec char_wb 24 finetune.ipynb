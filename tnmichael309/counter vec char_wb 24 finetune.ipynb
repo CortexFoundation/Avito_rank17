{
 "cells": [
  {
   "cell_type": "code",
   "execution_count": 1,
   "metadata": {
    "collapsed": true
   },
   "outputs": [],
   "source": [
    "import pickle\n",
    "import pandas as pd\n",
    "import numpy as np\n",
    "import gc; gc.enable()\n",
    "from sklearn.decomposition import TruncatedSVD\n",
    "from scipy.sparse import hstack, load_npz"
   ]
  },
  {
   "cell_type": "code",
   "execution_count": 2,
   "metadata": {},
   "outputs": [],
   "source": [
    "'''\n",
    "with open('all_features.pickle', 'rb') as handle:\n",
    "    all_features = pickle.load(handle)\n",
    "'''      \n",
    "all_features = load_npz('all_features_cv_charwb24.npz')"
   ]
  },
  {
   "cell_type": "code",
   "execution_count": 3,
   "metadata": {},
   "outputs": [
    {
     "name": "stdout",
     "output_type": "stream",
     "text": [
      "1503424\n"
     ]
    }
   ],
   "source": [
    "train_y = pd.read_csv(\"regression_target.csv\")\n",
    "train_y = train_y['deal_probability'].values\n",
    "train_len = train_y.shape[0]\n",
    "print(train_len)"
   ]
  },
  {
   "cell_type": "code",
   "execution_count": 4,
   "metadata": {},
   "outputs": [
    {
     "data": {
      "text/plain": [
       "0"
      ]
     },
     "execution_count": 4,
     "metadata": {},
     "output_type": "execute_result"
    }
   ],
   "source": [
    "train_features = all_features[:train_len, :]\n",
    "del all_features; gc.collect()"
   ]
  },
  {
   "cell_type": "code",
   "execution_count": 5,
   "metadata": {
    "collapsed": true
   },
   "outputs": [],
   "source": [
    "from sklearn.linear_model import Ridge\n",
    "from sklearn.model_selection import KFold, GridSearchCV, ParameterGrid, train_test_split\n",
    "from sklearn.metrics import mean_squared_error, make_scorer\n",
    "from copy import deepcopy as cp\n",
    "from wordbatch.models import FM_FTRL"
   ]
  },
  {
   "cell_type": "code",
   "execution_count": 6,
   "metadata": {
    "collapsed": true
   },
   "outputs": [],
   "source": [
    "def clip_rmse(ground_truth, predictions):\n",
    "    predictions = np.clip(predictions, 0., 1.)\n",
    "    return mean_squared_error(ground_truth, predictions)**.5\n",
    "\n",
    "clip_rmse_scorer = make_scorer(clip_rmse, greater_is_better=False)"
   ]
  },
  {
   "cell_type": "code",
   "execution_count": 7,
   "metadata": {
    "collapsed": true
   },
   "outputs": [],
   "source": [
    "def simple_train_val_split_eval(default_params, X, y, params, partial_sample=False):\n",
    "    train_len = int(X.shape[0]*.7)\n",
    "    tr_X, tr_y = X[:train_len, :], y[:train_len]\n",
    "    val_X, val_y = X[train_len:], y[train_len:]\n",
    "    \n",
    "    if partial_sample is True:\n",
    "        tr_ix = np.random.choice(tr_X.shape[0], tr_X.shape[0]//3, replace=False)\n",
    "        val_ix = np.random.choice(val_X.shape[0], val_X.shape[0]//3, replace=False)\n",
    "        tr_X, tr_y = tr_X[tr_ix,:], tr_y[tr_ix]\n",
    "        val_X, val_y = val_X[val_ix,:], val_y[val_ix]\n",
    "        print('Selected hyper-tune data size', tr_X.shape, val_X.shape)\n",
    "        \n",
    "    min_score = None\n",
    "    best_param = None\n",
    "    for param in list(ParameterGrid(params)):\n",
    "        use_params = cp(default_params)\n",
    "        use_params.update(param)\n",
    "        print('Fitting params:\\n', use_params)\n",
    "        md = FM_FTRL(**use_params)\n",
    "        md.fit(tr_X, tr_y)\n",
    "        score = clip_rmse(val_y, md.predict(val_X))\n",
    "        print(param, score)\n",
    "        \n",
    "        if min_score is None or score < min_score:\n",
    "            best_param = param\n",
    "            min_score = score\n",
    "            \n",
    "    print('Best param:', best_param, '\\nscore:', min_score)"
   ]
  },
  {
   "cell_type": "code",
   "execution_count": 8,
   "metadata": {
    "collapsed": true
   },
   "outputs": [
    {
     "name": "stdout",
     "output_type": "stream",
     "text": [
      "Fitting params:\n",
      " {'alpha': 0.01, 'beta': 0.005, 'L1': 0.001, 'L2': 0.001, 'D': 290474, 'D_fm': 300, 'iters': 10, 'seed': 719, 'threads': 4, 'verbose': 1}\n",
      "Total e: 163063.3618462964\n",
      "Total e: 156914.66855343123\n",
      "Total e: 154858.2807489985\n",
      "Total e: 153433.38423532326\n",
      "Total e: 152304.7860509337\n",
      "Total e: 151350.3796709047\n",
      "Total e: 150512.01091463843\n",
      "Total e: 149757.37427453417\n",
      "Total e: 149066.11821889135\n",
      "Total e: 148424.23234910058\n",
      "{'alpha': 0.01} 0.224890068412\n",
      "Fitting params:\n",
      " {'alpha': 0.001, 'beta': 0.005, 'L1': 0.001, 'L2': 0.001, 'D': 290474, 'D_fm': 300, 'iters': 10, 'seed': 719, 'threads': 4, 'verbose': 1}\n",
      "Total e: 162605.8105925031\n",
      "Total e: 157812.66076918776\n",
      "Total e: 155917.88681468592\n",
      "Total e: 154583.23418639522\n",
      "Total e: 153523.56667509425\n",
      "Total e: 152628.44008139416\n",
      "Total e: 151844.48787003726\n",
      "Total e: 151139.73385797118\n",
      "Total e: 150495.25407863565\n",
      "Total e: 149898.1765089208\n",
      "{'alpha': 0.001} 0.225598261786\n",
      "Best param: {'alpha': 0.01} \n",
      "score: 0.224890068412\n"
     ]
    }
   ],
   "source": [
    "fmftrl_default_params = {\n",
    "    'alpha': .01,\n",
    "    'beta': .005,\n",
    "    'L1': 0.001,\n",
    "    'L2': 0.001,\n",
    "    'D': train_features.shape[1],\n",
    "    'D_fm': 300,\n",
    "    'iters': 10,\n",
    "    'seed': 719,\n",
    "    'threads': 4,\n",
    "    'verbose': 1\n",
    "}\n",
    "\n",
    "try_params = {\n",
    "        'alpha': [.01, .001]\n",
    "    }\n",
    "simple_train_val_split_eval(fmftrl_default_params, train_features, train_y, try_params, partial_sample=False)"
   ]
  },
  {
   "cell_type": "code",
   "execution_count": 9,
   "metadata": {
    "collapsed": true
   },
   "outputs": [
    {
     "name": "stdout",
     "output_type": "stream",
     "text": [
      "Fitting params:\n",
      " {'alpha': 0.1, 'beta': 0.005, 'L1': 0.001, 'L2': 0.001, 'D': 290474, 'D_fm': 300, 'iters': 10, 'seed': 719, 'threads': 4, 'verbose': 1}\n",
      "Total e: 180751.857340916\n",
      "Total e: 161812.29509048135\n",
      "Total e: 157461.54321299554\n",
      "Total e: 154873.23070013468\n",
      "Total e: 153010.4477423033\n",
      "Total e: 151543.26509903208\n",
      "Total e: 150323.42285623215\n",
      "Total e: 149272.9856554157\n",
      "Total e: 148345.26674285182\n",
      "Total e: 147509.73848324403\n",
      "{'alpha': 0.1} 0.231259183138\n",
      "Best param: {'alpha': 0.1} \n",
      "score: 0.231259183138\n"
     ]
    }
   ],
   "source": [
    "fmftrl_default_params = {\n",
    "    'alpha': .01,\n",
    "    'beta': .005,\n",
    "    'L1': 0.001,\n",
    "    'L2': 0.001,\n",
    "    'D': train_features.shape[1],\n",
    "    'D_fm': 300,\n",
    "    'iters': 10,\n",
    "    'seed': 719,\n",
    "    'threads': 4,\n",
    "    'verbose': 1\n",
    "}\n",
    "\n",
    "try_params = {\n",
    "        'alpha': [.1]\n",
    "    }\n",
    "simple_train_val_split_eval(fmftrl_default_params, train_features, train_y, try_params, partial_sample=False)"
   ]
  },
  {
   "cell_type": "code",
   "execution_count": 10,
   "metadata": {
    "collapsed": true
   },
   "outputs": [
    {
     "name": "stdout",
     "output_type": "stream",
     "text": [
      "Fitting params:\n",
      " {'alpha': 0.01, 'beta': 0.005, 'L1': 0.001, 'L2': 0.001, 'D': 290474, 'D_fm': 300, 'iters': 10, 'seed': 719, 'threads': 4, 'verbose': 1}\n",
      "Total e: 163063.3618462964\n",
      "Total e: 156914.66855343123\n",
      "Total e: 154858.2807489985\n",
      "Total e: 153433.38423532326\n",
      "Total e: 152304.7860509337\n",
      "Total e: 151350.3796709047\n",
      "Total e: 150512.01091463843\n",
      "Total e: 149757.37427453417\n",
      "Total e: 149066.11821889135\n",
      "Total e: 148424.23234910058\n",
      "{'beta': 0.005} 0.224890068412\n",
      "Fitting params:\n",
      " {'alpha': 0.01, 'beta': 0.001, 'L1': 0.001, 'L2': 0.001, 'D': 290474, 'D_fm': 300, 'iters': 10, 'seed': 719, 'threads': 4, 'verbose': 1}\n",
      "Total e: 163101.53399546698\n",
      "Total e: 156838.80302778535\n",
      "Total e: 154771.7558730107\n",
      "Total e: 153343.03419520726\n",
      "Total e: 152212.25317124857\n",
      "Total e: 151256.8919258996\n",
      "Total e: 150418.05760722962\n",
      "Total e: 149663.3395688035\n",
      "Total e: 148972.18146632958\n",
      "Total e: 148330.74288096902\n",
      "{'beta': 0.001} 0.22489554228\n",
      "Best param: {'beta': 0.005} \n",
      "score: 0.224890068412\n"
     ]
    }
   ],
   "source": [
    "fmftrl_default_params = {\n",
    "    'alpha': .01,\n",
    "    'beta': .005,\n",
    "    'L1': 0.001,\n",
    "    'L2': 0.001,\n",
    "    'D': train_features.shape[1],\n",
    "    'D_fm': 300,\n",
    "    'iters': 10,\n",
    "    'seed': 719,\n",
    "    'threads': 4,\n",
    "    'verbose': 1\n",
    "}\n",
    "try_params = {\n",
    "        'beta': [.005, .001]\n",
    "    }\n",
    "simple_train_val_split_eval(fmftrl_default_params, train_features, train_y, try_params, partial_sample=False)"
   ]
  },
  {
   "cell_type": "code",
   "execution_count": 11,
   "metadata": {
    "collapsed": true
   },
   "outputs": [
    {
     "name": "stdout",
     "output_type": "stream",
     "text": [
      "Fitting params:\n",
      " {'alpha': 0.01, 'beta': 0.0005, 'L1': 0.001, 'L2': 0.001, 'D': 290474, 'D_fm': 300, 'iters': 10, 'seed': 719, 'threads': 4, 'verbose': 1}\n",
      "Total e: 163110.32268786943\n",
      "Total e: 156827.42708784735\n",
      "Total e: 154758.7653412827\n",
      "Total e: 153329.55609989082\n",
      "Total e: 152198.49813185897\n",
      "Total e: 151242.98439171558\n",
      "Total e: 150404.10617235024\n",
      "Total e: 149649.39682084578\n",
      "Total e: 148958.25573596027\n",
      "Total e: 148316.91094742887\n",
      "{'beta': 0.0005} 0.224896557243\n",
      "Fitting params:\n",
      " {'alpha': 0.01, 'beta': 0.0001, 'L1': 0.001, 'L2': 0.001, 'D': 290474, 'D_fm': 300, 'iters': 10, 'seed': 719, 'threads': 4, 'verbose': 1}\n",
      "Total e: 163118.8749386491\n",
      "Total e: 156817.92773147917\n",
      "Total e: 154747.92515085213\n",
      "Total e: 153318.29524776665\n",
      "Total e: 152187.0293251961\n",
      "Total e: 151231.36420263376\n",
      "Total e: 150392.4748867633\n",
      "Total e: 149637.781688293\n",
      "Total e: 148946.6567057879\n",
      "Total e: 148305.41064221735\n",
      "{'beta': 0.0001} 0.224897380592\n",
      "Best param: {'beta': 0.0005} \n",
      "score: 0.224896557243\n"
     ]
    }
   ],
   "source": [
    "fmftrl_default_params = {\n",
    "    'alpha': .01,\n",
    "    'beta': .005,\n",
    "    'L1': 0.001,\n",
    "    'L2': 0.001,\n",
    "    'D': train_features.shape[1],\n",
    "    'D_fm': 300,\n",
    "    'iters': 10,\n",
    "    'seed': 719,\n",
    "    'threads': 4,\n",
    "    'verbose': 1\n",
    "}\n",
    "try_params = {\n",
    "        'beta': [.0005, .0001]\n",
    "    }\n",
    "simple_train_val_split_eval(fmftrl_default_params, train_features, train_y, try_params, partial_sample=False)"
   ]
  },
  {
   "cell_type": "code",
   "execution_count": 12,
   "metadata": {
    "scrolled": true
   },
   "outputs": [
    {
     "name": "stdout",
     "output_type": "stream",
     "text": [
      "Fitting params:\n",
      " {'alpha': 0.01, 'beta': 0.005, 'L1': 0.01, 'L2': 0.1, 'D': 290474, 'D_fm': 300, 'iters': 10, 'seed': 719, 'threads': 4, 'verbose': 1}\n",
      "Total e: 163034.7479374564\n",
      "Total e: 157005.05797724854\n",
      "Total e: 154947.10395502739\n",
      "Total e: 153519.0532631226\n",
      "Total e: 152387.47864025593\n",
      "Total e: 151430.40777908577\n",
      "Total e: 150589.76109507258\n",
      "Total e: 149832.98772239292\n",
      "Total e: 149139.9078763574\n",
      "Total e: 148496.1843945019\n",
      "{'L1': 0.01, 'L2': 0.1} 0.224885319254\n",
      "Fitting params:\n",
      " {'alpha': 0.01, 'beta': 0.005, 'L1': 0.01, 'L2': 0.01, 'D': 290474, 'D_fm': 300, 'iters': 10, 'seed': 719, 'threads': 4, 'verbose': 1}\n",
      "Total e: 163036.70433937426\n",
      "Total e: 156993.36497784834\n",
      "Total e: 154933.45061677208\n",
      "Total e: 153504.4533389069\n",
      "Total e: 152372.40129069093\n",
      "Total e: 151415.03517445936\n",
      "Total e: 150574.232804608\n",
      "Total e: 149817.36638561243\n",
      "Total e: 149124.27119566003\n",
      "Total e: 148480.5261968773\n",
      "{'L1': 0.01, 'L2': 0.01} 0.224885914704\n",
      "Fitting params:\n",
      " {'alpha': 0.01, 'beta': 0.005, 'L1': 0.01, 'L2': 0.001, 'D': 290474, 'D_fm': 300, 'iters': 10, 'seed': 719, 'threads': 4, 'verbose': 1}\n",
      "Total e: 163036.91221928617\n",
      "Total e: 156992.16519152108\n",
      "Total e: 154932.05042287146\n",
      "Total e: 153502.95693452813\n",
      "Total e: 152370.85643940538\n",
      "Total e: 151413.46117929762\n",
      "Total e: 150572.6428642273\n",
      "Total e: 149815.76835253712\n",
      "Total e: 149122.67040531\n",
      "Total e: 148478.9239200748\n",
      "{'L1': 0.01, 'L2': 0.001} 0.224885976012\n",
      "Fitting params:\n",
      " {'alpha': 0.01, 'beta': 0.005, 'L1': 0.001, 'L2': 0.1, 'D': 290474, 'D_fm': 300, 'iters': 10, 'seed': 719, 'threads': 4, 'verbose': 1}\n",
      "Total e: 163057.9983683522\n",
      "Total e: 156930.35438632907\n",
      "Total e: 154876.17325135088\n",
      "Total e: 153452.1910317402\n",
      "Total e: 152324.06028431907\n",
      "Total e: 151369.8879799685\n",
      "Total e: 150531.64504272505\n",
      "Total e: 149777.052112546\n",
      "Total e: 149085.7870021513\n",
      "Total e: 148443.83831743733\n",
      "{'L1': 0.001, 'L2': 0.1} 0.224889073634\n",
      "Fitting params:\n",
      " {'alpha': 0.01, 'beta': 0.005, 'L1': 0.001, 'L2': 0.01, 'D': 290474, 'D_fm': 300, 'iters': 10, 'seed': 719, 'threads': 4, 'verbose': 1}\n",
      "Total e: 163062.83576077086\n",
      "Total e: 156916.13020627678\n",
      "Total e: 154859.9489315581\n",
      "Total e: 153435.13576726866\n",
      "Total e: 152306.5816933231\n",
      "Total e: 151352.19699831802\n",
      "Total e: 150513.8392879068\n",
      "Total e: 149759.20663823388\n",
      "Total e: 149067.94926101837\n",
      "Total e: 148426.05602835157\n",
      "{'L1': 0.001, 'L2': 0.01} 0.224889975182\n",
      "Fitting params:\n",
      " {'alpha': 0.01, 'beta': 0.005, 'L1': 0.001, 'L2': 0.001, 'D': 290474, 'D_fm': 300, 'iters': 10, 'seed': 719, 'threads': 4, 'verbose': 1}\n",
      "Total e: 163063.3618462964\n",
      "Total e: 156914.66855343123\n",
      "Total e: 154858.2807489985\n",
      "Total e: 153433.38423532326\n",
      "Total e: 152304.7860509337\n",
      "Total e: 151350.3796709047\n",
      "Total e: 150512.01091463843\n",
      "Total e: 149757.37427453417\n",
      "Total e: 149066.11821889135\n",
      "Total e: 148424.23234910058\n",
      "{'L1': 0.001, 'L2': 0.001} 0.224890068412\n",
      "Best param: {'L1': 0.01, 'L2': 0.1} \n",
      "score: 0.224885319254\n"
     ]
    }
   ],
   "source": [
    "fmftrl_default_params = {\n",
    "    'alpha': .01,\n",
    "    'beta': .005,\n",
    "    'L1': 0.001,\n",
    "    'L2': 0.001,\n",
    "    'D': train_features.shape[1],\n",
    "    'D_fm': 300,\n",
    "    'iters': 10,\n",
    "    'seed': 719,\n",
    "    'threads': 4,\n",
    "    'verbose': 1\n",
    "}\n",
    "try_params = {\n",
    "        'L1': [.01, .001,],\n",
    "        'L2': [.1, .01, .001,]\n",
    "    }\n",
    "simple_train_val_split_eval(fmftrl_default_params, train_features, train_y, try_params, partial_sample=False)"
   ]
  },
  {
   "cell_type": "code",
   "execution_count": 13,
   "metadata": {
    "scrolled": true
   },
   "outputs": [
    {
     "name": "stdout",
     "output_type": "stream",
     "text": [
      "Fitting params:\n",
      " {'alpha': 0.01, 'beta': 0.0001, 'L1': 0.01, 'L2': 0.1, 'D': 290474, 'D_fm': 100, 'iters': 10, 'seed': 719, 'threads': 4, 'verbose': 1}\n",
      "Total e: 163080.2898204204\n",
      "Total e: 158098.66134580094\n",
      "Total e: 156406.49522797487\n",
      "Total e: 155236.65013112768\n",
      "Total e: 154310.2752139485\n",
      "Total e: 153527.8899524759\n",
      "Total e: 152841.7921186082\n",
      "Total e: 152225.26089406933\n",
      "Total e: 151661.80866681883\n",
      "Total e: 151140.24800353055\n",
      "{'D_fm': 100} 0.224856042164\n",
      "Fitting params:\n",
      " {'alpha': 0.01, 'beta': 0.0001, 'L1': 0.01, 'L2': 0.1, 'D': 290474, 'D_fm': 200, 'iters': 10, 'seed': 719, 'threads': 4, 'verbose': 1}\n",
      "Total e: 163029.8667666383\n",
      "Total e: 157443.96998070326\n",
      "Total e: 155538.34910638587\n",
      "Total e: 154218.02366526844\n",
      "Total e: 153172.2825135037\n",
      "Total e: 152288.66449432465\n",
      "Total e: 151513.26701948917\n",
      "Total e: 150815.27689637433\n",
      "Total e: 150176.71307262758\n",
      "Total e: 149584.32416828081\n",
      "{'D_fm': 200} 0.224836844616\n",
      "Fitting params:\n",
      " {'alpha': 0.01, 'beta': 0.0001, 'L1': 0.01, 'L2': 0.1, 'D': 290474, 'D_fm': 300, 'iters': 10, 'seed': 719, 'threads': 4, 'verbose': 1}\n",
      "Total e: 163049.6003581342\n",
      "Total e: 156933.10970725017\n",
      "Total e: 154863.05823292147\n",
      "Total e: 153429.44840636538\n",
      "Total e: 152295.11138957375\n",
      "Total e: 151336.45516348758\n",
      "Total e: 150494.90777595542\n",
      "Total e: 149737.79796379557\n",
      "Total e: 149044.52327648568\n",
      "Total e: 148400.8831844472\n",
      "{'D_fm': 300} 0.224889400348\n",
      "Fitting params:\n",
      " {'alpha': 0.01, 'beta': 0.0001, 'L1': 0.01, 'L2': 0.1, 'D': 290474, 'D_fm': 450, 'iters': 10, 'seed': 719, 'threads': 4, 'verbose': 1}\n",
      "Total e: 163183.58870186348\n",
      "Total e: 156281.22156723664\n",
      "Total e: 153989.52935106304\n",
      "Total e: 152407.73035025664\n",
      "Total e: 151156.89695259903\n",
      "Total e: 150100.46043070714\n",
      "Total e: 149173.45803138806\n",
      "Total e: 148339.47544089027\n",
      "Total e: 147575.69843252742\n",
      "Total e: 146868.33111317255\n",
      "{'D_fm': 450} 0.225020021314\n",
      "Fitting params:\n",
      " {'alpha': 0.01, 'beta': 0.0001, 'L1': 0.01, 'L2': 0.1, 'D': 290474, 'D_fm': 600, 'iters': 10, 'seed': 719, 'threads': 4, 'verbose': 1}\n",
      "Total e: 163441.5911122517\n",
      "Total e: 155789.6069710438\n",
      "Total e: 153292.958242773\n",
      "Total e: 151577.3863033649\n",
      "Total e: 150224.51832211975\n",
      "Total e: 149085.60206587872\n",
      "Total e: 148089.37062859908\n",
      "Total e: 147195.1059228526\n",
      "Total e: 146378.53766746575\n",
      "Total e: 145622.7194810402\n",
      "{'D_fm': 600} 0.225045418218\n",
      "Best param: {'D_fm': 200} \n",
      "score: 0.224836844616\n"
     ]
    }
   ],
   "source": [
    "fmftrl_default_params = {\n",
    "    'alpha': .01,\n",
    "    'beta': .0001,\n",
    "    'L1': 0.01,\n",
    "    'L2': 0.1,\n",
    "    'D': train_features.shape[1],\n",
    "    'D_fm': 300,\n",
    "    'iters': 10,\n",
    "    'seed': 719,\n",
    "    'threads': 4,\n",
    "    'verbose': 1\n",
    "}\n",
    "try_params = {\n",
    "        'D_fm': [100, 200, 300, 450, 600]\n",
    "    }\n",
    "simple_train_val_split_eval(fmftrl_default_params, train_features, train_y, try_params, partial_sample=False)"
   ]
  },
  {
   "cell_type": "code",
   "execution_count": 14,
   "metadata": {
    "scrolled": true
   },
   "outputs": [
    {
     "name": "stdout",
     "output_type": "stream",
     "text": [
      "Fitting params:\n",
      " {'alpha': 0.01, 'beta': 0.0001, 'L1': 0.01, 'L2': 0.1, 'D': 290474, 'D_fm': 200, 'iters': 5, 'seed': 719, 'threads': 4, 'verbose': 1}\n",
      "Total e: 163029.8667666383\n",
      "Total e: 157443.96998070326\n",
      "Total e: 155538.34910638587\n",
      "Total e: 154218.02366526844\n",
      "Total e: 153172.2825135037\n",
      "{'iters': 5} 0.225058620947\n",
      "Fitting params:\n",
      " {'alpha': 0.01, 'beta': 0.0001, 'L1': 0.01, 'L2': 0.1, 'D': 290474, 'D_fm': 200, 'iters': 10, 'seed': 719, 'threads': 4, 'verbose': 1}\n",
      "Total e: 163029.8667666383\n",
      "Total e: 157443.96998070326\n",
      "Total e: 155538.34910638587\n",
      "Total e: 154218.02366526844\n",
      "Total e: 153172.2825135037\n",
      "Total e: 152288.66449432465\n",
      "Total e: 151513.26701948917\n",
      "Total e: 150815.27689637433\n",
      "Total e: 150176.71307262758\n",
      "Total e: 149584.32416828081\n",
      "{'iters': 10} 0.224836844616\n",
      "Fitting params:\n",
      " {'alpha': 0.01, 'beta': 0.0001, 'L1': 0.01, 'L2': 0.1, 'D': 290474, 'D_fm': 200, 'iters': 15, 'seed': 719, 'threads': 4, 'verbose': 1}\n",
      "Total e: 163029.8667666383\n",
      "Total e: 157443.96998070326\n",
      "Total e: 155538.34910638587\n",
      "Total e: 154218.02366526844\n",
      "Total e: 153172.2825135037\n",
      "Total e: 152288.66449432465\n",
      "Total e: 151513.26701948917\n",
      "Total e: 150815.27689637433\n",
      "Total e: 150176.71307262758\n",
      "Total e: 149584.32416828081\n",
      "Total e: 149029.16960571692\n",
      "Total e: 148504.69968668013\n",
      "Total e: 148006.96309416354\n",
      "Total e: 147531.62964367037\n",
      "Total e: 147075.6746961593\n",
      "{'iters': 15} 0.225058416591\n",
      "Fitting params:\n",
      " {'alpha': 0.01, 'beta': 0.0001, 'L1': 0.01, 'L2': 0.1, 'D': 290474, 'D_fm': 200, 'iters': 20, 'seed': 719, 'threads': 4, 'verbose': 1}\n",
      "Total e: 163029.8667666383\n",
      "Total e: 157443.96998070326\n",
      "Total e: 155538.34910638587\n",
      "Total e: 154218.02366526844\n",
      "Total e: 153172.2825135037\n",
      "Total e: 152288.66449432465\n",
      "Total e: 151513.26701948917\n",
      "Total e: 150815.27689637433\n",
      "Total e: 150176.71307262758\n",
      "Total e: 149584.32416828081\n",
      "Total e: 149029.16960571692\n",
      "Total e: 148504.69968668013\n",
      "Total e: 148006.96309416354\n",
      "Total e: 147531.62964367037\n",
      "Total e: 147075.6746961593\n",
      "Total e: 146636.97140976484\n",
      "Total e: 146213.40307069334\n",
      "Total e: 145803.44068593503\n",
      "Total e: 145405.8987244842\n",
      "Total e: 145019.56538582154\n",
      "{'iters': 20} 0.225432856482\n",
      "Fitting params:\n",
      " {'alpha': 0.01, 'beta': 0.0001, 'L1': 0.01, 'L2': 0.1, 'D': 290474, 'D_fm': 200, 'iters': 40, 'seed': 719, 'threads': 4, 'verbose': 1}\n",
      "Total e: 163029.8667666383\n",
      "Total e: 157443.96998070326\n",
      "Total e: 155538.34910638587\n",
      "Total e: 154218.02366526844\n",
      "Total e: 153172.2825135037\n",
      "Total e: 152288.66449432465\n",
      "Total e: 151513.26701948917\n",
      "Total e: 150815.27689637433\n",
      "Total e: 150176.71307262758\n",
      "Total e: 149584.32416828081\n",
      "Total e: 149029.16960571692\n",
      "Total e: 148504.69968668013\n",
      "Total e: 148006.96309416354\n",
      "Total e: 147531.62964367037\n",
      "Total e: 147075.6746961593\n",
      "Total e: 146636.97140976484\n",
      "Total e: 146213.40307069334\n",
      "Total e: 145803.44068593503\n",
      "Total e: 145405.8987244842\n",
      "Total e: 145019.56538582154\n",
      "Total e: 144643.67808172322\n",
      "Total e: 144277.39003331919\n",
      "Total e: 143919.8849291573\n",
      "Total e: 143570.6594493008\n",
      "Total e: 143229.18836803202\n",
      "Total e: 142894.974110438\n",
      "Total e: 142567.55409972442\n",
      "Total e: 142246.67164604334\n",
      "Total e: 141931.95925558903\n",
      "Total e: 141623.18029959782\n",
      "Total e: 141320.20358731147\n",
      "Total e: 141022.4701314154\n",
      "Total e: 140729.71501389917\n",
      "Total e: 140441.77089749445\n",
      "Total e: 140158.4720960671\n",
      "Total e: 139879.56828264386\n",
      "Total e: 139605.14843374622\n",
      "Total e: 139334.87591466669\n",
      "Total e: 139068.54078847743\n",
      "Total e: 138806.0640567409\n",
      "{'iters': 40} 0.227122122526\n",
      "Fitting params:\n",
      " {'alpha': 0.01, 'beta': 0.0001, 'L1': 0.01, 'L2': 0.1, 'D': 290474, 'D_fm': 200, 'iters': 60, 'seed': 719, 'threads': 4, 'verbose': 1}\n",
      "Total e: 163029.8667666383\n",
      "Total e: 157443.96998070326\n",
      "Total e: 155538.34910638587\n",
      "Total e: 154218.02366526844\n",
      "Total e: 153172.2825135037\n",
      "Total e: 152288.66449432465\n",
      "Total e: 151513.26701948917\n",
      "Total e: 150815.27689637433\n",
      "Total e: 150176.71307262758\n",
      "Total e: 149584.32416828081\n",
      "Total e: 149029.16960571692\n",
      "Total e: 148504.69968668013\n",
      "Total e: 148006.96309416354\n",
      "Total e: 147531.62964367037\n",
      "Total e: 147075.6746961593\n",
      "Total e: 146636.97140976484\n",
      "Total e: 146213.40307069334\n",
      "Total e: 145803.44068593503\n",
      "Total e: 145405.8987244842\n",
      "Total e: 145019.56538582154\n",
      "Total e: 144643.67808172322\n",
      "Total e: 144277.39003331919\n",
      "Total e: 143919.8849291573\n",
      "Total e: 143570.6594493008\n",
      "Total e: 143229.18836803202\n",
      "Total e: 142894.974110438\n",
      "Total e: 142567.55409972442\n",
      "Total e: 142246.67164604334\n",
      "Total e: 141931.95925558903\n",
      "Total e: 141623.18029959782\n",
      "Total e: 141320.20358731147\n",
      "Total e: 141022.4701314154\n",
      "Total e: 140729.71501389917\n",
      "Total e: 140441.77089749445\n",
      "Total e: 140158.4720960671\n",
      "Total e: 139879.56828264386\n",
      "Total e: 139605.14843374622\n",
      "Total e: 139334.87591466669\n",
      "Total e: 139068.54078847743\n",
      "Total e: 138806.0640567409\n",
      "Total e: 138547.34512110768\n",
      "Total e: 138292.17416945315\n",
      "Total e: 138040.53804950198\n",
      "Total e: 137792.36891176374\n",
      "Total e: 137547.52789242286\n",
      "Total e: 137305.88049921422\n",
      "Total e: 137067.36540227587\n",
      "Total e: 136831.77118991685\n",
      "Total e: 136599.09392447764\n",
      "Total e: 136369.4269414103\n",
      "Total e: 136142.49343557245\n",
      "Total e: 135918.28011238738\n",
      "Total e: 135696.74236897958\n",
      "Total e: 135477.71184101168\n",
      "Total e: 135261.13751984923\n",
      "Total e: 135047.00413684716\n",
      "Total e: 134835.2502613406\n",
      "Total e: 134625.7960832645\n",
      "Total e: 134418.59882764297\n",
      "Total e: 134213.67596643188\n",
      "{'iters': 60} 0.228672264711\n",
      "Best param: {'iters': 10} \n",
      "score: 0.224836844616\n"
     ]
    }
   ],
   "source": [
    "fmftrl_default_params = {\n",
    "    'alpha': .01,\n",
    "    'beta': .0001,\n",
    "    'L1': 0.01,\n",
    "    'L2': 0.1,\n",
    "    'D': train_features.shape[1],\n",
    "    'D_fm': 200,\n",
    "    'iters': 10,\n",
    "    'seed': 719,\n",
    "    'threads': 4,\n",
    "    'verbose': 1\n",
    "}\n",
    "try_params = {\n",
    "        'iters': [5, 10, 15, 20, 40, 60]\n",
    "    }\n",
    "simple_train_val_split_eval(fmftrl_default_params, train_features, train_y, try_params, partial_sample=False)"
   ]
  },
  {
   "cell_type": "code",
   "execution_count": 1,
   "metadata": {},
   "outputs": [
    {
     "ename": "NameError",
     "evalue": "name 'train_features' is not defined",
     "output_type": "error",
     "traceback": [
      "\u001b[1;31m---------------------------------------------------------------------------\u001b[0m",
      "\u001b[1;31mNameError\u001b[0m                                 Traceback (most recent call last)",
      "\u001b[1;32m<ipython-input-1-d3f93369f1fb>\u001b[0m in \u001b[0;36m<module>\u001b[1;34m()\u001b[0m\n\u001b[1;32m----> 1\u001b[1;33m \u001b[0mtrain_len\u001b[0m \u001b[1;33m=\u001b[0m \u001b[0mint\u001b[0m\u001b[1;33m(\u001b[0m\u001b[0mtrain_features\u001b[0m\u001b[1;33m.\u001b[0m\u001b[0mshape\u001b[0m\u001b[1;33m[\u001b[0m\u001b[1;36m0\u001b[0m\u001b[1;33m]\u001b[0m\u001b[1;33m*\u001b[0m\u001b[1;36m.7\u001b[0m\u001b[1;33m)\u001b[0m\u001b[1;33m\u001b[0m\u001b[0m\n\u001b[0m\u001b[0;32m      2\u001b[0m \u001b[0mtr_X\u001b[0m\u001b[1;33m,\u001b[0m \u001b[0mtr_y\u001b[0m \u001b[1;33m=\u001b[0m \u001b[0mtrain_features\u001b[0m\u001b[1;33m[\u001b[0m\u001b[1;33m:\u001b[0m\u001b[0mtrain_len\u001b[0m\u001b[1;33m,\u001b[0m \u001b[1;33m:\u001b[0m\u001b[1;33m]\u001b[0m\u001b[1;33m,\u001b[0m \u001b[0mtrain_y\u001b[0m\u001b[1;33m[\u001b[0m\u001b[1;33m:\u001b[0m\u001b[0mtrain_len\u001b[0m\u001b[1;33m]\u001b[0m\u001b[1;33m\u001b[0m\u001b[0m\n\u001b[0;32m      3\u001b[0m \u001b[0mval_X\u001b[0m\u001b[1;33m,\u001b[0m \u001b[0mval_y\u001b[0m \u001b[1;33m=\u001b[0m \u001b[0mtrain_features\u001b[0m\u001b[1;33m[\u001b[0m\u001b[0mtrain_len\u001b[0m\u001b[1;33m:\u001b[0m\u001b[1;33m]\u001b[0m\u001b[1;33m,\u001b[0m \u001b[0mtrain_y\u001b[0m\u001b[1;33m[\u001b[0m\u001b[0mtrain_len\u001b[0m\u001b[1;33m:\u001b[0m\u001b[1;33m]\u001b[0m\u001b[1;33m\u001b[0m\u001b[0m\n",
      "\u001b[1;31mNameError\u001b[0m: name 'train_features' is not defined"
     ]
    }
   ],
   "source": [
    "train_len = int(train_features.shape[0]*.7)\n",
    "tr_X, tr_y = train_features[:train_len, :], train_y[:train_len]\n",
    "val_X, val_y = train_features[train_len:], train_y[train_len:]"
   ]
  },
  {
   "cell_type": "code",
   "execution_count": 14,
   "metadata": {
    "collapsed": true
   },
   "outputs": [
    {
     "name": "stdout",
     "output_type": "stream",
     "text": [
      "Total e: 164785.8085042756\n",
      "Total e: 158601.4623680105\n",
      "Total e: 156963.69157599422\n",
      "Total e: 155895.15532400517\n",
      "Total e: 155042.48267711815\n",
      "Total e: 154363.56260225087\n",
      "Total e: 153770.30537769498\n",
      "Total e: 153242.55270082917\n",
      "Total e: 152748.40941903414\n",
      "Total e: 152300.87144869703\n"
     ]
    },
    {
     "data": {
      "text/plain": [
       "<wordbatch.models.fm_ftrl.FM_FTRL at 0x68e3910>"
      ]
     },
     "execution_count": 14,
     "metadata": {},
     "output_type": "execute_result"
    }
   ],
   "source": [
    "fmftrl_default_params = {\n",
    "    'alpha': .01,\n",
    "    'beta': .0001,\n",
    "    'L1': 0.001,\n",
    "    'L2': 0.01,\n",
    "    'D': train_features.shape[1],\n",
    "    'D_fm': 100,\n",
    "    'iters': 10,\n",
    "    'seed': 719,\n",
    "    'threads': 4,\n",
    "    'verbose': 1\n",
    "}\n",
    "\n",
    "md = FM_FTRL(**fmftrl_default_params)\n",
    "md.fit(tr_X, tr_y)"
   ]
  },
  {
   "cell_type": "code",
   "execution_count": 15,
   "metadata": {
    "collapsed": true
   },
   "outputs": [],
   "source": [
    "pd.DataFrame(md.predict(val_X), columns=['fmftrl_pred']).to_csv('fmftrl_cv_charwb24_val_pred.csv', index=False)"
   ]
  },
  {
   "cell_type": "code",
   "execution_count": 16,
   "metadata": {},
   "outputs": [
    {
     "data": {
      "text/plain": [
       "6"
      ]
     },
     "execution_count": 16,
     "metadata": {},
     "output_type": "execute_result"
    }
   ],
   "source": [
    "del train_features, tr_X, val_X; gc.collect()"
   ]
  },
  {
   "cell_type": "code",
   "execution_count": 25,
   "metadata": {},
   "outputs": [
    {
     "data": {
      "text/plain": [
       "278"
      ]
     },
     "execution_count": 25,
     "metadata": {},
     "output_type": "execute_result"
    }
   ],
   "source": [
    "all_features = load_npz('all_features_cv_charwb24.npz')\n",
    "train_len = train_y.shape[0]\n",
    "test_features = all_features[train_len:, :]\n",
    "del all_features; gc.collect()"
   ]
  },
  {
   "cell_type": "code",
   "execution_count": 26,
   "metadata": {},
   "outputs": [
    {
     "data": {
      "text/plain": [
       "508438"
      ]
     },
     "execution_count": 26,
     "metadata": {},
     "output_type": "execute_result"
    }
   ],
   "source": [
    "test_features.shape[0]"
   ]
  },
  {
   "cell_type": "code",
   "execution_count": 27,
   "metadata": {
    "collapsed": true
   },
   "outputs": [],
   "source": [
    "test_pred = md.predict(test_features)"
   ]
  },
  {
   "cell_type": "code",
   "execution_count": 28,
   "metadata": {
    "collapsed": true
   },
   "outputs": [],
   "source": [
    "pd.DataFrame(test_pred, columns=['fmftrl_pred']).to_csv('fmftrl_cv_charwb24_test_pred.csv', index=False)"
   ]
  },
  {
   "cell_type": "code",
   "execution_count": 29,
   "metadata": {
    "collapsed": true
   },
   "outputs": [],
   "source": [
    "test_df = pd.read_csv(\"data/test.csv\", usecols=['item_id'])"
   ]
  },
  {
   "cell_type": "code",
   "execution_count": 31,
   "metadata": {},
   "outputs": [],
   "source": [
    "pd.DataFrame(np.clip(test_pred,0,1), \n",
    "             index=test_df.item_id,\n",
    "             columns=['deal_probability']).to_csv('fmftrl_cv_charwb24_submission.csv')"
   ]
  }
 ],
 "metadata": {
  "kernelspec": {
   "display_name": "Python 3",
   "language": "python",
   "name": "python3"
  },
  "language_info": {
   "codemirror_mode": {
    "name": "ipython",
    "version": 3
   },
   "file_extension": ".py",
   "mimetype": "text/x-python",
   "name": "python",
   "nbconvert_exporter": "python",
   "pygments_lexer": "ipython3",
   "version": "3.6.2"
  }
 },
 "nbformat": 4,
 "nbformat_minor": 2
}
