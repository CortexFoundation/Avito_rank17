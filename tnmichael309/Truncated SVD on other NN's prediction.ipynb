{
 "cells": [
  {
   "cell_type": "code",
   "execution_count": 1,
   "metadata": {
    "collapsed": true
   },
   "outputs": [],
   "source": [
    "import pandas as pd\n",
    "import numpy as np\n",
    "import pickle\n",
    "import gc; gc.enable()"
   ]
  },
  {
   "cell_type": "code",
   "execution_count": 2,
   "metadata": {
    "collapsed": true
   },
   "outputs": [],
   "source": [
    "from sklearn.preprocessing import LabelEncoder, OneHotEncoder\n",
    "from sklearn.decomposition import TruncatedSVD\n",
    "from scipy.sparse import csr_matrix"
   ]
  },
  {
   "cell_type": "code",
   "execution_count": 3,
   "metadata": {
    "scrolled": true
   },
   "outputs": [
    {
     "name": "stdout",
     "output_type": "stream",
     "text": [
      "                                               image  \\\n",
      "0  00000acce78ccf00d3ca0c550cae60fb319d45861444b3...   \n",
      "1  00001d464b8eb4f0f90b13b9194dc214c492cbe0c484fa...   \n",
      "2  00002821738c1efaa7e73310f7a6e34d34ada6c68e0800...   \n",
      "\n",
      "   image_top_1_resnet_tsvd_0  image_top_1_resnet_tsvd_1  \\\n",
      "0              -3.839561e-04              -8.169812e-03   \n",
      "1               1.499953e-10               4.053217e-10   \n",
      "2               4.757338e-01              -1.544728e+00   \n",
      "\n",
      "   image_top_1_resnet_tsvd_2  \n",
      "0               8.767541e-02  \n",
      "1               3.851567e-10  \n",
      "2               9.996041e-02  \n",
      "                                               image  \\\n",
      "0  00000acce78ccf00d3ca0c550cae60fb319d45861444b3...   \n",
      "1  00001d464b8eb4f0f90b13b9194dc214c492cbe0c484fa...   \n",
      "2  00002821738c1efaa7e73310f7a6e34d34ada6c68e0800...   \n",
      "\n",
      "   image_top_1_inception_tsvd_0  image_top_1_inception_tsvd_1  \\\n",
      "0                      0.006571                     -0.016791   \n",
      "1                      0.000156                      0.000079   \n",
      "2                      1.186162                     -0.469517   \n",
      "\n",
      "   image_top_1_inception_tsvd_2  \n",
      "0                      0.000466  \n",
      "1                      0.000026  \n",
      "2                      1.873490  \n",
      "                                               image  \\\n",
      "0  00000acce78ccf00d3ca0c550cae60fb319d45861444b3...   \n",
      "1  00001d464b8eb4f0f90b13b9194dc214c492cbe0c484fa...   \n",
      "2  00002821738c1efaa7e73310f7a6e34d34ada6c68e0800...   \n",
      "\n",
      "   image_top_1_xception_tsvd_0  image_top_1_xception_tsvd_1  \\\n",
      "0                     0.040717                    -0.037303   \n",
      "1                     0.000138                    -0.000444   \n",
      "2                    -0.564942                    -0.508668   \n",
      "\n",
      "   image_top_1_xception_tsvd_2  \n",
      "0                    -0.031257  \n",
      "1                     0.000117  \n",
      "2                    -0.143049  \n"
     ]
    }
   ],
   "source": [
    "file_prefix = ['image_top_1_resnet', 'image_top_1_inception', 'image_top_1_xception']\n",
    "\n",
    "for fp in file_prefix:\n",
    "    merged_train = pd.read_pickle(fp+'_train')\n",
    "    merged_test = pd.read_pickle(fp+'_test')\n",
    "    \n",
    "    merge_all = pd.concat([merged_train, merged_test], axis=0)\n",
    "    merge_ids = merge_all['image'].values\n",
    "    merge_all.drop('image', axis=1, inplace=True)\n",
    "    del merged_train, merged_test; gc.collect()\n",
    "    \n",
    "    merge_all.loc[:, fp] = LabelEncoder().fit_transform(merge_all[fp])\n",
    "    ohe_merge_all = OneHotEncoder().fit_transform(merge_all[[fp]])\n",
    "    ohe_merge_all = ohe_merge_all.multiply(csr_matrix(merge_all[[fp]].values)) # weighted by the confidence\n",
    "    del merge_all; gc.collect()\n",
    "    \n",
    "    svd_merge_all = TruncatedSVD(n_components=3).fit_transform(ohe_merge_all)\n",
    "    del ohe_merge_all; gc.collect()\n",
    "    \n",
    "    df = pd.DataFrame()\n",
    "    df['image'] = [sid.replace('.jpg', '') for sid in merge_ids]\n",
    "    for i in range(svd_merge_all.shape[1]):\n",
    "        df[fp+'_tsvd_{}'.format(i)] = svd_merge_all[:,i]\n",
    "    df.to_pickle(fp+'_tsvd.csv_pkl')\n",
    "    print(df.head(3))"
   ]
  }
 ],
 "metadata": {
  "kernelspec": {
   "display_name": "Python 3",
   "language": "python",
   "name": "python3"
  },
  "language_info": {
   "codemirror_mode": {
    "name": "ipython",
    "version": 3
   },
   "file_extension": ".py",
   "mimetype": "text/x-python",
   "name": "python",
   "nbconvert_exporter": "python",
   "pygments_lexer": "ipython3",
   "version": "3.6.2"
  }
 },
 "nbformat": 4,
 "nbformat_minor": 2
}
