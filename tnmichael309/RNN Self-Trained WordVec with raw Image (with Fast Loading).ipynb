{
 "cells": [
  {
   "cell_type": "code",
   "execution_count": 1,
   "metadata": {},
   "outputs": [
    {
     "name": "stderr",
     "output_type": "stream",
     "text": [
      "E:\\Anaconda3\\envs\\tensorflow\\lib\\site-packages\\h5py\\__init__.py:36: FutureWarning: Conversion of the second argument of issubdtype from `float` to `np.floating` is deprecated. In future, it will be treated as `np.float64 == np.dtype(float).type`.\n",
      "  from ._conv import register_converters as _register_converters\n",
      "Using TensorFlow backend.\n"
     ]
    }
   ],
   "source": [
    "import pandas as pd\n",
    "import tensorflow as tf\n",
    "from keras.preprocessing import text, sequence\n",
    "import numpy as np\n",
    "from keras.layers import Input, SpatialDropout1D,Dropout, GlobalAveragePooling1D, GlobalMaxPooling1D, \\\n",
    "                            CuDNNGRU, GRU, Bidirectional, LSTM, Dense, Embedding, concatenate, Embedding, \\\n",
    "                            Flatten, Activation, BatchNormalization, regularizers, Conv1D, Conv2D, MaxPooling2D\n",
    "from keras.constraints import max_norm\n",
    "\n",
    "from keras.initializers import Orthogonal\n",
    "from keras.models import Model\n",
    "from keras.optimizers import Adam\n",
    "from keras.callbacks import ModelCheckpoint, LambdaCallback, Callback, LearningRateScheduler\n",
    "import keras.backend as K\n",
    "import numpy as np\n",
    "from sklearn import metrics\n",
    "from sklearn.model_selection import train_test_split\n",
    "import os\n",
    "import pickle\n",
    "import gc; gc.enable()\n",
    "import matplotlib \n",
    "import matplotlib.pyplot as plt\n",
    "%matplotlib inline\n",
    "import string\n",
    "import nltk\n",
    "from nltk.corpus import stopwords                \n",
    "from nltk.stem.snowball import RussianStemmer\n",
    "from scipy.stats import boxcox\n",
    "import re\n",
    "#from tqdm import tqdm"
   ]
  },
  {
   "cell_type": "markdown",
   "metadata": {},
   "source": [
    "### Check GPU Availability"
   ]
  },
  {
   "cell_type": "code",
   "execution_count": 2,
   "metadata": {},
   "outputs": [
    {
     "name": "stdout",
     "output_type": "stream",
     "text": [
      "[name: \"/device:CPU:0\"\n",
      "device_type: \"CPU\"\n",
      "memory_limit: 268435456\n",
      "locality {\n",
      "}\n",
      "incarnation: 5950136931993238255\n",
      ", name: \"/device:GPU:0\"\n",
      "device_type: \"GPU\"\n",
      "memory_limit: 3174131302\n",
      "locality {\n",
      "  bus_id: 1\n",
      "  links {\n",
      "  }\n",
      "}\n",
      "incarnation: 18289823823936335275\n",
      "physical_device_desc: \"device: 0, name: GeForce GTX 1050 Ti, pci bus id: 0000:01:00.0, compute capability: 6.1\"\n",
      "]\n"
     ]
    },
    {
     "data": {
      "text/plain": [
       "['/job:localhost/replica:0/task:0/device:GPU:0']"
      ]
     },
     "execution_count": 2,
     "metadata": {},
     "output_type": "execute_result"
    }
   ],
   "source": [
    "sess = tf.Session(config=tf.ConfigProto(log_device_placement=True))\n",
    "from tensorflow.python.client import device_lib\n",
    "print(device_lib.list_local_devices())\n",
    "K.tensorflow_backend._get_available_gpus()"
   ]
  },
  {
   "cell_type": "markdown",
   "metadata": {},
   "source": [
    "### Preprocess Training and Testing Data"
   ]
  },
  {
   "cell_type": "markdown",
   "metadata": {},
   "source": [
    "* > train.csv, test.csv, train_jpg.zip, test_jpg.zip: Download from kaggle competition website\n",
    "* > aggregated_features, self trained wordvec: https://drive.google.com/drive/folders/1yO_W-m0fF_PludrnScdgyTGsPFoDsA6_?usp=sharing"
   ]
  },
  {
   "cell_type": "code",
   "execution_count": 3,
   "metadata": {},
   "outputs": [],
   "source": [
    "agg_features_path = 'aggregated_features.csv'\n",
    "train_data_path = 'train.csv'\n",
    "test_data_path = 'test.csv'\n",
    "train_img_path = 'train_jpg/data/competition_files/train_jpg/'\n",
    "test_img_path = 'test_jpg/data/competition_files/test_jpg/'\n",
    "\n",
    "seed = 411\n",
    "rnn_train_epochs = 10\n",
    "batch_size=64 # 32 or 64 is good (too huge for my PC), 128 is worse in the past experiments\n",
    "cpu_count=3"
   ]
  },
  {
   "cell_type": "code",
   "execution_count": 4,
   "metadata": {},
   "outputs": [],
   "source": [
    "agg_features = pd.read_csv(agg_features_path)\n",
    "agg_cols = list(agg_features.columns)[1:]"
   ]
  },
  {
   "cell_type": "code",
   "execution_count": 5,
   "metadata": {},
   "outputs": [],
   "source": [
    "train = pd.read_csv('train.csv', parse_dates=['activation_date']) \\\n",
    "          .sort_values('activation_date') \\\n",
    "          .reset_index(drop=True)\n",
    "    \n",
    "test = pd.read_csv('test.csv', parse_dates=['activation_date'])"
   ]
  },
  {
   "cell_type": "code",
   "execution_count": 6,
   "metadata": {},
   "outputs": [
    {
     "data": {
      "text/plain": [
       "86"
      ]
     },
     "execution_count": 6,
     "metadata": {},
     "output_type": "execute_result"
    }
   ],
   "source": [
    "train = train.merge(agg_features, on='user_id', how='left')\n",
    "test = test.merge(agg_features, on='user_id', how='left')\n",
    "del agg_features; gc.collect()"
   ]
  },
  {
   "cell_type": "code",
   "execution_count": 7,
   "metadata": {},
   "outputs": [
    {
     "data": {
      "text/plain": [
       "14"
      ]
     },
     "execution_count": 7,
     "metadata": {},
     "output_type": "execute_result"
    }
   ],
   "source": [
    "# merge to faciliate data cleaning and transformation\n",
    "train_len = train.shape[0]\n",
    "train_y = train.deal_probability.values\n",
    "\n",
    "train.drop('deal_probability', axis=1, inplace=True)\n",
    "all_features = pd.concat([train, test]).reset_index(drop=True)\n",
    "\n",
    "del train, test; gc.collect()"
   ]
  },
  {
   "cell_type": "markdown",
   "metadata": {},
   "source": [
    "#### Clean data"
   ]
  },
  {
   "cell_type": "code",
   "execution_count": 8,
   "metadata": {},
   "outputs": [],
   "source": [
    "count = lambda l1,l2: sum([1 for x in l1 if x in l2])"
   ]
  },
  {
   "cell_type": "code",
   "execution_count": 9,
   "metadata": {},
   "outputs": [],
   "source": [
    "stemmer = RussianStemmer(ignore_stopwords=False)\n",
    "'''\n",
    "def clean_text(txt):\n",
    "    words = str(txt).lower().strip().split(\" \\t\\r.,!?^+-*/@~:;/\\\\\\\"\\'&{}[]()#$%\") #str(txt).split(\" \") #\n",
    "    words = [stemmer.stem(wrd) for wrd in words \\\n",
    "                if wrd not in stopwords.words('russian') and len(wrd) > 1]\n",
    "    txt = u\" \".join(words)\n",
    "    return txt\n",
    "'''\n",
    "def clean_text(txt):\n",
    "    return u\" \".join([stemmer.stem(re.sub(r'\\b\\d+\\b', '', wrd)) for wrd in str(txt).lower().strip().split(string.punctuation)\n",
    "                         if wrd not in stopwords.words('russian')])"
   ]
  },
  {
   "cell_type": "code",
   "execution_count": 10,
   "metadata": {},
   "outputs": [],
   "source": [
    "all_features['description'].fillna('unknowndescription', inplace=True)\n",
    "#all_features['description'] = [clean_text(txt) for txt in all_features['description'].values] # clean text\n",
    "\n",
    "all_features['title'].fillna('unknowntitle', inplace=True)\n",
    "#all_features['title'] = [clean_text(txt) for txt in all_features['title'].values]\n",
    "\n",
    "all_features['weekday'] = pd.to_datetime(all_features['activation_date']).dt.day\n",
    "\n",
    "for col in ['description', 'title']:\n",
    "    all_features['num_words_' + col] = all_features[col].apply(lambda comment: len(comment.split()))\n",
    "    all_features['num_unique_words_' + col] = all_features[col].apply(lambda comment: len(set(w for w in comment.split())))\n",
    "\n",
    "all_features['words_vs_unique_title'] = all_features['num_unique_words_title'] / all_features['num_words_title'] * 100\n",
    "all_features['words_vs_unique_description'] = all_features['num_unique_words_description'] / all_features['num_words_description'] * 100\n",
    "all_features['words_vs_unique_description'] = all_features['words_vs_unique_description'].fillna(0.)\n",
    "\n",
    "all_features['city'] = all_features['region'] + '_' + all_features['city'] # city is repeated in different region\n",
    "all_features['num_desc_punct'] = all_features['description'].apply(lambda x: count(x, set(string.punctuation)))\n",
    "\n",
    "for col in agg_cols:\n",
    "    all_features[col].fillna(-1, inplace=True)\n",
    "\n",
    "for col in ['price', 'image_top_1']:\n",
    "    all_features[col].fillna(-1, inplace=True)\n",
    "\n",
    "for col in ['param_1', 'param_2', 'param_3']:\n",
    "    all_features[col].fillna('unknwonparam', inplace=True)\n",
    "    \n",
    "for col in ['image']:\n",
    "    all_features[col].fillna('no-image', inplace=True)"
   ]
  },
  {
   "cell_type": "code",
   "execution_count": 11,
   "metadata": {},
   "outputs": [
    {
     "data": {
      "text/plain": [
       "95"
      ]
     },
     "execution_count": 11,
     "metadata": {},
     "output_type": "execute_result"
    }
   ],
   "source": [
    "# merge transfer image features from vgg16\n",
    "\n",
    "df = pd.read_pickle('vgg16_image_pca_feature.csv_pkl')\n",
    "image_features = df.columns.tolist()[1:] # column 0 is 'image' \n",
    "\n",
    "all_features = all_features.merge(df, on='image', how='left')\n",
    "del df; gc.collect()"
   ]
  },
  {
   "cell_type": "code",
   "execution_count": 12,
   "metadata": {
    "scrolled": true
   },
   "outputs": [
    {
     "data": {
      "text/plain": [
       "item_id                              0\n",
       "user_id                              0\n",
       "region                               0\n",
       "city                                 0\n",
       "parent_category_name                 0\n",
       "category_name                        0\n",
       "param_1                              0\n",
       "param_2                              0\n",
       "param_3                              0\n",
       "title                                0\n",
       "description                          0\n",
       "price                                0\n",
       "item_seq_number                      0\n",
       "activation_date                      0\n",
       "user_type                            0\n",
       "image                                0\n",
       "image_top_1                          0\n",
       "avg_days_up_user                     0\n",
       "avg_times_up_user                    0\n",
       "med_days_up_user                     0\n",
       "med_times_up_user                    0\n",
       "n_user_items                         0\n",
       "weekday                              0\n",
       "num_words_description                0\n",
       "num_unique_words_description         0\n",
       "num_words_title                      0\n",
       "num_unique_words_title               0\n",
       "words_vs_unique_title                0\n",
       "words_vs_unique_description          0\n",
       "num_desc_punct                       0\n",
       "vgg16_image_pca_feature_1       155197\n",
       "vgg16_image_pca_feature_2       155197\n",
       "vgg16_image_pca_feature_3       155197\n",
       "vgg16_image_pca_feature_4       155197\n",
       "vgg16_image_pca_feature_5       155197\n",
       "vgg16_image_pca_feature_6       155197\n",
       "vgg16_image_pca_feature_7       155197\n",
       "vgg16_image_pca_feature_8       155197\n",
       "vgg16_image_pca_feature_9       155197\n",
       "vgg16_image_pca_feature_10      155197\n",
       "vgg16_image_pca_feature_11      155197\n",
       "vgg16_image_pca_feature_12      155197\n",
       "vgg16_image_pca_feature_13      155197\n",
       "vgg16_image_pca_feature_14      155197\n",
       "vgg16_image_pca_feature_15      155197\n",
       "vgg16_image_pca_feature_16      155197\n",
       "vgg16_image_pca_feature_17      155197\n",
       "vgg16_image_pca_feature_18      155197\n",
       "vgg16_image_pca_feature_19      155197\n",
       "vgg16_image_pca_feature_20      155197\n",
       "vgg16_image_pca_feature_21      155197\n",
       "vgg16_image_pca_feature_22      155197\n",
       "vgg16_image_pca_feature_23      155197\n",
       "vgg16_image_pca_feature_24      155197\n",
       "vgg16_image_pca_feature_25      155197\n",
       "vgg16_image_pca_feature_26      155197\n",
       "vgg16_image_pca_feature_27      155197\n",
       "vgg16_image_pca_feature_28      155197\n",
       "vgg16_image_pca_feature_29      155197\n",
       "vgg16_image_pca_feature_30      155197\n",
       "dtype: int64"
      ]
     },
     "execution_count": 12,
     "metadata": {},
     "output_type": "execute_result"
    }
   ],
   "source": [
    "all_features.isnull().sum()"
   ]
  },
  {
   "cell_type": "markdown",
   "metadata": {},
   "source": [
    "#### Transform data"
   ]
  },
  {
   "cell_type": "code",
   "execution_count": 13,
   "metadata": {},
   "outputs": [
    {
     "data": {
      "text/plain": [
       "<matplotlib.axes._subplots.AxesSubplot at 0x1c3091e96d8>"
      ]
     },
     "execution_count": 13,
     "metadata": {},
     "output_type": "execute_result"
    },
    {
     "data": {
      "image/png": "[encoded data removed]",
      "text/plain": [
       "<Figure size 432x288 with 1 Axes>"
      ]
     },
     "metadata": {},
     "output_type": "display_data"
    }
   ],
   "source": [
    "all_features.price.hist()"
   ]
  },
  {
   "cell_type": "code",
   "execution_count": 14,
   "metadata": {
    "scrolled": true
   },
   "outputs": [
    {
     "data": {
      "text/plain": [
       "<matplotlib.axes._subplots.AxesSubplot at 0x1c286fa92e8>"
      ]
     },
     "execution_count": 14,
     "metadata": {},
     "output_type": "execute_result"
    },
    {
     "data": {
      "image/png": "[encoded data removed]",
      "text/plain": [
       "<Figure size 432x288 with 1 Axes>"
      ]
     },
     "metadata": {},
     "output_type": "display_data"
    }
   ],
   "source": [
    "all_features.item_seq_number.hist()"
   ]
  },
  {
   "cell_type": "markdown",
   "metadata": {},
   "source": [
    "> Since price and item seq number are highly skewed, we'll transform it into more normal like by using boxcox (more robust to outliers compared to np.log1p)"
   ]
  },
  {
   "cell_type": "code",
   "execution_count": 15,
   "metadata": {},
   "outputs": [
    {
     "data": {
      "image/png": "[encoded data removed]",
      "text/plain": [
       "<Figure size 432x288 with 1 Axes>"
      ]
     },
     "metadata": {},
     "output_type": "display_data"
    },
    {
     "data": {
      "image/png": "[encoded data removed]",
      "text/plain": [
       "<Figure size 432x288 with 1 Axes>"
      ]
     },
     "metadata": {},
     "output_type": "display_data"
    }
   ],
   "source": [
    "for col in ['price', 'item_seq_number']:\n",
    "    select_filter = all_features[col] > 0\n",
    "    all_features.loc[select_filter, col], _ = boxcox(all_features.loc[select_filter, col])\n",
    "    all_features[col].hist()\n",
    "    plt.show()"
   ]
  },
  {
   "cell_type": "code",
   "execution_count": 16,
   "metadata": {},
   "outputs": [
    {
     "data": {
      "text/plain": [
       "['item_id',\n",
       " 'user_id',\n",
       " 'region',\n",
       " 'city',\n",
       " 'parent_category_name',\n",
       " 'category_name',\n",
       " 'param_1',\n",
       " 'param_2',\n",
       " 'param_3',\n",
       " 'title',\n",
       " 'description',\n",
       " 'price',\n",
       " 'item_seq_number',\n",
       " 'activation_date',\n",
       " 'user_type',\n",
       " 'image',\n",
       " 'image_top_1',\n",
       " 'avg_days_up_user',\n",
       " 'avg_times_up_user',\n",
       " 'med_days_up_user',\n",
       " 'med_times_up_user',\n",
       " 'n_user_items',\n",
       " 'weekday',\n",
       " 'num_words_description',\n",
       " 'num_unique_words_description',\n",
       " 'num_words_title',\n",
       " 'num_unique_words_title',\n",
       " 'words_vs_unique_title',\n",
       " 'words_vs_unique_description',\n",
       " 'num_desc_punct',\n",
       " 'vgg16_image_pca_feature_1',\n",
       " 'vgg16_image_pca_feature_2',\n",
       " 'vgg16_image_pca_feature_3',\n",
       " 'vgg16_image_pca_feature_4',\n",
       " 'vgg16_image_pca_feature_5',\n",
       " 'vgg16_image_pca_feature_6',\n",
       " 'vgg16_image_pca_feature_7',\n",
       " 'vgg16_image_pca_feature_8',\n",
       " 'vgg16_image_pca_feature_9',\n",
       " 'vgg16_image_pca_feature_10',\n",
       " 'vgg16_image_pca_feature_11',\n",
       " 'vgg16_image_pca_feature_12',\n",
       " 'vgg16_image_pca_feature_13',\n",
       " 'vgg16_image_pca_feature_14',\n",
       " 'vgg16_image_pca_feature_15',\n",
       " 'vgg16_image_pca_feature_16',\n",
       " 'vgg16_image_pca_feature_17',\n",
       " 'vgg16_image_pca_feature_18',\n",
       " 'vgg16_image_pca_feature_19',\n",
       " 'vgg16_image_pca_feature_20',\n",
       " 'vgg16_image_pca_feature_21',\n",
       " 'vgg16_image_pca_feature_22',\n",
       " 'vgg16_image_pca_feature_23',\n",
       " 'vgg16_image_pca_feature_24',\n",
       " 'vgg16_image_pca_feature_25',\n",
       " 'vgg16_image_pca_feature_26',\n",
       " 'vgg16_image_pca_feature_27',\n",
       " 'vgg16_image_pca_feature_28',\n",
       " 'vgg16_image_pca_feature_29',\n",
       " 'vgg16_image_pca_feature_30']"
      ]
     },
     "execution_count": 16,
     "metadata": {},
     "output_type": "execute_result"
    }
   ],
   "source": [
    "all_features.columns.tolist()"
   ]
  },
  {
   "cell_type": "code",
   "execution_count": 17,
   "metadata": {},
   "outputs": [],
   "source": [
    "target = 'deal_probability'\n",
    "numerical = [\n",
    "    'weekday', 'num_words_title', 'num_words_description',\n",
    "    'num_unique_words_title', 'num_unique_words_description',\n",
    "    'words_vs_unique_title', 'words_vs_unique_description',\n",
    "    'num_desc_punct', 'avg_times_up_user', 'avg_days_up_user', \n",
    "    'med_times_up_user', 'med_days_up_user', 'n_user_items', \n",
    "    'price', 'item_seq_number'\n",
    "]\n",
    "\n",
    "categorical = [\n",
    "    'image_top_1', 'param_1', 'param_2', 'param_3', \n",
    "    'city', 'region', 'category_name', 'parent_category_name', 'user_type'\n",
    "]\n",
    "\n",
    "features = numerical+categorical+image_features"
   ]
  },
  {
   "cell_type": "code",
   "execution_count": 18,
   "metadata": {},
   "outputs": [
    {
     "name": "stdout",
     "output_type": "stream",
     "text": [
      "Transforming image_top_1...\n",
      "Transforming param_1...\n",
      "Transforming param_2...\n",
      "Transforming param_3...\n",
      "Transforming city...\n",
      "Transforming region...\n",
      "Transforming category_name...\n",
      "Transforming parent_category_name...\n",
      "Transforming user_type...\n"
     ]
    }
   ],
   "source": [
    "# label encode categorical data\n",
    "from sklearn.preprocessing import LabelEncoder\n",
    "\n",
    "for feature in categorical:\n",
    "    print('Transforming {}...'.format(feature))\n",
    "    encoder = LabelEncoder()\n",
    "    all_features.loc[:, feature] = encoder.fit_transform(all_features[feature].astype(str))"
   ]
  },
  {
   "cell_type": "code",
   "execution_count": 19,
   "metadata": {},
   "outputs": [
    {
     "name": "stdout",
     "output_type": "stream",
     "text": [
      "0.0013509846\n",
      "0.015712447\n",
      "0.017517015\n",
      "-0.0063661863\n",
      "-0.0013172567\n",
      "0.006105601\n",
      "0.0037530398\n",
      "0.0014948485\n",
      "0.0032237202\n",
      "-0.00066073803\n",
      "0.0007887319\n",
      "0.0022926135\n",
      "-0.002191485\n",
      "0.0053395396\n",
      "-0.0015907068\n",
      "-0.0019864922\n",
      "-0.004096582\n",
      "0.0047213417\n",
      "-0.0024236594\n",
      "-9.9437406e-05\n",
      "0.00049136096\n",
      "0.0008045598\n",
      "0.0014091776\n",
      "0.0005847732\n",
      "-0.0005037055\n",
      "0.0019050244\n",
      "-0.0020543425\n",
      "-0.002147264\n",
      "0.00046229392\n",
      "0.0010288277\n"
     ]
    }
   ],
   "source": [
    "all_features.loc[:, numerical] = all_features[numerical].fillna(-1)\n",
    "\n",
    "for img_feat in image_features:\n",
    "    print(all_features[img_feat].mean())\n",
    "    all_features.loc[:, img_feat] = all_features[img_feat].fillna(all_features[img_feat].mean())"
   ]
  },
  {
   "cell_type": "code",
   "execution_count": 20,
   "metadata": {},
   "outputs": [
    {
     "data": {
      "text/plain": [
       "weekday                         0\n",
       "num_words_title                 0\n",
       "num_words_description           0\n",
       "num_unique_words_title          0\n",
       "num_unique_words_description    0\n",
       "words_vs_unique_title           0\n",
       "words_vs_unique_description     0\n",
       "num_desc_punct                  0\n",
       "avg_times_up_user               0\n",
       "avg_days_up_user                0\n",
       "med_times_up_user               0\n",
       "med_days_up_user                0\n",
       "n_user_items                    0\n",
       "price                           0\n",
       "item_seq_number                 0\n",
       "dtype: int64"
      ]
     },
     "execution_count": 20,
     "metadata": {},
     "output_type": "execute_result"
    }
   ],
   "source": [
    "all_features[numerical].isnull().sum()"
   ]
  },
  {
   "cell_type": "code",
   "execution_count": 21,
   "metadata": {},
   "outputs": [],
   "source": [
    "# standardize numerical data\n",
    "from sklearn.preprocessing import StandardScaler\n",
    "\n",
    "scaler = StandardScaler()\n",
    "all_features.loc[:, numerical] = scaler.fit_transform(all_features[numerical].values)"
   ]
  },
  {
   "cell_type": "markdown",
   "metadata": {},
   "source": [
    "#### Prepare  pre-trained embeddings and text"
   ]
  },
  {
   "cell_type": "code",
   "execution_count": 22,
   "metadata": {},
   "outputs": [],
   "source": [
    "max_features = 500000\n",
    "maxlen = 150\n",
    "embed_size = 300\n",
    "\n",
    "title_max_features = 200000\n",
    "title_maxlen = 80\n",
    "title_embed_size = 100"
   ]
  },
  {
   "cell_type": "code",
   "execution_count": 23,
   "metadata": {},
   "outputs": [
    {
     "data": {
      "text/plain": [
       "dict_keys(['title_embed_info', 'desc_embed_info'])"
      ]
     },
     "execution_count": 23,
     "metadata": {},
     "output_type": "execute_result"
    }
   ],
   "source": [
    "embed_info = pickle.load(open('rnn_embed.pkl', 'rb'))\n",
    "embed_info.keys()"
   ]
  },
  {
   "cell_type": "code",
   "execution_count": 24,
   "metadata": {},
   "outputs": [],
   "source": [
    "desc_embed_info = embed_info['desc_embed_info']\n",
    "title_embed_info = embed_info['title_embed_info']"
   ]
  },
  {
   "cell_type": "code",
   "execution_count": 25,
   "metadata": {},
   "outputs": [
    {
     "name": "stdout",
     "output_type": "stream",
     "text": [
      "setup max info for embedding in categorical variables\n"
     ]
    }
   ],
   "source": [
    "print('setup max info for embedding in categorical variables')\n",
    "max_info = dict((col, all_features[col].max()+1) for col in categorical)"
   ]
  },
  {
   "cell_type": "markdown",
   "metadata": {},
   "source": [
    "### Build RNN Model"
   ]
  },
  {
   "cell_type": "code",
   "execution_count": 26,
   "metadata": {},
   "outputs": [],
   "source": [
    "def root_mean_squared_error(y_true, y_pred):\n",
    "    return K.sqrt(K.mean(K.square(y_true - y_pred)))"
   ]
  },
  {
   "cell_type": "code",
   "execution_count": 27,
   "metadata": {},
   "outputs": [],
   "source": [
    "from keras.engine.topology import Layer\n",
    "from keras import initializers, regularizers, constraints\n",
    "class Attention(Layer):\n",
    "    def __init__(self, step_dim,\n",
    "                 W_regularizer=None, b_regularizer=None,\n",
    "                 W_constraint=None, b_constraint=None,\n",
    "                 bias=True, **kwargs):\n",
    "        self.supports_masking = True\n",
    "        self.init = initializers.get('glorot_uniform')\n",
    "\n",
    "        self.W_regularizer = regularizers.get(W_regularizer)\n",
    "        self.b_regularizer = regularizers.get(b_regularizer)\n",
    "\n",
    "        self.W_constraint = constraints.get(W_constraint)\n",
    "        self.b_constraint = constraints.get(b_constraint)\n",
    "\n",
    "        self.bias = bias\n",
    "        self.step_dim = step_dim\n",
    "        self.features_dim = 0\n",
    "        super(Attention, self).__init__(**kwargs)\n",
    "\n",
    "    def build(self, input_shape):\n",
    "        print(input_shape)\n",
    "        assert len(input_shape) == 3\n",
    "\n",
    "        self.W = self.add_weight((input_shape[-1],),\n",
    "                                 initializer=self.init,\n",
    "                                 name='{}_W'.format(self.name),\n",
    "                                 regularizer=self.W_regularizer,\n",
    "                                 constraint=self.W_constraint)\n",
    "        self.features_dim = input_shape[-1]\n",
    "\n",
    "        if self.bias:\n",
    "            self.b = self.add_weight((input_shape[1],),\n",
    "                                     initializer='zero',\n",
    "                                     name='{}_b'.format(self.name),\n",
    "                                     regularizer=self.b_regularizer,\n",
    "                                     constraint=self.b_constraint)\n",
    "        else:\n",
    "            self.b = None\n",
    "\n",
    "        self.built = True\n",
    "\n",
    "    def compute_mask(self, input, input_mask=None):\n",
    "        return None\n",
    "\n",
    "    def call(self, x, mask=None):\n",
    "        features_dim = self.features_dim\n",
    "        step_dim = self.step_dim\n",
    "\n",
    "        eij = K.reshape(K.dot(K.reshape(x, (-1, features_dim)),\n",
    "                        K.reshape(self.W, (features_dim, 1))), (-1, step_dim))\n",
    "\n",
    "        if self.bias:\n",
    "            eij += self.b\n",
    "\n",
    "        eij = K.tanh(eij)\n",
    "\n",
    "        a = K.exp(eij)\n",
    "\n",
    "        if mask is not None:\n",
    "            a *= K.cast(mask, K.floatx())\n",
    "\n",
    "        a /= K.cast(K.sum(a, axis=1, keepdims=True) + K.epsilon(), K.floatx())\n",
    "\n",
    "        a = K.expand_dims(a)\n",
    "        weighted_input = x * a\n",
    "        return K.sum(weighted_input, axis=1)\n",
    "\n",
    "    def compute_output_shape(self, input_shape):\n",
    "        return input_shape[0],  self.features_dim"
   ]
  },
  {
   "cell_type": "code",
   "execution_count": 28,
   "metadata": {},
   "outputs": [],
   "source": [
    "def clip_rmse(true, prediction):\n",
    "    return np.sqrt(metrics.mean_squared_error(true, np.clip(prediction, 0., 1.)))\n",
    "    \n",
    "class NBatchEvalLogger(Callback):\n",
    "    def __init__(self, display, val_X, val_y, save_path=None, save_start=1000):\n",
    "        self.step = 0\n",
    "        self.display = display\n",
    "        self.val_X = val_X\n",
    "        self.val_y = val_y\n",
    "        self.best_loss = None\n",
    "        self.save_path = save_path\n",
    "        self.save_start = save_start\n",
    "        self.record_count = 0\n",
    "        \n",
    "    def on_batch_end(self, batch, logs={}):\n",
    "        self.step += 1\n",
    "        if self.step % self.display == 0 and self.step >= self.save_start:\n",
    "            #loss, metric = self.model.evaluate(self.val_X, self.val_y, batch_size=128, verbose=1)\n",
    "            prediction = self.model.predict(self.val_X, batch_size=128, verbose=0)\n",
    "            loss = clip_rmse(self.val_y, prediction)\n",
    "            \n",
    "            if self.best_loss is None:\n",
    "                self.best_loss = loss\n",
    "            else:\n",
    "                if loss < self.best_loss:\n",
    "                    self.best_loss = loss\n",
    "                    if self.save_path is not None:\n",
    "                        self.model.save(self.save_path, overwrite=True)\n",
    "                        self.record_count += 1\n",
    "                    \n",
    "            print('\\rstep: {} val loss={:.5f}, best loss={:.5f}'.format(self.step, loss, self.best_loss))"
   ]
  },
  {
   "cell_type": "code",
   "execution_count": 29,
   "metadata": {},
   "outputs": [],
   "source": [
    "import keras\n",
    "from copy import deepcopy as cp\n",
    "import os\n",
    "from zipfile import ZipFile\n",
    "import cv2\n",
    "import numpy as np\n",
    "import pandas as pd\n",
    "from dask import bag, threaded\n",
    "from dask.diagnostics import ProgressBar\n",
    "import matplotlib.pyplot as plt\n",
    "from keras.preprocessing.image import load_img, img_to_array\n",
    "from keras.applications.resnet50 import preprocess_input\n",
    "import concurrent.futures\n",
    "from multiprocessing.pool import ThreadPool\n",
    "\n",
    "class DataGenerator(keras.utils.Sequence):\n",
    "    #'Generates data for Keras'\n",
    "    def __init__(self, list_IDs, X, y, img_path, batch_size=32, shuffle=True, is_train=True):\n",
    "        #'Initialization'\n",
    "        self.batch_size = batch_size\n",
    "        self.X = X\n",
    "        self.y = y\n",
    "        self.list_IDs = list_IDs\n",
    "        self.shuffle = shuffle\n",
    "        self.img_path = img_path\n",
    "        self.is_train = is_train\n",
    "        self.on_epoch_end()\n",
    "        #self.zipped = ZipFile(img_arch)\n",
    "        #print('file names:\\n', self.zipped.namelist()[1:10], '\\n...')\n",
    "        \n",
    "        global cpu_count\n",
    "        self.pool = ThreadPool(cpu_count)\n",
    "    \n",
    "    def __len__(self):\n",
    "        #'Denotes the number of batches per epoch'\n",
    "        return int(np.ceil(len(self.list_IDs) / self.batch_size))\n",
    "\n",
    "    def __getitem__(self, index):\n",
    "        #'Generate one batch of data'\n",
    "        # Generate indexes of the batch\n",
    "        start = index*self.batch_size\n",
    "        end = min((index+1)*self.batch_size, len(self.indexes))\n",
    "        indexes = self.indexes[start: end]\n",
    "\n",
    "        # Generate data\n",
    "        return self.__data_generation(indexes)\n",
    "\n",
    "    def on_epoch_end(self):\n",
    "        #'Updates indexes after each epoch'\n",
    "        self.indexes = cp(list(self.list_IDs))\n",
    "        if self.shuffle == True:\n",
    "            np.random.shuffle(self.indexes)\n",
    "        \n",
    "    def load_img_from_zipped(self, param):\n",
    "        \n",
    "        img_id, i, imgs_holder = param[0], param[1], param[2]\n",
    "        invalid_img_ids = ['4f029e2a00e892aa2cac27d98b52ef8b13d91471f613c8d3c38e3f29d4da0b0c', \n",
    "                           '8513a91e55670c709069b5f85e12a59095b802877715903abef16b7a6f306e58', \n",
    "                           '60d310a42e87cdf799afcd89dc1b11ae3fdc3d0233747ec7ef78d82c87002e83', \n",
    "                           'b98b291bd04c3d92165ca515e00468fd9756af9a8f1df42505deed1dcfb5d7ae']\n",
    "        try:\n",
    "            if img_id in invalid_img_ids or img_id == 'no-image':\n",
    "                pass\n",
    "            else:\n",
    "                imz = cv2.imread(self.img_path+img_id+'.jpg')\n",
    "                imz = cv2.resize(imz, (224,224), interpolation=cv2.INTER_AREA)\n",
    "                imgs_holder[i] = img_to_array(imz)\n",
    "        except:\n",
    "            print(img_id, ' is invalid')\n",
    "            pass\n",
    "            \n",
    "        return None\n",
    "    \n",
    "    def parallel_load_imgs(self, img_ids, wait=True):\n",
    "     \n",
    "        imgs_holder = np.zeros((len(img_ids), 224, 224, 3))\n",
    "        \n",
    "        '''\n",
    "        for i, im_id in enumerate(img_ids):\n",
    "            self.load_img_from_zipped(im_id, i, imgs_holder)\n",
    "          \n",
    "        self.res = [self.pool.apply_async(self.load_img_from_zipped, (im_id, i, imgs_holder)) for i, im_id in enumerate(img_ids)]\n",
    "        if wait:\n",
    "            for r in self.res:\n",
    "                r.get()\n",
    "        '''   \n",
    "        for x in self.pool.imap_unordered(self.load_img_from_zipped, [(im_id, i, imgs_holder) for i, im_id in enumerate(img_ids)], \n",
    "                                 chunksize=batch_size//cpu_count):\n",
    "            pass\n",
    "        \n",
    "        #print(imgs_holder)\n",
    "        imgs_holder = preprocess_input(imgs_holder) # adjust to mean of rgb to some value\n",
    "        \n",
    "        return imgs_holder\n",
    "    \n",
    "    def __data_generation(self, list_IDs_temp):\n",
    "        #'Generates data containing batch_size samples' # X : (n_samples, *dim, n_channels)\n",
    "        \n",
    "        # Generate data\n",
    "        X = dict((col, self.X.loc[list_IDs_temp, col].values) for col in features)\n",
    "        X['desc'] = desc_embed_info['text'][list_IDs_temp,:]\n",
    "        X['title'] = title_embed_info['text'][list_IDs_temp,:]\n",
    "        #X['imgs'] = self.X.loc[list_IDs_temp, image_features].values\n",
    "        #self.parallel_load_imgs(self.X.loc[list_IDs_temp, 'image'].values)\n",
    "        \n",
    "        if self.is_train:\n",
    "            y = cp(self.y[list_IDs_temp])\n",
    "            return X, y\n",
    "        else:\n",
    "            return X"
   ]
  },
  {
   "cell_type": "code",
   "execution_count": 30,
   "metadata": {},
   "outputs": [
    {
     "data": {
      "text/plain": [
       "\"\\nzipped = ZipFile('train_jpg.zip')\\nprint(zipped.namelist()[1:10])\\n\\nimg_id = '2809fd6afd6d3cae4dd4ad93a7f905a0db32292f4df4b3f19fa5492e08cbfd90'\\ntarget_size=(224,224)\\ntry:\\n    exfile = zipped.read('data/competition_files/train_jpg/'+img_id+'.jpg')\\n    arr = np.frombuffer(exfile, np.uint8)\\n    imz = cv2.imdecode(arr, flags=cv2.IMREAD_UNCHANGED)\\n    imz = cv2.resize(imz, target_size, interpolation=cv2.INTER_AREA)\\nexcept:\\n    print(img_id, ' is invalid')\\n    imz = None\\nimz\\n\""
      ]
     },
     "execution_count": 30,
     "metadata": {},
     "output_type": "execute_result"
    }
   ],
   "source": [
    "# 'train_jpg.zip', 'data/competition_files/train_jpg/', \n",
    "# debug use\n",
    "'''\n",
    "zipped = ZipFile('train_jpg.zip')\n",
    "print(zipped.namelist()[1:10])\n",
    "\n",
    "img_id = '2809fd6afd6d3cae4dd4ad93a7f905a0db32292f4df4b3f19fa5492e08cbfd90'\n",
    "target_size=(224,224)\n",
    "try:\n",
    "    exfile = zipped.read('data/competition_files/train_jpg/'+img_id+'.jpg')\n",
    "    arr = np.frombuffer(exfile, np.uint8)\n",
    "    imz = cv2.imdecode(arr, flags=cv2.IMREAD_UNCHANGED)\n",
    "    imz = cv2.resize(imz, target_size, interpolation=cv2.INTER_AREA)\n",
    "except:\n",
    "    print(img_id, ' is invalid')\n",
    "    imz = None\n",
    "imz\n",
    "'''"
   ]
  },
  {
   "cell_type": "code",
   "execution_count": 31,
   "metadata": {},
   "outputs": [],
   "source": [
    "#cv2.imread('train_jpg/data/competition_files/train_jpg/'+img_id+'.jpg')"
   ]
  },
  {
   "cell_type": "code",
   "execution_count": 32,
   "metadata": {},
   "outputs": [],
   "source": [
    "def build_model(categorical_features, numerical_features):\n",
    "    \n",
    "    # non-cat features\n",
    "    non_cat_inputs = []\n",
    "    for col in numerical_features:\n",
    "        f = Input(shape=[1], name=col)\n",
    "        non_cat_inputs.append(f)\n",
    "    \n",
    "    non_cat_ch = concatenate(non_cat_inputs)\n",
    "    non_cat_ch = Dense(32, activation='relu')(non_cat_ch)\n",
    "    \n",
    "    # cat features\n",
    "    cat_inputs = []\n",
    "    cat_embeds = []\n",
    "    for col in categorical_features:\n",
    "        f = Input(shape=[1], name=col)\n",
    "        embed_dim = max_info[col].max()\n",
    "        if max_info[col] > 10:\n",
    "            reduced_dim = 10\n",
    "        else:\n",
    "            reduced_dim = 1\n",
    "        embed_f = Embedding(embed_dim, reduced_dim)(f)\n",
    "        flatten_f = Flatten()(embed_f)\n",
    "        cat_inputs.append(f)\n",
    "        cat_embeds.append(flatten_f)\n",
    "    \n",
    "    cat_ch = concatenate(cat_embeds)\n",
    "    cat_ch = Dense(64, activation='relu')(cat_ch)\n",
    "        \n",
    "    # text features: architecture of text to try here!!!\n",
    "    \n",
    "    # description\n",
    "    text_inp = Input(shape = (maxlen, ), name='desc')\n",
    "    text_emb = Embedding(desc_embed_info['nb_words'], embed_size, weights = [desc_embed_info['emb_matrix']],\n",
    "                    input_length = maxlen, trainable = False)(text_inp)\n",
    "    text_emb = SpatialDropout1D(0.3)(text_emb)\n",
    "    text_gru = Bidirectional(CuDNNGRU(128, return_sequences = True))(text_emb)\n",
    "    text_gru = Conv1D(64, kernel_size = 3, padding = \"valid\", kernel_initializer = \"glorot_uniform\")(text_gru)\n",
    "    text_gru_avg = GlobalAveragePooling1D()(text_gru)\n",
    "    text_gru_max = GlobalMaxPooling1D()(text_gru)\n",
    "    text_gru = concatenate([text_gru_avg, text_gru_max]) \n",
    "    text_gru = Dropout(0.1)(text_gru)\n",
    "    \n",
    "    # title\n",
    "    title_inp = Input(shape = (title_maxlen, ), name='title')\n",
    "    title_emb = Embedding(title_embed_info['nb_words'], title_embed_size, weights = [title_embed_info['emb_matrix']],\n",
    "                    input_length = title_maxlen, trainable = False)(title_inp)\n",
    "    title_emb = SpatialDropout1D(0.1)(title_emb)\n",
    "    title_gru = Bidirectional(CuDNNGRU(32, return_sequences = True))(title_emb)\n",
    "    title_gru = Conv1D(16, kernel_size = 3, padding = \"valid\", kernel_initializer = \"glorot_uniform\")(title_gru)\n",
    "    title_gru_avg = GlobalAveragePooling1D()(title_gru)\n",
    "    title_gru_max = GlobalMaxPooling1D()(title_gru)\n",
    "    title_gru = concatenate([title_gru_avg, title_gru_max]) \n",
    "    title_gru = Dropout(0.1)(title_gru)\n",
    "    \n",
    "    text_ch = concatenate([text_gru, title_gru])\n",
    "    text_ch = Dense(64, activation='relu')(text_ch)\n",
    "    \n",
    "    # add image architecture\n",
    "    # reference: https://keras.io/getting-started/functional-api-guide/#more-examples, Visual question answering model\n",
    "    \n",
    "    '''\n",
    "    img_inp = Input(shape = (224, 224, 3 ), name='imgs')\n",
    "    img_ch = Conv2D(64, (3, 3), activation='relu', padding='same', W_constraint=max_norm(3))(img_inp)\n",
    "    img_ch = Conv2D(64, (3, 3), activation='relu')(img_ch)\n",
    "    img_ch = MaxPooling2D((2, 2))(img_ch)\n",
    "    #img_ch = Conv2D(128, (3, 3), activation='relu', padding='same', W_constraint=max_norm(3))(img_ch)\n",
    "    #img_ch = Conv2D(128, (3, 3), activation='relu')(img_ch)\n",
    "    #img_ch = MaxPooling2D((2, 2))(img_ch)\n",
    "    #img_ch = Conv2D(256, (3, 3), activation='relu', padding='same', W_constraint=max_norm(3))(img_ch)\n",
    "    #img_ch = Conv2D(256, (3, 3), activation='relu')(img_ch)\n",
    "    #img_ch = Conv2D(256, (3, 3), activation='relu')(img_ch)\n",
    "    #img_ch = MaxPooling2D((2, 2))(img_ch)\n",
    "    img_ch = Flatten()(img_ch)\n",
    "    img_ch = Dense(64, activation='relu')(img_ch)\n",
    "    '''\n",
    "    img_inputs = []\n",
    "    for col in image_features:\n",
    "        f = Input(shape=[1], name=col)\n",
    "        img_inputs.append(f)\n",
    "    \n",
    "    img_ch = concatenate(img_inputs)\n",
    "    img_ch = Dense(32, activation='relu')(img_ch)\n",
    "    \n",
    "    # merge each branch: non-cat, cat, text, img\n",
    "    concat_main = [non_cat_ch, cat_ch, text_ch, img_ch]\n",
    "    main = concatenate(concat_main)\n",
    "    main = BatchNormalization()(main)\n",
    "    main = Dropout(0.1)(main)\n",
    "    main = BatchNormalization()(Dense(128, activation='relu')(main))\n",
    "    out = Dense(1, activation = \"sigmoid\")(main)\n",
    "\n",
    "    concat_input = non_cat_inputs+cat_inputs+img_inputs+[text_inp, title_inp]\n",
    "    model = Model(concat_input, out)\n",
    "    model.regularizers = [regularizers.l2(0.0001)]\n",
    "    model.compile(optimizer = Adam(lr=0.001), loss = root_mean_squared_error,\n",
    "                  metrics =[root_mean_squared_error])\n",
    "    model.summary()\n",
    "    return model"
   ]
  },
  {
   "cell_type": "markdown",
   "metadata": {},
   "source": [
    "### Training"
   ]
  },
  {
   "cell_type": "code",
   "execution_count": 33,
   "metadata": {},
   "outputs": [],
   "source": [
    "from sklearn.model_selection import KFold\n",
    "import warnings; warnings.filterwarnings('ignore') "
   ]
  },
  {
   "cell_type": "code",
   "execution_count": 34,
   "metadata": {},
   "outputs": [],
   "source": [
    "train_indices = np.arange(0, train_len)\n",
    "test_indices = np.arange(train_len, all_features.shape[0])"
   ]
  },
  {
   "cell_type": "code",
   "execution_count": 35,
   "metadata": {},
   "outputs": [],
   "source": [
    "from keras_tqdm import TQDMNotebookCallback\n",
    "from ipywidgets import IntProgress"
   ]
  },
  {
   "cell_type": "code",
   "execution_count": 36,
   "metadata": {},
   "outputs": [],
   "source": [
    "start_fold = 4 # <= 0 for invalid, train from fold 1, > 0: used to train from fold=start_fold\n",
    "resume_file_prefix = '0624_rnn' # whatever we like"
   ]
  },
  {
   "cell_type": "code",
   "execution_count": 37,
   "metadata": {
    "scrolled": true
   },
   "outputs": [
    {
     "name": "stdout",
     "output_type": "stream",
     "text": [
      "[0.         0.         0.05646204 ... 0.18667793 0.         0.1196271 ]\n",
      "[1.59605435 0.25240805 0.52338929 ... 0.19798454 1.56696975 0.31854258]\n",
      "WARNING:tensorflow:From E:\\Anaconda3\\envs\\tensorflow\\lib\\site-packages\\tensorflow\\contrib\\learn\\python\\learn\\datasets\\base.py:198: retry (from tensorflow.contrib.learn.python.learn.datasets.base) is deprecated and will be removed in a future version.\n",
      "Instructions for updating:\n",
      "Use the retry module or similar alternatives.\n",
      "WARNING:tensorflow:From E:\\Anaconda3\\envs\\tensorflow\\lib\\site-packages\\tensorflow\\python\\util\\deprecation.py:497: calling conv1d (from tensorflow.python.ops.nn_ops) with data_format=NHWC is deprecated and will be removed in a future version.\n",
      "Instructions for updating:\n",
      "`NHWC` for data_format is deprecated, use `NWC` instead\n",
      "__________________________________________________________________________________________________\n",
      "Layer (type)                    Output Shape         Param #     Connected to                     \n",
      "==================================================================================================\n",
      "desc (InputLayer)               (None, 150)          0                                            \n",
      "__________________________________________________________________________________________________\n",
      "title (InputLayer)              (None, 80)           0                                            \n",
      "__________________________________________________________________________________________________\n",
      "embedding_10 (Embedding)        (None, 150, 300)     150000000   desc[0][0]                       \n",
      "__________________________________________________________________________________________________\n",
      "embedding_11 (Embedding)        (None, 80, 100)      20000000    title[0][0]                      \n",
      "__________________________________________________________________________________________________\n",
      "spatial_dropout1d_1 (SpatialDro (None, 150, 300)     0           embedding_10[0][0]               \n",
      "__________________________________________________________________________________________________\n",
      "spatial_dropout1d_2 (SpatialDro (None, 80, 100)      0           embedding_11[0][0]               \n",
      "__________________________________________________________________________________________________\n",
      "bidirectional_1 (Bidirectional) (None, 150, 256)     330240      spatial_dropout1d_1[0][0]        \n",
      "__________________________________________________________________________________________________\n",
      "bidirectional_2 (Bidirectional) (None, 80, 64)       25728       spatial_dropout1d_2[0][0]        \n",
      "__________________________________________________________________________________________________\n",
      "conv1d_1 (Conv1D)               (None, 148, 64)      49216       bidirectional_1[0][0]            \n",
      "__________________________________________________________________________________________________\n",
      "conv1d_2 (Conv1D)               (None, 78, 16)       3088        bidirectional_2[0][0]            \n",
      "__________________________________________________________________________________________________\n",
      "image_top_1 (InputLayer)        (None, 1)            0                                            \n",
      "__________________________________________________________________________________________________\n",
      "param_1 (InputLayer)            (None, 1)            0                                            \n",
      "__________________________________________________________________________________________________\n",
      "param_2 (InputLayer)            (None, 1)            0                                            \n",
      "__________________________________________________________________________________________________\n",
      "param_3 (InputLayer)            (None, 1)            0                                            \n",
      "__________________________________________________________________________________________________\n",
      "city (InputLayer)               (None, 1)            0                                            \n",
      "__________________________________________________________________________________________________\n",
      "region (InputLayer)             (None, 1)            0                                            \n",
      "__________________________________________________________________________________________________\n",
      "category_name (InputLayer)      (None, 1)            0                                            \n",
      "__________________________________________________________________________________________________\n",
      "parent_category_name (InputLaye (None, 1)            0                                            \n",
      "__________________________________________________________________________________________________\n",
      "user_type (InputLayer)          (None, 1)            0                                            \n",
      "__________________________________________________________________________________________________\n",
      "global_average_pooling1d_1 (Glo (None, 64)           0           conv1d_1[0][0]                   \n",
      "__________________________________________________________________________________________________\n",
      "global_max_pooling1d_1 (GlobalM (None, 64)           0           conv1d_1[0][0]                   \n",
      "__________________________________________________________________________________________________\n",
      "global_average_pooling1d_2 (Glo (None, 16)           0           conv1d_2[0][0]                   \n",
      "__________________________________________________________________________________________________\n",
      "global_max_pooling1d_2 (GlobalM (None, 16)           0           conv1d_2[0][0]                   \n",
      "__________________________________________________________________________________________________\n",
      "embedding_1 (Embedding)         (None, 1, 10)        30640       image_top_1[0][0]                \n",
      "__________________________________________________________________________________________________\n",
      "embedding_2 (Embedding)         (None, 1, 10)        3720        param_1[0][0]                    \n",
      "__________________________________________________________________________________________________\n",
      "embedding_3 (Embedding)         (None, 1, 10)        2780        param_2[0][0]                    \n",
      "__________________________________________________________________________________________________\n",
      "embedding_4 (Embedding)         (None, 1, 10)        12770       param_3[0][0]                    \n",
      "__________________________________________________________________________________________________\n",
      "embedding_5 (Embedding)         (None, 1, 10)        18240       city[0][0]                       \n",
      "__________________________________________________________________________________________________\n",
      "embedding_6 (Embedding)         (None, 1, 10)        280         region[0][0]                     \n",
      "__________________________________________________________________________________________________\n",
      "embedding_7 (Embedding)         (None, 1, 10)        470         category_name[0][0]              \n",
      "__________________________________________________________________________________________________\n",
      "embedding_8 (Embedding)         (None, 1, 1)         9           parent_category_name[0][0]       \n",
      "__________________________________________________________________________________________________\n",
      "embedding_9 (Embedding)         (None, 1, 1)         3           user_type[0][0]                  \n",
      "__________________________________________________________________________________________________\n",
      "concatenate_3 (Concatenate)     (None, 128)          0           global_average_pooling1d_1[0][0] \n",
      "                                                                 global_max_pooling1d_1[0][0]     \n",
      "__________________________________________________________________________________________________\n",
      "concatenate_4 (Concatenate)     (None, 32)           0           global_average_pooling1d_2[0][0] \n",
      "                                                                 global_max_pooling1d_2[0][0]     \n",
      "__________________________________________________________________________________________________\n",
      "weekday (InputLayer)            (None, 1)            0                                            \n"
     ]
    },
    {
     "name": "stdout",
     "output_type": "stream",
     "text": [
      "__________________________________________________________________________________________________\n",
      "num_words_title (InputLayer)    (None, 1)            0                                            \n",
      "__________________________________________________________________________________________________\n",
      "num_words_description (InputLay (None, 1)            0                                            \n",
      "__________________________________________________________________________________________________\n",
      "num_unique_words_title (InputLa (None, 1)            0                                            \n",
      "__________________________________________________________________________________________________\n",
      "num_unique_words_description (I (None, 1)            0                                            \n",
      "__________________________________________________________________________________________________\n",
      "words_vs_unique_title (InputLay (None, 1)            0                                            \n",
      "__________________________________________________________________________________________________\n",
      "words_vs_unique_description (In (None, 1)            0                                            \n",
      "__________________________________________________________________________________________________\n",
      "num_desc_punct (InputLayer)     (None, 1)            0                                            \n",
      "__________________________________________________________________________________________________\n",
      "avg_times_up_user (InputLayer)  (None, 1)            0                                            \n",
      "__________________________________________________________________________________________________\n",
      "avg_days_up_user (InputLayer)   (None, 1)            0                                            \n",
      "__________________________________________________________________________________________________\n",
      "med_times_up_user (InputLayer)  (None, 1)            0                                            \n",
      "__________________________________________________________________________________________________\n",
      "med_days_up_user (InputLayer)   (None, 1)            0                                            \n",
      "__________________________________________________________________________________________________\n",
      "n_user_items (InputLayer)       (None, 1)            0                                            \n",
      "__________________________________________________________________________________________________\n",
      "price (InputLayer)              (None, 1)            0                                            \n",
      "__________________________________________________________________________________________________\n",
      "item_seq_number (InputLayer)    (None, 1)            0                                            \n",
      "__________________________________________________________________________________________________\n",
      "flatten_1 (Flatten)             (None, 10)           0           embedding_1[0][0]                \n",
      "__________________________________________________________________________________________________\n",
      "flatten_2 (Flatten)             (None, 10)           0           embedding_2[0][0]                \n",
      "__________________________________________________________________________________________________\n",
      "flatten_3 (Flatten)             (None, 10)           0           embedding_3[0][0]                \n",
      "__________________________________________________________________________________________________\n",
      "flatten_4 (Flatten)             (None, 10)           0           embedding_4[0][0]                \n",
      "__________________________________________________________________________________________________\n",
      "flatten_5 (Flatten)             (None, 10)           0           embedding_5[0][0]                \n",
      "__________________________________________________________________________________________________\n",
      "flatten_6 (Flatten)             (None, 10)           0           embedding_6[0][0]                \n",
      "__________________________________________________________________________________________________\n",
      "flatten_7 (Flatten)             (None, 10)           0           embedding_7[0][0]                \n",
      "__________________________________________________________________________________________________\n",
      "flatten_8 (Flatten)             (None, 1)            0           embedding_8[0][0]                \n",
      "__________________________________________________________________________________________________\n",
      "flatten_9 (Flatten)             (None, 1)            0           embedding_9[0][0]                \n",
      "__________________________________________________________________________________________________\n",
      "dropout_1 (Dropout)             (None, 128)          0           concatenate_3[0][0]              \n",
      "__________________________________________________________________________________________________\n",
      "dropout_2 (Dropout)             (None, 32)           0           concatenate_4[0][0]              \n",
      "__________________________________________________________________________________________________\n",
      "vgg16_image_pca_feature_1 (Inpu (None, 1)            0                                            \n",
      "__________________________________________________________________________________________________\n",
      "vgg16_image_pca_feature_2 (Inpu (None, 1)            0                                            \n",
      "__________________________________________________________________________________________________\n",
      "vgg16_image_pca_feature_3 (Inpu (None, 1)            0                                            \n",
      "__________________________________________________________________________________________________\n",
      "vgg16_image_pca_feature_4 (Inpu (None, 1)            0                                            \n",
      "__________________________________________________________________________________________________\n",
      "vgg16_image_pca_feature_5 (Inpu (None, 1)            0                                            \n",
      "__________________________________________________________________________________________________\n",
      "vgg16_image_pca_feature_6 (Inpu (None, 1)            0                                            \n",
      "__________________________________________________________________________________________________\n",
      "vgg16_image_pca_feature_7 (Inpu (None, 1)            0                                            \n",
      "__________________________________________________________________________________________________\n",
      "vgg16_image_pca_feature_8 (Inpu (None, 1)            0                                            \n",
      "__________________________________________________________________________________________________\n",
      "vgg16_image_pca_feature_9 (Inpu (None, 1)            0                                            \n",
      "__________________________________________________________________________________________________\n",
      "vgg16_image_pca_feature_10 (Inp (None, 1)            0                                            \n",
      "__________________________________________________________________________________________________\n",
      "vgg16_image_pca_feature_11 (Inp (None, 1)            0                                            \n",
      "__________________________________________________________________________________________________\n",
      "vgg16_image_pca_feature_12 (Inp (None, 1)            0                                            \n",
      "__________________________________________________________________________________________________\n",
      "vgg16_image_pca_feature_13 (Inp (None, 1)            0                                            \n",
      "__________________________________________________________________________________________________\n",
      "vgg16_image_pca_feature_14 (Inp (None, 1)            0                                            \n",
      "__________________________________________________________________________________________________\n",
      "vgg16_image_pca_feature_15 (Inp (None, 1)            0                                            \n",
      "__________________________________________________________________________________________________\n",
      "vgg16_image_pca_feature_16 (Inp (None, 1)            0                                            \n"
     ]
    },
    {
     "name": "stdout",
     "output_type": "stream",
     "text": [
      "__________________________________________________________________________________________________\n",
      "vgg16_image_pca_feature_17 (Inp (None, 1)            0                                            \n",
      "__________________________________________________________________________________________________\n",
      "vgg16_image_pca_feature_18 (Inp (None, 1)            0                                            \n",
      "__________________________________________________________________________________________________\n",
      "vgg16_image_pca_feature_19 (Inp (None, 1)            0                                            \n",
      "__________________________________________________________________________________________________\n",
      "vgg16_image_pca_feature_20 (Inp (None, 1)            0                                            \n",
      "__________________________________________________________________________________________________\n",
      "vgg16_image_pca_feature_21 (Inp (None, 1)            0                                            \n",
      "__________________________________________________________________________________________________\n",
      "vgg16_image_pca_feature_22 (Inp (None, 1)            0                                            \n",
      "__________________________________________________________________________________________________\n",
      "vgg16_image_pca_feature_23 (Inp (None, 1)            0                                            \n",
      "__________________________________________________________________________________________________\n",
      "vgg16_image_pca_feature_24 (Inp (None, 1)            0                                            \n",
      "__________________________________________________________________________________________________\n",
      "vgg16_image_pca_feature_25 (Inp (None, 1)            0                                            \n",
      "__________________________________________________________________________________________________\n",
      "vgg16_image_pca_feature_26 (Inp (None, 1)            0                                            \n",
      "__________________________________________________________________________________________________\n",
      "vgg16_image_pca_feature_27 (Inp (None, 1)            0                                            \n",
      "__________________________________________________________________________________________________\n",
      "vgg16_image_pca_feature_28 (Inp (None, 1)            0                                            \n",
      "__________________________________________________________________________________________________\n",
      "vgg16_image_pca_feature_29 (Inp (None, 1)            0                                            \n",
      "__________________________________________________________________________________________________\n",
      "vgg16_image_pca_feature_30 (Inp (None, 1)            0                                            \n",
      "__________________________________________________________________________________________________\n",
      "concatenate_1 (Concatenate)     (None, 15)           0           weekday[0][0]                    \n",
      "                                                                 num_words_title[0][0]            \n",
      "                                                                 num_words_description[0][0]      \n",
      "                                                                 num_unique_words_title[0][0]     \n",
      "                                                                 num_unique_words_description[0][0\n",
      "                                                                 words_vs_unique_title[0][0]      \n",
      "                                                                 words_vs_unique_description[0][0]\n",
      "                                                                 num_desc_punct[0][0]             \n",
      "                                                                 avg_times_up_user[0][0]          \n",
      "                                                                 avg_days_up_user[0][0]           \n",
      "                                                                 med_times_up_user[0][0]          \n",
      "                                                                 med_days_up_user[0][0]           \n",
      "                                                                 n_user_items[0][0]               \n",
      "                                                                 price[0][0]                      \n",
      "                                                                 item_seq_number[0][0]            \n",
      "__________________________________________________________________________________________________\n",
      "concatenate_2 (Concatenate)     (None, 72)           0           flatten_1[0][0]                  \n",
      "                                                                 flatten_2[0][0]                  \n",
      "                                                                 flatten_3[0][0]                  \n",
      "                                                                 flatten_4[0][0]                  \n",
      "                                                                 flatten_5[0][0]                  \n",
      "                                                                 flatten_6[0][0]                  \n",
      "                                                                 flatten_7[0][0]                  \n",
      "                                                                 flatten_8[0][0]                  \n",
      "                                                                 flatten_9[0][0]                  \n",
      "__________________________________________________________________________________________________\n",
      "concatenate_5 (Concatenate)     (None, 160)          0           dropout_1[0][0]                  \n",
      "                                                                 dropout_2[0][0]                  \n",
      "__________________________________________________________________________________________________\n",
      "concatenate_6 (Concatenate)     (None, 30)           0           vgg16_image_pca_feature_1[0][0]  \n",
      "                                                                 vgg16_image_pca_feature_2[0][0]  \n",
      "                                                                 vgg16_image_pca_feature_3[0][0]  \n",
      "                                                                 vgg16_image_pca_feature_4[0][0]  \n",
      "                                                                 vgg16_image_pca_feature_5[0][0]  \n",
      "                                                                 vgg16_image_pca_feature_6[0][0]  \n",
      "                                                                 vgg16_image_pca_feature_7[0][0]  \n",
      "                                                                 vgg16_image_pca_feature_8[0][0]  \n",
      "                                                                 vgg16_image_pca_feature_9[0][0]  \n",
      "                                                                 vgg16_image_pca_feature_10[0][0] \n",
      "                                                                 vgg16_image_pca_feature_11[0][0] \n",
      "                                                                 vgg16_image_pca_feature_12[0][0] \n",
      "                                                                 vgg16_image_pca_feature_13[0][0] \n",
      "                                                                 vgg16_image_pca_feature_14[0][0] \n",
      "                                                                 vgg16_image_pca_feature_15[0][0] \n",
      "                                                                 vgg16_image_pca_feature_16[0][0] \n",
      "                                                                 vgg16_image_pca_feature_17[0][0] \n",
      "                                                                 vgg16_image_pca_feature_18[0][0] \n",
      "                                                                 vgg16_image_pca_feature_19[0][0] \n",
      "                                                                 vgg16_image_pca_feature_20[0][0] \n",
      "                                                                 vgg16_image_pca_feature_21[0][0] \n",
      "                                                                 vgg16_image_pca_feature_22[0][0] \n",
      "                                                                 vgg16_image_pca_feature_23[0][0] \n",
      "                                                                 vgg16_image_pca_feature_24[0][0] \n"
     ]
    },
    {
     "name": "stdout",
     "output_type": "stream",
     "text": [
      "                                                                 vgg16_image_pca_feature_25[0][0] \n",
      "                                                                 vgg16_image_pca_feature_26[0][0] \n",
      "                                                                 vgg16_image_pca_feature_27[0][0] \n",
      "                                                                 vgg16_image_pca_feature_28[0][0] \n",
      "                                                                 vgg16_image_pca_feature_29[0][0] \n",
      "                                                                 vgg16_image_pca_feature_30[0][0] \n",
      "__________________________________________________________________________________________________\n",
      "dense_1 (Dense)                 (None, 32)           512         concatenate_1[0][0]              \n",
      "__________________________________________________________________________________________________\n",
      "dense_2 (Dense)                 (None, 64)           4672        concatenate_2[0][0]              \n",
      "__________________________________________________________________________________________________\n",
      "dense_3 (Dense)                 (None, 64)           10304       concatenate_5[0][0]              \n",
      "__________________________________________________________________________________________________\n",
      "dense_4 (Dense)                 (None, 32)           992         concatenate_6[0][0]              \n",
      "__________________________________________________________________________________________________\n",
      "concatenate_7 (Concatenate)     (None, 192)          0           dense_1[0][0]                    \n",
      "                                                                 dense_2[0][0]                    \n",
      "                                                                 dense_3[0][0]                    \n",
      "                                                                 dense_4[0][0]                    \n",
      "__________________________________________________________________________________________________\n",
      "batch_normalization_1 (BatchNor (None, 192)          768         concatenate_7[0][0]              \n",
      "__________________________________________________________________________________________________\n",
      "dropout_3 (Dropout)             (None, 192)          0           batch_normalization_1[0][0]      \n",
      "__________________________________________________________________________________________________\n",
      "dense_5 (Dense)                 (None, 128)          24704       dropout_3[0][0]                  \n",
      "__________________________________________________________________________________________________\n",
      "batch_normalization_2 (BatchNor (None, 128)          512         dense_5[0][0]                    \n",
      "__________________________________________________________________________________________________\n",
      "dense_6 (Dense)                 (None, 1)            129         batch_normalization_2[0][0]      \n",
      "==================================================================================================\n",
      "Total params: 170,519,777\n",
      "Trainable params: 519,137\n",
      "Non-trainable params: 170,000,640\n",
      "__________________________________________________________________________________________________\n"
     ]
    },
    {
     "data": {
      "application/vnd.jupyter.widget-view+json": {
       "model_id": "e2f85e45c9674785a54dbb1e7443167d",
       "version_major": 2,
       "version_minor": 0
      },
      "text/plain": [
       "HBox(children=(IntProgress(value=0, description='Training', max=10), HTML(value='')))"
      ]
     },
     "metadata": {},
     "output_type": "display_data"
    },
    {
     "name": "stdout",
     "output_type": "stream",
     "text": [
      "\n",
      "Epoch 00001: LearningRateScheduler reducing learning rate to 0.001.\n"
     ]
    },
    {
     "data": {
      "application/vnd.jupyter.widget-view+json": {
       "model_id": "8d6ebbd282f94151b2b694bbfa5214ae",
       "version_major": 2,
       "version_minor": 0
      },
      "text/plain": [
       "HBox(children=(IntProgress(value=0, description='Epoch 0', max=18793), HTML(value='')))"
      ]
     },
     "metadata": {},
     "output_type": "display_data"
    },
    {
     "name": "stdout",
     "output_type": "stream",
     "text": [
      "\n",
      "Epoch 00001: val_loss improved from inf to 0.21992, saving model to rnn_weights/model_self_train_with_image_fold_4.hdf5\n",
      "\n",
      "Epoch 00002: LearningRateScheduler reducing learning rate to 0.001.\n"
     ]
    },
    {
     "data": {
      "application/vnd.jupyter.widget-view+json": {
       "model_id": "bb92fbdb585641759887057e2179ea94",
       "version_major": 2,
       "version_minor": 0
      },
      "text/plain": [
       "HBox(children=(IntProgress(value=0, description='Epoch 1', max=18793), HTML(value='')))"
      ]
     },
     "metadata": {},
     "output_type": "display_data"
    },
    {
     "name": "stdout",
     "output_type": "stream",
     "text": [
      "\n",
      "Epoch 00002: val_loss improved from 0.21992 to 0.21796, saving model to rnn_weights/model_self_train_with_image_fold_4.hdf5\n",
      "\n",
      "Epoch 00003: LearningRateScheduler reducing learning rate to 0.001.\n"
     ]
    },
    {
     "data": {
      "application/vnd.jupyter.widget-view+json": {
       "model_id": "c2ae19630d204b68af9c303d09e8a6d8",
       "version_major": 2,
       "version_minor": 0
      },
      "text/plain": [
       "HBox(children=(IntProgress(value=0, description='Epoch 2', max=18793), HTML(value='')))"
      ]
     },
     "metadata": {},
     "output_type": "display_data"
    },
    {
     "name": "stdout",
     "output_type": "stream",
     "text": [
      "\n",
      "Epoch 00003: val_loss improved from 0.21796 to 0.21713, saving model to rnn_weights/model_self_train_with_image_fold_4.hdf5\n",
      "\n",
      "Epoch 00004: LearningRateScheduler reducing learning rate to 0.001.\n"
     ]
    },
    {
     "data": {
      "application/vnd.jupyter.widget-view+json": {
       "model_id": "c51353e13aef41cb9e541ede8a9c7187",
       "version_major": 2,
       "version_minor": 0
      },
      "text/plain": [
       "HBox(children=(IntProgress(value=0, description='Epoch 3', max=18793), HTML(value='')))"
      ]
     },
     "metadata": {},
     "output_type": "display_data"
    },
    {
     "name": "stdout",
     "output_type": "stream",
     "text": [
      "\n",
      "Epoch 00004: val_loss improved from 0.21713 to 0.21657, saving model to rnn_weights/model_self_train_with_image_fold_4.hdf5\n",
      "\n",
      "Epoch 00005: LearningRateScheduler reducing learning rate to 0.001.\n"
     ]
    },
    {
     "data": {
      "application/vnd.jupyter.widget-view+json": {
       "model_id": "47e5d593779842cd8b6809c6cc72526b",
       "version_major": 2,
       "version_minor": 0
      },
      "text/plain": [
       "HBox(children=(IntProgress(value=0, description='Epoch 4', max=18793), HTML(value='')))"
      ]
     },
     "metadata": {},
     "output_type": "display_data"
    },
    {
     "name": "stdout",
     "output_type": "stream",
     "text": [
      "\n",
      "Epoch 00005: val_loss did not improve from 0.21657\n",
      "\n",
      "Epoch 00006: LearningRateScheduler reducing learning rate to 0.001.\n"
     ]
    },
    {
     "data": {
      "application/vnd.jupyter.widget-view+json": {
       "model_id": "cd786ef85a2c4e70aa33f34eddc21ca4",
       "version_major": 2,
       "version_minor": 0
      },
      "text/plain": [
       "HBox(children=(IntProgress(value=0, description='Epoch 5', max=18793), HTML(value='')))"
      ]
     },
     "metadata": {},
     "output_type": "display_data"
    },
    {
     "name": "stdout",
     "output_type": "stream",
     "text": [
      "\n",
      "Epoch 00006: val_loss improved from 0.21657 to 0.21638, saving model to rnn_weights/model_self_train_with_image_fold_4.hdf5\n",
      "\n",
      "Epoch 00007: LearningRateScheduler reducing learning rate to 0.0002.\n"
     ]
    },
    {
     "data": {
      "application/vnd.jupyter.widget-view+json": {
       "model_id": "ea2c13c15245478abec5a255aaa9bfac",
       "version_major": 2,
       "version_minor": 0
      },
      "text/plain": [
       "HBox(children=(IntProgress(value=0, description='Epoch 6', max=18793), HTML(value='')))"
      ]
     },
     "metadata": {},
     "output_type": "display_data"
    },
    {
     "name": "stdout",
     "output_type": "stream",
     "text": [
      "\n",
      "Epoch 00007: val_loss improved from 0.21638 to 0.21577, saving model to rnn_weights/model_self_train_with_image_fold_4.hdf5\n",
      "\n",
      "Epoch 00008: LearningRateScheduler reducing learning rate to 0.0002.\n"
     ]
    },
    {
     "data": {
      "application/vnd.jupyter.widget-view+json": {
       "model_id": "6083b98b945b445b9a50f1ba3788028b",
       "version_major": 2,
       "version_minor": 0
      },
      "text/plain": [
       "HBox(children=(IntProgress(value=0, description='Epoch 7', max=18793), HTML(value='')))"
      ]
     },
     "metadata": {},
     "output_type": "display_data"
    },
    {
     "name": "stdout",
     "output_type": "stream",
     "text": [
      "\n",
      "Epoch 00008: val_loss did not improve from 0.21577\n",
      "\n",
      "Epoch 00009: LearningRateScheduler reducing learning rate to 0.0002.\n"
     ]
    },
    {
     "data": {
      "application/vnd.jupyter.widget-view+json": {
       "model_id": "e2d29c191b714b8f9a9665875fd5d2c4",
       "version_major": 2,
       "version_minor": 0
      },
      "text/plain": [
       "HBox(children=(IntProgress(value=0, description='Epoch 8', max=18793), HTML(value='')))"
      ]
     },
     "metadata": {},
     "output_type": "display_data"
    },
    {
     "name": "stdout",
     "output_type": "stream",
     "text": [
      "\n",
      "Epoch 00009: val_loss did not improve from 0.21577\n",
      "\n",
      "Epoch 00010: LearningRateScheduler reducing learning rate to 0.0002.\n"
     ]
    },
    {
     "data": {
      "application/vnd.jupyter.widget-view+json": {
       "model_id": "c0188bf92e2b47ffaa5efb4e63a83862",
       "version_major": 2,
       "version_minor": 0
      },
      "text/plain": [
       "HBox(children=(IntProgress(value=0, description='Epoch 9', max=18793), HTML(value='')))"
      ]
     },
     "metadata": {},
     "output_type": "display_data"
    },
    {
     "name": "stdout",
     "output_type": "stream",
     "text": [
      "\n",
      "Epoch 00010: val_loss improved from 0.21577 to 0.21569, saving model to rnn_weights/model_self_train_with_image_fold_4.hdf5\n",
      "\n",
      "__________________________________________________________________________________________________\n",
      "Layer (type)                    Output Shape         Param #     Connected to                     \n",
      "==================================================================================================\n",
      "desc (InputLayer)               (None, 150)          0                                            \n",
      "__________________________________________________________________________________________________\n",
      "title (InputLayer)              (None, 80)           0                                            \n",
      "__________________________________________________________________________________________________\n",
      "embedding_21 (Embedding)        (None, 150, 300)     150000000   desc[0][0]                       \n",
      "__________________________________________________________________________________________________\n",
      "embedding_22 (Embedding)        (None, 80, 100)      20000000    title[0][0]                      \n",
      "__________________________________________________________________________________________________\n",
      "spatial_dropout1d_3 (SpatialDro (None, 150, 300)     0           embedding_21[0][0]               \n",
      "__________________________________________________________________________________________________\n",
      "spatial_dropout1d_4 (SpatialDro (None, 80, 100)      0           embedding_22[0][0]               \n",
      "__________________________________________________________________________________________________\n",
      "bidirectional_3 (Bidirectional) (None, 150, 256)     330240      spatial_dropout1d_3[0][0]        \n",
      "__________________________________________________________________________________________________\n",
      "bidirectional_4 (Bidirectional) (None, 80, 64)       25728       spatial_dropout1d_4[0][0]        \n",
      "__________________________________________________________________________________________________\n",
      "conv1d_3 (Conv1D)               (None, 148, 64)      49216       bidirectional_3[0][0]            \n",
      "__________________________________________________________________________________________________\n",
      "conv1d_4 (Conv1D)               (None, 78, 16)       3088        bidirectional_4[0][0]            \n",
      "__________________________________________________________________________________________________\n",
      "image_top_1 (InputLayer)        (None, 1)            0                                            \n",
      "__________________________________________________________________________________________________\n",
      "param_1 (InputLayer)            (None, 1)            0                                            \n",
      "__________________________________________________________________________________________________\n",
      "param_2 (InputLayer)            (None, 1)            0                                            \n",
      "__________________________________________________________________________________________________\n",
      "param_3 (InputLayer)            (None, 1)            0                                            \n",
      "__________________________________________________________________________________________________\n",
      "city (InputLayer)               (None, 1)            0                                            \n",
      "__________________________________________________________________________________________________\n",
      "region (InputLayer)             (None, 1)            0                                            \n",
      "__________________________________________________________________________________________________\n",
      "category_name (InputLayer)      (None, 1)            0                                            \n",
      "__________________________________________________________________________________________________\n",
      "parent_category_name (InputLaye (None, 1)            0                                            \n",
      "__________________________________________________________________________________________________\n",
      "user_type (InputLayer)          (None, 1)            0                                            \n",
      "__________________________________________________________________________________________________\n",
      "global_average_pooling1d_3 (Glo (None, 64)           0           conv1d_3[0][0]                   \n",
      "__________________________________________________________________________________________________\n",
      "global_max_pooling1d_3 (GlobalM (None, 64)           0           conv1d_3[0][0]                   \n",
      "__________________________________________________________________________________________________\n",
      "global_average_pooling1d_4 (Glo (None, 16)           0           conv1d_4[0][0]                   \n",
      "__________________________________________________________________________________________________\n",
      "global_max_pooling1d_4 (GlobalM (None, 16)           0           conv1d_4[0][0]                   \n",
      "__________________________________________________________________________________________________\n",
      "embedding_12 (Embedding)        (None, 1, 10)        30640       image_top_1[0][0]                \n",
      "__________________________________________________________________________________________________\n",
      "embedding_13 (Embedding)        (None, 1, 10)        3720        param_1[0][0]                    \n",
      "__________________________________________________________________________________________________\n",
      "embedding_14 (Embedding)        (None, 1, 10)        2780        param_2[0][0]                    \n",
      "__________________________________________________________________________________________________\n",
      "embedding_15 (Embedding)        (None, 1, 10)        12770       param_3[0][0]                    \n",
      "__________________________________________________________________________________________________\n",
      "embedding_16 (Embedding)        (None, 1, 10)        18240       city[0][0]                       \n",
      "__________________________________________________________________________________________________\n",
      "embedding_17 (Embedding)        (None, 1, 10)        280         region[0][0]                     \n",
      "__________________________________________________________________________________________________\n",
      "embedding_18 (Embedding)        (None, 1, 10)        470         category_name[0][0]              \n",
      "__________________________________________________________________________________________________\n",
      "embedding_19 (Embedding)        (None, 1, 1)         9           parent_category_name[0][0]       \n",
      "__________________________________________________________________________________________________\n",
      "embedding_20 (Embedding)        (None, 1, 1)         3           user_type[0][0]                  \n",
      "__________________________________________________________________________________________________\n",
      "concatenate_10 (Concatenate)    (None, 128)          0           global_average_pooling1d_3[0][0] \n",
      "                                                                 global_max_pooling1d_3[0][0]     \n",
      "__________________________________________________________________________________________________\n",
      "concatenate_11 (Concatenate)    (None, 32)           0           global_average_pooling1d_4[0][0] \n",
      "                                                                 global_max_pooling1d_4[0][0]     \n",
      "__________________________________________________________________________________________________\n",
      "weekday (InputLayer)            (None, 1)            0                                            \n",
      "__________________________________________________________________________________________________\n",
      "num_words_title (InputLayer)    (None, 1)            0                                            \n",
      "__________________________________________________________________________________________________\n",
      "num_words_description (InputLay (None, 1)            0                                            \n",
      "__________________________________________________________________________________________________\n",
      "num_unique_words_title (InputLa (None, 1)            0                                            \n",
      "__________________________________________________________________________________________________\n"
     ]
    },
    {
     "name": "stdout",
     "output_type": "stream",
     "text": [
      "num_unique_words_description (I (None, 1)            0                                            \n",
      "__________________________________________________________________________________________________\n",
      "words_vs_unique_title (InputLay (None, 1)            0                                            \n",
      "__________________________________________________________________________________________________\n",
      "words_vs_unique_description (In (None, 1)            0                                            \n",
      "__________________________________________________________________________________________________\n",
      "num_desc_punct (InputLayer)     (None, 1)            0                                            \n",
      "__________________________________________________________________________________________________\n",
      "avg_times_up_user (InputLayer)  (None, 1)            0                                            \n",
      "__________________________________________________________________________________________________\n",
      "avg_days_up_user (InputLayer)   (None, 1)            0                                            \n",
      "__________________________________________________________________________________________________\n",
      "med_times_up_user (InputLayer)  (None, 1)            0                                            \n",
      "__________________________________________________________________________________________________\n",
      "med_days_up_user (InputLayer)   (None, 1)            0                                            \n",
      "__________________________________________________________________________________________________\n",
      "n_user_items (InputLayer)       (None, 1)            0                                            \n",
      "__________________________________________________________________________________________________\n",
      "price (InputLayer)              (None, 1)            0                                            \n",
      "__________________________________________________________________________________________________\n",
      "item_seq_number (InputLayer)    (None, 1)            0                                            \n",
      "__________________________________________________________________________________________________\n",
      "flatten_10 (Flatten)            (None, 10)           0           embedding_12[0][0]               \n",
      "__________________________________________________________________________________________________\n",
      "flatten_11 (Flatten)            (None, 10)           0           embedding_13[0][0]               \n",
      "__________________________________________________________________________________________________\n",
      "flatten_12 (Flatten)            (None, 10)           0           embedding_14[0][0]               \n",
      "__________________________________________________________________________________________________\n",
      "flatten_13 (Flatten)            (None, 10)           0           embedding_15[0][0]               \n",
      "__________________________________________________________________________________________________\n",
      "flatten_14 (Flatten)            (None, 10)           0           embedding_16[0][0]               \n",
      "__________________________________________________________________________________________________\n",
      "flatten_15 (Flatten)            (None, 10)           0           embedding_17[0][0]               \n",
      "__________________________________________________________________________________________________\n",
      "flatten_16 (Flatten)            (None, 10)           0           embedding_18[0][0]               \n",
      "__________________________________________________________________________________________________\n",
      "flatten_17 (Flatten)            (None, 1)            0           embedding_19[0][0]               \n",
      "__________________________________________________________________________________________________\n",
      "flatten_18 (Flatten)            (None, 1)            0           embedding_20[0][0]               \n",
      "__________________________________________________________________________________________________\n",
      "dropout_4 (Dropout)             (None, 128)          0           concatenate_10[0][0]             \n",
      "__________________________________________________________________________________________________\n",
      "dropout_5 (Dropout)             (None, 32)           0           concatenate_11[0][0]             \n",
      "__________________________________________________________________________________________________\n",
      "vgg16_image_pca_feature_1 (Inpu (None, 1)            0                                            \n",
      "__________________________________________________________________________________________________\n",
      "vgg16_image_pca_feature_2 (Inpu (None, 1)            0                                            \n",
      "__________________________________________________________________________________________________\n",
      "vgg16_image_pca_feature_3 (Inpu (None, 1)            0                                            \n",
      "__________________________________________________________________________________________________\n",
      "vgg16_image_pca_feature_4 (Inpu (None, 1)            0                                            \n",
      "__________________________________________________________________________________________________\n",
      "vgg16_image_pca_feature_5 (Inpu (None, 1)            0                                            \n",
      "__________________________________________________________________________________________________\n",
      "vgg16_image_pca_feature_6 (Inpu (None, 1)            0                                            \n",
      "__________________________________________________________________________________________________\n",
      "vgg16_image_pca_feature_7 (Inpu (None, 1)            0                                            \n",
      "__________________________________________________________________________________________________\n",
      "vgg16_image_pca_feature_8 (Inpu (None, 1)            0                                            \n",
      "__________________________________________________________________________________________________\n",
      "vgg16_image_pca_feature_9 (Inpu (None, 1)            0                                            \n",
      "__________________________________________________________________________________________________\n",
      "vgg16_image_pca_feature_10 (Inp (None, 1)            0                                            \n",
      "__________________________________________________________________________________________________\n",
      "vgg16_image_pca_feature_11 (Inp (None, 1)            0                                            \n",
      "__________________________________________________________________________________________________\n",
      "vgg16_image_pca_feature_12 (Inp (None, 1)            0                                            \n",
      "__________________________________________________________________________________________________\n",
      "vgg16_image_pca_feature_13 (Inp (None, 1)            0                                            \n",
      "__________________________________________________________________________________________________\n",
      "vgg16_image_pca_feature_14 (Inp (None, 1)            0                                            \n",
      "__________________________________________________________________________________________________\n",
      "vgg16_image_pca_feature_15 (Inp (None, 1)            0                                            \n",
      "__________________________________________________________________________________________________\n",
      "vgg16_image_pca_feature_16 (Inp (None, 1)            0                                            \n",
      "__________________________________________________________________________________________________\n",
      "vgg16_image_pca_feature_17 (Inp (None, 1)            0                                            \n",
      "__________________________________________________________________________________________________\n",
      "vgg16_image_pca_feature_18 (Inp (None, 1)            0                                            \n",
      "__________________________________________________________________________________________________\n",
      "vgg16_image_pca_feature_19 (Inp (None, 1)            0                                            \n",
      "__________________________________________________________________________________________________\n"
     ]
    },
    {
     "name": "stdout",
     "output_type": "stream",
     "text": [
      "vgg16_image_pca_feature_20 (Inp (None, 1)            0                                            \n",
      "__________________________________________________________________________________________________\n",
      "vgg16_image_pca_feature_21 (Inp (None, 1)            0                                            \n",
      "__________________________________________________________________________________________________\n",
      "vgg16_image_pca_feature_22 (Inp (None, 1)            0                                            \n",
      "__________________________________________________________________________________________________\n",
      "vgg16_image_pca_feature_23 (Inp (None, 1)            0                                            \n",
      "__________________________________________________________________________________________________\n",
      "vgg16_image_pca_feature_24 (Inp (None, 1)            0                                            \n",
      "__________________________________________________________________________________________________\n",
      "vgg16_image_pca_feature_25 (Inp (None, 1)            0                                            \n",
      "__________________________________________________________________________________________________\n",
      "vgg16_image_pca_feature_26 (Inp (None, 1)            0                                            \n",
      "__________________________________________________________________________________________________\n",
      "vgg16_image_pca_feature_27 (Inp (None, 1)            0                                            \n",
      "__________________________________________________________________________________________________\n",
      "vgg16_image_pca_feature_28 (Inp (None, 1)            0                                            \n",
      "__________________________________________________________________________________________________\n",
      "vgg16_image_pca_feature_29 (Inp (None, 1)            0                                            \n",
      "__________________________________________________________________________________________________\n",
      "vgg16_image_pca_feature_30 (Inp (None, 1)            0                                            \n",
      "__________________________________________________________________________________________________\n",
      "concatenate_8 (Concatenate)     (None, 15)           0           weekday[0][0]                    \n",
      "                                                                 num_words_title[0][0]            \n",
      "                                                                 num_words_description[0][0]      \n",
      "                                                                 num_unique_words_title[0][0]     \n",
      "                                                                 num_unique_words_description[0][0\n",
      "                                                                 words_vs_unique_title[0][0]      \n",
      "                                                                 words_vs_unique_description[0][0]\n",
      "                                                                 num_desc_punct[0][0]             \n",
      "                                                                 avg_times_up_user[0][0]          \n",
      "                                                                 avg_days_up_user[0][0]           \n",
      "                                                                 med_times_up_user[0][0]          \n",
      "                                                                 med_days_up_user[0][0]           \n",
      "                                                                 n_user_items[0][0]               \n",
      "                                                                 price[0][0]                      \n",
      "                                                                 item_seq_number[0][0]            \n",
      "__________________________________________________________________________________________________\n",
      "concatenate_9 (Concatenate)     (None, 72)           0           flatten_10[0][0]                 \n",
      "                                                                 flatten_11[0][0]                 \n",
      "                                                                 flatten_12[0][0]                 \n",
      "                                                                 flatten_13[0][0]                 \n",
      "                                                                 flatten_14[0][0]                 \n",
      "                                                                 flatten_15[0][0]                 \n",
      "                                                                 flatten_16[0][0]                 \n",
      "                                                                 flatten_17[0][0]                 \n",
      "                                                                 flatten_18[0][0]                 \n",
      "__________________________________________________________________________________________________\n",
      "concatenate_12 (Concatenate)    (None, 160)          0           dropout_4[0][0]                  \n",
      "                                                                 dropout_5[0][0]                  \n",
      "__________________________________________________________________________________________________\n",
      "concatenate_13 (Concatenate)    (None, 30)           0           vgg16_image_pca_feature_1[0][0]  \n",
      "                                                                 vgg16_image_pca_feature_2[0][0]  \n",
      "                                                                 vgg16_image_pca_feature_3[0][0]  \n",
      "                                                                 vgg16_image_pca_feature_4[0][0]  \n",
      "                                                                 vgg16_image_pca_feature_5[0][0]  \n",
      "                                                                 vgg16_image_pca_feature_6[0][0]  \n",
      "                                                                 vgg16_image_pca_feature_7[0][0]  \n",
      "                                                                 vgg16_image_pca_feature_8[0][0]  \n",
      "                                                                 vgg16_image_pca_feature_9[0][0]  \n",
      "                                                                 vgg16_image_pca_feature_10[0][0] \n",
      "                                                                 vgg16_image_pca_feature_11[0][0] \n",
      "                                                                 vgg16_image_pca_feature_12[0][0] \n",
      "                                                                 vgg16_image_pca_feature_13[0][0] \n",
      "                                                                 vgg16_image_pca_feature_14[0][0] \n",
      "                                                                 vgg16_image_pca_feature_15[0][0] \n",
      "                                                                 vgg16_image_pca_feature_16[0][0] \n",
      "                                                                 vgg16_image_pca_feature_17[0][0] \n",
      "                                                                 vgg16_image_pca_feature_18[0][0] \n",
      "                                                                 vgg16_image_pca_feature_19[0][0] \n",
      "                                                                 vgg16_image_pca_feature_20[0][0] \n",
      "                                                                 vgg16_image_pca_feature_21[0][0] \n",
      "                                                                 vgg16_image_pca_feature_22[0][0] \n",
      "                                                                 vgg16_image_pca_feature_23[0][0] \n",
      "                                                                 vgg16_image_pca_feature_24[0][0] \n",
      "                                                                 vgg16_image_pca_feature_25[0][0] \n",
      "                                                                 vgg16_image_pca_feature_26[0][0] \n",
      "                                                                 vgg16_image_pca_feature_27[0][0] \n",
      "                                                                 vgg16_image_pca_feature_28[0][0] \n",
      "                                                                 vgg16_image_pca_feature_29[0][0] \n",
      "                                                                 vgg16_image_pca_feature_30[0][0] \n",
      "__________________________________________________________________________________________________\n"
     ]
    },
    {
     "name": "stdout",
     "output_type": "stream",
     "text": [
      "dense_7 (Dense)                 (None, 32)           512         concatenate_8[0][0]              \n",
      "__________________________________________________________________________________________________\n",
      "dense_8 (Dense)                 (None, 64)           4672        concatenate_9[0][0]              \n",
      "__________________________________________________________________________________________________\n",
      "dense_9 (Dense)                 (None, 64)           10304       concatenate_12[0][0]             \n",
      "__________________________________________________________________________________________________\n",
      "dense_10 (Dense)                (None, 32)           992         concatenate_13[0][0]             \n",
      "__________________________________________________________________________________________________\n",
      "concatenate_14 (Concatenate)    (None, 192)          0           dense_7[0][0]                    \n",
      "                                                                 dense_8[0][0]                    \n",
      "                                                                 dense_9[0][0]                    \n",
      "                                                                 dense_10[0][0]                   \n",
      "__________________________________________________________________________________________________\n",
      "batch_normalization_3 (BatchNor (None, 192)          768         concatenate_14[0][0]             \n",
      "__________________________________________________________________________________________________\n",
      "dropout_6 (Dropout)             (None, 192)          0           batch_normalization_3[0][0]      \n",
      "__________________________________________________________________________________________________\n",
      "dense_11 (Dense)                (None, 128)          24704       dropout_6[0][0]                  \n",
      "__________________________________________________________________________________________________\n",
      "batch_normalization_4 (BatchNor (None, 128)          512         dense_11[0][0]                   \n",
      "__________________________________________________________________________________________________\n",
      "dense_12 (Dense)                (None, 1)            129         batch_normalization_4[0][0]      \n",
      "==================================================================================================\n",
      "Total params: 170,519,777\n",
      "Trainable params: 519,137\n",
      "Non-trainable params: 170,000,640\n",
      "__________________________________________________________________________________________________\n"
     ]
    },
    {
     "data": {
      "application/vnd.jupyter.widget-view+json": {
       "model_id": "ea8a952fd646482b94239e94966d29b0",
       "version_major": 2,
       "version_minor": 0
      },
      "text/plain": [
       "HBox(children=(IntProgress(value=0, description='Training', max=10), HTML(value='')))"
      ]
     },
     "metadata": {},
     "output_type": "display_data"
    },
    {
     "name": "stdout",
     "output_type": "stream",
     "text": [
      "\n",
      "Epoch 00001: LearningRateScheduler reducing learning rate to 0.001.\n"
     ]
    },
    {
     "data": {
      "application/vnd.jupyter.widget-view+json": {
       "model_id": "b08c4f951fc242a68dd6d08e79c34985",
       "version_major": 2,
       "version_minor": 0
      },
      "text/plain": [
       "HBox(children=(IntProgress(value=0, description='Epoch 0', max=18793), HTML(value='')))"
      ]
     },
     "metadata": {},
     "output_type": "display_data"
    },
    {
     "name": "stdout",
     "output_type": "stream",
     "text": [
      "\n",
      "Epoch 00001: val_loss improved from inf to 0.22034, saving model to rnn_weights/model_self_train_with_image_fold_5.hdf5\n",
      "\n",
      "Epoch 00002: LearningRateScheduler reducing learning rate to 0.001.\n"
     ]
    },
    {
     "data": {
      "application/vnd.jupyter.widget-view+json": {
       "model_id": "4f92cc30d2544cf1bd60a5b1ba38631c",
       "version_major": 2,
       "version_minor": 0
      },
      "text/plain": [
       "HBox(children=(IntProgress(value=0, description='Epoch 1', max=18793), HTML(value='')))"
      ]
     },
     "metadata": {},
     "output_type": "display_data"
    },
    {
     "name": "stdout",
     "output_type": "stream",
     "text": [
      "\n",
      "Epoch 00002: val_loss improved from 0.22034 to 0.21884, saving model to rnn_weights/model_self_train_with_image_fold_5.hdf5\n",
      "\n",
      "Epoch 00003: LearningRateScheduler reducing learning rate to 0.001.\n"
     ]
    },
    {
     "data": {
      "application/vnd.jupyter.widget-view+json": {
       "model_id": "96cc31213bdf45379b429a88c8b88cef",
       "version_major": 2,
       "version_minor": 0
      },
      "text/plain": [
       "HBox(children=(IntProgress(value=0, description='Epoch 2', max=18793), HTML(value='')))"
      ]
     },
     "metadata": {},
     "output_type": "display_data"
    },
    {
     "name": "stdout",
     "output_type": "stream",
     "text": [
      "\n",
      "Epoch 00003: val_loss improved from 0.21884 to 0.21872, saving model to rnn_weights/model_self_train_with_image_fold_5.hdf5\n",
      "\n",
      "Epoch 00004: LearningRateScheduler reducing learning rate to 0.001.\n"
     ]
    },
    {
     "data": {
      "application/vnd.jupyter.widget-view+json": {
       "model_id": "ee1eda96cedc41faa9518555d97555a0",
       "version_major": 2,
       "version_minor": 0
      },
      "text/plain": [
       "HBox(children=(IntProgress(value=0, description='Epoch 3', max=18793), HTML(value='')))"
      ]
     },
     "metadata": {},
     "output_type": "display_data"
    },
    {
     "name": "stdout",
     "output_type": "stream",
     "text": [
      "\n",
      "Epoch 00004: val_loss improved from 0.21872 to 0.21786, saving model to rnn_weights/model_self_train_with_image_fold_5.hdf5\n",
      "\n",
      "Epoch 00005: LearningRateScheduler reducing learning rate to 0.001.\n"
     ]
    },
    {
     "data": {
      "application/vnd.jupyter.widget-view+json": {
       "model_id": "32d79744332b47b3b9253d50b39894d9",
       "version_major": 2,
       "version_minor": 0
      },
      "text/plain": [
       "HBox(children=(IntProgress(value=0, description='Epoch 4', max=18793), HTML(value='')))"
      ]
     },
     "metadata": {},
     "output_type": "display_data"
    },
    {
     "name": "stdout",
     "output_type": "stream",
     "text": [
      "\n",
      "Epoch 00005: val_loss improved from 0.21786 to 0.21698, saving model to rnn_weights/model_self_train_with_image_fold_5.hdf5\n",
      "\n",
      "Epoch 00006: LearningRateScheduler reducing learning rate to 0.001.\n"
     ]
    },
    {
     "data": {
      "application/vnd.jupyter.widget-view+json": {
       "model_id": "809c30ddba744a1b887a2d423493d39c",
       "version_major": 2,
       "version_minor": 0
      },
      "text/plain": [
       "HBox(children=(IntProgress(value=0, description='Epoch 5', max=18793), HTML(value='')))"
      ]
     },
     "metadata": {},
     "output_type": "display_data"
    },
    {
     "name": "stdout",
     "output_type": "stream",
     "text": [
      "\n",
      "Epoch 00006: val_loss did not improve from 0.21698\n",
      "\n",
      "Epoch 00007: LearningRateScheduler reducing learning rate to 0.0002.\n"
     ]
    },
    {
     "data": {
      "application/vnd.jupyter.widget-view+json": {
       "model_id": "73f5e842afec479880a8f4efc17444f2",
       "version_major": 2,
       "version_minor": 0
      },
      "text/plain": [
       "HBox(children=(IntProgress(value=0, description='Epoch 6', max=18793), HTML(value='')))"
      ]
     },
     "metadata": {},
     "output_type": "display_data"
    },
    {
     "name": "stdout",
     "output_type": "stream",
     "text": [
      "\n",
      "Epoch 00007: val_loss improved from 0.21698 to 0.21639, saving model to rnn_weights/model_self_train_with_image_fold_5.hdf5\n",
      "\n",
      "Epoch 00008: LearningRateScheduler reducing learning rate to 0.0002.\n"
     ]
    },
    {
     "data": {
      "application/vnd.jupyter.widget-view+json": {
       "model_id": "d55b64a38a83487087fe23ebb788301f",
       "version_major": 2,
       "version_minor": 0
      },
      "text/plain": [
       "HBox(children=(IntProgress(value=0, description='Epoch 7', max=18793), HTML(value='')))"
      ]
     },
     "metadata": {},
     "output_type": "display_data"
    },
    {
     "name": "stdout",
     "output_type": "stream",
     "text": [
      "\n",
      "Epoch 00008: val_loss improved from 0.21639 to 0.21631, saving model to rnn_weights/model_self_train_with_image_fold_5.hdf5\n",
      "\n",
      "Epoch 00009: LearningRateScheduler reducing learning rate to 0.0002.\n"
     ]
    },
    {
     "data": {
      "application/vnd.jupyter.widget-view+json": {
       "model_id": "c550953019b540969f94644d805c7974",
       "version_major": 2,
       "version_minor": 0
      },
      "text/plain": [
       "HBox(children=(IntProgress(value=0, description='Epoch 8', max=18793), HTML(value='')))"
      ]
     },
     "metadata": {},
     "output_type": "display_data"
    },
    {
     "name": "stdout",
     "output_type": "stream",
     "text": [
      "\n",
      "Epoch 00009: val_loss did not improve from 0.21631\n",
      "\n",
      "Epoch 00010: LearningRateScheduler reducing learning rate to 0.0002.\n"
     ]
    },
    {
     "data": {
      "application/vnd.jupyter.widget-view+json": {
       "model_id": "fbf85227ac09433fbd03299c908bb264",
       "version_major": 2,
       "version_minor": 0
      },
      "text/plain": [
       "HBox(children=(IntProgress(value=0, description='Epoch 9', max=18793), HTML(value='')))"
      ]
     },
     "metadata": {},
     "output_type": "display_data"
    },
    {
     "name": "stdout",
     "output_type": "stream",
     "text": [
      "\n",
      "Epoch 00010: val_loss improved from 0.21631 to 0.21631, saving model to rnn_weights/model_self_train_with_image_fold_5.hdf5\n",
      "\n"
     ]
    }
   ],
   "source": [
    "if start_fold > 0:\n",
    "    import pickle\n",
    "    ret = pickle.load(open(resume_file_prefix+'_oof_val_pred', 'rb'))\n",
    "    ret_test = pickle.load(open(resume_file_prefix+'_oof_test_pred', 'rb'))\n",
    "    print(ret)\n",
    "    print(ret_test)\n",
    "else:\n",
    "    ret = np.zeros((train_len,))\n",
    "    ret_test = np.zeros((all_features.shape[0]-train_len,))\n",
    "\n",
    "fold = 0    \n",
    "for tr_ix, val_ix in KFold(5, shuffle=True, random_state=seed).split(train_indices):\n",
    "    fold += 1\n",
    "    \n",
    "    if start_fold > 0 and fold < start_fold:\n",
    "        continue\n",
    "    else:\n",
    "        pass\n",
    "    \n",
    "    model = build_model(categorical, numerical)\n",
    "    file_path = \"rnn_weights/model_self_train_with_image_fold_{}.hdf5\".format(fold)\n",
    "     \n",
    "    # customized batch loader\n",
    "    training_generator = DataGenerator(tr_ix, all_features, train_y, train_img_path, \n",
    "                                       batch_size=batch_size, shuffle=True)\n",
    "    validation_generator = DataGenerator(val_ix, all_features, train_y, train_img_path, \n",
    "                                         batch_size=batch_size, shuffle=False)\n",
    "\n",
    "    lr_schd = LearningRateScheduler(lambda epoch: 0.001*(0.2**(epoch//6)), verbose=1)\n",
    "    check_point = ModelCheckpoint(file_path, monitor = \"val_loss\", mode = \"min\", save_best_only = True, verbose = 1)\n",
    "    history = model.fit_generator(generator=training_generator,\n",
    "                                  validation_data=validation_generator,\n",
    "                                  use_multiprocessing=False,\n",
    "                                  workers=1, \n",
    "                                  epochs=rnn_train_epochs,\n",
    "                                  verbose = 0, \n",
    "                                  callbacks = [lr_schd, check_point, TQDMNotebookCallback(leave_inner=True, leave_outer=True)])\n",
    "    \n",
    "    \n",
    "    # Predict val + test oofs\n",
    "    model.load_weights(file_path) # load weight with best validation score\n",
    "    \n",
    "    del validation_generator\n",
    "    validation_generator = DataGenerator(val_ix, all_features, None, train_img_path, \n",
    "                                         batch_size=batch_size, shuffle=False, is_train=False)\n",
    "    test_generator = DataGenerator(test_indices, all_features, None, test_img_path,       \n",
    "                                   batch_size=batch_size, shuffle=False, is_train=False)\n",
    "    \n",
    "    ret[val_ix] = model.predict_generator(validation_generator, use_multiprocessing=False, workers=1).reshape((len(val_ix),))\n",
    "    ret_test += model.predict_generator(test_generator, use_multiprocessing=False, workers=1).reshape((ret_test.shape[0],))\n",
    "    \n",
    "    del model, history, training_generator, validation_generator, test_generator; gc.collect()\n",
    "    \n",
    "ret_test /= 5"
   ]
  },
  {
   "cell_type": "code",
   "execution_count": 38,
   "metadata": {},
   "outputs": [],
   "source": [
    "# uncomment these to dump files if OOM (out-of-mem) happens\n",
    "import pickle\n",
    "pickle.dump(ret, open(resume_file_prefix+'_oof_val_pred', 'wb'))\n",
    "pickle.dump(ret_test, open(resume_file_prefix+'_oof_test_pred', 'wb'))"
   ]
  },
  {
   "cell_type": "code",
   "execution_count": 39,
   "metadata": {
    "scrolled": true
   },
   "outputs": [
    {
     "data": {
      "text/plain": [
       "0.102782    5\n",
       "0.114487    4\n",
       "0.115400    4\n",
       "0.022114    4\n",
       "0.086023    4\n",
       "0.015984    4\n",
       "0.017206    4\n",
       "0.081863    4\n",
       "0.062585    4\n",
       "0.014508    4\n",
       "0.015338    4\n",
       "0.076810    4\n",
       "0.015822    4\n",
       "0.039313    4\n",
       "0.204407    4\n",
       "0.047961    4\n",
       "0.012843    4\n",
       "0.052488    4\n",
       "0.034399    4\n",
       "0.120678    4\n",
       "0.036441    4\n",
       "0.019782    4\n",
       "0.082754    4\n",
       "0.067141    4\n",
       "0.050138    4\n",
       "0.098373    4\n",
       "0.330496    4\n",
       "0.039509    4\n",
       "0.058808    4\n",
       "0.028716    4\n",
       "           ..\n",
       "0.044576    1\n",
       "0.153364    1\n",
       "0.049081    1\n",
       "0.049081    1\n",
       "0.003068    1\n",
       "0.350780    1\n",
       "0.785306    1\n",
       "0.740606    1\n",
       "0.049080    1\n",
       "0.049080    1\n",
       "0.049080    1\n",
       "0.049079    1\n",
       "0.049538    1\n",
       "0.049078    1\n",
       "0.049078    1\n",
       "0.049078    1\n",
       "0.330712    1\n",
       "0.049078    1\n",
       "0.020370    1\n",
       "0.049078    1\n",
       "0.185866    1\n",
       "0.044575    1\n",
       "0.153363    1\n",
       "0.785259    1\n",
       "0.049079    1\n",
       "0.049079    1\n",
       "0.485797    1\n",
       "0.281186    1\n",
       "0.049079    1\n",
       "0.125000    1\n",
       "Length: 1450498, dtype: int64"
      ]
     },
     "execution_count": 39,
     "metadata": {},
     "output_type": "execute_result"
    }
   ],
   "source": [
    "pd.Series(ret).value_counts()"
   ]
  },
  {
   "cell_type": "code",
   "execution_count": 40,
   "metadata": {},
   "outputs": [],
   "source": [
    "# public:  cv = .2220, lb = .2247 \n",
    "# bigru-conv1d: cv =.2185 , lb = .2235\n",
    "# bigru-attention: cv =.2186 , lb = .2235\n",
    "# 2gru: lb: .2239\n",
    "# self-trained wordvec: cv .217232, lb: .2229\n",
    "# simple structure + image pca info: cv: 0.2161,  lb: .2210"
   ]
  },
  {
   "cell_type": "markdown",
   "metadata": {},
   "source": [
    "### Generate OOFs and Submissions"
   ]
  },
  {
   "cell_type": "code",
   "execution_count": 41,
   "metadata": {},
   "outputs": [],
   "source": [
    "prefix = 'selftrained_bigru_conv1d_merged_with_image'"
   ]
  },
  {
   "cell_type": "code",
   "execution_count": 42,
   "metadata": {},
   "outputs": [],
   "source": [
    "pd.DataFrame(data=ret, columns=[prefix+'_rnn_pred']).to_csv(prefix+'_rnn_oof_val_pred.csv', index=False)\n",
    "pd.DataFrame(data=ret_test, columns=[prefix+'_rnn_pred']).to_csv(prefix+'_rnn_oof_test_pred.csv', index=False)"
   ]
  },
  {
   "cell_type": "code",
   "execution_count": 43,
   "metadata": {},
   "outputs": [],
   "source": [
    "subm = pd.read_csv('sample_submission.csv')\n",
    "subm['deal_probability'] = np.clip(ret_test, 0, 1)\n",
    "subm.to_csv(prefix+'_rnn_submission.csv', index=False)"
   ]
  },
  {
   "cell_type": "code",
   "execution_count": null,
   "metadata": {},
   "outputs": [],
   "source": []
  }
 ],
 "metadata": {
  "kernelspec": {
   "display_name": "py3.5 tensorflow",
   "language": "python",
   "name": "tensorflow"
  },
  "language_info": {
   "codemirror_mode": {
    "name": "ipython",
    "version": 3
   },
   "file_extension": ".py",
   "mimetype": "text/x-python",
   "name": "python",
   "nbconvert_exporter": "python",
   "pygments_lexer": "ipython3",
   "version": "3.5.5"
  }
 },
 "nbformat": 4,
 "nbformat_minor": 2
}
