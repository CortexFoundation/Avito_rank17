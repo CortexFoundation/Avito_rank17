{
 "cells": [
  {
   "cell_type": "code",
   "execution_count": 1,
   "metadata": {
    "collapsed": true
   },
   "outputs": [],
   "source": [
    "import pandas as pd\n",
    "import numpy as np\n",
    "import gc; gc.enable()\n",
    "import lightgbm as lgb\n",
    "import warnings \n",
    "warnings.filterwarnings('ignore')\n",
    "\n",
    "from GridSearcher import data_loader, model_loader, fit_params, get_oof_predictions"
   ]
  },
  {
   "cell_type": "code",
   "execution_count": 2,
   "metadata": {
    "collapsed": true
   },
   "outputs": [],
   "source": [
    "DATA_TYPE = 'all_sparse_w_tfidf'\n",
    "DATA_NORMALIZE = True\n",
    "IS_REGRESSION = True\n",
    "SEED = 719"
   ]
  },
  {
   "cell_type": "code",
   "execution_count": 3,
   "metadata": {},
   "outputs": [
    {
     "name": "stdout",
     "output_type": "stream",
     "text": [
      "Arguments: all_sparse_w_tfidf True True\n",
      "target loaded\n",
      "title text features loaded\n",
      "param text features loaded\n",
      "desc text features loaded\n"
     ]
    }
   ],
   "source": [
    "dl = data_loader(data_type=DATA_TYPE, is_regression=IS_REGRESSION, is_train=True, is_pure=True)\n",
    "train_X, train_y = dl.load()"
   ]
  },
  {
   "cell_type": "code",
   "execution_count": 4,
   "metadata": {},
   "outputs": [
    {
     "name": "stdout",
     "output_type": "stream",
     "text": [
      "Arguments: all_sparse_w_tfidf True False\n",
      "target loaded\n",
      "title text features loaded\n",
      "param text features loaded\n",
      "desc text features loaded\n"
     ]
    }
   ],
   "source": [
    "dl_test = data_loader(data_type=DATA_TYPE, is_regression=IS_REGRESSION, is_train=False, is_pure=True)\n",
    "test_X = dl_test.load()"
   ]
  },
  {
   "cell_type": "code",
   "execution_count": 5,
   "metadata": {},
   "outputs": [
    {
     "data": {
      "text/plain": [
       "((1503424, 54386), (1503424,), (508438, 54386))"
      ]
     },
     "execution_count": 5,
     "metadata": {},
     "output_type": "execute_result"
    }
   ],
   "source": [
    "train_X.shape, train_y.shape, test_X.shape"
   ]
  },
  {
   "cell_type": "markdown",
   "metadata": {},
   "source": [
    "## Ridge"
   ]
  },
  {
   "cell_type": "code",
   "execution_count": 6,
   "metadata": {
    "collapsed": true
   },
   "outputs": [],
   "source": [
    "ml = model_loader(model_type='rg')"
   ]
  },
  {
   "cell_type": "code",
   "execution_count": 7,
   "metadata": {
    "collapsed": true
   },
   "outputs": [
    {
     "name": "stdout",
     "output_type": "stream",
     "text": [
      "{'alpha': 1.0} loss:0.230710\n",
      "{'alpha': 1.0} loss:0.229161\n",
      "{'alpha': 1.0} loss:0.224479\n",
      "{'alpha': 1.0} loss:0.230766\n",
      "{'alpha': 1.0} loss:0.222635\n",
      "=================>{'alpha': 1.0} loss:0.227550\n",
      "{'alpha': 2.0} loss:0.229263\n",
      "{'alpha': 2.0} loss:0.228352\n",
      "{'alpha': 2.0} loss:0.224398\n",
      "{'alpha': 2.0} loss:0.229495\n",
      "{'alpha': 2.0} loss:0.222490\n",
      "=================>{'alpha': 2.0} loss:0.226800\n",
      "{'alpha': 4.0} loss:0.227548\n",
      "{'alpha': 4.0} loss:0.227382\n",
      "{'alpha': 4.0} loss:0.224343\n",
      "{'alpha': 4.0} loss:0.227903\n",
      "{'alpha': 4.0} loss:0.222366\n",
      "=================>{'alpha': 4.0} loss:0.225908\n",
      "{'alpha': 8.0} loss:0.226128\n",
      "{'alpha': 8.0} loss:0.226541\n",
      "{'alpha': 8.0} loss:0.224351\n",
      "{'alpha': 8.0} loss:0.226389\n",
      "{'alpha': 8.0} loss:0.222323\n",
      "=================>{'alpha': 8.0} loss:0.225147\n",
      "{'alpha': 16.0} loss:0.225349\n",
      "{'alpha': 16.0} loss:0.225981\n",
      "{'alpha': 16.0} loss:0.224420\n",
      "{'alpha': 16.0} loss:0.225374\n",
      "{'alpha': 16.0} loss:0.222396\n",
      "=================>{'alpha': 16.0} loss:0.224704\n",
      "Best params: {'alpha': 16.0} \tbest loss: 0.22470383118\n"
     ]
    },
    {
     "data": {
      "text/html": [
       "<div>\n",
       "<style scoped>\n",
       "    .dataframe tbody tr th:only-of-type {\n",
       "        vertical-align: middle;\n",
       "    }\n",
       "\n",
       "    .dataframe tbody tr th {\n",
       "        vertical-align: top;\n",
       "    }\n",
       "\n",
       "    .dataframe thead th {\n",
       "        text-align: right;\n",
       "    }\n",
       "</style>\n",
       "<table border=\"1\" class=\"dataframe\">\n",
       "  <thead>\n",
       "    <tr style=\"text-align: right;\">\n",
       "      <th></th>\n",
       "      <th>param</th>\n",
       "      <th>val_loss_mean</th>\n",
       "      <th>val_loss_std</th>\n",
       "    </tr>\n",
       "  </thead>\n",
       "  <tbody>\n",
       "    <tr>\n",
       "      <th>0</th>\n",
       "      <td>{'alpha': 1.0}</td>\n",
       "      <td>0.227550</td>\n",
       "      <td>0.003362</td>\n",
       "    </tr>\n",
       "    <tr>\n",
       "      <th>1</th>\n",
       "      <td>{'alpha': 2.0}</td>\n",
       "      <td>0.226800</td>\n",
       "      <td>0.002831</td>\n",
       "    </tr>\n",
       "    <tr>\n",
       "      <th>2</th>\n",
       "      <td>{'alpha': 4.0}</td>\n",
       "      <td>0.225908</td>\n",
       "      <td>0.002183</td>\n",
       "    </tr>\n",
       "    <tr>\n",
       "      <th>3</th>\n",
       "      <td>{'alpha': 8.0}</td>\n",
       "      <td>0.225147</td>\n",
       "      <td>0.001616</td>\n",
       "    </tr>\n",
       "    <tr>\n",
       "      <th>4</th>\n",
       "      <td>{'alpha': 16.0}</td>\n",
       "      <td>0.224704</td>\n",
       "      <td>0.001257</td>\n",
       "    </tr>\n",
       "  </tbody>\n",
       "</table>\n",
       "</div>"
      ],
      "text/plain": [
       "             param  val_loss_mean  val_loss_std\n",
       "0   {'alpha': 1.0}       0.227550      0.003362\n",
       "1   {'alpha': 2.0}       0.226800      0.002831\n",
       "2   {'alpha': 4.0}       0.225908      0.002183\n",
       "3   {'alpha': 8.0}       0.225147      0.001616\n",
       "4  {'alpha': 16.0}       0.224704      0.001257"
      ]
     },
     "execution_count": 7,
     "metadata": {},
     "output_type": "execute_result"
    }
   ],
   "source": [
    "default_params = {\n",
    "    'alpha': 1.0, \n",
    "    'fit_intercept': True, \n",
    "    'normalize': False, \n",
    "    'copy_X': True, \n",
    "    'max_iter': 50, \n",
    "    'tol': 0.001, \n",
    "    'solver':'sag', \n",
    "    'random_state': SEED\n",
    "}\n",
    "\n",
    "try_params = \\\n",
    "[\n",
    "    {\n",
    "        'alpha': [1., 2., 4., 8., 16.],\n",
    "    }\n",
    "]\n",
    "\n",
    "fit_params(train_X, train_y, ml, default_params, try_params, fit_params=None, seed=SEED)"
   ]
  },
  {
   "cell_type": "code",
   "execution_count": null,
   "metadata": {
    "collapsed": true
   },
   "outputs": [
    {
     "name": "stdout",
     "output_type": "stream",
     "text": [
      "{'alpha': 32.0} loss:0.225153\n",
      "{'alpha': 32.0} loss:0.225913\n",
      "{'alpha': 32.0} loss:0.224567\n",
      "{'alpha': 32.0} loss:0.224945\n",
      "{'alpha': 32.0} loss:0.222630\n",
      "=================>{'alpha': 32.0} loss:0.224642\n",
      "{'alpha': 36} loss:0.225161\n",
      "{'alpha': 36} loss:0.225919\n",
      "{'alpha': 36} loss:0.224609\n",
      "{'alpha': 36} loss:0.224910\n",
      "{'alpha': 36} loss:0.222690\n",
      "=================>{'alpha': 36} loss:0.224658\n",
      "{'alpha': 48} loss:0.225234\n"
     ]
    }
   ],
   "source": [
    "default_params = {\n",
    "    'alpha': 1.0, \n",
    "    'fit_intercept': True, \n",
    "    'normalize': False, \n",
    "    'copy_X': True, \n",
    "    'max_iter': 50, \n",
    "    'tol': 0.001, \n",
    "    'solver':'sag', \n",
    "    'random_state': SEED\n",
    "}\n",
    "\n",
    "try_params = \\\n",
    "[\n",
    "    {\n",
    "        'alpha': [32., 36, 48, 64.],\n",
    "    }\n",
    "]\n",
    "\n",
    "fit_params(train_X, train_y, ml, default_params, try_params, fit_params=None, seed=SEED)"
   ]
  },
  {
   "cell_type": "code",
   "execution_count": null,
   "metadata": {
    "collapsed": true
   },
   "outputs": [
    {
     "name": "stdout",
     "output_type": "stream",
     "text": [
      "{'random_state': 411} train loss: 0.219730, valid loss:0.225151\n",
      "{'random_state': 411} train loss: 0.219520, valid loss:0.225887\n",
      "{'random_state': 411} train loss: 0.220419, valid loss:0.224581\n",
      "{'random_state': 411} train loss: 0.219825, valid loss:0.224947\n",
      "{'random_state': 411} train loss: 0.220295, valid loss:0.222629\n",
      "=================>{'random_state': 411} loss:0.224639\n",
      "{'random_state': 519} train loss: 0.219725, valid loss:0.225144\n",
      "{'random_state': 519} train loss: 0.219517, valid loss:0.225881\n",
      "{'random_state': 519} train loss: 0.220421, valid loss:0.224582\n",
      "{'random_state': 519} train loss: 0.219823, valid loss:0.224938\n"
     ]
    }
   ],
   "source": [
    "default_params = {\n",
    "    'alpha': 32., \n",
    "    'fit_intercept': True, \n",
    "    'normalize': False, \n",
    "    'copy_X': True, \n",
    "    'max_iter': 50, \n",
    "    'tol': 0.001, \n",
    "    'solver':'sag', \n",
    "    'random_state': SEED\n",
    "}\n",
    "\n",
    "try_params = \\\n",
    "[\n",
    "    {\n",
    "        'random_state': [411, 519, 613, 978],\n",
    "    }\n",
    "]\n",
    "\n",
    "fit_params(train_X, train_y, ml, default_params, try_params, fit_params=None, seed=SEED)"
   ]
  },
  {
   "cell_type": "code",
   "execution_count": 7,
   "metadata": {
    "collapsed": true
   },
   "outputs": [
    {
     "name": "stdout",
     "output_type": "stream",
     "text": [
      "Fold 1 completed.\n",
      "Fold 2 completed.\n",
      "Fold 3 completed.\n",
      "Fold 4 completed.\n",
      "Fold 5 completed.\n"
     ]
    }
   ],
   "source": [
    "default_params = {\n",
    "    'alpha': 32.0, \n",
    "    'fit_intercept': True, \n",
    "    'normalize': False, \n",
    "    'copy_X': True, \n",
    "    'max_iter': 50, \n",
    "    'tol': 0.001, \n",
    "    'solver':'sag', \n",
    "    'random_state': SEED\n",
    "}\n",
    "\n",
    "fit_param = None\n",
    "\n",
    "rg_oof_val_pred, rg_oof_test_pred, models = get_oof_predictions(train_X, train_y, test_X, ml, \n",
    "                                                                  default_params, seed=SEED, fit_params=fit_param, \n",
    "                                                                  use_eval_set=False)"
   ]
  },
  {
   "cell_type": "code",
   "execution_count": 9,
   "metadata": {
    "collapsed": true
   },
   "outputs": [],
   "source": [
    "pd.DataFrame(data=rg_oof_val_pred, columns=['all_sparse_rg_pred']).to_csv('all_sparse_rg_oof_val_pred.csv', index=False)\n",
    "pd.DataFrame(data=rg_oof_test_pred, columns=['all_sparse_rg_pred']).to_csv('all_sparse_rg_oof_test_pred.csv', index=False)"
   ]
  },
  {
   "cell_type": "code",
   "execution_count": 7,
   "metadata": {},
   "outputs": [
    {
     "name": "stdout",
     "output_type": "stream",
     "text": [
      "Fold 1 completed.\n",
      "Fold 2 completed.\n",
      "Fold 3 completed.\n",
      "Fold 4 completed.\n",
      "Fold 5 completed.\n",
      "Fold 1 completed.\n",
      "Fold 2 completed.\n",
      "Fold 3 completed.\n",
      "Fold 4 completed.\n",
      "Fold 5 completed.\n",
      "Fold 1 completed.\n",
      "Fold 2 completed.\n",
      "Fold 3 completed.\n",
      "Fold 4 completed.\n",
      "Fold 5 completed.\n",
      "Fold 1 completed.\n",
      "Fold 2 completed.\n",
      "Fold 3 completed.\n",
      "Fold 4 completed.\n",
      "Fold 5 completed.\n"
     ]
    }
   ],
   "source": [
    "for other_seed in [411, 519, 613, 978]:\n",
    "    default_params = {\n",
    "        'alpha': 32.0, \n",
    "        'fit_intercept': True, \n",
    "        'normalize': False, \n",
    "        'copy_X': True, \n",
    "        'max_iter': 50, \n",
    "        'tol': 0.001, \n",
    "        'solver':'sag', \n",
    "        'random_state': other_seed\n",
    "    }\n",
    "\n",
    "    fit_param = None\n",
    "\n",
    "    rg_oof_val_pred, rg_oof_test_pred, models = get_oof_predictions(train_X, train_y, test_X, ml, \n",
    "                                                                      default_params, seed=SEED, fit_params=fit_param, \n",
    "                                                                      use_eval_set=False)\n",
    "    \n",
    "    colname = 'all_sparse_rg_{}'.format(other_seed)\n",
    "    pd.DataFrame(data=rg_oof_val_pred, columns=[colname+'_pred']).to_csv(colname+'_oof_val_pred.csv', index=False)\n",
    "    pd.DataFrame(data=rg_oof_test_pred, columns=[colname+'_pred']).to_csv(colname+'_oof_test_pred.csv', index=False)"
   ]
  },
  {
   "cell_type": "code",
   "execution_count": null,
   "metadata": {
    "collapsed": true
   },
   "outputs": [],
   "source": []
  }
 ],
 "metadata": {
  "kernelspec": {
   "display_name": "Python 3",
   "language": "python",
   "name": "python3"
  },
  "language_info": {
   "codemirror_mode": {
    "name": "ipython",
    "version": 3
   },
   "file_extension": ".py",
   "mimetype": "text/x-python",
   "name": "python",
   "nbconvert_exporter": "python",
   "pygments_lexer": "ipython3",
   "version": "3.6.2"
  }
 },
 "nbformat": 4,
 "nbformat_minor": 2
}
