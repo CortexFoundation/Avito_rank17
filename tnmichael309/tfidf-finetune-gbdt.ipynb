{
 "cells": [
  {
   "cell_type": "code",
   "execution_count": 1,
   "metadata": {
    "collapsed": true
   },
   "outputs": [],
   "source": [
    "import pickle\n",
    "import pandas as pd\n",
    "import numpy as np\n",
    "import gc; gc.enable()\n",
    "from sklearn.decomposition import TruncatedSVD\n",
    "from scipy.sparse import hstack, load_npz, csr_matrix"
   ]
  },
  {
   "cell_type": "code",
   "execution_count": 2,
   "metadata": {
    "collapsed": true
   },
   "outputs": [],
   "source": [
    "drop_cols = ['price_binned_dp_mean_enc', 'image_top_1_dp_mean_enc', 'item_seq_number_dp_mean_enc']"
   ]
  },
  {
   "cell_type": "code",
   "execution_count": 3,
   "metadata": {
    "collapsed": true
   },
   "outputs": [],
   "source": [
    "with open(\"all_features_dense.pickle\", 'rb') as handle:\n",
    "    comm_features = pickle.load(handle)\n",
    "    comm_features.drop(drop_cols, axis=1, inplace=True)\n",
    "    \n",
    "with open(\"TF_IDF_W_BIN_C/tf_idf_features(with_bin).pickle\", 'rb') as handle:\n",
    "    text_features = pickle.load(handle)"
   ]
  },
  {
   "cell_type": "code",
   "execution_count": 4,
   "metadata": {
    "scrolled": true
   },
   "outputs": [
    {
     "data": {
      "text/html": [
       "<div>\n",
       "<style scoped>\n",
       "    .dataframe tbody tr th:only-of-type {\n",
       "        vertical-align: middle;\n",
       "    }\n",
       "\n",
       "    .dataframe tbody tr th {\n",
       "        vertical-align: top;\n",
       "    }\n",
       "\n",
       "    .dataframe thead th {\n",
       "        text-align: right;\n",
       "    }\n",
       "</style>\n",
       "<table border=\"1\" class=\"dataframe\">\n",
       "  <thead>\n",
       "    <tr style=\"text-align: right;\">\n",
       "      <th></th>\n",
       "      <th>region</th>\n",
       "      <th>city</th>\n",
       "      <th>parent_category_name</th>\n",
       "      <th>category_name</th>\n",
       "      <th>param_1</th>\n",
       "      <th>param_2</th>\n",
       "      <th>param_3</th>\n",
       "      <th>price</th>\n",
       "      <th>item_seq_number</th>\n",
       "      <th>user_type</th>\n",
       "      <th>...</th>\n",
       "      <th>parent_category_name_param_3</th>\n",
       "      <th>category_name_param_1</th>\n",
       "      <th>category_name_param_2</th>\n",
       "      <th>category_name_param_3</th>\n",
       "      <th>parent_category_name_region</th>\n",
       "      <th>category_name_region</th>\n",
       "      <th>Weekday</th>\n",
       "      <th>image_top_1_mean_price</th>\n",
       "      <th>item_seq_number_mean_price</th>\n",
       "      <th>price_binned</th>\n",
       "    </tr>\n",
       "  </thead>\n",
       "  <tbody>\n",
       "    <tr>\n",
       "      <th>0</th>\n",
       "      <td>17</td>\n",
       "      <td>994</td>\n",
       "      <td>4</td>\n",
       "      <td>10</td>\n",
       "      <td>104</td>\n",
       "      <td>88</td>\n",
       "      <td>130</td>\n",
       "      <td>0.486577</td>\n",
       "      <td>0.284494</td>\n",
       "      <td>1</td>\n",
       "      <td>...</td>\n",
       "      <td>18</td>\n",
       "      <td>4</td>\n",
       "      <td>85</td>\n",
       "      <td>563</td>\n",
       "      <td>121</td>\n",
       "      <td>38</td>\n",
       "      <td>2</td>\n",
       "      <td>0.858789</td>\n",
       "      <td>0.838000</td>\n",
       "      <td>14</td>\n",
       "    </tr>\n",
       "    <tr>\n",
       "      <th>1</th>\n",
       "      <td>6</td>\n",
       "      <td>186</td>\n",
       "      <td>0</td>\n",
       "      <td>41</td>\n",
       "      <td>41</td>\n",
       "      <td>225</td>\n",
       "      <td>604</td>\n",
       "      <td>0.439237</td>\n",
       "      <td>0.249218</td>\n",
       "      <td>1</td>\n",
       "      <td>...</td>\n",
       "      <td>1</td>\n",
       "      <td>337</td>\n",
       "      <td>252</td>\n",
       "      <td>684</td>\n",
       "      <td>24</td>\n",
       "      <td>982</td>\n",
       "      <td>2</td>\n",
       "      <td>0.847451</td>\n",
       "      <td>0.844113</td>\n",
       "      <td>3</td>\n",
       "    </tr>\n",
       "    <tr>\n",
       "      <th>2</th>\n",
       "      <td>15</td>\n",
       "      <td>562</td>\n",
       "      <td>4</td>\n",
       "      <td>29</td>\n",
       "      <td>119</td>\n",
       "      <td>88</td>\n",
       "      <td>100</td>\n",
       "      <td>0.518554</td>\n",
       "      <td>0.325533</td>\n",
       "      <td>1</td>\n",
       "      <td>...</td>\n",
       "      <td>5</td>\n",
       "      <td>148</td>\n",
       "      <td>156</td>\n",
       "      <td>629</td>\n",
       "      <td>119</td>\n",
       "      <td>575</td>\n",
       "      <td>2</td>\n",
       "      <td>0.835731</td>\n",
       "      <td>0.830898</td>\n",
       "      <td>24</td>\n",
       "    </tr>\n",
       "    <tr>\n",
       "      <th>3</th>\n",
       "      <td>14</td>\n",
       "      <td>851</td>\n",
       "      <td>3</td>\n",
       "      <td>43</td>\n",
       "      <td>33</td>\n",
       "      <td>73</td>\n",
       "      <td>604</td>\n",
       "      <td>0.476137</td>\n",
       "      <td>0.298728</td>\n",
       "      <td>1</td>\n",
       "      <td>...</td>\n",
       "      <td>4</td>\n",
       "      <td>353</td>\n",
       "      <td>257</td>\n",
       "      <td>686</td>\n",
       "      <td>90</td>\n",
       "      <td>1020</td>\n",
       "      <td>2</td>\n",
       "      <td>0.763051</td>\n",
       "      <td>0.839457</td>\n",
       "      <td>11</td>\n",
       "    </tr>\n",
       "    <tr>\n",
       "      <th>4</th>\n",
       "      <td>27</td>\n",
       "      <td>1308</td>\n",
       "      <td>4</td>\n",
       "      <td>29</td>\n",
       "      <td>192</td>\n",
       "      <td>107</td>\n",
       "      <td>604</td>\n",
       "      <td>0.518554</td>\n",
       "      <td>0.262826</td>\n",
       "      <td>1</td>\n",
       "      <td>...</td>\n",
       "      <td>41</td>\n",
       "      <td>149</td>\n",
       "      <td>142</td>\n",
       "      <td>652</td>\n",
       "      <td>132</td>\n",
       "      <td>588</td>\n",
       "      <td>2</td>\n",
       "      <td>0.803204</td>\n",
       "      <td>0.842333</td>\n",
       "      <td>24</td>\n",
       "    </tr>\n",
       "    <tr>\n",
       "      <th>5</th>\n",
       "      <td>6</td>\n",
       "      <td>436</td>\n",
       "      <td>4</td>\n",
       "      <td>29</td>\n",
       "      <td>119</td>\n",
       "      <td>88</td>\n",
       "      <td>106</td>\n",
       "      <td>0.500291</td>\n",
       "      <td>0.239971</td>\n",
       "      <td>1</td>\n",
       "      <td>...</td>\n",
       "      <td>8</td>\n",
       "      <td>148</td>\n",
       "      <td>156</td>\n",
       "      <td>632</td>\n",
       "      <td>136</td>\n",
       "      <td>592</td>\n",
       "      <td>2</td>\n",
       "      <td>0.796170</td>\n",
       "      <td>0.847105</td>\n",
       "      <td>19</td>\n",
       "    </tr>\n",
       "    <tr>\n",
       "      <th>6</th>\n",
       "      <td>6</td>\n",
       "      <td>1208</td>\n",
       "      <td>0</td>\n",
       "      <td>41</td>\n",
       "      <td>24</td>\n",
       "      <td>73</td>\n",
       "      <td>604</td>\n",
       "      <td>0.479975</td>\n",
       "      <td>0.874749</td>\n",
       "      <td>2</td>\n",
       "      <td>...</td>\n",
       "      <td>1</td>\n",
       "      <td>324</td>\n",
       "      <td>253</td>\n",
       "      <td>684</td>\n",
       "      <td>24</td>\n",
       "      <td>982</td>\n",
       "      <td>2</td>\n",
       "      <td>0.826854</td>\n",
       "      <td>0.698788</td>\n",
       "      <td>12</td>\n",
       "    </tr>\n",
       "    <tr>\n",
       "      <th>7</th>\n",
       "      <td>22</td>\n",
       "      <td>1137</td>\n",
       "      <td>5</td>\n",
       "      <td>15</td>\n",
       "      <td>240</td>\n",
       "      <td>0</td>\n",
       "      <td>610</td>\n",
       "      <td>0.700911</td>\n",
       "      <td>0.262826</td>\n",
       "      <td>1</td>\n",
       "      <td>...</td>\n",
       "      <td>74</td>\n",
       "      <td>32</td>\n",
       "      <td>97</td>\n",
       "      <td>604</td>\n",
       "      <td>155</td>\n",
       "      <td>184</td>\n",
       "      <td>2</td>\n",
       "      <td>0.960723</td>\n",
       "      <td>0.842333</td>\n",
       "      <td>57</td>\n",
       "    </tr>\n",
       "    <tr>\n",
       "      <th>8</th>\n",
       "      <td>14</td>\n",
       "      <td>195</td>\n",
       "      <td>3</td>\n",
       "      <td>20</td>\n",
       "      <td>113</td>\n",
       "      <td>73</td>\n",
       "      <td>604</td>\n",
       "      <td>-1.000000</td>\n",
       "      <td>0.303342</td>\n",
       "      <td>1</td>\n",
       "      <td>...</td>\n",
       "      <td>4</td>\n",
       "      <td>76</td>\n",
       "      <td>124</td>\n",
       "      <td>613</td>\n",
       "      <td>90</td>\n",
       "      <td>343</td>\n",
       "      <td>2</td>\n",
       "      <td>0.854833</td>\n",
       "      <td>0.835163</td>\n",
       "      <td>0</td>\n",
       "    </tr>\n",
       "    <tr>\n",
       "      <th>9</th>\n",
       "      <td>1</td>\n",
       "      <td>0</td>\n",
       "      <td>2</td>\n",
       "      <td>35</td>\n",
       "      <td>33</td>\n",
       "      <td>73</td>\n",
       "      <td>604</td>\n",
       "      <td>0.300465</td>\n",
       "      <td>0.249218</td>\n",
       "      <td>1</td>\n",
       "      <td>...</td>\n",
       "      <td>3</td>\n",
       "      <td>204</td>\n",
       "      <td>241</td>\n",
       "      <td>677</td>\n",
       "      <td>57</td>\n",
       "      <td>765</td>\n",
       "      <td>2</td>\n",
       "      <td>0.948405</td>\n",
       "      <td>0.844113</td>\n",
       "      <td>1</td>\n",
       "    </tr>\n",
       "    <tr>\n",
       "      <th>10</th>\n",
       "      <td>26</td>\n",
       "      <td>1240</td>\n",
       "      <td>4</td>\n",
       "      <td>42</td>\n",
       "      <td>299</td>\n",
       "      <td>73</td>\n",
       "      <td>604</td>\n",
       "      <td>0.506784</td>\n",
       "      <td>0.325533</td>\n",
       "      <td>0</td>\n",
       "      <td>...</td>\n",
       "      <td>41</td>\n",
       "      <td>345</td>\n",
       "      <td>256</td>\n",
       "      <td>685</td>\n",
       "      <td>131</td>\n",
       "      <td>1005</td>\n",
       "      <td>2</td>\n",
       "      <td>0.811463</td>\n",
       "      <td>0.830898</td>\n",
       "      <td>21</td>\n",
       "    </tr>\n",
       "    <tr>\n",
       "      <th>11</th>\n",
       "      <td>19</td>\n",
       "      <td>355</td>\n",
       "      <td>4</td>\n",
       "      <td>42</td>\n",
       "      <td>96</td>\n",
       "      <td>73</td>\n",
       "      <td>604</td>\n",
       "      <td>0.560810</td>\n",
       "      <td>0.609962</td>\n",
       "      <td>2</td>\n",
       "      <td>...</td>\n",
       "      <td>41</td>\n",
       "      <td>352</td>\n",
       "      <td>256</td>\n",
       "      <td>685</td>\n",
       "      <td>123</td>\n",
       "      <td>997</td>\n",
       "      <td>2</td>\n",
       "      <td>0.835316</td>\n",
       "      <td>0.799512</td>\n",
       "      <td>39</td>\n",
       "    </tr>\n",
       "    <tr>\n",
       "      <th>12</th>\n",
       "      <td>26</td>\n",
       "      <td>1240</td>\n",
       "      <td>4</td>\n",
       "      <td>29</td>\n",
       "      <td>119</td>\n",
       "      <td>88</td>\n",
       "      <td>90</td>\n",
       "      <td>0.483496</td>\n",
       "      <td>0.319750</td>\n",
       "      <td>1</td>\n",
       "      <td>...</td>\n",
       "      <td>56</td>\n",
       "      <td>148</td>\n",
       "      <td>156</td>\n",
       "      <td>663</td>\n",
       "      <td>131</td>\n",
       "      <td>587</td>\n",
       "      <td>2</td>\n",
       "      <td>0.786034</td>\n",
       "      <td>0.831409</td>\n",
       "      <td>13</td>\n",
       "    </tr>\n",
       "    <tr>\n",
       "      <th>13</th>\n",
       "      <td>9</td>\n",
       "      <td>632</td>\n",
       "      <td>5</td>\n",
       "      <td>15</td>\n",
       "      <td>240</td>\n",
       "      <td>1</td>\n",
       "      <td>610</td>\n",
       "      <td>-1.000000</td>\n",
       "      <td>0.334238</td>\n",
       "      <td>1</td>\n",
       "      <td>...</td>\n",
       "      <td>74</td>\n",
       "      <td>32</td>\n",
       "      <td>98</td>\n",
       "      <td>604</td>\n",
       "      <td>167</td>\n",
       "      <td>196</td>\n",
       "      <td>2</td>\n",
       "      <td>0.948405</td>\n",
       "      <td>0.831025</td>\n",
       "      <td>0</td>\n",
       "    </tr>\n",
       "    <tr>\n",
       "      <th>14</th>\n",
       "      <td>18</td>\n",
       "      <td>998</td>\n",
       "      <td>7</td>\n",
       "      <td>34</td>\n",
       "      <td>162</td>\n",
       "      <td>73</td>\n",
       "      <td>604</td>\n",
       "      <td>0.459698</td>\n",
       "      <td>0.324151</td>\n",
       "      <td>0</td>\n",
       "      <td>...</td>\n",
       "      <td>648</td>\n",
       "      <td>183</td>\n",
       "      <td>232</td>\n",
       "      <td>676</td>\n",
       "      <td>206</td>\n",
       "      <td>746</td>\n",
       "      <td>2</td>\n",
       "      <td>0.771488</td>\n",
       "      <td>0.832199</td>\n",
       "      <td>7</td>\n",
       "    </tr>\n",
       "    <tr>\n",
       "      <th>15</th>\n",
       "      <td>8</td>\n",
       "      <td>497</td>\n",
       "      <td>4</td>\n",
       "      <td>29</td>\n",
       "      <td>119</td>\n",
       "      <td>168</td>\n",
       "      <td>109</td>\n",
       "      <td>0.546872</td>\n",
       "      <td>0.207551</td>\n",
       "      <td>1</td>\n",
       "      <td>...</td>\n",
       "      <td>11</td>\n",
       "      <td>148</td>\n",
       "      <td>147</td>\n",
       "      <td>635</td>\n",
       "      <td>138</td>\n",
       "      <td>594</td>\n",
       "      <td>2</td>\n",
       "      <td>0.843427</td>\n",
       "      <td>0.882787</td>\n",
       "      <td>34</td>\n",
       "    </tr>\n",
       "    <tr>\n",
       "      <th>16</th>\n",
       "      <td>21</td>\n",
       "      <td>729</td>\n",
       "      <td>4</td>\n",
       "      <td>10</td>\n",
       "      <td>104</td>\n",
       "      <td>158</td>\n",
       "      <td>49</td>\n",
       "      <td>0.459698</td>\n",
       "      <td>0.330695</td>\n",
       "      <td>1</td>\n",
       "      <td>...</td>\n",
       "      <td>35</td>\n",
       "      <td>4</td>\n",
       "      <td>78</td>\n",
       "      <td>572</td>\n",
       "      <td>126</td>\n",
       "      <td>43</td>\n",
       "      <td>2</td>\n",
       "      <td>0.783911</td>\n",
       "      <td>0.831234</td>\n",
       "      <td>7</td>\n",
       "    </tr>\n",
       "    <tr>\n",
       "      <th>17</th>\n",
       "      <td>15</td>\n",
       "      <td>884</td>\n",
       "      <td>4</td>\n",
       "      <td>29</td>\n",
       "      <td>119</td>\n",
       "      <td>158</td>\n",
       "      <td>78</td>\n",
       "      <td>0.506784</td>\n",
       "      <td>0.284494</td>\n",
       "      <td>1</td>\n",
       "      <td>...</td>\n",
       "      <td>49</td>\n",
       "      <td>148</td>\n",
       "      <td>145</td>\n",
       "      <td>658</td>\n",
       "      <td>119</td>\n",
       "      <td>575</td>\n",
       "      <td>2</td>\n",
       "      <td>0.827613</td>\n",
       "      <td>0.838000</td>\n",
       "      <td>21</td>\n",
       "    </tr>\n",
       "    <tr>\n",
       "      <th>18</th>\n",
       "      <td>19</td>\n",
       "      <td>1028</td>\n",
       "      <td>0</td>\n",
       "      <td>41</td>\n",
       "      <td>41</td>\n",
       "      <td>225</td>\n",
       "      <td>604</td>\n",
       "      <td>0.451219</td>\n",
       "      <td>0.303342</td>\n",
       "      <td>1</td>\n",
       "      <td>...</td>\n",
       "      <td>1</td>\n",
       "      <td>337</td>\n",
       "      <td>252</td>\n",
       "      <td>684</td>\n",
       "      <td>11</td>\n",
       "      <td>969</td>\n",
       "      <td>2</td>\n",
       "      <td>0.847451</td>\n",
       "      <td>0.835163</td>\n",
       "      <td>5</td>\n",
       "    </tr>\n",
       "    <tr>\n",
       "      <th>19</th>\n",
       "      <td>1</td>\n",
       "      <td>744</td>\n",
       "      <td>4</td>\n",
       "      <td>29</td>\n",
       "      <td>41</td>\n",
       "      <td>73</td>\n",
       "      <td>604</td>\n",
       "      <td>0.486577</td>\n",
       "      <td>0.336466</td>\n",
       "      <td>1</td>\n",
       "      <td>...</td>\n",
       "      <td>41</td>\n",
       "      <td>151</td>\n",
       "      <td>154</td>\n",
       "      <td>652</td>\n",
       "      <td>113</td>\n",
       "      <td>569</td>\n",
       "      <td>2</td>\n",
       "      <td>0.795559</td>\n",
       "      <td>0.826641</td>\n",
       "      <td>14</td>\n",
       "    </tr>\n",
       "    <tr>\n",
       "      <th>20</th>\n",
       "      <td>21</td>\n",
       "      <td>450</td>\n",
       "      <td>5</td>\n",
       "      <td>13</td>\n",
       "      <td>240</td>\n",
       "      <td>197</td>\n",
       "      <td>604</td>\n",
       "      <td>0.694389</td>\n",
       "      <td>0.319750</td>\n",
       "      <td>1</td>\n",
       "      <td>...</td>\n",
       "      <td>69</td>\n",
       "      <td>22</td>\n",
       "      <td>94</td>\n",
       "      <td>595</td>\n",
       "      <td>154</td>\n",
       "      <td>127</td>\n",
       "      <td>2</td>\n",
       "      <td>0.948182</td>\n",
       "      <td>0.831409</td>\n",
       "      <td>57</td>\n",
       "    </tr>\n",
       "    <tr>\n",
       "      <th>21</th>\n",
       "      <td>16</td>\n",
       "      <td>978</td>\n",
       "      <td>4</td>\n",
       "      <td>42</td>\n",
       "      <td>127</td>\n",
       "      <td>73</td>\n",
       "      <td>604</td>\n",
       "      <td>0.486577</td>\n",
       "      <td>0.361050</td>\n",
       "      <td>1</td>\n",
       "      <td>...</td>\n",
       "      <td>41</td>\n",
       "      <td>343</td>\n",
       "      <td>256</td>\n",
       "      <td>685</td>\n",
       "      <td>120</td>\n",
       "      <td>994</td>\n",
       "      <td>2</td>\n",
       "      <td>0.821108</td>\n",
       "      <td>0.833471</td>\n",
       "      <td>14</td>\n",
       "    </tr>\n",
       "    <tr>\n",
       "      <th>22</th>\n",
       "      <td>9</td>\n",
       "      <td>57</td>\n",
       "      <td>4</td>\n",
       "      <td>10</td>\n",
       "      <td>99</td>\n",
       "      <td>168</td>\n",
       "      <td>8</td>\n",
       "      <td>0.480049</td>\n",
       "      <td>0.313162</td>\n",
       "      <td>1</td>\n",
       "      <td>...</td>\n",
       "      <td>51</td>\n",
       "      <td>6</td>\n",
       "      <td>80</td>\n",
       "      <td>587</td>\n",
       "      <td>139</td>\n",
       "      <td>56</td>\n",
       "      <td>2</td>\n",
       "      <td>0.811766</td>\n",
       "      <td>0.834219</td>\n",
       "      <td>12</td>\n",
       "    </tr>\n",
       "    <tr>\n",
       "      <th>23</th>\n",
       "      <td>17</td>\n",
       "      <td>994</td>\n",
       "      <td>4</td>\n",
       "      <td>10</td>\n",
       "      <td>99</td>\n",
       "      <td>88</td>\n",
       "      <td>130</td>\n",
       "      <td>0.506784</td>\n",
       "      <td>0.227487</td>\n",
       "      <td>1</td>\n",
       "      <td>...</td>\n",
       "      <td>18</td>\n",
       "      <td>6</td>\n",
       "      <td>85</td>\n",
       "      <td>563</td>\n",
       "      <td>121</td>\n",
       "      <td>38</td>\n",
       "      <td>2</td>\n",
       "      <td>0.786503</td>\n",
       "      <td>0.846386</td>\n",
       "      <td>21</td>\n",
       "    </tr>\n",
       "    <tr>\n",
       "      <th>24</th>\n",
       "      <td>10</td>\n",
       "      <td>575</td>\n",
       "      <td>4</td>\n",
       "      <td>10</td>\n",
       "      <td>99</td>\n",
       "      <td>88</td>\n",
       "      <td>124</td>\n",
       "      <td>0.518554</td>\n",
       "      <td>0.314898</td>\n",
       "      <td>1</td>\n",
       "      <td>...</td>\n",
       "      <td>16</td>\n",
       "      <td>6</td>\n",
       "      <td>85</td>\n",
       "      <td>561</td>\n",
       "      <td>114</td>\n",
       "      <td>31</td>\n",
       "      <td>2</td>\n",
       "      <td>0.794384</td>\n",
       "      <td>0.830251</td>\n",
       "      <td>24</td>\n",
       "    </tr>\n",
       "    <tr>\n",
       "      <th>25</th>\n",
       "      <td>14</td>\n",
       "      <td>809</td>\n",
       "      <td>4</td>\n",
       "      <td>42</td>\n",
       "      <td>299</td>\n",
       "      <td>73</td>\n",
       "      <td>604</td>\n",
       "      <td>0.506784</td>\n",
       "      <td>0.256622</td>\n",
       "      <td>1</td>\n",
       "      <td>...</td>\n",
       "      <td>41</td>\n",
       "      <td>345</td>\n",
       "      <td>256</td>\n",
       "      <td>685</td>\n",
       "      <td>118</td>\n",
       "      <td>992</td>\n",
       "      <td>2</td>\n",
       "      <td>0.845967</td>\n",
       "      <td>0.840614</td>\n",
       "      <td>21</td>\n",
       "    </tr>\n",
       "    <tr>\n",
       "      <th>26</th>\n",
       "      <td>13</td>\n",
       "      <td>847</td>\n",
       "      <td>0</td>\n",
       "      <td>45</td>\n",
       "      <td>154</td>\n",
       "      <td>73</td>\n",
       "      <td>604</td>\n",
       "      <td>0.503719</td>\n",
       "      <td>0.438459</td>\n",
       "      <td>0</td>\n",
       "      <td>...</td>\n",
       "      <td>1</td>\n",
       "      <td>367</td>\n",
       "      <td>270</td>\n",
       "      <td>688</td>\n",
       "      <td>5</td>\n",
       "      <td>1075</td>\n",
       "      <td>2</td>\n",
       "      <td>0.823996</td>\n",
       "      <td>0.849115</td>\n",
       "      <td>20</td>\n",
       "    </tr>\n",
       "    <tr>\n",
       "      <th>27</th>\n",
       "      <td>12</td>\n",
       "      <td>806</td>\n",
       "      <td>4</td>\n",
       "      <td>29</td>\n",
       "      <td>119</td>\n",
       "      <td>166</td>\n",
       "      <td>95</td>\n",
       "      <td>0.483496</td>\n",
       "      <td>0.319750</td>\n",
       "      <td>1</td>\n",
       "      <td>...</td>\n",
       "      <td>60</td>\n",
       "      <td>148</td>\n",
       "      <td>146</td>\n",
       "      <td>667</td>\n",
       "      <td>116</td>\n",
       "      <td>572</td>\n",
       "      <td>2</td>\n",
       "      <td>0.791656</td>\n",
       "      <td>0.831409</td>\n",
       "      <td>13</td>\n",
       "    </tr>\n",
       "    <tr>\n",
       "      <th>28</th>\n",
       "      <td>4</td>\n",
       "      <td>255</td>\n",
       "      <td>8</td>\n",
       "      <td>24</td>\n",
       "      <td>84</td>\n",
       "      <td>73</td>\n",
       "      <td>604</td>\n",
       "      <td>0.546872</td>\n",
       "      <td>0.000000</td>\n",
       "      <td>1</td>\n",
       "      <td>...</td>\n",
       "      <td>649</td>\n",
       "      <td>135</td>\n",
       "      <td>133</td>\n",
       "      <td>617</td>\n",
       "      <td>246</td>\n",
       "      <td>471</td>\n",
       "      <td>2</td>\n",
       "      <td>0.838322</td>\n",
       "      <td>0.857772</td>\n",
       "      <td>34</td>\n",
       "    </tr>\n",
       "    <tr>\n",
       "      <th>29</th>\n",
       "      <td>4</td>\n",
       "      <td>253</td>\n",
       "      <td>0</td>\n",
       "      <td>41</td>\n",
       "      <td>0</td>\n",
       "      <td>73</td>\n",
       "      <td>604</td>\n",
       "      <td>0.558516</td>\n",
       "      <td>0.343565</td>\n",
       "      <td>1</td>\n",
       "      <td>...</td>\n",
       "      <td>1</td>\n",
       "      <td>307</td>\n",
       "      <td>253</td>\n",
       "      <td>684</td>\n",
       "      <td>22</td>\n",
       "      <td>980</td>\n",
       "      <td>2</td>\n",
       "      <td>0.837464</td>\n",
       "      <td>0.831441</td>\n",
       "      <td>38</td>\n",
       "    </tr>\n",
       "    <tr>\n",
       "      <th>...</th>\n",
       "      <td>...</td>\n",
       "      <td>...</td>\n",
       "      <td>...</td>\n",
       "      <td>...</td>\n",
       "      <td>...</td>\n",
       "      <td>...</td>\n",
       "      <td>...</td>\n",
       "      <td>...</td>\n",
       "      <td>...</td>\n",
       "      <td>...</td>\n",
       "      <td>...</td>\n",
       "      <td>...</td>\n",
       "      <td>...</td>\n",
       "      <td>...</td>\n",
       "      <td>...</td>\n",
       "      <td>...</td>\n",
       "      <td>...</td>\n",
       "      <td>...</td>\n",
       "      <td>...</td>\n",
       "      <td>...</td>\n",
       "      <td>...</td>\n",
       "    </tr>\n",
       "    <tr>\n",
       "      <th>2011832</th>\n",
       "      <td>25</td>\n",
       "      <td>749</td>\n",
       "      <td>2</td>\n",
       "      <td>22</td>\n",
       "      <td>163</td>\n",
       "      <td>73</td>\n",
       "      <td>604</td>\n",
       "      <td>0.598050</td>\n",
       "      <td>0.305482</td>\n",
       "      <td>1</td>\n",
       "      <td>...</td>\n",
       "      <td>3</td>\n",
       "      <td>111</td>\n",
       "      <td>126</td>\n",
       "      <td>615</td>\n",
       "      <td>74</td>\n",
       "      <td>411</td>\n",
       "      <td>0</td>\n",
       "      <td>0.878637</td>\n",
       "      <td>0.841408</td>\n",
       "      <td>48</td>\n",
       "    </tr>\n",
       "    <tr>\n",
       "      <th>2011833</th>\n",
       "      <td>21</td>\n",
       "      <td>729</td>\n",
       "      <td>7</td>\n",
       "      <td>34</td>\n",
       "      <td>203</td>\n",
       "      <td>73</td>\n",
       "      <td>604</td>\n",
       "      <td>-1.000000</td>\n",
       "      <td>0.356095</td>\n",
       "      <td>0</td>\n",
       "      <td>...</td>\n",
       "      <td>648</td>\n",
       "      <td>186</td>\n",
       "      <td>232</td>\n",
       "      <td>676</td>\n",
       "      <td>210</td>\n",
       "      <td>750</td>\n",
       "      <td>2</td>\n",
       "      <td>0.948405</td>\n",
       "      <td>0.831577</td>\n",
       "      <td>0</td>\n",
       "    </tr>\n",
       "    <tr>\n",
       "      <th>2011834</th>\n",
       "      <td>4</td>\n",
       "      <td>253</td>\n",
       "      <td>4</td>\n",
       "      <td>46</td>\n",
       "      <td>326</td>\n",
       "      <td>73</td>\n",
       "      <td>604</td>\n",
       "      <td>0.586709</td>\n",
       "      <td>0.466264</td>\n",
       "      <td>0</td>\n",
       "      <td>...</td>\n",
       "      <td>41</td>\n",
       "      <td>373</td>\n",
       "      <td>271</td>\n",
       "      <td>689</td>\n",
       "      <td>134</td>\n",
       "      <td>1120</td>\n",
       "      <td>0</td>\n",
       "      <td>0.839133</td>\n",
       "      <td>0.853979</td>\n",
       "      <td>47</td>\n",
       "    </tr>\n",
       "    <tr>\n",
       "      <th>2011835</th>\n",
       "      <td>1</td>\n",
       "      <td>444</td>\n",
       "      <td>4</td>\n",
       "      <td>29</td>\n",
       "      <td>119</td>\n",
       "      <td>168</td>\n",
       "      <td>95</td>\n",
       "      <td>0.496399</td>\n",
       "      <td>0.330695</td>\n",
       "      <td>1</td>\n",
       "      <td>...</td>\n",
       "      <td>60</td>\n",
       "      <td>148</td>\n",
       "      <td>147</td>\n",
       "      <td>667</td>\n",
       "      <td>113</td>\n",
       "      <td>569</td>\n",
       "      <td>0</td>\n",
       "      <td>0.827418</td>\n",
       "      <td>0.831234</td>\n",
       "      <td>17</td>\n",
       "    </tr>\n",
       "    <tr>\n",
       "      <th>2011836</th>\n",
       "      <td>12</td>\n",
       "      <td>806</td>\n",
       "      <td>4</td>\n",
       "      <td>10</td>\n",
       "      <td>104</td>\n",
       "      <td>88</td>\n",
       "      <td>4</td>\n",
       "      <td>0.486577</td>\n",
       "      <td>0.313162</td>\n",
       "      <td>1</td>\n",
       "      <td>...</td>\n",
       "      <td>31</td>\n",
       "      <td>4</td>\n",
       "      <td>85</td>\n",
       "      <td>568</td>\n",
       "      <td>116</td>\n",
       "      <td>33</td>\n",
       "      <td>6</td>\n",
       "      <td>0.786132</td>\n",
       "      <td>0.834219</td>\n",
       "      <td>14</td>\n",
       "    </tr>\n",
       "    <tr>\n",
       "      <th>2011837</th>\n",
       "      <td>7</td>\n",
       "      <td>456</td>\n",
       "      <td>4</td>\n",
       "      <td>10</td>\n",
       "      <td>104</td>\n",
       "      <td>158</td>\n",
       "      <td>74</td>\n",
       "      <td>0.526737</td>\n",
       "      <td>0.363688</td>\n",
       "      <td>0</td>\n",
       "      <td>...</td>\n",
       "      <td>46</td>\n",
       "      <td>4</td>\n",
       "      <td>78</td>\n",
       "      <td>583</td>\n",
       "      <td>137</td>\n",
       "      <td>54</td>\n",
       "      <td>6</td>\n",
       "      <td>0.868804</td>\n",
       "      <td>0.828971</td>\n",
       "      <td>27</td>\n",
       "    </tr>\n",
       "    <tr>\n",
       "      <th>2011838</th>\n",
       "      <td>9</td>\n",
       "      <td>844</td>\n",
       "      <td>7</td>\n",
       "      <td>34</td>\n",
       "      <td>70</td>\n",
       "      <td>176</td>\n",
       "      <td>604</td>\n",
       "      <td>0.451219</td>\n",
       "      <td>0.338599</td>\n",
       "      <td>2</td>\n",
       "      <td>...</td>\n",
       "      <td>648</td>\n",
       "      <td>202</td>\n",
       "      <td>202</td>\n",
       "      <td>676</td>\n",
       "      <td>223</td>\n",
       "      <td>763</td>\n",
       "      <td>4</td>\n",
       "      <td>0.858522</td>\n",
       "      <td>0.836061</td>\n",
       "      <td>5</td>\n",
       "    </tr>\n",
       "    <tr>\n",
       "      <th>2011839</th>\n",
       "      <td>17</td>\n",
       "      <td>994</td>\n",
       "      <td>4</td>\n",
       "      <td>42</td>\n",
       "      <td>300</td>\n",
       "      <td>73</td>\n",
       "      <td>604</td>\n",
       "      <td>0.476137</td>\n",
       "      <td>0.357559</td>\n",
       "      <td>1</td>\n",
       "      <td>...</td>\n",
       "      <td>41</td>\n",
       "      <td>346</td>\n",
       "      <td>256</td>\n",
       "      <td>685</td>\n",
       "      <td>121</td>\n",
       "      <td>995</td>\n",
       "      <td>5</td>\n",
       "      <td>0.851909</td>\n",
       "      <td>0.834091</td>\n",
       "      <td>11</td>\n",
       "    </tr>\n",
       "    <tr>\n",
       "      <th>2011840</th>\n",
       "      <td>25</td>\n",
       "      <td>746</td>\n",
       "      <td>4</td>\n",
       "      <td>21</td>\n",
       "      <td>236</td>\n",
       "      <td>73</td>\n",
       "      <td>604</td>\n",
       "      <td>0.594261</td>\n",
       "      <td>0.290758</td>\n",
       "      <td>1</td>\n",
       "      <td>...</td>\n",
       "      <td>41</td>\n",
       "      <td>104</td>\n",
       "      <td>125</td>\n",
       "      <td>614</td>\n",
       "      <td>130</td>\n",
       "      <td>383</td>\n",
       "      <td>0</td>\n",
       "      <td>0.884777</td>\n",
       "      <td>0.838471</td>\n",
       "      <td>48</td>\n",
       "    </tr>\n",
       "    <tr>\n",
       "      <th>2011841</th>\n",
       "      <td>15</td>\n",
       "      <td>884</td>\n",
       "      <td>4</td>\n",
       "      <td>29</td>\n",
       "      <td>119</td>\n",
       "      <td>158</td>\n",
       "      <td>81</td>\n",
       "      <td>0.471616</td>\n",
       "      <td>0.360370</td>\n",
       "      <td>1</td>\n",
       "      <td>...</td>\n",
       "      <td>53</td>\n",
       "      <td>148</td>\n",
       "      <td>145</td>\n",
       "      <td>661</td>\n",
       "      <td>119</td>\n",
       "      <td>575</td>\n",
       "      <td>4</td>\n",
       "      <td>0.791284</td>\n",
       "      <td>0.838650</td>\n",
       "      <td>10</td>\n",
       "    </tr>\n",
       "    <tr>\n",
       "      <th>2011842</th>\n",
       "      <td>11</td>\n",
       "      <td>756</td>\n",
       "      <td>4</td>\n",
       "      <td>29</td>\n",
       "      <td>119</td>\n",
       "      <td>168</td>\n",
       "      <td>95</td>\n",
       "      <td>0.518554</td>\n",
       "      <td>0.303342</td>\n",
       "      <td>1</td>\n",
       "      <td>...</td>\n",
       "      <td>60</td>\n",
       "      <td>148</td>\n",
       "      <td>147</td>\n",
       "      <td>667</td>\n",
       "      <td>115</td>\n",
       "      <td>571</td>\n",
       "      <td>1</td>\n",
       "      <td>0.781832</td>\n",
       "      <td>0.835163</td>\n",
       "      <td>24</td>\n",
       "    </tr>\n",
       "    <tr>\n",
       "      <th>2011843</th>\n",
       "      <td>10</td>\n",
       "      <td>575</td>\n",
       "      <td>8</td>\n",
       "      <td>17</td>\n",
       "      <td>185</td>\n",
       "      <td>73</td>\n",
       "      <td>604</td>\n",
       "      <td>0.403434</td>\n",
       "      <td>0.344502</td>\n",
       "      <td>1</td>\n",
       "      <td>...</td>\n",
       "      <td>649</td>\n",
       "      <td>51</td>\n",
       "      <td>111</td>\n",
       "      <td>609</td>\n",
       "      <td>226</td>\n",
       "      <td>227</td>\n",
       "      <td>1</td>\n",
       "      <td>0.830920</td>\n",
       "      <td>0.830578</td>\n",
       "      <td>1</td>\n",
       "    </tr>\n",
       "    <tr>\n",
       "      <th>2011844</th>\n",
       "      <td>9</td>\n",
       "      <td>558</td>\n",
       "      <td>4</td>\n",
       "      <td>29</td>\n",
       "      <td>119</td>\n",
       "      <td>168</td>\n",
       "      <td>95</td>\n",
       "      <td>0.509554</td>\n",
       "      <td>0.296229</td>\n",
       "      <td>1</td>\n",
       "      <td>...</td>\n",
       "      <td>60</td>\n",
       "      <td>148</td>\n",
       "      <td>147</td>\n",
       "      <td>667</td>\n",
       "      <td>139</td>\n",
       "      <td>595</td>\n",
       "      <td>5</td>\n",
       "      <td>0.843427</td>\n",
       "      <td>0.840091</td>\n",
       "      <td>22</td>\n",
       "    </tr>\n",
       "    <tr>\n",
       "      <th>2011845</th>\n",
       "      <td>16</td>\n",
       "      <td>1272</td>\n",
       "      <td>0</td>\n",
       "      <td>27</td>\n",
       "      <td>33</td>\n",
       "      <td>73</td>\n",
       "      <td>604</td>\n",
       "      <td>0.586531</td>\n",
       "      <td>0.227487</td>\n",
       "      <td>1</td>\n",
       "      <td>...</td>\n",
       "      <td>1</td>\n",
       "      <td>140</td>\n",
       "      <td>139</td>\n",
       "      <td>627</td>\n",
       "      <td>8</td>\n",
       "      <td>520</td>\n",
       "      <td>3</td>\n",
       "      <td>0.848864</td>\n",
       "      <td>0.846386</td>\n",
       "      <td>46</td>\n",
       "    </tr>\n",
       "    <tr>\n",
       "      <th>2011846</th>\n",
       "      <td>26</td>\n",
       "      <td>663</td>\n",
       "      <td>4</td>\n",
       "      <td>29</td>\n",
       "      <td>119</td>\n",
       "      <td>158</td>\n",
       "      <td>80</td>\n",
       "      <td>0.533329</td>\n",
       "      <td>0.303342</td>\n",
       "      <td>1</td>\n",
       "      <td>...</td>\n",
       "      <td>52</td>\n",
       "      <td>148</td>\n",
       "      <td>145</td>\n",
       "      <td>660</td>\n",
       "      <td>131</td>\n",
       "      <td>587</td>\n",
       "      <td>0</td>\n",
       "      <td>0.799760</td>\n",
       "      <td>0.835163</td>\n",
       "      <td>29</td>\n",
       "    </tr>\n",
       "    <tr>\n",
       "      <th>2011847</th>\n",
       "      <td>1</td>\n",
       "      <td>1211</td>\n",
       "      <td>2</td>\n",
       "      <td>38</td>\n",
       "      <td>288</td>\n",
       "      <td>73</td>\n",
       "      <td>604</td>\n",
       "      <td>0.508423</td>\n",
       "      <td>0.000000</td>\n",
       "      <td>1</td>\n",
       "      <td>...</td>\n",
       "      <td>3</td>\n",
       "      <td>213</td>\n",
       "      <td>244</td>\n",
       "      <td>680</td>\n",
       "      <td>57</td>\n",
       "      <td>849</td>\n",
       "      <td>4</td>\n",
       "      <td>0.916496</td>\n",
       "      <td>0.857772</td>\n",
       "      <td>22</td>\n",
       "    </tr>\n",
       "    <tr>\n",
       "      <th>2011848</th>\n",
       "      <td>1</td>\n",
       "      <td>1211</td>\n",
       "      <td>1</td>\n",
       "      <td>28</td>\n",
       "      <td>242</td>\n",
       "      <td>73</td>\n",
       "      <td>604</td>\n",
       "      <td>0.573133</td>\n",
       "      <td>0.336466</td>\n",
       "      <td>0</td>\n",
       "      <td>...</td>\n",
       "      <td>2</td>\n",
       "      <td>146</td>\n",
       "      <td>140</td>\n",
       "      <td>628</td>\n",
       "      <td>29</td>\n",
       "      <td>541</td>\n",
       "      <td>4</td>\n",
       "      <td>0.841575</td>\n",
       "      <td>0.826641</td>\n",
       "      <td>42</td>\n",
       "    </tr>\n",
       "    <tr>\n",
       "      <th>2011849</th>\n",
       "      <td>26</td>\n",
       "      <td>1240</td>\n",
       "      <td>4</td>\n",
       "      <td>29</td>\n",
       "      <td>119</td>\n",
       "      <td>88</td>\n",
       "      <td>106</td>\n",
       "      <td>0.471616</td>\n",
       "      <td>0.387350</td>\n",
       "      <td>1</td>\n",
       "      <td>...</td>\n",
       "      <td>8</td>\n",
       "      <td>148</td>\n",
       "      <td>156</td>\n",
       "      <td>632</td>\n",
       "      <td>131</td>\n",
       "      <td>587</td>\n",
       "      <td>0</td>\n",
       "      <td>0.794497</td>\n",
       "      <td>0.838429</td>\n",
       "      <td>10</td>\n",
       "    </tr>\n",
       "    <tr>\n",
       "      <th>2011850</th>\n",
       "      <td>9</td>\n",
       "      <td>57</td>\n",
       "      <td>5</td>\n",
       "      <td>15</td>\n",
       "      <td>275</td>\n",
       "      <td>153</td>\n",
       "      <td>0</td>\n",
       "      <td>0.553285</td>\n",
       "      <td>0.256622</td>\n",
       "      <td>0</td>\n",
       "      <td>...</td>\n",
       "      <td>64</td>\n",
       "      <td>34</td>\n",
       "      <td>99</td>\n",
       "      <td>599</td>\n",
       "      <td>167</td>\n",
       "      <td>196</td>\n",
       "      <td>4</td>\n",
       "      <td>0.948405</td>\n",
       "      <td>0.840614</td>\n",
       "      <td>36</td>\n",
       "    </tr>\n",
       "    <tr>\n",
       "      <th>2011851</th>\n",
       "      <td>15</td>\n",
       "      <td>884</td>\n",
       "      <td>4</td>\n",
       "      <td>29</td>\n",
       "      <td>192</td>\n",
       "      <td>158</td>\n",
       "      <td>98</td>\n",
       "      <td>0.518554</td>\n",
       "      <td>0.207551</td>\n",
       "      <td>1</td>\n",
       "      <td>...</td>\n",
       "      <td>63</td>\n",
       "      <td>149</td>\n",
       "      <td>145</td>\n",
       "      <td>670</td>\n",
       "      <td>119</td>\n",
       "      <td>575</td>\n",
       "      <td>2</td>\n",
       "      <td>0.791523</td>\n",
       "      <td>0.882787</td>\n",
       "      <td>24</td>\n",
       "    </tr>\n",
       "    <tr>\n",
       "      <th>2011852</th>\n",
       "      <td>4</td>\n",
       "      <td>253</td>\n",
       "      <td>4</td>\n",
       "      <td>29</td>\n",
       "      <td>119</td>\n",
       "      <td>192</td>\n",
       "      <td>95</td>\n",
       "      <td>0.466261</td>\n",
       "      <td>0.446900</td>\n",
       "      <td>1</td>\n",
       "      <td>...</td>\n",
       "      <td>60</td>\n",
       "      <td>148</td>\n",
       "      <td>149</td>\n",
       "      <td>667</td>\n",
       "      <td>134</td>\n",
       "      <td>590</td>\n",
       "      <td>2</td>\n",
       "      <td>0.777872</td>\n",
       "      <td>0.856100</td>\n",
       "      <td>8</td>\n",
       "    </tr>\n",
       "    <tr>\n",
       "      <th>2011853</th>\n",
       "      <td>12</td>\n",
       "      <td>806</td>\n",
       "      <td>5</td>\n",
       "      <td>15</td>\n",
       "      <td>265</td>\n",
       "      <td>153</td>\n",
       "      <td>0</td>\n",
       "      <td>0.582730</td>\n",
       "      <td>0.000000</td>\n",
       "      <td>1</td>\n",
       "      <td>...</td>\n",
       "      <td>64</td>\n",
       "      <td>33</td>\n",
       "      <td>99</td>\n",
       "      <td>599</td>\n",
       "      <td>144</td>\n",
       "      <td>173</td>\n",
       "      <td>4</td>\n",
       "      <td>0.953597</td>\n",
       "      <td>0.857772</td>\n",
       "      <td>45</td>\n",
       "    </tr>\n",
       "    <tr>\n",
       "      <th>2011854</th>\n",
       "      <td>22</td>\n",
       "      <td>502</td>\n",
       "      <td>4</td>\n",
       "      <td>46</td>\n",
       "      <td>57</td>\n",
       "      <td>73</td>\n",
       "      <td>604</td>\n",
       "      <td>0.538589</td>\n",
       "      <td>0.321263</td>\n",
       "      <td>1</td>\n",
       "      <td>...</td>\n",
       "      <td>41</td>\n",
       "      <td>376</td>\n",
       "      <td>271</td>\n",
       "      <td>689</td>\n",
       "      <td>127</td>\n",
       "      <td>1113</td>\n",
       "      <td>1</td>\n",
       "      <td>0.871117</td>\n",
       "      <td>0.832745</td>\n",
       "      <td>31</td>\n",
       "    </tr>\n",
       "    <tr>\n",
       "      <th>2011855</th>\n",
       "      <td>4</td>\n",
       "      <td>253</td>\n",
       "      <td>4</td>\n",
       "      <td>29</td>\n",
       "      <td>119</td>\n",
       "      <td>168</td>\n",
       "      <td>90</td>\n",
       "      <td>0.486577</td>\n",
       "      <td>0.301094</td>\n",
       "      <td>1</td>\n",
       "      <td>...</td>\n",
       "      <td>56</td>\n",
       "      <td>148</td>\n",
       "      <td>147</td>\n",
       "      <td>663</td>\n",
       "      <td>134</td>\n",
       "      <td>590</td>\n",
       "      <td>5</td>\n",
       "      <td>0.793210</td>\n",
       "      <td>0.833365</td>\n",
       "      <td>14</td>\n",
       "    </tr>\n",
       "    <tr>\n",
       "      <th>2011856</th>\n",
       "      <td>1</td>\n",
       "      <td>1211</td>\n",
       "      <td>6</td>\n",
       "      <td>0</td>\n",
       "      <td>259</td>\n",
       "      <td>17</td>\n",
       "      <td>603</td>\n",
       "      <td>0.667074</td>\n",
       "      <td>0.207551</td>\n",
       "      <td>1</td>\n",
       "      <td>...</td>\n",
       "      <td>612</td>\n",
       "      <td>2</td>\n",
       "      <td>13</td>\n",
       "      <td>523</td>\n",
       "      <td>169</td>\n",
       "      <td>2</td>\n",
       "      <td>2</td>\n",
       "      <td>0.914138</td>\n",
       "      <td>0.882787</td>\n",
       "      <td>54</td>\n",
       "    </tr>\n",
       "    <tr>\n",
       "      <th>2011857</th>\n",
       "      <td>8</td>\n",
       "      <td>497</td>\n",
       "      <td>0</td>\n",
       "      <td>41</td>\n",
       "      <td>20</td>\n",
       "      <td>73</td>\n",
       "      <td>604</td>\n",
       "      <td>0.512081</td>\n",
       "      <td>0.334238</td>\n",
       "      <td>1</td>\n",
       "      <td>...</td>\n",
       "      <td>1</td>\n",
       "      <td>319</td>\n",
       "      <td>253</td>\n",
       "      <td>684</td>\n",
       "      <td>26</td>\n",
       "      <td>984</td>\n",
       "      <td>1</td>\n",
       "      <td>0.808458</td>\n",
       "      <td>0.831025</td>\n",
       "      <td>22</td>\n",
       "    </tr>\n",
       "    <tr>\n",
       "      <th>2011858</th>\n",
       "      <td>22</td>\n",
       "      <td>1164</td>\n",
       "      <td>0</td>\n",
       "      <td>27</td>\n",
       "      <td>33</td>\n",
       "      <td>73</td>\n",
       "      <td>604</td>\n",
       "      <td>0.602420</td>\n",
       "      <td>0.404624</td>\n",
       "      <td>0</td>\n",
       "      <td>...</td>\n",
       "      <td>1</td>\n",
       "      <td>140</td>\n",
       "      <td>139</td>\n",
       "      <td>627</td>\n",
       "      <td>15</td>\n",
       "      <td>527</td>\n",
       "      <td>2</td>\n",
       "      <td>0.850092</td>\n",
       "      <td>0.832835</td>\n",
       "      <td>49</td>\n",
       "    </tr>\n",
       "    <tr>\n",
       "      <th>2011859</th>\n",
       "      <td>0</td>\n",
       "      <td>103</td>\n",
       "      <td>4</td>\n",
       "      <td>29</td>\n",
       "      <td>119</td>\n",
       "      <td>168</td>\n",
       "      <td>95</td>\n",
       "      <td>0.503719</td>\n",
       "      <td>0.383891</td>\n",
       "      <td>1</td>\n",
       "      <td>...</td>\n",
       "      <td>60</td>\n",
       "      <td>148</td>\n",
       "      <td>147</td>\n",
       "      <td>667</td>\n",
       "      <td>112</td>\n",
       "      <td>568</td>\n",
       "      <td>4</td>\n",
       "      <td>0.823225</td>\n",
       "      <td>0.830364</td>\n",
       "      <td>20</td>\n",
       "    </tr>\n",
       "    <tr>\n",
       "      <th>2011860</th>\n",
       "      <td>20</td>\n",
       "      <td>737</td>\n",
       "      <td>7</td>\n",
       "      <td>34</td>\n",
       "      <td>205</td>\n",
       "      <td>150</td>\n",
       "      <td>604</td>\n",
       "      <td>-1.000000</td>\n",
       "      <td>0.000000</td>\n",
       "      <td>1</td>\n",
       "      <td>...</td>\n",
       "      <td>648</td>\n",
       "      <td>187</td>\n",
       "      <td>193</td>\n",
       "      <td>676</td>\n",
       "      <td>209</td>\n",
       "      <td>749</td>\n",
       "      <td>3</td>\n",
       "      <td>0.948405</td>\n",
       "      <td>0.857772</td>\n",
       "      <td>0</td>\n",
       "    </tr>\n",
       "    <tr>\n",
       "      <th>2011861</th>\n",
       "      <td>5</td>\n",
       "      <td>264</td>\n",
       "      <td>2</td>\n",
       "      <td>38</td>\n",
       "      <td>131</td>\n",
       "      <td>73</td>\n",
       "      <td>604</td>\n",
       "      <td>0.526737</td>\n",
       "      <td>0.772006</td>\n",
       "      <td>2</td>\n",
       "      <td>...</td>\n",
       "      <td>3</td>\n",
       "      <td>207</td>\n",
       "      <td>244</td>\n",
       "      <td>680</td>\n",
       "      <td>79</td>\n",
       "      <td>871</td>\n",
       "      <td>1</td>\n",
       "      <td>0.855584</td>\n",
       "      <td>0.738802</td>\n",
       "      <td>27</td>\n",
       "    </tr>\n",
       "  </tbody>\n",
       "</table>\n",
       "<p>2011862 rows × 118 columns</p>\n",
       "</div>"
      ],
      "text/plain": [
       "         region  city  parent_category_name  category_name  param_1  param_2  \\\n",
       "0            17   994                     4             10      104       88   \n",
       "1             6   186                     0             41       41      225   \n",
       "2            15   562                     4             29      119       88   \n",
       "3            14   851                     3             43       33       73   \n",
       "4            27  1308                     4             29      192      107   \n",
       "5             6   436                     4             29      119       88   \n",
       "6             6  1208                     0             41       24       73   \n",
       "7            22  1137                     5             15      240        0   \n",
       "8            14   195                     3             20      113       73   \n",
       "9             1     0                     2             35       33       73   \n",
       "10           26  1240                     4             42      299       73   \n",
       "11           19   355                     4             42       96       73   \n",
       "12           26  1240                     4             29      119       88   \n",
       "13            9   632                     5             15      240        1   \n",
       "14           18   998                     7             34      162       73   \n",
       "15            8   497                     4             29      119      168   \n",
       "16           21   729                     4             10      104      158   \n",
       "17           15   884                     4             29      119      158   \n",
       "18           19  1028                     0             41       41      225   \n",
       "19            1   744                     4             29       41       73   \n",
       "20           21   450                     5             13      240      197   \n",
       "21           16   978                     4             42      127       73   \n",
       "22            9    57                     4             10       99      168   \n",
       "23           17   994                     4             10       99       88   \n",
       "24           10   575                     4             10       99       88   \n",
       "25           14   809                     4             42      299       73   \n",
       "26           13   847                     0             45      154       73   \n",
       "27           12   806                     4             29      119      166   \n",
       "28            4   255                     8             24       84       73   \n",
       "29            4   253                     0             41        0       73   \n",
       "...         ...   ...                   ...            ...      ...      ...   \n",
       "2011832      25   749                     2             22      163       73   \n",
       "2011833      21   729                     7             34      203       73   \n",
       "2011834       4   253                     4             46      326       73   \n",
       "2011835       1   444                     4             29      119      168   \n",
       "2011836      12   806                     4             10      104       88   \n",
       "2011837       7   456                     4             10      104      158   \n",
       "2011838       9   844                     7             34       70      176   \n",
       "2011839      17   994                     4             42      300       73   \n",
       "2011840      25   746                     4             21      236       73   \n",
       "2011841      15   884                     4             29      119      158   \n",
       "2011842      11   756                     4             29      119      168   \n",
       "2011843      10   575                     8             17      185       73   \n",
       "2011844       9   558                     4             29      119      168   \n",
       "2011845      16  1272                     0             27       33       73   \n",
       "2011846      26   663                     4             29      119      158   \n",
       "2011847       1  1211                     2             38      288       73   \n",
       "2011848       1  1211                     1             28      242       73   \n",
       "2011849      26  1240                     4             29      119       88   \n",
       "2011850       9    57                     5             15      275      153   \n",
       "2011851      15   884                     4             29      192      158   \n",
       "2011852       4   253                     4             29      119      192   \n",
       "2011853      12   806                     5             15      265      153   \n",
       "2011854      22   502                     4             46       57       73   \n",
       "2011855       4   253                     4             29      119      168   \n",
       "2011856       1  1211                     6              0      259       17   \n",
       "2011857       8   497                     0             41       20       73   \n",
       "2011858      22  1164                     0             27       33       73   \n",
       "2011859       0   103                     4             29      119      168   \n",
       "2011860      20   737                     7             34      205      150   \n",
       "2011861       5   264                     2             38      131       73   \n",
       "\n",
       "         param_3     price  item_seq_number  user_type      ...       \\\n",
       "0            130  0.486577         0.284494          1      ...        \n",
       "1            604  0.439237         0.249218          1      ...        \n",
       "2            100  0.518554         0.325533          1      ...        \n",
       "3            604  0.476137         0.298728          1      ...        \n",
       "4            604  0.518554         0.262826          1      ...        \n",
       "5            106  0.500291         0.239971          1      ...        \n",
       "6            604  0.479975         0.874749          2      ...        \n",
       "7            610  0.700911         0.262826          1      ...        \n",
       "8            604 -1.000000         0.303342          1      ...        \n",
       "9            604  0.300465         0.249218          1      ...        \n",
       "10           604  0.506784         0.325533          0      ...        \n",
       "11           604  0.560810         0.609962          2      ...        \n",
       "12            90  0.483496         0.319750          1      ...        \n",
       "13           610 -1.000000         0.334238          1      ...        \n",
       "14           604  0.459698         0.324151          0      ...        \n",
       "15           109  0.546872         0.207551          1      ...        \n",
       "16            49  0.459698         0.330695          1      ...        \n",
       "17            78  0.506784         0.284494          1      ...        \n",
       "18           604  0.451219         0.303342          1      ...        \n",
       "19           604  0.486577         0.336466          1      ...        \n",
       "20           604  0.694389         0.319750          1      ...        \n",
       "21           604  0.486577         0.361050          1      ...        \n",
       "22             8  0.480049         0.313162          1      ...        \n",
       "23           130  0.506784         0.227487          1      ...        \n",
       "24           124  0.518554         0.314898          1      ...        \n",
       "25           604  0.506784         0.256622          1      ...        \n",
       "26           604  0.503719         0.438459          0      ...        \n",
       "27            95  0.483496         0.319750          1      ...        \n",
       "28           604  0.546872         0.000000          1      ...        \n",
       "29           604  0.558516         0.343565          1      ...        \n",
       "...          ...       ...              ...        ...      ...        \n",
       "2011832      604  0.598050         0.305482          1      ...        \n",
       "2011833      604 -1.000000         0.356095          0      ...        \n",
       "2011834      604  0.586709         0.466264          0      ...        \n",
       "2011835       95  0.496399         0.330695          1      ...        \n",
       "2011836        4  0.486577         0.313162          1      ...        \n",
       "2011837       74  0.526737         0.363688          0      ...        \n",
       "2011838      604  0.451219         0.338599          2      ...        \n",
       "2011839      604  0.476137         0.357559          1      ...        \n",
       "2011840      604  0.594261         0.290758          1      ...        \n",
       "2011841       81  0.471616         0.360370          1      ...        \n",
       "2011842       95  0.518554         0.303342          1      ...        \n",
       "2011843      604  0.403434         0.344502          1      ...        \n",
       "2011844       95  0.509554         0.296229          1      ...        \n",
       "2011845      604  0.586531         0.227487          1      ...        \n",
       "2011846       80  0.533329         0.303342          1      ...        \n",
       "2011847      604  0.508423         0.000000          1      ...        \n",
       "2011848      604  0.573133         0.336466          0      ...        \n",
       "2011849      106  0.471616         0.387350          1      ...        \n",
       "2011850        0  0.553285         0.256622          0      ...        \n",
       "2011851       98  0.518554         0.207551          1      ...        \n",
       "2011852       95  0.466261         0.446900          1      ...        \n",
       "2011853        0  0.582730         0.000000          1      ...        \n",
       "2011854      604  0.538589         0.321263          1      ...        \n",
       "2011855       90  0.486577         0.301094          1      ...        \n",
       "2011856      603  0.667074         0.207551          1      ...        \n",
       "2011857      604  0.512081         0.334238          1      ...        \n",
       "2011858      604  0.602420         0.404624          0      ...        \n",
       "2011859       95  0.503719         0.383891          1      ...        \n",
       "2011860      604 -1.000000         0.000000          1      ...        \n",
       "2011861      604  0.526737         0.772006          2      ...        \n",
       "\n",
       "         parent_category_name_param_3  category_name_param_1  \\\n",
       "0                                  18                      4   \n",
       "1                                   1                    337   \n",
       "2                                   5                    148   \n",
       "3                                   4                    353   \n",
       "4                                  41                    149   \n",
       "5                                   8                    148   \n",
       "6                                   1                    324   \n",
       "7                                  74                     32   \n",
       "8                                   4                     76   \n",
       "9                                   3                    204   \n",
       "10                                 41                    345   \n",
       "11                                 41                    352   \n",
       "12                                 56                    148   \n",
       "13                                 74                     32   \n",
       "14                                648                    183   \n",
       "15                                 11                    148   \n",
       "16                                 35                      4   \n",
       "17                                 49                    148   \n",
       "18                                  1                    337   \n",
       "19                                 41                    151   \n",
       "20                                 69                     22   \n",
       "21                                 41                    343   \n",
       "22                                 51                      6   \n",
       "23                                 18                      6   \n",
       "24                                 16                      6   \n",
       "25                                 41                    345   \n",
       "26                                  1                    367   \n",
       "27                                 60                    148   \n",
       "28                                649                    135   \n",
       "29                                  1                    307   \n",
       "...                               ...                    ...   \n",
       "2011832                             3                    111   \n",
       "2011833                           648                    186   \n",
       "2011834                            41                    373   \n",
       "2011835                            60                    148   \n",
       "2011836                            31                      4   \n",
       "2011837                            46                      4   \n",
       "2011838                           648                    202   \n",
       "2011839                            41                    346   \n",
       "2011840                            41                    104   \n",
       "2011841                            53                    148   \n",
       "2011842                            60                    148   \n",
       "2011843                           649                     51   \n",
       "2011844                            60                    148   \n",
       "2011845                             1                    140   \n",
       "2011846                            52                    148   \n",
       "2011847                             3                    213   \n",
       "2011848                             2                    146   \n",
       "2011849                             8                    148   \n",
       "2011850                            64                     34   \n",
       "2011851                            63                    149   \n",
       "2011852                            60                    148   \n",
       "2011853                            64                     33   \n",
       "2011854                            41                    376   \n",
       "2011855                            56                    148   \n",
       "2011856                           612                      2   \n",
       "2011857                             1                    319   \n",
       "2011858                             1                    140   \n",
       "2011859                            60                    148   \n",
       "2011860                           648                    187   \n",
       "2011861                             3                    207   \n",
       "\n",
       "         category_name_param_2  category_name_param_3  \\\n",
       "0                           85                    563   \n",
       "1                          252                    684   \n",
       "2                          156                    629   \n",
       "3                          257                    686   \n",
       "4                          142                    652   \n",
       "5                          156                    632   \n",
       "6                          253                    684   \n",
       "7                           97                    604   \n",
       "8                          124                    613   \n",
       "9                          241                    677   \n",
       "10                         256                    685   \n",
       "11                         256                    685   \n",
       "12                         156                    663   \n",
       "13                          98                    604   \n",
       "14                         232                    676   \n",
       "15                         147                    635   \n",
       "16                          78                    572   \n",
       "17                         145                    658   \n",
       "18                         252                    684   \n",
       "19                         154                    652   \n",
       "20                          94                    595   \n",
       "21                         256                    685   \n",
       "22                          80                    587   \n",
       "23                          85                    563   \n",
       "24                          85                    561   \n",
       "25                         256                    685   \n",
       "26                         270                    688   \n",
       "27                         146                    667   \n",
       "28                         133                    617   \n",
       "29                         253                    684   \n",
       "...                        ...                    ...   \n",
       "2011832                    126                    615   \n",
       "2011833                    232                    676   \n",
       "2011834                    271                    689   \n",
       "2011835                    147                    667   \n",
       "2011836                     85                    568   \n",
       "2011837                     78                    583   \n",
       "2011838                    202                    676   \n",
       "2011839                    256                    685   \n",
       "2011840                    125                    614   \n",
       "2011841                    145                    661   \n",
       "2011842                    147                    667   \n",
       "2011843                    111                    609   \n",
       "2011844                    147                    667   \n",
       "2011845                    139                    627   \n",
       "2011846                    145                    660   \n",
       "2011847                    244                    680   \n",
       "2011848                    140                    628   \n",
       "2011849                    156                    632   \n",
       "2011850                     99                    599   \n",
       "2011851                    145                    670   \n",
       "2011852                    149                    667   \n",
       "2011853                     99                    599   \n",
       "2011854                    271                    689   \n",
       "2011855                    147                    663   \n",
       "2011856                     13                    523   \n",
       "2011857                    253                    684   \n",
       "2011858                    139                    627   \n",
       "2011859                    147                    667   \n",
       "2011860                    193                    676   \n",
       "2011861                    244                    680   \n",
       "\n",
       "         parent_category_name_region  category_name_region  Weekday  \\\n",
       "0                                121                    38        2   \n",
       "1                                 24                   982        2   \n",
       "2                                119                   575        2   \n",
       "3                                 90                  1020        2   \n",
       "4                                132                   588        2   \n",
       "5                                136                   592        2   \n",
       "6                                 24                   982        2   \n",
       "7                                155                   184        2   \n",
       "8                                 90                   343        2   \n",
       "9                                 57                   765        2   \n",
       "10                               131                  1005        2   \n",
       "11                               123                   997        2   \n",
       "12                               131                   587        2   \n",
       "13                               167                   196        2   \n",
       "14                               206                   746        2   \n",
       "15                               138                   594        2   \n",
       "16                               126                    43        2   \n",
       "17                               119                   575        2   \n",
       "18                                11                   969        2   \n",
       "19                               113                   569        2   \n",
       "20                               154                   127        2   \n",
       "21                               120                   994        2   \n",
       "22                               139                    56        2   \n",
       "23                               121                    38        2   \n",
       "24                               114                    31        2   \n",
       "25                               118                   992        2   \n",
       "26                                 5                  1075        2   \n",
       "27                               116                   572        2   \n",
       "28                               246                   471        2   \n",
       "29                                22                   980        2   \n",
       "...                              ...                   ...      ...   \n",
       "2011832                           74                   411        0   \n",
       "2011833                          210                   750        2   \n",
       "2011834                          134                  1120        0   \n",
       "2011835                          113                   569        0   \n",
       "2011836                          116                    33        6   \n",
       "2011837                          137                    54        6   \n",
       "2011838                          223                   763        4   \n",
       "2011839                          121                   995        5   \n",
       "2011840                          130                   383        0   \n",
       "2011841                          119                   575        4   \n",
       "2011842                          115                   571        1   \n",
       "2011843                          226                   227        1   \n",
       "2011844                          139                   595        5   \n",
       "2011845                            8                   520        3   \n",
       "2011846                          131                   587        0   \n",
       "2011847                           57                   849        4   \n",
       "2011848                           29                   541        4   \n",
       "2011849                          131                   587        0   \n",
       "2011850                          167                   196        4   \n",
       "2011851                          119                   575        2   \n",
       "2011852                          134                   590        2   \n",
       "2011853                          144                   173        4   \n",
       "2011854                          127                  1113        1   \n",
       "2011855                          134                   590        5   \n",
       "2011856                          169                     2        2   \n",
       "2011857                           26                   984        1   \n",
       "2011858                           15                   527        2   \n",
       "2011859                          112                   568        4   \n",
       "2011860                          209                   749        3   \n",
       "2011861                           79                   871        1   \n",
       "\n",
       "         image_top_1_mean_price  item_seq_number_mean_price  price_binned  \n",
       "0                      0.858789                    0.838000            14  \n",
       "1                      0.847451                    0.844113             3  \n",
       "2                      0.835731                    0.830898            24  \n",
       "3                      0.763051                    0.839457            11  \n",
       "4                      0.803204                    0.842333            24  \n",
       "5                      0.796170                    0.847105            19  \n",
       "6                      0.826854                    0.698788            12  \n",
       "7                      0.960723                    0.842333            57  \n",
       "8                      0.854833                    0.835163             0  \n",
       "9                      0.948405                    0.844113             1  \n",
       "10                     0.811463                    0.830898            21  \n",
       "11                     0.835316                    0.799512            39  \n",
       "12                     0.786034                    0.831409            13  \n",
       "13                     0.948405                    0.831025             0  \n",
       "14                     0.771488                    0.832199             7  \n",
       "15                     0.843427                    0.882787            34  \n",
       "16                     0.783911                    0.831234             7  \n",
       "17                     0.827613                    0.838000            21  \n",
       "18                     0.847451                    0.835163             5  \n",
       "19                     0.795559                    0.826641            14  \n",
       "20                     0.948182                    0.831409            57  \n",
       "21                     0.821108                    0.833471            14  \n",
       "22                     0.811766                    0.834219            12  \n",
       "23                     0.786503                    0.846386            21  \n",
       "24                     0.794384                    0.830251            24  \n",
       "25                     0.845967                    0.840614            21  \n",
       "26                     0.823996                    0.849115            20  \n",
       "27                     0.791656                    0.831409            13  \n",
       "28                     0.838322                    0.857772            34  \n",
       "29                     0.837464                    0.831441            38  \n",
       "...                         ...                         ...           ...  \n",
       "2011832                0.878637                    0.841408            48  \n",
       "2011833                0.948405                    0.831577             0  \n",
       "2011834                0.839133                    0.853979            47  \n",
       "2011835                0.827418                    0.831234            17  \n",
       "2011836                0.786132                    0.834219            14  \n",
       "2011837                0.868804                    0.828971            27  \n",
       "2011838                0.858522                    0.836061             5  \n",
       "2011839                0.851909                    0.834091            11  \n",
       "2011840                0.884777                    0.838471            48  \n",
       "2011841                0.791284                    0.838650            10  \n",
       "2011842                0.781832                    0.835163            24  \n",
       "2011843                0.830920                    0.830578             1  \n",
       "2011844                0.843427                    0.840091            22  \n",
       "2011845                0.848864                    0.846386            46  \n",
       "2011846                0.799760                    0.835163            29  \n",
       "2011847                0.916496                    0.857772            22  \n",
       "2011848                0.841575                    0.826641            42  \n",
       "2011849                0.794497                    0.838429            10  \n",
       "2011850                0.948405                    0.840614            36  \n",
       "2011851                0.791523                    0.882787            24  \n",
       "2011852                0.777872                    0.856100             8  \n",
       "2011853                0.953597                    0.857772            45  \n",
       "2011854                0.871117                    0.832745            31  \n",
       "2011855                0.793210                    0.833365            14  \n",
       "2011856                0.914138                    0.882787            54  \n",
       "2011857                0.808458                    0.831025            22  \n",
       "2011858                0.850092                    0.832835            49  \n",
       "2011859                0.823225                    0.830364            20  \n",
       "2011860                0.948405                    0.857772             0  \n",
       "2011861                0.855584                    0.738802            27  \n",
       "\n",
       "[2011862 rows x 118 columns]"
      ]
     },
     "execution_count": 4,
     "metadata": {},
     "output_type": "execute_result"
    }
   ],
   "source": [
    "comm_features"
   ]
  },
  {
   "cell_type": "code",
   "execution_count": 5,
   "metadata": {
    "collapsed": true
   },
   "outputs": [],
   "source": [
    "cat_col = [\n",
    "    'region',\n",
    "    'city',\n",
    "    'parent_category_name',\n",
    "    'category_name',\n",
    "    'param_1',\n",
    "    'param_2',\n",
    "    'param_3',\n",
    "    'user_type',\n",
    "    'image_top_1',\n",
    "    'region_city',\n",
    "    'parent_category_name_category_name',\n",
    "    'parent_category_name_param_1',\n",
    "    'parent_category_name_param_2',\n",
    "    'parent_category_name_param_3',\n",
    "    'category_name_param_1',\n",
    "    'category_name_param_2',\n",
    "    'category_name_param_3',\n",
    "    'category_name_region',\n",
    "    'Weekday',\n",
    "    'price_binned'\n",
    "] "
   ]
  },
  {
   "cell_type": "code",
   "execution_count": 6,
   "metadata": {},
   "outputs": [],
   "source": [
    "features = comm_features.columns.tolist()\n",
    "features.extend(['f_'+str(i) for i in range(text_features.shape[1])])"
   ]
  },
  {
   "cell_type": "code",
   "execution_count": 7,
   "metadata": {},
   "outputs": [],
   "source": [
    "all_features = hstack([csr_matrix(comm_features), text_features]).tocsr()"
   ]
  },
  {
   "cell_type": "code",
   "execution_count": 8,
   "metadata": {},
   "outputs": [
    {
     "name": "stdout",
     "output_type": "stream",
     "text": [
      "1503424\n"
     ]
    }
   ],
   "source": [
    "train_y = pd.read_csv(\"regression_target.csv\")\n",
    "train_y = train_y['deal_probability'].values\n",
    "train_len = train_y.shape[0]\n",
    "print(train_len)"
   ]
  },
  {
   "cell_type": "code",
   "execution_count": 9,
   "metadata": {
    "collapsed": true
   },
   "outputs": [],
   "source": [
    "PLOT_CORR = False"
   ]
  },
  {
   "cell_type": "code",
   "execution_count": 10,
   "metadata": {},
   "outputs": [],
   "source": [
    "import matplotlib.pyplot as plt\n",
    "import seaborn as sns\n",
    "\n",
    "if PLOT_CORR is True:\n",
    "    f, ax = plt.subplots(figsize=[10,7])\n",
    "    sns.heatmap(pd.concat([comm_features.loc[:,[x for x in comm_features.columns if x not in cat_col]], \n",
    "                           pd.read_csv(\"regression_target.csv\")['deal_probability']], axis=1).corr(),\n",
    "                annot=False, fmt=\".2f\",cbar_kws={'label': 'Correlation Coefficient'},cmap=\"plasma\",ax=ax, linewidths=.01)\n",
    "    ax.set_title(\"Dense Features Correlation Matrix\")\n",
    "    plt.savefig('correlation_matrix.png')"
   ]
  },
  {
   "cell_type": "code",
   "execution_count": 11,
   "metadata": {},
   "outputs": [
    {
     "data": {
      "text/plain": [
       "0"
      ]
     },
     "execution_count": 11,
     "metadata": {},
     "output_type": "execute_result"
    }
   ],
   "source": [
    "del comm_features, text_features; gc.collect()"
   ]
  },
  {
   "cell_type": "code",
   "execution_count": 12,
   "metadata": {},
   "outputs": [
    {
     "data": {
      "text/plain": [
       "0"
      ]
     },
     "execution_count": 12,
     "metadata": {},
     "output_type": "execute_result"
    }
   ],
   "source": [
    "train_features = all_features[:train_len, :]\n",
    "del all_features; gc.collect()"
   ]
  },
  {
   "cell_type": "code",
   "execution_count": 13,
   "metadata": {},
   "outputs": [
    {
     "name": "stdout",
     "output_type": "stream",
     "text": [
      "(1503424, 100118)\n",
      "(1353081, 100118) (150343, 100118)\n"
     ]
    }
   ],
   "source": [
    "print(train_features.shape)\n",
    "from sklearn.model_selection import train_test_split\n",
    "train_index, valid_index = train_test_split(np.arange(train_features.shape[0]), test_size=0.1, random_state=519)\n",
    "\n",
    "tr_X, tr_y = train_features[train_index, :], train_y[train_index]\n",
    "val_X, val_y = train_features[valid_index, :], train_y[valid_index]\n",
    "print(tr_X.shape, val_X.shape)"
   ]
  },
  {
   "cell_type": "code",
   "execution_count": 14,
   "metadata": {
    "collapsed": true
   },
   "outputs": [],
   "source": [
    "from sklearn.linear_model import Ridge\n",
    "from sklearn.model_selection import KFold, GridSearchCV, ParameterGrid, train_test_split\n",
    "from sklearn.metrics import mean_squared_error, make_scorer\n",
    "from copy import deepcopy as cp\n",
    "from wordbatch.models import FM_FTRL"
   ]
  },
  {
   "cell_type": "code",
   "execution_count": 15,
   "metadata": {
    "collapsed": true
   },
   "outputs": [],
   "source": [
    "def clip_rmse(ground_truth, predictions):\n",
    "    predictions = np.clip(predictions, 0., 1.)\n",
    "    return mean_squared_error(ground_truth, predictions)**.5\n",
    "\n",
    "clip_rmse_scorer = make_scorer(clip_rmse, greater_is_better=False)"
   ]
  },
  {
   "cell_type": "code",
   "execution_count": 16,
   "metadata": {
    "collapsed": true
   },
   "outputs": [],
   "source": [
    "from sklearn.model_selection import ParameterGrid\n",
    "from copy import deepcopy as cp\n",
    "import lightgbm as lgb\n",
    "\n",
    "def fit_params(default_params, params, tr_X, tr_y, val_X, val_y):\n",
    "    params_list = ParameterGrid(params)\n",
    "    best_param = None\n",
    "    best_loss = None\n",
    "    for param in params_list:\n",
    "        used_params = cp(default_params)\n",
    "        used_params.update(param)\n",
    "        model = lgb.LGBMRegressor(**used_params)\n",
    "        model.fit(tr_X, tr_y, eval_set=[(tr_X, tr_y), (val_X, val_y)], eval_names=['train', 'valid'], \n",
    "                  early_stopping_rounds=200, verbose=100, \n",
    "                  feature_name=features, categorical_feature=list(cat_col), eval_metric='rmse')\n",
    "        val_pred = model.predict(val_X)\n",
    "        loss = mean_squared_error(val_y, np.clip(val_pred, 0., 1.))**.5\n",
    "        \n",
    "        print(str(param)+'\\nloss:{:.6f}'.format(loss))\n",
    "        if best_loss is None or loss < best_loss:\n",
    "            best_loss = loss\n",
    "            best_param = param\n",
    "        del val_pred; gc.collect()\n",
    "        \n",
    "    print('Best params:', str(best_param), '\\n', 'best loss:', best_loss)"
   ]
  },
  {
   "cell_type": "code",
   "execution_count": 17,
   "metadata": {
    "collapsed": true
   },
   "outputs": [
    {
     "name": "stderr",
     "output_type": "stream",
     "text": [
      "C:\\Users\\khyeh\\Anaconda3\\lib\\site-packages\\lightgbm\\basic.py:1007: UserWarning: categorical_feature in Dataset is overrided. New categorical_feature is ['Weekday', 'category_name', 'category_name_param_1', 'category_name_param_2', 'category_name_param_3', 'category_name_region', 'city', 'image_top_1', 'param_1', 'param_2', 'param_3', 'parent_category_name', 'parent_category_name_category_name', 'parent_category_name_param_1', 'parent_category_name_param_2', 'parent_category_name_param_3', 'price_binned', 'region', 'region_city', 'user_type']\n",
      "  warnings.warn('categorical_feature in Dataset is overrided. New categorical_feature is {}'.format(sorted(list(categorical_feature))))\n"
     ]
    },
    {
     "name": "stdout",
     "output_type": "stream",
     "text": [
      "Training until validation scores don't improve for 200 rounds.\n",
      "[100]\ttrain's rmse: 0.223412\tvalid's rmse: 0.226289\n",
      "[200]\ttrain's rmse: 0.220115\tvalid's rmse: 0.224409\n",
      "{'boosting_type': 'gbdt'}\n",
      "loss:0.224388\n"
     ]
    },
    {
     "name": "stderr",
     "output_type": "stream",
     "text": [
      "C:\\Users\\khyeh\\Anaconda3\\lib\\site-packages\\lightgbm\\basic.py:1007: UserWarning: categorical_feature in Dataset is overrided. New categorical_feature is ['Weekday', 'category_name', 'category_name_param_1', 'category_name_param_2', 'category_name_param_3', 'category_name_region', 'city', 'image_top_1', 'param_1', 'param_2', 'param_3', 'parent_category_name', 'parent_category_name_category_name', 'parent_category_name_param_1', 'parent_category_name_param_2', 'parent_category_name_param_3', 'price_binned', 'region', 'region_city', 'user_type']\n",
      "  warnings.warn('categorical_feature in Dataset is overrided. New categorical_feature is {}'.format(sorted(list(categorical_feature))))\n"
     ]
    },
    {
     "name": "stdout",
     "output_type": "stream",
     "text": [
      "Training until validation scores don't improve for 200 rounds.\n",
      "[100]\ttrain's rmse: 0.229303\tvalid's rmse: 0.230821\n",
      "[200]\ttrain's rmse: 0.22545\tvalid's rmse: 0.227606\n",
      "{'boosting_type': 'dart'}\n",
      "loss:0.227606\n",
      "Best params: {'boosting_type': 'gbdt'} \n",
      " best loss: 0.224387788838\n"
     ]
    }
   ],
   "source": [
    "default_params = {\n",
    "    'boosting_type':'gbdt', \n",
    "    'num_leaves':31, \n",
    "    'max_depth':5, \n",
    "    'learning_rate':0.1, \n",
    "    'n_estimators':200, \n",
    "    'min_split_gain':0.0, \n",
    "    'min_child_weight':0.001, \n",
    "    'min_child_samples':20, \n",
    "    'subsample':0.8, \n",
    "    'subsample_freq':1, \n",
    "    'colsample_bytree':0.8, \n",
    "    'reg_alpha':0.0, \n",
    "    'reg_lambda':0.0, \n",
    "    'random_state':719, \n",
    "    'n_job': 4\n",
    "}\n",
    "\n",
    "try_params = {\n",
    "    'boosting_type': ['gbdt', 'dart']\n",
    "}\n",
    "\n",
    "fit_params(default_params, try_params, tr_X, tr_y, val_X, val_y)"
   ]
  },
  {
   "cell_type": "code",
   "execution_count": 18,
   "metadata": {
    "collapsed": true
   },
   "outputs": [
    {
     "name": "stderr",
     "output_type": "stream",
     "text": [
      "C:\\Users\\khyeh\\Anaconda3\\lib\\site-packages\\lightgbm\\basic.py:1007: UserWarning: categorical_feature in Dataset is overrided. New categorical_feature is ['Weekday', 'category_name', 'category_name_param_1', 'category_name_param_2', 'category_name_param_3', 'category_name_region', 'city', 'image_top_1', 'param_1', 'param_2', 'param_3', 'parent_category_name', 'parent_category_name_category_name', 'parent_category_name_param_1', 'parent_category_name_param_2', 'parent_category_name_param_3', 'price_binned', 'region', 'region_city', 'user_type']\n",
      "  warnings.warn('categorical_feature in Dataset is overrided. New categorical_feature is {}'.format(sorted(list(categorical_feature))))\n"
     ]
    },
    {
     "name": "stdout",
     "output_type": "stream",
     "text": [
      "Training until validation scores don't improve for 200 rounds.\n",
      "[100]\ttrain's rmse: 0.223412\tvalid's rmse: 0.226289\n",
      "{'min_child_weight': 0.001}\n",
      "loss:0.226282\n"
     ]
    },
    {
     "name": "stderr",
     "output_type": "stream",
     "text": [
      "C:\\Users\\khyeh\\Anaconda3\\lib\\site-packages\\lightgbm\\basic.py:1007: UserWarning: categorical_feature in Dataset is overrided. New categorical_feature is ['Weekday', 'category_name', 'category_name_param_1', 'category_name_param_2', 'category_name_param_3', 'category_name_region', 'city', 'image_top_1', 'param_1', 'param_2', 'param_3', 'parent_category_name', 'parent_category_name_category_name', 'parent_category_name_param_1', 'parent_category_name_param_2', 'parent_category_name_param_3', 'price_binned', 'region', 'region_city', 'user_type']\n",
      "  warnings.warn('categorical_feature in Dataset is overrided. New categorical_feature is {}'.format(sorted(list(categorical_feature))))\n"
     ]
    },
    {
     "name": "stdout",
     "output_type": "stream",
     "text": [
      "Training until validation scores don't improve for 200 rounds.\n",
      "[100]\ttrain's rmse: 0.223412\tvalid's rmse: 0.226289\n",
      "{'min_child_weight': 8}\n",
      "loss:0.226282\n"
     ]
    },
    {
     "name": "stderr",
     "output_type": "stream",
     "text": [
      "C:\\Users\\khyeh\\Anaconda3\\lib\\site-packages\\lightgbm\\basic.py:1007: UserWarning: categorical_feature in Dataset is overrided. New categorical_feature is ['Weekday', 'category_name', 'category_name_param_1', 'category_name_param_2', 'category_name_param_3', 'category_name_region', 'city', 'image_top_1', 'param_1', 'param_2', 'param_3', 'parent_category_name', 'parent_category_name_category_name', 'parent_category_name_param_1', 'parent_category_name_param_2', 'parent_category_name_param_3', 'price_binned', 'region', 'region_city', 'user_type']\n",
      "  warnings.warn('categorical_feature in Dataset is overrided. New categorical_feature is {}'.format(sorted(list(categorical_feature))))\n"
     ]
    },
    {
     "name": "stdout",
     "output_type": "stream",
     "text": [
      "Training until validation scores don't improve for 200 rounds.\n",
      "[100]\ttrain's rmse: 0.223412\tvalid's rmse: 0.226289\n",
      "{'min_child_weight': 16}\n",
      "loss:0.226282\n",
      "Best params: {'min_child_weight': 0.001} \n",
      " best loss: 0.22628151197\n"
     ]
    }
   ],
   "source": [
    "default_params = {\n",
    "    'boosting_type':'gbdt', \n",
    "    'num_leaves':31, \n",
    "    'max_depth':5, \n",
    "    'learning_rate':0.1, \n",
    "    'n_estimators':100, \n",
    "    'min_split_gain':0.0, \n",
    "    'min_child_weight':0.001, \n",
    "    'min_child_samples':20, \n",
    "    'subsample':0.8, \n",
    "    'subsample_freq':1, \n",
    "    'colsample_bytree':0.8, \n",
    "    'reg_alpha':0.0, \n",
    "    'reg_lambda':0.0, \n",
    "    'random_state':719, \n",
    "    'n_job': 4\n",
    "}\n",
    "\n",
    "try_params = {\n",
    "    'min_child_weight': [0.001, 8, 16]\n",
    "}\n",
    "\n",
    "fit_params(default_params, try_params, tr_X, tr_y, val_X, val_y)"
   ]
  },
  {
   "cell_type": "code",
   "execution_count": 19,
   "metadata": {
    "collapsed": true
   },
   "outputs": [
    {
     "name": "stderr",
     "output_type": "stream",
     "text": [
      "C:\\Users\\khyeh\\Anaconda3\\lib\\site-packages\\lightgbm\\basic.py:1007: UserWarning: categorical_feature in Dataset is overrided. New categorical_feature is ['Weekday', 'category_name', 'category_name_param_1', 'category_name_param_2', 'category_name_param_3', 'category_name_region', 'city', 'image_top_1', 'param_1', 'param_2', 'param_3', 'parent_category_name', 'parent_category_name_category_name', 'parent_category_name_param_1', 'parent_category_name_param_2', 'parent_category_name_param_3', 'price_binned', 'region', 'region_city', 'user_type']\n",
      "  warnings.warn('categorical_feature in Dataset is overrided. New categorical_feature is {}'.format(sorted(list(categorical_feature))))\n"
     ]
    },
    {
     "name": "stdout",
     "output_type": "stream",
     "text": [
      "Training until validation scores don't improve for 200 rounds.\n",
      "[100]\ttrain's rmse: 0.223412\tvalid's rmse: 0.226289\n",
      "{'min_split_gain': 0.0}\n",
      "loss:0.226282\n"
     ]
    },
    {
     "name": "stderr",
     "output_type": "stream",
     "text": [
      "C:\\Users\\khyeh\\Anaconda3\\lib\\site-packages\\lightgbm\\basic.py:1007: UserWarning: categorical_feature in Dataset is overrided. New categorical_feature is ['Weekday', 'category_name', 'category_name_param_1', 'category_name_param_2', 'category_name_param_3', 'category_name_region', 'city', 'image_top_1', 'param_1', 'param_2', 'param_3', 'parent_category_name', 'parent_category_name_category_name', 'parent_category_name_param_1', 'parent_category_name_param_2', 'parent_category_name_param_3', 'price_binned', 'region', 'region_city', 'user_type']\n",
      "  warnings.warn('categorical_feature in Dataset is overrided. New categorical_feature is {}'.format(sorted(list(categorical_feature))))\n"
     ]
    },
    {
     "name": "stdout",
     "output_type": "stream",
     "text": [
      "Training until validation scores don't improve for 200 rounds.\n",
      "[100]\ttrain's rmse: 0.223338\tvalid's rmse: 0.226297\n",
      "{'min_split_gain': 0.1}\n",
      "loss:0.226290\n"
     ]
    },
    {
     "name": "stderr",
     "output_type": "stream",
     "text": [
      "C:\\Users\\khyeh\\Anaconda3\\lib\\site-packages\\lightgbm\\basic.py:1007: UserWarning: categorical_feature in Dataset is overrided. New categorical_feature is ['Weekday', 'category_name', 'category_name_param_1', 'category_name_param_2', 'category_name_param_3', 'category_name_region', 'city', 'image_top_1', 'param_1', 'param_2', 'param_3', 'parent_category_name', 'parent_category_name_category_name', 'parent_category_name_param_1', 'parent_category_name_param_2', 'parent_category_name_param_3', 'price_binned', 'region', 'region_city', 'user_type']\n",
      "  warnings.warn('categorical_feature in Dataset is overrided. New categorical_feature is {}'.format(sorted(list(categorical_feature))))\n"
     ]
    },
    {
     "name": "stdout",
     "output_type": "stream",
     "text": [
      "Training until validation scores don't improve for 200 rounds.\n",
      "[100]\ttrain's rmse: 0.223102\tvalid's rmse: 0.226068\n",
      "{'min_split_gain': 0.2}\n",
      "loss:0.226059\n"
     ]
    },
    {
     "name": "stderr",
     "output_type": "stream",
     "text": [
      "C:\\Users\\khyeh\\Anaconda3\\lib\\site-packages\\lightgbm\\basic.py:1007: UserWarning: categorical_feature in Dataset is overrided. New categorical_feature is ['Weekday', 'category_name', 'category_name_param_1', 'category_name_param_2', 'category_name_param_3', 'category_name_region', 'city', 'image_top_1', 'param_1', 'param_2', 'param_3', 'parent_category_name', 'parent_category_name_category_name', 'parent_category_name_param_1', 'parent_category_name_param_2', 'parent_category_name_param_3', 'price_binned', 'region', 'region_city', 'user_type']\n",
      "  warnings.warn('categorical_feature in Dataset is overrided. New categorical_feature is {}'.format(sorted(list(categorical_feature))))\n"
     ]
    },
    {
     "name": "stdout",
     "output_type": "stream",
     "text": [
      "Training until validation scores don't improve for 200 rounds.\n",
      "[100]\ttrain's rmse: 0.223146\tvalid's rmse: 0.22607\n",
      "{'min_split_gain': 0.3}\n",
      "loss:0.226062\n"
     ]
    },
    {
     "name": "stderr",
     "output_type": "stream",
     "text": [
      "C:\\Users\\khyeh\\Anaconda3\\lib\\site-packages\\lightgbm\\basic.py:1007: UserWarning: categorical_feature in Dataset is overrided. New categorical_feature is ['Weekday', 'category_name', 'category_name_param_1', 'category_name_param_2', 'category_name_param_3', 'category_name_region', 'city', 'image_top_1', 'param_1', 'param_2', 'param_3', 'parent_category_name', 'parent_category_name_category_name', 'parent_category_name_param_1', 'parent_category_name_param_2', 'parent_category_name_param_3', 'price_binned', 'region', 'region_city', 'user_type']\n",
      "  warnings.warn('categorical_feature in Dataset is overrided. New categorical_feature is {}'.format(sorted(list(categorical_feature))))\n"
     ]
    },
    {
     "name": "stdout",
     "output_type": "stream",
     "text": [
      "Training until validation scores don't improve for 200 rounds.\n",
      "[100]\ttrain's rmse: 0.223352\tvalid's rmse: 0.226247\n",
      "{'min_split_gain': 0.4}\n",
      "loss:0.226240\n",
      "Best params: {'min_split_gain': 0.2} \n",
      " best loss: 0.226058614035\n"
     ]
    }
   ],
   "source": [
    "default_params = {\n",
    "    'boosting_type':'gbdt', \n",
    "    'num_leaves':31, \n",
    "    'max_depth':5, \n",
    "    'learning_rate':0.1, \n",
    "    'n_estimators':100, \n",
    "    'min_split_gain':0.0, \n",
    "    'min_child_weight':0.001, \n",
    "    'min_child_samples':20, \n",
    "    'subsample':0.8, \n",
    "    'subsample_freq':1, \n",
    "    'colsample_bytree':0.8, \n",
    "    'reg_alpha':0.0, \n",
    "    'reg_lambda':0.0, \n",
    "    'random_state':719, \n",
    "    'n_job': 4\n",
    "}\n",
    "\n",
    "try_params = \\\n",
    "[\n",
    "    {\n",
    "        'min_split_gain': [i/10.0 for i in range(0,5)]\n",
    "    }\n",
    "]\n",
    "fit_params(default_params, try_params, tr_X, tr_y, val_X, val_y)"
   ]
  },
  {
   "cell_type": "code",
   "execution_count": 20,
   "metadata": {
    "collapsed": true
   },
   "outputs": [
    {
     "name": "stderr",
     "output_type": "stream",
     "text": [
      "C:\\Users\\khyeh\\Anaconda3\\lib\\site-packages\\lightgbm\\basic.py:1007: UserWarning: categorical_feature in Dataset is overrided. New categorical_feature is ['Weekday', 'category_name', 'category_name_param_1', 'category_name_param_2', 'category_name_param_3', 'category_name_region', 'city', 'image_top_1', 'param_1', 'param_2', 'param_3', 'parent_category_name', 'parent_category_name_category_name', 'parent_category_name_param_1', 'parent_category_name_param_2', 'parent_category_name_param_3', 'price_binned', 'region', 'region_city', 'user_type']\n",
      "  warnings.warn('categorical_feature in Dataset is overrided. New categorical_feature is {}'.format(sorted(list(categorical_feature))))\n"
     ]
    },
    {
     "name": "stdout",
     "output_type": "stream",
     "text": [
      "Training until validation scores don't improve for 200 rounds.\n",
      "[100]\ttrain's rmse: 0.223313\tvalid's rmse: 0.226283\n",
      "{'min_split_gain': 0.15}\n",
      "loss:0.226276\n"
     ]
    },
    {
     "name": "stderr",
     "output_type": "stream",
     "text": [
      "C:\\Users\\khyeh\\Anaconda3\\lib\\site-packages\\lightgbm\\basic.py:1007: UserWarning: categorical_feature in Dataset is overrided. New categorical_feature is ['Weekday', 'category_name', 'category_name_param_1', 'category_name_param_2', 'category_name_param_3', 'category_name_region', 'city', 'image_top_1', 'param_1', 'param_2', 'param_3', 'parent_category_name', 'parent_category_name_category_name', 'parent_category_name_param_1', 'parent_category_name_param_2', 'parent_category_name_param_3', 'price_binned', 'region', 'region_city', 'user_type']\n",
      "  warnings.warn('categorical_feature in Dataset is overrided. New categorical_feature is {}'.format(sorted(list(categorical_feature))))\n"
     ]
    },
    {
     "name": "stdout",
     "output_type": "stream",
     "text": [
      "Training until validation scores don't improve for 200 rounds.\n",
      "[100]\ttrain's rmse: 0.223102\tvalid's rmse: 0.226068\n",
      "{'min_split_gain': 0.2}\n",
      "loss:0.226059\n"
     ]
    },
    {
     "name": "stderr",
     "output_type": "stream",
     "text": [
      "C:\\Users\\khyeh\\Anaconda3\\lib\\site-packages\\lightgbm\\basic.py:1007: UserWarning: categorical_feature in Dataset is overrided. New categorical_feature is ['Weekday', 'category_name', 'category_name_param_1', 'category_name_param_2', 'category_name_param_3', 'category_name_region', 'city', 'image_top_1', 'param_1', 'param_2', 'param_3', 'parent_category_name', 'parent_category_name_category_name', 'parent_category_name_param_1', 'parent_category_name_param_2', 'parent_category_name_param_3', 'price_binned', 'region', 'region_city', 'user_type']\n",
      "  warnings.warn('categorical_feature in Dataset is overrided. New categorical_feature is {}'.format(sorted(list(categorical_feature))))\n"
     ]
    },
    {
     "name": "stdout",
     "output_type": "stream",
     "text": [
      "Training until validation scores don't improve for 200 rounds.\n",
      "[100]\ttrain's rmse: 0.223438\tvalid's rmse: 0.22636\n",
      "{'min_split_gain': 0.25}\n",
      "loss:0.226354\n",
      "Best params: {'min_split_gain': 0.2} \n",
      " best loss: 0.226058614035\n"
     ]
    }
   ],
   "source": [
    "default_params = {\n",
    "    'boosting_type':'gbdt', \n",
    "    'num_leaves':31, \n",
    "    'max_depth':5, \n",
    "    'learning_rate':0.1, \n",
    "    'n_estimators':100, \n",
    "    'min_split_gain':0.0, \n",
    "    'min_child_weight':0.001, \n",
    "    'min_child_samples':20, \n",
    "    'subsample':0.8, \n",
    "    'subsample_freq':1, \n",
    "    'colsample_bytree':0.8, \n",
    "    'reg_alpha':0.0, \n",
    "    'reg_lambda':0.0, \n",
    "    'random_state':719, \n",
    "    'n_job': 4\n",
    "}\n",
    "\n",
    "try_params = \\\n",
    "[\n",
    "    {\n",
    "        'min_split_gain': [.15, .2, .25]\n",
    "    }\n",
    "]\n",
    "fit_params(default_params, try_params, tr_X, tr_y, val_X, val_y)"
   ]
  },
  {
   "cell_type": "code",
   "execution_count": 21,
   "metadata": {
    "collapsed": true
   },
   "outputs": [
    {
     "name": "stderr",
     "output_type": "stream",
     "text": [
      "C:\\Users\\khyeh\\Anaconda3\\lib\\site-packages\\lightgbm\\basic.py:1007: UserWarning: categorical_feature in Dataset is overrided. New categorical_feature is ['Weekday', 'category_name', 'category_name_param_1', 'category_name_param_2', 'category_name_param_3', 'category_name_region', 'city', 'image_top_1', 'param_1', 'param_2', 'param_3', 'parent_category_name', 'parent_category_name_category_name', 'parent_category_name_param_1', 'parent_category_name_param_2', 'parent_category_name_param_3', 'price_binned', 'region', 'region_city', 'user_type']\n",
      "  warnings.warn('categorical_feature in Dataset is overrided. New categorical_feature is {}'.format(sorted(list(categorical_feature))))\n"
     ]
    },
    {
     "name": "stdout",
     "output_type": "stream",
     "text": [
      "Training until validation scores don't improve for 200 rounds.\n",
      "[100]\ttrain's rmse: 0.225668\tvalid's rmse: 0.22717\n",
      "{'colsample_bytree': 0.1}\n",
      "loss:0.227158\n"
     ]
    },
    {
     "name": "stderr",
     "output_type": "stream",
     "text": [
      "C:\\Users\\khyeh\\Anaconda3\\lib\\site-packages\\lightgbm\\basic.py:1007: UserWarning: categorical_feature in Dataset is overrided. New categorical_feature is ['Weekday', 'category_name', 'category_name_param_1', 'category_name_param_2', 'category_name_param_3', 'category_name_region', 'city', 'image_top_1', 'param_1', 'param_2', 'param_3', 'parent_category_name', 'parent_category_name_category_name', 'parent_category_name_param_1', 'parent_category_name_param_2', 'parent_category_name_param_3', 'price_binned', 'region', 'region_city', 'user_type']\n",
      "  warnings.warn('categorical_feature in Dataset is overrided. New categorical_feature is {}'.format(sorted(list(categorical_feature))))\n"
     ]
    },
    {
     "name": "stdout",
     "output_type": "stream",
     "text": [
      "Training until validation scores don't improve for 200 rounds.\n",
      "[100]\ttrain's rmse: 0.224609\tvalid's rmse: 0.22653\n",
      "{'colsample_bytree': 0.2}\n",
      "loss:0.226520\n"
     ]
    },
    {
     "name": "stderr",
     "output_type": "stream",
     "text": [
      "C:\\Users\\khyeh\\Anaconda3\\lib\\site-packages\\lightgbm\\basic.py:1007: UserWarning: categorical_feature in Dataset is overrided. New categorical_feature is ['Weekday', 'category_name', 'category_name_param_1', 'category_name_param_2', 'category_name_param_3', 'category_name_region', 'city', 'image_top_1', 'param_1', 'param_2', 'param_3', 'parent_category_name', 'parent_category_name_category_name', 'parent_category_name_param_1', 'parent_category_name_param_2', 'parent_category_name_param_3', 'price_binned', 'region', 'region_city', 'user_type']\n",
      "  warnings.warn('categorical_feature in Dataset is overrided. New categorical_feature is {}'.format(sorted(list(categorical_feature))))\n"
     ]
    },
    {
     "name": "stdout",
     "output_type": "stream",
     "text": [
      "Training until validation scores don't improve for 200 rounds.\n",
      "[100]\ttrain's rmse: 0.224198\tvalid's rmse: 0.226405\n",
      "{'colsample_bytree': 0.3}\n",
      "loss:0.226395\n"
     ]
    },
    {
     "name": "stderr",
     "output_type": "stream",
     "text": [
      "C:\\Users\\khyeh\\Anaconda3\\lib\\site-packages\\lightgbm\\basic.py:1007: UserWarning: categorical_feature in Dataset is overrided. New categorical_feature is ['Weekday', 'category_name', 'category_name_param_1', 'category_name_param_2', 'category_name_param_3', 'category_name_region', 'city', 'image_top_1', 'param_1', 'param_2', 'param_3', 'parent_category_name', 'parent_category_name_category_name', 'parent_category_name_param_1', 'parent_category_name_param_2', 'parent_category_name_param_3', 'price_binned', 'region', 'region_city', 'user_type']\n",
      "  warnings.warn('categorical_feature in Dataset is overrided. New categorical_feature is {}'.format(sorted(list(categorical_feature))))\n"
     ]
    },
    {
     "name": "stdout",
     "output_type": "stream",
     "text": [
      "Training until validation scores don't improve for 200 rounds.\n",
      "[100]\ttrain's rmse: 0.223884\tvalid's rmse: 0.226448\n",
      "{'colsample_bytree': 0.4}\n",
      "loss:0.226439\n"
     ]
    },
    {
     "name": "stderr",
     "output_type": "stream",
     "text": [
      "C:\\Users\\khyeh\\Anaconda3\\lib\\site-packages\\lightgbm\\basic.py:1007: UserWarning: categorical_feature in Dataset is overrided. New categorical_feature is ['Weekday', 'category_name', 'category_name_param_1', 'category_name_param_2', 'category_name_param_3', 'category_name_region', 'city', 'image_top_1', 'param_1', 'param_2', 'param_3', 'parent_category_name', 'parent_category_name_category_name', 'parent_category_name_param_1', 'parent_category_name_param_2', 'parent_category_name_param_3', 'price_binned', 'region', 'region_city', 'user_type']\n",
      "  warnings.warn('categorical_feature in Dataset is overrided. New categorical_feature is {}'.format(sorted(list(categorical_feature))))\n"
     ]
    },
    {
     "name": "stdout",
     "output_type": "stream",
     "text": [
      "Training until validation scores don't improve for 200 rounds.\n",
      "[100]\ttrain's rmse: 0.223558\tvalid's rmse: 0.226287\n",
      "{'colsample_bytree': 0.5}\n",
      "loss:0.226276\n"
     ]
    },
    {
     "name": "stderr",
     "output_type": "stream",
     "text": [
      "C:\\Users\\khyeh\\Anaconda3\\lib\\site-packages\\lightgbm\\basic.py:1007: UserWarning: categorical_feature in Dataset is overrided. New categorical_feature is ['Weekday', 'category_name', 'category_name_param_1', 'category_name_param_2', 'category_name_param_3', 'category_name_region', 'city', 'image_top_1', 'param_1', 'param_2', 'param_3', 'parent_category_name', 'parent_category_name_category_name', 'parent_category_name_param_1', 'parent_category_name_param_2', 'parent_category_name_param_3', 'price_binned', 'region', 'region_city', 'user_type']\n",
      "  warnings.warn('categorical_feature in Dataset is overrided. New categorical_feature is {}'.format(sorted(list(categorical_feature))))\n"
     ]
    },
    {
     "name": "stdout",
     "output_type": "stream",
     "text": [
      "Training until validation scores don't improve for 200 rounds.\n",
      "[100]\ttrain's rmse: 0.223501\tvalid's rmse: 0.226266\n",
      "{'colsample_bytree': 0.6}\n",
      "loss:0.226259\n"
     ]
    },
    {
     "name": "stderr",
     "output_type": "stream",
     "text": [
      "C:\\Users\\khyeh\\Anaconda3\\lib\\site-packages\\lightgbm\\basic.py:1007: UserWarning: categorical_feature in Dataset is overrided. New categorical_feature is ['Weekday', 'category_name', 'category_name_param_1', 'category_name_param_2', 'category_name_param_3', 'category_name_region', 'city', 'image_top_1', 'param_1', 'param_2', 'param_3', 'parent_category_name', 'parent_category_name_category_name', 'parent_category_name_param_1', 'parent_category_name_param_2', 'parent_category_name_param_3', 'price_binned', 'region', 'region_city', 'user_type']\n",
      "  warnings.warn('categorical_feature in Dataset is overrided. New categorical_feature is {}'.format(sorted(list(categorical_feature))))\n"
     ]
    },
    {
     "name": "stdout",
     "output_type": "stream",
     "text": [
      "Training until validation scores don't improve for 200 rounds.\n",
      "[100]\ttrain's rmse: 0.223548\tvalid's rmse: 0.226369\n",
      "{'colsample_bytree': 0.7}\n",
      "loss:0.226362\n"
     ]
    },
    {
     "name": "stderr",
     "output_type": "stream",
     "text": [
      "C:\\Users\\khyeh\\Anaconda3\\lib\\site-packages\\lightgbm\\basic.py:1007: UserWarning: categorical_feature in Dataset is overrided. New categorical_feature is ['Weekday', 'category_name', 'category_name_param_1', 'category_name_param_2', 'category_name_param_3', 'category_name_region', 'city', 'image_top_1', 'param_1', 'param_2', 'param_3', 'parent_category_name', 'parent_category_name_category_name', 'parent_category_name_param_1', 'parent_category_name_param_2', 'parent_category_name_param_3', 'price_binned', 'region', 'region_city', 'user_type']\n",
      "  warnings.warn('categorical_feature in Dataset is overrided. New categorical_feature is {}'.format(sorted(list(categorical_feature))))\n"
     ]
    },
    {
     "name": "stdout",
     "output_type": "stream",
     "text": [
      "Training until validation scores don't improve for 200 rounds.\n",
      "[100]\ttrain's rmse: 0.223102\tvalid's rmse: 0.226068\n",
      "{'colsample_bytree': 0.8}\n",
      "loss:0.226059\n"
     ]
    },
    {
     "name": "stderr",
     "output_type": "stream",
     "text": [
      "C:\\Users\\khyeh\\Anaconda3\\lib\\site-packages\\lightgbm\\basic.py:1007: UserWarning: categorical_feature in Dataset is overrided. New categorical_feature is ['Weekday', 'category_name', 'category_name_param_1', 'category_name_param_2', 'category_name_param_3', 'category_name_region', 'city', 'image_top_1', 'param_1', 'param_2', 'param_3', 'parent_category_name', 'parent_category_name_category_name', 'parent_category_name_param_1', 'parent_category_name_param_2', 'parent_category_name_param_3', 'price_binned', 'region', 'region_city', 'user_type']\n",
      "  warnings.warn('categorical_feature in Dataset is overrided. New categorical_feature is {}'.format(sorted(list(categorical_feature))))\n"
     ]
    },
    {
     "name": "stdout",
     "output_type": "stream",
     "text": [
      "Training until validation scores don't improve for 200 rounds.\n",
      "[100]\ttrain's rmse: 0.223396\tvalid's rmse: 0.226304\n",
      "{'colsample_bytree': 0.9}\n",
      "loss:0.226298\n"
     ]
    },
    {
     "name": "stderr",
     "output_type": "stream",
     "text": [
      "C:\\Users\\khyeh\\Anaconda3\\lib\\site-packages\\lightgbm\\basic.py:1007: UserWarning: categorical_feature in Dataset is overrided. New categorical_feature is ['Weekday', 'category_name', 'category_name_param_1', 'category_name_param_2', 'category_name_param_3', 'category_name_region', 'city', 'image_top_1', 'param_1', 'param_2', 'param_3', 'parent_category_name', 'parent_category_name_category_name', 'parent_category_name_param_1', 'parent_category_name_param_2', 'parent_category_name_param_3', 'price_binned', 'region', 'region_city', 'user_type']\n",
      "  warnings.warn('categorical_feature in Dataset is overrided. New categorical_feature is {}'.format(sorted(list(categorical_feature))))\n"
     ]
    },
    {
     "name": "stdout",
     "output_type": "stream",
     "text": [
      "Training until validation scores don't improve for 200 rounds.\n",
      "[100]\ttrain's rmse: 0.223187\tvalid's rmse: 0.226207\n",
      "{'colsample_bytree': 1.0}\n",
      "loss:0.226201\n",
      "Best params: {'colsample_bytree': 0.8} \n",
      " best loss: 0.226058614035\n"
     ]
    }
   ],
   "source": [
    "default_params = {\n",
    "    'boosting_type':'gbdt', \n",
    "    'num_leaves':31, \n",
    "    'max_depth':5, \n",
    "    'learning_rate':0.1, \n",
    "    'n_estimators':100, \n",
    "    'min_split_gain':0.2, \n",
    "    'min_child_weight':0.001, \n",
    "    'min_child_samples':20, \n",
    "    'subsample':0.8, \n",
    "    'subsample_freq':1, \n",
    "    'colsample_bytree':0.8, \n",
    "    'reg_alpha':0.0, \n",
    "    'reg_lambda':0.0, \n",
    "    'random_state':719, \n",
    "    'n_job': 4\n",
    "}\n",
    "\n",
    "try_params = \\\n",
    "[\n",
    "    {\n",
    "        'colsample_bytree':[i/10.0 for i in range(1,11)]\n",
    "    }\n",
    "]\n",
    "fit_params(default_params, try_params, tr_X, tr_y, val_X, val_y)"
   ]
  },
  {
   "cell_type": "code",
   "execution_count": 22,
   "metadata": {
    "collapsed": true
   },
   "outputs": [
    {
     "name": "stderr",
     "output_type": "stream",
     "text": [
      "C:\\Users\\khyeh\\Anaconda3\\lib\\site-packages\\lightgbm\\basic.py:1007: UserWarning: categorical_feature in Dataset is overrided. New categorical_feature is ['Weekday', 'category_name', 'category_name_param_1', 'category_name_param_2', 'category_name_param_3', 'category_name_region', 'city', 'image_top_1', 'param_1', 'param_2', 'param_3', 'parent_category_name', 'parent_category_name_category_name', 'parent_category_name_param_1', 'parent_category_name_param_2', 'parent_category_name_param_3', 'price_binned', 'region', 'region_city', 'user_type']\n",
      "  warnings.warn('categorical_feature in Dataset is overrided. New categorical_feature is {}'.format(sorted(list(categorical_feature))))\n"
     ]
    },
    {
     "name": "stdout",
     "output_type": "stream",
     "text": [
      "Training until validation scores don't improve for 200 rounds.\n",
      "[100]\ttrain's rmse: 0.223707\tvalid's rmse: 0.226501\n",
      "{'subsample': 0.6}\n",
      "loss:0.226494\n"
     ]
    },
    {
     "name": "stderr",
     "output_type": "stream",
     "text": [
      "C:\\Users\\khyeh\\Anaconda3\\lib\\site-packages\\lightgbm\\basic.py:1007: UserWarning: categorical_feature in Dataset is overrided. New categorical_feature is ['Weekday', 'category_name', 'category_name_param_1', 'category_name_param_2', 'category_name_param_3', 'category_name_region', 'city', 'image_top_1', 'param_1', 'param_2', 'param_3', 'parent_category_name', 'parent_category_name_category_name', 'parent_category_name_param_1', 'parent_category_name_param_2', 'parent_category_name_param_3', 'price_binned', 'region', 'region_city', 'user_type']\n",
      "  warnings.warn('categorical_feature in Dataset is overrided. New categorical_feature is {}'.format(sorted(list(categorical_feature))))\n"
     ]
    },
    {
     "name": "stdout",
     "output_type": "stream",
     "text": [
      "Training until validation scores don't improve for 200 rounds.\n",
      "[100]\ttrain's rmse: 0.223549\tvalid's rmse: 0.226364\n",
      "{'subsample': 0.7}\n",
      "loss:0.226357\n"
     ]
    },
    {
     "name": "stderr",
     "output_type": "stream",
     "text": [
      "C:\\Users\\khyeh\\Anaconda3\\lib\\site-packages\\lightgbm\\basic.py:1007: UserWarning: categorical_feature in Dataset is overrided. New categorical_feature is ['Weekday', 'category_name', 'category_name_param_1', 'category_name_param_2', 'category_name_param_3', 'category_name_region', 'city', 'image_top_1', 'param_1', 'param_2', 'param_3', 'parent_category_name', 'parent_category_name_category_name', 'parent_category_name_param_1', 'parent_category_name_param_2', 'parent_category_name_param_3', 'price_binned', 'region', 'region_city', 'user_type']\n",
      "  warnings.warn('categorical_feature in Dataset is overrided. New categorical_feature is {}'.format(sorted(list(categorical_feature))))\n"
     ]
    },
    {
     "name": "stdout",
     "output_type": "stream",
     "text": [
      "Training until validation scores don't improve for 200 rounds.\n",
      "[100]\ttrain's rmse: 0.223102\tvalid's rmse: 0.226068\n",
      "{'subsample': 0.8}\n",
      "loss:0.226059\n"
     ]
    },
    {
     "name": "stderr",
     "output_type": "stream",
     "text": [
      "C:\\Users\\khyeh\\Anaconda3\\lib\\site-packages\\lightgbm\\basic.py:1007: UserWarning: categorical_feature in Dataset is overrided. New categorical_feature is ['Weekday', 'category_name', 'category_name_param_1', 'category_name_param_2', 'category_name_param_3', 'category_name_region', 'city', 'image_top_1', 'param_1', 'param_2', 'param_3', 'parent_category_name', 'parent_category_name_category_name', 'parent_category_name_param_1', 'parent_category_name_param_2', 'parent_category_name_param_3', 'price_binned', 'region', 'region_city', 'user_type']\n",
      "  warnings.warn('categorical_feature in Dataset is overrided. New categorical_feature is {}'.format(sorted(list(categorical_feature))))\n"
     ]
    },
    {
     "name": "stdout",
     "output_type": "stream",
     "text": [
      "Training until validation scores don't improve for 200 rounds.\n",
      "[100]\ttrain's rmse: 0.223018\tvalid's rmse: 0.22606\n",
      "{'subsample': 0.9}\n",
      "loss:0.226051\n"
     ]
    },
    {
     "name": "stderr",
     "output_type": "stream",
     "text": [
      "C:\\Users\\khyeh\\Anaconda3\\lib\\site-packages\\lightgbm\\basic.py:1007: UserWarning: categorical_feature in Dataset is overrided. New categorical_feature is ['Weekday', 'category_name', 'category_name_param_1', 'category_name_param_2', 'category_name_param_3', 'category_name_region', 'city', 'image_top_1', 'param_1', 'param_2', 'param_3', 'parent_category_name', 'parent_category_name_category_name', 'parent_category_name_param_1', 'parent_category_name_param_2', 'parent_category_name_param_3', 'price_binned', 'region', 'region_city', 'user_type']\n",
      "  warnings.warn('categorical_feature in Dataset is overrided. New categorical_feature is {}'.format(sorted(list(categorical_feature))))\n"
     ]
    },
    {
     "name": "stdout",
     "output_type": "stream",
     "text": [
      "Training until validation scores don't improve for 200 rounds.\n",
      "[100]\ttrain's rmse: 0.22323\tvalid's rmse: 0.226124\n",
      "{'subsample': 1.0}\n",
      "loss:0.226116\n",
      "Best params: {'subsample': 0.9} \n",
      " best loss: 0.226050904909\n"
     ]
    }
   ],
   "source": [
    "default_params = {\n",
    "    'boosting_type':'gbdt', \n",
    "    'num_leaves':31, \n",
    "    'max_depth':5, \n",
    "    'learning_rate':0.1, \n",
    "    'n_estimators':100, \n",
    "    'min_split_gain':0.2, \n",
    "    'min_child_weight':0.001, \n",
    "    'min_child_samples':20, \n",
    "    'subsample':0.8, \n",
    "    'subsample_freq':1, \n",
    "    'colsample_bytree':0.8, \n",
    "    'reg_alpha':0.0, \n",
    "    'reg_lambda':0.0, \n",
    "    'random_state':719, \n",
    "    'n_job': 4\n",
    "}\n",
    "\n",
    "try_params = \\\n",
    "[\n",
    "    {\n",
    "        'subsample':[i/10.0 for i in range(6,11)]\n",
    "    }\n",
    "]\n",
    "fit_params(default_params, try_params, tr_X, tr_y, val_X, val_y)"
   ]
  },
  {
   "cell_type": "code",
   "execution_count": 23,
   "metadata": {
    "collapsed": true
   },
   "outputs": [
    {
     "name": "stderr",
     "output_type": "stream",
     "text": [
      "C:\\Users\\khyeh\\Anaconda3\\lib\\site-packages\\lightgbm\\basic.py:1007: UserWarning: categorical_feature in Dataset is overrided. New categorical_feature is ['Weekday', 'category_name', 'category_name_param_1', 'category_name_param_2', 'category_name_param_3', 'category_name_region', 'city', 'image_top_1', 'param_1', 'param_2', 'param_3', 'parent_category_name', 'parent_category_name_category_name', 'parent_category_name_param_1', 'parent_category_name_param_2', 'parent_category_name_param_3', 'price_binned', 'region', 'region_city', 'user_type']\n",
      "  warnings.warn('categorical_feature in Dataset is overrided. New categorical_feature is {}'.format(sorted(list(categorical_feature))))\n"
     ]
    },
    {
     "name": "stdout",
     "output_type": "stream",
     "text": [
      "Training until validation scores don't improve for 200 rounds.\n",
      "[100]\ttrain's rmse: 0.223259\tvalid's rmse: 0.226203\n",
      "{'colsample_bytree': 0.75, 'subsample': 0.85}\n",
      "loss:0.226194\n"
     ]
    },
    {
     "name": "stderr",
     "output_type": "stream",
     "text": [
      "C:\\Users\\khyeh\\Anaconda3\\lib\\site-packages\\lightgbm\\basic.py:1007: UserWarning: categorical_feature in Dataset is overrided. New categorical_feature is ['Weekday', 'category_name', 'category_name_param_1', 'category_name_param_2', 'category_name_param_3', 'category_name_region', 'city', 'image_top_1', 'param_1', 'param_2', 'param_3', 'parent_category_name', 'parent_category_name_category_name', 'parent_category_name_param_1', 'parent_category_name_param_2', 'parent_category_name_param_3', 'price_binned', 'region', 'region_city', 'user_type']\n",
      "  warnings.warn('categorical_feature in Dataset is overrided. New categorical_feature is {}'.format(sorted(list(categorical_feature))))\n"
     ]
    },
    {
     "name": "stdout",
     "output_type": "stream",
     "text": [
      "Training until validation scores don't improve for 200 rounds.\n",
      "[100]\ttrain's rmse: 0.223169\tvalid's rmse: 0.226152\n",
      "{'colsample_bytree': 0.75, 'subsample': 0.9}\n",
      "loss:0.226144\n"
     ]
    },
    {
     "name": "stderr",
     "output_type": "stream",
     "text": [
      "C:\\Users\\khyeh\\Anaconda3\\lib\\site-packages\\lightgbm\\basic.py:1007: UserWarning: categorical_feature in Dataset is overrided. New categorical_feature is ['Weekday', 'category_name', 'category_name_param_1', 'category_name_param_2', 'category_name_param_3', 'category_name_region', 'city', 'image_top_1', 'param_1', 'param_2', 'param_3', 'parent_category_name', 'parent_category_name_category_name', 'parent_category_name_param_1', 'parent_category_name_param_2', 'parent_category_name_param_3', 'price_binned', 'region', 'region_city', 'user_type']\n",
      "  warnings.warn('categorical_feature in Dataset is overrided. New categorical_feature is {}'.format(sorted(list(categorical_feature))))\n"
     ]
    },
    {
     "name": "stdout",
     "output_type": "stream",
     "text": [
      "Training until validation scores don't improve for 200 rounds.\n",
      "[100]\ttrain's rmse: 0.223117\tvalid's rmse: 0.226128\n",
      "{'colsample_bytree': 0.75, 'subsample': 0.95}\n",
      "loss:0.226120\n"
     ]
    },
    {
     "name": "stderr",
     "output_type": "stream",
     "text": [
      "C:\\Users\\khyeh\\Anaconda3\\lib\\site-packages\\lightgbm\\basic.py:1007: UserWarning: categorical_feature in Dataset is overrided. New categorical_feature is ['Weekday', 'category_name', 'category_name_param_1', 'category_name_param_2', 'category_name_param_3', 'category_name_region', 'city', 'image_top_1', 'param_1', 'param_2', 'param_3', 'parent_category_name', 'parent_category_name_category_name', 'parent_category_name_param_1', 'parent_category_name_param_2', 'parent_category_name_param_3', 'price_binned', 'region', 'region_city', 'user_type']\n",
      "  warnings.warn('categorical_feature in Dataset is overrided. New categorical_feature is {}'.format(sorted(list(categorical_feature))))\n"
     ]
    },
    {
     "name": "stdout",
     "output_type": "stream",
     "text": [
      "Training until validation scores don't improve for 200 rounds.\n",
      "[100]\ttrain's rmse: 0.223302\tvalid's rmse: 0.226205\n",
      "{'colsample_bytree': 0.8, 'subsample': 0.85}\n",
      "loss:0.226199\n"
     ]
    },
    {
     "name": "stderr",
     "output_type": "stream",
     "text": [
      "C:\\Users\\khyeh\\Anaconda3\\lib\\site-packages\\lightgbm\\basic.py:1007: UserWarning: categorical_feature in Dataset is overrided. New categorical_feature is ['Weekday', 'category_name', 'category_name_param_1', 'category_name_param_2', 'category_name_param_3', 'category_name_region', 'city', 'image_top_1', 'param_1', 'param_2', 'param_3', 'parent_category_name', 'parent_category_name_category_name', 'parent_category_name_param_1', 'parent_category_name_param_2', 'parent_category_name_param_3', 'price_binned', 'region', 'region_city', 'user_type']\n",
      "  warnings.warn('categorical_feature in Dataset is overrided. New categorical_feature is {}'.format(sorted(list(categorical_feature))))\n"
     ]
    },
    {
     "name": "stdout",
     "output_type": "stream",
     "text": [
      "Training until validation scores don't improve for 200 rounds.\n",
      "[100]\ttrain's rmse: 0.223018\tvalid's rmse: 0.22606\n",
      "{'colsample_bytree': 0.8, 'subsample': 0.9}\n",
      "loss:0.226051\n"
     ]
    },
    {
     "name": "stderr",
     "output_type": "stream",
     "text": [
      "C:\\Users\\khyeh\\Anaconda3\\lib\\site-packages\\lightgbm\\basic.py:1007: UserWarning: categorical_feature in Dataset is overrided. New categorical_feature is ['Weekday', 'category_name', 'category_name_param_1', 'category_name_param_2', 'category_name_param_3', 'category_name_region', 'city', 'image_top_1', 'param_1', 'param_2', 'param_3', 'parent_category_name', 'parent_category_name_category_name', 'parent_category_name_param_1', 'parent_category_name_param_2', 'parent_category_name_param_3', 'price_binned', 'region', 'region_city', 'user_type']\n",
      "  warnings.warn('categorical_feature in Dataset is overrided. New categorical_feature is {}'.format(sorted(list(categorical_feature))))\n"
     ]
    },
    {
     "name": "stdout",
     "output_type": "stream",
     "text": [
      "Training until validation scores don't improve for 200 rounds.\n",
      "[100]\ttrain's rmse: 0.223219\tvalid's rmse: 0.226175\n",
      "{'colsample_bytree': 0.8, 'subsample': 0.95}\n",
      "loss:0.226168\n"
     ]
    },
    {
     "name": "stderr",
     "output_type": "stream",
     "text": [
      "C:\\Users\\khyeh\\Anaconda3\\lib\\site-packages\\lightgbm\\basic.py:1007: UserWarning: categorical_feature in Dataset is overrided. New categorical_feature is ['Weekday', 'category_name', 'category_name_param_1', 'category_name_param_2', 'category_name_param_3', 'category_name_region', 'city', 'image_top_1', 'param_1', 'param_2', 'param_3', 'parent_category_name', 'parent_category_name_category_name', 'parent_category_name_param_1', 'parent_category_name_param_2', 'parent_category_name_param_3', 'price_binned', 'region', 'region_city', 'user_type']\n",
      "  warnings.warn('categorical_feature in Dataset is overrided. New categorical_feature is {}'.format(sorted(list(categorical_feature))))\n"
     ]
    },
    {
     "name": "stdout",
     "output_type": "stream",
     "text": [
      "Training until validation scores don't improve for 200 rounds.\n",
      "[100]\ttrain's rmse: 0.223239\tvalid's rmse: 0.226268\n",
      "{'colsample_bytree': 0.85, 'subsample': 0.85}\n",
      "loss:0.226260\n"
     ]
    },
    {
     "name": "stderr",
     "output_type": "stream",
     "text": [
      "C:\\Users\\khyeh\\Anaconda3\\lib\\site-packages\\lightgbm\\basic.py:1007: UserWarning: categorical_feature in Dataset is overrided. New categorical_feature is ['Weekday', 'category_name', 'category_name_param_1', 'category_name_param_2', 'category_name_param_3', 'category_name_region', 'city', 'image_top_1', 'param_1', 'param_2', 'param_3', 'parent_category_name', 'parent_category_name_category_name', 'parent_category_name_param_1', 'parent_category_name_param_2', 'parent_category_name_param_3', 'price_binned', 'region', 'region_city', 'user_type']\n",
      "  warnings.warn('categorical_feature in Dataset is overrided. New categorical_feature is {}'.format(sorted(list(categorical_feature))))\n"
     ]
    },
    {
     "name": "stdout",
     "output_type": "stream",
     "text": [
      "Training until validation scores don't improve for 200 rounds.\n",
      "[100]\ttrain's rmse: 0.223102\tvalid's rmse: 0.226103\n",
      "{'colsample_bytree': 0.85, 'subsample': 0.9}\n",
      "loss:0.226094\n"
     ]
    },
    {
     "name": "stderr",
     "output_type": "stream",
     "text": [
      "C:\\Users\\khyeh\\Anaconda3\\lib\\site-packages\\lightgbm\\basic.py:1007: UserWarning: categorical_feature in Dataset is overrided. New categorical_feature is ['Weekday', 'category_name', 'category_name_param_1', 'category_name_param_2', 'category_name_param_3', 'category_name_region', 'city', 'image_top_1', 'param_1', 'param_2', 'param_3', 'parent_category_name', 'parent_category_name_category_name', 'parent_category_name_param_1', 'parent_category_name_param_2', 'parent_category_name_param_3', 'price_binned', 'region', 'region_city', 'user_type']\n",
      "  warnings.warn('categorical_feature in Dataset is overrided. New categorical_feature is {}'.format(sorted(list(categorical_feature))))\n"
     ]
    },
    {
     "name": "stdout",
     "output_type": "stream",
     "text": [
      "Training until validation scores don't improve for 200 rounds.\n",
      "[100]\ttrain's rmse: 0.222949\tvalid's rmse: 0.226033\n",
      "{'colsample_bytree': 0.85, 'subsample': 0.95}\n",
      "loss:0.226026\n",
      "Best params: {'colsample_bytree': 0.85, 'subsample': 0.95} \n",
      " best loss: 0.226025734568\n"
     ]
    }
   ],
   "source": [
    "default_params = {\n",
    "    'boosting_type':'gbdt', \n",
    "    'num_leaves':31, \n",
    "    'max_depth':5, \n",
    "    'learning_rate':0.1, \n",
    "    'n_estimators':100, \n",
    "    'min_split_gain':0.2, \n",
    "    'min_child_weight':0.001, \n",
    "    'min_child_samples':20, \n",
    "    'subsample':0.8, \n",
    "    'subsample_freq':1, \n",
    "    'colsample_bytree':0.8, \n",
    "    'reg_alpha':0.0, \n",
    "    'reg_lambda':0.0, \n",
    "    'random_state':719, \n",
    "    'n_job': 4\n",
    "}\n",
    "\n",
    "try_params = \\\n",
    "[\n",
    "    {\n",
    "        'subsample':[.85, .9, .95],\n",
    "        'colsample_bytree':[.75, .8, .85]\n",
    "    }\n",
    "]\n",
    "fit_params(default_params, try_params, tr_X, tr_y, val_X, val_y)"
   ]
  },
  {
   "cell_type": "code",
   "execution_count": 24,
   "metadata": {},
   "outputs": [
    {
     "name": "stderr",
     "output_type": "stream",
     "text": [
      "C:\\Users\\khyeh\\Anaconda3\\lib\\site-packages\\lightgbm\\basic.py:1007: UserWarning: categorical_feature in Dataset is overrided. New categorical_feature is ['Weekday', 'category_name', 'category_name_param_1', 'category_name_param_2', 'category_name_param_3', 'category_name_region', 'city', 'image_top_1', 'param_1', 'param_2', 'param_3', 'parent_category_name', 'parent_category_name_category_name', 'parent_category_name_param_1', 'parent_category_name_param_2', 'parent_category_name_param_3', 'price_binned', 'region', 'region_city', 'user_type']\n",
      "  warnings.warn('categorical_feature in Dataset is overrided. New categorical_feature is {}'.format(sorted(list(categorical_feature))))\n"
     ]
    },
    {
     "name": "stdout",
     "output_type": "stream",
     "text": [
      "Training until validation scores don't improve for 200 rounds.\n",
      "[100]\ttrain's rmse: 0.222949\tvalid's rmse: 0.226033\n",
      "{'reg_alpha': 0.0}\n",
      "loss:0.226026\n"
     ]
    },
    {
     "name": "stderr",
     "output_type": "stream",
     "text": [
      "C:\\Users\\khyeh\\Anaconda3\\lib\\site-packages\\lightgbm\\basic.py:1007: UserWarning: categorical_feature in Dataset is overrided. New categorical_feature is ['Weekday', 'category_name', 'category_name_param_1', 'category_name_param_2', 'category_name_param_3', 'category_name_region', 'city', 'image_top_1', 'param_1', 'param_2', 'param_3', 'parent_category_name', 'parent_category_name_category_name', 'parent_category_name_param_1', 'parent_category_name_param_2', 'parent_category_name_param_3', 'price_binned', 'region', 'region_city', 'user_type']\n",
      "  warnings.warn('categorical_feature in Dataset is overrided. New categorical_feature is {}'.format(sorted(list(categorical_feature))))\n"
     ]
    },
    {
     "name": "stdout",
     "output_type": "stream",
     "text": [
      "Training until validation scores don't improve for 200 rounds.\n",
      "[100]\ttrain's rmse: 0.223188\tvalid's rmse: 0.226218\n",
      "{'reg_alpha': 0.1}\n",
      "loss:0.226212\n"
     ]
    },
    {
     "name": "stderr",
     "output_type": "stream",
     "text": [
      "C:\\Users\\khyeh\\Anaconda3\\lib\\site-packages\\lightgbm\\basic.py:1007: UserWarning: categorical_feature in Dataset is overrided. New categorical_feature is ['Weekday', 'category_name', 'category_name_param_1', 'category_name_param_2', 'category_name_param_3', 'category_name_region', 'city', 'image_top_1', 'param_1', 'param_2', 'param_3', 'parent_category_name', 'parent_category_name_category_name', 'parent_category_name_param_1', 'parent_category_name_param_2', 'parent_category_name_param_3', 'price_binned', 'region', 'region_city', 'user_type']\n",
      "  warnings.warn('categorical_feature in Dataset is overrided. New categorical_feature is {}'.format(sorted(list(categorical_feature))))\n"
     ]
    },
    {
     "name": "stdout",
     "output_type": "stream",
     "text": [
      "Training until validation scores don't improve for 200 rounds.\n",
      "[100]\ttrain's rmse: 0.223105\tvalid's rmse: 0.226103\n",
      "{'reg_alpha': 0.2}\n",
      "loss:0.226097\n"
     ]
    },
    {
     "name": "stderr",
     "output_type": "stream",
     "text": [
      "C:\\Users\\khyeh\\Anaconda3\\lib\\site-packages\\lightgbm\\basic.py:1007: UserWarning: categorical_feature in Dataset is overrided. New categorical_feature is ['Weekday', 'category_name', 'category_name_param_1', 'category_name_param_2', 'category_name_param_3', 'category_name_region', 'city', 'image_top_1', 'param_1', 'param_2', 'param_3', 'parent_category_name', 'parent_category_name_category_name', 'parent_category_name_param_1', 'parent_category_name_param_2', 'parent_category_name_param_3', 'price_binned', 'region', 'region_city', 'user_type']\n",
      "  warnings.warn('categorical_feature in Dataset is overrided. New categorical_feature is {}'.format(sorted(list(categorical_feature))))\n"
     ]
    },
    {
     "name": "stdout",
     "output_type": "stream",
     "text": [
      "Training until validation scores don't improve for 200 rounds.\n",
      "[100]\ttrain's rmse: 0.222988\tvalid's rmse: 0.226112\n",
      "{'reg_alpha': 0.3}\n",
      "loss:0.226104\n"
     ]
    },
    {
     "name": "stderr",
     "output_type": "stream",
     "text": [
      "C:\\Users\\khyeh\\Anaconda3\\lib\\site-packages\\lightgbm\\basic.py:1007: UserWarning: categorical_feature in Dataset is overrided. New categorical_feature is ['Weekday', 'category_name', 'category_name_param_1', 'category_name_param_2', 'category_name_param_3', 'category_name_region', 'city', 'image_top_1', 'param_1', 'param_2', 'param_3', 'parent_category_name', 'parent_category_name_category_name', 'parent_category_name_param_1', 'parent_category_name_param_2', 'parent_category_name_param_3', 'price_binned', 'region', 'region_city', 'user_type']\n",
      "  warnings.warn('categorical_feature in Dataset is overrided. New categorical_feature is {}'.format(sorted(list(categorical_feature))))\n"
     ]
    },
    {
     "name": "stdout",
     "output_type": "stream",
     "text": [
      "Training until validation scores don't improve for 200 rounds.\n",
      "[100]\ttrain's rmse: 0.223213\tvalid's rmse: 0.226158\n",
      "{'reg_alpha': 0.4}\n",
      "loss:0.226149\n"
     ]
    },
    {
     "name": "stderr",
     "output_type": "stream",
     "text": [
      "C:\\Users\\khyeh\\Anaconda3\\lib\\site-packages\\lightgbm\\basic.py:1007: UserWarning: categorical_feature in Dataset is overrided. New categorical_feature is ['Weekday', 'category_name', 'category_name_param_1', 'category_name_param_2', 'category_name_param_3', 'category_name_region', 'city', 'image_top_1', 'param_1', 'param_2', 'param_3', 'parent_category_name', 'parent_category_name_category_name', 'parent_category_name_param_1', 'parent_category_name_param_2', 'parent_category_name_param_3', 'price_binned', 'region', 'region_city', 'user_type']\n",
      "  warnings.warn('categorical_feature in Dataset is overrided. New categorical_feature is {}'.format(sorted(list(categorical_feature))))\n"
     ]
    },
    {
     "ename": "KeyboardInterrupt",
     "evalue": "",
     "output_type": "error",
     "traceback": [
      "\u001b[1;31m---------------------------------------------------------------------------\u001b[0m",
      "\u001b[1;31mKeyboardInterrupt\u001b[0m                         Traceback (most recent call last)",
      "\u001b[1;32m<ipython-input-24-5cbe6e746b45>\u001b[0m in \u001b[0;36m<module>\u001b[1;34m()\u001b[0m\n\u001b[0;32m     22\u001b[0m     }\n\u001b[0;32m     23\u001b[0m ]\n\u001b[1;32m---> 24\u001b[1;33m \u001b[0mfit_params\u001b[0m\u001b[1;33m(\u001b[0m\u001b[0mdefault_params\u001b[0m\u001b[1;33m,\u001b[0m \u001b[0mtry_params\u001b[0m\u001b[1;33m,\u001b[0m \u001b[0mtr_X\u001b[0m\u001b[1;33m,\u001b[0m \u001b[0mtr_y\u001b[0m\u001b[1;33m,\u001b[0m \u001b[0mval_X\u001b[0m\u001b[1;33m,\u001b[0m \u001b[0mval_y\u001b[0m\u001b[1;33m)\u001b[0m\u001b[1;33m\u001b[0m\u001b[0m\n\u001b[0m",
      "\u001b[1;32m<ipython-input-16-15f1dd6273cc>\u001b[0m in \u001b[0;36mfit_params\u001b[1;34m(default_params, params, tr_X, tr_y, val_X, val_y)\u001b[0m\n\u001b[0;32m     13\u001b[0m         model.fit(tr_X, tr_y, eval_set=[(tr_X, tr_y), (val_X, val_y)], eval_names=['train', 'valid'], \n\u001b[0;32m     14\u001b[0m                   \u001b[0mearly_stopping_rounds\u001b[0m\u001b[1;33m=\u001b[0m\u001b[1;36m200\u001b[0m\u001b[1;33m,\u001b[0m \u001b[0mverbose\u001b[0m\u001b[1;33m=\u001b[0m\u001b[1;36m100\u001b[0m\u001b[1;33m,\u001b[0m\u001b[1;33m\u001b[0m\u001b[0m\n\u001b[1;32m---> 15\u001b[1;33m                   feature_name=features, categorical_feature=list(cat_col), eval_metric='rmse')\n\u001b[0m\u001b[0;32m     16\u001b[0m         \u001b[0mval_pred\u001b[0m \u001b[1;33m=\u001b[0m \u001b[0mmodel\u001b[0m\u001b[1;33m.\u001b[0m\u001b[0mpredict\u001b[0m\u001b[1;33m(\u001b[0m\u001b[0mval_X\u001b[0m\u001b[1;33m)\u001b[0m\u001b[1;33m\u001b[0m\u001b[0m\n\u001b[0;32m     17\u001b[0m         \u001b[0mloss\u001b[0m \u001b[1;33m=\u001b[0m \u001b[0mmean_squared_error\u001b[0m\u001b[1;33m(\u001b[0m\u001b[0mval_y\u001b[0m\u001b[1;33m,\u001b[0m \u001b[0mnp\u001b[0m\u001b[1;33m.\u001b[0m\u001b[0mclip\u001b[0m\u001b[1;33m(\u001b[0m\u001b[0mval_pred\u001b[0m\u001b[1;33m,\u001b[0m \u001b[1;36m0.\u001b[0m\u001b[1;33m,\u001b[0m \u001b[1;36m1.\u001b[0m\u001b[1;33m)\u001b[0m\u001b[1;33m)\u001b[0m\u001b[1;33m**\u001b[0m\u001b[1;36m.5\u001b[0m\u001b[1;33m\u001b[0m\u001b[0m\n",
      "\u001b[1;32m~\\Anaconda3\\lib\\site-packages\\lightgbm\\sklearn.py\u001b[0m in \u001b[0;36mfit\u001b[1;34m(self, X, y, sample_weight, init_score, eval_set, eval_names, eval_sample_weight, eval_init_score, eval_metric, early_stopping_rounds, verbose, feature_name, categorical_feature, callbacks)\u001b[0m\n\u001b[0;32m    610\u001b[0m                                        \u001b[0mverbose\u001b[0m\u001b[1;33m=\u001b[0m\u001b[0mverbose\u001b[0m\u001b[1;33m,\u001b[0m \u001b[0mfeature_name\u001b[0m\u001b[1;33m=\u001b[0m\u001b[0mfeature_name\u001b[0m\u001b[1;33m,\u001b[0m\u001b[1;33m\u001b[0m\u001b[0m\n\u001b[0;32m    611\u001b[0m                                        \u001b[0mcategorical_feature\u001b[0m\u001b[1;33m=\u001b[0m\u001b[0mcategorical_feature\u001b[0m\u001b[1;33m,\u001b[0m\u001b[1;33m\u001b[0m\u001b[0m\n\u001b[1;32m--> 612\u001b[1;33m                                        callbacks=callbacks)\n\u001b[0m\u001b[0;32m    613\u001b[0m         \u001b[1;32mreturn\u001b[0m \u001b[0mself\u001b[0m\u001b[1;33m\u001b[0m\u001b[0m\n\u001b[0;32m    614\u001b[0m \u001b[1;33m\u001b[0m\u001b[0m\n",
      "\u001b[1;32m~\\Anaconda3\\lib\\site-packages\\lightgbm\\sklearn.py\u001b[0m in \u001b[0;36mfit\u001b[1;34m(self, X, y, sample_weight, init_score, group, eval_set, eval_names, eval_sample_weight, eval_init_score, eval_group, eval_metric, early_stopping_rounds, verbose, feature_name, categorical_feature, callbacks)\u001b[0m\n\u001b[0;32m    457\u001b[0m                               \u001b[0mverbose_eval\u001b[0m\u001b[1;33m=\u001b[0m\u001b[0mverbose\u001b[0m\u001b[1;33m,\u001b[0m \u001b[0mfeature_name\u001b[0m\u001b[1;33m=\u001b[0m\u001b[0mfeature_name\u001b[0m\u001b[1;33m,\u001b[0m\u001b[1;33m\u001b[0m\u001b[0m\n\u001b[0;32m    458\u001b[0m                               \u001b[0mcategorical_feature\u001b[0m\u001b[1;33m=\u001b[0m\u001b[0mcategorical_feature\u001b[0m\u001b[1;33m,\u001b[0m\u001b[1;33m\u001b[0m\u001b[0m\n\u001b[1;32m--> 459\u001b[1;33m                               callbacks=callbacks)\n\u001b[0m\u001b[0;32m    460\u001b[0m \u001b[1;33m\u001b[0m\u001b[0m\n\u001b[0;32m    461\u001b[0m         \u001b[1;32mif\u001b[0m \u001b[0mevals_result\u001b[0m\u001b[1;33m:\u001b[0m\u001b[1;33m\u001b[0m\u001b[0m\n",
      "\u001b[1;32m~\\Anaconda3\\lib\\site-packages\\lightgbm\\engine.py\u001b[0m in \u001b[0;36mtrain\u001b[1;34m(params, train_set, num_boost_round, valid_sets, valid_names, fobj, feval, init_model, feature_name, categorical_feature, early_stopping_rounds, evals_result, verbose_eval, learning_rates, keep_training_booster, callbacks)\u001b[0m\n\u001b[0;32m    180\u001b[0m             \u001b[0mbooster\u001b[0m\u001b[1;33m.\u001b[0m\u001b[0mset_train_data_name\u001b[0m\u001b[1;33m(\u001b[0m\u001b[0mtrain_data_name\u001b[0m\u001b[1;33m)\u001b[0m\u001b[1;33m\u001b[0m\u001b[0m\n\u001b[0;32m    181\u001b[0m         \u001b[1;32mfor\u001b[0m \u001b[0mvalid_set\u001b[0m\u001b[1;33m,\u001b[0m \u001b[0mname_valid_set\u001b[0m \u001b[1;32min\u001b[0m \u001b[0mzip\u001b[0m\u001b[1;33m(\u001b[0m\u001b[0mreduced_valid_sets\u001b[0m\u001b[1;33m,\u001b[0m \u001b[0mname_valid_sets\u001b[0m\u001b[1;33m)\u001b[0m\u001b[1;33m:\u001b[0m\u001b[1;33m\u001b[0m\u001b[0m\n\u001b[1;32m--> 182\u001b[1;33m             \u001b[0mbooster\u001b[0m\u001b[1;33m.\u001b[0m\u001b[0madd_valid\u001b[0m\u001b[1;33m(\u001b[0m\u001b[0mvalid_set\u001b[0m\u001b[1;33m,\u001b[0m \u001b[0mname_valid_set\u001b[0m\u001b[1;33m)\u001b[0m\u001b[1;33m\u001b[0m\u001b[0m\n\u001b[0m\u001b[0;32m    183\u001b[0m     \u001b[1;32mfinally\u001b[0m\u001b[1;33m:\u001b[0m\u001b[1;33m\u001b[0m\u001b[0m\n\u001b[0;32m    184\u001b[0m         \u001b[0mtrain_set\u001b[0m\u001b[1;33m.\u001b[0m\u001b[0m_reverse_update_params\u001b[0m\u001b[1;33m(\u001b[0m\u001b[1;33m)\u001b[0m\u001b[1;33m\u001b[0m\u001b[0m\n",
      "\u001b[1;32m~\\Anaconda3\\lib\\site-packages\\lightgbm\\basic.py\u001b[0m in \u001b[0;36madd_valid\u001b[1;34m(self, data, name)\u001b[0m\n\u001b[0;32m   1378\u001b[0m         _safe_call(_LIB.LGBM_BoosterAddValidData(\n\u001b[0;32m   1379\u001b[0m             \u001b[0mself\u001b[0m\u001b[1;33m.\u001b[0m\u001b[0mhandle\u001b[0m\u001b[1;33m,\u001b[0m\u001b[1;33m\u001b[0m\u001b[0m\n\u001b[1;32m-> 1380\u001b[1;33m             data.construct().handle))\n\u001b[0m\u001b[0;32m   1381\u001b[0m         \u001b[0mself\u001b[0m\u001b[1;33m.\u001b[0m\u001b[0mvalid_sets\u001b[0m\u001b[1;33m.\u001b[0m\u001b[0mappend\u001b[0m\u001b[1;33m(\u001b[0m\u001b[0mdata\u001b[0m\u001b[1;33m)\u001b[0m\u001b[1;33m\u001b[0m\u001b[0m\n\u001b[0;32m   1382\u001b[0m         \u001b[0mself\u001b[0m\u001b[1;33m.\u001b[0m\u001b[0mname_valid_sets\u001b[0m\u001b[1;33m.\u001b[0m\u001b[0mappend\u001b[0m\u001b[1;33m(\u001b[0m\u001b[0mname\u001b[0m\u001b[1;33m)\u001b[0m\u001b[1;33m\u001b[0m\u001b[0m\n",
      "\u001b[1;32m~\\Anaconda3\\lib\\site-packages\\lightgbm\\basic.py\u001b[0m in \u001b[0;36mconstruct\u001b[1;34m(self)\u001b[0m\n\u001b[0;32m    801\u001b[0m                     self._lazy_init(self.data, label=self.label, max_bin=self.max_bin, reference=self.reference,\n\u001b[0;32m    802\u001b[0m                                     \u001b[0mweight\u001b[0m\u001b[1;33m=\u001b[0m\u001b[0mself\u001b[0m\u001b[1;33m.\u001b[0m\u001b[0mweight\u001b[0m\u001b[1;33m,\u001b[0m \u001b[0mgroup\u001b[0m\u001b[1;33m=\u001b[0m\u001b[0mself\u001b[0m\u001b[1;33m.\u001b[0m\u001b[0mgroup\u001b[0m\u001b[1;33m,\u001b[0m \u001b[0mpredictor\u001b[0m\u001b[1;33m=\u001b[0m\u001b[0mself\u001b[0m\u001b[1;33m.\u001b[0m\u001b[0m_predictor\u001b[0m\u001b[1;33m,\u001b[0m\u001b[1;33m\u001b[0m\u001b[0m\n\u001b[1;32m--> 803\u001b[1;33m                                     silent=self.silent, feature_name=self.feature_name, params=self.params)\n\u001b[0m\u001b[0;32m    804\u001b[0m                 \u001b[1;32melse\u001b[0m\u001b[1;33m:\u001b[0m\u001b[1;33m\u001b[0m\u001b[0m\n\u001b[0;32m    805\u001b[0m                     \u001b[1;34m\"\"\"construct subset\"\"\"\u001b[0m\u001b[1;33m\u001b[0m\u001b[0m\n",
      "\u001b[1;32m~\\Anaconda3\\lib\\site-packages\\lightgbm\\basic.py\u001b[0m in \u001b[0;36m_lazy_init\u001b[1;34m(self, data, label, max_bin, reference, weight, group, predictor, silent, feature_name, categorical_feature, params)\u001b[0m\n\u001b[0;32m    675\u001b[0m                 ctypes.byref(self.handle)))\n\u001b[0;32m    676\u001b[0m         \u001b[1;32melif\u001b[0m \u001b[0misinstance\u001b[0m\u001b[1;33m(\u001b[0m\u001b[0mdata\u001b[0m\u001b[1;33m,\u001b[0m \u001b[0mscipy\u001b[0m\u001b[1;33m.\u001b[0m\u001b[0msparse\u001b[0m\u001b[1;33m.\u001b[0m\u001b[0mcsr_matrix\u001b[0m\u001b[1;33m)\u001b[0m\u001b[1;33m:\u001b[0m\u001b[1;33m\u001b[0m\u001b[0m\n\u001b[1;32m--> 677\u001b[1;33m             \u001b[0mself\u001b[0m\u001b[1;33m.\u001b[0m\u001b[0m__init_from_csr\u001b[0m\u001b[1;33m(\u001b[0m\u001b[0mdata\u001b[0m\u001b[1;33m,\u001b[0m \u001b[0mparams_str\u001b[0m\u001b[1;33m,\u001b[0m \u001b[0mref_dataset\u001b[0m\u001b[1;33m)\u001b[0m\u001b[1;33m\u001b[0m\u001b[0m\n\u001b[0m\u001b[0;32m    678\u001b[0m         \u001b[1;32melif\u001b[0m \u001b[0misinstance\u001b[0m\u001b[1;33m(\u001b[0m\u001b[0mdata\u001b[0m\u001b[1;33m,\u001b[0m \u001b[0mscipy\u001b[0m\u001b[1;33m.\u001b[0m\u001b[0msparse\u001b[0m\u001b[1;33m.\u001b[0m\u001b[0mcsc_matrix\u001b[0m\u001b[1;33m)\u001b[0m\u001b[1;33m:\u001b[0m\u001b[1;33m\u001b[0m\u001b[0m\n\u001b[0;32m    679\u001b[0m             \u001b[0mself\u001b[0m\u001b[1;33m.\u001b[0m\u001b[0m__init_from_csc\u001b[0m\u001b[1;33m(\u001b[0m\u001b[0mdata\u001b[0m\u001b[1;33m,\u001b[0m \u001b[0mparams_str\u001b[0m\u001b[1;33m,\u001b[0m \u001b[0mref_dataset\u001b[0m\u001b[1;33m)\u001b[0m\u001b[1;33m\u001b[0m\u001b[0m\n",
      "\u001b[1;32m~\\Anaconda3\\lib\\site-packages\\lightgbm\\basic.py\u001b[0m in \u001b[0;36m__init_from_csr\u001b[1;34m(self, csr, params_str, ref_dataset)\u001b[0m\n\u001b[0;32m    761\u001b[0m             \u001b[0mc_str\u001b[0m\u001b[1;33m(\u001b[0m\u001b[0mparams_str\u001b[0m\u001b[1;33m)\u001b[0m\u001b[1;33m,\u001b[0m\u001b[1;33m\u001b[0m\u001b[0m\n\u001b[0;32m    762\u001b[0m             \u001b[0mref_dataset\u001b[0m\u001b[1;33m,\u001b[0m\u001b[1;33m\u001b[0m\u001b[0m\n\u001b[1;32m--> 763\u001b[1;33m             ctypes.byref(self.handle)))\n\u001b[0m\u001b[0;32m    764\u001b[0m \u001b[1;33m\u001b[0m\u001b[0m\n\u001b[0;32m    765\u001b[0m     \u001b[1;32mdef\u001b[0m \u001b[0m__init_from_csc\u001b[0m\u001b[1;33m(\u001b[0m\u001b[0mself\u001b[0m\u001b[1;33m,\u001b[0m \u001b[0mcsc\u001b[0m\u001b[1;33m,\u001b[0m \u001b[0mparams_str\u001b[0m\u001b[1;33m,\u001b[0m \u001b[0mref_dataset\u001b[0m\u001b[1;33m)\u001b[0m\u001b[1;33m:\u001b[0m\u001b[1;33m\u001b[0m\u001b[0m\n",
      "\u001b[1;31mKeyboardInterrupt\u001b[0m: "
     ]
    }
   ],
   "source": [
    "default_params = {\n",
    "    'boosting_type':'gbdt', \n",
    "    'num_leaves':31, \n",
    "    'max_depth':5, \n",
    "    'learning_rate':0.1, \n",
    "    'n_estimators':100, \n",
    "    'min_split_gain':0.2, \n",
    "    'min_child_weight':0.001, \n",
    "    'min_child_samples':20, \n",
    "    'subsample':0.95, \n",
    "    'subsample_freq':1, \n",
    "    'colsample_bytree':0.85, \n",
    "    'reg_alpha':0.0, \n",
    "    'reg_lambda':0.0, \n",
    "    'random_state':719, \n",
    "    'n_job': 4\n",
    "}\n",
    "\n",
    "try_params = \\\n",
    "[\n",
    "    {\n",
    "        'reg_alpha':[i/10.0 for i in range(0,11,1)]\n",
    "    }\n",
    "]\n",
    "fit_params(default_params, try_params, tr_X, tr_y, val_X, val_y)"
   ]
  },
  {
   "cell_type": "code",
   "execution_count": 27,
   "metadata": {
    "collapsed": true
   },
   "outputs": [
    {
     "name": "stderr",
     "output_type": "stream",
     "text": [
      "C:\\Users\\khyeh\\Anaconda3\\lib\\site-packages\\lightgbm\\basic.py:1007: UserWarning: categorical_feature in Dataset is overrided. New categorical_feature is ['Weekday', 'category_name', 'category_name_param_1', 'category_name_param_2', 'category_name_param_3', 'category_name_region', 'city', 'image_top_1', 'param_1', 'param_2', 'param_3', 'parent_category_name', 'parent_category_name_category_name', 'parent_category_name_param_1', 'parent_category_name_param_2', 'parent_category_name_param_3', 'price_binned', 'region', 'region_city', 'user_type']\n",
      "  warnings.warn('categorical_feature in Dataset is overrided. New categorical_feature is {}'.format(sorted(list(categorical_feature))))\n"
     ]
    },
    {
     "name": "stdout",
     "output_type": "stream",
     "text": [
      "Training until validation scores don't improve for 200 rounds.\n",
      "[100]\ttrain's rmse: 0.222757\tvalid's rmse: 0.225919\n",
      "{'reg_lambda': 0.0}\n",
      "loss:0.225910\n"
     ]
    },
    {
     "name": "stderr",
     "output_type": "stream",
     "text": [
      "C:\\Users\\khyeh\\Anaconda3\\lib\\site-packages\\lightgbm\\basic.py:1007: UserWarning: categorical_feature in Dataset is overrided. New categorical_feature is ['Weekday', 'category_name', 'category_name_param_1', 'category_name_param_2', 'category_name_param_3', 'category_name_region', 'city', 'image_top_1', 'param_1', 'param_2', 'param_3', 'parent_category_name', 'parent_category_name_category_name', 'parent_category_name_param_1', 'parent_category_name_param_2', 'parent_category_name_param_3', 'price_binned', 'region', 'region_city', 'user_type']\n",
      "  warnings.warn('categorical_feature in Dataset is overrided. New categorical_feature is {}'.format(sorted(list(categorical_feature))))\n"
     ]
    },
    {
     "name": "stdout",
     "output_type": "stream",
     "text": [
      "Training until validation scores don't improve for 200 rounds.\n",
      "[100]\ttrain's rmse: 0.222881\tvalid's rmse: 0.225979\n",
      "{'reg_lambda': 0.1}\n",
      "loss:0.225970\n"
     ]
    },
    {
     "name": "stderr",
     "output_type": "stream",
     "text": [
      "C:\\Users\\khyeh\\Anaconda3\\lib\\site-packages\\lightgbm\\basic.py:1007: UserWarning: categorical_feature in Dataset is overrided. New categorical_feature is ['Weekday', 'category_name', 'category_name_param_1', 'category_name_param_2', 'category_name_param_3', 'category_name_region', 'city', 'image_top_1', 'param_1', 'param_2', 'param_3', 'parent_category_name', 'parent_category_name_category_name', 'parent_category_name_param_1', 'parent_category_name_param_2', 'parent_category_name_param_3', 'price_binned', 'region', 'region_city', 'user_type']\n",
      "  warnings.warn('categorical_feature in Dataset is overrided. New categorical_feature is {}'.format(sorted(list(categorical_feature))))\n"
     ]
    },
    {
     "name": "stdout",
     "output_type": "stream",
     "text": [
      "Training until validation scores don't improve for 200 rounds.\n",
      "[100]\ttrain's rmse: 0.222786\tvalid's rmse: 0.225861\n",
      "{'reg_lambda': 0.2}\n",
      "loss:0.225851\n"
     ]
    },
    {
     "name": "stderr",
     "output_type": "stream",
     "text": [
      "C:\\Users\\khyeh\\Anaconda3\\lib\\site-packages\\lightgbm\\basic.py:1007: UserWarning: categorical_feature in Dataset is overrided. New categorical_feature is ['Weekday', 'category_name', 'category_name_param_1', 'category_name_param_2', 'category_name_param_3', 'category_name_region', 'city', 'image_top_1', 'param_1', 'param_2', 'param_3', 'parent_category_name', 'parent_category_name_category_name', 'parent_category_name_param_1', 'parent_category_name_param_2', 'parent_category_name_param_3', 'price_binned', 'region', 'region_city', 'user_type']\n",
      "  warnings.warn('categorical_feature in Dataset is overrided. New categorical_feature is {}'.format(sorted(list(categorical_feature))))\n"
     ]
    },
    {
     "name": "stdout",
     "output_type": "stream",
     "text": [
      "Training until validation scores don't improve for 200 rounds.\n",
      "[100]\ttrain's rmse: 0.222841\tvalid's rmse: 0.225984\n",
      "{'reg_lambda': 0.3}\n",
      "loss:0.225976\n"
     ]
    },
    {
     "name": "stderr",
     "output_type": "stream",
     "text": [
      "C:\\Users\\khyeh\\Anaconda3\\lib\\site-packages\\lightgbm\\basic.py:1007: UserWarning: categorical_feature in Dataset is overrided. New categorical_feature is ['Weekday', 'category_name', 'category_name_param_1', 'category_name_param_2', 'category_name_param_3', 'category_name_region', 'city', 'image_top_1', 'param_1', 'param_2', 'param_3', 'parent_category_name', 'parent_category_name_category_name', 'parent_category_name_param_1', 'parent_category_name_param_2', 'parent_category_name_param_3', 'price_binned', 'region', 'region_city', 'user_type']\n",
      "  warnings.warn('categorical_feature in Dataset is overrided. New categorical_feature is {}'.format(sorted(list(categorical_feature))))\n"
     ]
    },
    {
     "name": "stdout",
     "output_type": "stream",
     "text": [
      "Training until validation scores don't improve for 200 rounds.\n",
      "[100]\ttrain's rmse: 0.222917\tvalid's rmse: 0.225993\n",
      "{'reg_lambda': 0.4}\n",
      "loss:0.225986\n"
     ]
    },
    {
     "name": "stderr",
     "output_type": "stream",
     "text": [
      "C:\\Users\\khyeh\\Anaconda3\\lib\\site-packages\\lightgbm\\basic.py:1007: UserWarning: categorical_feature in Dataset is overrided. New categorical_feature is ['Weekday', 'category_name', 'category_name_param_1', 'category_name_param_2', 'category_name_param_3', 'category_name_region', 'city', 'image_top_1', 'param_1', 'param_2', 'param_3', 'parent_category_name', 'parent_category_name_category_name', 'parent_category_name_param_1', 'parent_category_name_param_2', 'parent_category_name_param_3', 'price_binned', 'region', 'region_city', 'user_type']\n",
      "  warnings.warn('categorical_feature in Dataset is overrided. New categorical_feature is {}'.format(sorted(list(categorical_feature))))\n"
     ]
    },
    {
     "name": "stdout",
     "output_type": "stream",
     "text": [
      "Training until validation scores don't improve for 200 rounds.\n",
      "[100]\ttrain's rmse: 0.222913\tvalid's rmse: 0.225936\n",
      "{'reg_lambda': 0.5}\n",
      "loss:0.225927\n"
     ]
    },
    {
     "name": "stderr",
     "output_type": "stream",
     "text": [
      "C:\\Users\\khyeh\\Anaconda3\\lib\\site-packages\\lightgbm\\basic.py:1007: UserWarning: categorical_feature in Dataset is overrided. New categorical_feature is ['Weekday', 'category_name', 'category_name_param_1', 'category_name_param_2', 'category_name_param_3', 'category_name_region', 'city', 'image_top_1', 'param_1', 'param_2', 'param_3', 'parent_category_name', 'parent_category_name_category_name', 'parent_category_name_param_1', 'parent_category_name_param_2', 'parent_category_name_param_3', 'price_binned', 'region', 'region_city', 'user_type']\n",
      "  warnings.warn('categorical_feature in Dataset is overrided. New categorical_feature is {}'.format(sorted(list(categorical_feature))))\n"
     ]
    },
    {
     "name": "stdout",
     "output_type": "stream",
     "text": [
      "Training until validation scores don't improve for 200 rounds.\n",
      "[100]\ttrain's rmse: 0.222998\tvalid's rmse: 0.226105\n",
      "{'reg_lambda': 0.6}\n",
      "loss:0.226097\n"
     ]
    },
    {
     "name": "stderr",
     "output_type": "stream",
     "text": [
      "C:\\Users\\khyeh\\Anaconda3\\lib\\site-packages\\lightgbm\\basic.py:1007: UserWarning: categorical_feature in Dataset is overrided. New categorical_feature is ['Weekday', 'category_name', 'category_name_param_1', 'category_name_param_2', 'category_name_param_3', 'category_name_region', 'city', 'image_top_1', 'param_1', 'param_2', 'param_3', 'parent_category_name', 'parent_category_name_category_name', 'parent_category_name_param_1', 'parent_category_name_param_2', 'parent_category_name_param_3', 'price_binned', 'region', 'region_city', 'user_type']\n",
      "  warnings.warn('categorical_feature in Dataset is overrided. New categorical_feature is {}'.format(sorted(list(categorical_feature))))\n"
     ]
    },
    {
     "name": "stdout",
     "output_type": "stream",
     "text": [
      "Training until validation scores don't improve for 200 rounds.\n",
      "[100]\ttrain's rmse: 0.222831\tvalid's rmse: 0.225954\n",
      "{'reg_lambda': 0.7}\n",
      "loss:0.225946\n"
     ]
    },
    {
     "name": "stderr",
     "output_type": "stream",
     "text": [
      "C:\\Users\\khyeh\\Anaconda3\\lib\\site-packages\\lightgbm\\basic.py:1007: UserWarning: categorical_feature in Dataset is overrided. New categorical_feature is ['Weekday', 'category_name', 'category_name_param_1', 'category_name_param_2', 'category_name_param_3', 'category_name_region', 'city', 'image_top_1', 'param_1', 'param_2', 'param_3', 'parent_category_name', 'parent_category_name_category_name', 'parent_category_name_param_1', 'parent_category_name_param_2', 'parent_category_name_param_3', 'price_binned', 'region', 'region_city', 'user_type']\n",
      "  warnings.warn('categorical_feature in Dataset is overrided. New categorical_feature is {}'.format(sorted(list(categorical_feature))))\n"
     ]
    },
    {
     "name": "stdout",
     "output_type": "stream",
     "text": [
      "Training until validation scores don't improve for 200 rounds.\n",
      "[100]\ttrain's rmse: 0.222954\tvalid's rmse: 0.226073\n",
      "{'reg_lambda': 0.8}\n",
      "loss:0.226066\n"
     ]
    },
    {
     "name": "stderr",
     "output_type": "stream",
     "text": [
      "C:\\Users\\khyeh\\Anaconda3\\lib\\site-packages\\lightgbm\\basic.py:1007: UserWarning: categorical_feature in Dataset is overrided. New categorical_feature is ['Weekday', 'category_name', 'category_name_param_1', 'category_name_param_2', 'category_name_param_3', 'category_name_region', 'city', 'image_top_1', 'param_1', 'param_2', 'param_3', 'parent_category_name', 'parent_category_name_category_name', 'parent_category_name_param_1', 'parent_category_name_param_2', 'parent_category_name_param_3', 'price_binned', 'region', 'region_city', 'user_type']\n",
      "  warnings.warn('categorical_feature in Dataset is overrided. New categorical_feature is {}'.format(sorted(list(categorical_feature))))\n"
     ]
    },
    {
     "name": "stdout",
     "output_type": "stream",
     "text": [
      "Training until validation scores don't improve for 200 rounds.\n",
      "[100]\ttrain's rmse: 0.222904\tvalid's rmse: 0.226014\n",
      "{'reg_lambda': 0.9}\n",
      "loss:0.226007\n"
     ]
    },
    {
     "name": "stderr",
     "output_type": "stream",
     "text": [
      "C:\\Users\\khyeh\\Anaconda3\\lib\\site-packages\\lightgbm\\basic.py:1007: UserWarning: categorical_feature in Dataset is overrided. New categorical_feature is ['Weekday', 'category_name', 'category_name_param_1', 'category_name_param_2', 'category_name_param_3', 'category_name_region', 'city', 'image_top_1', 'param_1', 'param_2', 'param_3', 'parent_category_name', 'parent_category_name_category_name', 'parent_category_name_param_1', 'parent_category_name_param_2', 'parent_category_name_param_3', 'price_binned', 'region', 'region_city', 'user_type']\n",
      "  warnings.warn('categorical_feature in Dataset is overrided. New categorical_feature is {}'.format(sorted(list(categorical_feature))))\n"
     ]
    },
    {
     "name": "stdout",
     "output_type": "stream",
     "text": [
      "Training until validation scores don't improve for 200 rounds.\n",
      "[100]\ttrain's rmse: 0.222829\tvalid's rmse: 0.225917\n",
      "{'reg_lambda': 1.0}\n",
      "loss:0.225906\n",
      "Best params: {'reg_lambda': 0.2} \n",
      " best loss: 0.225851327327\n"
     ]
    }
   ],
   "source": [
    "default_params = {\n",
    "    'boosting_type':'gbdt', \n",
    "    'num_leaves':31, \n",
    "    'max_depth':5, \n",
    "    'learning_rate':0.1, \n",
    "    'n_estimators':100, \n",
    "    'min_split_gain':0.4, \n",
    "    'min_child_weight':0.001, \n",
    "    'min_child_samples':20, \n",
    "    'subsample':0.95, \n",
    "    'subsample_freq':1, \n",
    "    'colsample_bytree':0.85, \n",
    "    'reg_alpha':0.0, \n",
    "    'reg_lambda':0.0, \n",
    "    'random_state':719, \n",
    "    'n_job': 4\n",
    "}\n",
    "\n",
    "try_params = \\\n",
    "[\n",
    "    {\n",
    "        'reg_lambda':[i/10.0 for i in range(0,11,1)]\n",
    "    }\n",
    "]\n",
    "fit_params(default_params, try_params, tr_X, tr_y, val_X, val_y)"
   ]
  },
  {
   "cell_type": "code",
   "execution_count": 28,
   "metadata": {
    "collapsed": true
   },
   "outputs": [
    {
     "name": "stderr",
     "output_type": "stream",
     "text": [
      "C:\\Users\\khyeh\\Anaconda3\\lib\\site-packages\\lightgbm\\basic.py:1007: UserWarning: categorical_feature in Dataset is overrided. New categorical_feature is ['Weekday', 'category_name', 'category_name_param_1', 'category_name_param_2', 'category_name_param_3', 'category_name_region', 'city', 'image_top_1', 'param_1', 'param_2', 'param_3', 'parent_category_name', 'parent_category_name_category_name', 'parent_category_name_param_1', 'parent_category_name_param_2', 'parent_category_name_param_3', 'price_binned', 'region', 'region_city', 'user_type']\n",
      "  warnings.warn('categorical_feature in Dataset is overrided. New categorical_feature is {}'.format(sorted(list(categorical_feature))))\n"
     ]
    },
    {
     "name": "stdout",
     "output_type": "stream",
     "text": [
      "Training until validation scores don't improve for 200 rounds.\n",
      "[100]\ttrain's rmse: 0.222847\tvalid's rmse: 0.225936\n",
      "{'reg_alpha': 0.0, 'reg_lambda': 0.15}\n",
      "loss:0.225926\n"
     ]
    },
    {
     "name": "stderr",
     "output_type": "stream",
     "text": [
      "C:\\Users\\khyeh\\Anaconda3\\lib\\site-packages\\lightgbm\\basic.py:1007: UserWarning: categorical_feature in Dataset is overrided. New categorical_feature is ['Weekday', 'category_name', 'category_name_param_1', 'category_name_param_2', 'category_name_param_3', 'category_name_region', 'city', 'image_top_1', 'param_1', 'param_2', 'param_3', 'parent_category_name', 'parent_category_name_category_name', 'parent_category_name_param_1', 'parent_category_name_param_2', 'parent_category_name_param_3', 'price_binned', 'region', 'region_city', 'user_type']\n",
      "  warnings.warn('categorical_feature in Dataset is overrided. New categorical_feature is {}'.format(sorted(list(categorical_feature))))\n"
     ]
    },
    {
     "name": "stdout",
     "output_type": "stream",
     "text": [
      "Training until validation scores don't improve for 200 rounds.\n",
      "[100]\ttrain's rmse: 0.222786\tvalid's rmse: 0.225861\n",
      "{'reg_alpha': 0.0, 'reg_lambda': 0.2}\n",
      "loss:0.225851\n"
     ]
    },
    {
     "name": "stderr",
     "output_type": "stream",
     "text": [
      "C:\\Users\\khyeh\\Anaconda3\\lib\\site-packages\\lightgbm\\basic.py:1007: UserWarning: categorical_feature in Dataset is overrided. New categorical_feature is ['Weekday', 'category_name', 'category_name_param_1', 'category_name_param_2', 'category_name_param_3', 'category_name_region', 'city', 'image_top_1', 'param_1', 'param_2', 'param_3', 'parent_category_name', 'parent_category_name_category_name', 'parent_category_name_param_1', 'parent_category_name_param_2', 'parent_category_name_param_3', 'price_binned', 'region', 'region_city', 'user_type']\n",
      "  warnings.warn('categorical_feature in Dataset is overrided. New categorical_feature is {}'.format(sorted(list(categorical_feature))))\n"
     ]
    },
    {
     "name": "stdout",
     "output_type": "stream",
     "text": [
      "Training until validation scores don't improve for 200 rounds.\n",
      "[100]\ttrain's rmse: 0.222783\tvalid's rmse: 0.225914\n",
      "{'reg_alpha': 0.0, 'reg_lambda': 0.25}\n",
      "loss:0.225906\n"
     ]
    },
    {
     "name": "stderr",
     "output_type": "stream",
     "text": [
      "C:\\Users\\khyeh\\Anaconda3\\lib\\site-packages\\lightgbm\\basic.py:1007: UserWarning: categorical_feature in Dataset is overrided. New categorical_feature is ['Weekday', 'category_name', 'category_name_param_1', 'category_name_param_2', 'category_name_param_3', 'category_name_region', 'city', 'image_top_1', 'param_1', 'param_2', 'param_3', 'parent_category_name', 'parent_category_name_category_name', 'parent_category_name_param_1', 'parent_category_name_param_2', 'parent_category_name_param_3', 'price_binned', 'region', 'region_city', 'user_type']\n",
      "  warnings.warn('categorical_feature in Dataset is overrided. New categorical_feature is {}'.format(sorted(list(categorical_feature))))\n"
     ]
    },
    {
     "name": "stdout",
     "output_type": "stream",
     "text": [
      "Training until validation scores don't improve for 200 rounds.\n",
      "[100]\ttrain's rmse: 0.22281\tvalid's rmse: 0.225968\n",
      "{'reg_alpha': 0.05, 'reg_lambda': 0.15}\n",
      "loss:0.225960\n"
     ]
    },
    {
     "name": "stderr",
     "output_type": "stream",
     "text": [
      "C:\\Users\\khyeh\\Anaconda3\\lib\\site-packages\\lightgbm\\basic.py:1007: UserWarning: categorical_feature in Dataset is overrided. New categorical_feature is ['Weekday', 'category_name', 'category_name_param_1', 'category_name_param_2', 'category_name_param_3', 'category_name_region', 'city', 'image_top_1', 'param_1', 'param_2', 'param_3', 'parent_category_name', 'parent_category_name_category_name', 'parent_category_name_param_1', 'parent_category_name_param_2', 'parent_category_name_param_3', 'price_binned', 'region', 'region_city', 'user_type']\n",
      "  warnings.warn('categorical_feature in Dataset is overrided. New categorical_feature is {}'.format(sorted(list(categorical_feature))))\n"
     ]
    },
    {
     "name": "stdout",
     "output_type": "stream",
     "text": [
      "Training until validation scores don't improve for 200 rounds.\n",
      "[100]\ttrain's rmse: 0.223099\tvalid's rmse: 0.226121\n",
      "{'reg_alpha': 0.05, 'reg_lambda': 0.2}\n",
      "loss:0.226113\n"
     ]
    },
    {
     "name": "stderr",
     "output_type": "stream",
     "text": [
      "C:\\Users\\khyeh\\Anaconda3\\lib\\site-packages\\lightgbm\\basic.py:1007: UserWarning: categorical_feature in Dataset is overrided. New categorical_feature is ['Weekday', 'category_name', 'category_name_param_1', 'category_name_param_2', 'category_name_param_3', 'category_name_region', 'city', 'image_top_1', 'param_1', 'param_2', 'param_3', 'parent_category_name', 'parent_category_name_category_name', 'parent_category_name_param_1', 'parent_category_name_param_2', 'parent_category_name_param_3', 'price_binned', 'region', 'region_city', 'user_type']\n",
      "  warnings.warn('categorical_feature in Dataset is overrided. New categorical_feature is {}'.format(sorted(list(categorical_feature))))\n"
     ]
    },
    {
     "name": "stdout",
     "output_type": "stream",
     "text": [
      "Training until validation scores don't improve for 200 rounds.\n",
      "[100]\ttrain's rmse: 0.222801\tvalid's rmse: 0.225919\n",
      "{'reg_alpha': 0.05, 'reg_lambda': 0.25}\n",
      "loss:0.225911\n",
      "Best params: {'reg_alpha': 0.0, 'reg_lambda': 0.2} \n",
      " best loss: 0.225851327327\n"
     ]
    }
   ],
   "source": [
    "default_params = {\n",
    "    'boosting_type':'gbdt', \n",
    "    'num_leaves':31, \n",
    "    'max_depth':5, \n",
    "    'learning_rate':0.1, \n",
    "    'n_estimators':100, \n",
    "    'min_split_gain':0.4, \n",
    "    'min_child_weight':0.001, \n",
    "    'min_child_samples':20, \n",
    "    'subsample':0.95, \n",
    "    'subsample_freq':1, \n",
    "    'colsample_bytree':0.85, \n",
    "    'reg_alpha':0.0, \n",
    "    'reg_lambda':0.0, \n",
    "    'random_state':719, \n",
    "    'n_job': 4\n",
    "}\n",
    "\n",
    "try_params = \\\n",
    "[\n",
    "    {\n",
    "        'reg_alpha':[0.0, 0.05],\n",
    "        'reg_lambda':[0.15, 0.2, 0.25]\n",
    "    }\n",
    "]\n",
    "fit_params(default_params, try_params, tr_X, tr_y, val_X, val_y)"
   ]
  },
  {
   "cell_type": "code",
   "execution_count": 25,
   "metadata": {
    "scrolled": true
   },
   "outputs": [
    {
     "name": "stderr",
     "output_type": "stream",
     "text": [
      "C:\\Users\\khyeh\\Anaconda3\\lib\\site-packages\\lightgbm\\basic.py:1007: UserWarning: categorical_feature in Dataset is overrided. New categorical_feature is ['Weekday', 'category_name', 'category_name_param_1', 'category_name_param_2', 'category_name_param_3', 'category_name_region', 'city', 'image_top_1', 'param_1', 'param_2', 'param_3', 'parent_category_name', 'parent_category_name_category_name', 'parent_category_name_param_1', 'parent_category_name_param_2', 'parent_category_name_param_3', 'price_binned', 'region', 'region_city', 'user_type']\n",
      "  warnings.warn('categorical_feature in Dataset is overrided. New categorical_feature is {}'.format(sorted(list(categorical_feature))))\n"
     ]
    },
    {
     "name": "stdout",
     "output_type": "stream",
     "text": [
      "Training until validation scores don't improve for 500 rounds.\n",
      "[100]\ttrain's rmse: 0.226868\tvalid's rmse: 0.228464\n",
      "[200]\ttrain's rmse: 0.222591\tvalid's rmse: 0.225404\n",
      "[300]\ttrain's rmse: 0.22017\tvalid's rmse: 0.224001\n",
      "[400]\ttrain's rmse: 0.218508\tvalid's rmse: 0.223168\n",
      "[500]\ttrain's rmse: 0.217199\tvalid's rmse: 0.222595\n",
      "[600]\ttrain's rmse: 0.216171\tvalid's rmse: 0.222172\n",
      "[700]\ttrain's rmse: 0.215253\tvalid's rmse: 0.22185\n",
      "[800]\ttrain's rmse: 0.214445\tvalid's rmse: 0.22158\n",
      "[900]\ttrain's rmse: 0.213733\tvalid's rmse: 0.221371\n",
      "[1000]\ttrain's rmse: 0.213037\tvalid's rmse: 0.221183\n",
      "[1100]\ttrain's rmse: 0.212403\tvalid's rmse: 0.221006\n",
      "[1200]\ttrain's rmse: 0.211822\tvalid's rmse: 0.220866\n",
      "[1300]\ttrain's rmse: 0.211263\tvalid's rmse: 0.22075\n",
      "[1400]\ttrain's rmse: 0.210741\tvalid's rmse: 0.220636\n",
      "[1500]\ttrain's rmse: 0.210259\tvalid's rmse: 0.22053\n",
      "[1600]\ttrain's rmse: 0.209768\tvalid's rmse: 0.220431\n",
      "[1700]\ttrain's rmse: 0.209327\tvalid's rmse: 0.220357\n",
      "[1800]\ttrain's rmse: 0.208903\tvalid's rmse: 0.22027\n",
      "[1900]\ttrain's rmse: 0.208476\tvalid's rmse: 0.220197\n",
      "[2000]\ttrain's rmse: 0.208095\tvalid's rmse: 0.220134\n",
      "[2100]\ttrain's rmse: 0.20769\tvalid's rmse: 0.220066\n",
      "[2200]\ttrain's rmse: 0.207317\tvalid's rmse: 0.22\n",
      "[2300]\ttrain's rmse: 0.206971\tvalid's rmse: 0.219957\n",
      "[2400]\ttrain's rmse: 0.2066\tvalid's rmse: 0.21992\n",
      "[2500]\ttrain's rmse: 0.206282\tvalid's rmse: 0.219873\n",
      "[2600]\ttrain's rmse: 0.205937\tvalid's rmse: 0.219819\n",
      "[2700]\ttrain's rmse: 0.205584\tvalid's rmse: 0.219773\n",
      "[2800]\ttrain's rmse: 0.205257\tvalid's rmse: 0.219734\n",
      "[2900]\ttrain's rmse: 0.204936\tvalid's rmse: 0.219701\n",
      "[3000]\ttrain's rmse: 0.204639\tvalid's rmse: 0.21968\n",
      "[3100]\ttrain's rmse: 0.20432\tvalid's rmse: 0.219659\n",
      "[3200]\ttrain's rmse: 0.204025\tvalid's rmse: 0.219626\n",
      "[3300]\ttrain's rmse: 0.203725\tvalid's rmse: 0.2196\n",
      "[3400]\ttrain's rmse: 0.203439\tvalid's rmse: 0.219566\n",
      "[3500]\ttrain's rmse: 0.203133\tvalid's rmse: 0.219537\n",
      "[3600]\ttrain's rmse: 0.202842\tvalid's rmse: 0.219514\n",
      "[3700]\ttrain's rmse: 0.202573\tvalid's rmse: 0.219502\n",
      "[3800]\ttrain's rmse: 0.202288\tvalid's rmse: 0.219488\n",
      "[3900]\ttrain's rmse: 0.202025\tvalid's rmse: 0.219474\n",
      "[4000]\ttrain's rmse: 0.201762\tvalid's rmse: 0.219451\n",
      "[4100]\ttrain's rmse: 0.201511\tvalid's rmse: 0.219435\n",
      "[4200]\ttrain's rmse: 0.201255\tvalid's rmse: 0.219416\n",
      "[4300]\ttrain's rmse: 0.201004\tvalid's rmse: 0.219394\n",
      "[4400]\ttrain's rmse: 0.200748\tvalid's rmse: 0.219378\n",
      "[4500]\ttrain's rmse: 0.200471\tvalid's rmse: 0.219359\n",
      "[4600]\ttrain's rmse: 0.200209\tvalid's rmse: 0.219343\n",
      "[4700]\ttrain's rmse: 0.19996\tvalid's rmse: 0.21933\n",
      "[4800]\ttrain's rmse: 0.199716\tvalid's rmse: 0.219321\n",
      "[4900]\ttrain's rmse: 0.199472\tvalid's rmse: 0.219315\n",
      "[5000]\ttrain's rmse: 0.19922\tvalid's rmse: 0.219304\n",
      "[5100]\ttrain's rmse: 0.198962\tvalid's rmse: 0.219292\n",
      "[5200]\ttrain's rmse: 0.198728\tvalid's rmse: 0.219285\n",
      "[5300]\ttrain's rmse: 0.1985\tvalid's rmse: 0.219271\n",
      "[5400]\ttrain's rmse: 0.198271\tvalid's rmse: 0.219262\n",
      "[5500]\ttrain's rmse: 0.198034\tvalid's rmse: 0.219252\n",
      "[5600]\ttrain's rmse: 0.197811\tvalid's rmse: 0.219248\n",
      "[5700]\ttrain's rmse: 0.197587\tvalid's rmse: 0.219245\n",
      "[5800]\ttrain's rmse: 0.197345\tvalid's rmse: 0.219234\n",
      "[5900]\ttrain's rmse: 0.197122\tvalid's rmse: 0.219227\n",
      "[6000]\ttrain's rmse: 0.19691\tvalid's rmse: 0.219217\n",
      "[6100]\ttrain's rmse: 0.196679\tvalid's rmse: 0.219203\n",
      "[6200]\ttrain's rmse: 0.196466\tvalid's rmse: 0.219196\n",
      "[6300]\ttrain's rmse: 0.196247\tvalid's rmse: 0.219187\n",
      "[6400]\ttrain's rmse: 0.196034\tvalid's rmse: 0.21919\n",
      "[6500]\ttrain's rmse: 0.195824\tvalid's rmse: 0.219188\n",
      "[6600]\ttrain's rmse: 0.195605\tvalid's rmse: 0.219185\n",
      "[6700]\ttrain's rmse: 0.195395\tvalid's rmse: 0.219182\n",
      "[6800]\ttrain's rmse: 0.195185\tvalid's rmse: 0.219176\n",
      "[6900]\ttrain's rmse: 0.194981\tvalid's rmse: 0.219173\n",
      "[7000]\ttrain's rmse: 0.19477\tvalid's rmse: 0.219165\n",
      "[7100]\ttrain's rmse: 0.194566\tvalid's rmse: 0.219156\n",
      "[7200]\ttrain's rmse: 0.194372\tvalid's rmse: 0.219152\n",
      "[7300]\ttrain's rmse: 0.194186\tvalid's rmse: 0.21915\n",
      "[7400]\ttrain's rmse: 0.193974\tvalid's rmse: 0.219147\n",
      "[7500]\ttrain's rmse: 0.193784\tvalid's rmse: 0.219146\n",
      "[7600]\ttrain's rmse: 0.193592\tvalid's rmse: 0.219149\n",
      "[7700]\ttrain's rmse: 0.193404\tvalid's rmse: 0.21915\n",
      "[7800]\ttrain's rmse: 0.193211\tvalid's rmse: 0.219149\n",
      "[7900]\ttrain's rmse: 0.193024\tvalid's rmse: 0.219151\n",
      "Early stopping, best iteration is:\n",
      "[7464]\ttrain's rmse: 0.193852\tvalid's rmse: 0.219144\n"
     ]
    },
    {
     "data": {
      "text/plain": [
       "LGBMRegressor(boosting_type='gbdt', colsample_bytree=0.85,\n",
       "       learning_rate=0.027, max_bin=255, max_depth=15,\n",
       "       min_child_samples=20, min_child_weight=16, min_split_gain=0.2,\n",
       "       n_estimators=20000, n_job=4, n_jobs=-1, num_leaves=31,\n",
       "       objective=None, random_state=719, reg_alpha=0.0, reg_lambda=0.2,\n",
       "       silent=True, subsample=0.95, subsample_for_bin=50000,\n",
       "       subsample_freq=1)"
      ]
     },
     "execution_count": 25,
     "metadata": {},
     "output_type": "execute_result"
    }
   ],
   "source": [
    "params = {\n",
    "    'boosting_type':'gbdt', \n",
    "    'num_leaves':31, \n",
    "    'max_depth':15, \n",
    "    'learning_rate':0.027, \n",
    "    'n_estimators':20000, \n",
    "    'min_split_gain':0.2, \n",
    "    'min_child_weight':16, \n",
    "    'min_child_samples':20, \n",
    "    'subsample':0.95, \n",
    "    'subsample_freq':1, \n",
    "    'colsample_bytree':0.85, \n",
    "    'reg_alpha':0.0, \n",
    "    'reg_lambda':0.2, \n",
    "    'random_state':719, \n",
    "    'n_job': 4\n",
    "}\n",
    "\n",
    "model = lgb.LGBMRegressor(**params)\n",
    "model.fit(tr_X, tr_y, eval_set=[(tr_X, tr_y), (val_X, val_y)], eval_names=['train', 'valid'], \n",
    "          early_stopping_rounds=500, verbose=100, \n",
    "          feature_name=features, categorical_feature=list(cat_col) , eval_metric='rmse')"
   ]
  },
  {
   "cell_type": "code",
   "execution_count": 26,
   "metadata": {
    "scrolled": true
   },
   "outputs": [
    {
     "data": {
      "image/png": "[encoded data removed]",
      "text/plain": [
       "<matplotlib.figure.Figure at 0x1cd63eb8>"
      ]
     },
     "metadata": {},
     "output_type": "display_data"
    }
   ],
   "source": [
    "fig, ax = plt.subplots(figsize=(10, 14))\n",
    "lgb.plot_importance(model, max_num_features=50, ax=ax)\n",
    "plt.title(\"Light GBM Feature Importance\")\n",
    "plt.show()"
   ]
  },
  {
   "cell_type": "code",
   "execution_count": 27,
   "metadata": {
    "collapsed": true
   },
   "outputs": [],
   "source": [
    "prefix = 'lgbm_719_user_id_drop_'"
   ]
  },
  {
   "cell_type": "code",
   "execution_count": 28,
   "metadata": {
    "collapsed": true
   },
   "outputs": [],
   "source": [
    "pd.DataFrame(model.predict(val_X), columns=[prefix+'pred']).to_csv(prefix+'val_pred.csv', index=False)"
   ]
  },
  {
   "cell_type": "code",
   "execution_count": 29,
   "metadata": {},
   "outputs": [
    {
     "data": {
      "text/plain": [
       "183"
      ]
     },
     "execution_count": 29,
     "metadata": {},
     "output_type": "execute_result"
    }
   ],
   "source": [
    "del train_features, tr_X, val_X; gc.collect()"
   ]
  },
  {
   "cell_type": "code",
   "execution_count": 30,
   "metadata": {
    "collapsed": true
   },
   "outputs": [],
   "source": [
    "with open(\"all_features_dense.pickle\", 'rb') as handle:\n",
    "    comm_features = pickle.load(handle)\n",
    "    comm_features.drop(drop_cols, axis=1, inplace=True)\n",
    "    \n",
    "with open(\"TF_IDF_W_BIN_C/tf_idf_features(with_bin).pickle\", 'rb') as handle:\n",
    "    text_features = pickle.load(handle)\n",
    "    \n",
    "all_features = hstack([csr_matrix(comm_features), text_features]).tocsr()"
   ]
  },
  {
   "cell_type": "code",
   "execution_count": 31,
   "metadata": {},
   "outputs": [
    {
     "data": {
      "text/plain": [
       "199"
      ]
     },
     "execution_count": 31,
     "metadata": {},
     "output_type": "execute_result"
    }
   ],
   "source": [
    "train_len = train_y.shape[0]\n",
    "test_features = all_features[train_len:, :]\n",
    "del all_features; gc.collect()"
   ]
  },
  {
   "cell_type": "code",
   "execution_count": 32,
   "metadata": {},
   "outputs": [
    {
     "data": {
      "text/plain": [
       "508438"
      ]
     },
     "execution_count": 32,
     "metadata": {},
     "output_type": "execute_result"
    }
   ],
   "source": [
    "test_features.shape[0]"
   ]
  },
  {
   "cell_type": "code",
   "execution_count": 33,
   "metadata": {},
   "outputs": [],
   "source": [
    "test_pred = model.predict(test_features)"
   ]
  },
  {
   "cell_type": "code",
   "execution_count": 34,
   "metadata": {},
   "outputs": [],
   "source": [
    "pd.DataFrame(test_pred, columns=[prefix+'pred']).to_csv(prefix+'test_pred.csv', index=False)"
   ]
  },
  {
   "cell_type": "code",
   "execution_count": 35,
   "metadata": {
    "collapsed": true
   },
   "outputs": [],
   "source": [
    "test_df = pd.read_csv(\"data/test.csv\", usecols=['item_id'])"
   ]
  },
  {
   "cell_type": "code",
   "execution_count": 36,
   "metadata": {
    "collapsed": true
   },
   "outputs": [],
   "source": [
    "pd.DataFrame(np.clip(test_pred,0,1), \n",
    "             index=test_df.item_id,\n",
    "             columns=['deal_probability']).to_csv(prefix+'submission.csv')"
   ]
  },
  {
   "cell_type": "code",
   "execution_count": null,
   "metadata": {
    "collapsed": true
   },
   "outputs": [],
   "source": []
  },
  {
   "cell_type": "code",
   "execution_count": null,
   "metadata": {
    "collapsed": true
   },
   "outputs": [],
   "source": []
  }
 ],
 "metadata": {
  "kernelspec": {
   "display_name": "Python 3",
   "language": "python",
   "name": "python3"
  },
  "language_info": {
   "codemirror_mode": {
    "name": "ipython",
    "version": 3
   },
   "file_extension": ".py",
   "mimetype": "text/x-python",
   "name": "python",
   "nbconvert_exporter": "python",
   "pygments_lexer": "ipython3",
   "version": "3.6.2"
  }
 },
 "nbformat": 4,
 "nbformat_minor": 2
}
