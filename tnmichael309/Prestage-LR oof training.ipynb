{
 "cells": [
  {
   "cell_type": "code",
   "execution_count": 1,
   "metadata": {
    "collapsed": true
   },
   "outputs": [],
   "source": [
    "import pandas as pd\n",
    "import numpy as np\n",
    "import gc; gc.enable()\n",
    "import lightgbm as lgb\n",
    "import matplotlib.pyplot as plt\n",
    "%matplotlib inline\n",
    "import warnings \n",
    "warnings.filterwarnings('ignore')\n",
    "\n",
    "from GridSearcher import data_loader, model_loader, fit_params, get_oof_predictions, clip_rmse\n",
    "from sklearn.metrics import log_loss"
   ]
  },
  {
   "cell_type": "code",
   "execution_count": 2,
   "metadata": {
    "collapsed": true
   },
   "outputs": [],
   "source": [
    "DATA_TYPE = 'all_dense'\n",
    "IS_REGRESSION = False\n",
    "SEED = 719"
   ]
  },
  {
   "cell_type": "code",
   "execution_count": 3,
   "metadata": {},
   "outputs": [
    {
     "name": "stdout",
     "output_type": "stream",
     "text": [
      "Arguments: all_dense False True\n",
      "target loaded\n"
     ]
    }
   ],
   "source": [
    "dl = data_loader(data_type=DATA_TYPE, is_regression=IS_REGRESSION, is_train=True, is_pure=True)\n",
    "train_X, train_y = dl.load()"
   ]
  },
  {
   "cell_type": "code",
   "execution_count": 4,
   "metadata": {},
   "outputs": [
    {
     "name": "stdout",
     "output_type": "stream",
     "text": [
      "Arguments: all_dense False False\n",
      "target loaded\n"
     ]
    }
   ],
   "source": [
    "dl_test = data_loader(data_type=DATA_TYPE, is_regression=IS_REGRESSION, is_train=False, is_pure=True)\n",
    "test_X = dl_test.load()"
   ]
  },
  {
   "cell_type": "code",
   "execution_count": 5,
   "metadata": {},
   "outputs": [
    {
     "data": {
      "text/plain": [
       "(1503424, 136)"
      ]
     },
     "execution_count": 5,
     "metadata": {},
     "output_type": "execute_result"
    }
   ],
   "source": [
    "train_X.shape"
   ]
  },
  {
   "cell_type": "code",
   "execution_count": 6,
   "metadata": {
    "collapsed": true
   },
   "outputs": [],
   "source": [
    "ml = model_loader(model_type='lr')"
   ]
  },
  {
   "cell_type": "markdown",
   "metadata": {},
   "source": [
    "## Price"
   ]
  },
  {
   "cell_type": "code",
   "execution_count": 7,
   "metadata": {
    "collapsed": true
   },
   "outputs": [],
   "source": [
    "features = ['price']"
   ]
  },
  {
   "cell_type": "code",
   "execution_count": 8,
   "metadata": {
    "collapsed": true
   },
   "outputs": [
    {
     "name": "stdout",
     "output_type": "stream",
     "text": [
      "{'C': 0.2} loss:0.363391\n",
      "{'C': 0.2} loss:0.367306\n",
      "{'C': 0.2} loss:0.359279\n",
      "{'C': 0.2} loss:0.365705\n",
      "{'C': 0.2} loss:0.360436\n",
      "=================>{'C': 0.2} loss:0.363223\n",
      "{'C': 0.4} loss:0.363391\n",
      "{'C': 0.4} loss:0.367306\n",
      "{'C': 0.4} loss:0.359279\n",
      "{'C': 0.4} loss:0.365705\n",
      "{'C': 0.4} loss:0.360436\n",
      "=================>{'C': 0.4} loss:0.363223\n",
      "{'C': 0.6} loss:0.363391\n",
      "{'C': 0.6} loss:0.367306\n",
      "{'C': 0.6} loss:0.359279\n",
      "{'C': 0.6} loss:0.365705\n",
      "{'C': 0.6} loss:0.360436\n",
      "=================>{'C': 0.6} loss:0.363223\n",
      "{'C': 0.8} loss:0.363391\n",
      "{'C': 0.8} loss:0.367306\n",
      "{'C': 0.8} loss:0.359279\n",
      "{'C': 0.8} loss:0.365705\n",
      "{'C': 0.8} loss:0.360436\n",
      "=================>{'C': 0.8} loss:0.363223\n",
      "{'C': 1.0} loss:0.363391\n",
      "{'C': 1.0} loss:0.367306\n",
      "{'C': 1.0} loss:0.359279\n",
      "{'C': 1.0} loss:0.365705\n",
      "{'C': 1.0} loss:0.360436\n",
      "=================>{'C': 1.0} loss:0.363223\n",
      "Best params: {'C': 0.2} \tbest loss: 0.363223450627\n"
     ]
    },
    {
     "data": {
      "text/html": [
       "<div>\n",
       "<style scoped>\n",
       "    .dataframe tbody tr th:only-of-type {\n",
       "        vertical-align: middle;\n",
       "    }\n",
       "\n",
       "    .dataframe tbody tr th {\n",
       "        vertical-align: top;\n",
       "    }\n",
       "\n",
       "    .dataframe thead th {\n",
       "        text-align: right;\n",
       "    }\n",
       "</style>\n",
       "<table border=\"1\" class=\"dataframe\">\n",
       "  <thead>\n",
       "    <tr style=\"text-align: right;\">\n",
       "      <th></th>\n",
       "      <th>param</th>\n",
       "      <th>val_loss_mean</th>\n",
       "      <th>val_loss_std</th>\n",
       "    </tr>\n",
       "  </thead>\n",
       "  <tbody>\n",
       "    <tr>\n",
       "      <th>0</th>\n",
       "      <td>{'C': 0.2}</td>\n",
       "      <td>0.363223</td>\n",
       "      <td>0.003039</td>\n",
       "    </tr>\n",
       "    <tr>\n",
       "      <th>1</th>\n",
       "      <td>{'C': 0.4}</td>\n",
       "      <td>0.363223</td>\n",
       "      <td>0.003039</td>\n",
       "    </tr>\n",
       "    <tr>\n",
       "      <th>2</th>\n",
       "      <td>{'C': 0.6}</td>\n",
       "      <td>0.363223</td>\n",
       "      <td>0.003039</td>\n",
       "    </tr>\n",
       "    <tr>\n",
       "      <th>3</th>\n",
       "      <td>{'C': 0.8}</td>\n",
       "      <td>0.363223</td>\n",
       "      <td>0.003039</td>\n",
       "    </tr>\n",
       "    <tr>\n",
       "      <th>4</th>\n",
       "      <td>{'C': 1.0}</td>\n",
       "      <td>0.363223</td>\n",
       "      <td>0.003039</td>\n",
       "    </tr>\n",
       "  </tbody>\n",
       "</table>\n",
       "</div>"
      ],
      "text/plain": [
       "        param  val_loss_mean  val_loss_std\n",
       "0  {'C': 0.2}       0.363223      0.003039\n",
       "1  {'C': 0.4}       0.363223      0.003039\n",
       "2  {'C': 0.6}       0.363223      0.003039\n",
       "3  {'C': 0.8}       0.363223      0.003039\n",
       "4  {'C': 1.0}       0.363223      0.003039"
      ]
     },
     "execution_count": 8,
     "metadata": {},
     "output_type": "execute_result"
    }
   ],
   "source": [
    "default_params = {\n",
    "    'C': 1.0,\n",
    "    'penalty': 'l2', \n",
    "    'random_state': SEED\n",
    "}\n",
    "\n",
    "try_params = \\\n",
    "[\n",
    "    {\n",
    "        'C': [0.2, 0.4, 0.6, 0.8, 1.],\n",
    "    }\n",
    "]\n",
    "\n",
    "fit_params(train_X[features], train_y, ml, default_params, try_params, fit_params=None, seed=SEED,\n",
    "           loss_func=log_loss, predict_proba=True)"
   ]
  },
  {
   "cell_type": "code",
   "execution_count": 9,
   "metadata": {
    "collapsed": true
   },
   "outputs": [
    {
     "name": "stdout",
     "output_type": "stream",
     "text": [
      "Fold 1 completed.\n",
      "Fold 2 completed.\n",
      "Fold 3 completed.\n",
      "Fold 4 completed.\n",
      "Fold 5 completed.\n"
     ]
    }
   ],
   "source": [
    "default_params = {\n",
    "    'C': 1.0,\n",
    "    'penalty': 'l2', \n",
    "    'random_state': SEED\n",
    "}\n",
    "\n",
    "rg_oof_val_pred, rg_oof_test_pred, models = get_oof_predictions(train_X[features], train_y, test_X[features], ml, \n",
    "                                                                  default_params, seed=SEED, fit_params=None, \n",
    "                                                                  use_eval_set=False, predict_proba=True)\n",
    "\n",
    "pd.DataFrame(data=rg_oof_val_pred, columns=['price_lr_pred']).to_csv('price_lr_oof_val_pred.csv', index=False)\n",
    "pd.DataFrame(data=rg_oof_test_pred, columns=['price_lr_pred']).to_csv('price_lr_oof_test_pred.csv', index=False)"
   ]
  },
  {
   "cell_type": "markdown",
   "metadata": {},
   "source": [
    "## Item Seq Number"
   ]
  },
  {
   "cell_type": "code",
   "execution_count": 10,
   "metadata": {
    "collapsed": true
   },
   "outputs": [],
   "source": [
    "features = ['item_seq_number']"
   ]
  },
  {
   "cell_type": "code",
   "execution_count": 13,
   "metadata": {
    "collapsed": true
   },
   "outputs": [
    {
     "name": "stdout",
     "output_type": "stream",
     "text": [
      "{'C': 0.2} loss:0.360218\n",
      "{'C': 0.2} loss:0.365641\n",
      "{'C': 0.2} loss:0.356197\n",
      "{'C': 0.2} loss:0.363266\n",
      "{'C': 0.2} loss:0.358284\n",
      "=================>{'C': 0.2} loss:0.360721\n",
      "{'C': 0.4} loss:0.360217\n",
      "{'C': 0.4} loss:0.365642\n",
      "{'C': 0.4} loss:0.356196\n",
      "{'C': 0.4} loss:0.363266\n",
      "{'C': 0.4} loss:0.358285\n",
      "=================>{'C': 0.4} loss:0.360721\n",
      "{'C': 0.6} loss:0.360217\n",
      "{'C': 0.6} loss:0.365642\n",
      "{'C': 0.6} loss:0.356196\n",
      "{'C': 0.6} loss:0.363266\n",
      "{'C': 0.6} loss:0.358285\n",
      "=================>{'C': 0.6} loss:0.360721\n",
      "{'C': 0.8} loss:0.360217\n",
      "{'C': 0.8} loss:0.365642\n",
      "{'C': 0.8} loss:0.356196\n",
      "{'C': 0.8} loss:0.363266\n",
      "{'C': 0.8} loss:0.358285\n",
      "=================>{'C': 0.8} loss:0.360721\n",
      "{'C': 1.0} loss:0.360217\n",
      "{'C': 1.0} loss:0.365642\n",
      "{'C': 1.0} loss:0.356196\n",
      "{'C': 1.0} loss:0.363266\n",
      "{'C': 1.0} loss:0.358285\n",
      "=================>{'C': 1.0} loss:0.360721\n",
      "{'C': 10.0} loss:0.360217\n",
      "{'C': 10.0} loss:0.365642\n",
      "{'C': 10.0} loss:0.356196\n",
      "{'C': 10.0} loss:0.363266\n",
      "{'C': 10.0} loss:0.358285\n",
      "=================>{'C': 10.0} loss:0.360721\n",
      "Best params: {'C': 0.2} \tbest loss: 0.36072111963\n"
     ]
    },
    {
     "data": {
      "text/html": [
       "<div>\n",
       "<style scoped>\n",
       "    .dataframe tbody tr th:only-of-type {\n",
       "        vertical-align: middle;\n",
       "    }\n",
       "\n",
       "    .dataframe tbody tr th {\n",
       "        vertical-align: top;\n",
       "    }\n",
       "\n",
       "    .dataframe thead th {\n",
       "        text-align: right;\n",
       "    }\n",
       "</style>\n",
       "<table border=\"1\" class=\"dataframe\">\n",
       "  <thead>\n",
       "    <tr style=\"text-align: right;\">\n",
       "      <th></th>\n",
       "      <th>param</th>\n",
       "      <th>val_loss_mean</th>\n",
       "      <th>val_loss_std</th>\n",
       "    </tr>\n",
       "  </thead>\n",
       "  <tbody>\n",
       "    <tr>\n",
       "      <th>0</th>\n",
       "      <td>{'C': 0.2}</td>\n",
       "      <td>0.360721</td>\n",
       "      <td>0.003386</td>\n",
       "    </tr>\n",
       "    <tr>\n",
       "      <th>1</th>\n",
       "      <td>{'C': 0.4}</td>\n",
       "      <td>0.360721</td>\n",
       "      <td>0.003387</td>\n",
       "    </tr>\n",
       "    <tr>\n",
       "      <th>2</th>\n",
       "      <td>{'C': 0.6}</td>\n",
       "      <td>0.360721</td>\n",
       "      <td>0.003387</td>\n",
       "    </tr>\n",
       "    <tr>\n",
       "      <th>3</th>\n",
       "      <td>{'C': 0.8}</td>\n",
       "      <td>0.360721</td>\n",
       "      <td>0.003387</td>\n",
       "    </tr>\n",
       "    <tr>\n",
       "      <th>4</th>\n",
       "      <td>{'C': 1.0}</td>\n",
       "      <td>0.360721</td>\n",
       "      <td>0.003387</td>\n",
       "    </tr>\n",
       "    <tr>\n",
       "      <th>5</th>\n",
       "      <td>{'C': 10.0}</td>\n",
       "      <td>0.360721</td>\n",
       "      <td>0.003387</td>\n",
       "    </tr>\n",
       "  </tbody>\n",
       "</table>\n",
       "</div>"
      ],
      "text/plain": [
       "         param  val_loss_mean  val_loss_std\n",
       "0   {'C': 0.2}       0.360721      0.003386\n",
       "1   {'C': 0.4}       0.360721      0.003387\n",
       "2   {'C': 0.6}       0.360721      0.003387\n",
       "3   {'C': 0.8}       0.360721      0.003387\n",
       "4   {'C': 1.0}       0.360721      0.003387\n",
       "5  {'C': 10.0}       0.360721      0.003387"
      ]
     },
     "execution_count": 13,
     "metadata": {},
     "output_type": "execute_result"
    }
   ],
   "source": [
    "default_params = {\n",
    "    'C': 1.0,\n",
    "    'penalty': 'l2', \n",
    "    'random_state': SEED\n",
    "}\n",
    "\n",
    "try_params = \\\n",
    "[\n",
    "    {\n",
    "        'C': [0.2, 0.4, 0.6, 0.8, 1., 10.],\n",
    "    }\n",
    "]\n",
    "\n",
    "fit_params(train_X[features], train_y, ml, default_params, try_params, fit_params=None, seed=SEED,\n",
    "           loss_func=log_loss, predict_proba=True)"
   ]
  },
  {
   "cell_type": "code",
   "execution_count": 14,
   "metadata": {
    "collapsed": true
   },
   "outputs": [
    {
     "name": "stdout",
     "output_type": "stream",
     "text": [
      "Fold 1 completed.\n",
      "Fold 2 completed.\n",
      "Fold 3 completed.\n",
      "Fold 4 completed.\n",
      "Fold 5 completed.\n"
     ]
    }
   ],
   "source": [
    "default_params = {\n",
    "    'C': 1.0,\n",
    "    'penalty': 'l2', \n",
    "    'random_state': SEED\n",
    "}\n",
    "\n",
    "rg_oof_val_pred, rg_oof_test_pred, models = get_oof_predictions(train_X[features], train_y, test_X[features], ml, \n",
    "                                                                  default_params, seed=SEED, fit_params=None, \n",
    "                                                                  use_eval_set=False, predict_proba=True)\n",
    "\n",
    "pd.DataFrame(data=rg_oof_val_pred, columns=['seqno_lr_pred']).to_csv('seqno_lr_oof_val_pred.csv', index=False)\n",
    "pd.DataFrame(data=rg_oof_test_pred, columns=['seqno_lr_pred']).to_csv('seqno_lr_oof_test_pred.csv', index=False)"
   ]
  },
  {
   "cell_type": "markdown",
   "metadata": {},
   "source": [
    "## image_top_1"
   ]
  },
  {
   "cell_type": "code",
   "execution_count": 7,
   "metadata": {
    "collapsed": true
   },
   "outputs": [],
   "source": [
    "features = ['image_top_1']"
   ]
  },
  {
   "cell_type": "code",
   "execution_count": 8,
   "metadata": {
    "collapsed": true
   },
   "outputs": [],
   "source": [
    "from sklearn.preprocessing import OneHotEncoder"
   ]
  },
  {
   "cell_type": "code",
   "execution_count": 9,
   "metadata": {},
   "outputs": [
    {
     "data": {
      "text/plain": [
       "OneHotEncoder(categorical_features='all', dtype=<class 'numpy.float64'>,\n",
       "       handle_unknown='error', n_values='auto', sparse=True)"
      ]
     },
     "execution_count": 9,
     "metadata": {},
     "output_type": "execute_result"
    }
   ],
   "source": [
    "ohe = OneHotEncoder()\n",
    "ohe.fit(train_X[features])"
   ]
  },
  {
   "cell_type": "code",
   "execution_count": 10,
   "metadata": {
    "collapsed": true
   },
   "outputs": [],
   "source": [
    "train_img_top1_feature = ohe.transform(train_X[features])\n",
    "test_img_top1_feature = ohe.transform(test_X[features])"
   ]
  },
  {
   "cell_type": "code",
   "execution_count": 19,
   "metadata": {
    "collapsed": true
   },
   "outputs": [
    {
     "name": "stdout",
     "output_type": "stream",
     "text": [
      "{'C': 0.2} loss:0.327085\n",
      "{'C': 0.2} loss:0.327159\n",
      "{'C': 0.2} loss:0.322708\n",
      "{'C': 0.2} loss:0.327291\n",
      "{'C': 0.2} loss:0.323263\n",
      "=================>{'C': 0.2} loss:0.325501\n",
      "{'C': 0.4} loss:0.326984\n",
      "{'C': 0.4} loss:0.326898\n",
      "{'C': 0.4} loss:0.322487\n",
      "{'C': 0.4} loss:0.327109\n",
      "{'C': 0.4} loss:0.323074\n",
      "=================>{'C': 0.4} loss:0.325310\n",
      "{'C': 0.6} loss:0.327010\n",
      "{'C': 0.6} loss:0.326863\n",
      "{'C': 0.6} loss:0.322459\n",
      "{'C': 0.6} loss:0.327105\n",
      "{'C': 0.6} loss:0.323066\n",
      "=================>{'C': 0.6} loss:0.325300\n",
      "{'C': 0.8} loss:0.327048\n",
      "{'C': 0.8} loss:0.326865\n",
      "{'C': 0.8} loss:0.322462\n",
      "{'C': 0.8} loss:0.327127\n",
      "{'C': 0.8} loss:0.323084\n",
      "=================>{'C': 0.8} loss:0.325317\n",
      "{'C': 1.0} loss:0.327083\n",
      "{'C': 1.0} loss:0.326878\n",
      "{'C': 1.0} loss:0.322474\n",
      "{'C': 1.0} loss:0.327153\n",
      "{'C': 1.0} loss:0.323107\n",
      "=================>{'C': 1.0} loss:0.325339\n",
      "{'C': 10.0} loss:0.327428\n",
      "{'C': 10.0} loss:0.327104\n",
      "{'C': 10.0} loss:0.322691\n",
      "{'C': 10.0} loss:0.327475\n",
      "{'C': 10.0} loss:0.323409\n",
      "=================>{'C': 10.0} loss:0.325621\n",
      "Best params: {'C': 0.6} \tbest loss: 0.325300420234\n"
     ]
    },
    {
     "data": {
      "text/html": [
       "<div>\n",
       "<style scoped>\n",
       "    .dataframe tbody tr th:only-of-type {\n",
       "        vertical-align: middle;\n",
       "    }\n",
       "\n",
       "    .dataframe tbody tr th {\n",
       "        vertical-align: top;\n",
       "    }\n",
       "\n",
       "    .dataframe thead th {\n",
       "        text-align: right;\n",
       "    }\n",
       "</style>\n",
       "<table border=\"1\" class=\"dataframe\">\n",
       "  <thead>\n",
       "    <tr style=\"text-align: right;\">\n",
       "      <th></th>\n",
       "      <th>param</th>\n",
       "      <th>val_loss_mean</th>\n",
       "      <th>val_loss_std</th>\n",
       "    </tr>\n",
       "  </thead>\n",
       "  <tbody>\n",
       "    <tr>\n",
       "      <th>0</th>\n",
       "      <td>{'C': 0.2}</td>\n",
       "      <td>0.325501</td>\n",
       "      <td>0.002062</td>\n",
       "    </tr>\n",
       "    <tr>\n",
       "      <th>1</th>\n",
       "      <td>{'C': 0.4}</td>\n",
       "      <td>0.325310</td>\n",
       "      <td>0.002075</td>\n",
       "    </tr>\n",
       "    <tr>\n",
       "      <th>2</th>\n",
       "      <td>{'C': 0.6}</td>\n",
       "      <td>0.325300</td>\n",
       "      <td>0.002083</td>\n",
       "    </tr>\n",
       "    <tr>\n",
       "      <th>3</th>\n",
       "      <td>{'C': 0.8}</td>\n",
       "      <td>0.325317</td>\n",
       "      <td>0.002088</td>\n",
       "    </tr>\n",
       "    <tr>\n",
       "      <th>4</th>\n",
       "      <td>{'C': 1.0}</td>\n",
       "      <td>0.325339</td>\n",
       "      <td>0.002092</td>\n",
       "    </tr>\n",
       "    <tr>\n",
       "      <th>5</th>\n",
       "      <td>{'C': 10.0}</td>\n",
       "      <td>0.325621</td>\n",
       "      <td>0.002116</td>\n",
       "    </tr>\n",
       "  </tbody>\n",
       "</table>\n",
       "</div>"
      ],
      "text/plain": [
       "         param  val_loss_mean  val_loss_std\n",
       "0   {'C': 0.2}       0.325501      0.002062\n",
       "1   {'C': 0.4}       0.325310      0.002075\n",
       "2   {'C': 0.6}       0.325300      0.002083\n",
       "3   {'C': 0.8}       0.325317      0.002088\n",
       "4   {'C': 1.0}       0.325339      0.002092\n",
       "5  {'C': 10.0}       0.325621      0.002116"
      ]
     },
     "execution_count": 19,
     "metadata": {},
     "output_type": "execute_result"
    }
   ],
   "source": [
    "default_params = {\n",
    "    'C': 1.0,\n",
    "    'penalty': 'l2', \n",
    "    'random_state': SEED\n",
    "}\n",
    "\n",
    "try_params = \\\n",
    "[\n",
    "    {\n",
    "        'C': [0.2, 0.4, 0.6, 0.8, 1., 10.],\n",
    "    }\n",
    "]\n",
    "\n",
    "fit_params(train_img_top1_feature, train_y, ml, default_params, try_params, fit_params=None, seed=SEED,\n",
    "           loss_func=log_loss, predict_proba=True)"
   ]
  },
  {
   "cell_type": "code",
   "execution_count": 21,
   "metadata": {
    "collapsed": true
   },
   "outputs": [
    {
     "name": "stdout",
     "output_type": "stream",
     "text": [
      "{'C': 0.45} loss:0.326988\n",
      "{'C': 0.45} loss:0.326881\n",
      "{'C': 0.45} loss:0.322474\n",
      "{'C': 0.45} loss:0.327103\n",
      "{'C': 0.45} loss:0.323067\n",
      "=================>{'C': 0.45} loss:0.325303\n",
      "{'C': 0.5} loss:0.326993\n",
      "{'C': 0.5} loss:0.326871\n",
      "{'C': 0.5} loss:0.322466\n",
      "{'C': 0.5} loss:0.327100\n",
      "{'C': 0.5} loss:0.323064\n",
      "=================>{'C': 0.5} loss:0.325299\n",
      "{'C': 0.55} loss:0.327001\n",
      "{'C': 0.55} loss:0.326866\n",
      "{'C': 0.55} loss:0.322461\n",
      "{'C': 0.55} loss:0.327104\n",
      "{'C': 0.55} loss:0.323063\n",
      "=================>{'C': 0.55} loss:0.325299\n",
      "{'C': 0.6} loss:0.327010\n",
      "{'C': 0.6} loss:0.326863\n",
      "{'C': 0.6} loss:0.322459\n",
      "{'C': 0.6} loss:0.327105\n",
      "{'C': 0.6} loss:0.323066\n",
      "=================>{'C': 0.6} loss:0.325300\n",
      "{'C': 0.65} loss:0.327019\n",
      "{'C': 0.65} loss:0.326862\n",
      "{'C': 0.65} loss:0.322458\n",
      "{'C': 0.65} loss:0.327110\n",
      "{'C': 0.65} loss:0.323069\n",
      "=================>{'C': 0.65} loss:0.325304\n",
      "{'C': 0.7} loss:0.327029\n",
      "{'C': 0.7} loss:0.326862\n",
      "{'C': 0.7} loss:0.322459\n",
      "{'C': 0.7} loss:0.327115\n",
      "{'C': 0.7} loss:0.323073\n",
      "=================>{'C': 0.7} loss:0.325308\n",
      "{'C': 0.75} loss:0.327039\n",
      "{'C': 0.75} loss:0.326863\n",
      "{'C': 0.75} loss:0.322460\n",
      "{'C': 0.75} loss:0.327121\n",
      "{'C': 0.75} loss:0.323079\n",
      "=================>{'C': 0.75} loss:0.325312\n",
      "Best params: {'C': 0.5} \tbest loss: 0.325298928868\n"
     ]
    },
    {
     "data": {
      "text/html": [
       "<div>\n",
       "<style scoped>\n",
       "    .dataframe tbody tr th:only-of-type {\n",
       "        vertical-align: middle;\n",
       "    }\n",
       "\n",
       "    .dataframe tbody tr th {\n",
       "        vertical-align: top;\n",
       "    }\n",
       "\n",
       "    .dataframe thead th {\n",
       "        text-align: right;\n",
       "    }\n",
       "</style>\n",
       "<table border=\"1\" class=\"dataframe\">\n",
       "  <thead>\n",
       "    <tr style=\"text-align: right;\">\n",
       "      <th></th>\n",
       "      <th>param</th>\n",
       "      <th>val_loss_mean</th>\n",
       "      <th>val_loss_std</th>\n",
       "    </tr>\n",
       "  </thead>\n",
       "  <tbody>\n",
       "    <tr>\n",
       "      <th>0</th>\n",
       "      <td>{'C': 0.45}</td>\n",
       "      <td>0.325303</td>\n",
       "      <td>0.002077</td>\n",
       "    </tr>\n",
       "    <tr>\n",
       "      <th>1</th>\n",
       "      <td>{'C': 0.5}</td>\n",
       "      <td>0.325299</td>\n",
       "      <td>0.002079</td>\n",
       "    </tr>\n",
       "    <tr>\n",
       "      <th>2</th>\n",
       "      <td>{'C': 0.55}</td>\n",
       "      <td>0.325299</td>\n",
       "      <td>0.002081</td>\n",
       "    </tr>\n",
       "    <tr>\n",
       "      <th>3</th>\n",
       "      <td>{'C': 0.6}</td>\n",
       "      <td>0.325300</td>\n",
       "      <td>0.002083</td>\n",
       "    </tr>\n",
       "    <tr>\n",
       "      <th>4</th>\n",
       "      <td>{'C': 0.65}</td>\n",
       "      <td>0.325304</td>\n",
       "      <td>0.002084</td>\n",
       "    </tr>\n",
       "    <tr>\n",
       "      <th>5</th>\n",
       "      <td>{'C': 0.7}</td>\n",
       "      <td>0.325308</td>\n",
       "      <td>0.002086</td>\n",
       "    </tr>\n",
       "    <tr>\n",
       "      <th>6</th>\n",
       "      <td>{'C': 0.75}</td>\n",
       "      <td>0.325312</td>\n",
       "      <td>0.002087</td>\n",
       "    </tr>\n",
       "  </tbody>\n",
       "</table>\n",
       "</div>"
      ],
      "text/plain": [
       "         param  val_loss_mean  val_loss_std\n",
       "0  {'C': 0.45}       0.325303      0.002077\n",
       "1   {'C': 0.5}       0.325299      0.002079\n",
       "2  {'C': 0.55}       0.325299      0.002081\n",
       "3   {'C': 0.6}       0.325300      0.002083\n",
       "4  {'C': 0.65}       0.325304      0.002084\n",
       "5   {'C': 0.7}       0.325308      0.002086\n",
       "6  {'C': 0.75}       0.325312      0.002087"
      ]
     },
     "execution_count": 21,
     "metadata": {},
     "output_type": "execute_result"
    }
   ],
   "source": [
    "default_params = {\n",
    "    'C': 1.0,\n",
    "    'penalty': 'l2', \n",
    "    'random_state': SEED\n",
    "}\n",
    "\n",
    "try_params = \\\n",
    "[\n",
    "    {\n",
    "        'C': [.45, .5, .55, 0.6, .65, .7, .75],\n",
    "    }\n",
    "]\n",
    "\n",
    "fit_params(train_img_top1_feature, train_y, ml, default_params, try_params, fit_params=None, seed=SEED,\n",
    "           loss_func=log_loss, predict_proba=True)"
   ]
  },
  {
   "cell_type": "code",
   "execution_count": 22,
   "metadata": {},
   "outputs": [
    {
     "name": "stdout",
     "output_type": "stream",
     "text": [
      "Fold 1 completed.\n",
      "Fold 2 completed.\n",
      "Fold 3 completed.\n",
      "Fold 4 completed.\n",
      "Fold 5 completed.\n"
     ]
    }
   ],
   "source": [
    "default_params = {\n",
    "    'C': 0.5,\n",
    "    'penalty': 'l2', \n",
    "    'random_state': SEED\n",
    "}\n",
    "\n",
    "rg_oof_val_pred, rg_oof_test_pred, models = get_oof_predictions(train_img_top1_feature, train_y, test_img_top1_feature, ml, \n",
    "                                                                  default_params, seed=SEED, fit_params=None, \n",
    "                                                                  use_eval_set=False, predict_proba=True)\n",
    "\n",
    "pd.DataFrame(data=rg_oof_val_pred, columns=['img1_lr_pred']).to_csv('img1_lr_oof_val_pred.csv', index=False)\n",
    "pd.DataFrame(data=rg_oof_test_pred, columns=['img1_lr_pred']).to_csv('img1_lr_oof_test_pred.csv', index=False)"
   ]
  },
  {
   "cell_type": "markdown",
   "metadata": {},
   "source": [
    "## Price + Item Seq Num"
   ]
  },
  {
   "cell_type": "code",
   "execution_count": 18,
   "metadata": {
    "collapsed": true
   },
   "outputs": [],
   "source": [
    "features = ['price', 'item_seq_number']"
   ]
  },
  {
   "cell_type": "code",
   "execution_count": 23,
   "metadata": {
    "collapsed": true
   },
   "outputs": [
    {
     "name": "stdout",
     "output_type": "stream",
     "text": [
      "{'C': 0.2} loss:0.357140\n",
      "{'C': 0.2} loss:0.358736\n",
      "{'C': 0.2} loss:0.352898\n",
      "{'C': 0.2} loss:0.358272\n",
      "{'C': 0.2} loss:0.353816\n",
      "=================>{'C': 0.2} loss:0.356172\n",
      "{'C': 0.4} loss:0.357140\n",
      "{'C': 0.4} loss:0.358736\n",
      "{'C': 0.4} loss:0.352898\n",
      "{'C': 0.4} loss:0.358272\n",
      "{'C': 0.4} loss:0.353816\n",
      "=================>{'C': 0.4} loss:0.356172\n",
      "{'C': 0.6} loss:0.357140\n",
      "{'C': 0.6} loss:0.358736\n",
      "{'C': 0.6} loss:0.352898\n",
      "{'C': 0.6} loss:0.358272\n",
      "{'C': 0.6} loss:0.353816\n",
      "=================>{'C': 0.6} loss:0.356172\n",
      "{'C': 0.8} loss:0.357140\n",
      "{'C': 0.8} loss:0.358736\n",
      "{'C': 0.8} loss:0.352898\n",
      "{'C': 0.8} loss:0.358272\n",
      "{'C': 0.8} loss:0.353816\n",
      "=================>{'C': 0.8} loss:0.356172\n",
      "{'C': 1.0} loss:0.357140\n",
      "{'C': 1.0} loss:0.358736\n",
      "{'C': 1.0} loss:0.352898\n",
      "{'C': 1.0} loss:0.358272\n",
      "{'C': 1.0} loss:0.353816\n",
      "=================>{'C': 1.0} loss:0.356172\n",
      "{'C': 10.0} loss:0.357140\n",
      "{'C': 10.0} loss:0.358735\n",
      "{'C': 10.0} loss:0.352898\n",
      "{'C': 10.0} loss:0.358272\n",
      "{'C': 10.0} loss:0.353816\n",
      "=================>{'C': 10.0} loss:0.356172\n",
      "Best params: {'C': 10.0} \tbest loss: 0.356172106334\n"
     ]
    },
    {
     "data": {
      "text/html": [
       "<div>\n",
       "<style scoped>\n",
       "    .dataframe tbody tr th:only-of-type {\n",
       "        vertical-align: middle;\n",
       "    }\n",
       "\n",
       "    .dataframe tbody tr th {\n",
       "        vertical-align: top;\n",
       "    }\n",
       "\n",
       "    .dataframe thead th {\n",
       "        text-align: right;\n",
       "    }\n",
       "</style>\n",
       "<table border=\"1\" class=\"dataframe\">\n",
       "  <thead>\n",
       "    <tr style=\"text-align: right;\">\n",
       "      <th></th>\n",
       "      <th>param</th>\n",
       "      <th>val_loss_mean</th>\n",
       "      <th>val_loss_std</th>\n",
       "    </tr>\n",
       "  </thead>\n",
       "  <tbody>\n",
       "    <tr>\n",
       "      <th>0</th>\n",
       "      <td>{'C': 0.2}</td>\n",
       "      <td>0.356172</td>\n",
       "      <td>0.002374</td>\n",
       "    </tr>\n",
       "    <tr>\n",
       "      <th>1</th>\n",
       "      <td>{'C': 0.4}</td>\n",
       "      <td>0.356172</td>\n",
       "      <td>0.002374</td>\n",
       "    </tr>\n",
       "    <tr>\n",
       "      <th>2</th>\n",
       "      <td>{'C': 0.6}</td>\n",
       "      <td>0.356172</td>\n",
       "      <td>0.002374</td>\n",
       "    </tr>\n",
       "    <tr>\n",
       "      <th>3</th>\n",
       "      <td>{'C': 0.8}</td>\n",
       "      <td>0.356172</td>\n",
       "      <td>0.002374</td>\n",
       "    </tr>\n",
       "    <tr>\n",
       "      <th>4</th>\n",
       "      <td>{'C': 1.0}</td>\n",
       "      <td>0.356172</td>\n",
       "      <td>0.002374</td>\n",
       "    </tr>\n",
       "    <tr>\n",
       "      <th>5</th>\n",
       "      <td>{'C': 10.0}</td>\n",
       "      <td>0.356172</td>\n",
       "      <td>0.002374</td>\n",
       "    </tr>\n",
       "  </tbody>\n",
       "</table>\n",
       "</div>"
      ],
      "text/plain": [
       "         param  val_loss_mean  val_loss_std\n",
       "0   {'C': 0.2}       0.356172      0.002374\n",
       "1   {'C': 0.4}       0.356172      0.002374\n",
       "2   {'C': 0.6}       0.356172      0.002374\n",
       "3   {'C': 0.8}       0.356172      0.002374\n",
       "4   {'C': 1.0}       0.356172      0.002374\n",
       "5  {'C': 10.0}       0.356172      0.002374"
      ]
     },
     "execution_count": 23,
     "metadata": {},
     "output_type": "execute_result"
    }
   ],
   "source": [
    "default_params = {\n",
    "    'C': 1.0,\n",
    "    'penalty': 'l2', \n",
    "    'random_state': SEED\n",
    "}\n",
    "\n",
    "try_params = \\\n",
    "[\n",
    "    {\n",
    "        'C': [0.2, 0.4, 0.6, 0.8, 1., 10.],\n",
    "    }\n",
    "]\n",
    "\n",
    "fit_params(train_X[features], train_y, ml, default_params, try_params, fit_params=None, seed=SEED,\n",
    "           loss_func=log_loss, predict_proba=True)"
   ]
  },
  {
   "cell_type": "code",
   "execution_count": 24,
   "metadata": {
    "collapsed": true
   },
   "outputs": [
    {
     "name": "stdout",
     "output_type": "stream",
     "text": [
      "Fold 1 completed.\n",
      "Fold 2 completed.\n",
      "Fold 3 completed.\n",
      "Fold 4 completed.\n",
      "Fold 5 completed.\n"
     ]
    }
   ],
   "source": [
    "default_params = {\n",
    "    'C': 1.0,\n",
    "    'penalty': 'l2', \n",
    "    'random_state': SEED\n",
    "}\n",
    "\n",
    "rg_oof_val_pred, rg_oof_test_pred, models = get_oof_predictions(train_X[features], train_y, test_X[features], ml, \n",
    "                                                                  default_params, seed=SEED, fit_params=None, \n",
    "                                                                  use_eval_set=False, predict_proba=True)\n",
    "\n",
    "pd.DataFrame(data=rg_oof_val_pred, columns=['price_seqno_lr_pred']).to_csv('price_seqno_lr_oof_val_pred.csv', index=False)\n",
    "pd.DataFrame(data=rg_oof_test_pred, columns=['price_seqno_lr_pred']).to_csv('price_seqno_lr_oof_test_pred.csv', index=False)"
   ]
  },
  {
   "cell_type": "markdown",
   "metadata": {},
   "source": [
    "## Price + Image top 1"
   ]
  },
  {
   "cell_type": "code",
   "execution_count": 13,
   "metadata": {
    "collapsed": true
   },
   "outputs": [],
   "source": [
    "from scipy.sparse import hstack"
   ]
  },
  {
   "cell_type": "code",
   "execution_count": 32,
   "metadata": {
    "collapsed": true
   },
   "outputs": [],
   "source": [
    "train_price_img = hstack([train_img_top1_feature, train_X[['price']]]).tocsr()\n",
    "test_price_img = hstack([test_img_top1_feature, test_X[['price']]]).tocsr()"
   ]
  },
  {
   "cell_type": "code",
   "execution_count": 33,
   "metadata": {
    "collapsed": true
   },
   "outputs": [
    {
     "name": "stdout",
     "output_type": "stream",
     "text": [
      "{'C': 0.2} loss:0.326818\n",
      "{'C': 0.2} loss:0.326914\n",
      "{'C': 0.2} loss:0.322335\n",
      "{'C': 0.2} loss:0.326969\n",
      "{'C': 0.2} loss:0.322791\n",
      "=================>{'C': 0.2} loss:0.325165\n",
      "{'C': 0.4} loss:0.326720\n",
      "{'C': 0.4} loss:0.326655\n",
      "{'C': 0.4} loss:0.322118\n",
      "{'C': 0.4} loss:0.326789\n",
      "{'C': 0.4} loss:0.322606\n",
      "=================>{'C': 0.4} loss:0.324978\n",
      "{'C': 0.6} loss:0.326748\n",
      "{'C': 0.6} loss:0.326618\n",
      "{'C': 0.6} loss:0.322091\n",
      "{'C': 0.6} loss:0.326787\n",
      "{'C': 0.6} loss:0.322599\n",
      "=================>{'C': 0.6} loss:0.324969\n",
      "{'C': 0.8} loss:0.326786\n",
      "{'C': 0.8} loss:0.326621\n",
      "{'C': 0.8} loss:0.322095\n",
      "{'C': 0.8} loss:0.326809\n",
      "{'C': 0.8} loss:0.322619\n",
      "=================>{'C': 0.8} loss:0.324986\n",
      "{'C': 1.0} loss:0.326823\n",
      "{'C': 1.0} loss:0.326632\n",
      "{'C': 1.0} loss:0.322108\n",
      "{'C': 1.0} loss:0.326834\n",
      "{'C': 1.0} loss:0.322642\n",
      "=================>{'C': 1.0} loss:0.325008\n",
      "{'C': 10.0} loss:0.327171\n",
      "{'C': 10.0} loss:0.326863\n",
      "{'C': 10.0} loss:0.322328\n",
      "{'C': 10.0} loss:0.327163\n",
      "{'C': 10.0} loss:0.322949\n",
      "=================>{'C': 10.0} loss:0.325295\n",
      "Best params: {'C': 0.6} \tbest loss: 0.324968539651\n"
     ]
    },
    {
     "data": {
      "text/html": [
       "<div>\n",
       "<style scoped>\n",
       "    .dataframe tbody tr th:only-of-type {\n",
       "        vertical-align: middle;\n",
       "    }\n",
       "\n",
       "    .dataframe tbody tr th {\n",
       "        vertical-align: top;\n",
       "    }\n",
       "\n",
       "    .dataframe thead th {\n",
       "        text-align: right;\n",
       "    }\n",
       "</style>\n",
       "<table border=\"1\" class=\"dataframe\">\n",
       "  <thead>\n",
       "    <tr style=\"text-align: right;\">\n",
       "      <th></th>\n",
       "      <th>param</th>\n",
       "      <th>val_loss_mean</th>\n",
       "      <th>val_loss_std</th>\n",
       "    </tr>\n",
       "  </thead>\n",
       "  <tbody>\n",
       "    <tr>\n",
       "      <th>0</th>\n",
       "      <td>{'C': 0.2}</td>\n",
       "      <td>0.325165</td>\n",
       "      <td>0.002130</td>\n",
       "    </tr>\n",
       "    <tr>\n",
       "      <th>1</th>\n",
       "      <td>{'C': 0.4}</td>\n",
       "      <td>0.324978</td>\n",
       "      <td>0.002142</td>\n",
       "    </tr>\n",
       "    <tr>\n",
       "      <th>2</th>\n",
       "      <td>{'C': 0.6}</td>\n",
       "      <td>0.324969</td>\n",
       "      <td>0.002149</td>\n",
       "    </tr>\n",
       "    <tr>\n",
       "      <th>3</th>\n",
       "      <td>{'C': 0.8}</td>\n",
       "      <td>0.324986</td>\n",
       "      <td>0.002154</td>\n",
       "    </tr>\n",
       "    <tr>\n",
       "      <th>4</th>\n",
       "      <td>{'C': 1.0}</td>\n",
       "      <td>0.325008</td>\n",
       "      <td>0.002157</td>\n",
       "    </tr>\n",
       "    <tr>\n",
       "      <th>5</th>\n",
       "      <td>{'C': 10.0}</td>\n",
       "      <td>0.325295</td>\n",
       "      <td>0.002181</td>\n",
       "    </tr>\n",
       "  </tbody>\n",
       "</table>\n",
       "</div>"
      ],
      "text/plain": [
       "         param  val_loss_mean  val_loss_std\n",
       "0   {'C': 0.2}       0.325165      0.002130\n",
       "1   {'C': 0.4}       0.324978      0.002142\n",
       "2   {'C': 0.6}       0.324969      0.002149\n",
       "3   {'C': 0.8}       0.324986      0.002154\n",
       "4   {'C': 1.0}       0.325008      0.002157\n",
       "5  {'C': 10.0}       0.325295      0.002181"
      ]
     },
     "execution_count": 33,
     "metadata": {},
     "output_type": "execute_result"
    }
   ],
   "source": [
    "default_params = {\n",
    "    'C': 1.0,\n",
    "    'penalty': 'l2', \n",
    "    'random_state': SEED\n",
    "}\n",
    "\n",
    "try_params = \\\n",
    "[\n",
    "    {\n",
    "        'C': [0.2, 0.4, 0.6, 0.8, 1., 10.],\n",
    "    }\n",
    "]\n",
    "\n",
    "fit_params(train_price_img, train_y, ml, default_params, try_params, fit_params=None, seed=SEED,\n",
    "           loss_func=log_loss, predict_proba=True)"
   ]
  },
  {
   "cell_type": "code",
   "execution_count": 34,
   "metadata": {
    "scrolled": true
   },
   "outputs": [
    {
     "name": "stdout",
     "output_type": "stream",
     "text": [
      "{'C': 0.45} loss:0.326724\n",
      "{'C': 0.45} loss:0.326638\n",
      "{'C': 0.45} loss:0.322105\n",
      "{'C': 0.45} loss:0.326783\n",
      "{'C': 0.45} loss:0.322599\n",
      "=================>{'C': 0.45} loss:0.324970\n",
      "{'C': 0.5} loss:0.326731\n",
      "{'C': 0.5} loss:0.326628\n",
      "{'C': 0.5} loss:0.322097\n",
      "{'C': 0.5} loss:0.326781\n",
      "{'C': 0.5} loss:0.322596\n",
      "=================>{'C': 0.5} loss:0.324966\n",
      "{'C': 0.55} loss:0.326739\n",
      "{'C': 0.55} loss:0.326622\n",
      "{'C': 0.55} loss:0.322092\n",
      "{'C': 0.55} loss:0.326783\n",
      "{'C': 0.55} loss:0.322597\n",
      "=================>{'C': 0.55} loss:0.324967\n",
      "{'C': 0.6} loss:0.326748\n",
      "{'C': 0.6} loss:0.326618\n",
      "{'C': 0.6} loss:0.322091\n",
      "{'C': 0.6} loss:0.326787\n",
      "{'C': 0.6} loss:0.322599\n",
      "=================>{'C': 0.6} loss:0.324969\n",
      "{'C': 0.65} loss:0.326758\n",
      "{'C': 0.65} loss:0.326617\n",
      "{'C': 0.65} loss:0.322090\n",
      "{'C': 0.65} loss:0.326791\n",
      "{'C': 0.65} loss:0.322604\n",
      "=================>{'C': 0.65} loss:0.324972\n",
      "{'C': 0.7} loss:0.326768\n",
      "{'C': 0.7} loss:0.326618\n",
      "{'C': 0.7} loss:0.322091\n",
      "{'C': 0.7} loss:0.326797\n",
      "{'C': 0.7} loss:0.322608\n",
      "=================>{'C': 0.7} loss:0.324976\n",
      "{'C': 0.75} loss:0.326777\n",
      "{'C': 0.75} loss:0.326618\n",
      "{'C': 0.75} loss:0.322093\n",
      "{'C': 0.75} loss:0.326803\n",
      "{'C': 0.75} loss:0.322614\n",
      "=================>{'C': 0.75} loss:0.324981\n",
      "Best params: {'C': 0.5} \tbest loss: 0.324966470854\n"
     ]
    },
    {
     "data": {
      "text/html": [
       "<div>\n",
       "<style scoped>\n",
       "    .dataframe tbody tr th:only-of-type {\n",
       "        vertical-align: middle;\n",
       "    }\n",
       "\n",
       "    .dataframe tbody tr th {\n",
       "        vertical-align: top;\n",
       "    }\n",
       "\n",
       "    .dataframe thead th {\n",
       "        text-align: right;\n",
       "    }\n",
       "</style>\n",
       "<table border=\"1\" class=\"dataframe\">\n",
       "  <thead>\n",
       "    <tr style=\"text-align: right;\">\n",
       "      <th></th>\n",
       "      <th>param</th>\n",
       "      <th>val_loss_mean</th>\n",
       "      <th>val_loss_std</th>\n",
       "    </tr>\n",
       "  </thead>\n",
       "  <tbody>\n",
       "    <tr>\n",
       "      <th>0</th>\n",
       "      <td>{'C': 0.45}</td>\n",
       "      <td>0.324970</td>\n",
       "      <td>0.002144</td>\n",
       "    </tr>\n",
       "    <tr>\n",
       "      <th>1</th>\n",
       "      <td>{'C': 0.5}</td>\n",
       "      <td>0.324966</td>\n",
       "      <td>0.002146</td>\n",
       "    </tr>\n",
       "    <tr>\n",
       "      <th>2</th>\n",
       "      <td>{'C': 0.55}</td>\n",
       "      <td>0.324967</td>\n",
       "      <td>0.002148</td>\n",
       "    </tr>\n",
       "    <tr>\n",
       "      <th>3</th>\n",
       "      <td>{'C': 0.6}</td>\n",
       "      <td>0.324969</td>\n",
       "      <td>0.002149</td>\n",
       "    </tr>\n",
       "    <tr>\n",
       "      <th>4</th>\n",
       "      <td>{'C': 0.65}</td>\n",
       "      <td>0.324972</td>\n",
       "      <td>0.002150</td>\n",
       "    </tr>\n",
       "    <tr>\n",
       "      <th>5</th>\n",
       "      <td>{'C': 0.7}</td>\n",
       "      <td>0.324976</td>\n",
       "      <td>0.002152</td>\n",
       "    </tr>\n",
       "    <tr>\n",
       "      <th>6</th>\n",
       "      <td>{'C': 0.75}</td>\n",
       "      <td>0.324981</td>\n",
       "      <td>0.002153</td>\n",
       "    </tr>\n",
       "  </tbody>\n",
       "</table>\n",
       "</div>"
      ],
      "text/plain": [
       "         param  val_loss_mean  val_loss_std\n",
       "0  {'C': 0.45}       0.324970      0.002144\n",
       "1   {'C': 0.5}       0.324966      0.002146\n",
       "2  {'C': 0.55}       0.324967      0.002148\n",
       "3   {'C': 0.6}       0.324969      0.002149\n",
       "4  {'C': 0.65}       0.324972      0.002150\n",
       "5   {'C': 0.7}       0.324976      0.002152\n",
       "6  {'C': 0.75}       0.324981      0.002153"
      ]
     },
     "execution_count": 34,
     "metadata": {},
     "output_type": "execute_result"
    }
   ],
   "source": [
    "default_params = {\n",
    "    'C': 1.0,\n",
    "    'penalty': 'l2', \n",
    "    'random_state': SEED\n",
    "}\n",
    "\n",
    "try_params = \\\n",
    "[\n",
    "    {\n",
    "        'C': [0.45, 0.5, .55, 0.6, 0.65, .7, .75],\n",
    "    }\n",
    "]\n",
    "\n",
    "fit_params(train_price_img, train_y, ml, default_params, try_params, fit_params=None, seed=SEED,\n",
    "           loss_func=log_loss, predict_proba=True)"
   ]
  },
  {
   "cell_type": "code",
   "execution_count": 35,
   "metadata": {},
   "outputs": [
    {
     "name": "stdout",
     "output_type": "stream",
     "text": [
      "Fold 1 completed.\n",
      "Fold 2 completed.\n",
      "Fold 3 completed.\n",
      "Fold 4 completed.\n",
      "Fold 5 completed.\n"
     ]
    }
   ],
   "source": [
    "default_params = {\n",
    "    'C': .5,\n",
    "    'penalty': 'l2', \n",
    "    'random_state': SEED\n",
    "}\n",
    "\n",
    "rg_oof_val_pred, rg_oof_test_pred, models = get_oof_predictions(train_price_img, train_y, test_price_img, ml, \n",
    "                                                                  default_params, seed=SEED, fit_params=None, \n",
    "                                                                  use_eval_set=False, predict_proba=True)\n",
    "\n",
    "pd.DataFrame(data=rg_oof_val_pred, columns=['price_img_lr_pred']).to_csv('price_img_lr_oof_val_pred.csv', index=False)\n",
    "pd.DataFrame(data=rg_oof_test_pred, columns=['price_img_lr_pred']).to_csv('price_img_lr_oof_test_pred.csv', index=False)"
   ]
  },
  {
   "cell_type": "code",
   "execution_count": 36,
   "metadata": {
    "collapsed": true
   },
   "outputs": [],
   "source": [
    "del train_price_img, test_price_img"
   ]
  },
  {
   "cell_type": "markdown",
   "metadata": {},
   "source": [
    "## Item Seq No + Img top 1"
   ]
  },
  {
   "cell_type": "code",
   "execution_count": 11,
   "metadata": {},
   "outputs": [
    {
     "ename": "NameError",
     "evalue": "name 'hstack' is not defined",
     "output_type": "error",
     "traceback": [
      "\u001b[1;31m---------------------------------------------------------------------------\u001b[0m",
      "\u001b[1;31mNameError\u001b[0m                                 Traceback (most recent call last)",
      "\u001b[1;32m<ipython-input-11-18583e0ae28f>\u001b[0m in \u001b[0;36m<module>\u001b[1;34m()\u001b[0m\n\u001b[1;32m----> 1\u001b[1;33m \u001b[0mtrain_seqno_img\u001b[0m \u001b[1;33m=\u001b[0m \u001b[0mhstack\u001b[0m\u001b[1;33m(\u001b[0m\u001b[1;33m[\u001b[0m\u001b[0mtrain_img_top1_feature\u001b[0m\u001b[1;33m,\u001b[0m \u001b[0mtrain_X\u001b[0m\u001b[1;33m[\u001b[0m\u001b[1;33m[\u001b[0m\u001b[1;34m'item_seq_number'\u001b[0m\u001b[1;33m]\u001b[0m\u001b[1;33m]\u001b[0m\u001b[1;33m]\u001b[0m\u001b[1;33m)\u001b[0m\u001b[1;33m.\u001b[0m\u001b[0mtocsr\u001b[0m\u001b[1;33m(\u001b[0m\u001b[1;33m)\u001b[0m\u001b[1;33m\u001b[0m\u001b[0m\n\u001b[0m\u001b[0;32m      2\u001b[0m \u001b[0mtest_seqno_img\u001b[0m \u001b[1;33m=\u001b[0m \u001b[0mhstack\u001b[0m\u001b[1;33m(\u001b[0m\u001b[1;33m[\u001b[0m\u001b[0mtest_img_top1_feature\u001b[0m\u001b[1;33m,\u001b[0m \u001b[0mtest_X\u001b[0m\u001b[1;33m[\u001b[0m\u001b[1;33m[\u001b[0m\u001b[1;34m'item_seq_number'\u001b[0m\u001b[1;33m]\u001b[0m\u001b[1;33m]\u001b[0m\u001b[1;33m]\u001b[0m\u001b[1;33m)\u001b[0m\u001b[1;33m.\u001b[0m\u001b[0mtocsr\u001b[0m\u001b[1;33m(\u001b[0m\u001b[1;33m)\u001b[0m\u001b[1;33m\u001b[0m\u001b[0m\n",
      "\u001b[1;31mNameError\u001b[0m: name 'hstack' is not defined"
     ]
    }
   ],
   "source": [
    "train_seqno_img = hstack([train_img_top1_feature, train_X[['item_seq_number']]]).tocsr()\n",
    "test_seqno_img = hstack([test_img_top1_feature, test_X[['item_seq_number']]]).tocsr()"
   ]
  },
  {
   "cell_type": "code",
   "execution_count": 38,
   "metadata": {
    "collapsed": true
   },
   "outputs": [
    {
     "name": "stdout",
     "output_type": "stream",
     "text": [
      "{'C': 0.2} loss:0.325710\n",
      "{'C': 0.2} loss:0.326882\n",
      "{'C': 0.2} loss:0.321294\n",
      "{'C': 0.2} loss:0.326361\n",
      "{'C': 0.2} loss:0.322399\n",
      "=================>{'C': 0.2} loss:0.324529\n",
      "{'C': 0.4} loss:0.325621\n",
      "{'C': 0.4} loss:0.326629\n",
      "{'C': 0.4} loss:0.321083\n",
      "{'C': 0.4} loss:0.326178\n",
      "{'C': 0.4} loss:0.322213\n",
      "=================>{'C': 0.4} loss:0.324345\n",
      "{'C': 0.6} loss:0.325650\n",
      "{'C': 0.6} loss:0.326592\n",
      "{'C': 0.6} loss:0.321058\n",
      "{'C': 0.6} loss:0.326175\n",
      "{'C': 0.6} loss:0.322205\n",
      "=================>{'C': 0.6} loss:0.324336\n",
      "{'C': 0.8} loss:0.325689\n",
      "{'C': 0.8} loss:0.326594\n",
      "{'C': 0.8} loss:0.321063\n",
      "{'C': 0.8} loss:0.326197\n",
      "{'C': 0.8} loss:0.322224\n",
      "=================>{'C': 0.8} loss:0.324354\n",
      "{'C': 1.0} loss:0.325725\n",
      "{'C': 1.0} loss:0.326607\n",
      "{'C': 1.0} loss:0.321076\n",
      "{'C': 1.0} loss:0.326223\n",
      "{'C': 1.0} loss:0.322247\n",
      "=================>{'C': 1.0} loss:0.324375\n",
      "{'C': 10.0} loss:0.326067\n",
      "{'C': 10.0} loss:0.326827\n",
      "{'C': 10.0} loss:0.321290\n",
      "{'C': 10.0} loss:0.326536\n",
      "{'C': 10.0} loss:0.322554\n",
      "=================>{'C': 10.0} loss:0.324655\n",
      "Best params: {'C': 0.6} \tbest loss: 0.324335892193\n"
     ]
    },
    {
     "data": {
      "text/html": [
       "<div>\n",
       "<style scoped>\n",
       "    .dataframe tbody tr th:only-of-type {\n",
       "        vertical-align: middle;\n",
       "    }\n",
       "\n",
       "    .dataframe tbody tr th {\n",
       "        vertical-align: top;\n",
       "    }\n",
       "\n",
       "    .dataframe thead th {\n",
       "        text-align: right;\n",
       "    }\n",
       "</style>\n",
       "<table border=\"1\" class=\"dataframe\">\n",
       "  <thead>\n",
       "    <tr style=\"text-align: right;\">\n",
       "      <th></th>\n",
       "      <th>param</th>\n",
       "      <th>val_loss_mean</th>\n",
       "      <th>val_loss_std</th>\n",
       "    </tr>\n",
       "  </thead>\n",
       "  <tbody>\n",
       "    <tr>\n",
       "      <th>0</th>\n",
       "      <td>{'C': 0.2}</td>\n",
       "      <td>0.324529</td>\n",
       "      <td>0.002249</td>\n",
       "    </tr>\n",
       "    <tr>\n",
       "      <th>1</th>\n",
       "      <td>{'C': 0.4}</td>\n",
       "      <td>0.324345</td>\n",
       "      <td>0.002253</td>\n",
       "    </tr>\n",
       "    <tr>\n",
       "      <th>2</th>\n",
       "      <td>{'C': 0.6}</td>\n",
       "      <td>0.324336</td>\n",
       "      <td>0.002258</td>\n",
       "    </tr>\n",
       "    <tr>\n",
       "      <th>3</th>\n",
       "      <td>{'C': 0.8}</td>\n",
       "      <td>0.324354</td>\n",
       "      <td>0.002261</td>\n",
       "    </tr>\n",
       "    <tr>\n",
       "      <th>4</th>\n",
       "      <td>{'C': 1.0}</td>\n",
       "      <td>0.324375</td>\n",
       "      <td>0.002264</td>\n",
       "    </tr>\n",
       "    <tr>\n",
       "      <th>5</th>\n",
       "      <td>{'C': 10.0}</td>\n",
       "      <td>0.324655</td>\n",
       "      <td>0.002280</td>\n",
       "    </tr>\n",
       "  </tbody>\n",
       "</table>\n",
       "</div>"
      ],
      "text/plain": [
       "         param  val_loss_mean  val_loss_std\n",
       "0   {'C': 0.2}       0.324529      0.002249\n",
       "1   {'C': 0.4}       0.324345      0.002253\n",
       "2   {'C': 0.6}       0.324336      0.002258\n",
       "3   {'C': 0.8}       0.324354      0.002261\n",
       "4   {'C': 1.0}       0.324375      0.002264\n",
       "5  {'C': 10.0}       0.324655      0.002280"
      ]
     },
     "execution_count": 38,
     "metadata": {},
     "output_type": "execute_result"
    }
   ],
   "source": [
    "default_params = {\n",
    "    'C': 1.0,\n",
    "    'penalty': 'l2', \n",
    "    'random_state': SEED\n",
    "}\n",
    "\n",
    "try_params = \\\n",
    "[\n",
    "    {\n",
    "        'C': [0.2, 0.4, 0.6, 0.8, 1., 10.],\n",
    "    }\n",
    "]\n",
    "\n",
    "fit_params(train_seqno_img, train_y, ml, default_params, try_params, fit_params=None, seed=SEED,\n",
    "           loss_func=log_loss, predict_proba=True)"
   ]
  },
  {
   "cell_type": "code",
   "execution_count": 39,
   "metadata": {
    "collapsed": true
   },
   "outputs": [
    {
     "name": "stdout",
     "output_type": "stream",
     "text": [
      "{'C': 0.45} loss:0.325624\n",
      "{'C': 0.45} loss:0.326611\n",
      "{'C': 0.45} loss:0.321070\n",
      "{'C': 0.45} loss:0.326173\n",
      "{'C': 0.45} loss:0.322205\n",
      "=================>{'C': 0.45} loss:0.324337\n",
      "{'C': 0.5} loss:0.325632\n",
      "{'C': 0.5} loss:0.326600\n",
      "{'C': 0.5} loss:0.321064\n",
      "{'C': 0.5} loss:0.326171\n",
      "{'C': 0.5} loss:0.322202\n",
      "=================>{'C': 0.5} loss:0.324334\n",
      "{'C': 0.55} loss:0.325640\n",
      "{'C': 0.55} loss:0.326595\n",
      "{'C': 0.55} loss:0.321060\n",
      "{'C': 0.55} loss:0.326172\n",
      "{'C': 0.55} loss:0.322202\n",
      "=================>{'C': 0.55} loss:0.324334\n",
      "{'C': 0.6} loss:0.325650\n",
      "{'C': 0.6} loss:0.326592\n",
      "{'C': 0.6} loss:0.321058\n",
      "{'C': 0.6} loss:0.326175\n",
      "{'C': 0.6} loss:0.322205\n",
      "=================>{'C': 0.6} loss:0.324336\n",
      "{'C': 0.65} loss:0.325660\n",
      "{'C': 0.65} loss:0.326591\n",
      "{'C': 0.65} loss:0.321058\n",
      "{'C': 0.65} loss:0.326180\n",
      "{'C': 0.65} loss:0.322208\n",
      "=================>{'C': 0.65} loss:0.324339\n",
      "{'C': 0.7} loss:0.325670\n",
      "{'C': 0.7} loss:0.326591\n",
      "{'C': 0.7} loss:0.321059\n",
      "{'C': 0.7} loss:0.326185\n",
      "{'C': 0.7} loss:0.322213\n",
      "=================>{'C': 0.7} loss:0.324343\n",
      "{'C': 0.75} loss:0.325680\n",
      "{'C': 0.75} loss:0.326592\n",
      "{'C': 0.75} loss:0.321061\n",
      "{'C': 0.75} loss:0.326191\n",
      "{'C': 0.75} loss:0.322218\n",
      "=================>{'C': 0.75} loss:0.324348\n",
      "Best params: {'C': 0.5} \tbest loss: 0.324333739461\n"
     ]
    },
    {
     "data": {
      "text/html": [
       "<div>\n",
       "<style scoped>\n",
       "    .dataframe tbody tr th:only-of-type {\n",
       "        vertical-align: middle;\n",
       "    }\n",
       "\n",
       "    .dataframe tbody tr th {\n",
       "        vertical-align: top;\n",
       "    }\n",
       "\n",
       "    .dataframe thead th {\n",
       "        text-align: right;\n",
       "    }\n",
       "</style>\n",
       "<table border=\"1\" class=\"dataframe\">\n",
       "  <thead>\n",
       "    <tr style=\"text-align: right;\">\n",
       "      <th></th>\n",
       "      <th>param</th>\n",
       "      <th>val_loss_mean</th>\n",
       "      <th>val_loss_std</th>\n",
       "    </tr>\n",
       "  </thead>\n",
       "  <tbody>\n",
       "    <tr>\n",
       "      <th>0</th>\n",
       "      <td>{'C': 0.45}</td>\n",
       "      <td>0.324337</td>\n",
       "      <td>0.002254</td>\n",
       "    </tr>\n",
       "    <tr>\n",
       "      <th>1</th>\n",
       "      <td>{'C': 0.5}</td>\n",
       "      <td>0.324334</td>\n",
       "      <td>0.002255</td>\n",
       "    </tr>\n",
       "    <tr>\n",
       "      <th>2</th>\n",
       "      <td>{'C': 0.55}</td>\n",
       "      <td>0.324334</td>\n",
       "      <td>0.002257</td>\n",
       "    </tr>\n",
       "    <tr>\n",
       "      <th>3</th>\n",
       "      <td>{'C': 0.6}</td>\n",
       "      <td>0.324336</td>\n",
       "      <td>0.002258</td>\n",
       "    </tr>\n",
       "    <tr>\n",
       "      <th>4</th>\n",
       "      <td>{'C': 0.65}</td>\n",
       "      <td>0.324339</td>\n",
       "      <td>0.002259</td>\n",
       "    </tr>\n",
       "    <tr>\n",
       "      <th>5</th>\n",
       "      <td>{'C': 0.7}</td>\n",
       "      <td>0.324343</td>\n",
       "      <td>0.002260</td>\n",
       "    </tr>\n",
       "    <tr>\n",
       "      <th>6</th>\n",
       "      <td>{'C': 0.75}</td>\n",
       "      <td>0.324348</td>\n",
       "      <td>0.002260</td>\n",
       "    </tr>\n",
       "  </tbody>\n",
       "</table>\n",
       "</div>"
      ],
      "text/plain": [
       "         param  val_loss_mean  val_loss_std\n",
       "0  {'C': 0.45}       0.324337      0.002254\n",
       "1   {'C': 0.5}       0.324334      0.002255\n",
       "2  {'C': 0.55}       0.324334      0.002257\n",
       "3   {'C': 0.6}       0.324336      0.002258\n",
       "4  {'C': 0.65}       0.324339      0.002259\n",
       "5   {'C': 0.7}       0.324343      0.002260\n",
       "6  {'C': 0.75}       0.324348      0.002260"
      ]
     },
     "execution_count": 39,
     "metadata": {},
     "output_type": "execute_result"
    }
   ],
   "source": [
    "default_params = {\n",
    "    'C': 1.0,\n",
    "    'penalty': 'l2', \n",
    "    'random_state': SEED\n",
    "}\n",
    "\n",
    "try_params = \\\n",
    "[\n",
    "    {\n",
    "        'C': [0.45, 0.5, .55, 0.6, 0.65, .7, .75],\n",
    "    }\n",
    "]\n",
    "\n",
    "fit_params(train_seqno_img, train_y, ml, default_params, try_params, fit_params=None, seed=SEED,\n",
    "           loss_func=log_loss, predict_proba=True)"
   ]
  },
  {
   "cell_type": "code",
   "execution_count": 40,
   "metadata": {},
   "outputs": [
    {
     "name": "stdout",
     "output_type": "stream",
     "text": [
      "Fold 1 completed.\n",
      "Fold 2 completed.\n",
      "Fold 3 completed.\n",
      "Fold 4 completed.\n",
      "Fold 5 completed.\n"
     ]
    }
   ],
   "source": [
    "default_params = {\n",
    "    'C': .5,\n",
    "    'penalty': 'l2', \n",
    "    'random_state': SEED\n",
    "}\n",
    "\n",
    "rg_oof_val_pred, rg_oof_test_pred, models = get_oof_predictions(train_seqno_img, train_y, test_seqno_img, ml, \n",
    "                                                                  default_params, seed=SEED, fit_params=None, \n",
    "                                                                  use_eval_set=False, predict_proba=True)\n",
    "\n",
    "pd.DataFrame(data=rg_oof_val_pred, columns=['seqno_img_lr_pred']).to_csv('seqno_img_lr_oof_val_pred.csv', index=False)\n",
    "pd.DataFrame(data=rg_oof_test_pred, columns=['seqno_img_lr_pred']).to_csv('seqno_img_lr_oof_test_pred.csv', index=False)"
   ]
  },
  {
   "cell_type": "code",
   "execution_count": 41,
   "metadata": {
    "collapsed": true
   },
   "outputs": [],
   "source": [
    "del train_seqno_img, test_seqno_img"
   ]
  },
  {
   "cell_type": "markdown",
   "metadata": {},
   "source": [
    "## All"
   ]
  },
  {
   "cell_type": "code",
   "execution_count": 14,
   "metadata": {},
   "outputs": [],
   "source": [
    "train_seqno_price_img = hstack([train_img_top1_feature, train_X[['item_seq_number', 'price']]]).tocsr()\n",
    "test_seqno_price_img = hstack([test_img_top1_feature, test_X[['item_seq_number', 'price']]]).tocsr()"
   ]
  },
  {
   "cell_type": "code",
   "execution_count": null,
   "metadata": {
    "collapsed": true
   },
   "outputs": [],
   "source": [
    "default_params = {\n",
    "    'C': 1.0,\n",
    "    'penalty': 'l2', \n",
    "    'random_state': SEED\n",
    "}\n",
    "\n",
    "try_params = \\\n",
    "[\n",
    "    {\n",
    "        'C': [0.2, 0.4, 0.6, 0.8, 1., 10.],\n",
    "    }\n",
    "]\n",
    "\n",
    "fit_params(train_seqno_price_img, train_y, ml, default_params, try_params, fit_params=None, seed=SEED,\n",
    "           loss_func=log_loss, predict_proba=True)"
   ]
  },
  {
   "cell_type": "code",
   "execution_count": 45,
   "metadata": {
    "collapsed": true
   },
   "outputs": [
    {
     "name": "stdout",
     "output_type": "stream",
     "text": [
      "{'C': 0.45} loss:0.325410\n",
      "{'C': 0.45} loss:0.326380\n",
      "{'C': 0.45} loss:0.320766\n",
      "{'C': 0.45} loss:0.325896\n",
      "{'C': 0.45} loss:0.321789\n",
      "=================>{'C': 0.45} loss:0.324048\n",
      "{'C': 0.5} loss:0.325418\n",
      "{'C': 0.5} loss:0.326370\n",
      "{'C': 0.5} loss:0.320758\n",
      "{'C': 0.5} loss:0.325895\n",
      "{'C': 0.5} loss:0.321787\n",
      "=================>{'C': 0.5} loss:0.324045\n",
      "{'C': 0.55} loss:0.325427\n",
      "{'C': 0.55} loss:0.326364\n",
      "{'C': 0.55} loss:0.320754\n",
      "{'C': 0.55} loss:0.325896\n",
      "{'C': 0.55} loss:0.321788\n",
      "=================>{'C': 0.55} loss:0.324046\n",
      "{'C': 0.6} loss:0.325436\n",
      "{'C': 0.6} loss:0.326362\n",
      "{'C': 0.6} loss:0.320752\n",
      "{'C': 0.6} loss:0.325899\n",
      "{'C': 0.6} loss:0.321790\n",
      "=================>{'C': 0.6} loss:0.324048\n",
      "{'C': 0.65} loss:0.325446\n",
      "{'C': 0.65} loss:0.326361\n",
      "{'C': 0.65} loss:0.320752\n",
      "{'C': 0.65} loss:0.325904\n",
      "{'C': 0.65} loss:0.321795\n",
      "=================>{'C': 0.65} loss:0.324052\n",
      "{'C': 0.7} loss:0.325456\n",
      "{'C': 0.7} loss:0.326361\n",
      "{'C': 0.7} loss:0.320754\n",
      "{'C': 0.7} loss:0.325910\n",
      "{'C': 0.7} loss:0.321800\n",
      "=================>{'C': 0.7} loss:0.324056\n",
      "{'C': 0.75} loss:0.325466\n",
      "{'C': 0.75} loss:0.326363\n",
      "{'C': 0.75} loss:0.320756\n",
      "{'C': 0.75} loss:0.325916\n",
      "{'C': 0.75} loss:0.321805\n",
      "=================>{'C': 0.75} loss:0.324061\n",
      "Best params: {'C': 0.5} \tbest loss: 0.324045453882\n"
     ]
    },
    {
     "data": {
      "text/html": [
       "<div>\n",
       "<style scoped>\n",
       "    .dataframe tbody tr th:only-of-type {\n",
       "        vertical-align: middle;\n",
       "    }\n",
       "\n",
       "    .dataframe tbody tr th {\n",
       "        vertical-align: top;\n",
       "    }\n",
       "\n",
       "    .dataframe thead th {\n",
       "        text-align: right;\n",
       "    }\n",
       "</style>\n",
       "<table border=\"1\" class=\"dataframe\">\n",
       "  <thead>\n",
       "    <tr style=\"text-align: right;\">\n",
       "      <th></th>\n",
       "      <th>param</th>\n",
       "      <th>val_loss_mean</th>\n",
       "      <th>val_loss_std</th>\n",
       "    </tr>\n",
       "  </thead>\n",
       "  <tbody>\n",
       "    <tr>\n",
       "      <th>0</th>\n",
       "      <td>{'C': 0.45}</td>\n",
       "      <td>0.324048</td>\n",
       "      <td>0.002306</td>\n",
       "    </tr>\n",
       "    <tr>\n",
       "      <th>1</th>\n",
       "      <td>{'C': 0.5}</td>\n",
       "      <td>0.324045</td>\n",
       "      <td>0.002307</td>\n",
       "    </tr>\n",
       "    <tr>\n",
       "      <th>2</th>\n",
       "      <td>{'C': 0.55}</td>\n",
       "      <td>0.324046</td>\n",
       "      <td>0.002308</td>\n",
       "    </tr>\n",
       "    <tr>\n",
       "      <th>3</th>\n",
       "      <td>{'C': 0.6}</td>\n",
       "      <td>0.324048</td>\n",
       "      <td>0.002309</td>\n",
       "    </tr>\n",
       "    <tr>\n",
       "      <th>4</th>\n",
       "      <td>{'C': 0.65}</td>\n",
       "      <td>0.324052</td>\n",
       "      <td>0.002311</td>\n",
       "    </tr>\n",
       "    <tr>\n",
       "      <th>5</th>\n",
       "      <td>{'C': 0.7}</td>\n",
       "      <td>0.324056</td>\n",
       "      <td>0.002311</td>\n",
       "    </tr>\n",
       "    <tr>\n",
       "      <th>6</th>\n",
       "      <td>{'C': 0.75}</td>\n",
       "      <td>0.324061</td>\n",
       "      <td>0.002312</td>\n",
       "    </tr>\n",
       "  </tbody>\n",
       "</table>\n",
       "</div>"
      ],
      "text/plain": [
       "         param  val_loss_mean  val_loss_std\n",
       "0  {'C': 0.45}       0.324048      0.002306\n",
       "1   {'C': 0.5}       0.324045      0.002307\n",
       "2  {'C': 0.55}       0.324046      0.002308\n",
       "3   {'C': 0.6}       0.324048      0.002309\n",
       "4  {'C': 0.65}       0.324052      0.002311\n",
       "5   {'C': 0.7}       0.324056      0.002311\n",
       "6  {'C': 0.75}       0.324061      0.002312"
      ]
     },
     "execution_count": 45,
     "metadata": {},
     "output_type": "execute_result"
    }
   ],
   "source": [
    "default_params = {\n",
    "    'C': 1.0,\n",
    "    'penalty': 'l2', \n",
    "    'random_state': SEED\n",
    "}\n",
    "\n",
    "try_params = \\\n",
    "[\n",
    "    {\n",
    "        'C': [0.45, 0.5, .55, 0.6, 0.65, .7, .75],\n",
    "    }\n",
    "]\n",
    "\n",
    "fit_params(train_seqno_price_img, train_y, ml, default_params, try_params, fit_params=None, seed=SEED,\n",
    "           loss_func=log_loss, predict_proba=True)"
   ]
  },
  {
   "cell_type": "code",
   "execution_count": 15,
   "metadata": {},
   "outputs": [
    {
     "name": "stdout",
     "output_type": "stream",
     "text": [
      "Fold 1 completed.\n",
      "Fold 2 completed.\n",
      "Fold 3 completed.\n",
      "Fold 4 completed.\n",
      "Fold 5 completed.\n"
     ]
    }
   ],
   "source": [
    "default_params = {\n",
    "    'C': .5,\n",
    "    'penalty': 'l2', \n",
    "    'random_state': SEED\n",
    "}\n",
    "\n",
    "rg_oof_val_pred, rg_oof_test_pred, models = get_oof_predictions(train_seqno_price_img, train_y, test_seqno_price_img, ml, \n",
    "                                                                  default_params, seed=SEED, fit_params=None, \n",
    "                                                                  use_eval_set=False, predict_proba=True)\n",
    "\n",
    "pd.DataFrame(data=rg_oof_val_pred, columns=['seqno_price_img_lr_pred']).to_csv('seqno_price_img_lr_oof_val_pred.csv', index=False)\n",
    "pd.DataFrame(data=rg_oof_test_pred, columns=['seqno_price_img_lr_pred']).to_csv('seqno_price_img_lr_oof_test_pred.csv', index=False)"
   ]
  },
  {
   "cell_type": "code",
   "execution_count": 16,
   "metadata": {
    "collapsed": true
   },
   "outputs": [],
   "source": [
    "del train_seqno_price_img, test_seqno_price_img"
   ]
  }
 ],
 "metadata": {
  "kernelspec": {
   "display_name": "Python 3",
   "language": "python",
   "name": "python3"
  },
  "language_info": {
   "codemirror_mode": {
    "name": "ipython",
    "version": 3
   },
   "file_extension": ".py",
   "mimetype": "text/x-python",
   "name": "python",
   "nbconvert_exporter": "python",
   "pygments_lexer": "ipython3",
   "version": "3.6.2"
  }
 },
 "nbformat": 4,
 "nbformat_minor": 2
}
